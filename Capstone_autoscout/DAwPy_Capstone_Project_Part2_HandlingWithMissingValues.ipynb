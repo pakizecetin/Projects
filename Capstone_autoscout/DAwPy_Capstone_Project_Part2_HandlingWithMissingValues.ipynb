{
 "cells": [
  {
   "cell_type": "code",
   "execution_count": 841,
   "metadata": {},
   "outputs": [],
   "source": [
    "import numpy as np\n",
    "import pandas as pd\n",
    "import seaborn as sns\n",
    "import matplotlib.pyplot as plt\n",
    "from scipy import stats\n",
    "from scipy.stats.mstats import winsorize\n",
    "\n",
    "import warnings\n",
    "warnings.filterwarnings(\"ignore\")\n",
    "warnings.warn(\"this will not show\")\n",
    "\n",
    "%matplotlib inline\n",
    "# %matplotlib notebook\n",
    "\n",
    "plt.rcParams[\"figure.figsize\"] = (10, 6)\n",
    "# plt.rcParams['figure.dpi'] = 100\n",
    "\n",
    "sns.set_style(\"whitegrid\")\n",
    "pd.set_option('display.float_format', lambda x: '%.3f' % x)\n"
   ]
  },
  {
   "cell_type": "code",
   "execution_count": 842,
   "metadata": {},
   "outputs": [
    {
     "data": {
      "text/html": [
       "<div><div id=20eefbbd-d112-4728-8126-e25bf0db65b7 style=\"display:none; background-color:#9D6CFF; color:white; width:200px; height:30px; padding-left:5px; border-radius:4px; flex-direction:row; justify-content:space-around; align-items:center;\" onmouseover=\"this.style.backgroundColor='#BA9BF8'\" onmouseout=\"this.style.backgroundColor='#9D6CFF'\" onclick=\"window.commands?.execute('create-mitosheet-from-dataframe-output');\">See Full Dataframe in Mito</div> <script> if (window.commands?.hasCommand('create-mitosheet-from-dataframe-output')) document.getElementById('20eefbbd-d112-4728-8126-e25bf0db65b7').style.display = 'flex' </script> <table border=\"1\" class=\"dataframe\">\n",
       "  <thead>\n",
       "    <tr style=\"text-align: right;\">\n",
       "      <th></th>\n",
       "      <th>0</th>\n",
       "      <th>1</th>\n",
       "      <th>2</th>\n",
       "    </tr>\n",
       "  </thead>\n",
       "  <tbody>\n",
       "    <tr>\n",
       "      <th>make_model</th>\n",
       "      <td>Audi A1</td>\n",
       "      <td>Audi A1</td>\n",
       "      <td>Audi A1</td>\n",
       "    </tr>\n",
       "    <tr>\n",
       "      <th>body_type</th>\n",
       "      <td>Sedans</td>\n",
       "      <td>Sedans</td>\n",
       "      <td>Sedans</td>\n",
       "    </tr>\n",
       "    <tr>\n",
       "      <th>price</th>\n",
       "      <td>15770</td>\n",
       "      <td>14500</td>\n",
       "      <td>14640</td>\n",
       "    </tr>\n",
       "    <tr>\n",
       "      <th>vat</th>\n",
       "      <td>VAT deductible</td>\n",
       "      <td>Price negotiable</td>\n",
       "      <td>VAT deductible</td>\n",
       "    </tr>\n",
       "    <tr>\n",
       "      <th>km</th>\n",
       "      <td>56013.000</td>\n",
       "      <td>80000.000</td>\n",
       "      <td>83450.000</td>\n",
       "    </tr>\n",
       "    <tr>\n",
       "      <th>...</th>\n",
       "      <td>...</td>\n",
       "      <td>...</td>\n",
       "      <td>...</td>\n",
       "    </tr>\n",
       "    <tr>\n",
       "      <th>displacement_cc</th>\n",
       "      <td>1422.000</td>\n",
       "      <td>1798.000</td>\n",
       "      <td>1598.000</td>\n",
       "    </tr>\n",
       "    <tr>\n",
       "      <th>weight_kg</th>\n",
       "      <td>1220.000</td>\n",
       "      <td>1255.000</td>\n",
       "      <td>NaN</td>\n",
       "    </tr>\n",
       "    <tr>\n",
       "      <th>cons_comb</th>\n",
       "      <td>3.800</td>\n",
       "      <td>5.600</td>\n",
       "      <td>3.800</td>\n",
       "    </tr>\n",
       "    <tr>\n",
       "      <th>cons_city</th>\n",
       "      <td>4.300</td>\n",
       "      <td>7.100</td>\n",
       "      <td>4.400</td>\n",
       "    </tr>\n",
       "    <tr>\n",
       "      <th>cons_country</th>\n",
       "      <td>3.500</td>\n",
       "      <td>4.700</td>\n",
       "      <td>3.400</td>\n",
       "    </tr>\n",
       "  </tbody>\n",
       "</table></div>"
      ],
      "text/plain": [
       "                                                                     0  \\\n",
       "make_model                                                     Audi A1   \n",
       "body_type                                                       Sedans   \n",
       "price                                                            15770   \n",
       "vat                                                     VAT deductible   \n",
       "km                                                           56013.000   \n",
       "previous_owners                                                  2.000   \n",
       "next_inspection                                                06/2021   \n",
       "inspection_new                                                     Yes   \n",
       "body_color                                                       Black   \n",
       "paint_type                                                    Metallic   \n",
       "num_of_doors                                                     5.000   \n",
       "num_of_seats                                                     5.000   \n",
       "gearing_type                                                 Automatic   \n",
       "cylinders                                                        3.000   \n",
       "drive_chain                                                      front   \n",
       "fuel                                                            Diesel   \n",
       "consumption          [['3.8 l/100 km (comb)'], ['4.3 l/100 km (city...   \n",
       "co2_emission                                                    99.000   \n",
       "emission_class                                                  Euro 6   \n",
       "comfort_convenience  Air conditioning, Armrest, Automatic climate c...   \n",
       "entertainment_media  Bluetooth, Hands-free equipment, On-board comp...   \n",
       "extras                Alloy wheels, Catalytic Converter, Voice Control   \n",
       "safety_security      ABS, Central door lock, Daytime running lights...   \n",
       "gears                                                              NaN   \n",
       "age                                                              3.000   \n",
       "hp_kw                                                           66.000   \n",
       "type                                                              Used   \n",
       "warranty_months                                                    NaN   \n",
       "upholstery_type                                                  Cloth   \n",
       "upholstery_color                                                 Black   \n",
       "displacement_cc                                               1422.000   \n",
       "weight_kg                                                     1220.000   \n",
       "cons_comb                                                        3.800   \n",
       "cons_city                                                        4.300   \n",
       "cons_country                                                     3.500   \n",
       "\n",
       "                                                                     1  \\\n",
       "make_model                                                     Audi A1   \n",
       "body_type                                                       Sedans   \n",
       "price                                                            14500   \n",
       "vat                                                   Price negotiable   \n",
       "km                                                           80000.000   \n",
       "previous_owners                                                    NaN   \n",
       "next_inspection                                                    NaN   \n",
       "inspection_new                                                     NaN   \n",
       "body_color                                                         Red   \n",
       "paint_type                                                         NaN   \n",
       "num_of_doors                                                     3.000   \n",
       "num_of_seats                                                     4.000   \n",
       "gearing_type                                                 Automatic   \n",
       "cylinders                                                        4.000   \n",
       "drive_chain                                                      front   \n",
       "fuel                                                           Benzine   \n",
       "consumption          [['5.6 l/100 km (comb)'], ['7.1 l/100 km (city...   \n",
       "co2_emission                                                   129.000   \n",
       "emission_class                                                  Euro 6   \n",
       "comfort_convenience  Air conditioning, Automatic climate control, H...   \n",
       "entertainment_media  Bluetooth, Hands-free equipment, On-board comp...   \n",
       "extras               Alloy wheels, Sport seats, Sport suspension, V...   \n",
       "safety_security      ABS, Central door lock, Central door lock with...   \n",
       "gears                                                            7.000   \n",
       "age                                                              2.000   \n",
       "hp_kw                                                          141.000   \n",
       "type                                                              Used   \n",
       "warranty_months                                                    NaN   \n",
       "upholstery_type                                                  Cloth   \n",
       "upholstery_color                                                  Grey   \n",
       "displacement_cc                                               1798.000   \n",
       "weight_kg                                                     1255.000   \n",
       "cons_comb                                                        5.600   \n",
       "cons_city                                                        7.100   \n",
       "cons_country                                                     4.700   \n",
       "\n",
       "                                                                     2  \n",
       "make_model                                                     Audi A1  \n",
       "body_type                                                       Sedans  \n",
       "price                                                            14640  \n",
       "vat                                                     VAT deductible  \n",
       "km                                                           83450.000  \n",
       "previous_owners                                                  1.000  \n",
       "next_inspection                                                    NaN  \n",
       "inspection_new                                                     NaN  \n",
       "body_color                                                       Black  \n",
       "paint_type                                                    Metallic  \n",
       "num_of_doors                                                     4.000  \n",
       "num_of_seats                                                     4.000  \n",
       "gearing_type                                                 Automatic  \n",
       "cylinders                                                          NaN  \n",
       "drive_chain                                                      front  \n",
       "fuel                                                            Diesel  \n",
       "consumption          [['3.8 l/100 km (comb)'], ['4.4 l/100 km (city...  \n",
       "co2_emission                                                    99.000  \n",
       "emission_class                                                  Euro 6  \n",
       "comfort_convenience  Air conditioning, Cruise control, Electrical s...  \n",
       "entertainment_media                             MP3, On-board computer  \n",
       "extras                                     Alloy wheels, Voice Control  \n",
       "safety_security      ABS, Central door lock, Daytime running lights...  \n",
       "gears                                                              NaN  \n",
       "age                                                              3.000  \n",
       "hp_kw                                                           85.000  \n",
       "type                                                              Used  \n",
       "warranty_months                                                    NaN  \n",
       "upholstery_type                                                  Cloth  \n",
       "upholstery_color                                                 Black  \n",
       "displacement_cc                                               1598.000  \n",
       "weight_kg                                                          NaN  \n",
       "cons_comb                                                        3.800  \n",
       "cons_city                                                        4.400  \n",
       "cons_country                                                     3.400  "
      ]
     },
     "execution_count": 842,
     "metadata": {},
     "output_type": "execute_result"
    }
   ],
   "source": [
    "df0 = pd.read_csv(\"autoscout_cleaned.csv\")\n",
    "df = df0.copy()\n",
    "df.head(3).T\n"
   ]
  },
  {
   "cell_type": "code",
   "execution_count": 843,
   "metadata": {},
   "outputs": [
    {
     "data": {
      "text/plain": [
       "(15919, 35)"
      ]
     },
     "execution_count": 843,
     "metadata": {},
     "output_type": "execute_result"
    }
   ],
   "source": [
    "df.shape"
   ]
  },
  {
   "cell_type": "code",
   "execution_count": 844,
   "metadata": {},
   "outputs": [
    {
     "data": {
      "text/html": [
       "<div><div id=76192931-2984-4ccd-8001-64d2beedf468 style=\"display:none; background-color:#9D6CFF; color:white; width:200px; height:30px; padding-left:5px; border-radius:4px; flex-direction:row; justify-content:space-around; align-items:center;\" onmouseover=\"this.style.backgroundColor='#BA9BF8'\" onmouseout=\"this.style.backgroundColor='#9D6CFF'\" onclick=\"window.commands?.execute('create-mitosheet-from-dataframe-output');\">See Full Dataframe in Mito</div> <script> if (window.commands?.hasCommand('create-mitosheet-from-dataframe-output')) document.getElementById('76192931-2984-4ccd-8001-64d2beedf468').style.display = 'flex' </script> <table border=\"1\" class=\"dataframe\">\n",
       "  <thead>\n",
       "    <tr style=\"text-align: right;\">\n",
       "      <th></th>\n",
       "      <th>price</th>\n",
       "      <th>km</th>\n",
       "      <th>previous_owners</th>\n",
       "      <th>num_of_doors</th>\n",
       "      <th>num_of_seats</th>\n",
       "      <th>cylinders</th>\n",
       "      <th>co2_emission</th>\n",
       "      <th>gears</th>\n",
       "      <th>age</th>\n",
       "      <th>hp_kw</th>\n",
       "      <th>warranty_months</th>\n",
       "      <th>displacement_cc</th>\n",
       "      <th>weight_kg</th>\n",
       "      <th>cons_comb</th>\n",
       "      <th>cons_city</th>\n",
       "      <th>cons_country</th>\n",
       "    </tr>\n",
       "  </thead>\n",
       "  <tbody>\n",
       "    <tr>\n",
       "      <th>count</th>\n",
       "      <td>15919.000</td>\n",
       "      <td>14895.000</td>\n",
       "      <td>9279.000</td>\n",
       "      <td>15707.000</td>\n",
       "      <td>14942.000</td>\n",
       "      <td>10239.000</td>\n",
       "      <td>13483.000</td>\n",
       "      <td>11207.000</td>\n",
       "      <td>14322.000</td>\n",
       "      <td>15831.000</td>\n",
       "      <td>4853.000</td>\n",
       "      <td>15423.000</td>\n",
       "      <td>8945.000</td>\n",
       "      <td>13886.000</td>\n",
       "      <td>13483.000</td>\n",
       "      <td>13543.000</td>\n",
       "    </tr>\n",
       "    <tr>\n",
       "      <th>mean</th>\n",
       "      <td>18019.897</td>\n",
       "      <td>34130.128</td>\n",
       "      <td>1.068</td>\n",
       "      <td>4.656</td>\n",
       "      <td>4.950</td>\n",
       "      <td>3.797</td>\n",
       "      <td>109.291</td>\n",
       "      <td>5.925</td>\n",
       "      <td>1.542</td>\n",
       "      <td>88.368</td>\n",
       "      <td>21.927</td>\n",
       "      <td>1423.541</td>\n",
       "      <td>1351.107</td>\n",
       "      <td>4.896</td>\n",
       "      <td>5.948</td>\n",
       "      <td>4.238</td>\n",
       "    </tr>\n",
       "    <tr>\n",
       "      <th>std</th>\n",
       "      <td>7386.169</td>\n",
       "      <td>37352.978</td>\n",
       "      <td>0.330</td>\n",
       "      <td>0.645</td>\n",
       "      <td>0.490</td>\n",
       "      <td>0.415</td>\n",
       "      <td>36.193</td>\n",
       "      <td>0.848</td>\n",
       "      <td>1.077</td>\n",
       "      <td>26.835</td>\n",
       "      <td>15.771</td>\n",
       "      <td>333.531</td>\n",
       "      <td>220.662</td>\n",
       "      <td>1.635</td>\n",
       "      <td>1.967</td>\n",
       "      <td>1.194</td>\n",
       "    </tr>\n",
       "    <tr>\n",
       "      <th>min</th>\n",
       "      <td>13.000</td>\n",
       "      <td>0.000</td>\n",
       "      <td>0.000</td>\n",
       "      <td>1.000</td>\n",
       "      <td>2.000</td>\n",
       "      <td>1.000</td>\n",
       "      <td>0.000</td>\n",
       "      <td>1.000</td>\n",
       "      <td>0.000</td>\n",
       "      <td>1.000</td>\n",
       "      <td>1.000</td>\n",
       "      <td>1.000</td>\n",
       "      <td>1.000</td>\n",
       "      <td>0.000</td>\n",
       "      <td>0.000</td>\n",
       "      <td>0.000</td>\n",
       "    </tr>\n",
       "    <tr>\n",
       "      <th>25%</th>\n",
       "      <td>12850.000</td>\n",
       "      <td>5153.000</td>\n",
       "      <td>1.000</td>\n",
       "      <td>4.000</td>\n",
       "      <td>5.000</td>\n",
       "      <td>4.000</td>\n",
       "      <td>103.000</td>\n",
       "      <td>5.000</td>\n",
       "      <td>1.000</td>\n",
       "      <td>66.000</td>\n",
       "      <td>12.000</td>\n",
       "      <td>1229.000</td>\n",
       "      <td>1165.000</td>\n",
       "      <td>4.100</td>\n",
       "      <td>4.700</td>\n",
       "      <td>3.700</td>\n",
       "    </tr>\n",
       "    <tr>\n",
       "      <th>50%</th>\n",
       "      <td>16900.000</td>\n",
       "      <td>22740.000</td>\n",
       "      <td>1.000</td>\n",
       "      <td>5.000</td>\n",
       "      <td>5.000</td>\n",
       "      <td>4.000</td>\n",
       "      <td>114.000</td>\n",
       "      <td>6.000</td>\n",
       "      <td>1.000</td>\n",
       "      <td>85.000</td>\n",
       "      <td>12.000</td>\n",
       "      <td>1461.000</td>\n",
       "      <td>1288.000</td>\n",
       "      <td>4.800</td>\n",
       "      <td>5.800</td>\n",
       "      <td>4.200</td>\n",
       "    </tr>\n",
       "    <tr>\n",
       "      <th>75%</th>\n",
       "      <td>21900.000</td>\n",
       "      <td>49371.500</td>\n",
       "      <td>1.000</td>\n",
       "      <td>5.000</td>\n",
       "      <td>5.000</td>\n",
       "      <td>4.000</td>\n",
       "      <td>128.000</td>\n",
       "      <td>6.000</td>\n",
       "      <td>3.000</td>\n",
       "      <td>101.000</td>\n",
       "      <td>24.000</td>\n",
       "      <td>1598.000</td>\n",
       "      <td>1487.000</td>\n",
       "      <td>5.500</td>\n",
       "      <td>7.000</td>\n",
       "      <td>4.600</td>\n",
       "    </tr>\n",
       "    <tr>\n",
       "      <th>max</th>\n",
       "      <td>74600.000</td>\n",
       "      <td>317000.000</td>\n",
       "      <td>4.000</td>\n",
       "      <td>7.000</td>\n",
       "      <td>7.000</td>\n",
       "      <td>8.000</td>\n",
       "      <td>990.000</td>\n",
       "      <td>50.000</td>\n",
       "      <td>3.000</td>\n",
       "      <td>294.000</td>\n",
       "      <td>72.000</td>\n",
       "      <td>16000.000</td>\n",
       "      <td>2471.000</td>\n",
       "      <td>55.000</td>\n",
       "      <td>66.000</td>\n",
       "      <td>44.000</td>\n",
       "    </tr>\n",
       "  </tbody>\n",
       "</table></div>"
      ],
      "text/plain": [
       "          price         km  previous_owners  num_of_doors  num_of_seats  \\\n",
       "count 15919.000  14895.000         9279.000     15707.000     14942.000   \n",
       "mean  18019.897  34130.128            1.068         4.656         4.950   \n",
       "std    7386.169  37352.978            0.330         0.645         0.490   \n",
       "min      13.000      0.000            0.000         1.000         2.000   \n",
       "25%   12850.000   5153.000            1.000         4.000         5.000   \n",
       "50%   16900.000  22740.000            1.000         5.000         5.000   \n",
       "75%   21900.000  49371.500            1.000         5.000         5.000   \n",
       "max   74600.000 317000.000            4.000         7.000         7.000   \n",
       "\n",
       "       cylinders  co2_emission     gears       age     hp_kw  warranty_months  \\\n",
       "count  10239.000     13483.000 11207.000 14322.000 15831.000         4853.000   \n",
       "mean       3.797       109.291     5.925     1.542    88.368           21.927   \n",
       "std        0.415        36.193     0.848     1.077    26.835           15.771   \n",
       "min        1.000         0.000     1.000     0.000     1.000            1.000   \n",
       "25%        4.000       103.000     5.000     1.000    66.000           12.000   \n",
       "50%        4.000       114.000     6.000     1.000    85.000           12.000   \n",
       "75%        4.000       128.000     6.000     3.000   101.000           24.000   \n",
       "max        8.000       990.000    50.000     3.000   294.000           72.000   \n",
       "\n",
       "       displacement_cc  weight_kg  cons_comb  cons_city  cons_country  \n",
       "count        15423.000   8945.000  13886.000  13483.000     13543.000  \n",
       "mean          1423.541   1351.107      4.896      5.948         4.238  \n",
       "std            333.531    220.662      1.635      1.967         1.194  \n",
       "min              1.000      1.000      0.000      0.000         0.000  \n",
       "25%           1229.000   1165.000      4.100      4.700         3.700  \n",
       "50%           1461.000   1288.000      4.800      5.800         4.200  \n",
       "75%           1598.000   1487.000      5.500      7.000         4.600  \n",
       "max          16000.000   2471.000     55.000     66.000        44.000  "
      ]
     },
     "execution_count": 844,
     "metadata": {},
     "output_type": "execute_result"
    }
   ],
   "source": [
    "df.describe()"
   ]
  },
  {
   "cell_type": "code",
   "execution_count": 845,
   "metadata": {},
   "outputs": [
    {
     "data": {
      "text/plain": [
       "Index(['make_model', 'body_type', 'price', 'vat', 'km', 'previous_owners',\n",
       "       'next_inspection', 'inspection_new', 'body_color', 'paint_type',\n",
       "       'num_of_doors', 'num_of_seats', 'gearing_type', 'cylinders',\n",
       "       'drive_chain', 'fuel', 'consumption', 'co2_emission', 'emission_class',\n",
       "       'comfort_convenience', 'entertainment_media', 'extras',\n",
       "       'safety_security', 'gears', 'age', 'hp_kw', 'type', 'warranty_months',\n",
       "       'upholstery_type', 'upholstery_color', 'displacement_cc', 'weight_kg',\n",
       "       'cons_comb', 'cons_city', 'cons_country'],\n",
       "      dtype='object')"
      ]
     },
     "execution_count": 845,
     "metadata": {},
     "output_type": "execute_result"
    }
   ],
   "source": [
    "df.columns"
   ]
  },
  {
   "cell_type": "code",
   "execution_count": 846,
   "metadata": {},
   "outputs": [
    {
     "data": {
      "text/plain": [
       "next_inspection       77.794\n",
       "inspection_new        75.300\n",
       "warranty_months       69.514\n",
       "weight_kg             43.809\n",
       "drive_chain           43.081\n",
       "previous_owners       41.711\n",
       "paint_type            36.259\n",
       "cylinders             35.681\n",
       "upholstery_color      31.899\n",
       "upholstery_type       30.599\n",
       "gears                 29.600\n",
       "vat                   28.350\n",
       "emission_class        22.790\n",
       "extras                18.607\n",
       "co2_emission          15.302\n",
       "cons_city             15.302\n",
       "cons_country          14.926\n",
       "cons_comb             12.771\n",
       "consumption           11.973\n",
       "age                   10.032\n",
       "entertainment_media    8.631\n",
       "km                     6.433\n",
       "safety_security        6.169\n",
       "num_of_seats           6.137\n",
       "comfort_convenience    5.779\n",
       "body_color             3.750\n",
       "displacement_cc        3.116\n",
       "num_of_doors           1.332\n",
       "hp_kw                  0.553\n",
       "body_type              0.377\n",
       "type                   0.013\n",
       "gearing_type           0.000\n",
       "fuel                   0.000\n",
       "price                  0.000\n",
       "make_model             0.000\n",
       "dtype: float64"
      ]
     },
     "execution_count": 846,
     "metadata": {},
     "output_type": "execute_result"
    }
   ],
   "source": [
    "(df.isnull().sum()/df.shape[0]*100).sort_values(ascending=False)\n",
    "#(df.isnull().sum()/df.isnull().count()*100).sort_values(ascending=False)\n"
   ]
  },
  {
   "cell_type": "code",
   "execution_count": 847,
   "metadata": {},
   "outputs": [
    {
     "data": {
      "text/plain": [
       "['body_type',\n",
       " 'vat',\n",
       " 'km',\n",
       " 'previous_owners',\n",
       " 'next_inspection',\n",
       " 'inspection_new',\n",
       " 'body_color',\n",
       " 'paint_type',\n",
       " 'num_of_doors',\n",
       " 'num_of_seats',\n",
       " 'cylinders',\n",
       " 'drive_chain',\n",
       " 'consumption',\n",
       " 'co2_emission',\n",
       " 'emission_class',\n",
       " 'comfort_convenience',\n",
       " 'entertainment_media',\n",
       " 'extras',\n",
       " 'safety_security',\n",
       " 'gears',\n",
       " 'age',\n",
       " 'hp_kw',\n",
       " 'type',\n",
       " 'warranty_months',\n",
       " 'upholstery_type',\n",
       " 'upholstery_color',\n",
       " 'displacement_cc',\n",
       " 'weight_kg',\n",
       " 'cons_comb',\n",
       " 'cons_city',\n",
       " 'cons_country']"
      ]
     },
     "execution_count": 847,
     "metadata": {},
     "output_type": "execute_result"
    }
   ],
   "source": [
    "miss_val = []\n",
    "[miss_val.append(i) for i in df.columns if any(df[i].isnull())]  \n",
    "# df[i].isnull().any() same :D\n",
    "miss_val\n"
   ]
  },
  {
   "cell_type": "code",
   "execution_count": 848,
   "metadata": {},
   "outputs": [
    {
     "data": {
      "text/html": [
       "<div><div id=6766b351-3a08-4813-8a57-51b8c87584c4 style=\"display:none; background-color:#9D6CFF; color:white; width:200px; height:30px; padding-left:5px; border-radius:4px; flex-direction:row; justify-content:space-around; align-items:center;\" onmouseover=\"this.style.backgroundColor='#BA9BF8'\" onmouseout=\"this.style.backgroundColor='#9D6CFF'\" onclick=\"window.commands?.execute('create-mitosheet-from-dataframe-output');\">See Full Dataframe in Mito</div> <script> if (window.commands?.hasCommand('create-mitosheet-from-dataframe-output')) document.getElementById('6766b351-3a08-4813-8a57-51b8c87584c4').style.display = 'flex' </script> <table border=\"1\" class=\"dataframe\">\n",
       "  <thead>\n",
       "    <tr style=\"text-align: right;\">\n",
       "      <th></th>\n",
       "      <th>missing_count</th>\n",
       "      <th>missing_percentage</th>\n",
       "    </tr>\n",
       "  </thead>\n",
       "  <tbody>\n",
       "    <tr>\n",
       "      <th>next_inspection</th>\n",
       "      <td>12384</td>\n",
       "      <td>77.794</td>\n",
       "    </tr>\n",
       "    <tr>\n",
       "      <th>inspection_new</th>\n",
       "      <td>11987</td>\n",
       "      <td>75.300</td>\n",
       "    </tr>\n",
       "    <tr>\n",
       "      <th>warranty_months</th>\n",
       "      <td>11066</td>\n",
       "      <td>69.514</td>\n",
       "    </tr>\n",
       "    <tr>\n",
       "      <th>weight_kg</th>\n",
       "      <td>6974</td>\n",
       "      <td>43.809</td>\n",
       "    </tr>\n",
       "    <tr>\n",
       "      <th>drive_chain</th>\n",
       "      <td>6858</td>\n",
       "      <td>43.081</td>\n",
       "    </tr>\n",
       "    <tr>\n",
       "      <th>...</th>\n",
       "      <td>...</td>\n",
       "      <td>...</td>\n",
       "    </tr>\n",
       "    <tr>\n",
       "      <th>type</th>\n",
       "      <td>2</td>\n",
       "      <td>0.013</td>\n",
       "    </tr>\n",
       "    <tr>\n",
       "      <th>gearing_type</th>\n",
       "      <td>0</td>\n",
       "      <td>0.000</td>\n",
       "    </tr>\n",
       "    <tr>\n",
       "      <th>fuel</th>\n",
       "      <td>0</td>\n",
       "      <td>0.000</td>\n",
       "    </tr>\n",
       "    <tr>\n",
       "      <th>price</th>\n",
       "      <td>0</td>\n",
       "      <td>0.000</td>\n",
       "    </tr>\n",
       "    <tr>\n",
       "      <th>make_model</th>\n",
       "      <td>0</td>\n",
       "      <td>0.000</td>\n",
       "    </tr>\n",
       "  </tbody>\n",
       "</table></div>"
      ],
      "text/plain": [
       "                     missing_count  missing_percentage\n",
       "next_inspection              12384              77.794\n",
       "inspection_new               11987              75.300\n",
       "warranty_months              11066              69.514\n",
       "weight_kg                     6974              43.809\n",
       "drive_chain                   6858              43.081\n",
       "previous_owners               6640              41.711\n",
       "paint_type                    5772              36.259\n",
       "cylinders                     5680              35.681\n",
       "upholstery_color              5078              31.899\n",
       "upholstery_type               4871              30.599\n",
       "gears                         4712              29.600\n",
       "vat                           4513              28.350\n",
       "emission_class                3628              22.790\n",
       "extras                        2962              18.607\n",
       "co2_emission                  2436              15.302\n",
       "cons_city                     2436              15.302\n",
       "cons_country                  2376              14.926\n",
       "cons_comb                     2033              12.771\n",
       "consumption                   1906              11.973\n",
       "age                           1597              10.032\n",
       "entertainment_media           1374               8.631\n",
       "km                            1024               6.433\n",
       "safety_security                982               6.169\n",
       "num_of_seats                   977               6.137\n",
       "comfort_convenience            920               5.779\n",
       "body_color                     597               3.750\n",
       "displacement_cc                496               3.116\n",
       "num_of_doors                   212               1.332\n",
       "hp_kw                           88               0.553\n",
       "body_type                       60               0.377\n",
       "type                             2               0.013\n",
       "gearing_type                     0               0.000\n",
       "fuel                             0               0.000\n",
       "price                            0               0.000\n",
       "make_model                       0               0.000"
      ]
     },
     "execution_count": 848,
     "metadata": {},
     "output_type": "execute_result"
    }
   ],
   "source": [
    "missing_count = df.isnull().sum().sort_values(ascending=False)\n",
    "missing_per = (df.isnull().sum()/df.shape[0]*100).sort_values(ascending=False)\n",
    "\n",
    "missing_df = pd.concat({\"missing_count\": missing_count,\n",
    "                       \"missing_percentage\": missing_per}, axis=1)\n",
    "missing_df\n"
   ]
  },
  {
   "cell_type": "markdown",
   "metadata": {},
   "source": [
    "### Examining and filling the missing values of the features one by one"
   ]
  },
  {
   "cell_type": "markdown",
   "metadata": {},
   "source": [
    "### warranty_months"
   ]
  },
  {
   "cell_type": "code",
   "execution_count": 849,
   "metadata": {},
   "outputs": [
    {
     "name": "stdout",
     "output_type": "stream",
     "text": [
      "\n",
      "Percentage of Missing Values :  69.51 \n",
      "\n",
      "Number of Missings           :  11066 \n",
      "\n",
      "Number of Uniques            :  41 \n",
      "\n",
      "Value counts                 : \n",
      "\n",
      " NaN       11066\n",
      "12.000     2594\n",
      "24.000     1118\n",
      "60.000      401\n",
      "36.000      279\n",
      "48.000      149\n",
      "6.000       125\n",
      "72.000       59\n",
      "3.000        33\n",
      "23.000       11\n",
      "18.000       10\n",
      "20.000        7\n",
      "25.000        6\n",
      "2.000         5\n",
      "50.000        4\n",
      "26.000        4\n",
      "16.000        4\n",
      "4.000         3\n",
      "1.000         3\n",
      "19.000        3\n",
      "34.000        3\n",
      "13.000        3\n",
      "28.000        2\n",
      "22.000        2\n",
      "14.000        2\n",
      "11.000        2\n",
      "46.000        2\n",
      "21.000        2\n",
      "9.000         2\n",
      "17.000        2\n",
      "45.000        2\n",
      "33.000        1\n",
      "40.000        1\n",
      "65.000        1\n",
      "10.000        1\n",
      "15.000        1\n",
      "7.000         1\n",
      "8.000         1\n",
      "56.000        1\n",
      "49.000        1\n",
      "47.000        1\n",
      "30.000        1\n",
      "Name: warranty_months, dtype: int64\n"
     ]
    }
   ],
   "source": [
    "print('\\n''Percentage of Missing Values : ', round(df['warranty_months'].isnull().sum()/df.shape[0]*100, 2), '\\n')\n",
    "print(\"Number of Missings           : \",\n",
    "      df['warranty_months'].isnull().sum(), '\\n')\n",
    "print(\"Number of Uniques            : \", df['warranty_months'].nunique(), '\\n')\n",
    "print('Value counts                 : ''\\n''\\n',df['warranty_months'].value_counts(dropna=False))\n"
   ]
  },
  {
   "cell_type": "code",
   "execution_count": 850,
   "metadata": {},
   "outputs": [
    {
     "data": {
      "text/plain": [
       "dtype('float64')"
      ]
     },
     "execution_count": 850,
     "metadata": {},
     "output_type": "execute_result"
    }
   ],
   "source": [
    "df.dtypes['warranty_months']\n"
   ]
  },
  {
   "cell_type": "code",
   "execution_count": 851,
   "metadata": {},
   "outputs": [
    {
     "data": {
      "text/plain": [
       "False"
      ]
     },
     "execution_count": 851,
     "metadata": {},
     "output_type": "execute_result"
    }
   ],
   "source": [
    "df['warranty_months'].isin(['?']).any()"
   ]
  },
  {
   "cell_type": "code",
   "execution_count": 852,
   "metadata": {},
   "outputs": [
    {
     "data": {
      "text/plain": [
       "False"
      ]
     },
     "execution_count": 852,
     "metadata": {},
     "output_type": "execute_result"
    }
   ],
   "source": [
    "df['warranty_months'].isin(['-']).any()\n"
   ]
  },
  {
   "cell_type": "code",
   "execution_count": 853,
   "metadata": {},
   "outputs": [
    {
     "data": {
      "text/plain": [
       "make_model      age  \n",
       "Audi A1         0.000   28.137\n",
       "                1.000   26.300\n",
       "                2.000   17.679\n",
       "                3.000   13.926\n",
       "Audi A2         1.000      NaN\n",
       "Audi A3         0.000   27.171\n",
       "                1.000   21.707\n",
       "                2.000   16.655\n",
       "                3.000   17.112\n",
       "Opel Astra      0.000   39.595\n",
       "                1.000   25.795\n",
       "                2.000   14.988\n",
       "                3.000   24.797\n",
       "Opel Corsa      0.000   29.059\n",
       "                1.000   17.355\n",
       "                2.000   22.148\n",
       "                3.000   27.061\n",
       "Opel Insignia   0.000   33.676\n",
       "                1.000   25.354\n",
       "                2.000   17.024\n",
       "                3.000   15.225\n",
       "Renault Clio    0.000   32.522\n",
       "                1.000   15.686\n",
       "                2.000   16.733\n",
       "                3.000   10.864\n",
       "Renault Duster  0.000   12.000\n",
       "Renault Espace  0.000   32.472\n",
       "                1.000   22.524\n",
       "                2.000   14.934\n",
       "                3.000   12.482\n",
       "Name: warranty_months, dtype: float64"
      ]
     },
     "execution_count": 853,
     "metadata": {},
     "output_type": "execute_result"
    }
   ],
   "source": [
    "df.groupby(['make_model', 'age']).warranty_months.mean()\n"
   ]
  },
  {
   "cell_type": "code",
   "execution_count": 854,
   "metadata": {},
   "outputs": [
    {
     "data": {
      "text/plain": [
       "make_model      age  \n",
       "Audi A1         0.000   28.137\n",
       "                1.000   26.300\n",
       "                2.000   17.679\n",
       "                3.000   13.926\n",
       "Audi A2         1.000      NaN\n",
       "Audi A3         0.000   27.171\n",
       "                1.000   21.707\n",
       "                2.000   16.655\n",
       "                3.000   17.112\n",
       "Opel Astra      0.000   39.595\n",
       "                1.000   25.795\n",
       "                2.000   14.988\n",
       "                3.000   24.797\n",
       "Opel Corsa      0.000   29.059\n",
       "                1.000   17.355\n",
       "                2.000   22.148\n",
       "                3.000   27.061\n",
       "Opel Insignia   0.000   33.676\n",
       "                1.000   25.354\n",
       "                2.000   17.024\n",
       "                3.000   15.225\n",
       "Renault Clio    0.000   32.522\n",
       "                1.000   15.686\n",
       "                2.000   16.733\n",
       "                3.000   10.864\n",
       "Renault Duster  0.000   12.000\n",
       "Renault Espace  0.000   32.472\n",
       "                1.000   22.524\n",
       "                2.000   14.934\n",
       "                3.000   12.482\n",
       "Name: warranty_months, dtype: float64"
      ]
     },
     "execution_count": 854,
     "metadata": {},
     "output_type": "execute_result"
    }
   ],
   "source": [
    "df.groupby(['make_model', 'age'])['warranty_months'].mean()\n"
   ]
  },
  {
   "cell_type": "code",
   "execution_count": 855,
   "metadata": {},
   "outputs": [],
   "source": [
    "df['warranty_months'].fillna(df.groupby(['make_model', 'age'], as_index=True)[\n",
    "    \"warranty_months\"].transform(lambda x: pd.Series.mean(x)), inplace=True)\n"
   ]
  },
  {
   "cell_type": "code",
   "execution_count": 856,
   "metadata": {},
   "outputs": [
    {
     "data": {
      "text/plain": [
       "1283"
      ]
     },
     "execution_count": 856,
     "metadata": {},
     "output_type": "execute_result"
    }
   ],
   "source": [
    "df.warranty_months.isnull().sum()\n",
    "# I still have more missing values!!"
   ]
  },
  {
   "cell_type": "code",
   "execution_count": 857,
   "metadata": {},
   "outputs": [
    {
     "data": {
      "text/html": [
       "<div><div id=41965b29-8f72-476e-9fe1-0d954b28f031 style=\"display:none; background-color:#9D6CFF; color:white; width:200px; height:30px; padding-left:5px; border-radius:4px; flex-direction:row; justify-content:space-around; align-items:center;\" onmouseover=\"this.style.backgroundColor='#BA9BF8'\" onmouseout=\"this.style.backgroundColor='#9D6CFF'\" onclick=\"window.commands?.execute('create-mitosheet-from-dataframe-output');\">See Full Dataframe in Mito</div> <script> if (window.commands?.hasCommand('create-mitosheet-from-dataframe-output')) document.getElementById('41965b29-8f72-476e-9fe1-0d954b28f031').style.display = 'flex' </script> <table border=\"1\" class=\"dataframe\">\n",
       "  <thead>\n",
       "    <tr style=\"text-align: right;\">\n",
       "      <th></th>\n",
       "      <th></th>\n",
       "      <th>count</th>\n",
       "      <th>mean</th>\n",
       "      <th>std</th>\n",
       "      <th>min</th>\n",
       "      <th>25%</th>\n",
       "      <th>50%</th>\n",
       "      <th>75%</th>\n",
       "      <th>max</th>\n",
       "    </tr>\n",
       "    <tr>\n",
       "      <th>make_model</th>\n",
       "      <th>warranty_months</th>\n",
       "      <th></th>\n",
       "      <th></th>\n",
       "      <th></th>\n",
       "      <th></th>\n",
       "      <th></th>\n",
       "      <th></th>\n",
       "      <th></th>\n",
       "      <th></th>\n",
       "    </tr>\n",
       "  </thead>\n",
       "  <tbody>\n",
       "    <tr>\n",
       "      <th rowspan=\"5\" valign=\"top\">Renault Espace</th>\n",
       "      <th>32.472</th>\n",
       "      <td>169.000</td>\n",
       "      <td>40456.497</td>\n",
       "      <td>8081.822</td>\n",
       "      <td>28890.000</td>\n",
       "      <td>32975.000</td>\n",
       "      <td>39070.000</td>\n",
       "      <td>45490.000</td>\n",
       "      <td>64332.000</td>\n",
       "    </tr>\n",
       "    <tr>\n",
       "      <th>48.000</th>\n",
       "      <td>14.000</td>\n",
       "      <td>39806.786</td>\n",
       "      <td>8058.500</td>\n",
       "      <td>19490.000</td>\n",
       "      <td>37035.000</td>\n",
       "      <td>40692.500</td>\n",
       "      <td>46095.000</td>\n",
       "      <td>47990.000</td>\n",
       "    </tr>\n",
       "    <tr>\n",
       "      <th>16.000</th>\n",
       "      <td>1.000</td>\n",
       "      <td>38890.000</td>\n",
       "      <td>NaN</td>\n",
       "      <td>38890.000</td>\n",
       "      <td>38890.000</td>\n",
       "      <td>38890.000</td>\n",
       "      <td>38890.000</td>\n",
       "      <td>38890.000</td>\n",
       "    </tr>\n",
       "    <tr>\n",
       "      <th>45.000</th>\n",
       "      <td>1.000</td>\n",
       "      <td>37950.000</td>\n",
       "      <td>NaN</td>\n",
       "      <td>37950.000</td>\n",
       "      <td>37950.000</td>\n",
       "      <td>37950.000</td>\n",
       "      <td>37950.000</td>\n",
       "      <td>37950.000</td>\n",
       "    </tr>\n",
       "    <tr>\n",
       "      <th>23.000</th>\n",
       "      <td>1.000</td>\n",
       "      <td>37600.000</td>\n",
       "      <td>NaN</td>\n",
       "      <td>37600.000</td>\n",
       "      <td>37600.000</td>\n",
       "      <td>37600.000</td>\n",
       "      <td>37600.000</td>\n",
       "      <td>37600.000</td>\n",
       "    </tr>\n",
       "    <tr>\n",
       "      <th>...</th>\n",
       "      <th>...</th>\n",
       "      <td>...</td>\n",
       "      <td>...</td>\n",
       "      <td>...</td>\n",
       "      <td>...</td>\n",
       "      <td>...</td>\n",
       "      <td>...</td>\n",
       "      <td>...</td>\n",
       "      <td>...</td>\n",
       "    </tr>\n",
       "    <tr>\n",
       "      <th rowspan=\"5\" valign=\"top\">Audi A1</th>\n",
       "      <th>47.000</th>\n",
       "      <td>1.000</td>\n",
       "      <td>16370.000</td>\n",
       "      <td>NaN</td>\n",
       "      <td>16370.000</td>\n",
       "      <td>16370.000</td>\n",
       "      <td>16370.000</td>\n",
       "      <td>16370.000</td>\n",
       "      <td>16370.000</td>\n",
       "    </tr>\n",
       "    <tr>\n",
       "      <th>49.000</th>\n",
       "      <td>1.000</td>\n",
       "      <td>16270.000</td>\n",
       "      <td>NaN</td>\n",
       "      <td>16270.000</td>\n",
       "      <td>16270.000</td>\n",
       "      <td>16270.000</td>\n",
       "      <td>16270.000</td>\n",
       "      <td>16270.000</td>\n",
       "    </tr>\n",
       "    <tr>\n",
       "      <th>46.000</th>\n",
       "      <td>1.000</td>\n",
       "      <td>15980.000</td>\n",
       "      <td>NaN</td>\n",
       "      <td>15980.000</td>\n",
       "      <td>15980.000</td>\n",
       "      <td>15980.000</td>\n",
       "      <td>15980.000</td>\n",
       "      <td>15980.000</td>\n",
       "    </tr>\n",
       "    <tr>\n",
       "      <th>26.000</th>\n",
       "      <td>1.000</td>\n",
       "      <td>15840.000</td>\n",
       "      <td>NaN</td>\n",
       "      <td>15840.000</td>\n",
       "      <td>15840.000</td>\n",
       "      <td>15840.000</td>\n",
       "      <td>15840.000</td>\n",
       "      <td>15840.000</td>\n",
       "    </tr>\n",
       "    <tr>\n",
       "      <th>13.926</th>\n",
       "      <td>480.000</td>\n",
       "      <td>14526.779</td>\n",
       "      <td>1877.216</td>\n",
       "      <td>8999.000</td>\n",
       "      <td>13400.000</td>\n",
       "      <td>13995.000</td>\n",
       "      <td>15750.000</td>\n",
       "      <td>19900.000</td>\n",
       "    </tr>\n",
       "  </tbody>\n",
       "</table></div>"
      ],
      "text/plain": [
       "                                 count      mean      std       min       25%  \\\n",
       "make_model     warranty_months                                                  \n",
       "Renault Espace 32.472          169.000 40456.497 8081.822 28890.000 32975.000   \n",
       "               48.000           14.000 39806.786 8058.500 19490.000 37035.000   \n",
       "               16.000            1.000 38890.000      NaN 38890.000 38890.000   \n",
       "               45.000            1.000 37950.000      NaN 37950.000 37950.000   \n",
       "               23.000            1.000 37600.000      NaN 37600.000 37600.000   \n",
       "...                                ...       ...      ...       ...       ...   \n",
       "Audi A1        47.000            1.000 16370.000      NaN 16370.000 16370.000   \n",
       "               49.000            1.000 16270.000      NaN 16270.000 16270.000   \n",
       "               46.000            1.000 15980.000      NaN 15980.000 15980.000   \n",
       "               26.000            1.000 15840.000      NaN 15840.000 15840.000   \n",
       "               13.926          480.000 14526.779 1877.216  8999.000 13400.000   \n",
       "\n",
       "                                     50%       75%       max  \n",
       "make_model     warranty_months                                \n",
       "Renault Espace 32.472          39070.000 45490.000 64332.000  \n",
       "               48.000          40692.500 46095.000 47990.000  \n",
       "               16.000          38890.000 38890.000 38890.000  \n",
       "               45.000          37950.000 37950.000 37950.000  \n",
       "               23.000          37600.000 37600.000 37600.000  \n",
       "...                                  ...       ...       ...  \n",
       "Audi A1        47.000          16370.000 16370.000 16370.000  \n",
       "               49.000          16270.000 16270.000 16270.000  \n",
       "               46.000          15980.000 15980.000 15980.000  \n",
       "               26.000          15840.000 15840.000 15840.000  \n",
       "               13.926          13995.000 15750.000 19900.000  \n",
       "\n",
       "[149 rows x 8 columns]"
      ]
     },
     "execution_count": 857,
     "metadata": {},
     "output_type": "execute_result"
    }
   ],
   "source": [
    "df.groupby([\"make_model\", \"warranty_months\"]).price.describe().sort_values(\n",
    "    by=[\"make_model\", \"mean\"], ascending=False)\n"
   ]
  },
  {
   "cell_type": "code",
   "execution_count": 858,
   "metadata": {},
   "outputs": [
    {
     "data": {
      "text/html": [
       "<div><div id=a2d6ea61-2012-4e0a-b16d-22dde17041ad style=\"display:none; background-color:#9D6CFF; color:white; width:200px; height:30px; padding-left:5px; border-radius:4px; flex-direction:row; justify-content:space-around; align-items:center;\" onmouseover=\"this.style.backgroundColor='#BA9BF8'\" onmouseout=\"this.style.backgroundColor='#9D6CFF'\" onclick=\"window.commands?.execute('create-mitosheet-from-dataframe-output');\">See Full Dataframe in Mito</div> <script> if (window.commands?.hasCommand('create-mitosheet-from-dataframe-output')) document.getElementById('a2d6ea61-2012-4e0a-b16d-22dde17041ad').style.display = 'flex' </script> <table border=\"1\" class=\"dataframe\">\n",
       "  <thead>\n",
       "    <tr style=\"text-align: right;\">\n",
       "      <th></th>\n",
       "      <th></th>\n",
       "      <th></th>\n",
       "      <th>count</th>\n",
       "      <th>mean</th>\n",
       "      <th>std</th>\n",
       "      <th>min</th>\n",
       "      <th>25%</th>\n",
       "      <th>50%</th>\n",
       "      <th>75%</th>\n",
       "      <th>max</th>\n",
       "    </tr>\n",
       "    <tr>\n",
       "      <th>make_model</th>\n",
       "      <th>age</th>\n",
       "      <th>warranty_months</th>\n",
       "      <th></th>\n",
       "      <th></th>\n",
       "      <th></th>\n",
       "      <th></th>\n",
       "      <th></th>\n",
       "      <th></th>\n",
       "      <th></th>\n",
       "      <th></th>\n",
       "    </tr>\n",
       "  </thead>\n",
       "  <tbody>\n",
       "    <tr>\n",
       "      <th rowspan=\"5\" valign=\"top\">Audi A1</th>\n",
       "      <th rowspan=\"5\" valign=\"top\">0.000</th>\n",
       "      <th>12.000</th>\n",
       "      <td>37.000</td>\n",
       "      <td>23712.459</td>\n",
       "      <td>2901.720</td>\n",
       "      <td>17900.000</td>\n",
       "      <td>21000.000</td>\n",
       "      <td>23400.000</td>\n",
       "      <td>25500.000</td>\n",
       "      <td>28990.000</td>\n",
       "    </tr>\n",
       "    <tr>\n",
       "      <th>18.000</th>\n",
       "      <td>1.000</td>\n",
       "      <td>19995.000</td>\n",
       "      <td>NaN</td>\n",
       "      <td>19995.000</td>\n",
       "      <td>19995.000</td>\n",
       "      <td>19995.000</td>\n",
       "      <td>19995.000</td>\n",
       "      <td>19995.000</td>\n",
       "    </tr>\n",
       "    <tr>\n",
       "      <th>24.000</th>\n",
       "      <td>75.000</td>\n",
       "      <td>24087.000</td>\n",
       "      <td>3070.452</td>\n",
       "      <td>15550.000</td>\n",
       "      <td>21945.000</td>\n",
       "      <td>23300.000</td>\n",
       "      <td>26890.000</td>\n",
       "      <td>32000.000</td>\n",
       "    </tr>\n",
       "    <tr>\n",
       "      <th>28.137</th>\n",
       "      <td>323.000</td>\n",
       "      <td>24407.065</td>\n",
       "      <td>3216.722</td>\n",
       "      <td>15990.000</td>\n",
       "      <td>21920.000</td>\n",
       "      <td>24450.000</td>\n",
       "      <td>27200.000</td>\n",
       "      <td>37900.000</td>\n",
       "    </tr>\n",
       "    <tr>\n",
       "      <th>36.000</th>\n",
       "      <td>16.000</td>\n",
       "      <td>26054.875</td>\n",
       "      <td>2778.758</td>\n",
       "      <td>21500.000</td>\n",
       "      <td>24092.500</td>\n",
       "      <td>27050.000</td>\n",
       "      <td>28532.500</td>\n",
       "      <td>29179.000</td>\n",
       "    </tr>\n",
       "    <tr>\n",
       "      <th>...</th>\n",
       "      <th>...</th>\n",
       "      <th>...</th>\n",
       "      <td>...</td>\n",
       "      <td>...</td>\n",
       "      <td>...</td>\n",
       "      <td>...</td>\n",
       "      <td>...</td>\n",
       "      <td>...</td>\n",
       "      <td>...</td>\n",
       "      <td>...</td>\n",
       "    </tr>\n",
       "    <tr>\n",
       "      <th rowspan=\"5\" valign=\"top\">Renault Espace</th>\n",
       "      <th rowspan=\"5\" valign=\"top\">3.000</th>\n",
       "      <th>11.000</th>\n",
       "      <td>1.000</td>\n",
       "      <td>14999.000</td>\n",
       "      <td>NaN</td>\n",
       "      <td>14999.000</td>\n",
       "      <td>14999.000</td>\n",
       "      <td>14999.000</td>\n",
       "      <td>14999.000</td>\n",
       "      <td>14999.000</td>\n",
       "    </tr>\n",
       "    <tr>\n",
       "      <th>1.000</th>\n",
       "      <td>1.000</td>\n",
       "      <td>20745.000</td>\n",
       "      <td>NaN</td>\n",
       "      <td>20745.000</td>\n",
       "      <td>20745.000</td>\n",
       "      <td>20745.000</td>\n",
       "      <td>20745.000</td>\n",
       "      <td>20745.000</td>\n",
       "    </tr>\n",
       "    <tr>\n",
       "      <th>21.000</th>\n",
       "      <td>1.000</td>\n",
       "      <td>25990.000</td>\n",
       "      <td>NaN</td>\n",
       "      <td>25990.000</td>\n",
       "      <td>25990.000</td>\n",
       "      <td>25990.000</td>\n",
       "      <td>25990.000</td>\n",
       "      <td>25990.000</td>\n",
       "    </tr>\n",
       "    <tr>\n",
       "      <th>12.482</th>\n",
       "      <td>161.000</td>\n",
       "      <td>21931.559</td>\n",
       "      <td>3562.319</td>\n",
       "      <td>12614.000</td>\n",
       "      <td>19013.000</td>\n",
       "      <td>21900.000</td>\n",
       "      <td>24899.000</td>\n",
       "      <td>30000.000</td>\n",
       "    </tr>\n",
       "    <tr>\n",
       "      <th>40.000</th>\n",
       "      <td>1.000</td>\n",
       "      <td>22500.000</td>\n",
       "      <td>NaN</td>\n",
       "      <td>22500.000</td>\n",
       "      <td>22500.000</td>\n",
       "      <td>22500.000</td>\n",
       "      <td>22500.000</td>\n",
       "      <td>22500.000</td>\n",
       "    </tr>\n",
       "  </tbody>\n",
       "</table></div>"
      ],
      "text/plain": [
       "                                       count      mean      std       min  \\\n",
       "make_model     age   warranty_months                                        \n",
       "Audi A1        0.000 12.000           37.000 23712.459 2901.720 17900.000   \n",
       "                     18.000            1.000 19995.000      NaN 19995.000   \n",
       "                     24.000           75.000 24087.000 3070.452 15550.000   \n",
       "                     28.137          323.000 24407.065 3216.722 15990.000   \n",
       "                     36.000           16.000 26054.875 2778.758 21500.000   \n",
       "...                                      ...       ...      ...       ...   \n",
       "Renault Espace 3.000 11.000            1.000 14999.000      NaN 14999.000   \n",
       "                     1.000             1.000 20745.000      NaN 20745.000   \n",
       "                     21.000            1.000 25990.000      NaN 25990.000   \n",
       "                     12.482          161.000 21931.559 3562.319 12614.000   \n",
       "                     40.000            1.000 22500.000      NaN 22500.000   \n",
       "\n",
       "                                           25%       50%       75%       max  \n",
       "make_model     age   warranty_months                                          \n",
       "Audi A1        0.000 12.000          21000.000 23400.000 25500.000 28990.000  \n",
       "                     18.000          19995.000 19995.000 19995.000 19995.000  \n",
       "                     24.000          21945.000 23300.000 26890.000 32000.000  \n",
       "                     28.137          21920.000 24450.000 27200.000 37900.000  \n",
       "                     36.000          24092.500 27050.000 28532.500 29179.000  \n",
       "...                                        ...       ...       ...       ...  \n",
       "Renault Espace 3.000 11.000          14999.000 14999.000 14999.000 14999.000  \n",
       "                     1.000           20745.000 20745.000 20745.000 20745.000  \n",
       "                     21.000          25990.000 25990.000 25990.000 25990.000  \n",
       "                     12.482          19013.000 21900.000 24899.000 30000.000  \n",
       "                     40.000          22500.000 22500.000 22500.000 22500.000  \n",
       "\n",
       "[255 rows x 8 columns]"
      ]
     },
     "execution_count": 858,
     "metadata": {},
     "output_type": "execute_result"
    }
   ],
   "source": [
    "df.groupby(['make_model', 'age', 'warranty_months']).price.describe()\n"
   ]
  },
  {
   "cell_type": "markdown",
   "metadata": {},
   "source": [
    "There are too many NaN standard deviation values. If these Nan values were not present, this column would be important when evaluating the price column. I am dropping it."
   ]
  },
  {
   "cell_type": "code",
   "execution_count": 859,
   "metadata": {},
   "outputs": [],
   "source": [
    "df.drop('warranty_months', axis=1, inplace=True)\n"
   ]
  },
  {
   "cell_type": "code",
   "execution_count": 860,
   "metadata": {},
   "outputs": [
    {
     "data": {
      "text/plain": [
       "Index(['make_model', 'body_type', 'price', 'vat', 'km', 'previous_owners',\n",
       "       'next_inspection', 'inspection_new', 'body_color', 'paint_type',\n",
       "       'num_of_doors', 'num_of_seats', 'gearing_type', 'cylinders',\n",
       "       'drive_chain', 'fuel', 'consumption', 'co2_emission', 'emission_class',\n",
       "       'comfort_convenience', 'entertainment_media', 'extras',\n",
       "       'safety_security', 'gears', 'age', 'hp_kw', 'type', 'upholstery_type',\n",
       "       'upholstery_color', 'displacement_cc', 'weight_kg', 'cons_comb',\n",
       "       'cons_city', 'cons_country'],\n",
       "      dtype='object')"
      ]
     },
     "execution_count": 860,
     "metadata": {},
     "output_type": "execute_result"
    }
   ],
   "source": [
    "df.columns"
   ]
  },
  {
   "cell_type": "markdown",
   "metadata": {},
   "source": [
    "### age column:"
   ]
  },
  {
   "cell_type": "code",
   "execution_count": 861,
   "metadata": {},
   "outputs": [
    {
     "name": "stdout",
     "output_type": "stream",
     "text": [
      "\n",
      "Percentage of Missing Values :  10.03 \n",
      "\n",
      "Number of Missings           :  1597 \n",
      "\n",
      "Number of Uniques            :  4 \n",
      "\n",
      "Value counts                 : \n",
      "\n",
      " 1.000    4522\n",
      "3.000    3674\n",
      "2.000    3273\n",
      "0.000    2853\n",
      "NaN      1597\n",
      "Name: age, dtype: int64\n"
     ]
    }
   ],
   "source": [
    "print('\\n''Percentage of Missing Values : ', round(df['age'].isnull().sum()/df.shape[0]*100, 2), '\\n')\n",
    "print(\"Number of Missings           : \",\n",
    "      df['age'].isnull().sum(), '\\n')\n",
    "print(\"Number of Uniques            : \", df['age'].nunique(), '\\n')\n",
    "print('Value counts                 : ''\\n''\\n',df['age'].value_counts(dropna=False))"
   ]
  },
  {
   "cell_type": "code",
   "execution_count": 862,
   "metadata": {},
   "outputs": [],
   "source": [
    "df['age'].fillna('-', inplace=True)\n",
    "# I replaced NaN with '-' so that I can see the statistical data of the NaN values."
   ]
  },
  {
   "cell_type": "code",
   "execution_count": 863,
   "metadata": {},
   "outputs": [
    {
     "data": {
      "text/html": [
       "<div><div id=087d665d-0aab-44a9-9acb-96847c0525ce style=\"display:none; background-color:#9D6CFF; color:white; width:200px; height:30px; padding-left:5px; border-radius:4px; flex-direction:row; justify-content:space-around; align-items:center;\" onmouseover=\"this.style.backgroundColor='#BA9BF8'\" onmouseout=\"this.style.backgroundColor='#9D6CFF'\" onclick=\"window.commands?.execute('create-mitosheet-from-dataframe-output');\">See Full Dataframe in Mito</div> <script> if (window.commands?.hasCommand('create-mitosheet-from-dataframe-output')) document.getElementById('087d665d-0aab-44a9-9acb-96847c0525ce').style.display = 'flex' </script> <table border=\"1\" class=\"dataframe\">\n",
       "  <thead>\n",
       "    <tr style=\"text-align: right;\">\n",
       "      <th></th>\n",
       "      <th>count</th>\n",
       "      <th>mean</th>\n",
       "      <th>std</th>\n",
       "      <th>min</th>\n",
       "      <th>25%</th>\n",
       "      <th>50%</th>\n",
       "      <th>75%</th>\n",
       "      <th>max</th>\n",
       "    </tr>\n",
       "    <tr>\n",
       "      <th>age</th>\n",
       "      <th></th>\n",
       "      <th></th>\n",
       "      <th></th>\n",
       "      <th></th>\n",
       "      <th></th>\n",
       "      <th></th>\n",
       "      <th></th>\n",
       "      <th></th>\n",
       "    </tr>\n",
       "  </thead>\n",
       "  <tbody>\n",
       "    <tr>\n",
       "      <th>0.0</th>\n",
       "      <td>2853.000</td>\n",
       "      <td>22805.061</td>\n",
       "      <td>9198.275</td>\n",
       "      <td>120.000</td>\n",
       "      <td>15890.000</td>\n",
       "      <td>22950.000</td>\n",
       "      <td>27290.000</td>\n",
       "      <td>64332.000</td>\n",
       "    </tr>\n",
       "    <tr>\n",
       "      <th>1.0</th>\n",
       "      <td>4522.000</td>\n",
       "      <td>18456.037</td>\n",
       "      <td>6038.583</td>\n",
       "      <td>13.000</td>\n",
       "      <td>14800.000</td>\n",
       "      <td>18490.000</td>\n",
       "      <td>21700.000</td>\n",
       "      <td>74600.000</td>\n",
       "    </tr>\n",
       "    <tr>\n",
       "      <th>2.0</th>\n",
       "      <td>3273.000</td>\n",
       "      <td>15595.916</td>\n",
       "      <td>5265.701</td>\n",
       "      <td>6000.000</td>\n",
       "      <td>11600.000</td>\n",
       "      <td>15750.000</td>\n",
       "      <td>18900.000</td>\n",
       "      <td>67600.000</td>\n",
       "    </tr>\n",
       "    <tr>\n",
       "      <th>3.0</th>\n",
       "      <td>3674.000</td>\n",
       "      <td>13644.039</td>\n",
       "      <td>4439.875</td>\n",
       "      <td>4950.000</td>\n",
       "      <td>10400.000</td>\n",
       "      <td>13884.000</td>\n",
       "      <td>15980.000</td>\n",
       "      <td>42500.000</td>\n",
       "    </tr>\n",
       "    <tr>\n",
       "      <th>-</th>\n",
       "      <td>1597.000</td>\n",
       "      <td>23271.175</td>\n",
       "      <td>7888.608</td>\n",
       "      <td>6490.000</td>\n",
       "      <td>17990.000</td>\n",
       "      <td>22995.000</td>\n",
       "      <td>27380.000</td>\n",
       "      <td>68320.000</td>\n",
       "    </tr>\n",
       "  </tbody>\n",
       "</table></div>"
      ],
      "text/plain": [
       "       count      mean      std      min       25%       50%       75%  \\\n",
       "age                                                                      \n",
       "0.0 2853.000 22805.061 9198.275  120.000 15890.000 22950.000 27290.000   \n",
       "1.0 4522.000 18456.037 6038.583   13.000 14800.000 18490.000 21700.000   \n",
       "2.0 3273.000 15595.916 5265.701 6000.000 11600.000 15750.000 18900.000   \n",
       "3.0 3674.000 13644.039 4439.875 4950.000 10400.000 13884.000 15980.000   \n",
       "-   1597.000 23271.175 7888.608 6490.000 17990.000 22995.000 27380.000   \n",
       "\n",
       "          max  \n",
       "age            \n",
       "0.0 64332.000  \n",
       "1.0 74600.000  \n",
       "2.0 67600.000  \n",
       "3.0 42500.000  \n",
       "-   68320.000  "
      ]
     },
     "execution_count": 863,
     "metadata": {},
     "output_type": "execute_result"
    }
   ],
   "source": [
    "df.groupby(\"age\").price.describe()\n"
   ]
  },
  {
   "cell_type": "code",
   "execution_count": 864,
   "metadata": {},
   "outputs": [
    {
     "data": {
      "text/html": [
       "<div><div id=38be52de-cb40-4c09-aac0-aa1f1db936d8 style=\"display:none; background-color:#9D6CFF; color:white; width:200px; height:30px; padding-left:5px; border-radius:4px; flex-direction:row; justify-content:space-around; align-items:center;\" onmouseover=\"this.style.backgroundColor='#BA9BF8'\" onmouseout=\"this.style.backgroundColor='#9D6CFF'\" onclick=\"window.commands?.execute('create-mitosheet-from-dataframe-output');\">See Full Dataframe in Mito</div> <script> if (window.commands?.hasCommand('create-mitosheet-from-dataframe-output')) document.getElementById('38be52de-cb40-4c09-aac0-aa1f1db936d8').style.display = 'flex' </script> <table border=\"1\" class=\"dataframe\">\n",
       "  <thead>\n",
       "    <tr style=\"text-align: right;\">\n",
       "      <th></th>\n",
       "      <th>count</th>\n",
       "      <th>mean</th>\n",
       "      <th>std</th>\n",
       "      <th>min</th>\n",
       "      <th>25%</th>\n",
       "      <th>50%</th>\n",
       "      <th>75%</th>\n",
       "      <th>max</th>\n",
       "    </tr>\n",
       "    <tr>\n",
       "      <th>age</th>\n",
       "      <th></th>\n",
       "      <th></th>\n",
       "      <th></th>\n",
       "      <th></th>\n",
       "      <th></th>\n",
       "      <th></th>\n",
       "      <th></th>\n",
       "      <th></th>\n",
       "    </tr>\n",
       "  </thead>\n",
       "  <tbody>\n",
       "    <tr>\n",
       "      <th>0.0</th>\n",
       "      <td>2706.000</td>\n",
       "      <td>2085.355</td>\n",
       "      <td>5365.881</td>\n",
       "      <td>1.000</td>\n",
       "      <td>10.000</td>\n",
       "      <td>50.000</td>\n",
       "      <td>3000.000</td>\n",
       "      <td>127022.000</td>\n",
       "    </tr>\n",
       "    <tr>\n",
       "      <th>1.0</th>\n",
       "      <td>4484.000</td>\n",
       "      <td>18035.239</td>\n",
       "      <td>11052.524</td>\n",
       "      <td>1.000</td>\n",
       "      <td>9990.000</td>\n",
       "      <td>17872.000</td>\n",
       "      <td>25078.500</td>\n",
       "      <td>136000.000</td>\n",
       "    </tr>\n",
       "    <tr>\n",
       "      <th>2.0</th>\n",
       "      <td>3272.000</td>\n",
       "      <td>41754.941</td>\n",
       "      <td>28295.748</td>\n",
       "      <td>1.000</td>\n",
       "      <td>21541.750</td>\n",
       "      <td>34752.000</td>\n",
       "      <td>54805.500</td>\n",
       "      <td>317000.000</td>\n",
       "    </tr>\n",
       "    <tr>\n",
       "      <th>3.0</th>\n",
       "      <td>3674.000</td>\n",
       "      <td>77442.521</td>\n",
       "      <td>39170.143</td>\n",
       "      <td>10.000</td>\n",
       "      <td>48000.000</td>\n",
       "      <td>72914.500</td>\n",
       "      <td>99950.000</td>\n",
       "      <td>291800.000</td>\n",
       "    </tr>\n",
       "    <tr>\n",
       "      <th>-</th>\n",
       "      <td>759.000</td>\n",
       "      <td>934.497</td>\n",
       "      <td>7416.244</td>\n",
       "      <td>0.000</td>\n",
       "      <td>5.000</td>\n",
       "      <td>10.000</td>\n",
       "      <td>10.000</td>\n",
       "      <td>89982.000</td>\n",
       "    </tr>\n",
       "  </tbody>\n",
       "</table></div>"
      ],
      "text/plain": [
       "       count      mean       std    min       25%       50%       75%  \\\n",
       "age                                                                     \n",
       "0.0 2706.000  2085.355  5365.881  1.000    10.000    50.000  3000.000   \n",
       "1.0 4484.000 18035.239 11052.524  1.000  9990.000 17872.000 25078.500   \n",
       "2.0 3272.000 41754.941 28295.748  1.000 21541.750 34752.000 54805.500   \n",
       "3.0 3674.000 77442.521 39170.143 10.000 48000.000 72914.500 99950.000   \n",
       "-    759.000   934.497  7416.244  0.000     5.000    10.000    10.000   \n",
       "\n",
       "           max  \n",
       "age             \n",
       "0.0 127022.000  \n",
       "1.0 136000.000  \n",
       "2.0 317000.000  \n",
       "3.0 291800.000  \n",
       "-    89982.000  "
      ]
     },
     "execution_count": 864,
     "metadata": {},
     "output_type": "execute_result"
    }
   ],
   "source": [
    "df.groupby(\"age\").km.describe()\n"
   ]
  },
  {
   "cell_type": "markdown",
   "metadata": {},
   "source": [
    "When the describe() table is examined, the average (km), Q1 (km) and Q3 (km) values for the age category can be seen. According to these values, it is possible to fill in the missing values in the age category."
   ]
  },
  {
   "cell_type": "code",
   "execution_count": 865,
   "metadata": {},
   "outputs": [],
   "source": [
    "# setting conditions according to km values\n",
    "\n",
    "age_0 = (df['km'] < 10000)\n",
    "age_1 = ((df['km'] >= 10000) & (df['km'] <= 25000))\n",
    "age_2 = ((df['km'] > 28000) & (df['km'] <= 54000))\n",
    "age_3 = (df['km'] > 54000)\n"
   ]
  },
  {
   "cell_type": "code",
   "execution_count": 866,
   "metadata": {},
   "outputs": [],
   "source": [
    "df.loc[age_0,'age'] = df.loc[age_0,'age'].replace('-', 0)\n",
    "df.loc[age_1,'age'] = df.loc[age_1,'age'].replace('-', 1)\n",
    "df.loc[age_2,'age'] = df.loc[age_2,'age'].replace('-', 2)\n",
    "df.loc[age_3,'age'] = df.loc[age_3,'age'].replace('-', 3)"
   ]
  },
  {
   "cell_type": "code",
   "execution_count": 867,
   "metadata": {},
   "outputs": [
    {
     "data": {
      "text/plain": [
       "1.0    4528\n",
       "3.0    3679\n",
       "0.0    3597\n",
       "2.0    3277\n",
       "-       838\n",
       "Name: age, dtype: int64"
      ]
     },
     "execution_count": 867,
     "metadata": {},
     "output_type": "execute_result"
    }
   ],
   "source": [
    "df.age.value_counts(dropna=False)"
   ]
  },
  {
   "cell_type": "markdown",
   "metadata": {},
   "source": [
    "I filled age column according to km column, but i stil have missing values in age column. Why? \n",
    "Can i have missing values in km column too? ---> Yes, there are 1024 missing values in km column."
   ]
  },
  {
   "cell_type": "code",
   "execution_count": 868,
   "metadata": {},
   "outputs": [
    {
     "data": {
      "text/plain": [
       "1024"
      ]
     },
     "execution_count": 868,
     "metadata": {},
     "output_type": "execute_result"
    }
   ],
   "source": [
    "df.km.isnull().sum()"
   ]
  },
  {
   "cell_type": "code",
   "execution_count": 869,
   "metadata": {},
   "outputs": [
    {
     "data": {
      "text/plain": [
       "743     NaN\n",
       "869     NaN\n",
       "946     NaN\n",
       "977     NaN\n",
       "980     NaN\n",
       "         ..\n",
       "15888   NaN\n",
       "15890   NaN\n",
       "15902   NaN\n",
       "15912   NaN\n",
       "15914   NaN\n",
       "Name: km, Length: 838, dtype: float64"
      ]
     },
     "execution_count": 869,
     "metadata": {},
     "output_type": "execute_result"
    }
   ],
   "source": [
    "df[df[\"age\"]=='-'][\"km\"]"
   ]
  },
  {
   "cell_type": "code",
   "execution_count": 870,
   "metadata": {},
   "outputs": [
    {
     "data": {
      "text/plain": [
       "make_model      age\n",
       "Audi A1         0.0   23876.269\n",
       "                1.0   18446.178\n",
       "                2.0   16625.734\n",
       "                3.0   14489.769\n",
       "                -     23842.852\n",
       "Audi A2         1.0   28200.000\n",
       "Audi A3         0.0   25045.758\n",
       "                1.0   22504.332\n",
       "                2.0   19939.557\n",
       "                3.0   16466.090\n",
       "                -     24172.609\n",
       "Opel Astra      0.0   21621.258\n",
       "                1.0   16134.623\n",
       "                2.0   13008.951\n",
       "                3.0   11357.733\n",
       "                -     19913.439\n",
       "Opel Corsa      0.0   13455.006\n",
       "                1.0   11304.836\n",
       "                2.0    9249.490\n",
       "                3.0    8195.207\n",
       "                -     13717.625\n",
       "Opel Insignia   0.0   33633.709\n",
       "                1.0   21377.004\n",
       "                2.0   16995.141\n",
       "                3.0   13606.710\n",
       "                -     29016.103\n",
       "Renault Clio    0.0   11912.385\n",
       "                1.0   14698.492\n",
       "                2.0   10814.541\n",
       "                3.0    9349.533\n",
       "                -     11795.000\n",
       "Renault Duster  0.0   13343.000\n",
       "                -     13129.889\n",
       "Renault Espace  0.0   39812.240\n",
       "                1.0   31838.781\n",
       "                2.0   26371.694\n",
       "                3.0   21878.583\n",
       "                -     40724.250\n",
       "Name: price, dtype: float64"
      ]
     },
     "execution_count": 870,
     "metadata": {},
     "output_type": "execute_result"
    }
   ],
   "source": [
    "df.groupby(['make_model', 'age']).price.mean()\n"
   ]
  },
  {
   "cell_type": "markdown",
   "metadata": {},
   "source": [
    "When I make a grouping by 'make_model' and 'age' and examine the 'price' column, I see that the price.mean() of the remaining missing values corresponds to the price.mean() value of 'age'=0 column. I can fill the remaining missing values with 0."
   ]
  },
  {
   "cell_type": "code",
   "execution_count": 871,
   "metadata": {},
   "outputs": [],
   "source": [
    "df['age'].replace('-',0, inplace=True)"
   ]
  },
  {
   "cell_type": "code",
   "execution_count": 872,
   "metadata": {},
   "outputs": [
    {
     "data": {
      "text/plain": [
       "1.000    4528\n",
       "0.000    4435\n",
       "3.000    3679\n",
       "2.000    3277\n",
       "Name: age, dtype: int64"
      ]
     },
     "execution_count": 872,
     "metadata": {},
     "output_type": "execute_result"
    }
   ],
   "source": [
    "df.age.value_counts(dropna=False)"
   ]
  },
  {
   "cell_type": "markdown",
   "metadata": {},
   "source": [
    "Now i want to continue with km column."
   ]
  },
  {
   "cell_type": "markdown",
   "metadata": {},
   "source": [
    "### km column:"
   ]
  },
  {
   "cell_type": "code",
   "execution_count": 873,
   "metadata": {},
   "outputs": [
    {
     "name": "stdout",
     "output_type": "stream",
     "text": [
      "\n",
      "Percentage of Missing Values :  6.43 \n",
      "\n",
      "Number of Missings           :  1024 \n",
      "\n",
      "Number of Uniques            :  6689 \n",
      "\n",
      "Value counts                 : \n",
      "\n",
      " 10.000       1045\n",
      "NaN          1024\n",
      "1.000         367\n",
      "5.000         170\n",
      "50.000        148\n",
      "             ... \n",
      "67469.000       1\n",
      "43197.000       1\n",
      "10027.000       1\n",
      "35882.000       1\n",
      "57.000          1\n",
      "Name: km, Length: 6690, dtype: int64\n"
     ]
    }
   ],
   "source": [
    "print('\\n''Percentage of Missing Values : ', round(df['km'].isnull().sum()/df.shape[0]*100, 2), '\\n')\n",
    "print(\"Number of Missings           : \",\n",
    "      df['km'].isnull().sum(), '\\n')\n",
    "print(\"Number of Uniques            : \", df['km'].nunique(), '\\n')\n",
    "print('Value counts                 : ''\\n''\\n',df['km'].value_counts(dropna=False))"
   ]
  },
  {
   "cell_type": "markdown",
   "metadata": {},
   "source": [
    "There are 1024 missing values in this column. If I find the average km values by age, can I fill in the missing values?"
   ]
  },
  {
   "cell_type": "code",
   "execution_count": 874,
   "metadata": {},
   "outputs": [
    {
     "data": {
      "text/plain": [
       "age\n",
       "0.000    1647.363\n",
       "1.000   18035.130\n",
       "2.000   41748.577\n",
       "3.000   77450.063\n",
       "Name: km, dtype: float64"
      ]
     },
     "execution_count": 874,
     "metadata": {},
     "output_type": "execute_result"
    }
   ],
   "source": [
    "df.groupby(\"age\").km.mean()\n"
   ]
  },
  {
   "cell_type": "code",
   "execution_count": 875,
   "metadata": {},
   "outputs": [
    {
     "data": {
      "text/plain": [
       "0       77450.063\n",
       "1       41748.577\n",
       "2       77450.063\n",
       "3       77450.063\n",
       "4       77450.063\n",
       "           ...   \n",
       "15914    1647.363\n",
       "15915    1647.363\n",
       "15916    1647.363\n",
       "15917    1647.363\n",
       "15918    1647.363\n",
       "Name: km, Length: 15919, dtype: float64"
      ]
     },
     "execution_count": 875,
     "metadata": {},
     "output_type": "execute_result"
    }
   ],
   "source": [
    "df.groupby('age')[\"km\"].transform(lambda x: pd.Series.mean(x))\n"
   ]
  },
  {
   "cell_type": "code",
   "execution_count": 876,
   "metadata": {},
   "outputs": [],
   "source": [
    "df['km'].fillna(df.groupby('age')[\"km\"].transform(lambda x: pd.Series.mean(x)), inplace=True)\n"
   ]
  },
  {
   "cell_type": "code",
   "execution_count": 877,
   "metadata": {},
   "outputs": [
    {
     "data": {
      "text/plain": [
       "0"
      ]
     },
     "execution_count": 877,
     "metadata": {},
     "output_type": "execute_result"
    }
   ],
   "source": [
    "df.km.isnull().sum()"
   ]
  },
  {
   "cell_type": "code",
   "execution_count": 878,
   "metadata": {},
   "outputs": [
    {
     "data": {
      "text/plain": [
       "10.000       1045\n",
       "1647.363      985\n",
       "1.000         367\n",
       "5.000         170\n",
       "50.000        148\n",
       "             ... \n",
       "67469.000       1\n",
       "43197.000       1\n",
       "10027.000       1\n",
       "35882.000       1\n",
       "57.000          1\n",
       "Name: km, Length: 6692, dtype: int64"
      ]
     },
     "execution_count": 878,
     "metadata": {},
     "output_type": "execute_result"
    }
   ],
   "source": [
    "df.km.value_counts(dropna=False)"
   ]
  },
  {
   "cell_type": "markdown",
   "metadata": {},
   "source": [
    "There is no missing value in this column anymore."
   ]
  },
  {
   "cell_type": "code",
   "execution_count": 879,
   "metadata": {},
   "outputs": [
    {
     "data": {
      "text/plain": [
       "Index(['make_model', 'body_type', 'price', 'vat', 'km', 'previous_owners',\n",
       "       'next_inspection', 'inspection_new', 'body_color', 'paint_type',\n",
       "       'num_of_doors', 'num_of_seats', 'gearing_type', 'cylinders',\n",
       "       'drive_chain', 'fuel', 'consumption', 'co2_emission', 'emission_class',\n",
       "       'comfort_convenience', 'entertainment_media', 'extras',\n",
       "       'safety_security', 'gears', 'age', 'hp_kw', 'type', 'upholstery_type',\n",
       "       'upholstery_color', 'displacement_cc', 'weight_kg', 'cons_comb',\n",
       "       'cons_city', 'cons_country'],\n",
       "      dtype='object')"
      ]
     },
     "execution_count": 879,
     "metadata": {},
     "output_type": "execute_result"
    }
   ],
   "source": [
    "df.columns"
   ]
  },
  {
   "cell_type": "markdown",
   "metadata": {},
   "source": [
    "### body_type column:"
   ]
  },
  {
   "cell_type": "code",
   "execution_count": 880,
   "metadata": {},
   "outputs": [
    {
     "name": "stdout",
     "output_type": "stream",
     "text": [
      "\n",
      "Percentage of Missing Values :  0.38 \n",
      "\n",
      "Number of Missings           :  60 \n",
      "\n",
      "Number of Uniques            :  9 \n",
      "\n",
      "Value counts                 : \n",
      "\n",
      " Sedans           7903\n",
      "Station wagon    3553\n",
      "Compact          3153\n",
      "Van               783\n",
      "Other             290\n",
      "Transporter        88\n",
      "NaN                60\n",
      "Off-Road           56\n",
      "Coupe              25\n",
      "Convertible         8\n",
      "Name: body_type, dtype: int64\n"
     ]
    }
   ],
   "source": [
    "print('\\n''Percentage of Missing Values : ', round(\n",
    "    df['body_type'].isnull().sum()/df.shape[0]*100, 2), '\\n')\n",
    "print(\"Number of Missings           : \",\n",
    "      df['body_type'].isnull().sum(), '\\n')\n",
    "print(\"Number of Uniques            : \", df['body_type'].nunique(), '\\n')\n",
    "print('Value counts                 : ''\\n''\\n',df['body_type'].value_counts(dropna=False))"
   ]
  },
  {
   "cell_type": "markdown",
   "metadata": {},
   "source": [
    "In this column there are 60 Nan values and also 290 Other values. I am converting Other values to the NaN."
   ]
  },
  {
   "cell_type": "code",
   "execution_count": 881,
   "metadata": {},
   "outputs": [
    {
     "data": {
      "text/plain": [
       "Sedans           7903\n",
       "Station wagon    3553\n",
       "Compact          3153\n",
       "Van               783\n",
       "NaN               350\n",
       "Transporter        88\n",
       "Off-Road           56\n",
       "Coupe              25\n",
       "Convertible         8\n",
       "Name: body_type, dtype: int64"
      ]
     },
     "execution_count": 881,
     "metadata": {},
     "output_type": "execute_result"
    }
   ],
   "source": [
    "df.body_type.replace(\"Other\", np.nan, inplace=True)\n",
    "df['body_type'].value_counts(dropna=False)\n"
   ]
  },
  {
   "cell_type": "code",
   "execution_count": 882,
   "metadata": {},
   "outputs": [
    {
     "data": {
      "text/plain": [
       "count      15569\n",
       "unique         8\n",
       "top       Sedans\n",
       "freq        7903\n",
       "Name: body_type, dtype: object"
      ]
     },
     "execution_count": 882,
     "metadata": {},
     "output_type": "execute_result"
    }
   ],
   "source": [
    "df.body_type.describe()"
   ]
  },
  {
   "cell_type": "markdown",
   "metadata": {},
   "source": [
    "Most repeated value is 'Sedans' i can see that from the .describe()--->top and also with mode() function"
   ]
  },
  {
   "cell_type": "code",
   "execution_count": 883,
   "metadata": {},
   "outputs": [
    {
     "data": {
      "text/plain": [
       "0    Sedans\n",
       "Name: body_type, dtype: object"
      ]
     },
     "execution_count": 883,
     "metadata": {},
     "output_type": "execute_result"
    }
   ],
   "source": [
    "df.body_type.mode()"
   ]
  },
  {
   "cell_type": "code",
   "execution_count": 884,
   "metadata": {},
   "outputs": [
    {
     "data": {
      "text/plain": [
       "['Audi A1',\n",
       " 'Audi A2',\n",
       " 'Audi A3',\n",
       " 'Opel Astra',\n",
       " 'Opel Corsa',\n",
       " 'Opel Insignia',\n",
       " 'Renault Clio',\n",
       " 'Renault Duster',\n",
       " 'Renault Espace']"
      ]
     },
     "execution_count": 884,
     "metadata": {},
     "output_type": "execute_result"
    }
   ],
   "source": [
    "list(df[\"make_model\"].unique())\n"
   ]
  },
  {
   "cell_type": "markdown",
   "metadata": {},
   "source": [
    "There are 9 unique value in make_model column. We can find most repeated body_type for each unique value."
   ]
  },
  {
   "cell_type": "code",
   "execution_count": 885,
   "metadata": {},
   "outputs": [
    {
     "data": {
      "text/plain": [
       "0    Sedans\n",
       "Name: body_type, dtype: object"
      ]
     },
     "execution_count": 885,
     "metadata": {},
     "output_type": "execute_result"
    }
   ],
   "source": [
    "df[df[\"make_model\"]==\"Audi A1\"][\"body_type\"].mode()"
   ]
  },
  {
   "cell_type": "markdown",
   "metadata": {},
   "source": [
    "It would be better if we could do it for all at once."
   ]
  },
  {
   "cell_type": "code",
   "execution_count": 886,
   "metadata": {},
   "outputs": [],
   "source": [
    "def fill_most(df, group_col, col_name):\n",
    "    #Fills the missing values with the most existing value (mode) in the relevant column according to single-stage grouping\n",
    "    for group in list(df[group_col].unique()):\n",
    "        cond = df[group_col] == group\n",
    "        grp_inx = list(df[cond][col_name].index)\n",
    "        mode = list(df[cond][col_name].mode())\n",
    "        if mode != []:\n",
    "            df[col_name].iloc[grp_inx] = df[col_name].iloc[grp_inx].fillna(\n",
    "                df[cond][col_name].mode()[0])\n",
    "        else:\n",
    "            df[col_name].iloc[grp_inx] = df[col_name].iloc[grp_inx].fillna(\n",
    "                df[col_name].mode()[0])\n",
    "    print(\"Number of NaN : \", df[col_name].isnull().sum())\n",
    "    print(\"------------------\")\n",
    "    print(df[col_name].value_counts(dropna=False))\n"
   ]
  },
  {
   "cell_type": "markdown",
   "metadata": {},
   "source": [
    "hier our group_col is make_model and col_name is body_type:\n",
    "\n",
    "for make_model in list(df[\"make_model\"].unique()):\n",
    "    cond = df[\"make_model\"] == make_model\n",
    "    (we are taking our make_model's most repeated body_type and assigning it mode)\n",
    "    mode = list(df[cond][\"body_type\"].mode())\n",
    "    if mode != []:\n",
    "        (filling our body_type with most repeated body type of our make_model)\n",
    "        df.loc[cond, \"body_type\"] = df.loc[cond, \"body_type\"].fillna(df[cond][\"body_type\"].mode()[0])\n",
    "    else:\n",
    "        df.loc[cond, \"body_type\"] = df.loc[cond, \"body_type\"].fillna(df[\"body_type\"].mode()[0])"
   ]
  },
  {
   "cell_type": "code",
   "execution_count": 887,
   "metadata": {},
   "outputs": [
    {
     "name": "stdout",
     "output_type": "stream",
     "text": [
      "Number of NaN :  0\n",
      "------------------\n",
      "Sedans           8005\n",
      "Station wagon    3678\n",
      "Compact          3242\n",
      "Van               817\n",
      "Transporter        88\n",
      "Off-Road           56\n",
      "Coupe              25\n",
      "Convertible         8\n",
      "Name: body_type, dtype: int64\n"
     ]
    }
   ],
   "source": [
    "fill_most(df, 'make_model', 'body_type')\n"
   ]
  },
  {
   "cell_type": "code",
   "execution_count": 888,
   "metadata": {},
   "outputs": [
    {
     "data": {
      "text/plain": [
       "Index(['make_model', 'body_type', 'price', 'vat', 'km', 'previous_owners',\n",
       "       'next_inspection', 'inspection_new', 'body_color', 'paint_type',\n",
       "       'num_of_doors', 'num_of_seats', 'gearing_type', 'cylinders',\n",
       "       'drive_chain', 'fuel', 'consumption', 'co2_emission', 'emission_class',\n",
       "       'comfort_convenience', 'entertainment_media', 'extras',\n",
       "       'safety_security', 'gears', 'age', 'hp_kw', 'type', 'upholstery_type',\n",
       "       'upholstery_color', 'displacement_cc', 'weight_kg', 'cons_comb',\n",
       "       'cons_city', 'cons_country'],\n",
       "      dtype='object')"
      ]
     },
     "execution_count": 888,
     "metadata": {},
     "output_type": "execute_result"
    }
   ],
   "source": [
    "df.columns"
   ]
  },
  {
   "cell_type": "markdown",
   "metadata": {},
   "source": [
    "### vat column:"
   ]
  },
  {
   "cell_type": "code",
   "execution_count": 889,
   "metadata": {},
   "outputs": [
    {
     "name": "stdout",
     "output_type": "stream",
     "text": [
      "\n",
      "Percentage of Missing Values : % 28.35 \n",
      "\n",
      "Number of Missings           :  4513 \n",
      "\n",
      "Number of Uniques            :  2 \n",
      "\n",
      "Value counts                 : \n",
      "\n",
      " VAT deductible      10980\n",
      "NaN                  4513\n",
      "Price negotiable      426\n",
      "Name: vat, dtype: int64\n"
     ]
    }
   ],
   "source": [
    "print('\\n''Percentage of Missing Values : %', round(df['vat'].isnull().sum()/df.shape[0]*100, 2), '\\n')\n",
    "print(\"Number of Missings           : \",\n",
    "      df['vat'].isnull().sum(), '\\n')\n",
    "print(\"Number of Uniques            : \", df['vat'].nunique(), '\\n')\n",
    "print('Value counts                 : ''\\n''\\n',df['vat'].value_counts(dropna=False))"
   ]
  },
  {
   "cell_type": "markdown",
   "metadata": {},
   "source": [
    "We can use fillna ffill and bfill for this column"
   ]
  },
  {
   "cell_type": "code",
   "execution_count": 890,
   "metadata": {},
   "outputs": [
    {
     "data": {
      "text/plain": [
       "0          VAT deductible\n",
       "1        Price negotiable\n",
       "2          VAT deductible\n",
       "3          VAT deductible\n",
       "4          VAT deductible\n",
       "               ...       \n",
       "15914      VAT deductible\n",
       "15915      VAT deductible\n",
       "15916      VAT deductible\n",
       "15917      VAT deductible\n",
       "15918      VAT deductible\n",
       "Name: vat, Length: 15919, dtype: object"
      ]
     },
     "execution_count": 890,
     "metadata": {},
     "output_type": "execute_result"
    }
   ],
   "source": [
    "df['vat'].fillna(method=\"ffill\").fillna(method=\"bfill\")\n"
   ]
  },
  {
   "cell_type": "code",
   "execution_count": 891,
   "metadata": {},
   "outputs": [],
   "source": [
    "df['vat'] = df['vat'].fillna(method=\"ffill\").fillna(method=\"bfill\")\n"
   ]
  },
  {
   "cell_type": "code",
   "execution_count": 892,
   "metadata": {},
   "outputs": [
    {
     "data": {
      "text/plain": [
       "VAT deductible      15048\n",
       "Price negotiable      871\n",
       "Name: vat, dtype: int64"
      ]
     },
     "execution_count": 892,
     "metadata": {},
     "output_type": "execute_result"
    }
   ],
   "source": [
    "df.vat.value_counts(dropna=False)"
   ]
  },
  {
   "cell_type": "markdown",
   "metadata": {},
   "source": [
    "### previous_owners column:"
   ]
  },
  {
   "cell_type": "code",
   "execution_count": 893,
   "metadata": {},
   "outputs": [
    {
     "name": "stdout",
     "output_type": "stream",
     "text": [
      "\n",
      "Percentage of Missing Values : % 41.71 \n",
      "\n",
      "Number of Missings           :  6640 \n",
      "\n",
      "Number of Uniques            :  5 \n",
      "\n",
      "Value counts                 : \n",
      "\n",
      " 1.000    8294\n",
      "NaN      6640\n",
      "2.000     778\n",
      "0.000     188\n",
      "3.000      17\n",
      "4.000       2\n",
      "Name: previous_owners, dtype: int64\n"
     ]
    }
   ],
   "source": [
    "print('\\n''Percentage of Missing Values : %', round(\n",
    "    df['previous_owners'].isnull().sum()/df.shape[0]*100, 2), '\\n')\n",
    "print(\"Number of Missings           : \",\n",
    "      df['previous_owners'].isnull().sum(), '\\n')\n",
    "print(\"Number of Uniques            : \", df['previous_owners'].nunique(), '\\n')\n",
    "print('Value counts                 : ''\\n''\\n',df['previous_owners'].value_counts(dropna=False))"
   ]
  },
  {
   "cell_type": "code",
   "execution_count": 894,
   "metadata": {},
   "outputs": [],
   "source": [
    "df[\"previous_owners\"].fillna(\"-\", inplace=True)\n"
   ]
  },
  {
   "cell_type": "code",
   "execution_count": 895,
   "metadata": {},
   "outputs": [
    {
     "data": {
      "text/plain": [
       "1.0    8294\n",
       "-      6640\n",
       "2.0     778\n",
       "0.0     188\n",
       "3.0      17\n",
       "4.0       2\n",
       "Name: previous_owners, dtype: int64"
      ]
     },
     "execution_count": 895,
     "metadata": {},
     "output_type": "execute_result"
    }
   ],
   "source": [
    "df.previous_owners.value_counts(dropna=False)"
   ]
  },
  {
   "cell_type": "code",
   "execution_count": 896,
   "metadata": {},
   "outputs": [
    {
     "data": {
      "text/html": [
       "<div><div id=831d3e92-f0f8-47e8-a3a4-c7518b85060d style=\"display:none; background-color:#9D6CFF; color:white; width:200px; height:30px; padding-left:5px; border-radius:4px; flex-direction:row; justify-content:space-around; align-items:center;\" onmouseover=\"this.style.backgroundColor='#BA9BF8'\" onmouseout=\"this.style.backgroundColor='#9D6CFF'\" onclick=\"window.commands?.execute('create-mitosheet-from-dataframe-output');\">See Full Dataframe in Mito</div> <script> if (window.commands?.hasCommand('create-mitosheet-from-dataframe-output')) document.getElementById('831d3e92-f0f8-47e8-a3a4-c7518b85060d').style.display = 'flex' </script> <table border=\"1\" class=\"dataframe\">\n",
       "  <thead>\n",
       "    <tr style=\"text-align: right;\">\n",
       "      <th></th>\n",
       "      <th></th>\n",
       "      <th></th>\n",
       "      <th>count</th>\n",
       "      <th>mean</th>\n",
       "      <th>std</th>\n",
       "      <th>min</th>\n",
       "      <th>25%</th>\n",
       "      <th>50%</th>\n",
       "      <th>75%</th>\n",
       "      <th>max</th>\n",
       "    </tr>\n",
       "    <tr>\n",
       "      <th>make_model</th>\n",
       "      <th>age</th>\n",
       "      <th>previous_owners</th>\n",
       "      <th></th>\n",
       "      <th></th>\n",
       "      <th></th>\n",
       "      <th></th>\n",
       "      <th></th>\n",
       "      <th></th>\n",
       "      <th></th>\n",
       "      <th></th>\n",
       "    </tr>\n",
       "  </thead>\n",
       "  <tbody>\n",
       "    <tr>\n",
       "      <th rowspan=\"5\" valign=\"top\">Audi A1</th>\n",
       "      <th rowspan=\"4\" valign=\"top\">0.000</th>\n",
       "      <th>0.0</th>\n",
       "      <td>45.000</td>\n",
       "      <td>958.365</td>\n",
       "      <td>815.362</td>\n",
       "      <td>0.000</td>\n",
       "      <td>10.000</td>\n",
       "      <td>1647.363</td>\n",
       "      <td>1647.363</td>\n",
       "      <td>1647.363</td>\n",
       "    </tr>\n",
       "    <tr>\n",
       "      <th>1.0</th>\n",
       "      <td>239.000</td>\n",
       "      <td>3069.543</td>\n",
       "      <td>3460.402</td>\n",
       "      <td>1.000</td>\n",
       "      <td>20.000</td>\n",
       "      <td>2500.000</td>\n",
       "      <td>5000.000</td>\n",
       "      <td>18000.000</td>\n",
       "    </tr>\n",
       "    <tr>\n",
       "      <th>2.0</th>\n",
       "      <td>1.000</td>\n",
       "      <td>3000.000</td>\n",
       "      <td>NaN</td>\n",
       "      <td>3000.000</td>\n",
       "      <td>3000.000</td>\n",
       "      <td>3000.000</td>\n",
       "      <td>3000.000</td>\n",
       "      <td>3000.000</td>\n",
       "    </tr>\n",
       "    <tr>\n",
       "      <th>-</th>\n",
       "      <td>521.000</td>\n",
       "      <td>1549.992</td>\n",
       "      <td>2303.800</td>\n",
       "      <td>1.000</td>\n",
       "      <td>11.000</td>\n",
       "      <td>1647.363</td>\n",
       "      <td>1647.363</td>\n",
       "      <td>15500.000</td>\n",
       "    </tr>\n",
       "    <tr>\n",
       "      <th>1.000</th>\n",
       "      <th>0.0</th>\n",
       "      <td>1.000</td>\n",
       "      <td>15000.000</td>\n",
       "      <td>NaN</td>\n",
       "      <td>15000.000</td>\n",
       "      <td>15000.000</td>\n",
       "      <td>15000.000</td>\n",
       "      <td>15000.000</td>\n",
       "      <td>15000.000</td>\n",
       "    </tr>\n",
       "    <tr>\n",
       "      <th>...</th>\n",
       "      <th>...</th>\n",
       "      <th>...</th>\n",
       "      <td>...</td>\n",
       "      <td>...</td>\n",
       "      <td>...</td>\n",
       "      <td>...</td>\n",
       "      <td>...</td>\n",
       "      <td>...</td>\n",
       "      <td>...</td>\n",
       "      <td>...</td>\n",
       "    </tr>\n",
       "    <tr>\n",
       "      <th rowspan=\"5\" valign=\"top\">Renault Espace</th>\n",
       "      <th rowspan=\"5\" valign=\"top\">3.000</th>\n",
       "      <th>1.0</th>\n",
       "      <td>118.000</td>\n",
       "      <td>79365.805</td>\n",
       "      <td>36296.880</td>\n",
       "      <td>3532.000</td>\n",
       "      <td>55000.000</td>\n",
       "      <td>76475.000</td>\n",
       "      <td>98375.750</td>\n",
       "      <td>197414.000</td>\n",
       "    </tr>\n",
       "    <tr>\n",
       "      <th>2.0</th>\n",
       "      <td>20.000</td>\n",
       "      <td>55316.250</td>\n",
       "      <td>27356.183</td>\n",
       "      <td>7300.000</td>\n",
       "      <td>42536.750</td>\n",
       "      <td>51972.500</td>\n",
       "      <td>64921.250</td>\n",
       "      <td>148000.000</td>\n",
       "    </tr>\n",
       "    <tr>\n",
       "      <th>3.0</th>\n",
       "      <td>1.000</td>\n",
       "      <td>40000.000</td>\n",
       "      <td>NaN</td>\n",
       "      <td>40000.000</td>\n",
       "      <td>40000.000</td>\n",
       "      <td>40000.000</td>\n",
       "      <td>40000.000</td>\n",
       "      <td>40000.000</td>\n",
       "    </tr>\n",
       "    <tr>\n",
       "      <th>4.0</th>\n",
       "      <td>1.000</td>\n",
       "      <td>57000.000</td>\n",
       "      <td>NaN</td>\n",
       "      <td>57000.000</td>\n",
       "      <td>57000.000</td>\n",
       "      <td>57000.000</td>\n",
       "      <td>57000.000</td>\n",
       "      <td>57000.000</td>\n",
       "    </tr>\n",
       "    <tr>\n",
       "      <th>-</th>\n",
       "      <td>159.000</td>\n",
       "      <td>73332.057</td>\n",
       "      <td>32702.200</td>\n",
       "      <td>6119.000</td>\n",
       "      <td>50027.000</td>\n",
       "      <td>68570.000</td>\n",
       "      <td>94000.000</td>\n",
       "      <td>169068.000</td>\n",
       "    </tr>\n",
       "  </tbody>\n",
       "</table></div>"
      ],
      "text/plain": [
       "                                       count      mean       std       min  \\\n",
       "make_model     age   previous_owners                                         \n",
       "Audi A1        0.000 0.0              45.000   958.365   815.362     0.000   \n",
       "                     1.0             239.000  3069.543  3460.402     1.000   \n",
       "                     2.0               1.000  3000.000       NaN  3000.000   \n",
       "                     -               521.000  1549.992  2303.800     1.000   \n",
       "               1.000 0.0               1.000 15000.000       NaN 15000.000   \n",
       "...                                      ...       ...       ...       ...   \n",
       "Renault Espace 3.000 1.0             118.000 79365.805 36296.880  3532.000   \n",
       "                     2.0              20.000 55316.250 27356.183  7300.000   \n",
       "                     3.0               1.000 40000.000       NaN 40000.000   \n",
       "                     4.0               1.000 57000.000       NaN 57000.000   \n",
       "                     -               159.000 73332.057 32702.200  6119.000   \n",
       "\n",
       "                                           25%       50%       75%        max  \n",
       "make_model     age   previous_owners                                           \n",
       "Audi A1        0.000 0.0                10.000  1647.363  1647.363   1647.363  \n",
       "                     1.0                20.000  2500.000  5000.000  18000.000  \n",
       "                     2.0              3000.000  3000.000  3000.000   3000.000  \n",
       "                     -                  11.000  1647.363  1647.363  15500.000  \n",
       "               1.000 0.0             15000.000 15000.000 15000.000  15000.000  \n",
       "...                                        ...       ...       ...        ...  \n",
       "Renault Espace 3.000 1.0             55000.000 76475.000 98375.750 197414.000  \n",
       "                     2.0             42536.750 51972.500 64921.250 148000.000  \n",
       "                     3.0             40000.000 40000.000 40000.000  40000.000  \n",
       "                     4.0             57000.000 57000.000 57000.000  57000.000  \n",
       "                     -               50027.000 68570.000 94000.000 169068.000  \n",
       "\n",
       "[120 rows x 8 columns]"
      ]
     },
     "execution_count": 896,
     "metadata": {},
     "output_type": "execute_result"
    }
   ],
   "source": [
    "df.groupby(['make_model', 'age', 'previous_owners']).km.describe()\n"
   ]
  },
  {
   "cell_type": "code",
   "execution_count": 897,
   "metadata": {},
   "outputs": [
    {
     "data": {
      "text/plain": [
       "['Audi A1',\n",
       " 'Audi A2',\n",
       " 'Audi A3',\n",
       " 'Opel Astra',\n",
       " 'Opel Corsa',\n",
       " 'Opel Insignia',\n",
       " 'Renault Clio',\n",
       " 'Renault Duster',\n",
       " 'Renault Espace']"
      ]
     },
     "execution_count": 897,
     "metadata": {},
     "output_type": "execute_result"
    }
   ],
   "source": [
    "list(df.make_model.unique())"
   ]
  },
  {
   "cell_type": "code",
   "execution_count": 898,
   "metadata": {},
   "outputs": [
    {
     "data": {
      "text/html": [
       "<div><div id=05a8f20e-0db3-458f-9bde-fa284e3d953d style=\"display:none; background-color:#9D6CFF; color:white; width:200px; height:30px; padding-left:5px; border-radius:4px; flex-direction:row; justify-content:space-around; align-items:center;\" onmouseover=\"this.style.backgroundColor='#BA9BF8'\" onmouseout=\"this.style.backgroundColor='#9D6CFF'\" onclick=\"window.commands?.execute('create-mitosheet-from-dataframe-output');\">See Full Dataframe in Mito</div> <script> if (window.commands?.hasCommand('create-mitosheet-from-dataframe-output')) document.getElementById('05a8f20e-0db3-458f-9bde-fa284e3d953d').style.display = 'flex' </script> <table border=\"1\" class=\"dataframe\">\n",
       "  <thead>\n",
       "    <tr style=\"text-align: right;\">\n",
       "      <th></th>\n",
       "      <th>make_model</th>\n",
       "      <th>previous_owners</th>\n",
       "      <th>km</th>\n",
       "      <th>age</th>\n",
       "    </tr>\n",
       "  </thead>\n",
       "  <tbody>\n",
       "    <tr>\n",
       "      <th>12752</th>\n",
       "      <td>Opel Insignia</td>\n",
       "      <td>-</td>\n",
       "      <td>1647.363</td>\n",
       "      <td>0.000</td>\n",
       "    </tr>\n",
       "    <tr>\n",
       "      <th>10904</th>\n",
       "      <td>Opel Insignia</td>\n",
       "      <td>-</td>\n",
       "      <td>78225.000</td>\n",
       "      <td>2.000</td>\n",
       "    </tr>\n",
       "    <tr>\n",
       "      <th>12930</th>\n",
       "      <td>Opel Insignia</td>\n",
       "      <td>-</td>\n",
       "      <td>6800.000</td>\n",
       "      <td>0.000</td>\n",
       "    </tr>\n",
       "    <tr>\n",
       "      <th>11194</th>\n",
       "      <td>Opel Insignia</td>\n",
       "      <td>-</td>\n",
       "      <td>73130.000</td>\n",
       "      <td>3.000</td>\n",
       "    </tr>\n",
       "    <tr>\n",
       "      <th>10957</th>\n",
       "      <td>Opel Insignia</td>\n",
       "      <td>-</td>\n",
       "      <td>34780.000</td>\n",
       "      <td>2.000</td>\n",
       "    </tr>\n",
       "    <tr>\n",
       "      <th>12823</th>\n",
       "      <td>Opel Insignia</td>\n",
       "      <td>-</td>\n",
       "      <td>1647.363</td>\n",
       "      <td>0.000</td>\n",
       "    </tr>\n",
       "    <tr>\n",
       "      <th>10837</th>\n",
       "      <td>Opel Insignia</td>\n",
       "      <td>-</td>\n",
       "      <td>99000.000</td>\n",
       "      <td>2.000</td>\n",
       "    </tr>\n",
       "    <tr>\n",
       "      <th>12787</th>\n",
       "      <td>Opel Insignia</td>\n",
       "      <td>-</td>\n",
       "      <td>100.000</td>\n",
       "      <td>0.000</td>\n",
       "    </tr>\n",
       "    <tr>\n",
       "      <th>12476</th>\n",
       "      <td>Opel Insignia</td>\n",
       "      <td>-</td>\n",
       "      <td>10.000</td>\n",
       "      <td>0.000</td>\n",
       "    </tr>\n",
       "    <tr>\n",
       "      <th>10955</th>\n",
       "      <td>Opel Insignia</td>\n",
       "      <td>-</td>\n",
       "      <td>34780.000</td>\n",
       "      <td>2.000</td>\n",
       "    </tr>\n",
       "  </tbody>\n",
       "</table></div>"
      ],
      "text/plain": [
       "          make_model previous_owners        km   age\n",
       "12752  Opel Insignia               -  1647.363 0.000\n",
       "10904  Opel Insignia               - 78225.000 2.000\n",
       "12930  Opel Insignia               -  6800.000 0.000\n",
       "11194  Opel Insignia               - 73130.000 3.000\n",
       "10957  Opel Insignia               - 34780.000 2.000\n",
       "12823  Opel Insignia               -  1647.363 0.000\n",
       "10837  Opel Insignia               - 99000.000 2.000\n",
       "12787  Opel Insignia               -   100.000 0.000\n",
       "12476  Opel Insignia               -    10.000 0.000\n",
       "10955  Opel Insignia               - 34780.000 2.000"
      ]
     },
     "execution_count": 898,
     "metadata": {},
     "output_type": "execute_result"
    }
   ],
   "source": [
    "df[(df[\"make_model\"]==\"Opel Insignia\") & (df[\"previous_owners\"] == \"-\")][[\"make_model\", \"previous_owners\", \"km\", 'age']].sample(10)"
   ]
  },
  {
   "cell_type": "code",
   "execution_count": 899,
   "metadata": {},
   "outputs": [
    {
     "data": {
      "text/html": [
       "<div><div id=1b45572f-90d1-4e5f-a56c-078c6a7ed36e style=\"display:none; background-color:#9D6CFF; color:white; width:200px; height:30px; padding-left:5px; border-radius:4px; flex-direction:row; justify-content:space-around; align-items:center;\" onmouseover=\"this.style.backgroundColor='#BA9BF8'\" onmouseout=\"this.style.backgroundColor='#9D6CFF'\" onclick=\"window.commands?.execute('create-mitosheet-from-dataframe-output');\">See Full Dataframe in Mito</div> <script> if (window.commands?.hasCommand('create-mitosheet-from-dataframe-output')) document.getElementById('1b45572f-90d1-4e5f-a56c-078c6a7ed36e').style.display = 'flex' </script> <table border=\"1\" class=\"dataframe\">\n",
       "  <thead>\n",
       "    <tr style=\"text-align: right;\">\n",
       "      <th></th>\n",
       "      <th>make_model</th>\n",
       "      <th>previous_owners</th>\n",
       "      <th>km</th>\n",
       "      <th>age</th>\n",
       "    </tr>\n",
       "  </thead>\n",
       "  <tbody>\n",
       "    <tr>\n",
       "      <th>14876</th>\n",
       "      <td>Renault Clio</td>\n",
       "      <td>-</td>\n",
       "      <td>5.000</td>\n",
       "      <td>0.000</td>\n",
       "    </tr>\n",
       "    <tr>\n",
       "      <th>13632</th>\n",
       "      <td>Renault Clio</td>\n",
       "      <td>-</td>\n",
       "      <td>135050.000</td>\n",
       "      <td>3.000</td>\n",
       "    </tr>\n",
       "    <tr>\n",
       "      <th>14622</th>\n",
       "      <td>Renault Clio</td>\n",
       "      <td>-</td>\n",
       "      <td>99.000</td>\n",
       "      <td>1.000</td>\n",
       "    </tr>\n",
       "    <tr>\n",
       "      <th>14538</th>\n",
       "      <td>Renault Clio</td>\n",
       "      <td>-</td>\n",
       "      <td>7.000</td>\n",
       "      <td>0.000</td>\n",
       "    </tr>\n",
       "    <tr>\n",
       "      <th>13318</th>\n",
       "      <td>Renault Clio</td>\n",
       "      <td>-</td>\n",
       "      <td>25500.000</td>\n",
       "      <td>3.000</td>\n",
       "    </tr>\n",
       "    <tr>\n",
       "      <th>14825</th>\n",
       "      <td>Renault Clio</td>\n",
       "      <td>-</td>\n",
       "      <td>10.000</td>\n",
       "      <td>0.000</td>\n",
       "    </tr>\n",
       "    <tr>\n",
       "      <th>13830</th>\n",
       "      <td>Renault Clio</td>\n",
       "      <td>-</td>\n",
       "      <td>22000.000</td>\n",
       "      <td>1.000</td>\n",
       "    </tr>\n",
       "    <tr>\n",
       "      <th>13654</th>\n",
       "      <td>Renault Clio</td>\n",
       "      <td>-</td>\n",
       "      <td>98694.000</td>\n",
       "      <td>3.000</td>\n",
       "    </tr>\n",
       "    <tr>\n",
       "      <th>13200</th>\n",
       "      <td>Renault Clio</td>\n",
       "      <td>-</td>\n",
       "      <td>42504.000</td>\n",
       "      <td>3.000</td>\n",
       "    </tr>\n",
       "    <tr>\n",
       "      <th>13257</th>\n",
       "      <td>Renault Clio</td>\n",
       "      <td>-</td>\n",
       "      <td>1647.363</td>\n",
       "      <td>0.000</td>\n",
       "    </tr>\n",
       "  </tbody>\n",
       "</table></div>"
      ],
      "text/plain": [
       "         make_model previous_owners         km   age\n",
       "14876  Renault Clio               -      5.000 0.000\n",
       "13632  Renault Clio               - 135050.000 3.000\n",
       "14622  Renault Clio               -     99.000 1.000\n",
       "14538  Renault Clio               -      7.000 0.000\n",
       "13318  Renault Clio               -  25500.000 3.000\n",
       "14825  Renault Clio               -     10.000 0.000\n",
       "13830  Renault Clio               -  22000.000 1.000\n",
       "13654  Renault Clio               -  98694.000 3.000\n",
       "13200  Renault Clio               -  42504.000 3.000\n",
       "13257  Renault Clio               -   1647.363 0.000"
      ]
     },
     "execution_count": 899,
     "metadata": {},
     "output_type": "execute_result"
    }
   ],
   "source": [
    "df[(df[\"make_model\"]==\"Renault Clio\") & (df[\"previous_owners\"] == \"-\")][[\"make_model\", \"previous_owners\", \"km\", 'age']].sample(10)"
   ]
  },
  {
   "cell_type": "code",
   "execution_count": 900,
   "metadata": {},
   "outputs": [
    {
     "data": {
      "text/html": [
       "<div><div id=80d1701b-73a9-4816-beb4-10b342f8e6ad style=\"display:none; background-color:#9D6CFF; color:white; width:200px; height:30px; padding-left:5px; border-radius:4px; flex-direction:row; justify-content:space-around; align-items:center;\" onmouseover=\"this.style.backgroundColor='#BA9BF8'\" onmouseout=\"this.style.backgroundColor='#9D6CFF'\" onclick=\"window.commands?.execute('create-mitosheet-from-dataframe-output');\">See Full Dataframe in Mito</div> <script> if (window.commands?.hasCommand('create-mitosheet-from-dataframe-output')) document.getElementById('80d1701b-73a9-4816-beb4-10b342f8e6ad').style.display = 'flex' </script> <table border=\"1\" class=\"dataframe\">\n",
       "  <thead>\n",
       "    <tr style=\"text-align: right;\">\n",
       "      <th></th>\n",
       "      <th>make_model</th>\n",
       "      <th>previous_owners</th>\n",
       "      <th>km</th>\n",
       "      <th>age</th>\n",
       "    </tr>\n",
       "  </thead>\n",
       "  <tbody>\n",
       "    <tr>\n",
       "      <th>13301</th>\n",
       "      <td>Renault Clio</td>\n",
       "      <td>2.000</td>\n",
       "      <td>20500.000</td>\n",
       "      <td>3.000</td>\n",
       "    </tr>\n",
       "    <tr>\n",
       "      <th>13967</th>\n",
       "      <td>Renault Clio</td>\n",
       "      <td>2.000</td>\n",
       "      <td>30000.000</td>\n",
       "      <td>2.000</td>\n",
       "    </tr>\n",
       "    <tr>\n",
       "      <th>13458</th>\n",
       "      <td>Renault Clio</td>\n",
       "      <td>2.000</td>\n",
       "      <td>49178.000</td>\n",
       "      <td>3.000</td>\n",
       "    </tr>\n",
       "    <tr>\n",
       "      <th>13799</th>\n",
       "      <td>Renault Clio</td>\n",
       "      <td>2.000</td>\n",
       "      <td>54413.000</td>\n",
       "      <td>2.000</td>\n",
       "    </tr>\n",
       "    <tr>\n",
       "      <th>14586</th>\n",
       "      <td>Renault Clio</td>\n",
       "      <td>2.000</td>\n",
       "      <td>500.000</td>\n",
       "      <td>0.000</td>\n",
       "    </tr>\n",
       "    <tr>\n",
       "      <th>13467</th>\n",
       "      <td>Renault Clio</td>\n",
       "      <td>2.000</td>\n",
       "      <td>49178.000</td>\n",
       "      <td>3.000</td>\n",
       "    </tr>\n",
       "    <tr>\n",
       "      <th>13463</th>\n",
       "      <td>Renault Clio</td>\n",
       "      <td>2.000</td>\n",
       "      <td>49178.000</td>\n",
       "      <td>3.000</td>\n",
       "    </tr>\n",
       "    <tr>\n",
       "      <th>13466</th>\n",
       "      <td>Renault Clio</td>\n",
       "      <td>2.000</td>\n",
       "      <td>49178.000</td>\n",
       "      <td>3.000</td>\n",
       "    </tr>\n",
       "    <tr>\n",
       "      <th>14394</th>\n",
       "      <td>Renault Clio</td>\n",
       "      <td>2.000</td>\n",
       "      <td>5210.000</td>\n",
       "      <td>1.000</td>\n",
       "    </tr>\n",
       "    <tr>\n",
       "      <th>13818</th>\n",
       "      <td>Renault Clio</td>\n",
       "      <td>2.000</td>\n",
       "      <td>44000.000</td>\n",
       "      <td>3.000</td>\n",
       "    </tr>\n",
       "  </tbody>\n",
       "</table></div>"
      ],
      "text/plain": [
       "         make_model previous_owners        km   age\n",
       "13301  Renault Clio           2.000 20500.000 3.000\n",
       "13967  Renault Clio           2.000 30000.000 2.000\n",
       "13458  Renault Clio           2.000 49178.000 3.000\n",
       "13799  Renault Clio           2.000 54413.000 2.000\n",
       "14586  Renault Clio           2.000   500.000 0.000\n",
       "13467  Renault Clio           2.000 49178.000 3.000\n",
       "13463  Renault Clio           2.000 49178.000 3.000\n",
       "13466  Renault Clio           2.000 49178.000 3.000\n",
       "14394  Renault Clio           2.000  5210.000 1.000\n",
       "13818  Renault Clio           2.000 44000.000 3.000"
      ]
     },
     "execution_count": 900,
     "metadata": {},
     "output_type": "execute_result"
    }
   ],
   "source": [
    "df[(df[\"make_model\"]==\"Renault Clio\") & (df[\"previous_owners\"] == 2.0)][[\"make_model\", \"previous_owners\", \"km\", 'age']].sample(10)"
   ]
  },
  {
   "cell_type": "code",
   "execution_count": 901,
   "metadata": {},
   "outputs": [
    {
     "data": {
      "text/html": [
       "<div><div id=b9009ead-6658-41aa-a382-87fefc548a52 style=\"display:none; background-color:#9D6CFF; color:white; width:200px; height:30px; padding-left:5px; border-radius:4px; flex-direction:row; justify-content:space-around; align-items:center;\" onmouseover=\"this.style.backgroundColor='#BA9BF8'\" onmouseout=\"this.style.backgroundColor='#9D6CFF'\" onclick=\"window.commands?.execute('create-mitosheet-from-dataframe-output');\">See Full Dataframe in Mito</div> <script> if (window.commands?.hasCommand('create-mitosheet-from-dataframe-output')) document.getElementById('b9009ead-6658-41aa-a382-87fefc548a52').style.display = 'flex' </script> <table border=\"1\" class=\"dataframe\">\n",
       "  <thead>\n",
       "    <tr style=\"text-align: right;\">\n",
       "      <th></th>\n",
       "      <th>make_model</th>\n",
       "      <th>previous_owners</th>\n",
       "      <th>km</th>\n",
       "      <th>age</th>\n",
       "    </tr>\n",
       "  </thead>\n",
       "  <tbody>\n",
       "    <tr>\n",
       "      <th>13475</th>\n",
       "      <td>Renault Clio</td>\n",
       "      <td>-</td>\n",
       "      <td>43709.000</td>\n",
       "      <td>2.000</td>\n",
       "    </tr>\n",
       "    <tr>\n",
       "      <th>14354</th>\n",
       "      <td>Renault Clio</td>\n",
       "      <td>-</td>\n",
       "      <td>21197.000</td>\n",
       "      <td>1.000</td>\n",
       "    </tr>\n",
       "    <tr>\n",
       "      <th>13930</th>\n",
       "      <td>Renault Clio</td>\n",
       "      <td>1.000</td>\n",
       "      <td>46610.000</td>\n",
       "      <td>2.000</td>\n",
       "    </tr>\n",
       "    <tr>\n",
       "      <th>14777</th>\n",
       "      <td>Renault Clio</td>\n",
       "      <td>0.000</td>\n",
       "      <td>10.000</td>\n",
       "      <td>0.000</td>\n",
       "    </tr>\n",
       "    <tr>\n",
       "      <th>13302</th>\n",
       "      <td>Renault Clio</td>\n",
       "      <td>-</td>\n",
       "      <td>24700.000</td>\n",
       "      <td>1.000</td>\n",
       "    </tr>\n",
       "    <tr>\n",
       "      <th>13960</th>\n",
       "      <td>Renault Clio</td>\n",
       "      <td>-</td>\n",
       "      <td>10.000</td>\n",
       "      <td>0.000</td>\n",
       "    </tr>\n",
       "    <tr>\n",
       "      <th>13720</th>\n",
       "      <td>Renault Clio</td>\n",
       "      <td>1.000</td>\n",
       "      <td>98000.000</td>\n",
       "      <td>3.000</td>\n",
       "    </tr>\n",
       "    <tr>\n",
       "      <th>14646</th>\n",
       "      <td>Renault Clio</td>\n",
       "      <td>-</td>\n",
       "      <td>1.000</td>\n",
       "      <td>0.000</td>\n",
       "    </tr>\n",
       "    <tr>\n",
       "      <th>14468</th>\n",
       "      <td>Renault Clio</td>\n",
       "      <td>-</td>\n",
       "      <td>10.000</td>\n",
       "      <td>0.000</td>\n",
       "    </tr>\n",
       "    <tr>\n",
       "      <th>14823</th>\n",
       "      <td>Renault Clio</td>\n",
       "      <td>1.000</td>\n",
       "      <td>10.000</td>\n",
       "      <td>0.000</td>\n",
       "    </tr>\n",
       "  </tbody>\n",
       "</table></div>"
      ],
      "text/plain": [
       "         make_model previous_owners        km   age\n",
       "13475  Renault Clio               - 43709.000 2.000\n",
       "14354  Renault Clio               - 21197.000 1.000\n",
       "13930  Renault Clio           1.000 46610.000 2.000\n",
       "14777  Renault Clio           0.000    10.000 0.000\n",
       "13302  Renault Clio               - 24700.000 1.000\n",
       "13960  Renault Clio               -    10.000 0.000\n",
       "13720  Renault Clio           1.000 98000.000 3.000\n",
       "14646  Renault Clio               -     1.000 0.000\n",
       "14468  Renault Clio               -    10.000 0.000\n",
       "14823  Renault Clio           1.000    10.000 0.000"
      ]
     },
     "execution_count": 901,
     "metadata": {},
     "output_type": "execute_result"
    }
   ],
   "source": [
    "df[(df[\"make_model\"]==\"Renault Clio\")][[\"make_model\", \"previous_owners\", \"km\", 'age']].sample(10)"
   ]
  },
  {
   "cell_type": "code",
   "execution_count": 902,
   "metadata": {},
   "outputs": [
    {
     "data": {
      "text/html": [
       "<div><div id=294f8090-c98e-4c06-ba7c-429a582c423e style=\"display:none; background-color:#9D6CFF; color:white; width:200px; height:30px; padding-left:5px; border-radius:4px; flex-direction:row; justify-content:space-around; align-items:center;\" onmouseover=\"this.style.backgroundColor='#BA9BF8'\" onmouseout=\"this.style.backgroundColor='#9D6CFF'\" onclick=\"window.commands?.execute('create-mitosheet-from-dataframe-output');\">See Full Dataframe in Mito</div> <script> if (window.commands?.hasCommand('create-mitosheet-from-dataframe-output')) document.getElementById('294f8090-c98e-4c06-ba7c-429a582c423e').style.display = 'flex' </script> <table border=\"1\" class=\"dataframe\">\n",
       "  <thead>\n",
       "    <tr style=\"text-align: right;\">\n",
       "      <th></th>\n",
       "      <th>make_model</th>\n",
       "      <th>previous_owners</th>\n",
       "      <th>km</th>\n",
       "      <th>age</th>\n",
       "    </tr>\n",
       "  </thead>\n",
       "  <tbody>\n",
       "    <tr>\n",
       "      <th>14926</th>\n",
       "      <td>Renault Duster</td>\n",
       "      <td>-</td>\n",
       "      <td>101.000</td>\n",
       "      <td>0.000</td>\n",
       "    </tr>\n",
       "    <tr>\n",
       "      <th>14925</th>\n",
       "      <td>Renault Duster</td>\n",
       "      <td>-</td>\n",
       "      <td>101.000</td>\n",
       "      <td>0.000</td>\n",
       "    </tr>\n",
       "    <tr>\n",
       "      <th>14918</th>\n",
       "      <td>Renault Duster</td>\n",
       "      <td>-</td>\n",
       "      <td>1647.363</td>\n",
       "      <td>0.000</td>\n",
       "    </tr>\n",
       "    <tr>\n",
       "      <th>14908</th>\n",
       "      <td>Renault Duster</td>\n",
       "      <td>-</td>\n",
       "      <td>1647.363</td>\n",
       "      <td>0.000</td>\n",
       "    </tr>\n",
       "    <tr>\n",
       "      <th>14898</th>\n",
       "      <td>Renault Duster</td>\n",
       "      <td>-</td>\n",
       "      <td>101.000</td>\n",
       "      <td>0.000</td>\n",
       "    </tr>\n",
       "    <tr>\n",
       "      <th>14909</th>\n",
       "      <td>Renault Duster</td>\n",
       "      <td>-</td>\n",
       "      <td>1647.363</td>\n",
       "      <td>0.000</td>\n",
       "    </tr>\n",
       "    <tr>\n",
       "      <th>14923</th>\n",
       "      <td>Renault Duster</td>\n",
       "      <td>-</td>\n",
       "      <td>101.000</td>\n",
       "      <td>0.000</td>\n",
       "    </tr>\n",
       "    <tr>\n",
       "      <th>14896</th>\n",
       "      <td>Renault Duster</td>\n",
       "      <td>-</td>\n",
       "      <td>101.000</td>\n",
       "      <td>0.000</td>\n",
       "    </tr>\n",
       "    <tr>\n",
       "      <th>14914</th>\n",
       "      <td>Renault Duster</td>\n",
       "      <td>-</td>\n",
       "      <td>101.000</td>\n",
       "      <td>0.000</td>\n",
       "    </tr>\n",
       "    <tr>\n",
       "      <th>14919</th>\n",
       "      <td>Renault Duster</td>\n",
       "      <td>-</td>\n",
       "      <td>1647.363</td>\n",
       "      <td>0.000</td>\n",
       "    </tr>\n",
       "  </tbody>\n",
       "</table></div>"
      ],
      "text/plain": [
       "           make_model previous_owners       km   age\n",
       "14926  Renault Duster               -  101.000 0.000\n",
       "14925  Renault Duster               -  101.000 0.000\n",
       "14918  Renault Duster               - 1647.363 0.000\n",
       "14908  Renault Duster               - 1647.363 0.000\n",
       "14898  Renault Duster               -  101.000 0.000\n",
       "14909  Renault Duster               - 1647.363 0.000\n",
       "14923  Renault Duster               -  101.000 0.000\n",
       "14896  Renault Duster               -  101.000 0.000\n",
       "14914  Renault Duster               -  101.000 0.000\n",
       "14919  Renault Duster               - 1647.363 0.000"
      ]
     },
     "execution_count": 902,
     "metadata": {},
     "output_type": "execute_result"
    }
   ],
   "source": [
    "df[(df[\"make_model\"]==\"Renault Duster\")][[\"make_model\", \"previous_owners\", \"km\", 'age']].sample(10)"
   ]
  },
  {
   "cell_type": "markdown",
   "metadata": {},
   "source": [
    "I can fill this column with fillna(ffill and bfill) method."
   ]
  },
  {
   "cell_type": "code",
   "execution_count": 903,
   "metadata": {},
   "outputs": [],
   "source": [
    "df[\"previous_owners\"] = df[\"previous_owners\"].replace(\"-\", np.nan)\n"
   ]
  },
  {
   "cell_type": "code",
   "execution_count": 904,
   "metadata": {},
   "outputs": [
    {
     "data": {
      "text/plain": [
       "1.000    8294\n",
       "NaN      6640\n",
       "2.000     778\n",
       "0.000     188\n",
       "3.000      17\n",
       "4.000       2\n",
       "Name: previous_owners, dtype: int64"
      ]
     },
     "execution_count": 904,
     "metadata": {},
     "output_type": "execute_result"
    }
   ],
   "source": [
    "df.previous_owners.value_counts(dropna=False)"
   ]
  },
  {
   "cell_type": "code",
   "execution_count": 905,
   "metadata": {},
   "outputs": [],
   "source": [
    "def fill_prop(df, group_col, col_name):\n",
    "    #Fills the missing values with \\\"ffill and bfill method\\\" according to single-stage grouping\n",
    "    for group in list(df[group_col].unique()):\n",
    "        cond = df[group_col] == group\n",
    "        grp_inx = list(df[cond][col_name].index)\n",
    "        df.loc[cond, col_name] = df.loc[cond, col_name].fillna(method=\"ffill\").fillna(method=\"bfill\")\n",
    "    df[col_name] = df[col_name].fillna(method=\"ffill\").fillna(method=\"bfill\")\n",
    "    print(\"Number of NaN : \", df[col_name].isnull().sum())\n",
    "    print(\"------------------\")\n",
    "    print(df[col_name].value_counts(dropna=False))\n"
   ]
  },
  {
   "cell_type": "code",
   "execution_count": 906,
   "metadata": {},
   "outputs": [
    {
     "name": "stdout",
     "output_type": "stream",
     "text": [
      "Number of NaN :  0\n",
      "------------------\n",
      "1.000    14170\n",
      "2.000     1172\n",
      "0.000      546\n",
      "3.000       29\n",
      "4.000        2\n",
      "Name: previous_owners, dtype: int64\n"
     ]
    }
   ],
   "source": [
    "fill_prop(df, \"age\", \"previous_owners\")\n"
   ]
  },
  {
   "cell_type": "code",
   "execution_count": 907,
   "metadata": {},
   "outputs": [
    {
     "data": {
      "text/plain": [
       "Index(['make_model', 'body_type', 'price', 'vat', 'km', 'previous_owners',\n",
       "       'next_inspection', 'inspection_new', 'body_color', 'paint_type',\n",
       "       'num_of_doors', 'num_of_seats', 'gearing_type', 'cylinders',\n",
       "       'drive_chain', 'fuel', 'consumption', 'co2_emission', 'emission_class',\n",
       "       'comfort_convenience', 'entertainment_media', 'extras',\n",
       "       'safety_security', 'gears', 'age', 'hp_kw', 'type', 'upholstery_type',\n",
       "       'upholstery_color', 'displacement_cc', 'weight_kg', 'cons_comb',\n",
       "       'cons_city', 'cons_country'],\n",
       "      dtype='object')"
      ]
     },
     "execution_count": 907,
     "metadata": {},
     "output_type": "execute_result"
    }
   ],
   "source": [
    "df.columns"
   ]
  },
  {
   "cell_type": "markdown",
   "metadata": {},
   "source": [
    "### inspection_new column:"
   ]
  },
  {
   "cell_type": "code",
   "execution_count": 908,
   "metadata": {},
   "outputs": [
    {
     "name": "stdout",
     "output_type": "stream",
     "text": [
      "\n",
      "Percentage of Missing Values : % 75.3 \n",
      "\n",
      "Number of Missings           :  11987 \n",
      "\n",
      "Number of Uniques            :  1 \n",
      "\n",
      "Value counts                 : \n",
      "\n",
      " NaN    11987\n",
      "Yes     3932\n",
      "Name: inspection_new, dtype: int64\n"
     ]
    }
   ],
   "source": [
    "print('\\n''Percentage of Missing Values : %', round(\n",
    "    df['inspection_new'].isnull().sum()/df.shape[0]*100, 2), '\\n')\n",
    "print(\"Number of Missings           : \",\n",
    "      df['inspection_new'].isnull().sum(), '\\n')\n",
    "print(\"Number of Uniques            : \", df['inspection_new'].nunique(), '\\n')\n",
    "print('Value counts                 : ''\\n''\\n',df['inspection_new'].value_counts(dropna=False))"
   ]
  },
  {
   "cell_type": "code",
   "execution_count": 909,
   "metadata": {},
   "outputs": [
    {
     "data": {
      "text/plain": [
       "NaN    11987\n",
       "Yes     3932\n",
       "Name: inspection_new, dtype: int64"
      ]
     },
     "execution_count": 909,
     "metadata": {},
     "output_type": "execute_result"
    }
   ],
   "source": [
    "df.inspection_new.value_counts(dropna=False)"
   ]
  },
  {
   "cell_type": "markdown",
   "metadata": {},
   "source": [
    "In this column we have only 2 values; NaN and 'Yes'."
   ]
  },
  {
   "cell_type": "code",
   "execution_count": 910,
   "metadata": {},
   "outputs": [],
   "source": [
    "df[\"inspection_new\"].fillna(\"-\", inplace=True)\n"
   ]
  },
  {
   "cell_type": "code",
   "execution_count": 911,
   "metadata": {},
   "outputs": [
    {
     "data": {
      "text/plain": [
       "-      11987\n",
       "Yes     3932\n",
       "Name: inspection_new, dtype: int64"
      ]
     },
     "execution_count": 911,
     "metadata": {},
     "output_type": "execute_result"
    }
   ],
   "source": [
    "df.inspection_new.value_counts(dropna=False)\n"
   ]
  },
  {
   "cell_type": "code",
   "execution_count": 912,
   "metadata": {},
   "outputs": [
    {
     "data": {
      "text/html": [
       "<div><div id=8b27aa15-9877-4b71-9612-74945dc7c14b style=\"display:none; background-color:#9D6CFF; color:white; width:200px; height:30px; padding-left:5px; border-radius:4px; flex-direction:row; justify-content:space-around; align-items:center;\" onmouseover=\"this.style.backgroundColor='#BA9BF8'\" onmouseout=\"this.style.backgroundColor='#9D6CFF'\" onclick=\"window.commands?.execute('create-mitosheet-from-dataframe-output');\">See Full Dataframe in Mito</div> <script> if (window.commands?.hasCommand('create-mitosheet-from-dataframe-output')) document.getElementById('8b27aa15-9877-4b71-9612-74945dc7c14b').style.display = 'flex' </script> <table border=\"1\" class=\"dataframe\">\n",
       "  <thead>\n",
       "    <tr style=\"text-align: right;\">\n",
       "      <th></th>\n",
       "      <th></th>\n",
       "      <th></th>\n",
       "      <th></th>\n",
       "      <th>count</th>\n",
       "      <th>mean</th>\n",
       "      <th>std</th>\n",
       "      <th>min</th>\n",
       "      <th>25%</th>\n",
       "      <th>50%</th>\n",
       "      <th>75%</th>\n",
       "      <th>max</th>\n",
       "    </tr>\n",
       "    <tr>\n",
       "      <th>make_model</th>\n",
       "      <th>age</th>\n",
       "      <th>km</th>\n",
       "      <th>inspection_new</th>\n",
       "      <th></th>\n",
       "      <th></th>\n",
       "      <th></th>\n",
       "      <th></th>\n",
       "      <th></th>\n",
       "      <th></th>\n",
       "      <th></th>\n",
       "      <th></th>\n",
       "    </tr>\n",
       "  </thead>\n",
       "  <tbody>\n",
       "    <tr>\n",
       "      <th rowspan=\"5\" valign=\"top\">Audi A1</th>\n",
       "      <th rowspan=\"5\" valign=\"top\">0.000</th>\n",
       "      <th rowspan=\"2\" valign=\"top\">0.000</th>\n",
       "      <th>-</th>\n",
       "      <td>2.000</td>\n",
       "      <td>23999.500</td>\n",
       "      <td>8485.988</td>\n",
       "      <td>17999.000</td>\n",
       "      <td>20999.250</td>\n",
       "      <td>23999.500</td>\n",
       "      <td>26999.750</td>\n",
       "      <td>30000.000</td>\n",
       "    </tr>\n",
       "    <tr>\n",
       "      <th>Yes</th>\n",
       "      <td>2.000</td>\n",
       "      <td>22720.000</td>\n",
       "      <td>0.000</td>\n",
       "      <td>22720.000</td>\n",
       "      <td>22720.000</td>\n",
       "      <td>22720.000</td>\n",
       "      <td>22720.000</td>\n",
       "      <td>22720.000</td>\n",
       "    </tr>\n",
       "    <tr>\n",
       "      <th>1.000</th>\n",
       "      <th>-</th>\n",
       "      <td>49.000</td>\n",
       "      <td>22068.429</td>\n",
       "      <td>2826.160</td>\n",
       "      <td>17330.000</td>\n",
       "      <td>20850.000</td>\n",
       "      <td>21290.000</td>\n",
       "      <td>23900.000</td>\n",
       "      <td>32000.000</td>\n",
       "    </tr>\n",
       "    <tr>\n",
       "      <th>5.000</th>\n",
       "      <th>-</th>\n",
       "      <td>2.000</td>\n",
       "      <td>24595.000</td>\n",
       "      <td>5225.519</td>\n",
       "      <td>20900.000</td>\n",
       "      <td>22747.500</td>\n",
       "      <td>24595.000</td>\n",
       "      <td>26442.500</td>\n",
       "      <td>28290.000</td>\n",
       "    </tr>\n",
       "    <tr>\n",
       "      <th>6.000</th>\n",
       "      <th>-</th>\n",
       "      <td>3.000</td>\n",
       "      <td>23475.000</td>\n",
       "      <td>0.000</td>\n",
       "      <td>23475.000</td>\n",
       "      <td>23475.000</td>\n",
       "      <td>23475.000</td>\n",
       "      <td>23475.000</td>\n",
       "      <td>23475.000</td>\n",
       "    </tr>\n",
       "    <tr>\n",
       "      <th>...</th>\n",
       "      <th>...</th>\n",
       "      <th>...</th>\n",
       "      <th>...</th>\n",
       "      <td>...</td>\n",
       "      <td>...</td>\n",
       "      <td>...</td>\n",
       "      <td>...</td>\n",
       "      <td>...</td>\n",
       "      <td>...</td>\n",
       "      <td>...</td>\n",
       "      <td>...</td>\n",
       "    </tr>\n",
       "    <tr>\n",
       "      <th rowspan=\"5\" valign=\"top\">Renault Espace</th>\n",
       "      <th rowspan=\"5\" valign=\"top\">3.000</th>\n",
       "      <th>152736.000</th>\n",
       "      <th>-</th>\n",
       "      <td>1.000</td>\n",
       "      <td>13500.000</td>\n",
       "      <td>NaN</td>\n",
       "      <td>13500.000</td>\n",
       "      <td>13500.000</td>\n",
       "      <td>13500.000</td>\n",
       "      <td>13500.000</td>\n",
       "      <td>13500.000</td>\n",
       "    </tr>\n",
       "    <tr>\n",
       "      <th>169068.000</th>\n",
       "      <th>-</th>\n",
       "      <td>1.000</td>\n",
       "      <td>15500.000</td>\n",
       "      <td>NaN</td>\n",
       "      <td>15500.000</td>\n",
       "      <td>15500.000</td>\n",
       "      <td>15500.000</td>\n",
       "      <td>15500.000</td>\n",
       "      <td>15500.000</td>\n",
       "    </tr>\n",
       "    <tr>\n",
       "      <th>180000.000</th>\n",
       "      <th>Yes</th>\n",
       "      <td>1.000</td>\n",
       "      <td>12990.000</td>\n",
       "      <td>NaN</td>\n",
       "      <td>12990.000</td>\n",
       "      <td>12990.000</td>\n",
       "      <td>12990.000</td>\n",
       "      <td>12990.000</td>\n",
       "      <td>12990.000</td>\n",
       "    </tr>\n",
       "    <tr>\n",
       "      <th>197323.000</th>\n",
       "      <th>Yes</th>\n",
       "      <td>1.000</td>\n",
       "      <td>12614.000</td>\n",
       "      <td>NaN</td>\n",
       "      <td>12614.000</td>\n",
       "      <td>12614.000</td>\n",
       "      <td>12614.000</td>\n",
       "      <td>12614.000</td>\n",
       "      <td>12614.000</td>\n",
       "    </tr>\n",
       "    <tr>\n",
       "      <th>197414.000</th>\n",
       "      <th>-</th>\n",
       "      <td>1.000</td>\n",
       "      <td>12990.000</td>\n",
       "      <td>NaN</td>\n",
       "      <td>12990.000</td>\n",
       "      <td>12990.000</td>\n",
       "      <td>12990.000</td>\n",
       "      <td>12990.000</td>\n",
       "      <td>12990.000</td>\n",
       "    </tr>\n",
       "  </tbody>\n",
       "</table></div>"
      ],
      "text/plain": [
       "                                                count      mean      std  \\\n",
       "make_model     age   km         inspection_new                             \n",
       "Audi A1        0.000 0.000      -               2.000 23999.500 8485.988   \n",
       "                                Yes             2.000 22720.000    0.000   \n",
       "                     1.000      -              49.000 22068.429 2826.160   \n",
       "                     5.000      -               2.000 24595.000 5225.519   \n",
       "                     6.000      -               3.000 23475.000    0.000   \n",
       "...                                               ...       ...      ...   \n",
       "Renault Espace 3.000 152736.000 -               1.000 13500.000      NaN   \n",
       "                     169068.000 -               1.000 15500.000      NaN   \n",
       "                     180000.000 Yes             1.000 12990.000      NaN   \n",
       "                     197323.000 Yes             1.000 12614.000      NaN   \n",
       "                     197414.000 -               1.000 12990.000      NaN   \n",
       "\n",
       "                                                     min       25%       50%  \\\n",
       "make_model     age   km         inspection_new                                 \n",
       "Audi A1        0.000 0.000      -              17999.000 20999.250 23999.500   \n",
       "                                Yes            22720.000 22720.000 22720.000   \n",
       "                     1.000      -              17330.000 20850.000 21290.000   \n",
       "                     5.000      -              20900.000 22747.500 24595.000   \n",
       "                     6.000      -              23475.000 23475.000 23475.000   \n",
       "...                                                  ...       ...       ...   \n",
       "Renault Espace 3.000 152736.000 -              13500.000 13500.000 13500.000   \n",
       "                     169068.000 -              15500.000 15500.000 15500.000   \n",
       "                     180000.000 Yes            12990.000 12990.000 12990.000   \n",
       "                     197323.000 Yes            12614.000 12614.000 12614.000   \n",
       "                     197414.000 -              12990.000 12990.000 12990.000   \n",
       "\n",
       "                                                     75%       max  \n",
       "make_model     age   km         inspection_new                      \n",
       "Audi A1        0.000 0.000      -              26999.750 30000.000  \n",
       "                                Yes            22720.000 22720.000  \n",
       "                     1.000      -              23900.000 32000.000  \n",
       "                     5.000      -              26442.500 28290.000  \n",
       "                     6.000      -              23475.000 23475.000  \n",
       "...                                                  ...       ...  \n",
       "Renault Espace 3.000 152736.000 -              13500.000 13500.000  \n",
       "                     169068.000 -              15500.000 15500.000  \n",
       "                     180000.000 Yes            12990.000 12990.000  \n",
       "                     197323.000 Yes            12614.000 12614.000  \n",
       "                     197414.000 -              12990.000 12990.000  \n",
       "\n",
       "[9882 rows x 8 columns]"
      ]
     },
     "execution_count": 912,
     "metadata": {},
     "output_type": "execute_result"
    }
   ],
   "source": [
    "df.groupby([\"make_model\", \"age\", 'km', \"inspection_new\"]).price.describe()\n"
   ]
  },
  {
   "cell_type": "code",
   "execution_count": 913,
   "metadata": {},
   "outputs": [
    {
     "data": {
      "text/html": [
       "<div><div id=4f1a4779-7b97-4792-aee9-fde6df87117f style=\"display:none; background-color:#9D6CFF; color:white; width:200px; height:30px; padding-left:5px; border-radius:4px; flex-direction:row; justify-content:space-around; align-items:center;\" onmouseover=\"this.style.backgroundColor='#BA9BF8'\" onmouseout=\"this.style.backgroundColor='#9D6CFF'\" onclick=\"window.commands?.execute('create-mitosheet-from-dataframe-output');\">See Full Dataframe in Mito</div> <script> if (window.commands?.hasCommand('create-mitosheet-from-dataframe-output')) document.getElementById('4f1a4779-7b97-4792-aee9-fde6df87117f').style.display = 'flex' </script> <table border=\"1\" class=\"dataframe\">\n",
       "  <thead>\n",
       "    <tr style=\"text-align: right;\">\n",
       "      <th></th>\n",
       "      <th>make_model</th>\n",
       "      <th>inspection_new</th>\n",
       "      <th>km</th>\n",
       "      <th>age</th>\n",
       "    </tr>\n",
       "  </thead>\n",
       "  <tbody>\n",
       "    <tr>\n",
       "      <th>14384</th>\n",
       "      <td>Renault Clio</td>\n",
       "      <td>Yes</td>\n",
       "      <td>1.000</td>\n",
       "      <td>1.000</td>\n",
       "    </tr>\n",
       "    <tr>\n",
       "      <th>12036</th>\n",
       "      <td>Opel Insignia</td>\n",
       "      <td>Yes</td>\n",
       "      <td>22712.000</td>\n",
       "      <td>1.000</td>\n",
       "    </tr>\n",
       "    <tr>\n",
       "      <th>1929</th>\n",
       "      <td>Audi A1</td>\n",
       "      <td>Yes</td>\n",
       "      <td>1647.363</td>\n",
       "      <td>0.000</td>\n",
       "    </tr>\n",
       "    <tr>\n",
       "      <th>15598</th>\n",
       "      <td>Renault Espace</td>\n",
       "      <td>Yes</td>\n",
       "      <td>29400.000</td>\n",
       "      <td>1.000</td>\n",
       "    </tr>\n",
       "    <tr>\n",
       "      <th>1410</th>\n",
       "      <td>Audi A1</td>\n",
       "      <td>Yes</td>\n",
       "      <td>12200.000</td>\n",
       "      <td>2.000</td>\n",
       "    </tr>\n",
       "    <tr>\n",
       "      <th>4666</th>\n",
       "      <td>Audi A3</td>\n",
       "      <td>Yes</td>\n",
       "      <td>27350.000</td>\n",
       "      <td>1.000</td>\n",
       "    </tr>\n",
       "    <tr>\n",
       "      <th>11901</th>\n",
       "      <td>Opel Insignia</td>\n",
       "      <td>Yes</td>\n",
       "      <td>15469.000</td>\n",
       "      <td>1.000</td>\n",
       "    </tr>\n",
       "    <tr>\n",
       "      <th>11314</th>\n",
       "      <td>Opel Insignia</td>\n",
       "      <td>Yes</td>\n",
       "      <td>30900.000</td>\n",
       "      <td>1.000</td>\n",
       "    </tr>\n",
       "    <tr>\n",
       "      <th>1556</th>\n",
       "      <td>Audi A1</td>\n",
       "      <td>Yes</td>\n",
       "      <td>19724.000</td>\n",
       "      <td>1.000</td>\n",
       "    </tr>\n",
       "    <tr>\n",
       "      <th>2516</th>\n",
       "      <td>Audi A1</td>\n",
       "      <td>Yes</td>\n",
       "      <td>1647.363</td>\n",
       "      <td>0.000</td>\n",
       "    </tr>\n",
       "  </tbody>\n",
       "</table></div>"
      ],
      "text/plain": [
       "           make_model inspection_new        km   age\n",
       "14384    Renault Clio            Yes     1.000 1.000\n",
       "12036   Opel Insignia            Yes 22712.000 1.000\n",
       "1929          Audi A1            Yes  1647.363 0.000\n",
       "15598  Renault Espace            Yes 29400.000 1.000\n",
       "1410          Audi A1            Yes 12200.000 2.000\n",
       "4666          Audi A3            Yes 27350.000 1.000\n",
       "11901   Opel Insignia            Yes 15469.000 1.000\n",
       "11314   Opel Insignia            Yes 30900.000 1.000\n",
       "1556          Audi A1            Yes 19724.000 1.000\n",
       "2516          Audi A1            Yes  1647.363 0.000"
      ]
     },
     "execution_count": 913,
     "metadata": {},
     "output_type": "execute_result"
    }
   ],
   "source": [
    "df[(df[\"inspection_new\"] == 'Yes')][[\"make_model\", \"inspection_new\", \"km\", 'age']].sample(10)"
   ]
  },
  {
   "cell_type": "code",
   "execution_count": 914,
   "metadata": {},
   "outputs": [
    {
     "data": {
      "text/html": [
       "<div><div id=775ebf11-c07b-4b40-8d41-6aafed17b158 style=\"display:none; background-color:#9D6CFF; color:white; width:200px; height:30px; padding-left:5px; border-radius:4px; flex-direction:row; justify-content:space-around; align-items:center;\" onmouseover=\"this.style.backgroundColor='#BA9BF8'\" onmouseout=\"this.style.backgroundColor='#9D6CFF'\" onclick=\"window.commands?.execute('create-mitosheet-from-dataframe-output');\">See Full Dataframe in Mito</div> <script> if (window.commands?.hasCommand('create-mitosheet-from-dataframe-output')) document.getElementById('775ebf11-c07b-4b40-8d41-6aafed17b158').style.display = 'flex' </script> <table border=\"1\" class=\"dataframe\">\n",
       "  <thead>\n",
       "    <tr style=\"text-align: right;\">\n",
       "      <th></th>\n",
       "      <th>make_model</th>\n",
       "      <th>inspection_new</th>\n",
       "      <th>km</th>\n",
       "      <th>age</th>\n",
       "    </tr>\n",
       "  </thead>\n",
       "  <tbody>\n",
       "    <tr>\n",
       "      <th>13125</th>\n",
       "      <td>Renault Clio</td>\n",
       "      <td>-</td>\n",
       "      <td>10.000</td>\n",
       "      <td>1.000</td>\n",
       "    </tr>\n",
       "    <tr>\n",
       "      <th>14110</th>\n",
       "      <td>Renault Clio</td>\n",
       "      <td>-</td>\n",
       "      <td>19330.000</td>\n",
       "      <td>2.000</td>\n",
       "    </tr>\n",
       "    <tr>\n",
       "      <th>14073</th>\n",
       "      <td>Renault Clio</td>\n",
       "      <td>-</td>\n",
       "      <td>5400.000</td>\n",
       "      <td>1.000</td>\n",
       "    </tr>\n",
       "    <tr>\n",
       "      <th>14303</th>\n",
       "      <td>Renault Clio</td>\n",
       "      <td>-</td>\n",
       "      <td>10.000</td>\n",
       "      <td>0.000</td>\n",
       "    </tr>\n",
       "    <tr>\n",
       "      <th>13179</th>\n",
       "      <td>Renault Clio</td>\n",
       "      <td>-</td>\n",
       "      <td>19528.000</td>\n",
       "      <td>2.000</td>\n",
       "    </tr>\n",
       "    <tr>\n",
       "      <th>14120</th>\n",
       "      <td>Renault Clio</td>\n",
       "      <td>-</td>\n",
       "      <td>150.000</td>\n",
       "      <td>0.000</td>\n",
       "    </tr>\n",
       "    <tr>\n",
       "      <th>14643</th>\n",
       "      <td>Renault Clio</td>\n",
       "      <td>-</td>\n",
       "      <td>35000.000</td>\n",
       "      <td>1.000</td>\n",
       "    </tr>\n",
       "    <tr>\n",
       "      <th>14088</th>\n",
       "      <td>Renault Clio</td>\n",
       "      <td>-</td>\n",
       "      <td>12481.000</td>\n",
       "      <td>1.000</td>\n",
       "    </tr>\n",
       "    <tr>\n",
       "      <th>13907</th>\n",
       "      <td>Renault Clio</td>\n",
       "      <td>-</td>\n",
       "      <td>38500.000</td>\n",
       "      <td>2.000</td>\n",
       "    </tr>\n",
       "    <tr>\n",
       "      <th>14791</th>\n",
       "      <td>Renault Clio</td>\n",
       "      <td>-</td>\n",
       "      <td>1.000</td>\n",
       "      <td>0.000</td>\n",
       "    </tr>\n",
       "  </tbody>\n",
       "</table></div>"
      ],
      "text/plain": [
       "         make_model inspection_new        km   age\n",
       "13125  Renault Clio              -    10.000 1.000\n",
       "14110  Renault Clio              - 19330.000 2.000\n",
       "14073  Renault Clio              -  5400.000 1.000\n",
       "14303  Renault Clio              -    10.000 0.000\n",
       "13179  Renault Clio              - 19528.000 2.000\n",
       "14120  Renault Clio              -   150.000 0.000\n",
       "14643  Renault Clio              - 35000.000 1.000\n",
       "14088  Renault Clio              - 12481.000 1.000\n",
       "13907  Renault Clio              - 38500.000 2.000\n",
       "14791  Renault Clio              -     1.000 0.000"
      ]
     },
     "execution_count": 914,
     "metadata": {},
     "output_type": "execute_result"
    }
   ],
   "source": [
    "df[(df[\"make_model\"] == \"Renault Clio\") & (df[\"inspection_new\"] == '-')][[\"make_model\", \"inspection_new\", \"km\", 'age']].sample(10)\n"
   ]
  },
  {
   "cell_type": "markdown",
   "metadata": {},
   "source": [
    "I can change '-' values with No"
   ]
  },
  {
   "cell_type": "code",
   "execution_count": 915,
   "metadata": {},
   "outputs": [],
   "source": [
    "df[\"inspection_new\"].replace(\"-\", \"No\", inplace=True)\n"
   ]
  },
  {
   "cell_type": "code",
   "execution_count": 916,
   "metadata": {},
   "outputs": [
    {
     "data": {
      "text/plain": [
       "No     11987\n",
       "Yes     3932\n",
       "Name: inspection_new, dtype: int64"
      ]
     },
     "execution_count": 916,
     "metadata": {},
     "output_type": "execute_result"
    }
   ],
   "source": [
    "df[\"inspection_new\"].value_counts(dropna=False)\n"
   ]
  },
  {
   "cell_type": "markdown",
   "metadata": {},
   "source": [
    "For the modelling part yes---> 1, no---> 0"
   ]
  },
  {
   "cell_type": "code",
   "execution_count": 917,
   "metadata": {},
   "outputs": [],
   "source": [
    "df[\"inspection_new\"].replace([\"Yes\", \"No\"], [1,0], inplace = True)"
   ]
  },
  {
   "cell_type": "code",
   "execution_count": 918,
   "metadata": {},
   "outputs": [
    {
     "data": {
      "text/plain": [
       "0    11987\n",
       "1     3932\n",
       "Name: inspection_new, dtype: int64"
      ]
     },
     "execution_count": 918,
     "metadata": {},
     "output_type": "execute_result"
    }
   ],
   "source": [
    "df[\"inspection_new\"].value_counts(dropna=False)\n"
   ]
  },
  {
   "cell_type": "markdown",
   "metadata": {},
   "source": [
    "### body_color column:"
   ]
  },
  {
   "cell_type": "code",
   "execution_count": 919,
   "metadata": {},
   "outputs": [
    {
     "name": "stdout",
     "output_type": "stream",
     "text": [
      "\n",
      "Percentage of Missing Values : % 3.75 \n",
      "\n",
      "Number of Missings           :  597 \n",
      "\n",
      "Number of Uniques            :  14 \n",
      "\n",
      "Value counts                 : \n",
      "\n",
      " Black     3745\n",
      "Grey      3505\n",
      "White     3406\n",
      "Silver    1647\n",
      "Blue      1431\n",
      "Red        957\n",
      "NaN        597\n",
      "Brown      289\n",
      "Green      154\n",
      "Beige      108\n",
      "Yellow      51\n",
      "Violet      18\n",
      "Bronze       6\n",
      "Orange       3\n",
      "Gold         2\n",
      "Name: body_color, dtype: int64\n"
     ]
    }
   ],
   "source": [
    "print('\\n''Percentage of Missing Values : %', round(\n",
    "    df['body_color'].isnull().sum()/df.shape[0]*100, 2), '\\n')\n",
    "print(\"Number of Missings           : \",\n",
    "      df['body_color'].isnull().sum(), '\\n')\n",
    "print(\"Number of Uniques            : \", df['body_color'].nunique(), '\\n')\n",
    "print('Value counts                 : ''\\n''\\n',df['body_color'].value_counts(dropna=False))"
   ]
  },
  {
   "cell_type": "code",
   "execution_count": 920,
   "metadata": {},
   "outputs": [],
   "source": [
    "df[\"body_color\"].fillna(\"-\", inplace=True)\n"
   ]
  },
  {
   "cell_type": "code",
   "execution_count": 921,
   "metadata": {},
   "outputs": [
    {
     "data": {
      "text/html": [
       "<div><div id=9c5d2b49-7d55-4f41-b9f5-ecbac3efd82a style=\"display:none; background-color:#9D6CFF; color:white; width:200px; height:30px; padding-left:5px; border-radius:4px; flex-direction:row; justify-content:space-around; align-items:center;\" onmouseover=\"this.style.backgroundColor='#BA9BF8'\" onmouseout=\"this.style.backgroundColor='#9D6CFF'\" onclick=\"window.commands?.execute('create-mitosheet-from-dataframe-output');\">See Full Dataframe in Mito</div> <script> if (window.commands?.hasCommand('create-mitosheet-from-dataframe-output')) document.getElementById('9c5d2b49-7d55-4f41-b9f5-ecbac3efd82a').style.display = 'flex' </script> <table border=\"1\" class=\"dataframe\">\n",
       "  <thead>\n",
       "    <tr style=\"text-align: right;\">\n",
       "      <th></th>\n",
       "      <th></th>\n",
       "      <th>count</th>\n",
       "      <th>mean</th>\n",
       "      <th>std</th>\n",
       "      <th>min</th>\n",
       "      <th>25%</th>\n",
       "      <th>50%</th>\n",
       "      <th>75%</th>\n",
       "      <th>max</th>\n",
       "    </tr>\n",
       "    <tr>\n",
       "      <th>make_model</th>\n",
       "      <th>body_color</th>\n",
       "      <th></th>\n",
       "      <th></th>\n",
       "      <th></th>\n",
       "      <th></th>\n",
       "      <th></th>\n",
       "      <th></th>\n",
       "      <th></th>\n",
       "      <th></th>\n",
       "    </tr>\n",
       "  </thead>\n",
       "  <tbody>\n",
       "    <tr>\n",
       "      <th rowspan=\"5\" valign=\"top\">Audi A1</th>\n",
       "      <th>-</th>\n",
       "      <td>73.000</td>\n",
       "      <td>20325.795</td>\n",
       "      <td>3601.476</td>\n",
       "      <td>12980.000</td>\n",
       "      <td>17900.000</td>\n",
       "      <td>20080.000</td>\n",
       "      <td>22260.000</td>\n",
       "      <td>29181.000</td>\n",
       "    </tr>\n",
       "    <tr>\n",
       "      <th>Beige</th>\n",
       "      <td>17.000</td>\n",
       "      <td>18185.118</td>\n",
       "      <td>3043.361</td>\n",
       "      <td>14000.000</td>\n",
       "      <td>15960.000</td>\n",
       "      <td>17770.000</td>\n",
       "      <td>21380.000</td>\n",
       "      <td>23250.000</td>\n",
       "    </tr>\n",
       "    <tr>\n",
       "      <th>Black</th>\n",
       "      <td>717.000</td>\n",
       "      <td>17802.365</td>\n",
       "      <td>4286.264</td>\n",
       "      <td>9950.000</td>\n",
       "      <td>14950.000</td>\n",
       "      <td>16490.000</td>\n",
       "      <td>20939.000</td>\n",
       "      <td>37900.000</td>\n",
       "    </tr>\n",
       "    <tr>\n",
       "      <th>Blue</th>\n",
       "      <td>286.000</td>\n",
       "      <td>18872.472</td>\n",
       "      <td>4451.700</td>\n",
       "      <td>10800.000</td>\n",
       "      <td>15835.500</td>\n",
       "      <td>16900.000</td>\n",
       "      <td>21998.750</td>\n",
       "      <td>28990.000</td>\n",
       "    </tr>\n",
       "    <tr>\n",
       "      <th>Brown</th>\n",
       "      <td>22.000</td>\n",
       "      <td>15833.045</td>\n",
       "      <td>2419.273</td>\n",
       "      <td>11445.000</td>\n",
       "      <td>13960.000</td>\n",
       "      <td>15686.500</td>\n",
       "      <td>16812.500</td>\n",
       "      <td>20750.000</td>\n",
       "    </tr>\n",
       "    <tr>\n",
       "      <th>...</th>\n",
       "      <th>...</th>\n",
       "      <td>...</td>\n",
       "      <td>...</td>\n",
       "      <td>...</td>\n",
       "      <td>...</td>\n",
       "      <td>...</td>\n",
       "      <td>...</td>\n",
       "      <td>...</td>\n",
       "      <td>...</td>\n",
       "    </tr>\n",
       "    <tr>\n",
       "      <th rowspan=\"5\" valign=\"top\">Renault Espace</th>\n",
       "      <th>Brown</th>\n",
       "      <td>41.000</td>\n",
       "      <td>25306.171</td>\n",
       "      <td>8469.692</td>\n",
       "      <td>12614.000</td>\n",
       "      <td>19000.000</td>\n",
       "      <td>22990.000</td>\n",
       "      <td>27500.000</td>\n",
       "      <td>47990.000</td>\n",
       "    </tr>\n",
       "    <tr>\n",
       "      <th>Grey</th>\n",
       "      <td>347.000</td>\n",
       "      <td>29702.801</td>\n",
       "      <td>8618.331</td>\n",
       "      <td>14999.000</td>\n",
       "      <td>23990.000</td>\n",
       "      <td>27000.000</td>\n",
       "      <td>34165.000</td>\n",
       "      <td>64332.000</td>\n",
       "    </tr>\n",
       "    <tr>\n",
       "      <th>Silver</th>\n",
       "      <td>45.000</td>\n",
       "      <td>26658.378</td>\n",
       "      <td>5104.609</td>\n",
       "      <td>12990.000</td>\n",
       "      <td>23490.000</td>\n",
       "      <td>27990.000</td>\n",
       "      <td>29900.000</td>\n",
       "      <td>35100.000</td>\n",
       "    </tr>\n",
       "    <tr>\n",
       "      <th>Violet</th>\n",
       "      <td>14.000</td>\n",
       "      <td>24711.214</td>\n",
       "      <td>4098.884</td>\n",
       "      <td>19900.000</td>\n",
       "      <td>21624.250</td>\n",
       "      <td>24500.000</td>\n",
       "      <td>26520.000</td>\n",
       "      <td>34990.000</td>\n",
       "    </tr>\n",
       "    <tr>\n",
       "      <th>White</th>\n",
       "      <td>210.000</td>\n",
       "      <td>31498.605</td>\n",
       "      <td>7843.978</td>\n",
       "      <td>12990.000</td>\n",
       "      <td>27316.750</td>\n",
       "      <td>31900.000</td>\n",
       "      <td>34986.250</td>\n",
       "      <td>64298.000</td>\n",
       "    </tr>\n",
       "  </tbody>\n",
       "</table></div>"
      ],
      "text/plain": [
       "                            count      mean      std       min       25%  \\\n",
       "make_model     body_color                                                  \n",
       "Audi A1        -           73.000 20325.795 3601.476 12980.000 17900.000   \n",
       "               Beige       17.000 18185.118 3043.361 14000.000 15960.000   \n",
       "               Black      717.000 17802.365 4286.264  9950.000 14950.000   \n",
       "               Blue       286.000 18872.472 4451.700 10800.000 15835.500   \n",
       "               Brown       22.000 15833.045 2419.273 11445.000 13960.000   \n",
       "...                           ...       ...      ...       ...       ...   \n",
       "Renault Espace Brown       41.000 25306.171 8469.692 12614.000 19000.000   \n",
       "               Grey       347.000 29702.801 8618.331 14999.000 23990.000   \n",
       "               Silver      45.000 26658.378 5104.609 12990.000 23490.000   \n",
       "               Violet      14.000 24711.214 4098.884 19900.000 21624.250   \n",
       "               White      210.000 31498.605 7843.978 12990.000 27316.750   \n",
       "\n",
       "                                50%       75%       max  \n",
       "make_model     body_color                                \n",
       "Audi A1        -          20080.000 22260.000 29181.000  \n",
       "               Beige      17770.000 21380.000 23250.000  \n",
       "               Black      16490.000 20939.000 37900.000  \n",
       "               Blue       16900.000 21998.750 28990.000  \n",
       "               Brown      15686.500 16812.500 20750.000  \n",
       "...                             ...       ...       ...  \n",
       "Renault Espace Brown      22990.000 27500.000 47990.000  \n",
       "               Grey       27000.000 34165.000 64332.000  \n",
       "               Silver     27990.000 29900.000 35100.000  \n",
       "               Violet     24500.000 26520.000 34990.000  \n",
       "               White      31900.000 34986.250 64298.000  \n",
       "\n",
       "[84 rows x 8 columns]"
      ]
     },
     "execution_count": 921,
     "metadata": {},
     "output_type": "execute_result"
    }
   ],
   "source": [
    "df.groupby([\"make_model\", 'body_color']).price.describe()\n"
   ]
  },
  {
   "cell_type": "code",
   "execution_count": 922,
   "metadata": {},
   "outputs": [
    {
     "data": {
      "text/html": [
       "<div><div id=ab98bbf9-41f3-434a-938e-eae28b3e94c4 style=\"display:none; background-color:#9D6CFF; color:white; width:200px; height:30px; padding-left:5px; border-radius:4px; flex-direction:row; justify-content:space-around; align-items:center;\" onmouseover=\"this.style.backgroundColor='#BA9BF8'\" onmouseout=\"this.style.backgroundColor='#9D6CFF'\" onclick=\"window.commands?.execute('create-mitosheet-from-dataframe-output');\">See Full Dataframe in Mito</div> <script> if (window.commands?.hasCommand('create-mitosheet-from-dataframe-output')) document.getElementById('ab98bbf9-41f3-434a-938e-eae28b3e94c4').style.display = 'flex' </script> <table border=\"1\" class=\"dataframe\">\n",
       "  <thead>\n",
       "    <tr style=\"text-align: right;\">\n",
       "      <th></th>\n",
       "      <th>make_model</th>\n",
       "      <th>body_color</th>\n",
       "      <th>age</th>\n",
       "      <th>price</th>\n",
       "    </tr>\n",
       "  </thead>\n",
       "  <tbody>\n",
       "    <tr>\n",
       "      <th>14106</th>\n",
       "      <td>Renault Clio</td>\n",
       "      <td>White</td>\n",
       "      <td>1.000</td>\n",
       "      <td>9950</td>\n",
       "    </tr>\n",
       "    <tr>\n",
       "      <th>13460</th>\n",
       "      <td>Renault Clio</td>\n",
       "      <td>White</td>\n",
       "      <td>3.000</td>\n",
       "      <td>8490</td>\n",
       "    </tr>\n",
       "    <tr>\n",
       "      <th>13968</th>\n",
       "      <td>Renault Clio</td>\n",
       "      <td>White</td>\n",
       "      <td>2.000</td>\n",
       "      <td>9000</td>\n",
       "    </tr>\n",
       "    <tr>\n",
       "      <th>13446</th>\n",
       "      <td>Renault Clio</td>\n",
       "      <td>White</td>\n",
       "      <td>3.000</td>\n",
       "      <td>8490</td>\n",
       "    </tr>\n",
       "    <tr>\n",
       "      <th>13587</th>\n",
       "      <td>Renault Clio</td>\n",
       "      <td>White</td>\n",
       "      <td>2.000</td>\n",
       "      <td>7950</td>\n",
       "    </tr>\n",
       "    <tr>\n",
       "      <th>14478</th>\n",
       "      <td>Renault Clio</td>\n",
       "      <td>White</td>\n",
       "      <td>1.000</td>\n",
       "      <td>10490</td>\n",
       "    </tr>\n",
       "    <tr>\n",
       "      <th>13558</th>\n",
       "      <td>Renault Clio</td>\n",
       "      <td>White</td>\n",
       "      <td>3.000</td>\n",
       "      <td>8400</td>\n",
       "    </tr>\n",
       "    <tr>\n",
       "      <th>13458</th>\n",
       "      <td>Renault Clio</td>\n",
       "      <td>White</td>\n",
       "      <td>3.000</td>\n",
       "      <td>8490</td>\n",
       "    </tr>\n",
       "    <tr>\n",
       "      <th>13750</th>\n",
       "      <td>Renault Clio</td>\n",
       "      <td>White</td>\n",
       "      <td>3.000</td>\n",
       "      <td>6400</td>\n",
       "    </tr>\n",
       "    <tr>\n",
       "      <th>14341</th>\n",
       "      <td>Renault Clio</td>\n",
       "      <td>White</td>\n",
       "      <td>0.000</td>\n",
       "      <td>9990</td>\n",
       "    </tr>\n",
       "  </tbody>\n",
       "</table></div>"
      ],
      "text/plain": [
       "         make_model body_color   age  price\n",
       "14106  Renault Clio      White 1.000   9950\n",
       "13460  Renault Clio      White 3.000   8490\n",
       "13968  Renault Clio      White 2.000   9000\n",
       "13446  Renault Clio      White 3.000   8490\n",
       "13587  Renault Clio      White 2.000   7950\n",
       "14478  Renault Clio      White 1.000  10490\n",
       "13558  Renault Clio      White 3.000   8400\n",
       "13458  Renault Clio      White 3.000   8490\n",
       "13750  Renault Clio      White 3.000   6400\n",
       "14341  Renault Clio      White 0.000   9990"
      ]
     },
     "execution_count": 922,
     "metadata": {},
     "output_type": "execute_result"
    }
   ],
   "source": [
    "df[(df[\"make_model\"] == \"Renault Clio\") & (df[\"body_color\"] == 'White')][[\"make_model\", \"body_color\", 'age', 'price']].sample(10)\n"
   ]
  },
  {
   "cell_type": "code",
   "execution_count": 923,
   "metadata": {},
   "outputs": [
    {
     "data": {
      "text/html": [
       "<div><div id=ced67c61-f960-4edc-a014-0771a07a9cb1 style=\"display:none; background-color:#9D6CFF; color:white; width:200px; height:30px; padding-left:5px; border-radius:4px; flex-direction:row; justify-content:space-around; align-items:center;\" onmouseover=\"this.style.backgroundColor='#BA9BF8'\" onmouseout=\"this.style.backgroundColor='#9D6CFF'\" onclick=\"window.commands?.execute('create-mitosheet-from-dataframe-output');\">See Full Dataframe in Mito</div> <script> if (window.commands?.hasCommand('create-mitosheet-from-dataframe-output')) document.getElementById('ced67c61-f960-4edc-a014-0771a07a9cb1').style.display = 'flex' </script> <table border=\"1\" class=\"dataframe\">\n",
       "  <thead>\n",
       "    <tr style=\"text-align: right;\">\n",
       "      <th></th>\n",
       "      <th>make_model</th>\n",
       "      <th>body_color</th>\n",
       "      <th>age</th>\n",
       "      <th>price</th>\n",
       "    </tr>\n",
       "  </thead>\n",
       "  <tbody>\n",
       "    <tr>\n",
       "      <th>14048</th>\n",
       "      <td>Renault Clio</td>\n",
       "      <td>-</td>\n",
       "      <td>0.000</td>\n",
       "      <td>16390</td>\n",
       "    </tr>\n",
       "    <tr>\n",
       "      <th>14690</th>\n",
       "      <td>Renault Clio</td>\n",
       "      <td>-</td>\n",
       "      <td>0.000</td>\n",
       "      <td>11462</td>\n",
       "    </tr>\n",
       "    <tr>\n",
       "      <th>13103</th>\n",
       "      <td>Renault Clio</td>\n",
       "      <td>-</td>\n",
       "      <td>0.000</td>\n",
       "      <td>15920</td>\n",
       "    </tr>\n",
       "    <tr>\n",
       "      <th>14877</th>\n",
       "      <td>Renault Clio</td>\n",
       "      <td>-</td>\n",
       "      <td>0.000</td>\n",
       "      <td>10970</td>\n",
       "    </tr>\n",
       "    <tr>\n",
       "      <th>14148</th>\n",
       "      <td>Renault Clio</td>\n",
       "      <td>-</td>\n",
       "      <td>0.000</td>\n",
       "      <td>9890</td>\n",
       "    </tr>\n",
       "    <tr>\n",
       "      <th>14487</th>\n",
       "      <td>Renault Clio</td>\n",
       "      <td>-</td>\n",
       "      <td>0.000</td>\n",
       "      <td>10564</td>\n",
       "    </tr>\n",
       "    <tr>\n",
       "      <th>14756</th>\n",
       "      <td>Renault Clio</td>\n",
       "      <td>-</td>\n",
       "      <td>0.000</td>\n",
       "      <td>10990</td>\n",
       "    </tr>\n",
       "    <tr>\n",
       "      <th>13918</th>\n",
       "      <td>Renault Clio</td>\n",
       "      <td>-</td>\n",
       "      <td>1.000</td>\n",
       "      <td>9390</td>\n",
       "    </tr>\n",
       "    <tr>\n",
       "      <th>13242</th>\n",
       "      <td>Renault Clio</td>\n",
       "      <td>-</td>\n",
       "      <td>3.000</td>\n",
       "      <td>13990</td>\n",
       "    </tr>\n",
       "    <tr>\n",
       "      <th>13864</th>\n",
       "      <td>Renault Clio</td>\n",
       "      <td>-</td>\n",
       "      <td>0.000</td>\n",
       "      <td>16990</td>\n",
       "    </tr>\n",
       "  </tbody>\n",
       "</table></div>"
      ],
      "text/plain": [
       "         make_model body_color   age  price\n",
       "14048  Renault Clio          - 0.000  16390\n",
       "14690  Renault Clio          - 0.000  11462\n",
       "13103  Renault Clio          - 0.000  15920\n",
       "14877  Renault Clio          - 0.000  10970\n",
       "14148  Renault Clio          - 0.000   9890\n",
       "14487  Renault Clio          - 0.000  10564\n",
       "14756  Renault Clio          - 0.000  10990\n",
       "13918  Renault Clio          - 1.000   9390\n",
       "13242  Renault Clio          - 3.000  13990\n",
       "13864  Renault Clio          - 0.000  16990"
      ]
     },
     "execution_count": 923,
     "metadata": {},
     "output_type": "execute_result"
    }
   ],
   "source": [
    "df[(df[\"make_model\"] == \"Renault Clio\") & (df[\"body_color\"] == '-')\n",
    "   ][[\"make_model\", \"body_color\", 'age', 'price']].sample(10)\n"
   ]
  },
  {
   "cell_type": "code",
   "execution_count": 924,
   "metadata": {},
   "outputs": [
    {
     "data": {
      "text/html": [
       "<div><div id=964600e6-deff-4105-9e2d-231ffa45337e style=\"display:none; background-color:#9D6CFF; color:white; width:200px; height:30px; padding-left:5px; border-radius:4px; flex-direction:row; justify-content:space-around; align-items:center;\" onmouseover=\"this.style.backgroundColor='#BA9BF8'\" onmouseout=\"this.style.backgroundColor='#9D6CFF'\" onclick=\"window.commands?.execute('create-mitosheet-from-dataframe-output');\">See Full Dataframe in Mito</div> <script> if (window.commands?.hasCommand('create-mitosheet-from-dataframe-output')) document.getElementById('964600e6-deff-4105-9e2d-231ffa45337e').style.display = 'flex' </script> <table border=\"1\" class=\"dataframe\">\n",
       "  <thead>\n",
       "    <tr style=\"text-align: right;\">\n",
       "      <th></th>\n",
       "      <th>make_model</th>\n",
       "      <th>body_color</th>\n",
       "      <th>age</th>\n",
       "      <th>price</th>\n",
       "    </tr>\n",
       "  </thead>\n",
       "  <tbody>\n",
       "    <tr>\n",
       "      <th>13478</th>\n",
       "      <td>Renault Clio</td>\n",
       "      <td>Black</td>\n",
       "      <td>2.000</td>\n",
       "      <td>8490</td>\n",
       "    </tr>\n",
       "    <tr>\n",
       "      <th>13953</th>\n",
       "      <td>Renault Clio</td>\n",
       "      <td>Black</td>\n",
       "      <td>2.000</td>\n",
       "      <td>8990</td>\n",
       "    </tr>\n",
       "    <tr>\n",
       "      <th>13190</th>\n",
       "      <td>Renault Clio</td>\n",
       "      <td>Black</td>\n",
       "      <td>1.000</td>\n",
       "      <td>15485</td>\n",
       "    </tr>\n",
       "    <tr>\n",
       "      <th>13686</th>\n",
       "      <td>Renault Clio</td>\n",
       "      <td>Black</td>\n",
       "      <td>3.000</td>\n",
       "      <td>7280</td>\n",
       "    </tr>\n",
       "    <tr>\n",
       "      <th>14019</th>\n",
       "      <td>Renault Clio</td>\n",
       "      <td>Black</td>\n",
       "      <td>0.000</td>\n",
       "      <td>18087</td>\n",
       "    </tr>\n",
       "    <tr>\n",
       "      <th>14722</th>\n",
       "      <td>Renault Clio</td>\n",
       "      <td>Black</td>\n",
       "      <td>0.000</td>\n",
       "      <td>11299</td>\n",
       "    </tr>\n",
       "    <tr>\n",
       "      <th>14822</th>\n",
       "      <td>Renault Clio</td>\n",
       "      <td>Black</td>\n",
       "      <td>0.000</td>\n",
       "      <td>10980</td>\n",
       "    </tr>\n",
       "    <tr>\n",
       "      <th>13091</th>\n",
       "      <td>Renault Clio</td>\n",
       "      <td>Black</td>\n",
       "      <td>1.000</td>\n",
       "      <td>15990</td>\n",
       "    </tr>\n",
       "    <tr>\n",
       "      <th>14774</th>\n",
       "      <td>Renault Clio</td>\n",
       "      <td>Black</td>\n",
       "      <td>0.000</td>\n",
       "      <td>11165</td>\n",
       "    </tr>\n",
       "    <tr>\n",
       "      <th>13184</th>\n",
       "      <td>Renault Clio</td>\n",
       "      <td>Black</td>\n",
       "      <td>1.000</td>\n",
       "      <td>15485</td>\n",
       "    </tr>\n",
       "  </tbody>\n",
       "</table></div>"
      ],
      "text/plain": [
       "         make_model body_color   age  price\n",
       "13478  Renault Clio      Black 2.000   8490\n",
       "13953  Renault Clio      Black 2.000   8990\n",
       "13190  Renault Clio      Black 1.000  15485\n",
       "13686  Renault Clio      Black 3.000   7280\n",
       "14019  Renault Clio      Black 0.000  18087\n",
       "14722  Renault Clio      Black 0.000  11299\n",
       "14822  Renault Clio      Black 0.000  10980\n",
       "13091  Renault Clio      Black 1.000  15990\n",
       "14774  Renault Clio      Black 0.000  11165\n",
       "13184  Renault Clio      Black 1.000  15485"
      ]
     },
     "execution_count": 924,
     "metadata": {},
     "output_type": "execute_result"
    }
   ],
   "source": [
    "df[(df[\"make_model\"] == \"Renault Clio\") & (df[\"body_color\"] == 'Black')\n",
    "   ][[\"make_model\", \"body_color\", 'age', 'price']].sample(10)\n"
   ]
  },
  {
   "cell_type": "code",
   "execution_count": 925,
   "metadata": {},
   "outputs": [
    {
     "data": {
      "text/plain": [
       "13012.921875"
      ]
     },
     "execution_count": 925,
     "metadata": {},
     "output_type": "execute_result"
    }
   ],
   "source": [
    "df[(df[\"make_model\"] == \"Renault Clio\") & (df[\"body_color\"] == 'White') & (df[\"age\"] == 1.000)]['price'].mean()\n"
   ]
  },
  {
   "cell_type": "code",
   "execution_count": 926,
   "metadata": {},
   "outputs": [
    {
     "data": {
      "text/plain": [
       "16835.975757575758"
      ]
     },
     "execution_count": 926,
     "metadata": {},
     "output_type": "execute_result"
    }
   ],
   "source": [
    "df[(df[\"make_model\"] == \"Renault Clio\") & (df[\"body_color\"] == 'Black') & (df[\"age\"] == 1.000)]['price'].mean()\n"
   ]
  },
  {
   "cell_type": "code",
   "execution_count": 927,
   "metadata": {},
   "outputs": [
    {
     "data": {
      "text/plain": [
       "12712.333333333334"
      ]
     },
     "execution_count": 927,
     "metadata": {},
     "output_type": "execute_result"
    }
   ],
   "source": [
    "df[(df[\"make_model\"] == \"Renault Clio\") & (df[\"body_color\"] == 'Grey') & (df[\"age\"] == 1.000)]['price'].mean()\n"
   ]
  },
  {
   "cell_type": "code",
   "execution_count": 928,
   "metadata": {},
   "outputs": [
    {
     "data": {
      "text/plain": [
       "make_model      age    body_color\n",
       "Audi A1         0.000  -            21508.617\n",
       "                       Black        23680.000\n",
       "                       Blue         24578.415\n",
       "                       Green        23093.724\n",
       "                       Grey         25166.330\n",
       "                                       ...   \n",
       "Renault Espace  3.000  Brown        21451.074\n",
       "                       Grey         22212.710\n",
       "                       Silver       20620.154\n",
       "                       Violet       23861.545\n",
       "                       White        21381.625\n",
       "Name: price, Length: 273, dtype: float64"
      ]
     },
     "execution_count": 928,
     "metadata": {},
     "output_type": "execute_result"
    }
   ],
   "source": [
    "df.groupby(['make_model', 'age', 'body_color'])['price'].mean()"
   ]
  },
  {
   "cell_type": "markdown",
   "metadata": {},
   "source": [
    "model, km and age affect price more than color. I can drop this column."
   ]
  },
  {
   "cell_type": "code",
   "execution_count": 929,
   "metadata": {},
   "outputs": [],
   "source": [
    "df.drop(\"body_color\", axis=1, inplace=True)\n"
   ]
  },
  {
   "cell_type": "code",
   "execution_count": 930,
   "metadata": {},
   "outputs": [
    {
     "data": {
      "text/plain": [
       "Index(['make_model', 'body_type', 'price', 'vat', 'km', 'previous_owners',\n",
       "       'next_inspection', 'inspection_new', 'paint_type', 'num_of_doors',\n",
       "       'num_of_seats', 'gearing_type', 'cylinders', 'drive_chain', 'fuel',\n",
       "       'consumption', 'co2_emission', 'emission_class', 'comfort_convenience',\n",
       "       'entertainment_media', 'extras', 'safety_security', 'gears', 'age',\n",
       "       'hp_kw', 'type', 'upholstery_type', 'upholstery_color',\n",
       "       'displacement_cc', 'weight_kg', 'cons_comb', 'cons_city',\n",
       "       'cons_country'],\n",
       "      dtype='object')"
      ]
     },
     "execution_count": 930,
     "metadata": {},
     "output_type": "execute_result"
    }
   ],
   "source": [
    "df.columns"
   ]
  },
  {
   "cell_type": "markdown",
   "metadata": {},
   "source": [
    "### paint_type column:"
   ]
  },
  {
   "cell_type": "code",
   "execution_count": 931,
   "metadata": {},
   "outputs": [
    {
     "name": "stdout",
     "output_type": "stream",
     "text": [
      "\n",
      "Percentage of Missing Values : % 36.26\n",
      "Number of Missings           :  5772\n",
      "Number of Uniques            :  3\n",
      "Value counts                 : \n",
      "\n",
      " Metallic       9794\n",
      "NaN            5772\n",
      "Uni/basic       347\n",
      "Perl effect       6\n",
      "Name: paint_type, dtype: int64\n"
     ]
    }
   ],
   "source": [
    "print('\\n''Percentage of Missing Values : %', round(\n",
    "    df['paint_type'].isnull().sum()/df.shape[0]*100, 2))\n",
    "print(\"Number of Missings           : \",\n",
    "      df['paint_type'].isnull().sum())\n",
    "print(\"Number of Uniques            : \", df['paint_type'].nunique())\n",
    "print('Value counts                 : ''\\n''\\n',df['paint_type'].value_counts(dropna=False))"
   ]
  },
  {
   "cell_type": "code",
   "execution_count": 932,
   "metadata": {},
   "outputs": [],
   "source": [
    "df[\"paint_type\"].fillna(\"-\", inplace=True)\n"
   ]
  },
  {
   "cell_type": "code",
   "execution_count": 933,
   "metadata": {},
   "outputs": [
    {
     "data": {
      "text/plain": [
       "Metallic       9794\n",
       "-              5772\n",
       "Uni/basic       347\n",
       "Perl effect       6\n",
       "Name: paint_type, dtype: int64"
      ]
     },
     "execution_count": 933,
     "metadata": {},
     "output_type": "execute_result"
    }
   ],
   "source": [
    "df[\"paint_type\"].value_counts(dropna=False)\n"
   ]
  },
  {
   "cell_type": "code",
   "execution_count": 934,
   "metadata": {},
   "outputs": [
    {
     "data": {
      "text/html": [
       "<div><div id=032f5177-4209-494d-8f21-b606558fcd95 style=\"display:none; background-color:#9D6CFF; color:white; width:200px; height:30px; padding-left:5px; border-radius:4px; flex-direction:row; justify-content:space-around; align-items:center;\" onmouseover=\"this.style.backgroundColor='#BA9BF8'\" onmouseout=\"this.style.backgroundColor='#9D6CFF'\" onclick=\"window.commands?.execute('create-mitosheet-from-dataframe-output');\">See Full Dataframe in Mito</div> <script> if (window.commands?.hasCommand('create-mitosheet-from-dataframe-output')) document.getElementById('032f5177-4209-494d-8f21-b606558fcd95').style.display = 'flex' </script> <table border=\"1\" class=\"dataframe\">\n",
       "  <thead>\n",
       "    <tr style=\"text-align: right;\">\n",
       "      <th></th>\n",
       "      <th></th>\n",
       "      <th></th>\n",
       "      <th></th>\n",
       "      <th>count</th>\n",
       "      <th>mean</th>\n",
       "      <th>std</th>\n",
       "      <th>min</th>\n",
       "      <th>25%</th>\n",
       "      <th>50%</th>\n",
       "      <th>75%</th>\n",
       "      <th>max</th>\n",
       "    </tr>\n",
       "    <tr>\n",
       "      <th>make_model</th>\n",
       "      <th>body_type</th>\n",
       "      <th>age</th>\n",
       "      <th>paint_type</th>\n",
       "      <th></th>\n",
       "      <th></th>\n",
       "      <th></th>\n",
       "      <th></th>\n",
       "      <th></th>\n",
       "      <th></th>\n",
       "      <th></th>\n",
       "      <th></th>\n",
       "    </tr>\n",
       "  </thead>\n",
       "  <tbody>\n",
       "    <tr>\n",
       "      <th rowspan=\"5\" valign=\"top\">Audi A1</th>\n",
       "      <th rowspan=\"5\" valign=\"top\">Compact</th>\n",
       "      <th rowspan=\"3\" valign=\"top\">0.000</th>\n",
       "      <th>-</th>\n",
       "      <td>145.000</td>\n",
       "      <td>22082.717</td>\n",
       "      <td>3341.754</td>\n",
       "      <td>14900.000</td>\n",
       "      <td>19850.000</td>\n",
       "      <td>21490.000</td>\n",
       "      <td>23475.000</td>\n",
       "      <td>29181.000</td>\n",
       "    </tr>\n",
       "    <tr>\n",
       "      <th>Metallic</th>\n",
       "      <td>229.000</td>\n",
       "      <td>24622.258</td>\n",
       "      <td>3172.063</td>\n",
       "      <td>17880.000</td>\n",
       "      <td>21990.000</td>\n",
       "      <td>23700.000</td>\n",
       "      <td>27780.000</td>\n",
       "      <td>31990.000</td>\n",
       "    </tr>\n",
       "    <tr>\n",
       "      <th>Uni/basic</th>\n",
       "      <td>2.000</td>\n",
       "      <td>19888.000</td>\n",
       "      <td>0.000</td>\n",
       "      <td>19888.000</td>\n",
       "      <td>19888.000</td>\n",
       "      <td>19888.000</td>\n",
       "      <td>19888.000</td>\n",
       "      <td>19888.000</td>\n",
       "    </tr>\n",
       "    <tr>\n",
       "      <th rowspan=\"2\" valign=\"top\">1.000</th>\n",
       "      <th>-</th>\n",
       "      <td>56.000</td>\n",
       "      <td>17590.518</td>\n",
       "      <td>2369.313</td>\n",
       "      <td>14220.000</td>\n",
       "      <td>15852.250</td>\n",
       "      <td>16864.500</td>\n",
       "      <td>18367.250</td>\n",
       "      <td>23650.000</td>\n",
       "    </tr>\n",
       "    <tr>\n",
       "      <th>Metallic</th>\n",
       "      <td>212.000</td>\n",
       "      <td>18861.651</td>\n",
       "      <td>2674.019</td>\n",
       "      <td>13980.000</td>\n",
       "      <td>16448.750</td>\n",
       "      <td>17515.000</td>\n",
       "      <td>21482.500</td>\n",
       "      <td>23829.000</td>\n",
       "    </tr>\n",
       "    <tr>\n",
       "      <th>...</th>\n",
       "      <th>...</th>\n",
       "      <th>...</th>\n",
       "      <th>...</th>\n",
       "      <td>...</td>\n",
       "      <td>...</td>\n",
       "      <td>...</td>\n",
       "      <td>...</td>\n",
       "      <td>...</td>\n",
       "      <td>...</td>\n",
       "      <td>...</td>\n",
       "      <td>...</td>\n",
       "    </tr>\n",
       "    <tr>\n",
       "      <th rowspan=\"5\" valign=\"top\">Renault Espace</th>\n",
       "      <th rowspan=\"5\" valign=\"top\">Van</th>\n",
       "      <th rowspan=\"2\" valign=\"top\">2.000</th>\n",
       "      <th>Metallic</th>\n",
       "      <td>91.000</td>\n",
       "      <td>26799.297</td>\n",
       "      <td>3337.258</td>\n",
       "      <td>16950.000</td>\n",
       "      <td>25490.000</td>\n",
       "      <td>25490.000</td>\n",
       "      <td>28495.000</td>\n",
       "      <td>33800.000</td>\n",
       "    </tr>\n",
       "    <tr>\n",
       "      <th>Uni/basic</th>\n",
       "      <td>1.000</td>\n",
       "      <td>29200.000</td>\n",
       "      <td>NaN</td>\n",
       "      <td>29200.000</td>\n",
       "      <td>29200.000</td>\n",
       "      <td>29200.000</td>\n",
       "      <td>29200.000</td>\n",
       "      <td>29200.000</td>\n",
       "    </tr>\n",
       "    <tr>\n",
       "      <th rowspan=\"3\" valign=\"top\">3.000</th>\n",
       "      <th>-</th>\n",
       "      <td>67.000</td>\n",
       "      <td>21713.149</td>\n",
       "      <td>3450.674</td>\n",
       "      <td>12990.000</td>\n",
       "      <td>19195.000</td>\n",
       "      <td>22900.000</td>\n",
       "      <td>23490.000</td>\n",
       "      <td>32900.000</td>\n",
       "    </tr>\n",
       "    <tr>\n",
       "      <th>Metallic</th>\n",
       "      <td>136.000</td>\n",
       "      <td>22317.029</td>\n",
       "      <td>3286.732</td>\n",
       "      <td>12614.000</td>\n",
       "      <td>19900.000</td>\n",
       "      <td>21990.000</td>\n",
       "      <td>24912.500</td>\n",
       "      <td>27900.000</td>\n",
       "    </tr>\n",
       "    <tr>\n",
       "      <th>Uni/basic</th>\n",
       "      <td>3.000</td>\n",
       "      <td>22628.333</td>\n",
       "      <td>2094.722</td>\n",
       "      <td>20995.000</td>\n",
       "      <td>21447.500</td>\n",
       "      <td>21900.000</td>\n",
       "      <td>23445.000</td>\n",
       "      <td>24990.000</td>\n",
       "    </tr>\n",
       "  </tbody>\n",
       "</table></div>"
      ],
      "text/plain": [
       "                                            count      mean      std  \\\n",
       "make_model     body_type age   paint_type                              \n",
       "Audi A1        Compact   0.000 -          145.000 22082.717 3341.754   \n",
       "                               Metallic   229.000 24622.258 3172.063   \n",
       "                               Uni/basic    2.000 19888.000    0.000   \n",
       "                         1.000 -           56.000 17590.518 2369.313   \n",
       "                               Metallic   212.000 18861.651 2674.019   \n",
       "...                                           ...       ...      ...   \n",
       "Renault Espace Van       2.000 Metallic    91.000 26799.297 3337.258   \n",
       "                               Uni/basic    1.000 29200.000      NaN   \n",
       "                         3.000 -           67.000 21713.149 3450.674   \n",
       "                               Metallic   136.000 22317.029 3286.732   \n",
       "                               Uni/basic    3.000 22628.333 2094.722   \n",
       "\n",
       "                                                min       25%       50%  \\\n",
       "make_model     body_type age   paint_type                                 \n",
       "Audi A1        Compact   0.000 -          14900.000 19850.000 21490.000   \n",
       "                               Metallic   17880.000 21990.000 23700.000   \n",
       "                               Uni/basic  19888.000 19888.000 19888.000   \n",
       "                         1.000 -          14220.000 15852.250 16864.500   \n",
       "                               Metallic   13980.000 16448.750 17515.000   \n",
       "...                                             ...       ...       ...   \n",
       "Renault Espace Van       2.000 Metallic   16950.000 25490.000 25490.000   \n",
       "                               Uni/basic  29200.000 29200.000 29200.000   \n",
       "                         3.000 -          12990.000 19195.000 22900.000   \n",
       "                               Metallic   12614.000 19900.000 21990.000   \n",
       "                               Uni/basic  20995.000 21447.500 21900.000   \n",
       "\n",
       "                                                75%       max  \n",
       "make_model     body_type age   paint_type                      \n",
       "Audi A1        Compact   0.000 -          23475.000 29181.000  \n",
       "                               Metallic   27780.000 31990.000  \n",
       "                               Uni/basic  19888.000 19888.000  \n",
       "                         1.000 -          18367.250 23650.000  \n",
       "                               Metallic   21482.500 23829.000  \n",
       "...                                             ...       ...  \n",
       "Renault Espace Van       2.000 Metallic   28495.000 33800.000  \n",
       "                               Uni/basic  29200.000 29200.000  \n",
       "                         3.000 -          23490.000 32900.000  \n",
       "                               Metallic   24912.500 27900.000  \n",
       "                               Uni/basic  23445.000 24990.000  \n",
       "\n",
       "[272 rows x 8 columns]"
      ]
     },
     "execution_count": 934,
     "metadata": {},
     "output_type": "execute_result"
    }
   ],
   "source": [
    "df.groupby([\"make_model\", \"body_type\", \"age\", 'paint_type']).price.describe()\n"
   ]
  },
  {
   "cell_type": "code",
   "execution_count": 935,
   "metadata": {},
   "outputs": [
    {
     "data": {
      "text/plain": [
       "0    Metallic\n",
       "Name: paint_type, dtype: object"
      ]
     },
     "execution_count": 935,
     "metadata": {},
     "output_type": "execute_result"
    }
   ],
   "source": [
    "df[df[\"make_model\"] == \"Audi A1\"][\"paint_type\"].mode()\n"
   ]
  },
  {
   "cell_type": "code",
   "execution_count": 936,
   "metadata": {},
   "outputs": [
    {
     "data": {
      "text/plain": [
       "0    Metallic\n",
       "Name: paint_type, dtype: object"
      ]
     },
     "execution_count": 936,
     "metadata": {},
     "output_type": "execute_result"
    }
   ],
   "source": [
    "df[df[\"make_model\"] == \"Renault Espace\"][\"paint_type\"].mode()\n"
   ]
  },
  {
   "cell_type": "code",
   "execution_count": 937,
   "metadata": {},
   "outputs": [
    {
     "data": {
      "text/html": [
       "<div><div id=5c42103f-b7c6-430c-bf59-e6bd9334adbe style=\"display:none; background-color:#9D6CFF; color:white; width:200px; height:30px; padding-left:5px; border-radius:4px; flex-direction:row; justify-content:space-around; align-items:center;\" onmouseover=\"this.style.backgroundColor='#BA9BF8'\" onmouseout=\"this.style.backgroundColor='#9D6CFF'\" onclick=\"window.commands?.execute('create-mitosheet-from-dataframe-output');\">See Full Dataframe in Mito</div> <script> if (window.commands?.hasCommand('create-mitosheet-from-dataframe-output')) document.getElementById('5c42103f-b7c6-430c-bf59-e6bd9334adbe').style.display = 'flex' </script> <table border=\"1\" class=\"dataframe\">\n",
       "  <thead>\n",
       "    <tr style=\"text-align: right;\">\n",
       "      <th></th>\n",
       "      <th>make_model</th>\n",
       "      <th>body_type</th>\n",
       "      <th>paint_type</th>\n",
       "    </tr>\n",
       "  </thead>\n",
       "  <tbody>\n",
       "    <tr>\n",
       "      <th>0</th>\n",
       "      <td>Audi A1</td>\n",
       "      <td>Sedans</td>\n",
       "      <td>Metallic</td>\n",
       "    </tr>\n",
       "    <tr>\n",
       "      <th>1</th>\n",
       "      <td>Audi A1</td>\n",
       "      <td>Sedans</td>\n",
       "      <td>-</td>\n",
       "    </tr>\n",
       "    <tr>\n",
       "      <th>2</th>\n",
       "      <td>Audi A1</td>\n",
       "      <td>Sedans</td>\n",
       "      <td>Metallic</td>\n",
       "    </tr>\n",
       "    <tr>\n",
       "      <th>3</th>\n",
       "      <td>Audi A1</td>\n",
       "      <td>Sedans</td>\n",
       "      <td>Metallic</td>\n",
       "    </tr>\n",
       "    <tr>\n",
       "      <th>4</th>\n",
       "      <td>Audi A1</td>\n",
       "      <td>Sedans</td>\n",
       "      <td>Metallic</td>\n",
       "    </tr>\n",
       "    <tr>\n",
       "      <th>...</th>\n",
       "      <td>...</td>\n",
       "      <td>...</td>\n",
       "      <td>...</td>\n",
       "    </tr>\n",
       "    <tr>\n",
       "      <th>15545</th>\n",
       "      <td>Renault Espace</td>\n",
       "      <td>Sedans</td>\n",
       "      <td>Uni/basic</td>\n",
       "    </tr>\n",
       "    <tr>\n",
       "      <th>15646</th>\n",
       "      <td>Renault Espace</td>\n",
       "      <td>Sedans</td>\n",
       "      <td>Uni/basic</td>\n",
       "    </tr>\n",
       "    <tr>\n",
       "      <th>15785</th>\n",
       "      <td>Renault Espace</td>\n",
       "      <td>Coupe</td>\n",
       "      <td>-</td>\n",
       "    </tr>\n",
       "    <tr>\n",
       "      <th>15805</th>\n",
       "      <td>Renault Espace</td>\n",
       "      <td>Compact</td>\n",
       "      <td>Metallic</td>\n",
       "    </tr>\n",
       "    <tr>\n",
       "      <th>15905</th>\n",
       "      <td>Renault Espace</td>\n",
       "      <td>Compact</td>\n",
       "      <td>Metallic</td>\n",
       "    </tr>\n",
       "  </tbody>\n",
       "</table></div>"
      ],
      "text/plain": [
       "           make_model body_type paint_type\n",
       "0             Audi A1    Sedans   Metallic\n",
       "1             Audi A1    Sedans          -\n",
       "2             Audi A1    Sedans   Metallic\n",
       "3             Audi A1    Sedans   Metallic\n",
       "4             Audi A1    Sedans   Metallic\n",
       "...               ...       ...        ...\n",
       "15545  Renault Espace    Sedans  Uni/basic\n",
       "15646  Renault Espace    Sedans  Uni/basic\n",
       "15785  Renault Espace     Coupe          -\n",
       "15805  Renault Espace   Compact   Metallic\n",
       "15905  Renault Espace   Compact   Metallic\n",
       "\n",
       "[367 rows x 3 columns]"
      ]
     },
     "execution_count": 937,
     "metadata": {},
     "output_type": "execute_result"
    }
   ],
   "source": [
    "df.groupby([\"make_model\", \"body_type\", 'paint_type'])[\n",
    "    [\"make_model\", \"body_type\", 'paint_type']].head()\n"
   ]
  },
  {
   "cell_type": "code",
   "execution_count": 938,
   "metadata": {},
   "outputs": [],
   "source": [
    "df[\"paint_type\"].replace(\"-\", np.nan, inplace=True)\n"
   ]
  },
  {
   "cell_type": "code",
   "execution_count": 939,
   "metadata": {},
   "outputs": [
    {
     "data": {
      "text/plain": [
       "Metallic       9794\n",
       "NaN            5772\n",
       "Uni/basic       347\n",
       "Perl effect       6\n",
       "Name: paint_type, dtype: int64"
      ]
     },
     "execution_count": 939,
     "metadata": {},
     "output_type": "execute_result"
    }
   ],
   "source": [
    "df.paint_type.value_counts(dropna=False)"
   ]
  },
  {
   "cell_type": "code",
   "execution_count": 940,
   "metadata": {},
   "outputs": [],
   "source": [
    "def fill_most(df, group_col, col_name):\n",
    "    #Fills the missing values with the most existing value (mode) in the relevant column according to single-stage grouping\n",
    "    for group in list(df[group_col].unique()):\n",
    "        cond = df[group_col] == group\n",
    "        grp_inx = list(df[cond][col_name].index)\n",
    "        mode = list(df[cond][col_name].mode())\n",
    "        if mode != []:\n",
    "            df[col_name].iloc[grp_inx] = df[col_name].iloc[grp_inx].fillna(\n",
    "                df[cond][col_name].mode()[0])\n",
    "        else:\n",
    "            df[col_name].iloc[grp_inx] = df[col_name].iloc[grp_inx].fillna(\n",
    "                df[col_name].mode()[0])\n",
    "    print(\"Number of NaN : \", df[col_name].isnull().sum())\n",
    "    print(\"------------------\")\n",
    "    print(df[col_name].value_counts(dropna=False))\n"
   ]
  },
  {
   "cell_type": "code",
   "execution_count": 941,
   "metadata": {},
   "outputs": [],
   "source": [
    "for make_model in list(df[\"make_model\"].unique()):\n",
    "    cond = df[\"make_model\"] == make_model\n",
    "    # we are taking our make_model's most repeated paint_type and assigning it mode\n",
    "    mode = list(df[cond][\"paint_type\"].mode())\n",
    "    if mode != []:\n",
    "        # filling our paint_type with most repeated paint type of our make_model\n",
    "        df.loc[cond, \"paint_type\"] = df.loc[cond, \"paint_type\"].fillna(\n",
    "            df[cond][\"paint_type\"].mode()[0])\n",
    "    else:\n",
    "        df.loc[cond, \"paint_type\"] = df.loc[cond,\n",
    "                                           \"paint_type\"].fillna(df[\"paint_type\"].mode()[0])\n"
   ]
  },
  {
   "cell_type": "code",
   "execution_count": 942,
   "metadata": {},
   "outputs": [
    {
     "name": "stdout",
     "output_type": "stream",
     "text": [
      "Number of NaN :  0\n",
      "------------------\n",
      "Metallic       15549\n",
      "Uni/basic        364\n",
      "Perl effect        6\n",
      "Name: paint_type, dtype: int64\n"
     ]
    }
   ],
   "source": [
    "fill_most(df, \"make_model\", \"paint_type\")\n"
   ]
  },
  {
   "cell_type": "code",
   "execution_count": 943,
   "metadata": {},
   "outputs": [
    {
     "data": {
      "text/plain": [
       "Metallic       15549\n",
       "Uni/basic        364\n",
       "Perl effect        6\n",
       "Name: paint_type, dtype: int64"
      ]
     },
     "execution_count": 943,
     "metadata": {},
     "output_type": "execute_result"
    }
   ],
   "source": [
    "df.paint_type.value_counts(dropna=False)"
   ]
  },
  {
   "cell_type": "code",
   "execution_count": 944,
   "metadata": {},
   "outputs": [
    {
     "data": {
      "text/plain": [
       "Index(['make_model', 'body_type', 'price', 'vat', 'km', 'previous_owners',\n",
       "       'next_inspection', 'inspection_new', 'paint_type', 'num_of_doors',\n",
       "       'num_of_seats', 'gearing_type', 'cylinders', 'drive_chain', 'fuel',\n",
       "       'consumption', 'co2_emission', 'emission_class', 'comfort_convenience',\n",
       "       'entertainment_media', 'extras', 'safety_security', 'gears', 'age',\n",
       "       'hp_kw', 'type', 'upholstery_type', 'upholstery_color',\n",
       "       'displacement_cc', 'weight_kg', 'cons_comb', 'cons_city',\n",
       "       'cons_country'],\n",
       "      dtype='object')"
      ]
     },
     "execution_count": 944,
     "metadata": {},
     "output_type": "execute_result"
    }
   ],
   "source": [
    "df.columns"
   ]
  },
  {
   "cell_type": "markdown",
   "metadata": {},
   "source": [
    "### num_of_doors column:"
   ]
  },
  {
   "cell_type": "code",
   "execution_count": 945,
   "metadata": {},
   "outputs": [
    {
     "name": "stdout",
     "output_type": "stream",
     "text": [
      "\n",
      "Percentage of Missing Values : % 1.33\n",
      "Number of Missings           :  212\n",
      "Number of Uniques            :  6\n",
      "Value counts                 : \n",
      "\n",
      " 5.000    11575\n",
      "4.000     3079\n",
      "3.000      832\n",
      "2.000      219\n",
      "NaN        212\n",
      "1.000        1\n",
      "7.000        1\n",
      "Name: num_of_doors, dtype: int64\n"
     ]
    }
   ],
   "source": [
    "print('\\n''Percentage of Missing Values : %', round(\n",
    "    df['num_of_doors'].isnull().sum()/df.shape[0]*100, 2))\n",
    "print(\"Number of Missings           : \",\n",
    "      df['num_of_doors'].isnull().sum())\n",
    "print(\"Number of Uniques            : \", df['num_of_doors'].nunique())\n",
    "print('Value counts                 : ''\\n''\\n',df['num_of_doors'].value_counts(dropna=False))"
   ]
  },
  {
   "cell_type": "code",
   "execution_count": 946,
   "metadata": {},
   "outputs": [
    {
     "data": {
      "text/html": [
       "<div><div id=23a8d1f6-e9d9-4d24-abec-9c697de81ede style=\"display:none; background-color:#9D6CFF; color:white; width:200px; height:30px; padding-left:5px; border-radius:4px; flex-direction:row; justify-content:space-around; align-items:center;\" onmouseover=\"this.style.backgroundColor='#BA9BF8'\" onmouseout=\"this.style.backgroundColor='#9D6CFF'\" onclick=\"window.commands?.execute('create-mitosheet-from-dataframe-output');\">See Full Dataframe in Mito</div> <script> if (window.commands?.hasCommand('create-mitosheet-from-dataframe-output')) document.getElementById('23a8d1f6-e9d9-4d24-abec-9c697de81ede').style.display = 'flex' </script> <table border=\"1\" class=\"dataframe\">\n",
       "  <thead>\n",
       "    <tr style=\"text-align: right;\">\n",
       "      <th></th>\n",
       "      <th>make_model</th>\n",
       "      <th>body_type</th>\n",
       "      <th>num_of_doors</th>\n",
       "    </tr>\n",
       "  </thead>\n",
       "  <tbody>\n",
       "    <tr>\n",
       "      <th>0</th>\n",
       "      <td>Audi A1</td>\n",
       "      <td>Sedans</td>\n",
       "      <td>5.000</td>\n",
       "    </tr>\n",
       "    <tr>\n",
       "      <th>1</th>\n",
       "      <td>Audi A1</td>\n",
       "      <td>Sedans</td>\n",
       "      <td>3.000</td>\n",
       "    </tr>\n",
       "    <tr>\n",
       "      <th>2</th>\n",
       "      <td>Audi A1</td>\n",
       "      <td>Sedans</td>\n",
       "      <td>4.000</td>\n",
       "    </tr>\n",
       "    <tr>\n",
       "      <th>3</th>\n",
       "      <td>Audi A1</td>\n",
       "      <td>Sedans</td>\n",
       "      <td>3.000</td>\n",
       "    </tr>\n",
       "    <tr>\n",
       "      <th>4</th>\n",
       "      <td>Audi A1</td>\n",
       "      <td>Sedans</td>\n",
       "      <td>5.000</td>\n",
       "    </tr>\n",
       "    <tr>\n",
       "      <th>...</th>\n",
       "      <td>...</td>\n",
       "      <td>...</td>\n",
       "      <td>...</td>\n",
       "    </tr>\n",
       "    <tr>\n",
       "      <th>15652</th>\n",
       "      <td>Renault Espace</td>\n",
       "      <td>Station wagon</td>\n",
       "      <td>4.000</td>\n",
       "    </tr>\n",
       "    <tr>\n",
       "      <th>15805</th>\n",
       "      <td>Renault Espace</td>\n",
       "      <td>Compact</td>\n",
       "      <td>5.000</td>\n",
       "    </tr>\n",
       "    <tr>\n",
       "      <th>15851</th>\n",
       "      <td>Renault Espace</td>\n",
       "      <td>Station wagon</td>\n",
       "      <td>4.000</td>\n",
       "    </tr>\n",
       "    <tr>\n",
       "      <th>15884</th>\n",
       "      <td>Renault Espace</td>\n",
       "      <td>Station wagon</td>\n",
       "      <td>4.000</td>\n",
       "    </tr>\n",
       "    <tr>\n",
       "      <th>15905</th>\n",
       "      <td>Renault Espace</td>\n",
       "      <td>Compact</td>\n",
       "      <td>5.000</td>\n",
       "    </tr>\n",
       "  </tbody>\n",
       "</table></div>"
      ],
      "text/plain": [
       "           make_model      body_type  num_of_doors\n",
       "0             Audi A1         Sedans         5.000\n",
       "1             Audi A1         Sedans         3.000\n",
       "2             Audi A1         Sedans         4.000\n",
       "3             Audi A1         Sedans         3.000\n",
       "4             Audi A1         Sedans         5.000\n",
       "...               ...            ...           ...\n",
       "15652  Renault Espace  Station wagon         4.000\n",
       "15805  Renault Espace        Compact         5.000\n",
       "15851  Renault Espace  Station wagon         4.000\n",
       "15884  Renault Espace  Station wagon         4.000\n",
       "15905  Renault Espace        Compact         5.000\n",
       "\n",
       "[328 rows x 3 columns]"
      ]
     },
     "execution_count": 946,
     "metadata": {},
     "output_type": "execute_result"
    }
   ],
   "source": [
    "df.groupby([\"make_model\", \"body_type\", \"num_of_doors\"])[\n",
    "    [\"make_model\", \"body_type\", \"num_of_doors\"]].head()\n"
   ]
  },
  {
   "cell_type": "code",
   "execution_count": 947,
   "metadata": {},
   "outputs": [],
   "source": [
    "df[\"num_of_doors\"].fillna(\"-\", inplace=True)\n"
   ]
  },
  {
   "cell_type": "code",
   "execution_count": 948,
   "metadata": {},
   "outputs": [
    {
     "data": {
      "text/html": [
       "<div><div id=0336522c-7272-4121-87b4-fb696b5ed08a style=\"display:none; background-color:#9D6CFF; color:white; width:200px; height:30px; padding-left:5px; border-radius:4px; flex-direction:row; justify-content:space-around; align-items:center;\" onmouseover=\"this.style.backgroundColor='#BA9BF8'\" onmouseout=\"this.style.backgroundColor='#9D6CFF'\" onclick=\"window.commands?.execute('create-mitosheet-from-dataframe-output');\">See Full Dataframe in Mito</div> <script> if (window.commands?.hasCommand('create-mitosheet-from-dataframe-output')) document.getElementById('0336522c-7272-4121-87b4-fb696b5ed08a').style.display = 'flex' </script> <table border=\"1\" class=\"dataframe\">\n",
       "  <thead>\n",
       "    <tr style=\"text-align: right;\">\n",
       "      <th></th>\n",
       "      <th></th>\n",
       "      <th></th>\n",
       "      <th>count</th>\n",
       "      <th>mean</th>\n",
       "      <th>std</th>\n",
       "      <th>min</th>\n",
       "      <th>25%</th>\n",
       "      <th>50%</th>\n",
       "      <th>75%</th>\n",
       "      <th>max</th>\n",
       "    </tr>\n",
       "    <tr>\n",
       "      <th>make_model</th>\n",
       "      <th>body_type</th>\n",
       "      <th>num_of_doors</th>\n",
       "      <th></th>\n",
       "      <th></th>\n",
       "      <th></th>\n",
       "      <th></th>\n",
       "      <th></th>\n",
       "      <th></th>\n",
       "      <th></th>\n",
       "      <th></th>\n",
       "    </tr>\n",
       "  </thead>\n",
       "  <tbody>\n",
       "    <tr>\n",
       "      <th rowspan=\"5\" valign=\"top\">Audi A1</th>\n",
       "      <th rowspan=\"5\" valign=\"top\">Compact</th>\n",
       "      <th>2.0</th>\n",
       "      <td>69.000</td>\n",
       "      <td>15201.609</td>\n",
       "      <td>2121.071</td>\n",
       "      <td>10900.000</td>\n",
       "      <td>13990.000</td>\n",
       "      <td>15850.000</td>\n",
       "      <td>15850.000</td>\n",
       "      <td>23090.000</td>\n",
       "    </tr>\n",
       "    <tr>\n",
       "      <th>3.0</th>\n",
       "      <td>80.000</td>\n",
       "      <td>15190.013</td>\n",
       "      <td>2353.692</td>\n",
       "      <td>9950.000</td>\n",
       "      <td>13837.500</td>\n",
       "      <td>14995.000</td>\n",
       "      <td>15912.500</td>\n",
       "      <td>21490.000</td>\n",
       "    </tr>\n",
       "    <tr>\n",
       "      <th>4.0</th>\n",
       "      <td>207.000</td>\n",
       "      <td>19018.077</td>\n",
       "      <td>4481.635</td>\n",
       "      <td>10490.000</td>\n",
       "      <td>14990.000</td>\n",
       "      <td>18325.000</td>\n",
       "      <td>22320.000</td>\n",
       "      <td>28990.000</td>\n",
       "    </tr>\n",
       "    <tr>\n",
       "      <th>5.0</th>\n",
       "      <td>666.000</td>\n",
       "      <td>20055.171</td>\n",
       "      <td>4463.177</td>\n",
       "      <td>11100.000</td>\n",
       "      <td>16445.000</td>\n",
       "      <td>19895.000</td>\n",
       "      <td>22690.000</td>\n",
       "      <td>31990.000</td>\n",
       "    </tr>\n",
       "    <tr>\n",
       "      <th>-</th>\n",
       "      <td>17.000</td>\n",
       "      <td>22362.412</td>\n",
       "      <td>4836.261</td>\n",
       "      <td>12990.000</td>\n",
       "      <td>21390.000</td>\n",
       "      <td>21985.000</td>\n",
       "      <td>25490.000</td>\n",
       "      <td>29197.000</td>\n",
       "    </tr>\n",
       "    <tr>\n",
       "      <th>...</th>\n",
       "      <th>...</th>\n",
       "      <th>...</th>\n",
       "      <td>...</td>\n",
       "      <td>...</td>\n",
       "      <td>...</td>\n",
       "      <td>...</td>\n",
       "      <td>...</td>\n",
       "      <td>...</td>\n",
       "      <td>...</td>\n",
       "      <td>...</td>\n",
       "    </tr>\n",
       "    <tr>\n",
       "      <th rowspan=\"5\" valign=\"top\">Renault Espace</th>\n",
       "      <th>Transporter</th>\n",
       "      <th>5.0</th>\n",
       "      <td>52.000</td>\n",
       "      <td>22606.481</td>\n",
       "      <td>4226.833</td>\n",
       "      <td>14999.000</td>\n",
       "      <td>19787.500</td>\n",
       "      <td>21000.000</td>\n",
       "      <td>25250.000</td>\n",
       "      <td>32700.000</td>\n",
       "    </tr>\n",
       "    <tr>\n",
       "      <th rowspan=\"4\" valign=\"top\">Van</th>\n",
       "      <th>4.0</th>\n",
       "      <td>90.000</td>\n",
       "      <td>28483.511</td>\n",
       "      <td>7594.880</td>\n",
       "      <td>12614.000</td>\n",
       "      <td>25490.000</td>\n",
       "      <td>25490.000</td>\n",
       "      <td>31990.000</td>\n",
       "      <td>48990.000</td>\n",
       "    </tr>\n",
       "    <tr>\n",
       "      <th>5.0</th>\n",
       "      <td>711.000</td>\n",
       "      <td>31263.684</td>\n",
       "      <td>8816.686</td>\n",
       "      <td>13000.000</td>\n",
       "      <td>24845.000</td>\n",
       "      <td>30480.000</td>\n",
       "      <td>35798.000</td>\n",
       "      <td>68320.000</td>\n",
       "    </tr>\n",
       "    <tr>\n",
       "      <th>7.0</th>\n",
       "      <td>1.000</td>\n",
       "      <td>21600.000</td>\n",
       "      <td>NaN</td>\n",
       "      <td>21600.000</td>\n",
       "      <td>21600.000</td>\n",
       "      <td>21600.000</td>\n",
       "      <td>21600.000</td>\n",
       "      <td>21600.000</td>\n",
       "    </tr>\n",
       "    <tr>\n",
       "      <th>-</th>\n",
       "      <td>9.000</td>\n",
       "      <td>28456.556</td>\n",
       "      <td>7144.922</td>\n",
       "      <td>18999.000</td>\n",
       "      <td>21980.000</td>\n",
       "      <td>26880.000</td>\n",
       "      <td>34990.000</td>\n",
       "      <td>38890.000</td>\n",
       "    </tr>\n",
       "  </tbody>\n",
       "</table></div>"
      ],
      "text/plain": [
       "                                          count      mean      std       min  \\\n",
       "make_model     body_type   num_of_doors                                        \n",
       "Audi A1        Compact     2.0           69.000 15201.609 2121.071 10900.000   \n",
       "                           3.0           80.000 15190.013 2353.692  9950.000   \n",
       "                           4.0          207.000 19018.077 4481.635 10490.000   \n",
       "                           5.0          666.000 20055.171 4463.177 11100.000   \n",
       "                           -             17.000 22362.412 4836.261 12990.000   \n",
       "...                                         ...       ...      ...       ...   \n",
       "Renault Espace Transporter 5.0           52.000 22606.481 4226.833 14999.000   \n",
       "               Van         4.0           90.000 28483.511 7594.880 12614.000   \n",
       "                           5.0          711.000 31263.684 8816.686 13000.000   \n",
       "                           7.0            1.000 21600.000      NaN 21600.000   \n",
       "                           -              9.000 28456.556 7144.922 18999.000   \n",
       "\n",
       "                                              25%       50%       75%  \\\n",
       "make_model     body_type   num_of_doors                                 \n",
       "Audi A1        Compact     2.0          13990.000 15850.000 15850.000   \n",
       "                           3.0          13837.500 14995.000 15912.500   \n",
       "                           4.0          14990.000 18325.000 22320.000   \n",
       "                           5.0          16445.000 19895.000 22690.000   \n",
       "                           -            21390.000 21985.000 25490.000   \n",
       "...                                           ...       ...       ...   \n",
       "Renault Espace Transporter 5.0          19787.500 21000.000 25250.000   \n",
       "               Van         4.0          25490.000 25490.000 31990.000   \n",
       "                           5.0          24845.000 30480.000 35798.000   \n",
       "                           7.0          21600.000 21600.000 21600.000   \n",
       "                           -            21980.000 26880.000 34990.000   \n",
       "\n",
       "                                              max  \n",
       "make_model     body_type   num_of_doors            \n",
       "Audi A1        Compact     2.0          23090.000  \n",
       "                           3.0          21490.000  \n",
       "                           4.0          28990.000  \n",
       "                           5.0          31990.000  \n",
       "                           -            29197.000  \n",
       "...                                           ...  \n",
       "Renault Espace Transporter 5.0          32700.000  \n",
       "               Van         4.0          48990.000  \n",
       "                           5.0          68320.000  \n",
       "                           7.0          21600.000  \n",
       "                           -            38890.000  \n",
       "\n",
       "[108 rows x 8 columns]"
      ]
     },
     "execution_count": 948,
     "metadata": {},
     "output_type": "execute_result"
    }
   ],
   "source": [
    "df.groupby([\"make_model\", \"body_type\", \"num_of_doors\"]).price.describe()\n"
   ]
  },
  {
   "cell_type": "code",
   "execution_count": 949,
   "metadata": {},
   "outputs": [
    {
     "data": {
      "text/plain": [
       "0   5.000\n",
       "Name: num_of_doors, dtype: object"
      ]
     },
     "execution_count": 949,
     "metadata": {},
     "output_type": "execute_result"
    }
   ],
   "source": [
    "df[df[\"make_model\"] == \"Renault Espace\"][\"num_of_doors\"].mode()\n"
   ]
  },
  {
   "cell_type": "code",
   "execution_count": 950,
   "metadata": {},
   "outputs": [],
   "source": [
    "df[\"num_of_doors\"].replace(\"-\", np.nan, inplace=True)\n"
   ]
  },
  {
   "cell_type": "code",
   "execution_count": 951,
   "metadata": {},
   "outputs": [
    {
     "data": {
      "text/plain": [
       "5.000    11575\n",
       "4.000     3079\n",
       "3.000      832\n",
       "2.000      219\n",
       "NaN        212\n",
       "1.000        1\n",
       "7.000        1\n",
       "Name: num_of_doors, dtype: int64"
      ]
     },
     "execution_count": 951,
     "metadata": {},
     "output_type": "execute_result"
    }
   ],
   "source": [
    "df.num_of_doors.value_counts(dropna=False)"
   ]
  },
  {
   "cell_type": "code",
   "execution_count": 952,
   "metadata": {},
   "outputs": [
    {
     "data": {
      "text/plain": [
       "5.000    11575\n",
       "4.000     3079\n",
       "3.000      832\n",
       "2.000      219\n",
       "NaN        214\n",
       "Name: num_of_doors, dtype: int64"
      ]
     },
     "execution_count": 952,
     "metadata": {},
     "output_type": "execute_result"
    }
   ],
   "source": [
    "df.num_of_doors.replace([1, 7], np.nan, inplace=True)\n",
    "df.num_of_doors.value_counts(dropna=False)"
   ]
  },
  {
   "cell_type": "code",
   "execution_count": 953,
   "metadata": {},
   "outputs": [],
   "source": [
    "# method can be \\\"mode\\\" or \\\"median\\\" or \\\"ffill\\\"\n",
    "def fill(df, group_col1, group_col2, col_name, method):\n",
    "\n",
    "#Fills the missing values based on selected method (mode/median/ffill) according to two-stage grouping\n",
    "    if method == \"mode\":\n",
    "        for group1 in list(df[group_col1].unique()):\n",
    "            for group2 in list(df[group_col2].unique()):\n",
    "                cond1 = df[group_col1] == group1\n",
    "                cond2 = (df[group_col1] == group1) & (df[group_col2] == group2)\n",
    "                grp_inx = list(df[cond2][col_name].index)\n",
    "                mode1 = list(df[cond1][col_name].mode())\n",
    "                mode2 = list(df[cond2][col_name].mode())\n",
    "                if (mode1 != []) and (mode2 != []):\n",
    "                    df[col_name].iloc[grp_inx] = df[col_name].iloc[grp_inx].fillna(\n",
    "                        df[cond2][col_name].mode()[0]).fillna(df[cond1][col_name].mode()[0])\n",
    "                elif mode1 != []:\n",
    "                    df[col_name].iloc[grp_inx] = df[col_name].iloc[grp_inx].fillna(\n",
    "                        df[cond1][col_name].mode()[0])\n",
    "                else:\n",
    "                    df[col_name].iloc[grp_inx] = df[col_name].iloc[grp_inx].fillna(\n",
    "                        df[col_name].mode()[0])\n",
    "    elif method == \"median\":\n",
    "            for group1 in list(df[group_col1].unique()):\n",
    "                for group2 in list(df[group_col2].unique()):\n",
    "                    cond1 = df[group_col1] == group1\n",
    "                    cond2 = (df[group_col1] == group1) & (\n",
    "                        df[group_col2] == group2)\n",
    "                    grp_inx = list(df[cond2][col_name].index)\n",
    "                    df[col_name].iloc[grp_inx] = df[col_name].iloc[grp_inx].fillna(\n",
    "                        df[cond2][col_name].median()).fillna(df[cond1][col_name].median()).fillna(df[col_name].median())\n",
    "\n",
    "    elif method == \"ffill\":           \n",
    "        for group1 in list(df[group_col1].unique()):\n",
    "            for group2 in list(df[group_col2].unique()):\n",
    "                cond1 = df[group_col1]==group1\n",
    "                cond2 = (df[group_col1]==group1) & (df[group_col2]==group2)\n",
    "                grp_inx = list(df[cond2][col_name].index)\n",
    "                df.loc[cond2, col_name] = df.loc[cond2, col_name].fillna(method=\"ffill\").fillna(method=\"bfill\")\n",
    "                    \n",
    "        for group1 in list(df[group_col1].unique()):\n",
    "            cond1 = df[group_col1]==group1\n",
    "            df.loc[cond1, col_name] = df.loc[cond1, col_name].fillna(method=\"ffill\").fillna(method=\"bfill\")            \n",
    "               \n",
    "        df[col_name] = df[col_name].fillna(method=\"ffill\").fillna(method=\"bfill\")\n",
    "        \n",
    "    print(\"Number of NaN : \",df[col_name].isnull().sum())\n",
    "    print(\"------------------\")\n",
    "    print(df[col_name].value_counts(dropna=False))"
   ]
  },
  {
   "cell_type": "code",
   "execution_count": 954,
   "metadata": {},
   "outputs": [
    {
     "name": "stdout",
     "output_type": "stream",
     "text": [
      "Number of NaN :  0\n",
      "------------------\n",
      "5.000    11789\n",
      "4.000     3079\n",
      "3.000      832\n",
      "2.000      219\n",
      "Name: num_of_doors, dtype: int64\n"
     ]
    }
   ],
   "source": [
    "fill(df, \"make_model\", \"body_type\", \"num_of_doors\", \"mode\")\n"
   ]
  },
  {
   "cell_type": "code",
   "execution_count": 955,
   "metadata": {},
   "outputs": [
    {
     "data": {
      "text/plain": [
       "Index(['make_model', 'body_type', 'price', 'vat', 'km', 'previous_owners',\n",
       "       'next_inspection', 'inspection_new', 'paint_type', 'num_of_doors',\n",
       "       'num_of_seats', 'gearing_type', 'cylinders', 'drive_chain', 'fuel',\n",
       "       'consumption', 'co2_emission', 'emission_class', 'comfort_convenience',\n",
       "       'entertainment_media', 'extras', 'safety_security', 'gears', 'age',\n",
       "       'hp_kw', 'type', 'upholstery_type', 'upholstery_color',\n",
       "       'displacement_cc', 'weight_kg', 'cons_comb', 'cons_city',\n",
       "       'cons_country'],\n",
       "      dtype='object')"
      ]
     },
     "execution_count": 955,
     "metadata": {},
     "output_type": "execute_result"
    }
   ],
   "source": [
    "df.columns"
   ]
  },
  {
   "cell_type": "markdown",
   "metadata": {},
   "source": [
    "### num_of_seats column:"
   ]
  },
  {
   "cell_type": "code",
   "execution_count": 956,
   "metadata": {},
   "outputs": [
    {
     "name": "stdout",
     "output_type": "stream",
     "text": [
      "\n",
      "Percentage of Missing Values : % 6.14\n",
      "Number of Missings           :  977\n",
      "Number of Uniques            :  6\n",
      "Value counts                 : \n",
      "\n",
      " 5.000    13336\n",
      "4.000     1125\n",
      "NaN        977\n",
      "7.000      362\n",
      "2.000      116\n",
      "6.000        2\n",
      "3.000        1\n",
      "Name: num_of_seats, dtype: int64\n"
     ]
    }
   ],
   "source": [
    "print('\\n''Percentage of Missing Values : %', round(\n",
    "    df['num_of_seats'].isnull().sum()/df.shape[0]*100, 2))\n",
    "print(\"Number of Missings           : \",\n",
    "      df['num_of_seats'].isnull().sum())\n",
    "print(\"Number of Uniques            : \", df['num_of_seats'].nunique())\n",
    "print('Value counts                 : ''\\n''\\n',df['num_of_seats'].value_counts(dropna=False))"
   ]
  },
  {
   "cell_type": "code",
   "execution_count": 957,
   "metadata": {},
   "outputs": [],
   "source": [
    "df.num_of_seats.replace([3, 6], np.nan, inplace=True)\n"
   ]
  },
  {
   "cell_type": "code",
   "execution_count": 958,
   "metadata": {},
   "outputs": [
    {
     "data": {
      "text/plain": [
       "5.000    13336\n",
       "4.000     1125\n",
       "NaN        980\n",
       "7.000      362\n",
       "2.000      116\n",
       "Name: num_of_seats, dtype: int64"
      ]
     },
     "execution_count": 958,
     "metadata": {},
     "output_type": "execute_result"
    }
   ],
   "source": [
    "df.num_of_seats.value_counts(dropna = False)"
   ]
  },
  {
   "cell_type": "code",
   "execution_count": 959,
   "metadata": {},
   "outputs": [
    {
     "name": "stdout",
     "output_type": "stream",
     "text": [
      "Number of NaN :  0\n",
      "------------------\n",
      "5.000    14311\n",
      "4.000     1127\n",
      "7.000      362\n",
      "2.000      119\n",
      "Name: num_of_seats, dtype: int64\n"
     ]
    }
   ],
   "source": [
    "fill(df, \"make_model\", \"body_type\", \"num_of_seats\", \"mode\")\n"
   ]
  },
  {
   "cell_type": "markdown",
   "metadata": {},
   "source": [
    "### gearing_type column:"
   ]
  },
  {
   "cell_type": "code",
   "execution_count": 960,
   "metadata": {},
   "outputs": [
    {
     "name": "stdout",
     "output_type": "stream",
     "text": [
      "\n",
      "Percentage of Missing Values : % 0.0\n",
      "Number of Missings           :  0\n",
      "Number of Uniques            :  3\n",
      "Value counts                 : \n",
      "\n",
      " Manual            8153\n",
      "Automatic         7297\n",
      "Semi-automatic     469\n",
      "Name: gearing_type, dtype: int64\n"
     ]
    }
   ],
   "source": [
    "print('\\n''Percentage of Missing Values : %', round(\n",
    "    df['gearing_type'].isnull().sum()/df.shape[0]*100, 2))\n",
    "print(\"Number of Missings           : \",\n",
    "      df['gearing_type'].isnull().sum())\n",
    "print(\"Number of Uniques            : \", df['gearing_type'].nunique())\n",
    "print('Value counts                 : ''\\n''\\n',df['gearing_type'].value_counts(dropna=False))"
   ]
  },
  {
   "cell_type": "markdown",
   "metadata": {},
   "source": [
    "There is no missing value in this column"
   ]
  },
  {
   "cell_type": "markdown",
   "metadata": {},
   "source": [
    "### cylinders column"
   ]
  },
  {
   "cell_type": "code",
   "execution_count": 961,
   "metadata": {},
   "outputs": [
    {
     "name": "stdout",
     "output_type": "stream",
     "text": [
      "\n",
      "Percentage of Missing Values : % 35.68\n",
      "Number of Missings           :  5680\n",
      "Number of Uniques            :  7\n",
      "Value counts                 : \n",
      "\n",
      " 4.000    8105\n",
      "NaN      5680\n",
      "3.000    2104\n",
      "5.000      22\n",
      "6.000       3\n",
      "8.000       2\n",
      "2.000       2\n",
      "1.000       1\n",
      "Name: cylinders, dtype: int64\n"
     ]
    }
   ],
   "source": [
    "print('\\n''Percentage of Missing Values : %', round(\n",
    "    df['cylinders'].isnull().sum()/df.shape[0]*100, 2))\n",
    "print(\"Number of Missings           : \",\n",
    "      df['cylinders'].isnull().sum())\n",
    "print(\"Number of Uniques            : \", df['cylinders'].nunique())\n",
    "print('Value counts                 : ''\\n''\\n',df['cylinders'].value_counts(dropna=False))"
   ]
  },
  {
   "cell_type": "code",
   "execution_count": 962,
   "metadata": {},
   "outputs": [
    {
     "name": "stdout",
     "output_type": "stream",
     "text": [
      "Number of NaN :  0\n",
      "------------------\n",
      "4.000    12926\n",
      "3.000     2963\n",
      "5.000       22\n",
      "6.000        3\n",
      "8.000        2\n",
      "2.000        2\n",
      "1.000        1\n",
      "Name: cylinders, dtype: int64\n"
     ]
    }
   ],
   "source": [
    "fill(df, \"make_model\", \"body_type\", \"cylinders\", \"mode\")\n"
   ]
  },
  {
   "cell_type": "markdown",
   "metadata": {},
   "source": [
    "### drive_chain column:"
   ]
  },
  {
   "cell_type": "code",
   "execution_count": 963,
   "metadata": {},
   "outputs": [
    {
     "name": "stdout",
     "output_type": "stream",
     "text": [
      "\n",
      "Percentage of Missing Values : % 43.08\n",
      "Number of Missings           :  6858\n",
      "Number of Uniques            :  3\n",
      "Value counts                 : \n",
      "\n",
      " front    8886\n",
      "NaN      6858\n",
      "4WD       171\n",
      "rear        4\n",
      "Name: drive_chain, dtype: int64\n"
     ]
    }
   ],
   "source": [
    "print('\\n''Percentage of Missing Values : %', round(\n",
    "    df['drive_chain'].isnull().sum()/df.shape[0]*100, 2))\n",
    "print(\"Number of Missings           : \",\n",
    "      df['drive_chain'].isnull().sum())\n",
    "print(\"Number of Uniques            : \", df['drive_chain'].nunique())\n",
    "print('Value counts                 : ''\\n''\\n',df['drive_chain'].value_counts(dropna=False))"
   ]
  },
  {
   "cell_type": "code",
   "execution_count": 964,
   "metadata": {},
   "outputs": [],
   "source": [
    "df[\"drive_chain\"].fillna(\"-\", inplace=True)\n"
   ]
  },
  {
   "cell_type": "code",
   "execution_count": 965,
   "metadata": {},
   "outputs": [
    {
     "data": {
      "text/html": [
       "<div><div id=ae2bc69c-01f1-4e48-8c8c-005d1355b758 style=\"display:none; background-color:#9D6CFF; color:white; width:200px; height:30px; padding-left:5px; border-radius:4px; flex-direction:row; justify-content:space-around; align-items:center;\" onmouseover=\"this.style.backgroundColor='#BA9BF8'\" onmouseout=\"this.style.backgroundColor='#9D6CFF'\" onclick=\"window.commands?.execute('create-mitosheet-from-dataframe-output');\">See Full Dataframe in Mito</div> <script> if (window.commands?.hasCommand('create-mitosheet-from-dataframe-output')) document.getElementById('ae2bc69c-01f1-4e48-8c8c-005d1355b758').style.display = 'flex' </script> <table border=\"1\" class=\"dataframe\">\n",
       "  <thead>\n",
       "    <tr style=\"text-align: right;\">\n",
       "      <th></th>\n",
       "      <th></th>\n",
       "      <th></th>\n",
       "      <th>count</th>\n",
       "      <th>mean</th>\n",
       "      <th>std</th>\n",
       "      <th>min</th>\n",
       "      <th>25%</th>\n",
       "      <th>50%</th>\n",
       "      <th>75%</th>\n",
       "      <th>max</th>\n",
       "    </tr>\n",
       "    <tr>\n",
       "      <th>make_model</th>\n",
       "      <th>body_type</th>\n",
       "      <th>drive_chain</th>\n",
       "      <th></th>\n",
       "      <th></th>\n",
       "      <th></th>\n",
       "      <th></th>\n",
       "      <th></th>\n",
       "      <th></th>\n",
       "      <th></th>\n",
       "      <th></th>\n",
       "    </tr>\n",
       "  </thead>\n",
       "  <tbody>\n",
       "    <tr>\n",
       "      <th rowspan=\"5\" valign=\"top\">Audi A1</th>\n",
       "      <th rowspan=\"3\" valign=\"top\">Compact</th>\n",
       "      <th>-</th>\n",
       "      <td>352.000</td>\n",
       "      <td>17620.869</td>\n",
       "      <td>4226.116</td>\n",
       "      <td>10490.000</td>\n",
       "      <td>14990.000</td>\n",
       "      <td>15900.000</td>\n",
       "      <td>20885.750</td>\n",
       "      <td>29190.000</td>\n",
       "    </tr>\n",
       "    <tr>\n",
       "      <th>4WD</th>\n",
       "      <td>2.000</td>\n",
       "      <td>14790.000</td>\n",
       "      <td>1258.650</td>\n",
       "      <td>13900.000</td>\n",
       "      <td>14345.000</td>\n",
       "      <td>14790.000</td>\n",
       "      <td>15235.000</td>\n",
       "      <td>15680.000</td>\n",
       "    </tr>\n",
       "    <tr>\n",
       "      <th>front</th>\n",
       "      <td>685.000</td>\n",
       "      <td>20008.223</td>\n",
       "      <td>4511.348</td>\n",
       "      <td>9950.000</td>\n",
       "      <td>16430.000</td>\n",
       "      <td>19890.000</td>\n",
       "      <td>22690.000</td>\n",
       "      <td>31990.000</td>\n",
       "    </tr>\n",
       "    <tr>\n",
       "      <th>Coupe</th>\n",
       "      <th>-</th>\n",
       "      <td>2.000</td>\n",
       "      <td>14925.000</td>\n",
       "      <td>1378.858</td>\n",
       "      <td>13950.000</td>\n",
       "      <td>14437.500</td>\n",
       "      <td>14925.000</td>\n",
       "      <td>15412.500</td>\n",
       "      <td>15900.000</td>\n",
       "    </tr>\n",
       "    <tr>\n",
       "      <th>Sedans</th>\n",
       "      <th>-</th>\n",
       "      <td>561.000</td>\n",
       "      <td>17830.440</td>\n",
       "      <td>4362.321</td>\n",
       "      <td>8999.000</td>\n",
       "      <td>14900.000</td>\n",
       "      <td>16490.000</td>\n",
       "      <td>20700.000</td>\n",
       "      <td>37900.000</td>\n",
       "    </tr>\n",
       "    <tr>\n",
       "      <th>...</th>\n",
       "      <th>...</th>\n",
       "      <th>...</th>\n",
       "      <td>...</td>\n",
       "      <td>...</td>\n",
       "      <td>...</td>\n",
       "      <td>...</td>\n",
       "      <td>...</td>\n",
       "      <td>...</td>\n",
       "      <td>...</td>\n",
       "      <td>...</td>\n",
       "    </tr>\n",
       "    <tr>\n",
       "      <th rowspan=\"5\" valign=\"top\">Renault Espace</th>\n",
       "      <th rowspan=\"2\" valign=\"top\">Transporter</th>\n",
       "      <th>4WD</th>\n",
       "      <td>1.000</td>\n",
       "      <td>30000.000</td>\n",
       "      <td>NaN</td>\n",
       "      <td>30000.000</td>\n",
       "      <td>30000.000</td>\n",
       "      <td>30000.000</td>\n",
       "      <td>30000.000</td>\n",
       "      <td>30000.000</td>\n",
       "    </tr>\n",
       "    <tr>\n",
       "      <th>front</th>\n",
       "      <td>6.000</td>\n",
       "      <td>23258.167</td>\n",
       "      <td>5973.317</td>\n",
       "      <td>17000.000</td>\n",
       "      <td>19262.500</td>\n",
       "      <td>21500.000</td>\n",
       "      <td>26624.250</td>\n",
       "      <td>32700.000</td>\n",
       "    </tr>\n",
       "    <tr>\n",
       "      <th rowspan=\"3\" valign=\"top\">Van</th>\n",
       "      <th>-</th>\n",
       "      <td>394.000</td>\n",
       "      <td>29624.208</td>\n",
       "      <td>8543.180</td>\n",
       "      <td>12990.000</td>\n",
       "      <td>23990.000</td>\n",
       "      <td>27545.000</td>\n",
       "      <td>34368.750</td>\n",
       "      <td>63477.000</td>\n",
       "    </tr>\n",
       "    <tr>\n",
       "      <th>4WD</th>\n",
       "      <td>38.000</td>\n",
       "      <td>38150.763</td>\n",
       "      <td>10013.779</td>\n",
       "      <td>24950.000</td>\n",
       "      <td>31900.000</td>\n",
       "      <td>34200.000</td>\n",
       "      <td>45747.000</td>\n",
       "      <td>57990.000</td>\n",
       "    </tr>\n",
       "    <tr>\n",
       "      <th>front</th>\n",
       "      <td>379.000</td>\n",
       "      <td>31525.164</td>\n",
       "      <td>8343.192</td>\n",
       "      <td>12614.000</td>\n",
       "      <td>25050.000</td>\n",
       "      <td>31360.000</td>\n",
       "      <td>36151.000</td>\n",
       "      <td>68320.000</td>\n",
       "    </tr>\n",
       "  </tbody>\n",
       "</table></div>"
      ],
      "text/plain": [
       "                                         count      mean       std       min  \\\n",
       "make_model     body_type   drive_chain                                         \n",
       "Audi A1        Compact     -           352.000 17620.869  4226.116 10490.000   \n",
       "                           4WD           2.000 14790.000  1258.650 13900.000   \n",
       "                           front       685.000 20008.223  4511.348  9950.000   \n",
       "               Coupe       -             2.000 14925.000  1378.858 13950.000   \n",
       "               Sedans      -           561.000 17830.440  4362.321  8999.000   \n",
       "...                                        ...       ...       ...       ...   \n",
       "Renault Espace Transporter 4WD           1.000 30000.000       NaN 30000.000   \n",
       "                           front         6.000 23258.167  5973.317 17000.000   \n",
       "               Van         -           394.000 29624.208  8543.180 12990.000   \n",
       "                           4WD          38.000 38150.763 10013.779 24950.000   \n",
       "                           front       379.000 31525.164  8343.192 12614.000   \n",
       "\n",
       "                                             25%       50%       75%       max  \n",
       "make_model     body_type   drive_chain                                          \n",
       "Audi A1        Compact     -           14990.000 15900.000 20885.750 29190.000  \n",
       "                           4WD         14345.000 14790.000 15235.000 15680.000  \n",
       "                           front       16430.000 19890.000 22690.000 31990.000  \n",
       "               Coupe       -           14437.500 14925.000 15412.500 15900.000  \n",
       "               Sedans      -           14900.000 16490.000 20700.000 37900.000  \n",
       "...                                          ...       ...       ...       ...  \n",
       "Renault Espace Transporter 4WD         30000.000 30000.000 30000.000 30000.000  \n",
       "                           front       19262.500 21500.000 26624.250 32700.000  \n",
       "               Van         -           23990.000 27545.000 34368.750 63477.000  \n",
       "                           4WD         31900.000 34200.000 45747.000 57990.000  \n",
       "                           front       25050.000 31360.000 36151.000 68320.000  \n",
       "\n",
       "[93 rows x 8 columns]"
      ]
     },
     "execution_count": 965,
     "metadata": {},
     "output_type": "execute_result"
    }
   ],
   "source": [
    "df.groupby([\"make_model\", \"body_type\", \"drive_chain\"]).price.describe()\n"
   ]
  },
  {
   "cell_type": "code",
   "execution_count": 966,
   "metadata": {},
   "outputs": [
    {
     "data": {
      "text/plain": [
       "['Audi A1',\n",
       " 'Audi A2',\n",
       " 'Audi A3',\n",
       " 'Opel Astra',\n",
       " 'Opel Corsa',\n",
       " 'Opel Insignia',\n",
       " 'Renault Clio',\n",
       " 'Renault Duster',\n",
       " 'Renault Espace']"
      ]
     },
     "execution_count": 966,
     "metadata": {},
     "output_type": "execute_result"
    }
   ],
   "source": [
    "list(df.make_model.unique())"
   ]
  },
  {
   "cell_type": "code",
   "execution_count": 967,
   "metadata": {},
   "outputs": [
    {
     "data": {
      "text/html": [
       "<div><div id=119e5340-1cea-46dc-a8a0-ebf39f34e120 style=\"display:none; background-color:#9D6CFF; color:white; width:200px; height:30px; padding-left:5px; border-radius:4px; flex-direction:row; justify-content:space-around; align-items:center;\" onmouseover=\"this.style.backgroundColor='#BA9BF8'\" onmouseout=\"this.style.backgroundColor='#9D6CFF'\" onclick=\"window.commands?.execute('create-mitosheet-from-dataframe-output');\">See Full Dataframe in Mito</div> <script> if (window.commands?.hasCommand('create-mitosheet-from-dataframe-output')) document.getElementById('119e5340-1cea-46dc-a8a0-ebf39f34e120').style.display = 'flex' </script> <table border=\"1\" class=\"dataframe\">\n",
       "  <thead>\n",
       "    <tr style=\"text-align: right;\">\n",
       "      <th></th>\n",
       "      <th>make_model</th>\n",
       "      <th>body_type</th>\n",
       "      <th>drive_chain</th>\n",
       "    </tr>\n",
       "  </thead>\n",
       "  <tbody>\n",
       "    <tr>\n",
       "      <th>14916</th>\n",
       "      <td>Renault Duster</td>\n",
       "      <td>Off-Road</td>\n",
       "      <td>-</td>\n",
       "    </tr>\n",
       "    <tr>\n",
       "      <th>14913</th>\n",
       "      <td>Renault Duster</td>\n",
       "      <td>Off-Road</td>\n",
       "      <td>-</td>\n",
       "    </tr>\n",
       "    <tr>\n",
       "      <th>14905</th>\n",
       "      <td>Renault Duster</td>\n",
       "      <td>Off-Road</td>\n",
       "      <td>-</td>\n",
       "    </tr>\n",
       "    <tr>\n",
       "      <th>14926</th>\n",
       "      <td>Renault Duster</td>\n",
       "      <td>Off-Road</td>\n",
       "      <td>-</td>\n",
       "    </tr>\n",
       "    <tr>\n",
       "      <th>14920</th>\n",
       "      <td>Renault Duster</td>\n",
       "      <td>Off-Road</td>\n",
       "      <td>-</td>\n",
       "    </tr>\n",
       "    <tr>\n",
       "      <th>14894</th>\n",
       "      <td>Renault Duster</td>\n",
       "      <td>Off-Road</td>\n",
       "      <td>-</td>\n",
       "    </tr>\n",
       "    <tr>\n",
       "      <th>14902</th>\n",
       "      <td>Renault Duster</td>\n",
       "      <td>Off-Road</td>\n",
       "      <td>4WD</td>\n",
       "    </tr>\n",
       "    <tr>\n",
       "      <th>14904</th>\n",
       "      <td>Renault Duster</td>\n",
       "      <td>Off-Road</td>\n",
       "      <td>-</td>\n",
       "    </tr>\n",
       "    <tr>\n",
       "      <th>14896</th>\n",
       "      <td>Renault Duster</td>\n",
       "      <td>Off-Road</td>\n",
       "      <td>-</td>\n",
       "    </tr>\n",
       "    <tr>\n",
       "      <th>14911</th>\n",
       "      <td>Renault Duster</td>\n",
       "      <td>Off-Road</td>\n",
       "      <td>-</td>\n",
       "    </tr>\n",
       "  </tbody>\n",
       "</table></div>"
      ],
      "text/plain": [
       "           make_model body_type drive_chain\n",
       "14916  Renault Duster  Off-Road           -\n",
       "14913  Renault Duster  Off-Road           -\n",
       "14905  Renault Duster  Off-Road           -\n",
       "14926  Renault Duster  Off-Road           -\n",
       "14920  Renault Duster  Off-Road           -\n",
       "14894  Renault Duster  Off-Road           -\n",
       "14902  Renault Duster  Off-Road         4WD\n",
       "14904  Renault Duster  Off-Road           -\n",
       "14896  Renault Duster  Off-Road           -\n",
       "14911  Renault Duster  Off-Road           -"
      ]
     },
     "execution_count": 967,
     "metadata": {},
     "output_type": "execute_result"
    }
   ],
   "source": [
    "df[(df[\"make_model\"] == \"Renault Duster\") & (df[\"body_type\"] == \"Off-Road\")\n",
    "   ][[\"make_model\", \"body_type\", \"drive_chain\"]].sample(10)\n"
   ]
  },
  {
   "cell_type": "code",
   "execution_count": 968,
   "metadata": {},
   "outputs": [],
   "source": [
    "off_road = (df['make_model'] == \"Renault Duster\") & (df[\"body_type\"] == \"Off-Road\")\n"
   ]
  },
  {
   "cell_type": "code",
   "execution_count": 969,
   "metadata": {},
   "outputs": [],
   "source": [
    "df.loc[off_road,'drive_chain'] = df.loc[off_road,'drive_chain'].replace('-','4WD')"
   ]
  },
  {
   "cell_type": "code",
   "execution_count": 970,
   "metadata": {},
   "outputs": [
    {
     "data": {
      "text/plain": [
       "front    8886\n",
       "-        6826\n",
       "4WD       203\n",
       "rear        4\n",
       "Name: drive_chain, dtype: int64"
      ]
     },
     "execution_count": 970,
     "metadata": {},
     "output_type": "execute_result"
    }
   ],
   "source": [
    "df[\"drive_chain\"].value_counts(dropna=False)\n"
   ]
  },
  {
   "cell_type": "code",
   "execution_count": 971,
   "metadata": {},
   "outputs": [],
   "source": [
    "df[\"drive_chain\"] = df[\"drive_chain\"].replace('-', np.nan)\n"
   ]
  },
  {
   "cell_type": "code",
   "execution_count": 972,
   "metadata": {},
   "outputs": [
    {
     "data": {
      "text/plain": [
       "front    8886\n",
       "NaN      6826\n",
       "4WD       203\n",
       "rear        4\n",
       "Name: drive_chain, dtype: int64"
      ]
     },
     "execution_count": 972,
     "metadata": {},
     "output_type": "execute_result"
    }
   ],
   "source": [
    "df[\"drive_chain\"].value_counts(dropna=False)\n"
   ]
  },
  {
   "cell_type": "code",
   "execution_count": 973,
   "metadata": {},
   "outputs": [
    {
     "name": "stdout",
     "output_type": "stream",
     "text": [
      "Number of NaN :  0\n",
      "------------------\n",
      "front    15711\n",
      "4WD        204\n",
      "rear         4\n",
      "Name: drive_chain, dtype: int64\n"
     ]
    }
   ],
   "source": [
    "fill(df, \"make_model\", \"body_type\", \"drive_chain\", \"mode\")\n"
   ]
  },
  {
   "cell_type": "code",
   "execution_count": 974,
   "metadata": {},
   "outputs": [
    {
     "data": {
      "text/plain": [
       "front    15711\n",
       "4WD        204\n",
       "rear         4\n",
       "Name: drive_chain, dtype: int64"
      ]
     },
     "execution_count": 974,
     "metadata": {},
     "output_type": "execute_result"
    }
   ],
   "source": [
    "df[\"drive_chain\"].value_counts(dropna=False)\n"
   ]
  },
  {
   "cell_type": "code",
   "execution_count": 975,
   "metadata": {},
   "outputs": [
    {
     "data": {
      "text/plain": [
       "Index(['make_model', 'body_type', 'price', 'vat', 'km', 'previous_owners',\n",
       "       'next_inspection', 'inspection_new', 'paint_type', 'num_of_doors',\n",
       "       'num_of_seats', 'gearing_type', 'cylinders', 'drive_chain', 'fuel',\n",
       "       'consumption', 'co2_emission', 'emission_class', 'comfort_convenience',\n",
       "       'entertainment_media', 'extras', 'safety_security', 'gears', 'age',\n",
       "       'hp_kw', 'type', 'upholstery_type', 'upholstery_color',\n",
       "       'displacement_cc', 'weight_kg', 'cons_comb', 'cons_city',\n",
       "       'cons_country'],\n",
       "      dtype='object')"
      ]
     },
     "execution_count": 975,
     "metadata": {},
     "output_type": "execute_result"
    }
   ],
   "source": [
    "df.columns"
   ]
  },
  {
   "cell_type": "markdown",
   "metadata": {},
   "source": [
    "### fuel column:"
   ]
  },
  {
   "cell_type": "code",
   "execution_count": 976,
   "metadata": {},
   "outputs": [
    {
     "name": "stdout",
     "output_type": "stream",
     "text": [
      "\n",
      "Percentage of Missing Values : % 0.0\n",
      "Number of Missings           :  0\n",
      "Number of Uniques            :  4\n",
      "Value counts                 : \n",
      "\n",
      " Benzine     8551\n",
      "Diesel      7299\n",
      "LPG/CNG       64\n",
      "Electric       5\n",
      "Name: fuel, dtype: int64\n"
     ]
    }
   ],
   "source": [
    "print('\\n''Percentage of Missing Values : %', round(\n",
    "    df['fuel'].isnull().sum()/df.shape[0]*100, 2))\n",
    "print(\"Number of Missings           : \",\n",
    "      df['fuel'].isnull().sum())\n",
    "print(\"Number of Uniques            : \", df['fuel'].nunique())\n",
    "print('Value counts                 : ''\\n''\\n',df['fuel'].value_counts(dropna=False))"
   ]
  },
  {
   "cell_type": "markdown",
   "metadata": {},
   "source": [
    "There is no missing value in this column"
   ]
  },
  {
   "cell_type": "markdown",
   "metadata": {},
   "source": [
    "### co2_emission column:"
   ]
  },
  {
   "cell_type": "code",
   "execution_count": 977,
   "metadata": {},
   "outputs": [
    {
     "name": "stdout",
     "output_type": "stream",
     "text": [
      "\n",
      "Percentage of Missing Values : % 15.3\n",
      "Number of Missings           :  2436\n",
      "Number of Uniques            :  120\n",
      "Value counts                 : \n",
      "\n",
      " NaN        2436\n",
      "120.000     740\n",
      "99.000      545\n",
      "97.000      537\n",
      "104.000     501\n",
      "           ... \n",
      "990.000       1\n",
      "12.324        1\n",
      "1.060         1\n",
      "51.000        1\n",
      "193.000       1\n",
      "Name: co2_emission, Length: 121, dtype: int64\n"
     ]
    }
   ],
   "source": [
    "print('\\n''Percentage of Missing Values : %', round(\n",
    "    df['co2_emission'].isnull().sum()/df.shape[0]*100, 2))\n",
    "print(\"Number of Missings           : \",\n",
    "      df['co2_emission'].isnull().sum())\n",
    "print(\"Number of Uniques            : \", df['co2_emission'].nunique())\n",
    "print('Value counts                 : ''\\n''\\n',df['co2_emission'].value_counts(dropna=False))"
   ]
  },
  {
   "cell_type": "code",
   "execution_count": 978,
   "metadata": {},
   "outputs": [],
   "source": [
    "df[\"co2_emission\"].fillna(\"-\", inplace=True)\n"
   ]
  },
  {
   "cell_type": "code",
   "execution_count": 979,
   "metadata": {},
   "outputs": [
    {
     "data": {
      "text/html": [
       "<div><div id=638bff7d-dc90-4049-838b-858432bd60f4 style=\"display:none; background-color:#9D6CFF; color:white; width:200px; height:30px; padding-left:5px; border-radius:4px; flex-direction:row; justify-content:space-around; align-items:center;\" onmouseover=\"this.style.backgroundColor='#BA9BF8'\" onmouseout=\"this.style.backgroundColor='#9D6CFF'\" onclick=\"window.commands?.execute('create-mitosheet-from-dataframe-output');\">See Full Dataframe in Mito</div> <script> if (window.commands?.hasCommand('create-mitosheet-from-dataframe-output')) document.getElementById('638bff7d-dc90-4049-838b-858432bd60f4').style.display = 'flex' </script> <table border=\"1\" class=\"dataframe\">\n",
       "  <thead>\n",
       "    <tr style=\"text-align: right;\">\n",
       "      <th></th>\n",
       "      <th></th>\n",
       "      <th></th>\n",
       "      <th>count</th>\n",
       "      <th>mean</th>\n",
       "      <th>std</th>\n",
       "      <th>min</th>\n",
       "      <th>25%</th>\n",
       "      <th>50%</th>\n",
       "      <th>75%</th>\n",
       "      <th>max</th>\n",
       "    </tr>\n",
       "    <tr>\n",
       "      <th>make_model</th>\n",
       "      <th>body_type</th>\n",
       "      <th>co2_emission</th>\n",
       "      <th></th>\n",
       "      <th></th>\n",
       "      <th></th>\n",
       "      <th></th>\n",
       "      <th></th>\n",
       "      <th></th>\n",
       "      <th></th>\n",
       "      <th></th>\n",
       "    </tr>\n",
       "  </thead>\n",
       "  <tbody>\n",
       "    <tr>\n",
       "      <th rowspan=\"5\" valign=\"top\">Audi A1</th>\n",
       "      <th rowspan=\"5\" valign=\"top\">Compact</th>\n",
       "      <th>1.0</th>\n",
       "      <td>1.000</td>\n",
       "      <td>20881.000</td>\n",
       "      <td>NaN</td>\n",
       "      <td>20881.000</td>\n",
       "      <td>20881.000</td>\n",
       "      <td>20881.000</td>\n",
       "      <td>20881.000</td>\n",
       "      <td>20881.000</td>\n",
       "    </tr>\n",
       "    <tr>\n",
       "      <th>9.0</th>\n",
       "      <td>1.000</td>\n",
       "      <td>12479.000</td>\n",
       "      <td>NaN</td>\n",
       "      <td>12479.000</td>\n",
       "      <td>12479.000</td>\n",
       "      <td>12479.000</td>\n",
       "      <td>12479.000</td>\n",
       "      <td>12479.000</td>\n",
       "    </tr>\n",
       "    <tr>\n",
       "      <th>10.0</th>\n",
       "      <td>147.000</td>\n",
       "      <td>16946.871</td>\n",
       "      <td>2850.063</td>\n",
       "      <td>9950.000</td>\n",
       "      <td>15765.000</td>\n",
       "      <td>16450.000</td>\n",
       "      <td>18333.000</td>\n",
       "      <td>29150.000</td>\n",
       "    </tr>\n",
       "    <tr>\n",
       "      <th>11.0</th>\n",
       "      <td>25.000</td>\n",
       "      <td>19960.360</td>\n",
       "      <td>2676.262</td>\n",
       "      <td>14930.000</td>\n",
       "      <td>17970.000</td>\n",
       "      <td>19990.000</td>\n",
       "      <td>21460.000</td>\n",
       "      <td>28980.000</td>\n",
       "    </tr>\n",
       "    <tr>\n",
       "      <th>14.0</th>\n",
       "      <td>2.000</td>\n",
       "      <td>28750.000</td>\n",
       "      <td>268.701</td>\n",
       "      <td>28560.000</td>\n",
       "      <td>28655.000</td>\n",
       "      <td>28750.000</td>\n",
       "      <td>28845.000</td>\n",
       "      <td>28940.000</td>\n",
       "    </tr>\n",
       "    <tr>\n",
       "      <th>...</th>\n",
       "      <th>...</th>\n",
       "      <th>...</th>\n",
       "      <td>...</td>\n",
       "      <td>...</td>\n",
       "      <td>...</td>\n",
       "      <td>...</td>\n",
       "      <td>...</td>\n",
       "      <td>...</td>\n",
       "      <td>...</td>\n",
       "      <td>...</td>\n",
       "    </tr>\n",
       "    <tr>\n",
       "      <th rowspan=\"5\" valign=\"top\">Renault Espace</th>\n",
       "      <th rowspan=\"5\" valign=\"top\">Van</th>\n",
       "      <th>188.0</th>\n",
       "      <td>1.000</td>\n",
       "      <td>43080.000</td>\n",
       "      <td>NaN</td>\n",
       "      <td>43080.000</td>\n",
       "      <td>43080.000</td>\n",
       "      <td>43080.000</td>\n",
       "      <td>43080.000</td>\n",
       "      <td>43080.000</td>\n",
       "    </tr>\n",
       "    <tr>\n",
       "      <th>191.0</th>\n",
       "      <td>2.000</td>\n",
       "      <td>28465.000</td>\n",
       "      <td>0.000</td>\n",
       "      <td>28465.000</td>\n",
       "      <td>28465.000</td>\n",
       "      <td>28465.000</td>\n",
       "      <td>28465.000</td>\n",
       "      <td>28465.000</td>\n",
       "    </tr>\n",
       "    <tr>\n",
       "      <th>193.0</th>\n",
       "      <td>1.000</td>\n",
       "      <td>38990.000</td>\n",
       "      <td>NaN</td>\n",
       "      <td>38990.000</td>\n",
       "      <td>38990.000</td>\n",
       "      <td>38990.000</td>\n",
       "      <td>38990.000</td>\n",
       "      <td>38990.000</td>\n",
       "    </tr>\n",
       "    <tr>\n",
       "      <th>194.0</th>\n",
       "      <td>1.000</td>\n",
       "      <td>46490.000</td>\n",
       "      <td>NaN</td>\n",
       "      <td>46490.000</td>\n",
       "      <td>46490.000</td>\n",
       "      <td>46490.000</td>\n",
       "      <td>46490.000</td>\n",
       "      <td>46490.000</td>\n",
       "    </tr>\n",
       "    <tr>\n",
       "      <th>-</th>\n",
       "      <td>209.000</td>\n",
       "      <td>31038.459</td>\n",
       "      <td>8711.241</td>\n",
       "      <td>12990.000</td>\n",
       "      <td>24750.000</td>\n",
       "      <td>29990.000</td>\n",
       "      <td>34200.000</td>\n",
       "      <td>64332.000</td>\n",
       "    </tr>\n",
       "  </tbody>\n",
       "</table></div>"
      ],
      "text/plain": [
       "                                        count      mean      std       min  \\\n",
       "make_model     body_type co2_emission                                        \n",
       "Audi A1        Compact   1.0            1.000 20881.000      NaN 20881.000   \n",
       "                         9.0            1.000 12479.000      NaN 12479.000   \n",
       "                         10.0         147.000 16946.871 2850.063  9950.000   \n",
       "                         11.0          25.000 19960.360 2676.262 14930.000   \n",
       "                         14.0           2.000 28750.000  268.701 28560.000   \n",
       "...                                       ...       ...      ...       ...   \n",
       "Renault Espace Van       188.0          1.000 43080.000      NaN 43080.000   \n",
       "                         191.0          2.000 28465.000    0.000 28465.000   \n",
       "                         193.0          1.000 38990.000      NaN 38990.000   \n",
       "                         194.0          1.000 46490.000      NaN 46490.000   \n",
       "                         -            209.000 31038.459 8711.241 12990.000   \n",
       "\n",
       "                                            25%       50%       75%       max  \n",
       "make_model     body_type co2_emission                                          \n",
       "Audi A1        Compact   1.0          20881.000 20881.000 20881.000 20881.000  \n",
       "                         9.0          12479.000 12479.000 12479.000 12479.000  \n",
       "                         10.0         15765.000 16450.000 18333.000 29150.000  \n",
       "                         11.0         17970.000 19990.000 21460.000 28980.000  \n",
       "                         14.0         28655.000 28750.000 28845.000 28940.000  \n",
       "...                                         ...       ...       ...       ...  \n",
       "Renault Espace Van       188.0        43080.000 43080.000 43080.000 43080.000  \n",
       "                         191.0        28465.000 28465.000 28465.000 28465.000  \n",
       "                         193.0        38990.000 38990.000 38990.000 38990.000  \n",
       "                         194.0        46490.000 46490.000 46490.000 46490.000  \n",
       "                         -            24750.000 29990.000 34200.000 64332.000  \n",
       "\n",
       "[760 rows x 8 columns]"
      ]
     },
     "execution_count": 979,
     "metadata": {},
     "output_type": "execute_result"
    }
   ],
   "source": [
    "df.groupby([\"make_model\", \"body_type\",\"co2_emission\"]).price.describe()"
   ]
  },
  {
   "cell_type": "code",
   "execution_count": 980,
   "metadata": {},
   "outputs": [],
   "source": [
    "df[\"co2_emission\"].replace(\"-\", np.nan, inplace=True)\n"
   ]
  },
  {
   "cell_type": "code",
   "execution_count": 981,
   "metadata": {},
   "outputs": [
    {
     "name": "stdout",
     "output_type": "stream",
     "text": [
      "Number of NaN :  0\n",
      "------------------\n",
      "120.000    836\n",
      "104.000    679\n",
      "106.000    674\n",
      "114.000    556\n",
      "99.000     546\n",
      "          ... \n",
      "1.060        1\n",
      "51.000       1\n",
      "165.000      1\n",
      "112.500      1\n",
      "193.000      1\n",
      "Name: co2_emission, Length: 123, dtype: int64\n"
     ]
    }
   ],
   "source": [
    "fill(df, \"make_model\", \"body_type\", \"co2_emission\", \"median\")\n"
   ]
  },
  {
   "cell_type": "markdown",
   "metadata": {},
   "source": [
    "### emission_class column:"
   ]
  },
  {
   "cell_type": "code",
   "execution_count": 982,
   "metadata": {},
   "outputs": [
    {
     "name": "stdout",
     "output_type": "stream",
     "text": [
      "\n",
      "Percentage of Missing Values : % 22.79\n",
      "Number of Missings           :  3628\n",
      "Number of Uniques            :  3\n",
      "Value counts                 : \n",
      "\n",
      " Euro 6    12173\n",
      "NaN        3628\n",
      "Euro 5       78\n",
      "Euro 4       40\n",
      "Name: emission_class, dtype: int64\n"
     ]
    }
   ],
   "source": [
    "print('\\n''Percentage of Missing Values : %', round(\n",
    "    df['emission_class'].isnull().sum()/df.shape[0]*100, 2))\n",
    "print(\"Number of Missings           : \",\n",
    "      df['emission_class'].isnull().sum())\n",
    "print(\"Number of Uniques            : \", df['emission_class'].nunique())\n",
    "print('Value counts                 : ''\\n''\\n',df['emission_class'].value_counts(dropna=False))"
   ]
  },
  {
   "cell_type": "code",
   "execution_count": 983,
   "metadata": {},
   "outputs": [],
   "source": [
    "df[\"emission_class\"].fillna(\"-\", inplace=True)\n"
   ]
  },
  {
   "cell_type": "code",
   "execution_count": 984,
   "metadata": {},
   "outputs": [
    {
     "data": {
      "text/plain": [
       "Euro 6    12173\n",
       "-          3628\n",
       "Euro 5       78\n",
       "Euro 4       40\n",
       "Name: emission_class, dtype: int64"
      ]
     },
     "execution_count": 984,
     "metadata": {},
     "output_type": "execute_result"
    }
   ],
   "source": [
    "df[\"emission_class\"].value_counts(dropna=False)\n"
   ]
  },
  {
   "cell_type": "code",
   "execution_count": 985,
   "metadata": {},
   "outputs": [
    {
     "data": {
      "text/html": [
       "<div><div id=074452b2-90e6-4c5e-aaf7-87f7e01a2e8a style=\"display:none; background-color:#9D6CFF; color:white; width:200px; height:30px; padding-left:5px; border-radius:4px; flex-direction:row; justify-content:space-around; align-items:center;\" onmouseover=\"this.style.backgroundColor='#BA9BF8'\" onmouseout=\"this.style.backgroundColor='#9D6CFF'\" onclick=\"window.commands?.execute('create-mitosheet-from-dataframe-output');\">See Full Dataframe in Mito</div> <script> if (window.commands?.hasCommand('create-mitosheet-from-dataframe-output')) document.getElementById('074452b2-90e6-4c5e-aaf7-87f7e01a2e8a').style.display = 'flex' </script> <table border=\"1\" class=\"dataframe\">\n",
       "  <thead>\n",
       "    <tr style=\"text-align: right;\">\n",
       "      <th></th>\n",
       "      <th></th>\n",
       "      <th></th>\n",
       "      <th>count</th>\n",
       "      <th>mean</th>\n",
       "      <th>std</th>\n",
       "      <th>min</th>\n",
       "      <th>25%</th>\n",
       "      <th>50%</th>\n",
       "      <th>75%</th>\n",
       "      <th>max</th>\n",
       "    </tr>\n",
       "    <tr>\n",
       "      <th>age</th>\n",
       "      <th>fuel</th>\n",
       "      <th>emission_class</th>\n",
       "      <th></th>\n",
       "      <th></th>\n",
       "      <th></th>\n",
       "      <th></th>\n",
       "      <th></th>\n",
       "      <th></th>\n",
       "      <th></th>\n",
       "      <th></th>\n",
       "    </tr>\n",
       "  </thead>\n",
       "  <tbody>\n",
       "    <tr>\n",
       "      <th rowspan=\"5\" valign=\"top\">0.000</th>\n",
       "      <th rowspan=\"4\" valign=\"top\">Benzine</th>\n",
       "      <th>-</th>\n",
       "      <td>1024.000</td>\n",
       "      <td>21933.499</td>\n",
       "      <td>8305.713</td>\n",
       "      <td>331.000</td>\n",
       "      <td>16390.000</td>\n",
       "      <td>21900.000</td>\n",
       "      <td>26300.000</td>\n",
       "      <td>64332.000</td>\n",
       "    </tr>\n",
       "    <tr>\n",
       "      <th>Euro 4</th>\n",
       "      <td>33.000</td>\n",
       "      <td>13377.364</td>\n",
       "      <td>1586.304</td>\n",
       "      <td>10900.000</td>\n",
       "      <td>12250.000</td>\n",
       "      <td>13250.000</td>\n",
       "      <td>14477.000</td>\n",
       "      <td>16033.000</td>\n",
       "    </tr>\n",
       "    <tr>\n",
       "      <th>Euro 5</th>\n",
       "      <td>1.000</td>\n",
       "      <td>17600.000</td>\n",
       "      <td>NaN</td>\n",
       "      <td>17600.000</td>\n",
       "      <td>17600.000</td>\n",
       "      <td>17600.000</td>\n",
       "      <td>17600.000</td>\n",
       "      <td>17600.000</td>\n",
       "    </tr>\n",
       "    <tr>\n",
       "      <th>Euro 6</th>\n",
       "      <td>2428.000</td>\n",
       "      <td>21459.133</td>\n",
       "      <td>8290.596</td>\n",
       "      <td>120.000</td>\n",
       "      <td>14996.750</td>\n",
       "      <td>21839.500</td>\n",
       "      <td>26488.500</td>\n",
       "      <td>63900.000</td>\n",
       "    </tr>\n",
       "    <tr>\n",
       "      <th>Diesel</th>\n",
       "      <th>-</th>\n",
       "      <td>335.000</td>\n",
       "      <td>27596.591</td>\n",
       "      <td>7964.355</td>\n",
       "      <td>6950.000</td>\n",
       "      <td>23605.500</td>\n",
       "      <td>26300.000</td>\n",
       "      <td>31990.000</td>\n",
       "      <td>56950.000</td>\n",
       "    </tr>\n",
       "    <tr>\n",
       "      <th>...</th>\n",
       "      <th>...</th>\n",
       "      <th>...</th>\n",
       "      <td>...</td>\n",
       "      <td>...</td>\n",
       "      <td>...</td>\n",
       "      <td>...</td>\n",
       "      <td>...</td>\n",
       "      <td>...</td>\n",
       "      <td>...</td>\n",
       "      <td>...</td>\n",
       "    </tr>\n",
       "    <tr>\n",
       "      <th rowspan=\"5\" valign=\"top\">3.000</th>\n",
       "      <th rowspan=\"2\" valign=\"top\">Electric</th>\n",
       "      <th>-</th>\n",
       "      <td>1.000</td>\n",
       "      <td>8490.000</td>\n",
       "      <td>NaN</td>\n",
       "      <td>8490.000</td>\n",
       "      <td>8490.000</td>\n",
       "      <td>8490.000</td>\n",
       "      <td>8490.000</td>\n",
       "      <td>8490.000</td>\n",
       "    </tr>\n",
       "    <tr>\n",
       "      <th>Euro 6</th>\n",
       "      <td>1.000</td>\n",
       "      <td>24950.000</td>\n",
       "      <td>NaN</td>\n",
       "      <td>24950.000</td>\n",
       "      <td>24950.000</td>\n",
       "      <td>24950.000</td>\n",
       "      <td>24950.000</td>\n",
       "      <td>24950.000</td>\n",
       "    </tr>\n",
       "    <tr>\n",
       "      <th rowspan=\"3\" valign=\"top\">LPG/CNG</th>\n",
       "      <th>-</th>\n",
       "      <td>5.000</td>\n",
       "      <td>18220.000</td>\n",
       "      <td>156.525</td>\n",
       "      <td>18150.000</td>\n",
       "      <td>18150.000</td>\n",
       "      <td>18150.000</td>\n",
       "      <td>18150.000</td>\n",
       "      <td>18500.000</td>\n",
       "    </tr>\n",
       "    <tr>\n",
       "      <th>Euro 5</th>\n",
       "      <td>1.000</td>\n",
       "      <td>7500.000</td>\n",
       "      <td>NaN</td>\n",
       "      <td>7500.000</td>\n",
       "      <td>7500.000</td>\n",
       "      <td>7500.000</td>\n",
       "      <td>7500.000</td>\n",
       "      <td>7500.000</td>\n",
       "    </tr>\n",
       "    <tr>\n",
       "      <th>Euro 6</th>\n",
       "      <td>18.000</td>\n",
       "      <td>17472.167</td>\n",
       "      <td>4495.842</td>\n",
       "      <td>7000.000</td>\n",
       "      <td>15600.000</td>\n",
       "      <td>18149.500</td>\n",
       "      <td>20375.000</td>\n",
       "      <td>23500.000</td>\n",
       "    </tr>\n",
       "  </tbody>\n",
       "</table></div>"
      ],
      "text/plain": [
       "                                 count      mean       std       min  \\\n",
       "age   fuel     emission_class                                          \n",
       "0.000 Benzine  -              1024.000 21933.499  8305.713   331.000   \n",
       "               Euro 4           33.000 13377.364  1586.304 10900.000   \n",
       "               Euro 5            1.000 17600.000       NaN 17600.000   \n",
       "               Euro 6         2428.000 21459.133  8290.596   120.000   \n",
       "      Diesel   -               335.000 27596.591  7964.355  6950.000   \n",
       "               Euro 6          595.000 29233.887  7930.018  8800.000   \n",
       "      LPG/CNG  -                 3.000 18516.667 10017.027  6950.000   \n",
       "               Euro 6           16.000 18689.188 10338.898  6950.000   \n",
       "1.000 Benzine  -               571.000 17204.217  5212.353  7990.000   \n",
       "               Euro 4            3.000 18846.667 14644.044 10000.000   \n",
       "               Euro 5            6.000 14923.000  3808.072  8950.000   \n",
       "               Euro 6         2047.000 17001.402  6457.753    13.000   \n",
       "      Diesel   -               308.000 21673.812  6841.475  8990.000   \n",
       "               Euro 5            2.000 18650.000  2616.295 16800.000   \n",
       "               Euro 6         1584.000 20170.714  4727.402   255.000   \n",
       "      Electric Euro 6            3.000 37449.667  1361.635 35899.000   \n",
       "      LPG/CNG  Euro 6            4.000  9975.000   411.299  9500.000   \n",
       "2.000 Benzine  -               259.000 13948.297  4924.363  6950.000   \n",
       "               Euro 4            1.000  9400.000       NaN  9400.000   \n",
       "               Euro 5            9.000 13793.222  7595.497  7900.000   \n",
       "               Euro 6         1043.000 14595.511  5602.112  6499.000   \n",
       "      Diesel   -               380.000 16160.658  5624.031  6900.000   \n",
       "               Euro 5            7.000 12125.714   748.751 11700.000   \n",
       "               Euro 6         1561.000 16427.623  4782.605  6000.000   \n",
       "      LPG/CNG  -                 6.000  9375.667  1752.931  7990.000   \n",
       "               Euro 6           11.000 16654.545  7014.893  8500.000   \n",
       "3.000 Benzine  -               236.000 12406.089  3795.139  6290.000   \n",
       "               Euro 4            1.000 12990.000       NaN 12990.000   \n",
       "               Euro 5           12.000 10530.667  3138.381  5970.000   \n",
       "               Euro 6          877.000 12744.804  4336.588  4990.000   \n",
       "      Diesel   -               500.000 12998.596  4969.636  5490.000   \n",
       "               Euro 4            2.000 12925.000  1308.148 12000.000   \n",
       "               Euro 5           40.000 12138.250  4224.752  7000.000   \n",
       "               Euro 6         1985.000 14345.886  4269.198  4950.000   \n",
       "      Electric -                 1.000  8490.000       NaN  8490.000   \n",
       "               Euro 6            1.000 24950.000       NaN 24950.000   \n",
       "      LPG/CNG  -                 5.000 18220.000   156.525 18150.000   \n",
       "               Euro 5            1.000  7500.000       NaN  7500.000   \n",
       "               Euro 6           18.000 17472.167  4495.842  7000.000   \n",
       "\n",
       "                                    25%       50%       75%       max  \n",
       "age   fuel     emission_class                                          \n",
       "0.000 Benzine  -              16390.000 21900.000 26300.000 64332.000  \n",
       "               Euro 4         12250.000 13250.000 14477.000 16033.000  \n",
       "               Euro 5         17600.000 17600.000 17600.000 17600.000  \n",
       "               Euro 6         14996.750 21839.500 26488.500 63900.000  \n",
       "      Diesel   -              23605.500 26300.000 31990.000 56950.000  \n",
       "               Euro 6         23965.000 26998.000 34777.500 68320.000  \n",
       "      LPG/CNG  -              15625.000 24300.000 24300.000 24300.000  \n",
       "               Euro 6         10687.500 14949.500 26900.000 34738.000  \n",
       "1.000 Benzine  -              13980.000 16890.000 20900.000 39959.000  \n",
       "               Euro 4         10395.000 10790.000 23270.000 35750.000  \n",
       "               Euro 5         13400.000 15250.000 16800.000 19988.000  \n",
       "               Euro 6         12965.000 16350.000 20480.000 74600.000  \n",
       "      Diesel   -              16265.000 20985.000 24492.500 38990.000  \n",
       "               Euro 5         17725.000 18650.000 19575.000 20500.000  \n",
       "               Euro 6         16900.000 20695.000 22500.000 39990.000  \n",
       "      Electric Euro 6         36949.500 38000.000 38225.000 38450.000  \n",
       "      LPG/CNG  Euro 6          9800.000  9950.000 10125.000 10500.000  \n",
       "2.000 Benzine  -               8990.000 13500.000 17895.000 32990.000  \n",
       "               Euro 4          9400.000  9400.000  9400.000  9400.000  \n",
       "               Euro 5          8700.000 10999.000 16900.000 30980.000  \n",
       "               Euro 6          9540.000 14500.000 17980.000 67600.000  \n",
       "      Diesel   -              11990.000 15300.000 18900.000 33500.000  \n",
       "               Euro 5         11700.000 11700.000 12290.000 13500.000  \n",
       "               Euro 6         12590.000 16900.000 19400.000 35500.000  \n",
       "      LPG/CNG  -               8600.000  8950.000  9000.000 12864.000  \n",
       "               Euro 6          9100.000 20000.000 22000.000 26000.000  \n",
       "3.000 Benzine  -               7900.000 13049.500 15065.000 25900.000  \n",
       "               Euro 4         12990.000 12990.000 12990.000 12990.000  \n",
       "               Euro 5          7946.750  9885.000 13550.000 14550.000  \n",
       "               Euro 6          8490.000 12999.000 15220.000 42500.000  \n",
       "      Diesel   -               8477.500 12830.000 15636.000 32900.000  \n",
       "               Euro 4         12462.500 12925.000 13387.500 13850.000  \n",
       "               Euro 5          8499.750 11650.000 15000.000 24900.000  \n",
       "               Euro 6         10990.000 14700.000 16500.000 35000.000  \n",
       "      Electric -               8490.000  8490.000  8490.000  8490.000  \n",
       "               Euro 6         24950.000 24950.000 24950.000 24950.000  \n",
       "      LPG/CNG  -              18150.000 18150.000 18150.000 18500.000  \n",
       "               Euro 5          7500.000  7500.000  7500.000  7500.000  \n",
       "               Euro 6         15600.000 18149.500 20375.000 23500.000  "
      ]
     },
     "execution_count": 985,
     "metadata": {},
     "output_type": "execute_result"
    }
   ],
   "source": [
    "df.groupby([\"age\", \"fuel\", \"emission_class\"]).price.describe()\n"
   ]
  },
  {
   "cell_type": "code",
   "execution_count": 986,
   "metadata": {},
   "outputs": [
    {
     "data": {
      "text/html": [
       "<div><div id=8427022f-607f-4b93-abba-327e624c04e9 style=\"display:none; background-color:#9D6CFF; color:white; width:200px; height:30px; padding-left:5px; border-radius:4px; flex-direction:row; justify-content:space-around; align-items:center;\" onmouseover=\"this.style.backgroundColor='#BA9BF8'\" onmouseout=\"this.style.backgroundColor='#9D6CFF'\" onclick=\"window.commands?.execute('create-mitosheet-from-dataframe-output');\">See Full Dataframe in Mito</div> <script> if (window.commands?.hasCommand('create-mitosheet-from-dataframe-output')) document.getElementById('8427022f-607f-4b93-abba-327e624c04e9').style.display = 'flex' </script> <table border=\"1\" class=\"dataframe\">\n",
       "  <thead>\n",
       "    <tr style=\"text-align: right;\">\n",
       "      <th></th>\n",
       "      <th>age</th>\n",
       "      <th>fuel</th>\n",
       "      <th>emission_class</th>\n",
       "    </tr>\n",
       "  </thead>\n",
       "  <tbody>\n",
       "    <tr>\n",
       "      <th>0</th>\n",
       "      <td>3.000</td>\n",
       "      <td>Diesel</td>\n",
       "      <td>Euro 6</td>\n",
       "    </tr>\n",
       "    <tr>\n",
       "      <th>1</th>\n",
       "      <td>2.000</td>\n",
       "      <td>Benzine</td>\n",
       "      <td>Euro 6</td>\n",
       "    </tr>\n",
       "    <tr>\n",
       "      <th>2</th>\n",
       "      <td>3.000</td>\n",
       "      <td>Diesel</td>\n",
       "      <td>Euro 6</td>\n",
       "    </tr>\n",
       "    <tr>\n",
       "      <th>3</th>\n",
       "      <td>3.000</td>\n",
       "      <td>Diesel</td>\n",
       "      <td>Euro 6</td>\n",
       "    </tr>\n",
       "    <tr>\n",
       "      <th>4</th>\n",
       "      <td>3.000</td>\n",
       "      <td>Diesel</td>\n",
       "      <td>Euro 6</td>\n",
       "    </tr>\n",
       "    <tr>\n",
       "      <th>...</th>\n",
       "      <td>...</td>\n",
       "      <td>...</td>\n",
       "      <td>...</td>\n",
       "    </tr>\n",
       "    <tr>\n",
       "      <th>14894</th>\n",
       "      <td>0.000</td>\n",
       "      <td>Benzine</td>\n",
       "      <td>Euro 4</td>\n",
       "    </tr>\n",
       "    <tr>\n",
       "      <th>14895</th>\n",
       "      <td>0.000</td>\n",
       "      <td>Benzine</td>\n",
       "      <td>Euro 4</td>\n",
       "    </tr>\n",
       "    <tr>\n",
       "      <th>14896</th>\n",
       "      <td>0.000</td>\n",
       "      <td>Benzine</td>\n",
       "      <td>Euro 4</td>\n",
       "    </tr>\n",
       "    <tr>\n",
       "      <th>14897</th>\n",
       "      <td>0.000</td>\n",
       "      <td>Benzine</td>\n",
       "      <td>Euro 4</td>\n",
       "    </tr>\n",
       "    <tr>\n",
       "      <th>15779</th>\n",
       "      <td>1.000</td>\n",
       "      <td>Benzine</td>\n",
       "      <td>Euro 4</td>\n",
       "    </tr>\n",
       "  </tbody>\n",
       "</table></div>"
      ],
      "text/plain": [
       "        age     fuel emission_class\n",
       "0     3.000   Diesel         Euro 6\n",
       "1     2.000  Benzine         Euro 6\n",
       "2     3.000   Diesel         Euro 6\n",
       "3     3.000   Diesel         Euro 6\n",
       "4     3.000   Diesel         Euro 6\n",
       "...     ...      ...            ...\n",
       "14894 0.000  Benzine         Euro 4\n",
       "14895 0.000  Benzine         Euro 4\n",
       "14896 0.000  Benzine         Euro 4\n",
       "14897 0.000  Benzine         Euro 4\n",
       "15779 1.000  Benzine         Euro 4\n",
       "\n",
       "[158 rows x 3 columns]"
      ]
     },
     "execution_count": 986,
     "metadata": {},
     "output_type": "execute_result"
    }
   ],
   "source": [
    "df.groupby([\"age\",\"fuel\",\"emission_class\"])[\"age\",\"fuel\",\"emission_class\"].head()"
   ]
  },
  {
   "cell_type": "code",
   "execution_count": 987,
   "metadata": {},
   "outputs": [],
   "source": [
    "df[\"emission_class\"].replace(\"-\", np.nan, inplace=True)\n"
   ]
  },
  {
   "cell_type": "code",
   "execution_count": 988,
   "metadata": {},
   "outputs": [
    {
     "data": {
      "text/plain": [
       "Euro 6    12173\n",
       "NaN        3628\n",
       "Euro 5       78\n",
       "Euro 4       40\n",
       "Name: emission_class, dtype: int64"
      ]
     },
     "execution_count": 988,
     "metadata": {},
     "output_type": "execute_result"
    }
   ],
   "source": [
    "df[\"emission_class\"].value_counts(dropna=False)\n"
   ]
  },
  {
   "cell_type": "code",
   "execution_count": 989,
   "metadata": {},
   "outputs": [],
   "source": [
    "df['emission_class'].fillna(df.groupby([\"age\", \"fuel\"], as_index=True)[\n",
    "    \"emission_class\"].transform(lambda x: pd.Series.mode(x)[0]), inplace=True)\n"
   ]
  },
  {
   "cell_type": "code",
   "execution_count": 990,
   "metadata": {},
   "outputs": [
    {
     "data": {
      "text/plain": [
       "Euro 6    15801\n",
       "Euro 5       78\n",
       "Euro 4       40\n",
       "Name: emission_class, dtype: int64"
      ]
     },
     "execution_count": 990,
     "metadata": {},
     "output_type": "execute_result"
    }
   ],
   "source": [
    "df[\"emission_class\"].value_counts(dropna=False)\n"
   ]
  },
  {
   "cell_type": "code",
   "execution_count": 991,
   "metadata": {},
   "outputs": [
    {
     "data": {
      "text/plain": [
       "Index(['make_model', 'body_type', 'price', 'vat', 'km', 'previous_owners',\n",
       "       'next_inspection', 'inspection_new', 'paint_type', 'num_of_doors',\n",
       "       'num_of_seats', 'gearing_type', 'cylinders', 'drive_chain', 'fuel',\n",
       "       'consumption', 'co2_emission', 'emission_class', 'comfort_convenience',\n",
       "       'entertainment_media', 'extras', 'safety_security', 'gears', 'age',\n",
       "       'hp_kw', 'type', 'upholstery_type', 'upholstery_color',\n",
       "       'displacement_cc', 'weight_kg', 'cons_comb', 'cons_city',\n",
       "       'cons_country'],\n",
       "      dtype='object')"
      ]
     },
     "execution_count": 991,
     "metadata": {},
     "output_type": "execute_result"
    }
   ],
   "source": [
    "df.columns"
   ]
  },
  {
   "cell_type": "markdown",
   "metadata": {},
   "source": [
    "### comfort_convenience column:"
   ]
  },
  {
   "cell_type": "code",
   "execution_count": 992,
   "metadata": {},
   "outputs": [
    {
     "name": "stdout",
     "output_type": "stream",
     "text": [
      "\n",
      "Percentage of Missing Values : % 5.78\n",
      "Number of Missings           :  920\n",
      "Number of Uniques            :  6198\n",
      "Value counts                 : \n",
      "\n",
      " NaN                                                                                                                                                                                                                                                                                                                                                                                                                                                                                                                        920\n",
      "Air conditioning, Electrical side mirrors, Hill Holder, Power windows                                                                                                                                                                                                                                                                                                                                                                                                                                                      216\n",
      "Air conditioning, Electrical side mirrors, Power windows                                                                                                                                                                                                                                                                                                                                                                                                                                                                   134\n",
      "Air conditioning, Power windows                                                                                                                                                                                                                                                                                                                                                                                                                                                                                            130\n",
      "Air conditioning, Armrest, Automatic climate control, Cruise control, Electrical side mirrors, Leather steering wheel, Light sensor, Lumbar support, Multi-function steering wheel, Navigation system, Park Distance Control, Parking assist system sensors front, Parking assist system sensors rear, Power windows, Rain sensor, Seat heating, Start-stop system                                                                                                                                                         105\n",
      "                                                                                                                                                                                                                                                                                                                                                                                                                                                                                                                          ... \n",
      "Air conditioning, Cruise control, Electrical side mirrors, Hill Holder, Leather steering wheel, Light sensor, Multi-function steering wheel, Navigation system, Park Distance Control, Parking assist system sensors rear, Power windows, Rain sensor, Split rear seats, Start-stop system, Tinted windows                                                                                                                                                                                                                   1\n",
      "Air conditioning, Armrest, Automatic climate control, Cruise control, Electrical side mirrors, Heated steering wheel, Hill Holder, Leather steering wheel, Light sensor, Lumbar support, Multi-function steering wheel, Navigation system, Park Distance Control, Parking assist system camera, Parking assist system sensors front, Parking assist system sensors rear, Power windows, Rain sensor, Seat heating, Sunroof                                                                                                   1\n",
      "Air conditioning, Armrest, Cruise control, Electrical side mirrors, Heated steering wheel, Hill Holder, Leather steering wheel, Light sensor, Multi-function steering wheel, Park Distance Control, Parking assist system camera, Parking assist system sensors front, Parking assist system sensors rear, Power windows, Rain sensor, Seat heating, Split rear seats, Start-stop system, Tinted windows                                                                                                                     1\n",
      "Air conditioning, Automatic climate control, Cruise control, Electrical side mirrors, Leather steering wheel, Light sensor, Multi-function steering wheel, Park Distance Control, Parking assist system sensors front, Parking assist system sensors rear, Power windows, Rain sensor, Seat heating                                                                                                                                                                                                                          1\n",
      "Air conditioning, Automatic climate control, Cruise control, Electrically heated windshield, Electrical side mirrors, Electric tailgate, Heads-up display, Heated steering wheel, Hill Holder, Keyless central door lock, Leather steering wheel, Light sensor, Lumbar support, Navigation system, Park Distance Control, Parking assist system camera, Parking assist system self-steering, Parking assist system sensors front, Parking assist system sensors rear, Power windows, Rain sensor, Seat heating, Sunroof      1\n",
      "Name: comfort_convenience, Length: 6199, dtype: int64\n"
     ]
    }
   ],
   "source": [
    "print('\\n''Percentage of Missing Values : %', round(\n",
    "    df['comfort_convenience'].isnull().sum()/df.shape[0]*100, 2))\n",
    "print(\"Number of Missings           : \",\n",
    "      df['comfort_convenience'].isnull().sum())\n",
    "print(\"Number of Uniques            : \", df['comfort_convenience'].nunique())\n",
    "print('Value counts                 : ''\\n''\\n',df['comfort_convenience'].value_counts(dropna=False))"
   ]
  },
  {
   "cell_type": "code",
   "execution_count": 993,
   "metadata": {},
   "outputs": [
    {
     "data": {
      "text/plain": [
       "['Sedans',\n",
       " 'Station wagon',\n",
       " 'Compact',\n",
       " 'Coupe',\n",
       " 'Van',\n",
       " 'Off-Road',\n",
       " 'Convertible',\n",
       " 'Transporter']"
      ]
     },
     "execution_count": 993,
     "metadata": {},
     "output_type": "execute_result"
    }
   ],
   "source": [
    "list(df.body_type.unique())"
   ]
  },
  {
   "cell_type": "code",
   "execution_count": 994,
   "metadata": {},
   "outputs": [
    {
     "data": {
      "text/plain": [
       "['Audi A1',\n",
       " 'Audi A2',\n",
       " 'Audi A3',\n",
       " 'Opel Astra',\n",
       " 'Opel Corsa',\n",
       " 'Opel Insignia',\n",
       " 'Renault Clio',\n",
       " 'Renault Duster',\n",
       " 'Renault Espace']"
      ]
     },
     "execution_count": 994,
     "metadata": {},
     "output_type": "execute_result"
    }
   ],
   "source": [
    "list(df.make_model.unique())\n"
   ]
  },
  {
   "cell_type": "code",
   "execution_count": 995,
   "metadata": {},
   "outputs": [],
   "source": [
    "df['comfort_convenience'].fillna(df.groupby([\"make_model\", \"body_type\"], as_index=True)[\n",
    "    \"comfort_convenience\"].transform(lambda x: pd.Series.mode(x)[0]), inplace=True)\n"
   ]
  },
  {
   "cell_type": "code",
   "execution_count": 996,
   "metadata": {},
   "outputs": [
    {
     "data": {
      "text/plain": [
       "Air conditioning, Electrical side mirrors, Hill Holder, Power windows                                                                                                                                                                                                                                                                                                                                                                                                                                                      388\n",
       "Air conditioning, Armrest, Automatic climate control, Cruise control, Electrical side mirrors, Leather steering wheel, Light sensor, Lumbar support, Multi-function steering wheel, Navigation system, Park Distance Control, Parking assist system sensors front, Parking assist system sensors rear, Power windows, Rain sensor, Seat heating, Start-stop system                                                                                                                                                         187\n",
       "Air conditioning, Armrest, Automatic climate control, Cruise control, Electrically adjustable seats, Electrical side mirrors, Electric tailgate, Heated steering wheel, Hill Holder, Keyless central door lock, Leather steering wheel, Light sensor, Lumbar support, Multi-function steering wheel, Navigation system, Park Distance Control, Parking assist system camera, Parking assist system sensors front, Parking assist system sensors rear, Power windows, Rain sensor, Seat heating, Start-stop system          161\n",
       "Air conditioning, Automatic climate control, Cruise control, Multi-function steering wheel, Park Distance Control, Power windows                                                                                                                                                                                                                                                                                                                                                                                           160\n",
       "Air conditioning, Electrical side mirrors, Power windows                                                                                                                                                                                                                                                                                                                                                                                                                                                                   134\n",
       "                                                                                                                                                                                                                                                                                                                                                                                                                                                                                                                          ... \n",
       "Air conditioning, Cruise control, Electrical side mirrors, Multi-function steering wheel, Park Distance Control, Parking assist system sensors front, Parking assist system sensors rear, Power windows, Start-stop system                                                                                                                                                                                                                                                                                                   1\n",
       "Air conditioning, Armrest, Cruise control, Electrical side mirrors, Heated steering wheel, Hill Holder, Leather steering wheel, Light sensor, Multi-function steering wheel, Park Distance Control, Parking assist system camera, Parking assist system sensors rear, Power windows, Rain sensor, Seat heating, Split rear seats, Start-stop system, Sunroof, Tinted windows                                                                                                                                                 1\n",
       "Air conditioning, Armrest, Cruise control, Hill Holder, Leather steering wheel, Multi-function steering wheel, Park Distance Control, Parking assist system sensors front, Parking assist system sensors rear, Power windows                                                                                                                                                                                                                                                                                                 1\n",
       "Air conditioning, Armrest, Automatic climate control, Cruise control, Electrical side mirrors, Leather steering wheel, Multi-function steering wheel, Power windows, Rain sensor, Start-stop system, Tinted windows                                                                                                                                                                                                                                                                                                          1\n",
       "Air conditioning, Automatic climate control, Cruise control, Electrically heated windshield, Electrical side mirrors, Electric tailgate, Heads-up display, Heated steering wheel, Hill Holder, Keyless central door lock, Leather steering wheel, Light sensor, Lumbar support, Navigation system, Park Distance Control, Parking assist system camera, Parking assist system self-steering, Parking assist system sensors front, Parking assist system sensors rear, Power windows, Rain sensor, Seat heating, Sunroof      1\n",
       "Name: comfort_convenience, Length: 6198, dtype: int64"
      ]
     },
     "execution_count": 996,
     "metadata": {},
     "output_type": "execute_result"
    }
   ],
   "source": [
    "df.comfort_convenience.value_counts(dropna=False)"
   ]
  },
  {
   "cell_type": "markdown",
   "metadata": {},
   "source": [
    "### entertainment_media column:"
   ]
  },
  {
   "cell_type": "code",
   "execution_count": 997,
   "metadata": {},
   "outputs": [
    {
     "name": "stdout",
     "output_type": "stream",
     "text": [
      "\n",
      "Percentage of Missing Values : % 8.63\n",
      "Number of Missings           :  1374\n",
      "Number of Uniques            :  346\n",
      "Value counts                 : \n",
      "\n",
      " NaN                                                                                                         1374\n",
      "Bluetooth, Hands-free equipment, On-board computer, Radio, USB                                              1282\n",
      "Bluetooth, Hands-free equipment, MP3, On-board computer, Radio, USB                                          982\n",
      "Bluetooth, CD player, Hands-free equipment, MP3, On-board computer, Radio, USB                               783\n",
      "On-board computer, Radio                                                                                     487\n",
      "                                                                                                            ... \n",
      "Bluetooth, CD player, Digital radio, Hands-free equipment, Radio                                               1\n",
      "CD player, Hands-free equipment, MP3, Radio, USB                                                               1\n",
      "MP3, Radio, Sound system, USB                                                                                  1\n",
      "Bluetooth, MP3, On-board computer, Radio, Television, USB                                                      1\n",
      "Bluetooth, CD player, Hands-free equipment, MP3, On-board computer, Radio, Sound system, Television, USB       1\n",
      "Name: entertainment_media, Length: 347, dtype: int64\n"
     ]
    }
   ],
   "source": [
    "print('\\n''Percentage of Missing Values : %', round(\n",
    "    df['entertainment_media'].isnull().sum()/df.shape[0]*100, 2))\n",
    "print(\"Number of Missings           : \",\n",
    "      df['entertainment_media'].isnull().sum())\n",
    "print(\"Number of Uniques            : \", df['entertainment_media'].nunique())\n",
    "print('Value counts                 : ''\\n''\\n',df['entertainment_media'].value_counts(dropna=False))"
   ]
  },
  {
   "cell_type": "code",
   "execution_count": 998,
   "metadata": {},
   "outputs": [
    {
     "name": "stdout",
     "output_type": "stream",
     "text": [
      "Number of NaN :  0\n",
      "------------------\n",
      "Bluetooth, Hands-free equipment, On-board computer, Radio, USB                         1738\n",
      "Bluetooth, Hands-free equipment, MP3, On-board computer, Radio, USB                    1134\n",
      "Bluetooth, CD player, Hands-free equipment, MP3, On-board computer, Radio, USB         1010\n",
      "On-board computer                                                                       615\n",
      "Radio                                                                                   558\n",
      "                                                                                       ... \n",
      "Bluetooth, CD player, MP3                                                                 1\n",
      "CD player, USB                                                                            1\n",
      "Bluetooth, CD player, Digital radio, Radio, USB                                           1\n",
      "Bluetooth, CD player, Digital radio, MP3, On-board computer, Radio, Television, USB       1\n",
      "Hands-free equipment, On-board computer, Radio, Sound system                              1\n",
      "Name: entertainment_media, Length: 346, dtype: int64\n"
     ]
    }
   ],
   "source": [
    "fill(df, \"make_model\", \"body_type\", \"entertainment_media\", \"mode\")"
   ]
  },
  {
   "cell_type": "markdown",
   "metadata": {},
   "source": [
    "### extras column:"
   ]
  },
  {
   "cell_type": "code",
   "execution_count": 999,
   "metadata": {},
   "outputs": [
    {
     "name": "stdout",
     "output_type": "stream",
     "text": [
      "\n",
      "Percentage of Missing Values : % 18.61\n",
      "Number of Missings           :  2962\n",
      "Number of Uniques            :  659\n",
      "Value counts                 : \n",
      "\n",
      " Alloy wheels                                                                                                     3245\n",
      "NaN                                                                                                              2962\n",
      "Alloy wheels, Touch screen                                                                                        697\n",
      "Alloy wheels, Voice Control                                                                                       577\n",
      "Alloy wheels, Touch screen, Voice Control                                                                         541\n",
      "                                                                                                                 ... \n",
      "Alloy wheels, Catalytic Converter, Shift paddles, Sport package, Sport seats, Sport suspension, Voice Control       1\n",
      "Alloy wheels, Catalytic Converter, Roof rack, Sport package, Sport seats, Trailer hitch                             1\n",
      "Alloy wheels, Catalytic Converter, Ski bag, Sport package, Voice Control                                            1\n",
      "Catalytic Converter, Roof rack, Sport seats, Sport suspension                                                       1\n",
      "Alloy wheels, Shift paddles, Ski bag, Sport seats, Sport suspension, Touch screen, Voice Control                    1\n",
      "Name: extras, Length: 660, dtype: int64\n"
     ]
    }
   ],
   "source": [
    "print('\\n''Percentage of Missing Values : %', round(\n",
    "    df['extras'].isnull().sum()/df.shape[0]*100, 2))\n",
    "print(\"Number of Missings           : \",\n",
    "      df['extras'].isnull().sum())\n",
    "print(\"Number of Uniques            : \", df['extras'].nunique())\n",
    "print('Value counts                 : ''\\n''\\n',df['extras'].value_counts(dropna=False))"
   ]
  },
  {
   "cell_type": "code",
   "execution_count": 1000,
   "metadata": {},
   "outputs": [],
   "source": [
    "#df['extras'].fillna(df.groupby([\"make_model\", \"body_type\"], as_index=True)[\"extras\"].transform(lambda x: pd.Series.mode(x)), inplace=True)\n",
    "# It doesn't work for some columns!!!"
   ]
  },
  {
   "cell_type": "code",
   "execution_count": 1001,
   "metadata": {},
   "outputs": [
    {
     "name": "stdout",
     "output_type": "stream",
     "text": [
      "Number of NaN :  0\n",
      "------------------\n",
      "Alloy wheels                                                                                                     5786\n",
      "Alloy wheels, Touch screen                                                                                        697\n",
      "Roof rack                                                                                                         596\n",
      "Alloy wheels, Voice Control                                                                                       582\n",
      "Alloy wheels, Touch screen, Voice Control                                                                         544\n",
      "                                                                                                                 ... \n",
      "Alloy wheels, Catalytic Converter, Shift paddles, Sport package, Sport seats, Sport suspension, Voice Control       1\n",
      "Alloy wheels, Catalytic Converter, Roof rack, Sport package, Sport seats, Trailer hitch                             1\n",
      "Alloy wheels, Catalytic Converter, Ski bag, Sport package, Voice Control                                            1\n",
      "Catalytic Converter, Roof rack, Sport seats, Sport suspension                                                       1\n",
      "Alloy wheels, Shift paddles, Ski bag, Sport seats, Sport suspension, Touch screen, Voice Control                    1\n",
      "Name: extras, Length: 659, dtype: int64\n"
     ]
    }
   ],
   "source": [
    "fill(df, \"make_model\", \"body_type\", \"extras\", \"mode\")\n"
   ]
  },
  {
   "cell_type": "code",
   "execution_count": 1002,
   "metadata": {},
   "outputs": [
    {
     "data": {
      "text/plain": [
       "Alloy wheels                                                                                                     5786\n",
       "Alloy wheels, Touch screen                                                                                        697\n",
       "Roof rack                                                                                                         596\n",
       "Alloy wheels, Voice Control                                                                                       582\n",
       "Alloy wheels, Touch screen, Voice Control                                                                         544\n",
       "                                                                                                                 ... \n",
       "Alloy wheels, Catalytic Converter, Shift paddles, Sport package, Sport seats, Sport suspension, Voice Control       1\n",
       "Alloy wheels, Catalytic Converter, Roof rack, Sport package, Sport seats, Trailer hitch                             1\n",
       "Alloy wheels, Catalytic Converter, Ski bag, Sport package, Voice Control                                            1\n",
       "Catalytic Converter, Roof rack, Sport seats, Sport suspension                                                       1\n",
       "Alloy wheels, Shift paddles, Ski bag, Sport seats, Sport suspension, Touch screen, Voice Control                    1\n",
       "Name: extras, Length: 659, dtype: int64"
      ]
     },
     "execution_count": 1002,
     "metadata": {},
     "output_type": "execute_result"
    }
   ],
   "source": [
    "df.extras.value_counts(dropna=False)"
   ]
  },
  {
   "cell_type": "code",
   "execution_count": 1003,
   "metadata": {},
   "outputs": [
    {
     "data": {
      "text/plain": [
       "Index(['make_model', 'body_type', 'price', 'vat', 'km', 'previous_owners',\n",
       "       'next_inspection', 'inspection_new', 'paint_type', 'num_of_doors',\n",
       "       'num_of_seats', 'gearing_type', 'cylinders', 'drive_chain', 'fuel',\n",
       "       'consumption', 'co2_emission', 'emission_class', 'comfort_convenience',\n",
       "       'entertainment_media', 'extras', 'safety_security', 'gears', 'age',\n",
       "       'hp_kw', 'type', 'upholstery_type', 'upholstery_color',\n",
       "       'displacement_cc', 'weight_kg', 'cons_comb', 'cons_city',\n",
       "       'cons_country'],\n",
       "      dtype='object')"
      ]
     },
     "execution_count": 1003,
     "metadata": {},
     "output_type": "execute_result"
    }
   ],
   "source": [
    "df.columns"
   ]
  },
  {
   "cell_type": "markdown",
   "metadata": {},
   "source": [
    "### safety_security column:"
   ]
  },
  {
   "cell_type": "code",
   "execution_count": 1004,
   "metadata": {},
   "outputs": [
    {
     "name": "stdout",
     "output_type": "stream",
     "text": [
      "\n",
      "Percentage of Missing Values : % 6.17\n",
      "Number of Missings           :  982\n",
      "Number of Uniques            :  4443\n",
      "Value counts                 : \n",
      "\n",
      " NaN                                                                                                                                                                                                                                                                                                                                                                                982\n",
      "ABS, Central door lock, Daytime running lights, Driver-side airbag, Electronic stability control, Fog lights, Immobilizer, Isofix, Passenger-side airbag, Power steering, Side airbag, Tire pressure monitoring system, Traction control                                                                                                                                           538\n",
      "ABS, Central door lock, Daytime running lights, Driver-side airbag, Electronic stability control, Immobilizer, Isofix, Passenger-side airbag, Power steering, Side airbag, Tire pressure monitoring system, Traction control                                                                                                                                                       480\n",
      "ABS, Central door lock, Daytime running lights, Driver-side airbag, Electronic stability control, Immobilizer, Isofix, Passenger-side airbag, Power steering, Side airbag, Tire pressure monitoring system, Traction control, Xenon headlights                                                                                                                                     275\n",
      "ABS, Central door lock, Daytime running lights, Driver-side airbag, Electronic stability control, Fog lights, Immobilizer, Isofix, LED Daytime Running Lights, Passenger-side airbag, Power steering, Side airbag, Tire pressure monitoring system, Traction control                                                                                                               272\n",
      "                                                                                                                                                                                                                                                                                                                                                                                  ... \n",
      "ABS, Central door lock, Electronic stability control, Immobilizer, Isofix, Passenger-side airbag, Power steering, Side airbag                                                                                                                                                                                                                                                        1\n",
      "ABS, Adaptive Cruise Control, Central door lock, Daytime running lights, Driver-side airbag, Electronic stability control, Emergency brake assistant, Immobilizer, Isofix, Passenger-side airbag, Power steering, Side airbag, Tire pressure monitoring system, Traction control                                                                                                     1\n",
      "ABS, Adaptive Cruise Control, Alarm system, Central door lock, Driver-side airbag, Electronic stability control, Fog lights, Immobilizer, Isofix, Lane departure warning system, LED Daytime Running Lights, Passenger-side airbag, Power steering, Side airbag, Tire pressure monitoring system, Traction control, Xenon headlights                                                 1\n",
      "ABS, Adaptive Cruise Control, Central door lock, Daytime running lights, Driver-side airbag, Electronic stability control, Fog lights, Immobilizer, Isofix, Power steering, Tire pressure monitoring system, Traction control                                                                                                                                                        1\n",
      "ABS, Adaptive Cruise Control, Central door lock, Daytime running lights, Driver-side airbag, Electronic stability control, Emergency brake assistant, Fog lights, Immobilizer, Isofix, Lane departure warning system, LED Daytime Running Lights, LED Headlights, Passenger-side airbag, Power steering, Side airbag, Tire pressure monitoring system, Traffic sign recognition      1\n",
      "Name: safety_security, Length: 4444, dtype: int64\n"
     ]
    }
   ],
   "source": [
    "print('\\n''Percentage of Missing Values : %', round(\n",
    "    df['safety_security'].isnull().sum()/df.shape[0]*100, 2))\n",
    "print(\"Number of Missings           : \",\n",
    "      df['safety_security'].isnull().sum())\n",
    "print(\"Number of Uniques            : \", df['safety_security'].nunique())\n",
    "print('Value counts                 : ''\\n''\\n',df['safety_security'].value_counts(dropna=False))"
   ]
  },
  {
   "cell_type": "code",
   "execution_count": 1005,
   "metadata": {},
   "outputs": [],
   "source": [
    "df['safety_security'].fillna(df.groupby([\"make_model\", \"body_type\"], as_index=True)[\n",
    "    \"safety_security\"].transform(lambda x: pd.Series.mode(x)[0]), inplace=True)\n",
    "# hier this code works!!"
   ]
  },
  {
   "cell_type": "code",
   "execution_count": 1006,
   "metadata": {},
   "outputs": [
    {
     "data": {
      "text/plain": [
       "ABS, Central door lock, Daytime running lights, Driver-side airbag, Electronic stability control, Fog lights, Immobilizer, Isofix, Passenger-side airbag, Power steering, Side airbag, Tire pressure monitoring system, Traction control                                                                                                                                           729\n",
       "ABS, Central door lock, Daytime running lights, Driver-side airbag, Electronic stability control, Immobilizer, Isofix, Passenger-side airbag, Power steering, Side airbag, Tire pressure monitoring system, Traction control                                                                                                                                                       480\n",
       "ABS, Central door lock, Daytime running lights, Driver-side airbag, Electronic stability control, Fog lights, Immobilizer, Isofix, LED Daytime Running Lights, Passenger-side airbag, Power steering, Side airbag, Tire pressure monitoring system, Traction control                                                                                                               373\n",
       "ABS, Central door lock, Daytime running lights, Driver-side airbag, Electronic stability control, Immobilizer, Isofix, Passenger-side airbag, Power steering, Side airbag, Tire pressure monitoring system, Traction control, Xenon headlights                                                                                                                                     352\n",
       "ABS, Central door lock, Daytime running lights, Driver-side airbag, Electronic stability control, Isofix, Passenger-side airbag, Power steering, Side airbag, Tire pressure monitoring system, Traction control                                                                                                                                                                    306\n",
       "                                                                                                                                                                                                                                                                                                                                                                                  ... \n",
       "ABS, Central door lock, Electronic stability control, Immobilizer, Isofix, Passenger-side airbag, Power steering, Side airbag                                                                                                                                                                                                                                                        1\n",
       "ABS, Adaptive Cruise Control, Central door lock, Daytime running lights, Driver-side airbag, Electronic stability control, Emergency brake assistant, Immobilizer, Isofix, Passenger-side airbag, Power steering, Side airbag, Tire pressure monitoring system, Traction control                                                                                                     1\n",
       "ABS, Adaptive Cruise Control, Alarm system, Central door lock, Driver-side airbag, Electronic stability control, Fog lights, Immobilizer, Isofix, Lane departure warning system, LED Daytime Running Lights, Passenger-side airbag, Power steering, Side airbag, Tire pressure monitoring system, Traction control, Xenon headlights                                                 1\n",
       "ABS, Adaptive Cruise Control, Central door lock, Daytime running lights, Driver-side airbag, Electronic stability control, Fog lights, Immobilizer, Isofix, Power steering, Tire pressure monitoring system, Traction control                                                                                                                                                        1\n",
       "ABS, Adaptive Cruise Control, Central door lock, Daytime running lights, Driver-side airbag, Electronic stability control, Emergency brake assistant, Fog lights, Immobilizer, Isofix, Lane departure warning system, LED Daytime Running Lights, LED Headlights, Passenger-side airbag, Power steering, Side airbag, Tire pressure monitoring system, Traffic sign recognition      1\n",
       "Name: safety_security, Length: 4443, dtype: int64"
      ]
     },
     "execution_count": 1006,
     "metadata": {},
     "output_type": "execute_result"
    }
   ],
   "source": [
    "df.safety_security.value_counts(dropna=False)"
   ]
  },
  {
   "cell_type": "code",
   "execution_count": 1007,
   "metadata": {},
   "outputs": [
    {
     "data": {
      "text/plain": [
       "Index(['make_model', 'body_type', 'price', 'vat', 'km', 'previous_owners',\n",
       "       'next_inspection', 'inspection_new', 'paint_type', 'num_of_doors',\n",
       "       'num_of_seats', 'gearing_type', 'cylinders', 'drive_chain', 'fuel',\n",
       "       'consumption', 'co2_emission', 'emission_class', 'comfort_convenience',\n",
       "       'entertainment_media', 'extras', 'safety_security', 'gears', 'age',\n",
       "       'hp_kw', 'type', 'upholstery_type', 'upholstery_color',\n",
       "       'displacement_cc', 'weight_kg', 'cons_comb', 'cons_city',\n",
       "       'cons_country'],\n",
       "      dtype='object')"
      ]
     },
     "execution_count": 1007,
     "metadata": {},
     "output_type": "execute_result"
    }
   ],
   "source": [
    "df.columns"
   ]
  },
  {
   "cell_type": "markdown",
   "metadata": {},
   "source": [
    "### gears column:"
   ]
  },
  {
   "cell_type": "code",
   "execution_count": 1008,
   "metadata": {},
   "outputs": [
    {
     "name": "stdout",
     "output_type": "stream",
     "text": [
      "\n",
      "Percentage of Missing Values : % 29.6\n",
      "Number of Missings           :  4712\n",
      "Number of Uniques            :  10\n",
      "Value counts                 : \n",
      "\n",
      " 6.000     5822\n",
      "NaN       4712\n",
      "5.000     3239\n",
      "7.000     1908\n",
      "8.000      224\n",
      "9.000        6\n",
      "1.000        2\n",
      "3.000        2\n",
      "4.000        2\n",
      "2.000        1\n",
      "50.000       1\n",
      "Name: gears, dtype: int64\n"
     ]
    }
   ],
   "source": [
    "print('\\n''Percentage of Missing Values : %', round(\n",
    "    df['gears'].isnull().sum()/df.shape[0]*100, 2))\n",
    "print(\"Number of Missings           : \",\n",
    "      df['gears'].isnull().sum())\n",
    "print(\"Number of Uniques            : \", df['gears'].nunique())\n",
    "print('Value counts                 : ''\\n''\\n',df['gears'].value_counts(dropna=False))"
   ]
  },
  {
   "cell_type": "code",
   "execution_count": 1009,
   "metadata": {},
   "outputs": [],
   "source": [
    "df[\"gears\"].fillna(\"-\", inplace=True)\n"
   ]
  },
  {
   "cell_type": "code",
   "execution_count": 1010,
   "metadata": {},
   "outputs": [
    {
     "data": {
      "text/plain": [
       "6.0     5822\n",
       "-       4712\n",
       "5.0     3239\n",
       "7.0     1908\n",
       "8.0      224\n",
       "9.0        6\n",
       "1.0        2\n",
       "3.0        2\n",
       "4.0        2\n",
       "2.0        1\n",
       "50.0       1\n",
       "Name: gears, dtype: int64"
      ]
     },
     "execution_count": 1010,
     "metadata": {},
     "output_type": "execute_result"
    }
   ],
   "source": [
    "df[\"gears\"].value_counts(dropna=False)\n"
   ]
  },
  {
   "cell_type": "code",
   "execution_count": 1011,
   "metadata": {},
   "outputs": [
    {
     "data": {
      "text/html": [
       "<div><div id=19ab652f-4dde-433e-9d6c-f5c0c5a2a819 style=\"display:none; background-color:#9D6CFF; color:white; width:200px; height:30px; padding-left:5px; border-radius:4px; flex-direction:row; justify-content:space-around; align-items:center;\" onmouseover=\"this.style.backgroundColor='#BA9BF8'\" onmouseout=\"this.style.backgroundColor='#9D6CFF'\" onclick=\"window.commands?.execute('create-mitosheet-from-dataframe-output');\">See Full Dataframe in Mito</div> <script> if (window.commands?.hasCommand('create-mitosheet-from-dataframe-output')) document.getElementById('19ab652f-4dde-433e-9d6c-f5c0c5a2a819').style.display = 'flex' </script> <table border=\"1\" class=\"dataframe\">\n",
       "  <thead>\n",
       "    <tr style=\"text-align: right;\">\n",
       "      <th></th>\n",
       "      <th></th>\n",
       "      <th></th>\n",
       "      <th></th>\n",
       "      <th>count</th>\n",
       "      <th>mean</th>\n",
       "      <th>std</th>\n",
       "      <th>min</th>\n",
       "      <th>25%</th>\n",
       "      <th>50%</th>\n",
       "      <th>75%</th>\n",
       "      <th>max</th>\n",
       "    </tr>\n",
       "    <tr>\n",
       "      <th>make_model</th>\n",
       "      <th>body_type</th>\n",
       "      <th>gearing_type</th>\n",
       "      <th>gears</th>\n",
       "      <th></th>\n",
       "      <th></th>\n",
       "      <th></th>\n",
       "      <th></th>\n",
       "      <th></th>\n",
       "      <th></th>\n",
       "      <th></th>\n",
       "      <th></th>\n",
       "    </tr>\n",
       "  </thead>\n",
       "  <tbody>\n",
       "    <tr>\n",
       "      <th rowspan=\"5\" valign=\"top\">Audi A1</th>\n",
       "      <th rowspan=\"5\" valign=\"top\">Compact</th>\n",
       "      <th rowspan=\"5\" valign=\"top\">Automatic</th>\n",
       "      <th>5.0</th>\n",
       "      <td>3.000</td>\n",
       "      <td>22184.333</td>\n",
       "      <td>3421.302</td>\n",
       "      <td>18497.000</td>\n",
       "      <td>20648.500</td>\n",
       "      <td>22800.000</td>\n",
       "      <td>24028.000</td>\n",
       "      <td>25256.000</td>\n",
       "    </tr>\n",
       "    <tr>\n",
       "      <th>6.0</th>\n",
       "      <td>6.000</td>\n",
       "      <td>21038.333</td>\n",
       "      <td>4282.039</td>\n",
       "      <td>16430.000</td>\n",
       "      <td>18725.000</td>\n",
       "      <td>20920.000</td>\n",
       "      <td>21060.000</td>\n",
       "      <td>28860.000</td>\n",
       "    </tr>\n",
       "    <tr>\n",
       "      <th>7.0</th>\n",
       "      <td>199.000</td>\n",
       "      <td>22059.251</td>\n",
       "      <td>3918.116</td>\n",
       "      <td>13990.000</td>\n",
       "      <td>18970.000</td>\n",
       "      <td>21790.000</td>\n",
       "      <td>24365.000</td>\n",
       "      <td>29181.000</td>\n",
       "    </tr>\n",
       "    <tr>\n",
       "      <th>8.0</th>\n",
       "      <td>1.000</td>\n",
       "      <td>16880.000</td>\n",
       "      <td>NaN</td>\n",
       "      <td>16880.000</td>\n",
       "      <td>16880.000</td>\n",
       "      <td>16880.000</td>\n",
       "      <td>16880.000</td>\n",
       "      <td>16880.000</td>\n",
       "    </tr>\n",
       "    <tr>\n",
       "      <th>-</th>\n",
       "      <td>253.000</td>\n",
       "      <td>21640.427</td>\n",
       "      <td>4965.500</td>\n",
       "      <td>13880.000</td>\n",
       "      <td>16975.000</td>\n",
       "      <td>20950.000</td>\n",
       "      <td>26980.000</td>\n",
       "      <td>29197.000</td>\n",
       "    </tr>\n",
       "    <tr>\n",
       "      <th>...</th>\n",
       "      <th>...</th>\n",
       "      <th>...</th>\n",
       "      <th>...</th>\n",
       "      <td>...</td>\n",
       "      <td>...</td>\n",
       "      <td>...</td>\n",
       "      <td>...</td>\n",
       "      <td>...</td>\n",
       "      <td>...</td>\n",
       "      <td>...</td>\n",
       "      <td>...</td>\n",
       "    </tr>\n",
       "    <tr>\n",
       "      <th rowspan=\"5\" valign=\"top\">Renault Espace</th>\n",
       "      <th rowspan=\"5\" valign=\"top\">Van</th>\n",
       "      <th rowspan=\"2\" valign=\"top\">Manual</th>\n",
       "      <th>7.0</th>\n",
       "      <td>1.000</td>\n",
       "      <td>36590.000</td>\n",
       "      <td>NaN</td>\n",
       "      <td>36590.000</td>\n",
       "      <td>36590.000</td>\n",
       "      <td>36590.000</td>\n",
       "      <td>36590.000</td>\n",
       "      <td>36590.000</td>\n",
       "    </tr>\n",
       "    <tr>\n",
       "      <th>-</th>\n",
       "      <td>14.000</td>\n",
       "      <td>27123.214</td>\n",
       "      <td>8657.066</td>\n",
       "      <td>16480.000</td>\n",
       "      <td>19623.000</td>\n",
       "      <td>25740.000</td>\n",
       "      <td>32625.000</td>\n",
       "      <td>43080.000</td>\n",
       "    </tr>\n",
       "    <tr>\n",
       "      <th rowspan=\"3\" valign=\"top\">Semi-automatic</th>\n",
       "      <th>6.0</th>\n",
       "      <td>11.000</td>\n",
       "      <td>28885.455</td>\n",
       "      <td>11439.110</td>\n",
       "      <td>16900.000</td>\n",
       "      <td>21450.000</td>\n",
       "      <td>24900.000</td>\n",
       "      <td>32750.000</td>\n",
       "      <td>56950.000</td>\n",
       "    </tr>\n",
       "    <tr>\n",
       "      <th>7.0</th>\n",
       "      <td>1.000</td>\n",
       "      <td>19900.000</td>\n",
       "      <td>NaN</td>\n",
       "      <td>19900.000</td>\n",
       "      <td>19900.000</td>\n",
       "      <td>19900.000</td>\n",
       "      <td>19900.000</td>\n",
       "      <td>19900.000</td>\n",
       "    </tr>\n",
       "    <tr>\n",
       "      <th>-</th>\n",
       "      <td>4.000</td>\n",
       "      <td>26445.000</td>\n",
       "      <td>4549.289</td>\n",
       "      <td>22900.000</td>\n",
       "      <td>23650.000</td>\n",
       "      <td>24945.000</td>\n",
       "      <td>27740.000</td>\n",
       "      <td>32990.000</td>\n",
       "    </tr>\n",
       "  </tbody>\n",
       "</table></div>"
      ],
      "text/plain": [
       "                                                count      mean       std  \\\n",
       "make_model     body_type gearing_type   gears                               \n",
       "Audi A1        Compact   Automatic      5.0     3.000 22184.333  3421.302   \n",
       "                                        6.0     6.000 21038.333  4282.039   \n",
       "                                        7.0   199.000 22059.251  3918.116   \n",
       "                                        8.0     1.000 16880.000       NaN   \n",
       "                                        -     253.000 21640.427  4965.500   \n",
       "...                                               ...       ...       ...   \n",
       "Renault Espace Van       Manual         7.0     1.000 36590.000       NaN   \n",
       "                                        -      14.000 27123.214  8657.066   \n",
       "                         Semi-automatic 6.0    11.000 28885.455 11439.110   \n",
       "                                        7.0     1.000 19900.000       NaN   \n",
       "                                        -       4.000 26445.000  4549.289   \n",
       "\n",
       "                                                    min       25%       50%  \\\n",
       "make_model     body_type gearing_type   gears                                 \n",
       "Audi A1        Compact   Automatic      5.0   18497.000 20648.500 22800.000   \n",
       "                                        6.0   16430.000 18725.000 20920.000   \n",
       "                                        7.0   13990.000 18970.000 21790.000   \n",
       "                                        8.0   16880.000 16880.000 16880.000   \n",
       "                                        -     13880.000 16975.000 20950.000   \n",
       "...                                                 ...       ...       ...   \n",
       "Renault Espace Van       Manual         7.0   36590.000 36590.000 36590.000   \n",
       "                                        -     16480.000 19623.000 25740.000   \n",
       "                         Semi-automatic 6.0   16900.000 21450.000 24900.000   \n",
       "                                        7.0   19900.000 19900.000 19900.000   \n",
       "                                        -     22900.000 23650.000 24945.000   \n",
       "\n",
       "                                                    75%       max  \n",
       "make_model     body_type gearing_type   gears                      \n",
       "Audi A1        Compact   Automatic      5.0   24028.000 25256.000  \n",
       "                                        6.0   21060.000 28860.000  \n",
       "                                        7.0   24365.000 29181.000  \n",
       "                                        8.0   16880.000 16880.000  \n",
       "                                        -     26980.000 29197.000  \n",
       "...                                                 ...       ...  \n",
       "Renault Espace Van       Manual         7.0   36590.000 36590.000  \n",
       "                                        -     32625.000 43080.000  \n",
       "                         Semi-automatic 6.0   32750.000 56950.000  \n",
       "                                        7.0   19900.000 19900.000  \n",
       "                                        -     27740.000 32990.000  \n",
       "\n",
       "[215 rows x 8 columns]"
      ]
     },
     "execution_count": 1011,
     "metadata": {},
     "output_type": "execute_result"
    }
   ],
   "source": [
    "df.groupby([\"make_model\", \"body_type\", \"gearing_type\", \"gears\"]).price.describe()\n"
   ]
  },
  {
   "cell_type": "code",
   "execution_count": 1012,
   "metadata": {},
   "outputs": [
    {
     "data": {
      "text/html": [
       "<div><div id=590adfe7-02b8-49da-b21a-c6ae19328e09 style=\"display:none; background-color:#9D6CFF; color:white; width:200px; height:30px; padding-left:5px; border-radius:4px; flex-direction:row; justify-content:space-around; align-items:center;\" onmouseover=\"this.style.backgroundColor='#BA9BF8'\" onmouseout=\"this.style.backgroundColor='#9D6CFF'\" onclick=\"window.commands?.execute('create-mitosheet-from-dataframe-output');\">See Full Dataframe in Mito</div> <script> if (window.commands?.hasCommand('create-mitosheet-from-dataframe-output')) document.getElementById('590adfe7-02b8-49da-b21a-c6ae19328e09').style.display = 'flex' </script> <table border=\"1\" class=\"dataframe\">\n",
       "  <thead>\n",
       "    <tr style=\"text-align: right;\">\n",
       "      <th></th>\n",
       "      <th>make_model</th>\n",
       "      <th>body_type</th>\n",
       "      <th>gearing_type</th>\n",
       "      <th>gears</th>\n",
       "    </tr>\n",
       "  </thead>\n",
       "  <tbody>\n",
       "    <tr>\n",
       "      <th>0</th>\n",
       "      <td>Audi A1</td>\n",
       "      <td>Sedans</td>\n",
       "      <td>Automatic</td>\n",
       "      <td>-</td>\n",
       "    </tr>\n",
       "    <tr>\n",
       "      <th>1</th>\n",
       "      <td>Audi A1</td>\n",
       "      <td>Sedans</td>\n",
       "      <td>Automatic</td>\n",
       "      <td>7.000</td>\n",
       "    </tr>\n",
       "    <tr>\n",
       "      <th>2</th>\n",
       "      <td>Audi A1</td>\n",
       "      <td>Sedans</td>\n",
       "      <td>Automatic</td>\n",
       "      <td>-</td>\n",
       "    </tr>\n",
       "    <tr>\n",
       "      <th>3</th>\n",
       "      <td>Audi A1</td>\n",
       "      <td>Sedans</td>\n",
       "      <td>Automatic</td>\n",
       "      <td>6.000</td>\n",
       "    </tr>\n",
       "    <tr>\n",
       "      <th>4</th>\n",
       "      <td>Audi A1</td>\n",
       "      <td>Sedans</td>\n",
       "      <td>Automatic</td>\n",
       "      <td>-</td>\n",
       "    </tr>\n",
       "    <tr>\n",
       "      <th>...</th>\n",
       "      <td>...</td>\n",
       "      <td>...</td>\n",
       "      <td>...</td>\n",
       "      <td>...</td>\n",
       "    </tr>\n",
       "    <tr>\n",
       "      <th>15824</th>\n",
       "      <td>Renault Espace</td>\n",
       "      <td>Van</td>\n",
       "      <td>Automatic</td>\n",
       "      <td>9.000</td>\n",
       "    </tr>\n",
       "    <tr>\n",
       "      <th>15827</th>\n",
       "      <td>Renault Espace</td>\n",
       "      <td>Van</td>\n",
       "      <td>Automatic</td>\n",
       "      <td>9.000</td>\n",
       "    </tr>\n",
       "    <tr>\n",
       "      <th>15845</th>\n",
       "      <td>Renault Espace</td>\n",
       "      <td>Van</td>\n",
       "      <td>Automatic</td>\n",
       "      <td>3.000</td>\n",
       "    </tr>\n",
       "    <tr>\n",
       "      <th>15869</th>\n",
       "      <td>Renault Espace</td>\n",
       "      <td>Van</td>\n",
       "      <td>Automatic</td>\n",
       "      <td>9.000</td>\n",
       "    </tr>\n",
       "    <tr>\n",
       "      <th>15905</th>\n",
       "      <td>Renault Espace</td>\n",
       "      <td>Compact</td>\n",
       "      <td>Automatic</td>\n",
       "      <td>-</td>\n",
       "    </tr>\n",
       "  </tbody>\n",
       "</table></div>"
      ],
      "text/plain": [
       "           make_model body_type gearing_type gears\n",
       "0             Audi A1    Sedans    Automatic     -\n",
       "1             Audi A1    Sedans    Automatic 7.000\n",
       "2             Audi A1    Sedans    Automatic     -\n",
       "3             Audi A1    Sedans    Automatic 6.000\n",
       "4             Audi A1    Sedans    Automatic     -\n",
       "...               ...       ...          ...   ...\n",
       "15824  Renault Espace       Van    Automatic 9.000\n",
       "15827  Renault Espace       Van    Automatic 9.000\n",
       "15845  Renault Espace       Van    Automatic 3.000\n",
       "15869  Renault Espace       Van    Automatic 9.000\n",
       "15905  Renault Espace   Compact    Automatic     -\n",
       "\n",
       "[750 rows x 4 columns]"
      ]
     },
     "execution_count": 1012,
     "metadata": {},
     "output_type": "execute_result"
    }
   ],
   "source": [
    "df.groupby([\"make_model\", \"body_type\", \"gearing_type\", \"gears\"])[\n",
    "    [\"make_model\", \"body_type\", \"gearing_type\", \"gears\"]].head()\n"
   ]
  },
  {
   "cell_type": "markdown",
   "metadata": {},
   "source": [
    "I think that these values were entered incorrectly, assuming that there will be no vehicles with 1, 2, 3, 4 and 50 gears."
   ]
  },
  {
   "cell_type": "code",
   "execution_count": 1013,
   "metadata": {},
   "outputs": [],
   "source": [
    "df[\"gears\"].replace([1,2,3,4,50,\"-\"], np.nan, inplace=True)"
   ]
  },
  {
   "cell_type": "code",
   "execution_count": 1014,
   "metadata": {},
   "outputs": [
    {
     "data": {
      "text/plain": [
       "6.000    5822\n",
       "NaN      4720\n",
       "5.000    3239\n",
       "7.000    1908\n",
       "8.000     224\n",
       "9.000       6\n",
       "Name: gears, dtype: int64"
      ]
     },
     "execution_count": 1014,
     "metadata": {},
     "output_type": "execute_result"
    }
   ],
   "source": [
    "df[\"gears\"].value_counts(dropna=False)\n"
   ]
  },
  {
   "cell_type": "code",
   "execution_count": 1015,
   "metadata": {},
   "outputs": [],
   "source": [
    "df['gears'].fillna(df.groupby([\"make_model\", \"body_type\", \"gearing_type\"], as_index=True)[\"gears\"].transform(lambda x: pd.Series.mode(x)), inplace=True)\n"
   ]
  },
  {
   "cell_type": "code",
   "execution_count": 1016,
   "metadata": {},
   "outputs": [
    {
     "data": {
      "text/plain": [
       "6.000    5822\n",
       "NaN      4719\n",
       "5.000    3239\n",
       "7.000    1909\n",
       "8.000     224\n",
       "9.000       6\n",
       "Name: gears, dtype: int64"
      ]
     },
     "execution_count": 1016,
     "metadata": {},
     "output_type": "execute_result"
    }
   ],
   "source": [
    "df[\"gears\"].value_counts(dropna=False)\n"
   ]
  },
  {
   "cell_type": "code",
   "execution_count": 1017,
   "metadata": {},
   "outputs": [
    {
     "data": {
      "text/plain": [
       "['Audi A1',\n",
       " 'Audi A2',\n",
       " 'Audi A3',\n",
       " 'Opel Astra',\n",
       " 'Opel Corsa',\n",
       " 'Opel Insignia',\n",
       " 'Renault Clio',\n",
       " 'Renault Duster',\n",
       " 'Renault Espace']"
      ]
     },
     "execution_count": 1017,
     "metadata": {},
     "output_type": "execute_result"
    }
   ],
   "source": [
    "list(df.make_model.unique())"
   ]
  },
  {
   "cell_type": "code",
   "execution_count": 1018,
   "metadata": {},
   "outputs": [
    {
     "data": {
      "text/plain": [
       "['Automatic', 'Manual', 'Semi-automatic']"
      ]
     },
     "execution_count": 1018,
     "metadata": {},
     "output_type": "execute_result"
    }
   ],
   "source": [
    "list(df.gearing_type.unique())"
   ]
  },
  {
   "cell_type": "code",
   "execution_count": 1019,
   "metadata": {},
   "outputs": [
    {
     "data": {
      "text/plain": [
       "['Sedans',\n",
       " 'Station wagon',\n",
       " 'Compact',\n",
       " 'Coupe',\n",
       " 'Van',\n",
       " 'Off-Road',\n",
       " 'Convertible',\n",
       " 'Transporter']"
      ]
     },
     "execution_count": 1019,
     "metadata": {},
     "output_type": "execute_result"
    }
   ],
   "source": [
    "list(df.body_type.unique())\n"
   ]
  },
  {
   "cell_type": "code",
   "execution_count": 1020,
   "metadata": {},
   "outputs": [
    {
     "data": {
      "text/plain": [
       "0   5.000\n",
       "Name: gears, dtype: float64"
      ]
     },
     "execution_count": 1020,
     "metadata": {},
     "output_type": "execute_result"
    }
   ],
   "source": [
    "df[(df[\"make_model\"]==\"Renault Clio\") & (df[\"body_type\"]==\"Sedans\")][\"gears\"].mode()"
   ]
  },
  {
   "cell_type": "code",
   "execution_count": 1021,
   "metadata": {},
   "outputs": [
    {
     "data": {
      "text/plain": [
       "0   6.000\n",
       "Name: gears, dtype: float64"
      ]
     },
     "execution_count": 1021,
     "metadata": {},
     "output_type": "execute_result"
    }
   ],
   "source": [
    "df[(df[\"body_type\"]==\"Sedans\")][\"gears\"].mode()"
   ]
  },
  {
   "cell_type": "code",
   "execution_count": 1022,
   "metadata": {},
   "outputs": [
    {
     "data": {
      "text/plain": [
       "0   5.000\n",
       "Name: gears, dtype: float64"
      ]
     },
     "execution_count": 1022,
     "metadata": {},
     "output_type": "execute_result"
    }
   ],
   "source": [
    "df[(df[\"make_model\"]==\"Renault Clio\") & (df[\"body_type\"]==\"Compact\")][\"gears\"].mode()"
   ]
  },
  {
   "cell_type": "code",
   "execution_count": 1023,
   "metadata": {},
   "outputs": [
    {
     "data": {
      "text/plain": [
       "0   5.000\n",
       "Name: gears, dtype: float64"
      ]
     },
     "execution_count": 1023,
     "metadata": {},
     "output_type": "execute_result"
    }
   ],
   "source": [
    "df[(df[\"body_type\"]==\"Compact\")][\"gears\"].mode()"
   ]
  },
  {
   "cell_type": "code",
   "execution_count": 1024,
   "metadata": {},
   "outputs": [
    {
     "data": {
      "text/plain": [
       "0   5.000\n",
       "1   6.000\n",
       "Name: gears, dtype: float64"
      ]
     },
     "execution_count": 1024,
     "metadata": {},
     "output_type": "execute_result"
    }
   ],
   "source": [
    "df[(df[\"make_model\"]==\"Renault Clio\") & (df[\"body_type\"]==\"Off-Road\")][\"gears\"].mode()"
   ]
  },
  {
   "cell_type": "code",
   "execution_count": 1025,
   "metadata": {},
   "outputs": [
    {
     "data": {
      "text/plain": [
       "0   6.000\n",
       "Name: gears, dtype: float64"
      ]
     },
     "execution_count": 1025,
     "metadata": {},
     "output_type": "execute_result"
    }
   ],
   "source": [
    "df[(df[\"body_type\"]==\"Off-Road\")][\"gears\"].mode()"
   ]
  },
  {
   "cell_type": "code",
   "execution_count": 1026,
   "metadata": {},
   "outputs": [
    {
     "data": {
      "text/plain": [
       "0   6.000\n",
       "Name: gears, dtype: float64"
      ]
     },
     "execution_count": 1026,
     "metadata": {},
     "output_type": "execute_result"
    }
   ],
   "source": [
    "df[(df[\"make_model\"]==\"Renault Clio\") & (df[\"body_type\"]==\"Coupe\")][\"gears\"].mode()"
   ]
  },
  {
   "cell_type": "code",
   "execution_count": 1027,
   "metadata": {},
   "outputs": [
    {
     "data": {
      "text/plain": [
       "0   5.000\n",
       "Name: gears, dtype: float64"
      ]
     },
     "execution_count": 1027,
     "metadata": {},
     "output_type": "execute_result"
    }
   ],
   "source": [
    "df[(df[\"body_type\"]==\"Coupe\")][\"gears\"].mode()"
   ]
  },
  {
   "cell_type": "code",
   "execution_count": 1028,
   "metadata": {},
   "outputs": [
    {
     "data": {
      "text/html": [
       "<div><div id=a63b1e1a-b6fb-425a-8d11-305969cc611f style=\"display:none; background-color:#9D6CFF; color:white; width:200px; height:30px; padding-left:5px; border-radius:4px; flex-direction:row; justify-content:space-around; align-items:center;\" onmouseover=\"this.style.backgroundColor='#BA9BF8'\" onmouseout=\"this.style.backgroundColor='#9D6CFF'\" onclick=\"window.commands?.execute('create-mitosheet-from-dataframe-output');\">See Full Dataframe in Mito</div> <script> if (window.commands?.hasCommand('create-mitosheet-from-dataframe-output')) document.getElementById('a63b1e1a-b6fb-425a-8d11-305969cc611f').style.display = 'flex' </script> <table border=\"1\" class=\"dataframe\">\n",
       "  <thead>\n",
       "    <tr style=\"text-align: right;\">\n",
       "      <th></th>\n",
       "      <th>make_model</th>\n",
       "      <th>body_type</th>\n",
       "      <th>gearing_type</th>\n",
       "      <th>gears</th>\n",
       "    </tr>\n",
       "  </thead>\n",
       "  <tbody>\n",
       "    <tr>\n",
       "      <th>13055</th>\n",
       "      <td>Renault Clio</td>\n",
       "      <td>Compact</td>\n",
       "      <td>Automatic</td>\n",
       "      <td>NaN</td>\n",
       "    </tr>\n",
       "    <tr>\n",
       "      <th>13056</th>\n",
       "      <td>Renault Clio</td>\n",
       "      <td>Station wagon</td>\n",
       "      <td>Automatic</td>\n",
       "      <td>6.000</td>\n",
       "    </tr>\n",
       "    <tr>\n",
       "      <th>13057</th>\n",
       "      <td>Renault Clio</td>\n",
       "      <td>Sedans</td>\n",
       "      <td>Automatic</td>\n",
       "      <td>6.000</td>\n",
       "    </tr>\n",
       "    <tr>\n",
       "      <th>13058</th>\n",
       "      <td>Renault Clio</td>\n",
       "      <td>Station wagon</td>\n",
       "      <td>Automatic</td>\n",
       "      <td>6.000</td>\n",
       "    </tr>\n",
       "    <tr>\n",
       "      <th>13059</th>\n",
       "      <td>Renault Clio</td>\n",
       "      <td>Sedans</td>\n",
       "      <td>Automatic</td>\n",
       "      <td>NaN</td>\n",
       "    </tr>\n",
       "  </tbody>\n",
       "</table></div>"
      ],
      "text/plain": [
       "         make_model      body_type gearing_type  gears\n",
       "13055  Renault Clio        Compact    Automatic    NaN\n",
       "13056  Renault Clio  Station wagon    Automatic  6.000\n",
       "13057  Renault Clio         Sedans    Automatic  6.000\n",
       "13058  Renault Clio  Station wagon    Automatic  6.000\n",
       "13059  Renault Clio         Sedans    Automatic    NaN"
      ]
     },
     "execution_count": 1028,
     "metadata": {},
     "output_type": "execute_result"
    }
   ],
   "source": [
    "df[(df[\"make_model\"]==\"Renault Clio\") & (df[\"gearing_type\"]==\"Automatic\")][[\"make_model\", \"body_type\", \"gearing_type\", \"gears\"]].head()"
   ]
  },
  {
   "cell_type": "code",
   "execution_count": 1029,
   "metadata": {},
   "outputs": [],
   "source": [
    "df['gears'].fillna(df.groupby([\"body_type\", \"gearing_type\"], as_index=True)[\n",
    "                   \"gears\"].transform(lambda x: pd.Series.mode(x)[0]), inplace=True)\n"
   ]
  },
  {
   "cell_type": "code",
   "execution_count": 1030,
   "metadata": {},
   "outputs": [
    {
     "data": {
      "text/plain": [
       "6.000    8054\n",
       "5.000    4748\n",
       "7.000    2887\n",
       "8.000     224\n",
       "9.000       6\n",
       "Name: gears, dtype: int64"
      ]
     },
     "execution_count": 1030,
     "metadata": {},
     "output_type": "execute_result"
    }
   ],
   "source": [
    "df[\"gears\"].value_counts(dropna=False)\n"
   ]
  },
  {
   "cell_type": "code",
   "execution_count": 1031,
   "metadata": {},
   "outputs": [
    {
     "data": {
      "text/plain": [
       "Index(['make_model', 'body_type', 'price', 'vat', 'km', 'previous_owners',\n",
       "       'next_inspection', 'inspection_new', 'paint_type', 'num_of_doors',\n",
       "       'num_of_seats', 'gearing_type', 'cylinders', 'drive_chain', 'fuel',\n",
       "       'consumption', 'co2_emission', 'emission_class', 'comfort_convenience',\n",
       "       'entertainment_media', 'extras', 'safety_security', 'gears', 'age',\n",
       "       'hp_kw', 'type', 'upholstery_type', 'upholstery_color',\n",
       "       'displacement_cc', 'weight_kg', 'cons_comb', 'cons_city',\n",
       "       'cons_country'],\n",
       "      dtype='object')"
      ]
     },
     "execution_count": 1031,
     "metadata": {},
     "output_type": "execute_result"
    }
   ],
   "source": [
    "df.columns"
   ]
  },
  {
   "cell_type": "markdown",
   "metadata": {},
   "source": [
    "### hp_kw column:"
   ]
  },
  {
   "cell_type": "code",
   "execution_count": 1032,
   "metadata": {},
   "outputs": [
    {
     "name": "stdout",
     "output_type": "stream",
     "text": [
      "\n",
      "Percentage of Missing Values : % 0.55\n",
      "Number of Missings           :  88\n",
      "Number of Uniques            :  80\n",
      "Value counts                 : \n",
      "\n",
      " 85.000     2542\n",
      "66.000     2122\n",
      "81.000     1402\n",
      "100.000    1308\n",
      "110.000    1112\n",
      "           ... \n",
      "84.000        1\n",
      "195.000       1\n",
      "44.000        1\n",
      "239.000       1\n",
      "9.000         1\n",
      "Name: hp_kw, Length: 81, dtype: int64\n"
     ]
    }
   ],
   "source": [
    "print('\\n''Percentage of Missing Values : %', round(\n",
    "    df['hp_kw'].isnull().sum()/df.shape[0]*100, 2))\n",
    "print(\"Number of Missings           : \",\n",
    "      df['hp_kw'].isnull().sum())\n",
    "print(\"Number of Uniques            : \", df['hp_kw'].nunique())\n",
    "print('Value counts                 : ''\\n''\\n',df['hp_kw'].value_counts(dropna=False))"
   ]
  },
  {
   "cell_type": "code",
   "execution_count": 1033,
   "metadata": {},
   "outputs": [],
   "source": [
    "df[\"hp_kw\"].fillna(\"-\", inplace=True)\n"
   ]
  },
  {
   "cell_type": "code",
   "execution_count": 1034,
   "metadata": {},
   "outputs": [
    {
     "data": {
      "text/html": [
       "<div><div id=f02faed3-f9e5-4e8d-85f9-e777e4cffb0d style=\"display:none; background-color:#9D6CFF; color:white; width:200px; height:30px; padding-left:5px; border-radius:4px; flex-direction:row; justify-content:space-around; align-items:center;\" onmouseover=\"this.style.backgroundColor='#BA9BF8'\" onmouseout=\"this.style.backgroundColor='#9D6CFF'\" onclick=\"window.commands?.execute('create-mitosheet-from-dataframe-output');\">See Full Dataframe in Mito</div> <script> if (window.commands?.hasCommand('create-mitosheet-from-dataframe-output')) document.getElementById('f02faed3-f9e5-4e8d-85f9-e777e4cffb0d').style.display = 'flex' </script> <table border=\"1\" class=\"dataframe\">\n",
       "  <thead>\n",
       "    <tr style=\"text-align: right;\">\n",
       "      <th></th>\n",
       "      <th></th>\n",
       "      <th></th>\n",
       "      <th>count</th>\n",
       "      <th>mean</th>\n",
       "      <th>std</th>\n",
       "      <th>min</th>\n",
       "      <th>25%</th>\n",
       "      <th>50%</th>\n",
       "      <th>75%</th>\n",
       "      <th>max</th>\n",
       "    </tr>\n",
       "    <tr>\n",
       "      <th>make_model</th>\n",
       "      <th>body_type</th>\n",
       "      <th>hp_kw</th>\n",
       "      <th></th>\n",
       "      <th></th>\n",
       "      <th></th>\n",
       "      <th></th>\n",
       "      <th></th>\n",
       "      <th></th>\n",
       "      <th></th>\n",
       "      <th></th>\n",
       "    </tr>\n",
       "  </thead>\n",
       "  <tbody>\n",
       "    <tr>\n",
       "      <th rowspan=\"5\" valign=\"top\">Audi A1</th>\n",
       "      <th rowspan=\"5\" valign=\"top\">Compact</th>\n",
       "      <th>60.0</th>\n",
       "      <td>58.000</td>\n",
       "      <td>15189.828</td>\n",
       "      <td>1663.611</td>\n",
       "      <td>10900.000</td>\n",
       "      <td>14390.000</td>\n",
       "      <td>15774.500</td>\n",
       "      <td>16345.000</td>\n",
       "      <td>16978.000</td>\n",
       "    </tr>\n",
       "    <tr>\n",
       "      <th>66.0</th>\n",
       "      <td>162.000</td>\n",
       "      <td>15398.210</td>\n",
       "      <td>1934.301</td>\n",
       "      <td>10490.000</td>\n",
       "      <td>14042.500</td>\n",
       "      <td>15465.000</td>\n",
       "      <td>16445.000</td>\n",
       "      <td>23700.000</td>\n",
       "    </tr>\n",
       "    <tr>\n",
       "      <th>70.0</th>\n",
       "      <td>332.000</td>\n",
       "      <td>17983.262</td>\n",
       "      <td>3315.814</td>\n",
       "      <td>9950.000</td>\n",
       "      <td>15480.000</td>\n",
       "      <td>17447.000</td>\n",
       "      <td>21190.000</td>\n",
       "      <td>28990.000</td>\n",
       "    </tr>\n",
       "    <tr>\n",
       "      <th>71.0</th>\n",
       "      <td>32.000</td>\n",
       "      <td>20831.594</td>\n",
       "      <td>2410.840</td>\n",
       "      <td>15890.000</td>\n",
       "      <td>18937.500</td>\n",
       "      <td>21425.000</td>\n",
       "      <td>22462.250</td>\n",
       "      <td>25256.000</td>\n",
       "    </tr>\n",
       "    <tr>\n",
       "      <th>85.0</th>\n",
       "      <td>330.000</td>\n",
       "      <td>22604.103</td>\n",
       "      <td>4572.568</td>\n",
       "      <td>11100.000</td>\n",
       "      <td>19700.000</td>\n",
       "      <td>22497.000</td>\n",
       "      <td>26980.000</td>\n",
       "      <td>31990.000</td>\n",
       "    </tr>\n",
       "    <tr>\n",
       "      <th>...</th>\n",
       "      <th>...</th>\n",
       "      <th>...</th>\n",
       "      <td>...</td>\n",
       "      <td>...</td>\n",
       "      <td>...</td>\n",
       "      <td>...</td>\n",
       "      <td>...</td>\n",
       "      <td>...</td>\n",
       "      <td>...</td>\n",
       "      <td>...</td>\n",
       "    </tr>\n",
       "    <tr>\n",
       "      <th rowspan=\"5\" valign=\"top\">Renault Espace</th>\n",
       "      <th rowspan=\"5\" valign=\"top\">Van</th>\n",
       "      <th>150.0</th>\n",
       "      <td>1.000</td>\n",
       "      <td>43545.000</td>\n",
       "      <td>NaN</td>\n",
       "      <td>43545.000</td>\n",
       "      <td>43545.000</td>\n",
       "      <td>43545.000</td>\n",
       "      <td>43545.000</td>\n",
       "      <td>43545.000</td>\n",
       "    </tr>\n",
       "    <tr>\n",
       "      <th>165.0</th>\n",
       "      <td>175.000</td>\n",
       "      <td>38205.960</td>\n",
       "      <td>7911.485</td>\n",
       "      <td>26800.000</td>\n",
       "      <td>31990.000</td>\n",
       "      <td>35989.000</td>\n",
       "      <td>40999.000</td>\n",
       "      <td>64332.000</td>\n",
       "    </tr>\n",
       "    <tr>\n",
       "      <th>167.0</th>\n",
       "      <td>2.000</td>\n",
       "      <td>37990.000</td>\n",
       "      <td>2828.427</td>\n",
       "      <td>35990.000</td>\n",
       "      <td>36990.000</td>\n",
       "      <td>37990.000</td>\n",
       "      <td>38990.000</td>\n",
       "      <td>39990.000</td>\n",
       "    </tr>\n",
       "    <tr>\n",
       "      <th>168.0</th>\n",
       "      <td>3.000</td>\n",
       "      <td>38410.000</td>\n",
       "      <td>1712.659</td>\n",
       "      <td>36590.000</td>\n",
       "      <td>37620.000</td>\n",
       "      <td>38650.000</td>\n",
       "      <td>39320.000</td>\n",
       "      <td>39990.000</td>\n",
       "    </tr>\n",
       "    <tr>\n",
       "      <th>-</th>\n",
       "      <td>34.000</td>\n",
       "      <td>28466.029</td>\n",
       "      <td>4898.732</td>\n",
       "      <td>17990.000</td>\n",
       "      <td>24515.000</td>\n",
       "      <td>28195.000</td>\n",
       "      <td>32900.000</td>\n",
       "      <td>39990.000</td>\n",
       "    </tr>\n",
       "  </tbody>\n",
       "</table></div>"
      ],
      "text/plain": [
       "                                 count      mean      std       min       25%  \\\n",
       "make_model     body_type hp_kw                                                  \n",
       "Audi A1        Compact   60.0   58.000 15189.828 1663.611 10900.000 14390.000   \n",
       "                         66.0  162.000 15398.210 1934.301 10490.000 14042.500   \n",
       "                         70.0  332.000 17983.262 3315.814  9950.000 15480.000   \n",
       "                         71.0   32.000 20831.594 2410.840 15890.000 18937.500   \n",
       "                         85.0  330.000 22604.103 4572.568 11100.000 19700.000   \n",
       "...                                ...       ...      ...       ...       ...   \n",
       "Renault Espace Van       150.0   1.000 43545.000      NaN 43545.000 43545.000   \n",
       "                         165.0 175.000 38205.960 7911.485 26800.000 31990.000   \n",
       "                         167.0   2.000 37990.000 2828.427 35990.000 36990.000   \n",
       "                         168.0   3.000 38410.000 1712.659 36590.000 37620.000   \n",
       "                         -      34.000 28466.029 4898.732 17990.000 24515.000   \n",
       "\n",
       "                                     50%       75%       max  \n",
       "make_model     body_type hp_kw                                \n",
       "Audi A1        Compact   60.0  15774.500 16345.000 16978.000  \n",
       "                         66.0  15465.000 16445.000 23700.000  \n",
       "                         70.0  17447.000 21190.000 28990.000  \n",
       "                         71.0  21425.000 22462.250 25256.000  \n",
       "                         85.0  22497.000 26980.000 31990.000  \n",
       "...                                  ...       ...       ...  \n",
       "Renault Espace Van       150.0 43545.000 43545.000 43545.000  \n",
       "                         165.0 35989.000 40999.000 64332.000  \n",
       "                         167.0 37990.000 38990.000 39990.000  \n",
       "                         168.0 38650.000 39320.000 39990.000  \n",
       "                         -     28195.000 32900.000 39990.000  \n",
       "\n",
       "[311 rows x 8 columns]"
      ]
     },
     "execution_count": 1034,
     "metadata": {},
     "output_type": "execute_result"
    }
   ],
   "source": [
    "df.groupby([\"make_model\", \"body_type\",\"hp_kw\"]).price.describe()"
   ]
  },
  {
   "cell_type": "code",
   "execution_count": 1035,
   "metadata": {},
   "outputs": [],
   "source": [
    "df[\"hp_kw\"].replace(\"-\", np.nan, inplace=True)\n"
   ]
  },
  {
   "cell_type": "code",
   "execution_count": 1036,
   "metadata": {},
   "outputs": [],
   "source": [
    "df['hp_kw'].fillna(df.groupby([\"make_model\", \"body_type\"], as_index=True)[\n",
    "                   \"hp_kw\"].transform(lambda x: pd.Series.mode(x)[0]), inplace=True)\n"
   ]
  },
  {
   "cell_type": "code",
   "execution_count": 1037,
   "metadata": {},
   "outputs": [
    {
     "data": {
      "text/plain": [
       "85.000     2543\n",
       "66.000     2124\n",
       "81.000     1403\n",
       "100.000    1314\n",
       "110.000    1113\n",
       "           ... \n",
       "123.000       1\n",
       "44.000        1\n",
       "195.000       1\n",
       "75.000        1\n",
       "9.000         1\n",
       "Name: hp_kw, Length: 80, dtype: int64"
      ]
     },
     "execution_count": 1037,
     "metadata": {},
     "output_type": "execute_result"
    }
   ],
   "source": [
    "df.hp_kw.value_counts(dropna=False)"
   ]
  },
  {
   "cell_type": "code",
   "execution_count": 1038,
   "metadata": {},
   "outputs": [
    {
     "data": {
      "text/plain": [
       "0"
      ]
     },
     "execution_count": 1038,
     "metadata": {},
     "output_type": "execute_result"
    }
   ],
   "source": [
    "df.hp_kw.isnull().sum()"
   ]
  },
  {
   "cell_type": "markdown",
   "metadata": {},
   "source": [
    "### type column:"
   ]
  },
  {
   "cell_type": "code",
   "execution_count": 1039,
   "metadata": {},
   "outputs": [
    {
     "name": "stdout",
     "output_type": "stream",
     "text": [
      "\n",
      "Percentage of Missing Values : % 0.01\n",
      "Number of Missings           :  2\n",
      "Number of Uniques            :  5\n",
      "Value counts                 : \n",
      "\n",
      " Used              11096\n",
      "New                1650\n",
      "Pre-registered     1364\n",
      "Employee's car     1011\n",
      "Demonstration       796\n",
      "NaN                   2\n",
      "Name: type, dtype: int64\n"
     ]
    }
   ],
   "source": [
    "print('\\n''Percentage of Missing Values : %', round(df['type'].isnull().sum()/df.shape[0]*100, 2))\n",
    "print(\"Number of Missings           : \",\n",
    "      df['type'].isnull().sum())\n",
    "print(\"Number of Uniques            : \", df['type'].nunique())\n",
    "print('Value counts                 : ''\\n''\\n',df['type'].value_counts(dropna=False))"
   ]
  },
  {
   "cell_type": "code",
   "execution_count": 1040,
   "metadata": {},
   "outputs": [],
   "source": [
    "df['type'].fillna(df.groupby([\"make_model\", \"age\"], as_index=True)[\n",
    "    \"type\"].transform(lambda x: pd.Series.mode(x)[0]), inplace=True)\n"
   ]
  },
  {
   "cell_type": "code",
   "execution_count": 1041,
   "metadata": {},
   "outputs": [
    {
     "data": {
      "text/plain": [
       "Used              11097\n",
       "New                1651\n",
       "Pre-registered     1364\n",
       "Employee's car     1011\n",
       "Demonstration       796\n",
       "Name: type, dtype: int64"
      ]
     },
     "execution_count": 1041,
     "metadata": {},
     "output_type": "execute_result"
    }
   ],
   "source": [
    "df.type.value_counts(dropna=False)"
   ]
  },
  {
   "cell_type": "markdown",
   "metadata": {},
   "source": [
    "### upholstery_type column:"
   ]
  },
  {
   "cell_type": "code",
   "execution_count": 1042,
   "metadata": {},
   "outputs": [
    {
     "name": "stdout",
     "output_type": "stream",
     "text": [
      "\n",
      "Percentage of Missing Values : % 30.6\n",
      "Number of Missings           :  4871\n",
      "Number of Uniques            :  5\n",
      "Value counts                 : \n",
      "\n",
      " Cloth           8423\n",
      "NaN             4871\n",
      "Part leather    1499\n",
      "Full leather    1009\n",
      "Velour            60\n",
      "alcantara         57\n",
      "Name: upholstery_type, dtype: int64\n"
     ]
    }
   ],
   "source": [
    "print('\\n''Percentage of Missing Values : %', round(df['upholstery_type'].isnull().sum()/df.shape[0]*100, 2))\n",
    "print(\"Number of Missings           : \",\n",
    "      df['upholstery_type'].isnull().sum())\n",
    "print(\"Number of Uniques            : \", df['upholstery_type'].nunique())\n",
    "print('Value counts                 : ''\\n''\\n',df['upholstery_type'].value_counts(dropna=False))"
   ]
  },
  {
   "cell_type": "code",
   "execution_count": 1043,
   "metadata": {},
   "outputs": [
    {
     "data": {
      "text/html": [
       "<div><div id=bb5cebd2-264c-49fa-9f8f-6b58199bd6e2 style=\"display:none; background-color:#9D6CFF; color:white; width:200px; height:30px; padding-left:5px; border-radius:4px; flex-direction:row; justify-content:space-around; align-items:center;\" onmouseover=\"this.style.backgroundColor='#BA9BF8'\" onmouseout=\"this.style.backgroundColor='#9D6CFF'\" onclick=\"window.commands?.execute('create-mitosheet-from-dataframe-output');\">See Full Dataframe in Mito</div> <script> if (window.commands?.hasCommand('create-mitosheet-from-dataframe-output')) document.getElementById('bb5cebd2-264c-49fa-9f8f-6b58199bd6e2').style.display = 'flex' </script> <table border=\"1\" class=\"dataframe\">\n",
       "  <thead>\n",
       "    <tr style=\"text-align: right;\">\n",
       "      <th></th>\n",
       "      <th>make_model</th>\n",
       "      <th>body_type</th>\n",
       "      <th>upholstery_type</th>\n",
       "    </tr>\n",
       "  </thead>\n",
       "  <tbody>\n",
       "    <tr>\n",
       "      <th>0</th>\n",
       "      <td>Audi A1</td>\n",
       "      <td>Sedans</td>\n",
       "      <td>Cloth</td>\n",
       "    </tr>\n",
       "    <tr>\n",
       "      <th>1</th>\n",
       "      <td>Audi A1</td>\n",
       "      <td>Sedans</td>\n",
       "      <td>Cloth</td>\n",
       "    </tr>\n",
       "    <tr>\n",
       "      <th>2</th>\n",
       "      <td>Audi A1</td>\n",
       "      <td>Sedans</td>\n",
       "      <td>Cloth</td>\n",
       "    </tr>\n",
       "    <tr>\n",
       "      <th>4</th>\n",
       "      <td>Audi A1</td>\n",
       "      <td>Sedans</td>\n",
       "      <td>Cloth</td>\n",
       "    </tr>\n",
       "    <tr>\n",
       "      <th>5</th>\n",
       "      <td>Audi A1</td>\n",
       "      <td>Sedans</td>\n",
       "      <td>Part leather</td>\n",
       "    </tr>\n",
       "    <tr>\n",
       "      <th>...</th>\n",
       "      <td>...</td>\n",
       "      <td>...</td>\n",
       "      <td>...</td>\n",
       "    </tr>\n",
       "    <tr>\n",
       "      <th>15650</th>\n",
       "      <td>Renault Espace</td>\n",
       "      <td>Van</td>\n",
       "      <td>alcantara</td>\n",
       "    </tr>\n",
       "    <tr>\n",
       "      <th>15652</th>\n",
       "      <td>Renault Espace</td>\n",
       "      <td>Station wagon</td>\n",
       "      <td>Part leather</td>\n",
       "    </tr>\n",
       "    <tr>\n",
       "      <th>15662</th>\n",
       "      <td>Renault Espace</td>\n",
       "      <td>Sedans</td>\n",
       "      <td>Full leather</td>\n",
       "    </tr>\n",
       "    <tr>\n",
       "      <th>15880</th>\n",
       "      <td>Renault Espace</td>\n",
       "      <td>Sedans</td>\n",
       "      <td>Full leather</td>\n",
       "    </tr>\n",
       "    <tr>\n",
       "      <th>15905</th>\n",
       "      <td>Renault Espace</td>\n",
       "      <td>Compact</td>\n",
       "      <td>Cloth</td>\n",
       "    </tr>\n",
       "  </tbody>\n",
       "</table></div>"
      ],
      "text/plain": [
       "           make_model      body_type upholstery_type\n",
       "0             Audi A1         Sedans           Cloth\n",
       "1             Audi A1         Sedans           Cloth\n",
       "2             Audi A1         Sedans           Cloth\n",
       "4             Audi A1         Sedans           Cloth\n",
       "5             Audi A1         Sedans    Part leather\n",
       "...               ...            ...             ...\n",
       "15650  Renault Espace            Van       alcantara\n",
       "15652  Renault Espace  Station wagon    Part leather\n",
       "15662  Renault Espace         Sedans    Full leather\n",
       "15880  Renault Espace         Sedans    Full leather\n",
       "15905  Renault Espace        Compact           Cloth\n",
       "\n",
       "[403 rows x 3 columns]"
      ]
     },
     "execution_count": 1043,
     "metadata": {},
     "output_type": "execute_result"
    }
   ],
   "source": [
    "df.groupby([\"make_model\", \"body_type\", \"upholstery_type\"])[\"make_model\", \"body_type\", \"upholstery_type\"].head()\n"
   ]
  },
  {
   "cell_type": "code",
   "execution_count": 1044,
   "metadata": {},
   "outputs": [
    {
     "name": "stdout",
     "output_type": "stream",
     "text": [
      "Number of NaN :  0\n",
      "------------------\n",
      "Cloth           12157\n",
      "Part leather     2128\n",
      "Full leather     1458\n",
      "alcantara          95\n",
      "Velour             81\n",
      "Name: upholstery_type, dtype: int64\n"
     ]
    }
   ],
   "source": [
    "fill(df, \"make_model\", \"body_type\", \"upholstery_type\", \"ffill\")\n"
   ]
  },
  {
   "cell_type": "markdown",
   "metadata": {},
   "source": [
    "### upholstery_color column:"
   ]
  },
  {
   "cell_type": "code",
   "execution_count": 1045,
   "metadata": {},
   "outputs": [
    {
     "name": "stdout",
     "output_type": "stream",
     "text": [
      "\n",
      "Percentage of Missing Values : % 31.9\n",
      "Number of Missings           :  5078\n",
      "Number of Uniques            :  10\n",
      "Value counts                 : \n",
      "\n",
      " Black     8201\n",
      "NaN       5078\n",
      "Grey      1376\n",
      "Other      960\n",
      "Brown      207\n",
      "Beige       54\n",
      "Blue        16\n",
      "White       13\n",
      "Red          9\n",
      "Yellow       4\n",
      "Orange       1\n",
      "Name: upholstery_color, dtype: int64\n"
     ]
    }
   ],
   "source": [
    "print('\\n''Percentage of Missing Values : %', round(df['upholstery_color'].isnull().sum()/df.shape[0]*100, 2))\n",
    "print(\"Number of Missings           : \",\n",
    "      df['upholstery_color'].isnull().sum())\n",
    "print(\"Number of Uniques            : \", df['upholstery_color'].nunique())\n",
    "print('Value counts                 : ''\\n''\\n',df['upholstery_color'].value_counts(dropna=False))"
   ]
  },
  {
   "cell_type": "code",
   "execution_count": 1046,
   "metadata": {},
   "outputs": [],
   "source": [
    "df.upholstery_color.replace('Other', np.nan, inplace=True)"
   ]
  },
  {
   "cell_type": "code",
   "execution_count": 1047,
   "metadata": {},
   "outputs": [
    {
     "name": "stdout",
     "output_type": "stream",
     "text": [
      "Number of NaN :  0\n",
      "------------------\n",
      "Black     13035\n",
      "Grey       2228\n",
      "Brown       488\n",
      "Beige        80\n",
      "White        34\n",
      "Blue         29\n",
      "Red          18\n",
      "Yellow        6\n",
      "Orange        1\n",
      "Name: upholstery_color, dtype: int64\n"
     ]
    }
   ],
   "source": [
    "fill(df, \"make_model\", \"body_type\", \"upholstery_color\", \"ffill\")\n"
   ]
  },
  {
   "cell_type": "code",
   "execution_count": 1048,
   "metadata": {},
   "outputs": [
    {
     "data": {
      "text/plain": [
       "Index(['make_model', 'body_type', 'price', 'vat', 'km', 'previous_owners',\n",
       "       'next_inspection', 'inspection_new', 'paint_type', 'num_of_doors',\n",
       "       'num_of_seats', 'gearing_type', 'cylinders', 'drive_chain', 'fuel',\n",
       "       'consumption', 'co2_emission', 'emission_class', 'comfort_convenience',\n",
       "       'entertainment_media', 'extras', 'safety_security', 'gears', 'age',\n",
       "       'hp_kw', 'type', 'upholstery_type', 'upholstery_color',\n",
       "       'displacement_cc', 'weight_kg', 'cons_comb', 'cons_city',\n",
       "       'cons_country'],\n",
       "      dtype='object')"
      ]
     },
     "execution_count": 1048,
     "metadata": {},
     "output_type": "execute_result"
    }
   ],
   "source": [
    "df.columns"
   ]
  },
  {
   "cell_type": "markdown",
   "metadata": {},
   "source": [
    "### displacement_cc column:"
   ]
  },
  {
   "cell_type": "code",
   "execution_count": 1049,
   "metadata": {},
   "outputs": [
    {
     "name": "stdout",
     "output_type": "stream",
     "text": [
      "\n",
      "Percentage of Missing Values : % 3.12\n",
      "Number of Missings           :  496\n",
      "Number of Uniques            :  77\n",
      "Value counts                 : \n",
      "\n",
      " 1598.000    4761\n",
      "999.000     2438\n",
      "1398.000    1314\n",
      "1399.000     749\n",
      "1229.000     677\n",
      "            ... \n",
      "122.000        1\n",
      "1198.000       1\n",
      "1195.000       1\n",
      "2967.000       1\n",
      "1800.000       1\n",
      "Name: displacement_cc, Length: 78, dtype: int64\n"
     ]
    }
   ],
   "source": [
    "print('\\n''Percentage of Missing Values : %', round(\n",
    "    df['displacement_cc'].isnull().sum()/df.shape[0]*100, 2))\n",
    "print(\"Number of Missings           : \",\n",
    "      df['displacement_cc'].isnull().sum())\n",
    "print(\"Number of Uniques            : \", df['displacement_cc'].nunique())\n",
    "print('Value counts                 : ''\\n''\\n',df['displacement_cc'].value_counts(dropna=False))"
   ]
  },
  {
   "cell_type": "code",
   "execution_count": 1050,
   "metadata": {},
   "outputs": [],
   "source": [
    "df[\"displacement_cc\"].fillna(\"-\", inplace=True)"
   ]
  },
  {
   "cell_type": "code",
   "execution_count": 1051,
   "metadata": {},
   "outputs": [
    {
     "data": {
      "text/html": [
       "<div><div id=1c742888-c6c9-4bb7-b001-baebd92a1bcb style=\"display:none; background-color:#9D6CFF; color:white; width:200px; height:30px; padding-left:5px; border-radius:4px; flex-direction:row; justify-content:space-around; align-items:center;\" onmouseover=\"this.style.backgroundColor='#BA9BF8'\" onmouseout=\"this.style.backgroundColor='#9D6CFF'\" onclick=\"window.commands?.execute('create-mitosheet-from-dataframe-output');\">See Full Dataframe in Mito</div> <script> if (window.commands?.hasCommand('create-mitosheet-from-dataframe-output')) document.getElementById('1c742888-c6c9-4bb7-b001-baebd92a1bcb').style.display = 'flex' </script> <table border=\"1\" class=\"dataframe\">\n",
       "  <thead>\n",
       "    <tr style=\"text-align: right;\">\n",
       "      <th></th>\n",
       "      <th></th>\n",
       "      <th></th>\n",
       "      <th>count</th>\n",
       "      <th>mean</th>\n",
       "      <th>std</th>\n",
       "      <th>min</th>\n",
       "      <th>25%</th>\n",
       "      <th>50%</th>\n",
       "      <th>75%</th>\n",
       "      <th>max</th>\n",
       "    </tr>\n",
       "    <tr>\n",
       "      <th>make_model</th>\n",
       "      <th>body_type</th>\n",
       "      <th>displacement_cc</th>\n",
       "      <th></th>\n",
       "      <th></th>\n",
       "      <th></th>\n",
       "      <th></th>\n",
       "      <th></th>\n",
       "      <th></th>\n",
       "      <th></th>\n",
       "      <th></th>\n",
       "    </tr>\n",
       "  </thead>\n",
       "  <tbody>\n",
       "    <tr>\n",
       "      <th rowspan=\"5\" valign=\"top\">Audi A1</th>\n",
       "      <th rowspan=\"5\" valign=\"top\">Compact</th>\n",
       "      <th>929.0</th>\n",
       "      <td>5.000</td>\n",
       "      <td>16364.000</td>\n",
       "      <td>1504.819</td>\n",
       "      <td>14980.000</td>\n",
       "      <td>15480.000</td>\n",
       "      <td>16240.000</td>\n",
       "      <td>16240.000</td>\n",
       "      <td>18880.000</td>\n",
       "    </tr>\n",
       "    <tr>\n",
       "      <th>995.0</th>\n",
       "      <td>2.000</td>\n",
       "      <td>21990.000</td>\n",
       "      <td>1414.214</td>\n",
       "      <td>20990.000</td>\n",
       "      <td>21490.000</td>\n",
       "      <td>21990.000</td>\n",
       "      <td>22490.000</td>\n",
       "      <td>22990.000</td>\n",
       "    </tr>\n",
       "    <tr>\n",
       "      <th>999.0</th>\n",
       "      <td>663.000</td>\n",
       "      <td>20294.101</td>\n",
       "      <td>4570.798</td>\n",
       "      <td>9950.000</td>\n",
       "      <td>16480.000</td>\n",
       "      <td>20380.000</td>\n",
       "      <td>22820.000</td>\n",
       "      <td>31990.000</td>\n",
       "    </tr>\n",
       "    <tr>\n",
       "      <th>1000.0</th>\n",
       "      <td>7.000</td>\n",
       "      <td>19498.429</td>\n",
       "      <td>5396.196</td>\n",
       "      <td>13500.000</td>\n",
       "      <td>16024.500</td>\n",
       "      <td>16800.000</td>\n",
       "      <td>22695.000</td>\n",
       "      <td>28750.000</td>\n",
       "    </tr>\n",
       "    <tr>\n",
       "      <th>1395.0</th>\n",
       "      <td>98.000</td>\n",
       "      <td>18246.622</td>\n",
       "      <td>3084.081</td>\n",
       "      <td>12550.000</td>\n",
       "      <td>15850.000</td>\n",
       "      <td>17835.000</td>\n",
       "      <td>20900.000</td>\n",
       "      <td>28880.000</td>\n",
       "    </tr>\n",
       "    <tr>\n",
       "      <th>...</th>\n",
       "      <th>...</th>\n",
       "      <th>...</th>\n",
       "      <td>...</td>\n",
       "      <td>...</td>\n",
       "      <td>...</td>\n",
       "      <td>...</td>\n",
       "      <td>...</td>\n",
       "      <td>...</td>\n",
       "      <td>...</td>\n",
       "      <td>...</td>\n",
       "    </tr>\n",
       "    <tr>\n",
       "      <th rowspan=\"5\" valign=\"top\">Renault Espace</th>\n",
       "      <th rowspan=\"5\" valign=\"top\">Van</th>\n",
       "      <th>1798.0</th>\n",
       "      <td>174.000</td>\n",
       "      <td>38173.299</td>\n",
       "      <td>7873.214</td>\n",
       "      <td>26800.000</td>\n",
       "      <td>31990.000</td>\n",
       "      <td>35990.000</td>\n",
       "      <td>40991.750</td>\n",
       "      <td>64332.000</td>\n",
       "    </tr>\n",
       "    <tr>\n",
       "      <th>1800.0</th>\n",
       "      <td>1.000</td>\n",
       "      <td>50750.000</td>\n",
       "      <td>NaN</td>\n",
       "      <td>50750.000</td>\n",
       "      <td>50750.000</td>\n",
       "      <td>50750.000</td>\n",
       "      <td>50750.000</td>\n",
       "      <td>50750.000</td>\n",
       "    </tr>\n",
       "    <tr>\n",
       "      <th>1997.0</th>\n",
       "      <td>92.000</td>\n",
       "      <td>39621.424</td>\n",
       "      <td>7514.270</td>\n",
       "      <td>12990.000</td>\n",
       "      <td>32975.000</td>\n",
       "      <td>39625.000</td>\n",
       "      <td>46262.500</td>\n",
       "      <td>56950.000</td>\n",
       "    </tr>\n",
       "    <tr>\n",
       "      <th>2000.0</th>\n",
       "      <td>1.000</td>\n",
       "      <td>21900.000</td>\n",
       "      <td>NaN</td>\n",
       "      <td>21900.000</td>\n",
       "      <td>21900.000</td>\n",
       "      <td>21900.000</td>\n",
       "      <td>21900.000</td>\n",
       "      <td>21900.000</td>\n",
       "    </tr>\n",
       "    <tr>\n",
       "      <th>-</th>\n",
       "      <td>77.000</td>\n",
       "      <td>28619.610</td>\n",
       "      <td>5732.766</td>\n",
       "      <td>17500.000</td>\n",
       "      <td>24490.000</td>\n",
       "      <td>28465.000</td>\n",
       "      <td>32935.000</td>\n",
       "      <td>44500.000</td>\n",
       "    </tr>\n",
       "  </tbody>\n",
       "</table></div>"
      ],
      "text/plain": [
       "                                           count      mean      std       min  \\\n",
       "make_model     body_type displacement_cc                                        \n",
       "Audi A1        Compact   929.0             5.000 16364.000 1504.819 14980.000   \n",
       "                         995.0             2.000 21990.000 1414.214 20990.000   \n",
       "                         999.0           663.000 20294.101 4570.798  9950.000   \n",
       "                         1000.0            7.000 19498.429 5396.196 13500.000   \n",
       "                         1395.0           98.000 18246.622 3084.081 12550.000   \n",
       "...                                          ...       ...      ...       ...   \n",
       "Renault Espace Van       1798.0          174.000 38173.299 7873.214 26800.000   \n",
       "                         1800.0            1.000 50750.000      NaN 50750.000   \n",
       "                         1997.0           92.000 39621.424 7514.270 12990.000   \n",
       "                         2000.0            1.000 21900.000      NaN 21900.000   \n",
       "                         -                77.000 28619.610 5732.766 17500.000   \n",
       "\n",
       "                                               25%       50%       75%  \\\n",
       "make_model     body_type displacement_cc                                 \n",
       "Audi A1        Compact   929.0           15480.000 16240.000 16240.000   \n",
       "                         995.0           21490.000 21990.000 22490.000   \n",
       "                         999.0           16480.000 20380.000 22820.000   \n",
       "                         1000.0          16024.500 16800.000 22695.000   \n",
       "                         1395.0          15850.000 17835.000 20900.000   \n",
       "...                                            ...       ...       ...   \n",
       "Renault Espace Van       1798.0          31990.000 35990.000 40991.750   \n",
       "                         1800.0          50750.000 50750.000 50750.000   \n",
       "                         1997.0          32975.000 39625.000 46262.500   \n",
       "                         2000.0          21900.000 21900.000 21900.000   \n",
       "                         -               24490.000 28465.000 32935.000   \n",
       "\n",
       "                                               max  \n",
       "make_model     body_type displacement_cc            \n",
       "Audi A1        Compact   929.0           18880.000  \n",
       "                         995.0           22990.000  \n",
       "                         999.0           31990.000  \n",
       "                         1000.0          28750.000  \n",
       "                         1395.0          28880.000  \n",
       "...                                            ...  \n",
       "Renault Espace Van       1798.0          64332.000  \n",
       "                         1800.0          50750.000  \n",
       "                         1997.0          56950.000  \n",
       "                         2000.0          21900.000  \n",
       "                         -               44500.000  \n",
       "\n",
       "[289 rows x 8 columns]"
      ]
     },
     "execution_count": 1051,
     "metadata": {},
     "output_type": "execute_result"
    }
   ],
   "source": [
    "df.groupby([\"make_model\", \"body_type\",\"displacement_cc\"]).price.describe()"
   ]
  },
  {
   "cell_type": "code",
   "execution_count": 1052,
   "metadata": {},
   "outputs": [],
   "source": [
    "df[\"displacement_cc\"].replace(\"-\", np.nan, inplace=True)\n"
   ]
  },
  {
   "cell_type": "code",
   "execution_count": 1053,
   "metadata": {},
   "outputs": [
    {
     "name": "stdout",
     "output_type": "stream",
     "text": [
      "Number of NaN :  0\n",
      "------------------\n",
      "1598.000    5044\n",
      "999.000     2467\n",
      "1398.000    1387\n",
      "1399.000     768\n",
      "1229.000     678\n",
      "            ... \n",
      "122.000        1\n",
      "1198.000       1\n",
      "1195.000       1\n",
      "2967.000       1\n",
      "1800.000       1\n",
      "Name: displacement_cc, Length: 77, dtype: int64\n"
     ]
    }
   ],
   "source": [
    "fill(df, \"make_model\", \"body_type\", \"displacement_cc\", \"mode\")"
   ]
  },
  {
   "cell_type": "markdown",
   "metadata": {},
   "source": [
    "### weight_kg column:"
   ]
  },
  {
   "cell_type": "code",
   "execution_count": 1054,
   "metadata": {},
   "outputs": [
    {
     "name": "stdout",
     "output_type": "stream",
     "text": [
      "\n",
      "Percentage of Missing Values : % 43.81\n",
      "Number of Missings           :  6974\n",
      "Number of Uniques            :  434\n",
      "Value counts                 : \n",
      "\n",
      " NaN         6974\n",
      "1163.000     574\n",
      "1360.000     356\n",
      "1165.000     301\n",
      "1335.000     242\n",
      "            ... \n",
      "1960.000       1\n",
      "1258.000       1\n",
      "1167.000       1\n",
      "1331.000       1\n",
      "2037.000       1\n",
      "Name: weight_kg, Length: 435, dtype: int64\n"
     ]
    }
   ],
   "source": [
    "print('\\n''Percentage of Missing Values : %', round(\n",
    "    df['weight_kg'].isnull().sum()/df.shape[0]*100, 2))\n",
    "print(\"Number of Missings           : \",\n",
    "      df['weight_kg'].isnull().sum())\n",
    "print(\"Number of Uniques            : \", df['weight_kg'].nunique())\n",
    "print('Value counts                 : ''\\n''\\n',df['weight_kg'].value_counts(dropna=False))"
   ]
  },
  {
   "cell_type": "code",
   "execution_count": 1055,
   "metadata": {},
   "outputs": [
    {
     "data": {
      "text/plain": [
       "8355      1.000\n",
       "12779     1.000\n",
       "1143    102.000\n",
       "8857    840.000\n",
       "14313   900.000\n",
       "13513   977.000\n",
       "13555   977.000\n",
       "14479   980.000\n",
       "14654   980.000\n",
       "13609   980.000\n",
       "Name: weight_kg, dtype: float64"
      ]
     },
     "execution_count": 1055,
     "metadata": {},
     "output_type": "execute_result"
    }
   ],
   "source": [
    "df[\"weight_kg\"].sort_values().head(10)\n"
   ]
  },
  {
   "cell_type": "code",
   "execution_count": 1056,
   "metadata": {},
   "outputs": [],
   "source": [
    "df[\"weight_kg\"].replace([1, 102], np.nan, inplace=True)\n"
   ]
  },
  {
   "cell_type": "code",
   "execution_count": 1057,
   "metadata": {},
   "outputs": [
    {
     "data": {
      "text/plain": [
       "NaN         6977\n",
       "1163.000     574\n",
       "1360.000     356\n",
       "1165.000     301\n",
       "1335.000     242\n",
       "            ... \n",
       "1258.000       1\n",
       "1167.000       1\n",
       "1331.000       1\n",
       "1132.000       1\n",
       "2037.000       1\n",
       "Name: weight_kg, Length: 433, dtype: int64"
      ]
     },
     "execution_count": 1057,
     "metadata": {},
     "output_type": "execute_result"
    }
   ],
   "source": [
    "df.weight_kg.value_counts(dropna=False)"
   ]
  },
  {
   "cell_type": "code",
   "execution_count": 1058,
   "metadata": {},
   "outputs": [],
   "source": [
    "df[\"weight_kg\"].fillna(\"-\", inplace=True)\n"
   ]
  },
  {
   "cell_type": "code",
   "execution_count": 1059,
   "metadata": {},
   "outputs": [
    {
     "data": {
      "text/html": [
       "<div><div id=22c9e2c5-5bdc-4973-ae18-822e82b534f2 style=\"display:none; background-color:#9D6CFF; color:white; width:200px; height:30px; padding-left:5px; border-radius:4px; flex-direction:row; justify-content:space-around; align-items:center;\" onmouseover=\"this.style.backgroundColor='#BA9BF8'\" onmouseout=\"this.style.backgroundColor='#9D6CFF'\" onclick=\"window.commands?.execute('create-mitosheet-from-dataframe-output');\">See Full Dataframe in Mito</div> <script> if (window.commands?.hasCommand('create-mitosheet-from-dataframe-output')) document.getElementById('22c9e2c5-5bdc-4973-ae18-822e82b534f2').style.display = 'flex' </script> <table border=\"1\" class=\"dataframe\">\n",
       "  <thead>\n",
       "    <tr style=\"text-align: right;\">\n",
       "      <th></th>\n",
       "      <th></th>\n",
       "      <th></th>\n",
       "      <th>count</th>\n",
       "      <th>mean</th>\n",
       "      <th>std</th>\n",
       "      <th>min</th>\n",
       "      <th>25%</th>\n",
       "      <th>50%</th>\n",
       "      <th>75%</th>\n",
       "      <th>max</th>\n",
       "    </tr>\n",
       "    <tr>\n",
       "      <th>make_model</th>\n",
       "      <th>body_type</th>\n",
       "      <th>weight_kg</th>\n",
       "      <th></th>\n",
       "      <th></th>\n",
       "      <th></th>\n",
       "      <th></th>\n",
       "      <th></th>\n",
       "      <th></th>\n",
       "      <th></th>\n",
       "      <th></th>\n",
       "    </tr>\n",
       "  </thead>\n",
       "  <tbody>\n",
       "    <tr>\n",
       "      <th rowspan=\"5\" valign=\"top\">Audi A1</th>\n",
       "      <th rowspan=\"5\" valign=\"top\">Compact</th>\n",
       "      <th>1010.0</th>\n",
       "      <td>2.000</td>\n",
       "      <td>15450.000</td>\n",
       "      <td>707.107</td>\n",
       "      <td>14950.000</td>\n",
       "      <td>15200.000</td>\n",
       "      <td>15450.000</td>\n",
       "      <td>15700.000</td>\n",
       "      <td>15950.000</td>\n",
       "    </tr>\n",
       "    <tr>\n",
       "      <th>1035.0</th>\n",
       "      <td>6.000</td>\n",
       "      <td>16796.667</td>\n",
       "      <td>2617.867</td>\n",
       "      <td>14390.000</td>\n",
       "      <td>15892.500</td>\n",
       "      <td>15900.000</td>\n",
       "      <td>16575.000</td>\n",
       "      <td>21900.000</td>\n",
       "    </tr>\n",
       "    <tr>\n",
       "      <th>1040.0</th>\n",
       "      <td>2.000</td>\n",
       "      <td>20424.500</td>\n",
       "      <td>2933.786</td>\n",
       "      <td>18350.000</td>\n",
       "      <td>19387.250</td>\n",
       "      <td>20424.500</td>\n",
       "      <td>21461.750</td>\n",
       "      <td>22499.000</td>\n",
       "    </tr>\n",
       "    <tr>\n",
       "      <th>1065.0</th>\n",
       "      <td>36.000</td>\n",
       "      <td>20971.778</td>\n",
       "      <td>1982.554</td>\n",
       "      <td>15500.000</td>\n",
       "      <td>18987.500</td>\n",
       "      <td>21690.000</td>\n",
       "      <td>22400.000</td>\n",
       "      <td>23550.000</td>\n",
       "    </tr>\n",
       "    <tr>\n",
       "      <th>1090.0</th>\n",
       "      <td>9.000</td>\n",
       "      <td>21059.222</td>\n",
       "      <td>2945.233</td>\n",
       "      <td>15998.000</td>\n",
       "      <td>18990.000</td>\n",
       "      <td>22450.000</td>\n",
       "      <td>22800.000</td>\n",
       "      <td>25256.000</td>\n",
       "    </tr>\n",
       "    <tr>\n",
       "      <th>...</th>\n",
       "      <th>...</th>\n",
       "      <th>...</th>\n",
       "      <td>...</td>\n",
       "      <td>...</td>\n",
       "      <td>...</td>\n",
       "      <td>...</td>\n",
       "      <td>...</td>\n",
       "      <td>...</td>\n",
       "      <td>...</td>\n",
       "      <td>...</td>\n",
       "    </tr>\n",
       "    <tr>\n",
       "      <th rowspan=\"5\" valign=\"top\">Renault Espace</th>\n",
       "      <th rowspan=\"5\" valign=\"top\">Van</th>\n",
       "      <th>2037.0</th>\n",
       "      <td>1.000</td>\n",
       "      <td>47950.000</td>\n",
       "      <td>NaN</td>\n",
       "      <td>47950.000</td>\n",
       "      <td>47950.000</td>\n",
       "      <td>47950.000</td>\n",
       "      <td>47950.000</td>\n",
       "      <td>47950.000</td>\n",
       "    </tr>\n",
       "    <tr>\n",
       "      <th>2353.0</th>\n",
       "      <td>1.000</td>\n",
       "      <td>22990.000</td>\n",
       "      <td>NaN</td>\n",
       "      <td>22990.000</td>\n",
       "      <td>22990.000</td>\n",
       "      <td>22990.000</td>\n",
       "      <td>22990.000</td>\n",
       "      <td>22990.000</td>\n",
       "    </tr>\n",
       "    <tr>\n",
       "      <th>2410.0</th>\n",
       "      <td>1.000</td>\n",
       "      <td>23990.000</td>\n",
       "      <td>NaN</td>\n",
       "      <td>23990.000</td>\n",
       "      <td>23990.000</td>\n",
       "      <td>23990.000</td>\n",
       "      <td>23990.000</td>\n",
       "      <td>23990.000</td>\n",
       "    </tr>\n",
       "    <tr>\n",
       "      <th>2471.0</th>\n",
       "      <td>5.000</td>\n",
       "      <td>24738.000</td>\n",
       "      <td>8470.639</td>\n",
       "      <td>17400.000</td>\n",
       "      <td>20900.000</td>\n",
       "      <td>20900.000</td>\n",
       "      <td>25500.000</td>\n",
       "      <td>38990.000</td>\n",
       "    </tr>\n",
       "    <tr>\n",
       "      <th>-</th>\n",
       "      <td>377.000</td>\n",
       "      <td>30126.297</td>\n",
       "      <td>7273.476</td>\n",
       "      <td>12614.000</td>\n",
       "      <td>24990.000</td>\n",
       "      <td>29990.000</td>\n",
       "      <td>34950.000</td>\n",
       "      <td>68320.000</td>\n",
       "    </tr>\n",
       "  </tbody>\n",
       "</table></div>"
      ],
      "text/plain": [
       "                                     count      mean      std       min  \\\n",
       "make_model     body_type weight_kg                                        \n",
       "Audi A1        Compact   1010.0      2.000 15450.000  707.107 14950.000   \n",
       "                         1035.0      6.000 16796.667 2617.867 14390.000   \n",
       "                         1040.0      2.000 20424.500 2933.786 18350.000   \n",
       "                         1065.0     36.000 20971.778 1982.554 15500.000   \n",
       "                         1090.0      9.000 21059.222 2945.233 15998.000   \n",
       "...                                    ...       ...      ...       ...   \n",
       "Renault Espace Van       2037.0      1.000 47950.000      NaN 47950.000   \n",
       "                         2353.0      1.000 22990.000      NaN 22990.000   \n",
       "                         2410.0      1.000 23990.000      NaN 23990.000   \n",
       "                         2471.0      5.000 24738.000 8470.639 17400.000   \n",
       "                         -         377.000 30126.297 7273.476 12614.000   \n",
       "\n",
       "                                         25%       50%       75%       max  \n",
       "make_model     body_type weight_kg                                          \n",
       "Audi A1        Compact   1010.0    15200.000 15450.000 15700.000 15950.000  \n",
       "                         1035.0    15892.500 15900.000 16575.000 21900.000  \n",
       "                         1040.0    19387.250 20424.500 21461.750 22499.000  \n",
       "                         1065.0    18987.500 21690.000 22400.000 23550.000  \n",
       "                         1090.0    18990.000 22450.000 22800.000 25256.000  \n",
       "...                                      ...       ...       ...       ...  \n",
       "Renault Espace Van       2037.0    47950.000 47950.000 47950.000 47950.000  \n",
       "                         2353.0    22990.000 22990.000 22990.000 22990.000  \n",
       "                         2410.0    23990.000 23990.000 23990.000 23990.000  \n",
       "                         2471.0    20900.000 20900.000 25500.000 38990.000  \n",
       "                         -         24990.000 29990.000 34950.000 68320.000  \n",
       "\n",
       "[891 rows x 8 columns]"
      ]
     },
     "execution_count": 1059,
     "metadata": {},
     "output_type": "execute_result"
    }
   ],
   "source": [
    "df.groupby([\"make_model\", \"body_type\",\"weight_kg\"]).price.describe()"
   ]
  },
  {
   "cell_type": "code",
   "execution_count": 1060,
   "metadata": {},
   "outputs": [],
   "source": [
    "df[\"weight_kg\"].replace(\"-\", np.nan, inplace=True)"
   ]
  },
  {
   "cell_type": "code",
   "execution_count": 1062,
   "metadata": {},
   "outputs": [
    {
     "name": "stdout",
     "output_type": "stream",
     "text": [
      "Number of NaN :  0\n",
      "------------------\n",
      "1163.000    1583\n",
      "1360.000    1419\n",
      "1487.000     967\n",
      "1135.000     837\n",
      "1425.000     744\n",
      "            ... \n",
      "1331.000       1\n",
      "1132.000       1\n",
      "1252.000       1\n",
      "1792.000       1\n",
      "2037.000       1\n",
      "Name: weight_kg, Length: 432, dtype: int64\n"
     ]
    }
   ],
   "source": [
    "fill(df, \"make_model\", \"body_type\", \"weight_kg\", \"mode\")"
   ]
  },
  {
   "cell_type": "markdown",
   "metadata": {},
   "source": [
    "### cons_comb column:"
   ]
  },
  {
   "cell_type": "code",
   "execution_count": 1063,
   "metadata": {},
   "outputs": [
    {
     "name": "stdout",
     "output_type": "stream",
     "text": [
      "\n",
      "Percentage of Missing Values : % 12.77\n",
      "Number of Missings           :  2033\n",
      "Number of Uniques            :  72\n",
      "Value counts                 : \n",
      "\n",
      " NaN       2033\n",
      "5.400      770\n",
      "3.900      733\n",
      "4.000      713\n",
      "5.100      657\n",
      "          ... \n",
      "33.000       1\n",
      "50.000       1\n",
      "1.000        1\n",
      "46.000       1\n",
      "11.000       1\n",
      "Name: cons_comb, Length: 73, dtype: int64\n"
     ]
    }
   ],
   "source": [
    "print('\\n''Percentage of Missing Values : %', round(\n",
    "    df['cons_comb'].isnull().sum()/df.shape[0]*100, 2))\n",
    "print(\"Number of Missings           : \",\n",
    "      df['cons_comb'].isnull().sum())\n",
    "print(\"Number of Uniques            : \", df['cons_comb'].nunique())\n",
    "print('Value counts                 : ''\\n''\\n',df['cons_comb'].value_counts(dropna=False))"
   ]
  },
  {
   "cell_type": "code",
   "execution_count": 1064,
   "metadata": {},
   "outputs": [],
   "source": [
    "cons_comb = (df[\"cons_country\"] + df[\"cons_city\"])/2"
   ]
  },
  {
   "cell_type": "code",
   "execution_count": 1065,
   "metadata": {},
   "outputs": [],
   "source": [
    "df[\"cons_comb\"] = df[\"cons_comb\"].fillna(cons_comb)"
   ]
  },
  {
   "cell_type": "code",
   "execution_count": 1066,
   "metadata": {},
   "outputs": [
    {
     "data": {
      "text/plain": [
       "NaN       1925\n",
       "5.400      770\n",
       "3.900      733\n",
       "4.000      713\n",
       "5.100      657\n",
       "          ... \n",
       "33.000       1\n",
       "50.000       1\n",
       "1.000        1\n",
       "46.000       1\n",
       "13.800       1\n",
       "Name: cons_comb, Length: 79, dtype: int64"
      ]
     },
     "execution_count": 1066,
     "metadata": {},
     "output_type": "execute_result"
    }
   ],
   "source": [
    "df[\"cons_comb\"].value_counts(dropna=False)"
   ]
  },
  {
   "cell_type": "code",
   "execution_count": 1067,
   "metadata": {},
   "outputs": [],
   "source": [
    "df[\"cons_comb\"].fillna(\"-\", inplace=True)"
   ]
  },
  {
   "cell_type": "code",
   "execution_count": 1068,
   "metadata": {},
   "outputs": [
    {
     "data": {
      "text/html": [
       "<div><div id=5e2fa231-824f-44f3-9085-fcc1080cf1a7 style=\"display:none; background-color:#9D6CFF; color:white; width:200px; height:30px; padding-left:5px; border-radius:4px; flex-direction:row; justify-content:space-around; align-items:center;\" onmouseover=\"this.style.backgroundColor='#BA9BF8'\" onmouseout=\"this.style.backgroundColor='#9D6CFF'\" onclick=\"window.commands?.execute('create-mitosheet-from-dataframe-output');\">See Full Dataframe in Mito</div> <script> if (window.commands?.hasCommand('create-mitosheet-from-dataframe-output')) document.getElementById('5e2fa231-824f-44f3-9085-fcc1080cf1a7').style.display = 'flex' </script> <table border=\"1\" class=\"dataframe\">\n",
       "  <thead>\n",
       "    <tr style=\"text-align: right;\">\n",
       "      <th></th>\n",
       "      <th></th>\n",
       "      <th></th>\n",
       "      <th>count</th>\n",
       "      <th>mean</th>\n",
       "      <th>std</th>\n",
       "      <th>min</th>\n",
       "      <th>25%</th>\n",
       "      <th>50%</th>\n",
       "      <th>75%</th>\n",
       "      <th>max</th>\n",
       "    </tr>\n",
       "    <tr>\n",
       "      <th>make_model</th>\n",
       "      <th>body_type</th>\n",
       "      <th>cons_comb</th>\n",
       "      <th></th>\n",
       "      <th></th>\n",
       "      <th></th>\n",
       "      <th></th>\n",
       "      <th></th>\n",
       "      <th></th>\n",
       "      <th></th>\n",
       "      <th></th>\n",
       "    </tr>\n",
       "  </thead>\n",
       "  <tbody>\n",
       "    <tr>\n",
       "      <th rowspan=\"5\" valign=\"top\">Audi A1</th>\n",
       "      <th rowspan=\"5\" valign=\"top\">Compact</th>\n",
       "      <th>3.0</th>\n",
       "      <td>4.000</td>\n",
       "      <td>14370.250</td>\n",
       "      <td>4481.393</td>\n",
       "      <td>11100.000</td>\n",
       "      <td>11242.500</td>\n",
       "      <td>12840.500</td>\n",
       "      <td>15968.250</td>\n",
       "      <td>20700.000</td>\n",
       "    </tr>\n",
       "    <tr>\n",
       "      <th>3.4</th>\n",
       "      <td>6.000</td>\n",
       "      <td>12755.000</td>\n",
       "      <td>900.750</td>\n",
       "      <td>11800.000</td>\n",
       "      <td>11987.500</td>\n",
       "      <td>12640.000</td>\n",
       "      <td>13570.000</td>\n",
       "      <td>13800.000</td>\n",
       "    </tr>\n",
       "    <tr>\n",
       "      <th>3.5</th>\n",
       "      <td>3.000</td>\n",
       "      <td>14613.000</td>\n",
       "      <td>1848.098</td>\n",
       "      <td>12479.000</td>\n",
       "      <td>14079.500</td>\n",
       "      <td>15680.000</td>\n",
       "      <td>15680.000</td>\n",
       "      <td>15680.000</td>\n",
       "    </tr>\n",
       "    <tr>\n",
       "      <th>3.6</th>\n",
       "      <td>5.000</td>\n",
       "      <td>13960.000</td>\n",
       "      <td>1232.071</td>\n",
       "      <td>12900.000</td>\n",
       "      <td>12900.000</td>\n",
       "      <td>13900.000</td>\n",
       "      <td>14200.000</td>\n",
       "      <td>15900.000</td>\n",
       "    </tr>\n",
       "    <tr>\n",
       "      <th>3.7</th>\n",
       "      <td>50.000</td>\n",
       "      <td>15902.200</td>\n",
       "      <td>2960.324</td>\n",
       "      <td>12900.000</td>\n",
       "      <td>13900.000</td>\n",
       "      <td>15040.000</td>\n",
       "      <td>15967.500</td>\n",
       "      <td>23500.000</td>\n",
       "    </tr>\n",
       "    <tr>\n",
       "      <th>...</th>\n",
       "      <th>...</th>\n",
       "      <th>...</th>\n",
       "      <td>...</td>\n",
       "      <td>...</td>\n",
       "      <td>...</td>\n",
       "      <td>...</td>\n",
       "      <td>...</td>\n",
       "      <td>...</td>\n",
       "      <td>...</td>\n",
       "      <td>...</td>\n",
       "    </tr>\n",
       "    <tr>\n",
       "      <th rowspan=\"5\" valign=\"top\">Renault Espace</th>\n",
       "      <th rowspan=\"5\" valign=\"top\">Van</th>\n",
       "      <th>6.8</th>\n",
       "      <td>115.000</td>\n",
       "      <td>34032.313</td>\n",
       "      <td>7847.720</td>\n",
       "      <td>25490.000</td>\n",
       "      <td>28237.500</td>\n",
       "      <td>31990.000</td>\n",
       "      <td>37470.000</td>\n",
       "      <td>58950.000</td>\n",
       "    </tr>\n",
       "    <tr>\n",
       "      <th>7.4</th>\n",
       "      <td>61.000</td>\n",
       "      <td>38163.754</td>\n",
       "      <td>6406.548</td>\n",
       "      <td>28975.000</td>\n",
       "      <td>33781.000</td>\n",
       "      <td>37475.000</td>\n",
       "      <td>39990.000</td>\n",
       "      <td>54500.000</td>\n",
       "    </tr>\n",
       "    <tr>\n",
       "      <th>7.6</th>\n",
       "      <td>14.000</td>\n",
       "      <td>52019.214</td>\n",
       "      <td>7596.268</td>\n",
       "      <td>38990.000</td>\n",
       "      <td>48387.500</td>\n",
       "      <td>51350.000</td>\n",
       "      <td>54982.000</td>\n",
       "      <td>64332.000</td>\n",
       "    </tr>\n",
       "    <tr>\n",
       "      <th>46.0</th>\n",
       "      <td>1.000</td>\n",
       "      <td>25490.000</td>\n",
       "      <td>NaN</td>\n",
       "      <td>25490.000</td>\n",
       "      <td>25490.000</td>\n",
       "      <td>25490.000</td>\n",
       "      <td>25490.000</td>\n",
       "      <td>25490.000</td>\n",
       "    </tr>\n",
       "    <tr>\n",
       "      <th>-</th>\n",
       "      <td>144.000</td>\n",
       "      <td>29865.521</td>\n",
       "      <td>6616.406</td>\n",
       "      <td>12990.000</td>\n",
       "      <td>24497.500</td>\n",
       "      <td>29990.000</td>\n",
       "      <td>33525.000</td>\n",
       "      <td>63477.000</td>\n",
       "    </tr>\n",
       "  </tbody>\n",
       "</table></div>"
      ],
      "text/plain": [
       "                                     count      mean      std       min  \\\n",
       "make_model     body_type cons_comb                                        \n",
       "Audi A1        Compact   3.0         4.000 14370.250 4481.393 11100.000   \n",
       "                         3.4         6.000 12755.000  900.750 11800.000   \n",
       "                         3.5         3.000 14613.000 1848.098 12479.000   \n",
       "                         3.6         5.000 13960.000 1232.071 12900.000   \n",
       "                         3.7        50.000 15902.200 2960.324 12900.000   \n",
       "...                                    ...       ...      ...       ...   \n",
       "Renault Espace Van       6.8       115.000 34032.313 7847.720 25490.000   \n",
       "                         7.4        61.000 38163.754 6406.548 28975.000   \n",
       "                         7.6        14.000 52019.214 7596.268 38990.000   \n",
       "                         46.0        1.000 25490.000      NaN 25490.000   \n",
       "                         -         144.000 29865.521 6616.406 12990.000   \n",
       "\n",
       "                                         25%       50%       75%       max  \n",
       "make_model     body_type cons_comb                                          \n",
       "Audi A1        Compact   3.0       11242.500 12840.500 15968.250 20700.000  \n",
       "                         3.4       11987.500 12640.000 13570.000 13800.000  \n",
       "                         3.5       14079.500 15680.000 15680.000 15680.000  \n",
       "                         3.6       12900.000 13900.000 14200.000 15900.000  \n",
       "                         3.7       13900.000 15040.000 15967.500 23500.000  \n",
       "...                                      ...       ...       ...       ...  \n",
       "Renault Espace Van       6.8       28237.500 31990.000 37470.000 58950.000  \n",
       "                         7.4       33781.000 37475.000 39990.000 54500.000  \n",
       "                         7.6       48387.500 51350.000 54982.000 64332.000  \n",
       "                         46.0      25490.000 25490.000 25490.000 25490.000  \n",
       "                         -         24497.500 29990.000 33525.000 63477.000  \n",
       "\n",
       "[582 rows x 8 columns]"
      ]
     },
     "execution_count": 1068,
     "metadata": {},
     "output_type": "execute_result"
    }
   ],
   "source": [
    "df.groupby([\"make_model\", \"body_type\",\"cons_comb\"]).price.describe()"
   ]
  },
  {
   "cell_type": "code",
   "execution_count": 1069,
   "metadata": {},
   "outputs": [
    {
     "data": {
      "text/html": [
       "<div><div id=59a404c4-2f35-41f2-82d8-1e973e248ce5 style=\"display:none; background-color:#9D6CFF; color:white; width:200px; height:30px; padding-left:5px; border-radius:4px; flex-direction:row; justify-content:space-around; align-items:center;\" onmouseover=\"this.style.backgroundColor='#BA9BF8'\" onmouseout=\"this.style.backgroundColor='#9D6CFF'\" onclick=\"window.commands?.execute('create-mitosheet-from-dataframe-output');\">See Full Dataframe in Mito</div> <script> if (window.commands?.hasCommand('create-mitosheet-from-dataframe-output')) document.getElementById('59a404c4-2f35-41f2-82d8-1e973e248ce5').style.display = 'flex' </script> <table border=\"1\" class=\"dataframe\">\n",
       "  <thead>\n",
       "    <tr style=\"text-align: right;\">\n",
       "      <th></th>\n",
       "      <th></th>\n",
       "      <th></th>\n",
       "      <th>count</th>\n",
       "      <th>mean</th>\n",
       "      <th>std</th>\n",
       "      <th>min</th>\n",
       "      <th>25%</th>\n",
       "      <th>50%</th>\n",
       "      <th>75%</th>\n",
       "      <th>max</th>\n",
       "    </tr>\n",
       "    <tr>\n",
       "      <th>make_model</th>\n",
       "      <th>age</th>\n",
       "      <th>cons_comb</th>\n",
       "      <th></th>\n",
       "      <th></th>\n",
       "      <th></th>\n",
       "      <th></th>\n",
       "      <th></th>\n",
       "      <th></th>\n",
       "      <th></th>\n",
       "      <th></th>\n",
       "    </tr>\n",
       "  </thead>\n",
       "  <tbody>\n",
       "    <tr>\n",
       "      <th rowspan=\"5\" valign=\"top\">Audi A1</th>\n",
       "      <th rowspan=\"5\" valign=\"top\">0.000</th>\n",
       "      <th>3.7</th>\n",
       "      <td>3.000</td>\n",
       "      <td>19160.000</td>\n",
       "      <td>1353.034</td>\n",
       "      <td>17900.000</td>\n",
       "      <td>18445.000</td>\n",
       "      <td>18990.000</td>\n",
       "      <td>19790.000</td>\n",
       "      <td>20590.000</td>\n",
       "    </tr>\n",
       "    <tr>\n",
       "      <th>3.8</th>\n",
       "      <td>1.000</td>\n",
       "      <td>20000.000</td>\n",
       "      <td>NaN</td>\n",
       "      <td>20000.000</td>\n",
       "      <td>20000.000</td>\n",
       "      <td>20000.000</td>\n",
       "      <td>20000.000</td>\n",
       "      <td>20000.000</td>\n",
       "    </tr>\n",
       "    <tr>\n",
       "      <th>4.0</th>\n",
       "      <td>21.000</td>\n",
       "      <td>19382.429</td>\n",
       "      <td>1978.122</td>\n",
       "      <td>16220.000</td>\n",
       "      <td>18000.000</td>\n",
       "      <td>19497.000</td>\n",
       "      <td>20344.000</td>\n",
       "      <td>22919.000</td>\n",
       "    </tr>\n",
       "    <tr>\n",
       "      <th>4.2</th>\n",
       "      <td>19.000</td>\n",
       "      <td>19333.632</td>\n",
       "      <td>2981.701</td>\n",
       "      <td>14900.000</td>\n",
       "      <td>16487.500</td>\n",
       "      <td>18775.000</td>\n",
       "      <td>21775.000</td>\n",
       "      <td>25256.000</td>\n",
       "    </tr>\n",
       "    <tr>\n",
       "      <th>4.3</th>\n",
       "      <td>6.000</td>\n",
       "      <td>20614.667</td>\n",
       "      <td>1930.760</td>\n",
       "      <td>17999.000</td>\n",
       "      <td>19510.000</td>\n",
       "      <td>20335.000</td>\n",
       "      <td>22232.500</td>\n",
       "      <td>22919.000</td>\n",
       "    </tr>\n",
       "    <tr>\n",
       "      <th>...</th>\n",
       "      <th>...</th>\n",
       "      <th>...</th>\n",
       "      <td>...</td>\n",
       "      <td>...</td>\n",
       "      <td>...</td>\n",
       "      <td>...</td>\n",
       "      <td>...</td>\n",
       "      <td>...</td>\n",
       "      <td>...</td>\n",
       "      <td>...</td>\n",
       "    </tr>\n",
       "    <tr>\n",
       "      <th rowspan=\"5\" valign=\"top\">Renault Espace</th>\n",
       "      <th rowspan=\"5\" valign=\"top\">3.000</th>\n",
       "      <th>4.7</th>\n",
       "      <td>115.000</td>\n",
       "      <td>22102.078</td>\n",
       "      <td>3195.943</td>\n",
       "      <td>13500.000</td>\n",
       "      <td>19825.000</td>\n",
       "      <td>21975.000</td>\n",
       "      <td>24900.000</td>\n",
       "      <td>30000.000</td>\n",
       "    </tr>\n",
       "    <tr>\n",
       "      <th>5.1</th>\n",
       "      <td>1.000</td>\n",
       "      <td>12990.000</td>\n",
       "      <td>NaN</td>\n",
       "      <td>12990.000</td>\n",
       "      <td>12990.000</td>\n",
       "      <td>12990.000</td>\n",
       "      <td>12990.000</td>\n",
       "      <td>12990.000</td>\n",
       "    </tr>\n",
       "    <tr>\n",
       "      <th>5.3</th>\n",
       "      <td>6.000</td>\n",
       "      <td>22811.500</td>\n",
       "      <td>3237.385</td>\n",
       "      <td>19000.000</td>\n",
       "      <td>21124.250</td>\n",
       "      <td>21695.000</td>\n",
       "      <td>24957.500</td>\n",
       "      <td>27500.000</td>\n",
       "    </tr>\n",
       "    <tr>\n",
       "      <th>6.2</th>\n",
       "      <td>26.000</td>\n",
       "      <td>23683.654</td>\n",
       "      <td>2650.266</td>\n",
       "      <td>17900.000</td>\n",
       "      <td>21950.000</td>\n",
       "      <td>23895.000</td>\n",
       "      <td>25980.000</td>\n",
       "      <td>27900.000</td>\n",
       "    </tr>\n",
       "    <tr>\n",
       "      <th>-</th>\n",
       "      <td>42.000</td>\n",
       "      <td>22702.619</td>\n",
       "      <td>3427.571</td>\n",
       "      <td>12990.000</td>\n",
       "      <td>21108.750</td>\n",
       "      <td>22990.000</td>\n",
       "      <td>24365.000</td>\n",
       "      <td>32900.000</td>\n",
       "    </tr>\n",
       "  </tbody>\n",
       "</table></div>"
      ],
      "text/plain": [
       "                                 count      mean      std       min       25%  \\\n",
       "make_model     age   cons_comb                                                  \n",
       "Audi A1        0.000 3.7         3.000 19160.000 1353.034 17900.000 18445.000   \n",
       "                     3.8         1.000 20000.000      NaN 20000.000 20000.000   \n",
       "                     4.0        21.000 19382.429 1978.122 16220.000 18000.000   \n",
       "                     4.2        19.000 19333.632 2981.701 14900.000 16487.500   \n",
       "                     4.3         6.000 20614.667 1930.760 17999.000 19510.000   \n",
       "...                                ...       ...      ...       ...       ...   \n",
       "Renault Espace 3.000 4.7       115.000 22102.078 3195.943 13500.000 19825.000   \n",
       "                     5.1         1.000 12990.000      NaN 12990.000 12990.000   \n",
       "                     5.3         6.000 22811.500 3237.385 19000.000 21124.250   \n",
       "                     6.2        26.000 23683.654 2650.266 17900.000 21950.000   \n",
       "                     -          42.000 22702.619 3427.571 12990.000 21108.750   \n",
       "\n",
       "                                     50%       75%       max  \n",
       "make_model     age   cons_comb                                \n",
       "Audi A1        0.000 3.7       18990.000 19790.000 20590.000  \n",
       "                     3.8       20000.000 20000.000 20000.000  \n",
       "                     4.0       19497.000 20344.000 22919.000  \n",
       "                     4.2       18775.000 21775.000 25256.000  \n",
       "                     4.3       20335.000 22232.500 22919.000  \n",
       "...                                  ...       ...       ...  \n",
       "Renault Espace 3.000 4.7       21975.000 24900.000 30000.000  \n",
       "                     5.1       12990.000 12990.000 12990.000  \n",
       "                     5.3       21695.000 24957.500 27500.000  \n",
       "                     6.2       23895.000 25980.000 27900.000  \n",
       "                     -         22990.000 24365.000 32900.000  \n",
       "\n",
       "[688 rows x 8 columns]"
      ]
     },
     "execution_count": 1069,
     "metadata": {},
     "output_type": "execute_result"
    }
   ],
   "source": [
    "df.groupby([\"make_model\", \"age\",\"cons_comb\"]).price.describe()"
   ]
  },
  {
   "cell_type": "code",
   "execution_count": 1070,
   "metadata": {},
   "outputs": [
    {
     "data": {
      "text/html": [
       "<div><div id=046a68b3-c1ed-4586-b760-2e77cf004e8b style=\"display:none; background-color:#9D6CFF; color:white; width:200px; height:30px; padding-left:5px; border-radius:4px; flex-direction:row; justify-content:space-around; align-items:center;\" onmouseover=\"this.style.backgroundColor='#BA9BF8'\" onmouseout=\"this.style.backgroundColor='#9D6CFF'\" onclick=\"window.commands?.execute('create-mitosheet-from-dataframe-output');\">See Full Dataframe in Mito</div> <script> if (window.commands?.hasCommand('create-mitosheet-from-dataframe-output')) document.getElementById('046a68b3-c1ed-4586-b760-2e77cf004e8b').style.display = 'flex' </script> <table border=\"1\" class=\"dataframe\">\n",
       "  <thead>\n",
       "    <tr style=\"text-align: right;\">\n",
       "      <th></th>\n",
       "      <th></th>\n",
       "      <th>count</th>\n",
       "      <th>mean</th>\n",
       "      <th>std</th>\n",
       "      <th>min</th>\n",
       "      <th>25%</th>\n",
       "      <th>50%</th>\n",
       "      <th>75%</th>\n",
       "      <th>max</th>\n",
       "    </tr>\n",
       "    <tr>\n",
       "      <th>body_type</th>\n",
       "      <th>cons_comb</th>\n",
       "      <th></th>\n",
       "      <th></th>\n",
       "      <th></th>\n",
       "      <th></th>\n",
       "      <th></th>\n",
       "      <th></th>\n",
       "      <th></th>\n",
       "      <th></th>\n",
       "    </tr>\n",
       "  </thead>\n",
       "  <tbody>\n",
       "    <tr>\n",
       "      <th rowspan=\"5\" valign=\"top\">Compact</th>\n",
       "      <th>3.0</th>\n",
       "      <td>46.000</td>\n",
       "      <td>12006.826</td>\n",
       "      <td>3959.654</td>\n",
       "      <td>5490.000</td>\n",
       "      <td>8990.000</td>\n",
       "      <td>11022.500</td>\n",
       "      <td>14801.500</td>\n",
       "      <td>21400.000</td>\n",
       "    </tr>\n",
       "    <tr>\n",
       "      <th>3.1</th>\n",
       "      <td>1.000</td>\n",
       "      <td>10900.000</td>\n",
       "      <td>NaN</td>\n",
       "      <td>10900.000</td>\n",
       "      <td>10900.000</td>\n",
       "      <td>10900.000</td>\n",
       "      <td>10900.000</td>\n",
       "      <td>10900.000</td>\n",
       "    </tr>\n",
       "    <tr>\n",
       "      <th>3.2</th>\n",
       "      <td>3.000</td>\n",
       "      <td>9706.000</td>\n",
       "      <td>269.941</td>\n",
       "      <td>9450.000</td>\n",
       "      <td>9565.000</td>\n",
       "      <td>9680.000</td>\n",
       "      <td>9834.000</td>\n",
       "      <td>9988.000</td>\n",
       "    </tr>\n",
       "    <tr>\n",
       "      <th>3.3</th>\n",
       "      <td>59.000</td>\n",
       "      <td>8430.458</td>\n",
       "      <td>1340.129</td>\n",
       "      <td>5890.000</td>\n",
       "      <td>7825.000</td>\n",
       "      <td>7950.000</td>\n",
       "      <td>8899.500</td>\n",
       "      <td>12990.000</td>\n",
       "    </tr>\n",
       "    <tr>\n",
       "      <th>3.4</th>\n",
       "      <td>13.000</td>\n",
       "      <td>12404.538</td>\n",
       "      <td>1993.513</td>\n",
       "      <td>8450.000</td>\n",
       "      <td>10999.000</td>\n",
       "      <td>12400.000</td>\n",
       "      <td>13800.000</td>\n",
       "      <td>15950.000</td>\n",
       "    </tr>\n",
       "    <tr>\n",
       "      <th>...</th>\n",
       "      <th>...</th>\n",
       "      <td>...</td>\n",
       "      <td>...</td>\n",
       "      <td>...</td>\n",
       "      <td>...</td>\n",
       "      <td>...</td>\n",
       "      <td>...</td>\n",
       "      <td>...</td>\n",
       "      <td>...</td>\n",
       "    </tr>\n",
       "    <tr>\n",
       "      <th rowspan=\"5\" valign=\"top\">Van</th>\n",
       "      <th>6.8</th>\n",
       "      <td>115.000</td>\n",
       "      <td>34032.313</td>\n",
       "      <td>7847.720</td>\n",
       "      <td>25490.000</td>\n",
       "      <td>28237.500</td>\n",
       "      <td>31990.000</td>\n",
       "      <td>37470.000</td>\n",
       "      <td>58950.000</td>\n",
       "    </tr>\n",
       "    <tr>\n",
       "      <th>7.4</th>\n",
       "      <td>61.000</td>\n",
       "      <td>38163.754</td>\n",
       "      <td>6406.548</td>\n",
       "      <td>28975.000</td>\n",
       "      <td>33781.000</td>\n",
       "      <td>37475.000</td>\n",
       "      <td>39990.000</td>\n",
       "      <td>54500.000</td>\n",
       "    </tr>\n",
       "    <tr>\n",
       "      <th>7.6</th>\n",
       "      <td>14.000</td>\n",
       "      <td>52019.214</td>\n",
       "      <td>7596.268</td>\n",
       "      <td>38990.000</td>\n",
       "      <td>48387.500</td>\n",
       "      <td>51350.000</td>\n",
       "      <td>54982.000</td>\n",
       "      <td>64332.000</td>\n",
       "    </tr>\n",
       "    <tr>\n",
       "      <th>46.0</th>\n",
       "      <td>1.000</td>\n",
       "      <td>25490.000</td>\n",
       "      <td>NaN</td>\n",
       "      <td>25490.000</td>\n",
       "      <td>25490.000</td>\n",
       "      <td>25490.000</td>\n",
       "      <td>25490.000</td>\n",
       "      <td>25490.000</td>\n",
       "    </tr>\n",
       "    <tr>\n",
       "      <th>-</th>\n",
       "      <td>150.000</td>\n",
       "      <td>29238.100</td>\n",
       "      <td>7356.305</td>\n",
       "      <td>7900.000</td>\n",
       "      <td>24445.000</td>\n",
       "      <td>29925.000</td>\n",
       "      <td>32933.750</td>\n",
       "      <td>63477.000</td>\n",
       "    </tr>\n",
       "  </tbody>\n",
       "</table></div>"
      ],
      "text/plain": [
       "                      count      mean      std       min       25%       50%  \\\n",
       "body_type cons_comb                                                            \n",
       "Compact   3.0        46.000 12006.826 3959.654  5490.000  8990.000 11022.500   \n",
       "          3.1         1.000 10900.000      NaN 10900.000 10900.000 10900.000   \n",
       "          3.2         3.000  9706.000  269.941  9450.000  9565.000  9680.000   \n",
       "          3.3        59.000  8430.458 1340.129  5890.000  7825.000  7950.000   \n",
       "          3.4        13.000 12404.538 1993.513  8450.000 10999.000 12400.000   \n",
       "...                     ...       ...      ...       ...       ...       ...   \n",
       "Van       6.8       115.000 34032.313 7847.720 25490.000 28237.500 31990.000   \n",
       "          7.4        61.000 38163.754 6406.548 28975.000 33781.000 37475.000   \n",
       "          7.6        14.000 52019.214 7596.268 38990.000 48387.500 51350.000   \n",
       "          46.0        1.000 25490.000      NaN 25490.000 25490.000 25490.000   \n",
       "          -         150.000 29238.100 7356.305  7900.000 24445.000 29925.000   \n",
       "\n",
       "                          75%       max  \n",
       "body_type cons_comb                      \n",
       "Compact   3.0       14801.500 21400.000  \n",
       "          3.1       10900.000 10900.000  \n",
       "          3.2        9834.000  9988.000  \n",
       "          3.3        8899.500 12990.000  \n",
       "          3.4       13800.000 15950.000  \n",
       "...                       ...       ...  \n",
       "Van       6.8       37470.000 58950.000  \n",
       "          7.4       39990.000 54500.000  \n",
       "          7.6       54982.000 64332.000  \n",
       "          46.0      25490.000 25490.000  \n",
       "          -         32933.750 63477.000  \n",
       "\n",
       "[228 rows x 8 columns]"
      ]
     },
     "execution_count": 1070,
     "metadata": {},
     "output_type": "execute_result"
    }
   ],
   "source": [
    "df.groupby([\"body_type\",\"cons_comb\"]).price.describe()"
   ]
  },
  {
   "cell_type": "code",
   "execution_count": 1071,
   "metadata": {},
   "outputs": [],
   "source": [
    "df[\"cons_comb\"].replace([0.0, 1.0, 1.2, 1.6, 10, 11, 13.8, 32.0, 33.0, 38.0,\n",
    "                        40.0, 43.0, 46.0, 50.0, 51.0, 54.0, 55.0, \"-\"], np.nan, inplace=True)\n"
   ]
  },
  {
   "cell_type": "code",
   "execution_count": 1072,
   "metadata": {},
   "outputs": [
    {
     "data": {
      "text/plain": [
       "NaN      1983\n",
       "5.400     770\n",
       "3.900     733\n",
       "4.000     713\n",
       "5.100     657\n",
       "         ... \n",
       "5.450       2\n",
       "8.100       2\n",
       "7.500       1\n",
       "9.100       1\n",
       "4.550       1\n",
       "Name: cons_comb, Length: 62, dtype: int64"
      ]
     },
     "execution_count": 1072,
     "metadata": {},
     "output_type": "execute_result"
    }
   ],
   "source": [
    "df[\"cons_comb\"].value_counts(dropna=False)\n"
   ]
  },
  {
   "cell_type": "code",
   "execution_count": 1073,
   "metadata": {},
   "outputs": [
    {
     "name": "stdout",
     "output_type": "stream",
     "text": [
      "Number of NaN :  0\n",
      "------------------\n",
      "4.000    1020\n",
      "5.600     965\n",
      "5.400     900\n",
      "5.000     810\n",
      "4.700     766\n",
      "         ... \n",
      "8.100       2\n",
      "4.550       2\n",
      "7.500       1\n",
      "9.100       1\n",
      "4.300       1\n",
      "Name: cons_comb, Length: 63, dtype: int64\n"
     ]
    }
   ],
   "source": [
    "fill(df, \"make_model\", \"body_type\", \"cons_comb\", \"median\")"
   ]
  },
  {
   "cell_type": "markdown",
   "metadata": {},
   "source": [
    "I will continue with the cons_comb column, so I no longer need the cons_city and cons_coutry columns."
   ]
  },
  {
   "cell_type": "code",
   "execution_count": 1074,
   "metadata": {},
   "outputs": [],
   "source": [
    "df.drop(['cons_city', 'cons_country'], axis=1, inplace=True)\n"
   ]
  },
  {
   "cell_type": "code",
   "execution_count": 1075,
   "metadata": {},
   "outputs": [],
   "source": [
    "df.drop(['next_inspection', 'cylinders', 'consumption',\n",
    "        'co2_emission', 'emission_class'], axis=1, inplace=True)\n"
   ]
  },
  {
   "cell_type": "markdown",
   "metadata": {},
   "source": [
    "I think the weight_kg column also has no effect on the price, but for now I'm not dropping it."
   ]
  },
  {
   "cell_type": "code",
   "execution_count": 1076,
   "metadata": {},
   "outputs": [
    {
     "data": {
      "text/plain": [
       "Index(['make_model', 'body_type', 'price', 'vat', 'km', 'previous_owners',\n",
       "       'inspection_new', 'paint_type', 'num_of_doors', 'num_of_seats',\n",
       "       'gearing_type', 'drive_chain', 'fuel', 'comfort_convenience',\n",
       "       'entertainment_media', 'extras', 'safety_security', 'gears', 'age',\n",
       "       'hp_kw', 'type', 'upholstery_type', 'upholstery_color',\n",
       "       'displacement_cc', 'weight_kg', 'cons_comb'],\n",
       "      dtype='object')"
      ]
     },
     "execution_count": 1076,
     "metadata": {},
     "output_type": "execute_result"
    }
   ],
   "source": [
    "df.columns"
   ]
  },
  {
   "cell_type": "code",
   "execution_count": 1077,
   "metadata": {},
   "outputs": [
    {
     "data": {
      "text/plain": [
       "(15919, 26)"
      ]
     },
     "execution_count": 1077,
     "metadata": {},
     "output_type": "execute_result"
    }
   ],
   "source": [
    "df.shape"
   ]
  },
  {
   "cell_type": "code",
   "execution_count": 1078,
   "metadata": {},
   "outputs": [
    {
     "data": {
      "text/plain": [
       "make_model            0.000\n",
       "body_type             0.000\n",
       "price                 0.000\n",
       "vat                   0.000\n",
       "km                    0.000\n",
       "previous_owners       0.000\n",
       "inspection_new        0.000\n",
       "paint_type            0.000\n",
       "num_of_doors          0.000\n",
       "num_of_seats          0.000\n",
       "gearing_type          0.000\n",
       "drive_chain           0.000\n",
       "fuel                  0.000\n",
       "comfort_convenience   0.000\n",
       "entertainment_media   0.000\n",
       "extras                0.000\n",
       "safety_security       0.000\n",
       "gears                 0.000\n",
       "age                   0.000\n",
       "hp_kw                 0.000\n",
       "type                  0.000\n",
       "upholstery_type       0.000\n",
       "upholstery_color      0.000\n",
       "displacement_cc       0.000\n",
       "weight_kg             0.000\n",
       "cons_comb             0.000\n",
       "dtype: float64"
      ]
     },
     "execution_count": 1078,
     "metadata": {},
     "output_type": "execute_result"
    }
   ],
   "source": [
    "df.isnull().sum()/df.shape[0]*100\n"
   ]
  },
  {
   "cell_type": "code",
   "execution_count": 1079,
   "metadata": {},
   "outputs": [],
   "source": [
    "df.to_csv(\"autoscout_filled.csv\", index=False)\n"
   ]
  },
  {
   "cell_type": "code",
   "execution_count": 1080,
   "metadata": {},
   "outputs": [
    {
     "data": {
      "text/html": [
       "<div><div id=71f414b8-2b81-4ebe-b381-e03ea5d05d49 style=\"display:none; background-color:#9D6CFF; color:white; width:200px; height:30px; padding-left:5px; border-radius:4px; flex-direction:row; justify-content:space-around; align-items:center;\" onmouseover=\"this.style.backgroundColor='#BA9BF8'\" onmouseout=\"this.style.backgroundColor='#9D6CFF'\" onclick=\"window.commands?.execute('create-mitosheet-from-dataframe-output');\">See Full Dataframe in Mito</div> <script> if (window.commands?.hasCommand('create-mitosheet-from-dataframe-output')) document.getElementById('71f414b8-2b81-4ebe-b381-e03ea5d05d49').style.display = 'flex' </script> <table border=\"1\" class=\"dataframe\">\n",
       "  <thead>\n",
       "    <tr style=\"text-align: right;\">\n",
       "      <th></th>\n",
       "      <th>make_model</th>\n",
       "      <th>body_type</th>\n",
       "      <th>price</th>\n",
       "      <th>vat</th>\n",
       "      <th>km</th>\n",
       "      <th>previous_owners</th>\n",
       "      <th>inspection_new</th>\n",
       "      <th>paint_type</th>\n",
       "      <th>num_of_doors</th>\n",
       "      <th>num_of_seats</th>\n",
       "      <th>...</th>\n",
       "      <th>safety_security</th>\n",
       "      <th>gears</th>\n",
       "      <th>age</th>\n",
       "      <th>hp_kw</th>\n",
       "      <th>type</th>\n",
       "      <th>upholstery_type</th>\n",
       "      <th>upholstery_color</th>\n",
       "      <th>displacement_cc</th>\n",
       "      <th>weight_kg</th>\n",
       "      <th>cons_comb</th>\n",
       "    </tr>\n",
       "  </thead>\n",
       "  <tbody>\n",
       "    <tr>\n",
       "      <th>0</th>\n",
       "      <td>Audi A1</td>\n",
       "      <td>Sedans</td>\n",
       "      <td>15770</td>\n",
       "      <td>VAT deductible</td>\n",
       "      <td>56013.000</td>\n",
       "      <td>2.000</td>\n",
       "      <td>1</td>\n",
       "      <td>Metallic</td>\n",
       "      <td>5.000</td>\n",
       "      <td>5.000</td>\n",
       "      <td>...</td>\n",
       "      <td>ABS, Central door lock, Daytime running lights, Driver-side airbag, Electronic stability control, Fog lights, Immobilizer, Isofix, Passenger-side airbag, Power steering, Side airbag, Tire pressure monitoring system, Traction control, Xenon headlights</td>\n",
       "      <td>7.000</td>\n",
       "      <td>3.000</td>\n",
       "      <td>66.000</td>\n",
       "      <td>Used</td>\n",
       "      <td>Cloth</td>\n",
       "      <td>Black</td>\n",
       "      <td>1422.000</td>\n",
       "      <td>1220.000</td>\n",
       "      <td>3.800</td>\n",
       "    </tr>\n",
       "    <tr>\n",
       "      <th>1</th>\n",
       "      <td>Audi A1</td>\n",
       "      <td>Sedans</td>\n",
       "      <td>14500</td>\n",
       "      <td>Price negotiable</td>\n",
       "      <td>80000.000</td>\n",
       "      <td>1.000</td>\n",
       "      <td>0</td>\n",
       "      <td>Metallic</td>\n",
       "      <td>3.000</td>\n",
       "      <td>4.000</td>\n",
       "      <td>...</td>\n",
       "      <td>ABS, Central door lock, Central door lock with remote control, Daytime running lights, Driver-side airbag, Electronic stability control, Head airbag, Immobilizer, Isofix, Passenger-side airbag, Power steering, Side airbag, Tire pressure monitoring system, Traction control, Xenon headlights</td>\n",
       "      <td>7.000</td>\n",
       "      <td>2.000</td>\n",
       "      <td>141.000</td>\n",
       "      <td>Used</td>\n",
       "      <td>Cloth</td>\n",
       "      <td>Grey</td>\n",
       "      <td>1798.000</td>\n",
       "      <td>1255.000</td>\n",
       "      <td>5.600</td>\n",
       "    </tr>\n",
       "    <tr>\n",
       "      <th>2</th>\n",
       "      <td>Audi A1</td>\n",
       "      <td>Sedans</td>\n",
       "      <td>14640</td>\n",
       "      <td>VAT deductible</td>\n",
       "      <td>83450.000</td>\n",
       "      <td>1.000</td>\n",
       "      <td>0</td>\n",
       "      <td>Metallic</td>\n",
       "      <td>4.000</td>\n",
       "      <td>4.000</td>\n",
       "      <td>...</td>\n",
       "      <td>ABS, Central door lock, Daytime running lights, Driver-side airbag, Electronic stability control, Immobilizer, Isofix, Passenger-side airbag, Power steering, Side airbag, Tire pressure monitoring system, Traction control</td>\n",
       "      <td>7.000</td>\n",
       "      <td>3.000</td>\n",
       "      <td>85.000</td>\n",
       "      <td>Used</td>\n",
       "      <td>Cloth</td>\n",
       "      <td>Black</td>\n",
       "      <td>1598.000</td>\n",
       "      <td>1135.000</td>\n",
       "      <td>3.800</td>\n",
       "    </tr>\n",
       "    <tr>\n",
       "      <th>3</th>\n",
       "      <td>Audi A1</td>\n",
       "      <td>Sedans</td>\n",
       "      <td>14500</td>\n",
       "      <td>VAT deductible</td>\n",
       "      <td>73000.000</td>\n",
       "      <td>1.000</td>\n",
       "      <td>0</td>\n",
       "      <td>Metallic</td>\n",
       "      <td>3.000</td>\n",
       "      <td>4.000</td>\n",
       "      <td>...</td>\n",
       "      <td>ABS, Alarm system, Central door lock with remote control, Driver drowsiness detection, Driver-side airbag, Electronic stability control, Emergency system, Head airbag, Immobilizer, Isofix, Passenger-side airbag, Power steering, Side airbag, Tire pressure monitoring system</td>\n",
       "      <td>6.000</td>\n",
       "      <td>3.000</td>\n",
       "      <td>66.000</td>\n",
       "      <td>Used</td>\n",
       "      <td>Cloth</td>\n",
       "      <td>Black</td>\n",
       "      <td>1422.000</td>\n",
       "      <td>1195.000</td>\n",
       "      <td>3.800</td>\n",
       "    </tr>\n",
       "    <tr>\n",
       "      <th>4</th>\n",
       "      <td>Audi A1</td>\n",
       "      <td>Sedans</td>\n",
       "      <td>16790</td>\n",
       "      <td>VAT deductible</td>\n",
       "      <td>16200.000</td>\n",
       "      <td>1.000</td>\n",
       "      <td>1</td>\n",
       "      <td>Metallic</td>\n",
       "      <td>5.000</td>\n",
       "      <td>5.000</td>\n",
       "      <td>...</td>\n",
       "      <td>ABS, Central door lock, Driver-side airbag, Electronic stability control, Fog lights, Immobilizer, Isofix, Passenger-side airbag, Power steering, Side airbag, Tire pressure monitoring system, Traction control, Xenon headlights</td>\n",
       "      <td>7.000</td>\n",
       "      <td>3.000</td>\n",
       "      <td>66.000</td>\n",
       "      <td>Used</td>\n",
       "      <td>Cloth</td>\n",
       "      <td>Black</td>\n",
       "      <td>1422.000</td>\n",
       "      <td>1135.000</td>\n",
       "      <td>4.100</td>\n",
       "    </tr>\n",
       "  </tbody>\n",
       "</table></div>"
      ],
      "text/plain": [
       "  make_model body_type  price               vat        km  previous_owners  \\\n",
       "0    Audi A1    Sedans  15770    VAT deductible 56013.000            2.000   \n",
       "1    Audi A1    Sedans  14500  Price negotiable 80000.000            1.000   \n",
       "2    Audi A1    Sedans  14640    VAT deductible 83450.000            1.000   \n",
       "3    Audi A1    Sedans  14500    VAT deductible 73000.000            1.000   \n",
       "4    Audi A1    Sedans  16790    VAT deductible 16200.000            1.000   \n",
       "\n",
       "   inspection_new paint_type  num_of_doors  num_of_seats  ...  \\\n",
       "0               1   Metallic         5.000         5.000  ...   \n",
       "1               0   Metallic         3.000         4.000  ...   \n",
       "2               0   Metallic         4.000         4.000  ...   \n",
       "3               0   Metallic         3.000         4.000  ...   \n",
       "4               1   Metallic         5.000         5.000  ...   \n",
       "\n",
       "                                     safety_security gears   age   hp_kw  \\\n",
       "0  ABS, Central door lock, Daytime running lights... 7.000 3.000  66.000   \n",
       "1  ABS, Central door lock, Central door lock with... 7.000 2.000 141.000   \n",
       "2  ABS, Central door lock, Daytime running lights... 7.000 3.000  85.000   \n",
       "3  ABS, Alarm system, Central door lock with remo... 6.000 3.000  66.000   \n",
       "4  ABS, Central door lock, Driver-side airbag, El... 7.000 3.000  66.000   \n",
       "\n",
       "   type upholstery_type upholstery_color  displacement_cc  weight_kg  \\\n",
       "0  Used           Cloth            Black         1422.000   1220.000   \n",
       "1  Used           Cloth             Grey         1798.000   1255.000   \n",
       "2  Used           Cloth            Black         1598.000   1135.000   \n",
       "3  Used           Cloth            Black         1422.000   1195.000   \n",
       "4  Used           Cloth            Black         1422.000   1135.000   \n",
       "\n",
       "   cons_comb  \n",
       "0      3.800  \n",
       "1      5.600  \n",
       "2      3.800  \n",
       "3      3.800  \n",
       "4      4.100  \n",
       "\n",
       "[5 rows x 26 columns]"
      ]
     },
     "execution_count": 1080,
     "metadata": {},
     "output_type": "execute_result"
    }
   ],
   "source": [
    "df2=pd.read_csv(\"autoscout_filled.csv\")\n",
    "df2.head()"
   ]
  },
  {
   "cell_type": "code",
   "execution_count": 1081,
   "metadata": {},
   "outputs": [
    {
     "data": {
      "text/plain": [
       "(15919, 26)"
      ]
     },
     "execution_count": 1081,
     "metadata": {},
     "output_type": "execute_result"
    }
   ],
   "source": [
    "df2.shape"
   ]
  }
 ],
 "metadata": {
  "kernelspec": {
   "display_name": "Python 3 (ipykernel)",
   "language": "python",
   "name": "python3"
  },
  "language_info": {
   "codemirror_mode": {
    "name": "ipython",
    "version": 3
   },
   "file_extension": ".py",
   "mimetype": "text/x-python",
   "name": "python",
   "nbconvert_exporter": "python",
   "pygments_lexer": "ipython3",
   "version": "3.10.2"
  },
  "toc": {
   "base_numbering": 1,
   "nav_menu": {},
   "number_sections": true,
   "sideBar": true,
   "skip_h1_title": false,
   "title_cell": "Table of Contents",
   "title_sidebar": "Contents",
   "toc_cell": false,
   "toc_position": {},
   "toc_section_display": true,
   "toc_window_display": false
  },
  "varInspector": {
   "cols": {
    "lenName": 16,
    "lenType": 16,
    "lenVar": 40
   },
   "kernels_config": {
    "python": {
     "delete_cmd_postfix": "",
     "delete_cmd_prefix": "del ",
     "library": "var_list.py",
     "varRefreshCmd": "print(var_dic_list())"
    },
    "r": {
     "delete_cmd_postfix": ") ",
     "delete_cmd_prefix": "rm(",
     "library": "var_list.r",
     "varRefreshCmd": "cat(var_dic_list()) "
    }
   },
   "types_to_exclude": [
    "module",
    "function",
    "builtin_function_or_method",
    "instance",
    "_Feature"
   ],
   "window_display": false
  },
  "vscode": {
   "interpreter": {
    "hash": "98584c38ed116f8b73e30908de65f58faa33dc16850ade785a44bbf161aefee9"
   }
  }
 },
 "nbformat": 4,
 "nbformat_minor": 2
}
