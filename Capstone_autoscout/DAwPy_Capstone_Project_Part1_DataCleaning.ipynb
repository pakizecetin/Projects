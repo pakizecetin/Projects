{
 "cells": [
  {
   "cell_type": "markdown",
   "metadata": {
    "id": "Bv1I7_aas1L3"
   },
   "source": [
    "___\n",
    "\n",
    "<p style=\"text-align: center;\"><img src=\"https://docs.google.com/uc?id=1lY0Uj5R04yMY3-ZppPWxqCr5pvBLYPnV\" class=\"img-fluid\" \n",
    "alt=\"CLRSWY\"></p>\n",
    "\n",
    "## <p style=\"background-color:#FDFEFE; font-family:newtimeroman; color:#9d4f8c; font-size:100%; text-align:center; border-radius:10px 10px;\">WAY TO REINVENT YOURSELF</p>"
   ]
  },
  {
   "cell_type": "markdown",
   "metadata": {
    "id": "Bkw3_pB0s1L-"
   },
   "source": [
    "<img src=https://i.ibb.co/wJW61Y2/Used-cars.jpg width=\"700\" height=\"200\">\n",
    "\n",
    "## <p style=\"background-color:#FDFEFE; font-family:newtimeroman; color:#060108; font-size:200%; text-align:center; border-radius:10px 10px;\">The Capstone Project of Data Analytics Module</p>\n",
    "\n",
    "## <p style=\"background-color:#FDFEFE; font-family:newtimeroman; color:#060108; font-size:150%; text-align:center; border-radius:10px 10px;\">Car Price Prediction EDA</p>"
   ]
  },
  {
   "cell_type": "markdown",
   "metadata": {
    "id": "Z_oWczxZs1MA"
   },
   "source": [
    "## Introduction\n",
    "Welcome to \"***AutoScout Data Analysis Project***\". This is the capstone project of ***Data Analysis*** Module. **Auto Scout** data which using for this project, scraped from the on-line car trading company in 2019, contains many features of 9 different car models. In this project, you will have the opportunity to apply many commonly used algorithms for Data Cleaning and Exploratory Data Analysis by using many Python libraries such as Numpy, Pandas, Matplotlib, Seaborn, Scipy you will analyze clean dataset.\n",
    "\n",
    "### Some Reminders on Exploratory data analysis (EDA)\n",
    "\n",
    "Exploratory data analysis (EDA) is an especially important activity in the routine of a data analyst or scientist. It enables an in depth understanding of the dataset, define or discard hypotheses and create predictive models on a solid basis. It uses data manipulation techniques and several statistical tools to describe and understand the relationship between variables and how these can impact business. By means of EDA, we can obtain meaningful insights that can impact analysis under the following questions (If a checklist is good enough for pilots to use every flight, it’s good enough for data scientists to use with every dataset).\n",
    "1. What question are you trying to solve (or prove wrong)?\n",
    "2. What kind of data do you have?\n",
    "3. What’s missing from the data?\n",
    "4. Where are the outliers?\n",
    "5. How can you add, change or remove features to get more out of your data?\n",
    "\n",
    "**``Exploratory data analysis (EDA)``** is often an **iterative brainstorming process** where you pose a question, review the data, and develop further questions to investigate before beginning model development work. The image below shows how the brainstorming phase is connected with that of understanding the variables and how this in turn is connected again with the brainstorming phase.<br>\n",
    "\n",
    "<img src=https://i.ibb.co/k0MC950/EDA-Process.png width=\"300\" height=\"100\">\n",
    "\n",
    "[Image Credit: Andrew D.](https://towardsdatascience.com/exploratory-data-analysis-in-python-a-step-by-step-process-d0dfa6bf94ee)\n",
    "\n",
    "**``In this context, the project consists of 3 parts in general:``**\n",
    "* **The first part** is related to 'Data Cleaning'. It deals with Incorrect Headers, Incorrect Format, Anomalies, and Dropping useless columns.\n",
    "* **The second part** is related to 'Filling Data', in other words 'Imputation'. It deals with Missing Values. Categorical to numeric transformation is done as well.\n",
    "* **The third part** is related to 'Handling Outliers of Data' via Visualization libraries. So, some insights will be extracted.\n",
    "\n",
    "**``NOTE:``**  However, you are free to create your own style. You do NOT have to stick to the steps above. Nevertheless, we, the DA & DV instructors, recommend you study each part separately to create a source notebook for your further studies. "
   ]
  },
  {
   "cell_type": "markdown",
   "metadata": {
    "id": "vvgJ5KWTs1MB"
   },
   "source": [
    "# PART- 1 `( Data Cleaning )`"
   ]
  },
  {
   "cell_type": "code",
   "execution_count": 74,
   "metadata": {
    "id": "Y13_gId7s1MC"
   },
   "outputs": [],
   "source": [
    "import numpy as np\n",
    "import pandas as pd\n",
    "import matplotlib.pyplot as plt\n",
    "import seaborn as sns\n",
    "import json"
   ]
  },
  {
   "cell_type": "code",
   "execution_count": 75,
   "metadata": {},
   "outputs": [],
   "source": [
    "df0 = pd.read_json(\"scout_car.json\", lines=True)\n",
    "# lines = True --> Provides to read.json file line by line."
   ]
  },
  {
   "cell_type": "code",
   "execution_count": 76,
   "metadata": {},
   "outputs": [
    {
     "data": {
      "text/html": [
       "<div><div id=d2d711ad-1f77-451a-9761-c72dd1be4f3b style=\"display:none; background-color:#9D6CFF; color:white; width:200px; height:30px; padding-left:5px; border-radius:4px; flex-direction:row; justify-content:space-around; align-items:center;\" onmouseover=\"this.style.backgroundColor='#BA9BF8'\" onmouseout=\"this.style.backgroundColor='#9D6CFF'\" onclick=\"window.commands?.execute('create-mitosheet-from-dataframe-output');\">See Full Dataframe in Mito</div> <script> if (window.commands?.hasCommand('create-mitosheet-from-dataframe-output')) document.getElementById('d2d711ad-1f77-451a-9761-c72dd1be4f3b').style.display = 'flex' </script> <table border=\"1\" class=\"dataframe\">\n",
       "  <thead>\n",
       "    <tr style=\"text-align: right;\">\n",
       "      <th></th>\n",
       "      <th>url</th>\n",
       "      <th>make_model</th>\n",
       "      <th>short_description</th>\n",
       "      <th>body_type</th>\n",
       "      <th>price</th>\n",
       "      <th>vat</th>\n",
       "      <th>km</th>\n",
       "      <th>registration</th>\n",
       "      <th>prev_owner</th>\n",
       "      <th>kW</th>\n",
       "      <th>...</th>\n",
       "      <th>description</th>\n",
       "      <th>Emission Label</th>\n",
       "      <th>Gears</th>\n",
       "      <th>Country version</th>\n",
       "      <th>Electricity consumption</th>\n",
       "      <th>Last Service Date</th>\n",
       "      <th>Other Fuel Types</th>\n",
       "      <th>Availability</th>\n",
       "      <th>Last Timing Belt Service Date</th>\n",
       "      <th>Available from</th>\n",
       "    </tr>\n",
       "  </thead>\n",
       "  <tbody>\n",
       "    <tr>\n",
       "      <th>0</th>\n",
       "      <td>https://www.autoscout24.com//offers/audi-a1-sportback-1-4-tdi-s-tronic-xenon-navi-klima-diesel-black-bdab349a-caa5-41b0-98eb-c1345b84445e</td>\n",
       "      <td>Audi A1</td>\n",
       "      <td>Sportback 1.4 TDI S-tronic Xenon Navi Klima</td>\n",
       "      <td>Sedans</td>\n",
       "      <td>15770</td>\n",
       "      <td>VAT deductible</td>\n",
       "      <td>56,013 km</td>\n",
       "      <td>01/2016</td>\n",
       "      <td>2 previous owners</td>\n",
       "      <td>NaN</td>\n",
       "      <td>...</td>\n",
       "      <td>[\\n, Sicherheit:,  , Deaktivierung für Beifahrer-Airbag,  , ESC mit elektronischer Quersperre,  , Tagfahrlicht,  , Reifendruck-Kontrollanzeige,  , Kopfairbag-System mit Seiten-Airbags vorn,  , Sicherheitslenksäule, Assistenzsysteme:,  , Berganfahrassistent, Komfort:,  , Scheinwerferreinigung,  , Xenon plus inklusive Scheinwerfer-Reinigungsanlage,  , Scheinwerfer-Reinigungsanlage,  , Einparkhilfe hinten,  , Licht-/Regensensor,  , Funkfernbedienung,  , Elektrische Luftzusatzheizung, Interieur:,  , Rücksitzanlage 2 + 1,  , Multifunktions-Sportlederlenkrad im 3-Speichen-Design,  , automatische Leuchtweitenregulierung,  , Fahrerinformationssystem,  , Staub- und Pollenfilter,  , Kopfstützen hinten (3 Stück),  , Stoff Zeitgeist,  , Fahrersitz manuell höheneinstellbar,  , Scheiben seitlich und hinten in Wärmeschutzverglasung,  , Kindersitzbefestigung ISOFIX und Top Tether für die äußeren Fondsitze,  , Dachhimmel in Stoff titangrau,  , Waschwasser-Standanzeige,  , Nichtraucherfahrzeug, Exterieur:,  , Elektrische Aussenspiegel,  , Außenspiegel elektrisch beheizbar inklusive beheizbarer Scheibenwaschdüsen,  , Scheibenwaschdüsen beheizbar vorn,  , Aluminium-Gussräder im 10-Speichen-Design Größe 7 J x 16 mit Reifen 215/45 R 16,  , LED-Heckleuchten,  , Dynamikfahrwerk,  , Reifenreparaturset,  , Heckscheibenwischer mit Wasch-Wisch-Automatik, Umwelt:,  , Start-Stop-System,  , Abgaskonzept EU6 plus, Multimedia:,  , Radio mit Dreifachtuner und Phasendiversity,  , Bluetooth-Schnittstelle,  , media-Paket,  , Sprachdialogsystem,  , MMI® Navigation plus, Getriebe:,  , 7-Gang-Automatikgetriebe, Sonstiges:,  , Scheckheft gepflegt,  , Frontscheibe mit grauem Colorstreifen am oberen Rand, ...]</td>\n",
       "      <td>NaN</td>\n",
       "      <td>NaN</td>\n",
       "      <td>NaN</td>\n",
       "      <td>NaN</td>\n",
       "      <td>NaN</td>\n",
       "      <td>NaN</td>\n",
       "      <td>NaN</td>\n",
       "      <td>NaN</td>\n",
       "      <td>NaN</td>\n",
       "    </tr>\n",
       "    <tr>\n",
       "      <th>1</th>\n",
       "      <td>https://www.autoscout24.com//offers/audi-a1-1-8-tfsi-sport-gasoline-red-b2547f8a-e83f-6237-e053-e250040a56df</td>\n",
       "      <td>Audi A1</td>\n",
       "      <td>1.8 TFSI sport</td>\n",
       "      <td>Sedans</td>\n",
       "      <td>14500</td>\n",
       "      <td>Price negotiable</td>\n",
       "      <td>80,000 km</td>\n",
       "      <td>03/2017</td>\n",
       "      <td>None</td>\n",
       "      <td>NaN</td>\n",
       "      <td>...</td>\n",
       "      <td>[\\nLangstreckenfahrzeug daher die hohe Kilometerleistung. , Bremsen neu bei 62000 km. , Gut gepflegter A1\\n]</td>\n",
       "      <td>[\\n4 (Green)\\n]</td>\n",
       "      <td>[\\n7\\n]</td>\n",
       "      <td>NaN</td>\n",
       "      <td>NaN</td>\n",
       "      <td>NaN</td>\n",
       "      <td>NaN</td>\n",
       "      <td>NaN</td>\n",
       "      <td>NaN</td>\n",
       "      <td>NaN</td>\n",
       "    </tr>\n",
       "    <tr>\n",
       "      <th>2</th>\n",
       "      <td>https://www.autoscout24.com//offers/audi-a1-sportback-1-6-tdi-s-tronic-einparkhilfe-plus-music-diesel-black-6183cb6a-8570-4b86-a132-9b54214bca88</td>\n",
       "      <td>Audi A1</td>\n",
       "      <td>Sportback 1.6 TDI S tronic Einparkhilfe plus+music</td>\n",
       "      <td>Sedans</td>\n",
       "      <td>14640</td>\n",
       "      <td>VAT deductible</td>\n",
       "      <td>83,450 km</td>\n",
       "      <td>02/2016</td>\n",
       "      <td>1 previous owner</td>\n",
       "      <td>NaN</td>\n",
       "      <td>...</td>\n",
       "      <td>[\\n, Fahrzeug-Nummer: AM-95365,  , Ehem. UPE 24.640 EUR,  , Komfort,  , Klimaanlage,  , Elektrische Fensterheber,  , Sitzheizung,  , Tempomat,  , Zentralverriegelung,  , Leder-Lenkrad,  , Elektrische Spiegel,  , Wärmedämmendes Glas,  , Anfahrassistent,  , Sicherheit,  , Window/Kopfairbags,  , ESP (el. Stabilitäts Programm),  , Elektronische Wegfahrsperre,  , Reifendruckkontrolle,  , Tagfahrlicht,  , Exterieur,  , Alufelgen 16 Zoll,  , Einparkhilfe vo + hi,  , Interieur,  , Stoff Zeitgeist,  , Interieurfarbe Schwarz,  , Isofix-System,  , Mittelarmlehne,  , 4 Sitzplätze,  , Media,  , MMI® Navigation,  , AUX-In Anschluss,  , Radio mit MP3-Option,  , Audi music interface,  , Schaltung,  , Automatikgetriebe,  , Technik,  , ABS,  , Traktionskontrolle,  , Servo-Lenkung,  , Fahrer-Info-System,  , Sprachbedienung,  , Schadstoffklasse EURO 6,  , Multifunktionslenkrad,  , Partikelfilter,  , Umweltplakette grün,  , Motor-Start-Stopp-Funktion,  , Allgemein,  , Garantie,  , Sonstiges,  , Aus erster Hand,  , Leasing-Fzg, ...]</td>\n",
       "      <td>[\\n4 (Green)\\n]</td>\n",
       "      <td>NaN</td>\n",
       "      <td>NaN</td>\n",
       "      <td>NaN</td>\n",
       "      <td>NaN</td>\n",
       "      <td>NaN</td>\n",
       "      <td>NaN</td>\n",
       "      <td>NaN</td>\n",
       "      <td>NaN</td>\n",
       "    </tr>\n",
       "  </tbody>\n",
       "</table></div>"
      ],
      "text/plain": [
       "                                                 url make_model  \\\n",
       "0  https://www.autoscout24.com//offers/audi-a1-sp...    Audi A1   \n",
       "1  https://www.autoscout24.com//offers/audi-a1-1-...    Audi A1   \n",
       "2  https://www.autoscout24.com//offers/audi-a1-sp...    Audi A1   \n",
       "\n",
       "                                   short_description body_type  price  \\\n",
       "0        Sportback 1.4 TDI S-tronic Xenon Navi Klima    Sedans  15770   \n",
       "1                                     1.8 TFSI sport    Sedans  14500   \n",
       "2  Sportback 1.6 TDI S tronic Einparkhilfe plus+m...    Sedans  14640   \n",
       "\n",
       "                vat         km registration         prev_owner  kW  ...  \\\n",
       "0    VAT deductible  56,013 km      01/2016  2 previous owners NaN  ...   \n",
       "1  Price negotiable  80,000 km      03/2017               None NaN  ...   \n",
       "2    VAT deductible  83,450 km      02/2016   1 previous owner NaN  ...   \n",
       "\n",
       "                                         description   Emission Label  \\\n",
       "0  [\\n, Sicherheit:,  , Deaktivierung für Beifahr...              NaN   \n",
       "1  [\\nLangstreckenfahrzeug daher die hohe Kilomet...  [\\n4 (Green)\\n]   \n",
       "2  [\\n, Fahrzeug-Nummer: AM-95365,  , Ehem. UPE 2...  [\\n4 (Green)\\n]   \n",
       "\n",
       "     Gears Country version Electricity consumption Last Service Date  \\\n",
       "0      NaN             NaN                     NaN               NaN   \n",
       "1  [\\n7\\n]             NaN                     NaN               NaN   \n",
       "2      NaN             NaN                     NaN               NaN   \n",
       "\n",
       "  Other Fuel Types Availability Last Timing Belt Service Date Available from  \n",
       "0              NaN          NaN                           NaN            NaN  \n",
       "1              NaN          NaN                           NaN            NaN  \n",
       "2              NaN          NaN                           NaN            NaN  \n",
       "\n",
       "[3 rows x 54 columns]"
      ]
     },
     "execution_count": 76,
     "metadata": {},
     "output_type": "execute_result"
    }
   ],
   "source": [
    "df = df0.copy()\n",
    "df.head(3)"
   ]
  },
  {
   "cell_type": "code",
   "execution_count": 77,
   "metadata": {},
   "outputs": [
    {
     "data": {
      "text/plain": [
       "(15919, 54)"
      ]
     },
     "execution_count": 77,
     "metadata": {},
     "output_type": "execute_result"
    }
   ],
   "source": [
    "df.shape\n",
    "# Looking how many rows and columns has dataset."
   ]
  },
  {
   "cell_type": "code",
   "execution_count": 78,
   "metadata": {},
   "outputs": [
    {
     "data": {
      "text/html": [
       "<div><div id=dba32036-5230-40ad-bcd2-a54c87c1999c style=\"display:none; background-color:#9D6CFF; color:white; width:200px; height:30px; padding-left:5px; border-radius:4px; flex-direction:row; justify-content:space-around; align-items:center;\" onmouseover=\"this.style.backgroundColor='#BA9BF8'\" onmouseout=\"this.style.backgroundColor='#9D6CFF'\" onclick=\"window.commands?.execute('create-mitosheet-from-dataframe-output');\">See Full Dataframe in Mito</div> <script> if (window.commands?.hasCommand('create-mitosheet-from-dataframe-output')) document.getElementById('dba32036-5230-40ad-bcd2-a54c87c1999c').style.display = 'flex' </script> <table border=\"1\" class=\"dataframe\">\n",
       "  <thead>\n",
       "    <tr style=\"text-align: right;\">\n",
       "      <th></th>\n",
       "      <th>0</th>\n",
       "      <th>1</th>\n",
       "      <th>2</th>\n",
       "      <th>3</th>\n",
       "      <th>4</th>\n",
       "    </tr>\n",
       "  </thead>\n",
       "  <tbody>\n",
       "    <tr>\n",
       "      <th>url</th>\n",
       "      <td>https://www.autoscout24.com//offers/audi-a1-sportback-1-4-tdi-s-tronic-xenon-navi-klima-diesel-black-bdab349a-caa5-41b0-98eb-c1345b84445e</td>\n",
       "      <td>https://www.autoscout24.com//offers/audi-a1-1-8-tfsi-sport-gasoline-red-b2547f8a-e83f-6237-e053-e250040a56df</td>\n",
       "      <td>https://www.autoscout24.com//offers/audi-a1-sportback-1-6-tdi-s-tronic-einparkhilfe-plus-music-diesel-black-6183cb6a-8570-4b86-a132-9b54214bca88</td>\n",
       "      <td>https://www.autoscout24.com//offers/audi-a1-1-4-tdi-design-s-tronic-diesel-brown-35c86585-2727-d61e-e053-e250040ad640</td>\n",
       "      <td>https://www.autoscout24.com//offers/audi-a1-sportback-1-4-tdi-s-tronic-s-line-ext-admired-xe-diesel-black-b86b55d8-9c7c-4a58-b658-b97008a51efc</td>\n",
       "    </tr>\n",
       "    <tr>\n",
       "      <th>make_model</th>\n",
       "      <td>Audi A1</td>\n",
       "      <td>Audi A1</td>\n",
       "      <td>Audi A1</td>\n",
       "      <td>Audi A1</td>\n",
       "      <td>Audi A1</td>\n",
       "    </tr>\n",
       "    <tr>\n",
       "      <th>short_description</th>\n",
       "      <td>Sportback 1.4 TDI S-tronic Xenon Navi Klima</td>\n",
       "      <td>1.8 TFSI sport</td>\n",
       "      <td>Sportback 1.6 TDI S tronic Einparkhilfe plus+music</td>\n",
       "      <td>1.4 TDi Design S tronic</td>\n",
       "      <td>Sportback 1.4 TDI S-Tronic S-Line Ext. admired, Xe</td>\n",
       "    </tr>\n",
       "    <tr>\n",
       "      <th>body_type</th>\n",
       "      <td>Sedans</td>\n",
       "      <td>Sedans</td>\n",
       "      <td>Sedans</td>\n",
       "      <td>Sedans</td>\n",
       "      <td>Sedans</td>\n",
       "    </tr>\n",
       "    <tr>\n",
       "      <th>price</th>\n",
       "      <td>15770</td>\n",
       "      <td>14500</td>\n",
       "      <td>14640</td>\n",
       "      <td>14500</td>\n",
       "      <td>16790</td>\n",
       "    </tr>\n",
       "    <tr>\n",
       "      <th>...</th>\n",
       "      <td>...</td>\n",
       "      <td>...</td>\n",
       "      <td>...</td>\n",
       "      <td>...</td>\n",
       "      <td>...</td>\n",
       "    </tr>\n",
       "    <tr>\n",
       "      <th>Last Service Date</th>\n",
       "      <td>NaN</td>\n",
       "      <td>NaN</td>\n",
       "      <td>NaN</td>\n",
       "      <td>NaN</td>\n",
       "      <td>NaN</td>\n",
       "    </tr>\n",
       "    <tr>\n",
       "      <th>Other Fuel Types</th>\n",
       "      <td>NaN</td>\n",
       "      <td>NaN</td>\n",
       "      <td>NaN</td>\n",
       "      <td>NaN</td>\n",
       "      <td>NaN</td>\n",
       "    </tr>\n",
       "    <tr>\n",
       "      <th>Availability</th>\n",
       "      <td>NaN</td>\n",
       "      <td>NaN</td>\n",
       "      <td>NaN</td>\n",
       "      <td>NaN</td>\n",
       "      <td>NaN</td>\n",
       "    </tr>\n",
       "    <tr>\n",
       "      <th>Last Timing Belt Service Date</th>\n",
       "      <td>NaN</td>\n",
       "      <td>NaN</td>\n",
       "      <td>NaN</td>\n",
       "      <td>NaN</td>\n",
       "      <td>NaN</td>\n",
       "    </tr>\n",
       "    <tr>\n",
       "      <th>Available from</th>\n",
       "      <td>NaN</td>\n",
       "      <td>NaN</td>\n",
       "      <td>NaN</td>\n",
       "      <td>NaN</td>\n",
       "      <td>NaN</td>\n",
       "    </tr>\n",
       "  </tbody>\n",
       "</table></div>"
      ],
      "text/plain": [
       "                                                                               0  \\\n",
       "url                            https://www.autoscout24.com//offers/audi-a1-sp...   \n",
       "make_model                                                               Audi A1   \n",
       "short_description                    Sportback 1.4 TDI S-tronic Xenon Navi Klima   \n",
       "body_type                                                                 Sedans   \n",
       "price                                                                      15770   \n",
       "vat                                                               VAT deductible   \n",
       "km                                                                     56,013 km   \n",
       "registration                                                             01/2016   \n",
       "prev_owner                                                     2 previous owners   \n",
       "kW                                                                           NaN   \n",
       "hp                                                                         66 kW   \n",
       "Type                                     [, Used, , Diesel (Particulate Filter)]   \n",
       "Previous Owners                                                            \\n2\\n   \n",
       "Next Inspection                            [\\n06/2021\\n, \\n99 g CO2/km (comb)\\n]   \n",
       "Inspection new                                             [\\nYes\\n, \\nEuro 6\\n]   \n",
       "Warranty                                                 [\\n, \\n, \\n4 (Green)\\n]   \n",
       "Full Service                                                            [\\n, \\n]   \n",
       "Non-smoking Vehicle                                                     [\\n, \\n]   \n",
       "null                                                                          []   \n",
       "Make                                                                    \\nAudi\\n   \n",
       "Model                                                               [\\n, A1, \\n]   \n",
       "Offer Number                                                     [\\nLR-062483\\n]   \n",
       "First Registration                                                [\\n, 2016, \\n]   \n",
       "Body Color                                                       [\\n, Black, \\n]   \n",
       "Paint Type                                                        [\\nMetallic\\n]   \n",
       "Body Color Original                                          [\\nMythosschwarz\\n]   \n",
       "Upholstery                                                    [\\nCloth, Black\\n]   \n",
       "Body                                                            [\\n, Sedans, \\n]   \n",
       "Nr. of Doors                                                             [\\n5\\n]   \n",
       "Nr. of Seats                                                             [\\n5\\n]   \n",
       "Model Code                                                        [\\n0588/BDF\\n]   \n",
       "Gearing Type                                                 [\\n, Automatic, \\n]   \n",
       "Displacement                                                      [\\n1,422 cc\\n]   \n",
       "Cylinders                                                                [\\n3\\n]   \n",
       "Weight                                                            [\\n1,220 kg\\n]   \n",
       "Drive chain                                                          [\\nfront\\n]   \n",
       "Fuel                                       [\\n, Diesel (Particulate Filter), \\n]   \n",
       "Consumption                    [[3.8 l/100 km (comb)], [4.3 l/100 km (city)],...   \n",
       "CO2 Emission                                            [\\n99 g CO2/km (comb)\\n]   \n",
       "Emission Class                                                      [\\nEuro 6\\n]   \n",
       "\\nComfort & Convenience\\n      [Air conditioning, Armrest, Automatic climate ...   \n",
       "\\nEntertainment & Media\\n      [Bluetooth, Hands-free equipment, On-board com...   \n",
       "\\nExtras\\n                     [Alloy wheels, Catalytic Converter, Voice Cont...   \n",
       "\\nSafety & Security\\n          [ABS, Central door lock, Daytime running light...   \n",
       "description                    [\\n, Sicherheit:,  , Deaktivierung für Beifahr...   \n",
       "Emission Label                                                               NaN   \n",
       "Gears                                                                        NaN   \n",
       "Country version                                                              NaN   \n",
       "Electricity consumption                                                      NaN   \n",
       "Last Service Date                                                            NaN   \n",
       "Other Fuel Types                                                             NaN   \n",
       "Availability                                                                 NaN   \n",
       "Last Timing Belt Service Date                                                NaN   \n",
       "Available from                                                               NaN   \n",
       "\n",
       "                                                                               1  \\\n",
       "url                            https://www.autoscout24.com//offers/audi-a1-1-...   \n",
       "make_model                                                               Audi A1   \n",
       "short_description                                                 1.8 TFSI sport   \n",
       "body_type                                                                 Sedans   \n",
       "price                                                                      14500   \n",
       "vat                                                             Price negotiable   \n",
       "km                                                                     80,000 km   \n",
       "registration                                                             03/2017   \n",
       "prev_owner                                                                  None   \n",
       "kW                                                                           NaN   \n",
       "hp                                                                        141 kW   \n",
       "Type                                                        [, Used, , Gasoline]   \n",
       "Previous Owners                                                              NaN   \n",
       "Next Inspection                                                              NaN   \n",
       "Inspection new                                                               NaN   \n",
       "Warranty                                                                     NaN   \n",
       "Full Service                                                                 NaN   \n",
       "Non-smoking Vehicle                                                          NaN   \n",
       "null                                                                          []   \n",
       "Make                                                                    \\nAudi\\n   \n",
       "Model                                                               [\\n, A1, \\n]   \n",
       "Offer Number                                                                 NaN   \n",
       "First Registration                                                [\\n, 2017, \\n]   \n",
       "Body Color                                                         [\\n, Red, \\n]   \n",
       "Paint Type                                                                   NaN   \n",
       "Body Color Original                                                          NaN   \n",
       "Upholstery                                                     [\\nCloth, Grey\\n]   \n",
       "Body                                                            [\\n, Sedans, \\n]   \n",
       "Nr. of Doors                                                             [\\n3\\n]   \n",
       "Nr. of Seats                                                             [\\n4\\n]   \n",
       "Model Code                                                        [\\n0588/BCY\\n]   \n",
       "Gearing Type                                                 [\\n, Automatic, \\n]   \n",
       "Displacement                                                      [\\n1,798 cc\\n]   \n",
       "Cylinders                                                                [\\n4\\n]   \n",
       "Weight                                                            [\\n1,255 kg\\n]   \n",
       "Drive chain                                                          [\\nfront\\n]   \n",
       "Fuel                                                          [\\n, Gasoline, \\n]   \n",
       "Consumption                    [[5.6 l/100 km (comb)], [7.1 l/100 km (city)],...   \n",
       "CO2 Emission                                           [\\n129 g CO2/km (comb)\\n]   \n",
       "Emission Class                                                      [\\nEuro 6\\n]   \n",
       "\\nComfort & Convenience\\n      [Air conditioning, Automatic climate control, ...   \n",
       "\\nEntertainment & Media\\n      [Bluetooth, Hands-free equipment, On-board com...   \n",
       "\\nExtras\\n                     [Alloy wheels, Sport seats, Sport suspension, ...   \n",
       "\\nSafety & Security\\n          [ABS, Central door lock, Central door lock wit...   \n",
       "description                    [\\nLangstreckenfahrzeug daher die hohe Kilomet...   \n",
       "Emission Label                                                   [\\n4 (Green)\\n]   \n",
       "Gears                                                                    [\\n7\\n]   \n",
       "Country version                                                              NaN   \n",
       "Electricity consumption                                                      NaN   \n",
       "Last Service Date                                                            NaN   \n",
       "Other Fuel Types                                                             NaN   \n",
       "Availability                                                                 NaN   \n",
       "Last Timing Belt Service Date                                                NaN   \n",
       "Available from                                                               NaN   \n",
       "\n",
       "                                                                               2  \\\n",
       "url                            https://www.autoscout24.com//offers/audi-a1-sp...   \n",
       "make_model                                                               Audi A1   \n",
       "short_description              Sportback 1.6 TDI S tronic Einparkhilfe plus+m...   \n",
       "body_type                                                                 Sedans   \n",
       "price                                                                      14640   \n",
       "vat                                                               VAT deductible   \n",
       "km                                                                     83,450 km   \n",
       "registration                                                             02/2016   \n",
       "prev_owner                                                      1 previous owner   \n",
       "kW                                                                           NaN   \n",
       "hp                                                                         85 kW   \n",
       "Type                                     [, Used, , Diesel (Particulate Filter)]   \n",
       "Previous Owners                                                            \\n1\\n   \n",
       "Next Inspection                                                              NaN   \n",
       "Inspection new                                                               NaN   \n",
       "Warranty                                        [\\n, \\n, \\n99 g CO2/km (comb)\\n]   \n",
       "Full Service                                                                 NaN   \n",
       "Non-smoking Vehicle                                                          NaN   \n",
       "null                                                                          []   \n",
       "Make                                                                    \\nAudi\\n   \n",
       "Model                                                               [\\n, A1, \\n]   \n",
       "Offer Number                                                      [\\nAM-95365\\n]   \n",
       "First Registration                                                [\\n, 2016, \\n]   \n",
       "Body Color                                                       [\\n, Black, \\n]   \n",
       "Paint Type                                                        [\\nMetallic\\n]   \n",
       "Body Color Original                                 [\\nmythosschwarz metallic\\n]   \n",
       "Upholstery                                                    [\\nCloth, Black\\n]   \n",
       "Body                                                            [\\n, Sedans, \\n]   \n",
       "Nr. of Doors                                                             [\\n4\\n]   \n",
       "Nr. of Seats                                                             [\\n4\\n]   \n",
       "Model Code                                                                   NaN   \n",
       "Gearing Type                                                 [\\n, Automatic, \\n]   \n",
       "Displacement                                                      [\\n1,598 cc\\n]   \n",
       "Cylinders                                                                    NaN   \n",
       "Weight                                                                       NaN   \n",
       "Drive chain                                                          [\\nfront\\n]   \n",
       "Fuel                                       [\\n, Diesel (Particulate Filter), \\n]   \n",
       "Consumption                    [[3.8 l/100 km (comb)], [4.4 l/100 km (city)],...   \n",
       "CO2 Emission                                            [\\n99 g CO2/km (comb)\\n]   \n",
       "Emission Class                                                      [\\nEuro 6\\n]   \n",
       "\\nComfort & Convenience\\n      [Air conditioning, Cruise control, Electrical ...   \n",
       "\\nEntertainment & Media\\n                               [MP3, On-board computer]   \n",
       "\\nExtras\\n                                         [Alloy wheels, Voice Control]   \n",
       "\\nSafety & Security\\n          [ABS, Central door lock, Daytime running light...   \n",
       "description                    [\\n, Fahrzeug-Nummer: AM-95365,  , Ehem. UPE 2...   \n",
       "Emission Label                                                   [\\n4 (Green)\\n]   \n",
       "Gears                                                                        NaN   \n",
       "Country version                                                              NaN   \n",
       "Electricity consumption                                                      NaN   \n",
       "Last Service Date                                                            NaN   \n",
       "Other Fuel Types                                                             NaN   \n",
       "Availability                                                                 NaN   \n",
       "Last Timing Belt Service Date                                                NaN   \n",
       "Available from                                                               NaN   \n",
       "\n",
       "                                                                               3  \\\n",
       "url                            https://www.autoscout24.com//offers/audi-a1-1-...   \n",
       "make_model                                                               Audi A1   \n",
       "short_description                                        1.4 TDi Design S tronic   \n",
       "body_type                                                                 Sedans   \n",
       "price                                                                      14500   \n",
       "vat                                                                         None   \n",
       "km                                                                     73,000 km   \n",
       "registration                                                             08/2016   \n",
       "prev_owner                                                      1 previous owner   \n",
       "kW                                                                           NaN   \n",
       "hp                                                                         66 kW   \n",
       "Type                                     [, Used, , Diesel (Particulate Filter)]   \n",
       "Previous Owners                                                            \\n1\\n   \n",
       "Next Inspection                                                              NaN   \n",
       "Inspection new                                                               NaN   \n",
       "Warranty                                                                     NaN   \n",
       "Full Service                                    [\\n, \\n, \\n99 g CO2/km (comb)\\n]   \n",
       "Non-smoking Vehicle                                         [\\n, \\n, \\nEuro 6\\n]   \n",
       "null                                                                          []   \n",
       "Make                                                                    \\nAudi\\n   \n",
       "Model                                                               [\\n, A1, \\n]   \n",
       "Offer Number                                                                 NaN   \n",
       "First Registration                                                [\\n, 2016, \\n]   \n",
       "Body Color                                                       [\\n, Brown, \\n]   \n",
       "Paint Type                                                        [\\nMetallic\\n]   \n",
       "Body Color Original                                                          NaN   \n",
       "Upholstery                                                                   NaN   \n",
       "Body                                                            [\\n, Sedans, \\n]   \n",
       "Nr. of Doors                                                             [\\n3\\n]   \n",
       "Nr. of Seats                                                             [\\n4\\n]   \n",
       "Model Code                                                                   NaN   \n",
       "Gearing Type                                                 [\\n, Automatic, \\n]   \n",
       "Displacement                                                      [\\n1,422 cc\\n]   \n",
       "Cylinders                                                                [\\n3\\n]   \n",
       "Weight                                                            [\\n1,195 kg\\n]   \n",
       "Drive chain                                                                  NaN   \n",
       "Fuel                                       [\\n, Diesel (Particulate Filter), \\n]   \n",
       "Consumption                    [[3.8 l/100 km (comb)], [4.3 l/100 km (city)],...   \n",
       "CO2 Emission                                            [\\n99 g CO2/km (comb)\\n]   \n",
       "Emission Class                                                      [\\nEuro 6\\n]   \n",
       "\\nComfort & Convenience\\n      [Air suspension, Armrest, Auxiliary heating, E...   \n",
       "\\nEntertainment & Media\\n      [Bluetooth, CD player, Hands-free equipment, M...   \n",
       "\\nExtras\\n                            [Alloy wheels, Sport seats, Voice Control]   \n",
       "\\nSafety & Security\\n          [ABS, Alarm system, Central door lock with rem...   \n",
       "description                    [\\nAudi A1: , - 1e eigenaar , - Perfecte staat...   \n",
       "Emission Label                                                               NaN   \n",
       "Gears                                                                    [\\n6\\n]   \n",
       "Country version                                                              NaN   \n",
       "Electricity consumption                                                      NaN   \n",
       "Last Service Date                                                            NaN   \n",
       "Other Fuel Types                                                             NaN   \n",
       "Availability                                                                 NaN   \n",
       "Last Timing Belt Service Date                                                NaN   \n",
       "Available from                                                               NaN   \n",
       "\n",
       "                                                                               4  \n",
       "url                            https://www.autoscout24.com//offers/audi-a1-sp...  \n",
       "make_model                                                               Audi A1  \n",
       "short_description              Sportback 1.4 TDI S-Tronic S-Line Ext. admired...  \n",
       "body_type                                                                 Sedans  \n",
       "price                                                                      16790  \n",
       "vat                                                                         None  \n",
       "km                                                                     16,200 km  \n",
       "registration                                                             05/2016  \n",
       "prev_owner                                                      1 previous owner  \n",
       "kW                                                                           NaN  \n",
       "hp                                                                         66 kW  \n",
       "Type                                     [, Used, , Diesel (Particulate Filter)]  \n",
       "Previous Owners                                                            \\n1\\n  \n",
       "Next Inspection                                                              NaN  \n",
       "Inspection new                                [\\nYes\\n, \\n109 g CO2/km (comb)\\n]  \n",
       "Warranty                                                    [\\n, \\n, \\nEuro 6\\n]  \n",
       "Full Service                                             [\\n, \\n, \\n4 (Green)\\n]  \n",
       "Non-smoking Vehicle                                                     [\\n, \\n]  \n",
       "null                                                                          []  \n",
       "Make                                                                    \\nAudi\\n  \n",
       "Model                                                               [\\n, A1, \\n]  \n",
       "Offer Number                                                         [\\nC1626\\n]  \n",
       "First Registration                                                [\\n, 2016, \\n]  \n",
       "Body Color                                                       [\\n, Black, \\n]  \n",
       "Paint Type                                                        [\\nMetallic\\n]  \n",
       "Body Color Original                                 [\\nMythosschwarz Metallic\\n]  \n",
       "Upholstery                                                    [\\nCloth, Black\\n]  \n",
       "Body                                                            [\\n, Sedans, \\n]  \n",
       "Nr. of Doors                                                             [\\n5\\n]  \n",
       "Nr. of Seats                                                             [\\n5\\n]  \n",
       "Model Code                                                        [\\n0588/BDF\\n]  \n",
       "Gearing Type                                                 [\\n, Automatic, \\n]  \n",
       "Displacement                                                      [\\n1,422 cc\\n]  \n",
       "Cylinders                                                                [\\n3\\n]  \n",
       "Weight                                                                       NaN  \n",
       "Drive chain                                                          [\\nfront\\n]  \n",
       "Fuel                                       [\\n, Diesel (Particulate Filter), \\n]  \n",
       "Consumption                    [[4.1 l/100 km (comb)], [4.6 l/100 km (city)],...  \n",
       "CO2 Emission                                           [\\n109 g CO2/km (comb)\\n]  \n",
       "Emission Class                                                      [\\nEuro 6\\n]  \n",
       "\\nComfort & Convenience\\n      [Air conditioning, Armrest, Automatic climate ...  \n",
       "\\nEntertainment & Media\\n      [Bluetooth, CD player, Hands-free equipment, M...  \n",
       "\\nExtras\\n                     [Alloy wheels, Sport package, Sport suspension...  \n",
       "\\nSafety & Security\\n          [ABS, Central door lock, Driver-side airbag, E...  \n",
       "description                    [\\n, Technik & Sicherheit:, Xenon plus, Klimaa...  \n",
       "Emission Label                                                               NaN  \n",
       "Gears                                                                        NaN  \n",
       "Country version                                                    [\\nGermany\\n]  \n",
       "Electricity consumption                                                      NaN  \n",
       "Last Service Date                                                            NaN  \n",
       "Other Fuel Types                                                             NaN  \n",
       "Availability                                                                 NaN  \n",
       "Last Timing Belt Service Date                                                NaN  \n",
       "Available from                                                               NaN  "
      ]
     },
     "execution_count": 78,
     "metadata": {},
     "output_type": "execute_result"
    }
   ],
   "source": [
    "df.head().T\n",
    "# Checking the all columns and their names. First looking at the dataset if it is imported correctly etc."
   ]
  },
  {
   "cell_type": "markdown",
   "metadata": {},
   "source": [
    "The names of the columns are not in the same format. There are unwanted characters (\\n) in some column names, it can be fixed."
   ]
  },
  {
   "cell_type": "code",
   "execution_count": 79,
   "metadata": {},
   "outputs": [],
   "source": [
    "df.rename(columns={'Previous Owners': 'previous_owners',\n",
    "                   'Next Inspection': 'next_inspection',\n",
    "                   'Inspection new': 'inspection_new',\n",
    "                   'Warranty': 'warranty',\n",
    "                   'Full Service': 'full_service',\n",
    "                   'Non-smoking Vehicle': 'non_smoking_vehicle',\n",
    "                   'Make': 'make',\n",
    "                   'Model': 'model',\n",
    "                   'Offer Number': 'offer_number',\n",
    "                   'First Registration': 'first_registration',\n",
    "                   'Body Color': 'body_color',\n",
    "                   'Paint Type': 'paint_type',\n",
    "                   'Body Color Original': 'body_color_original',\n",
    "                   'Upholstery': 'upholstery',\n",
    "                   'Body': 'body',\n",
    "                   'Nr. of Doors': 'num_of_doors',\n",
    "                   'Nr. of Seats': 'num_of_seats',\n",
    "                   'Model Code': 'model_code',\n",
    "                   'Gearing Type': 'gearing_type',\n",
    "                   'Displacement': 'displacement',\n",
    "                   'Cylinders': 'cylinders',\n",
    "                   'Weight': 'weight',\n",
    "                   'Drive chain': 'drive_chain',\n",
    "                   'Fuel': 'fuel',\n",
    "                   'Consumption': 'consumption',\n",
    "                   'CO2 Emission': 'co2_emission',\n",
    "                   'Emission Class': 'emission_class',\n",
    "                   '\\nComfort & Convenience\\n': 'comfort_convenience',\n",
    "                   '\\nEntertainment & Media\\n': 'entertainment_media',\n",
    "                   '\\nExtras\\n': 'extras',\n",
    "                   '\\nSafety & Security\\n': 'safety_security',\n",
    "                   'Emission Label': 'emission_label',\n",
    "                   'Gears': 'gears',\n",
    "                   'Country version': 'country_version',\n",
    "                   'Electricity consumption': 'electricity_consumption',\n",
    "                   'Last Service Date': 'last_service_date',\n",
    "                   'Other Fuel Types': 'other_fuel_types',\n",
    "                   'Availability': 'availability',\n",
    "                   'Last Timing Belt Service Date': 'last_timing_belt_service_date',\n",
    "                   'Available from': 'available_from',\n",
    "                   },\n",
    "          inplace=True)\n"
   ]
  },
  {
   "cell_type": "code",
   "execution_count": 80,
   "metadata": {},
   "outputs": [
    {
     "name": "stdout",
     "output_type": "stream",
     "text": [
      "<class 'pandas.core.frame.DataFrame'>\n",
      "RangeIndex: 15919 entries, 0 to 15918\n",
      "Data columns (total 54 columns):\n",
      " #   Column                         Non-Null Count  Dtype  \n",
      "---  ------                         --------------  -----  \n",
      " 0   url                            15919 non-null  object \n",
      " 1   make_model                     15919 non-null  object \n",
      " 2   short_description              15873 non-null  object \n",
      " 3   body_type                      15859 non-null  object \n",
      " 4   price                          15919 non-null  int64  \n",
      " 5   vat                            11406 non-null  object \n",
      " 6   km                             15919 non-null  object \n",
      " 7   registration                   15919 non-null  object \n",
      " 8   prev_owner                     9091 non-null   object \n",
      " 9   kW                             0 non-null      float64\n",
      " 10  hp                             15919 non-null  object \n",
      " 11  Type                           15917 non-null  object \n",
      " 12  previous_owners                9279 non-null   object \n",
      " 13  next_inspection                3535 non-null   object \n",
      " 14  inspection_new                 3932 non-null   object \n",
      " 15  warranty                       10499 non-null  object \n",
      " 16  full_service                   8215 non-null   object \n",
      " 17  non_smoking_vehicle            7177 non-null   object \n",
      " 18  null                           15919 non-null  object \n",
      " 19  make                           15919 non-null  object \n",
      " 20  model                          15919 non-null  object \n",
      " 21  offer_number                   12744 non-null  object \n",
      " 22  first_registration             14322 non-null  object \n",
      " 23  body_color                     15322 non-null  object \n",
      " 24  paint_type                     10147 non-null  object \n",
      " 25  body_color_original            12160 non-null  object \n",
      " 26  upholstery                     12199 non-null  object \n",
      " 27  body                           15859 non-null  object \n",
      " 28  num_of_doors                   15707 non-null  object \n",
      " 29  num_of_seats                   14942 non-null  object \n",
      " 30  model_code                     4978 non-null   object \n",
      " 31  gearing_type                   15919 non-null  object \n",
      " 32  displacement                   15423 non-null  object \n",
      " 33  cylinders                      10239 non-null  object \n",
      " 34  weight                         8945 non-null   object \n",
      " 35  drive_chain                    9061 non-null   object \n",
      " 36  fuel                           15919 non-null  object \n",
      " 37  consumption                    14013 non-null  object \n",
      " 38  co2_emission                   14111 non-null  object \n",
      " 39  emission_class                 12898 non-null  object \n",
      " 40  comfort_convenience            14999 non-null  object \n",
      " 41  entertainment_media            14545 non-null  object \n",
      " 42  extras                         12957 non-null  object \n",
      " 43  safety_security                14937 non-null  object \n",
      " 44  description                    15919 non-null  object \n",
      " 45  emission_label                 3985 non-null   object \n",
      " 46  gears                          11207 non-null  object \n",
      " 47  country_version                7586 non-null   object \n",
      " 48  electricity_consumption        137 non-null    object \n",
      " 49  last_service_date              566 non-null    object \n",
      " 50  other_fuel_types               880 non-null    object \n",
      " 51  availability                   635 non-null    object \n",
      " 52  last_timing_belt_service_date  16 non-null     object \n",
      " 53  available_from                 272 non-null    object \n",
      "dtypes: float64(1), int64(1), object(52)\n",
      "memory usage: 6.6+ MB\n"
     ]
    }
   ],
   "source": [
    "df.info()\n",
    "# Checking dataset's general info --> dtypes of the columns, NaN values.."
   ]
  },
  {
   "cell_type": "code",
   "execution_count": 81,
   "metadata": {},
   "outputs": [
    {
     "data": {
      "text/plain": [
       "url                                  0\n",
       "make_model                           0\n",
       "short_description                   46\n",
       "body_type                           60\n",
       "price                                0\n",
       "vat                               4513\n",
       "km                                   0\n",
       "registration                         0\n",
       "prev_owner                        6828\n",
       "kW                               15919\n",
       "hp                                   0\n",
       "Type                                 2\n",
       "previous_owners                   6640\n",
       "next_inspection                  12384\n",
       "inspection_new                   11987\n",
       "warranty                          5420\n",
       "full_service                      7704\n",
       "non_smoking_vehicle               8742\n",
       "null                                 0\n",
       "make                                 0\n",
       "model                                0\n",
       "offer_number                      3175\n",
       "first_registration                1597\n",
       "body_color                         597\n",
       "paint_type                        5772\n",
       "body_color_original               3759\n",
       "upholstery                        3720\n",
       "body                                60\n",
       "num_of_doors                       212\n",
       "num_of_seats                       977\n",
       "model_code                       10941\n",
       "gearing_type                         0\n",
       "displacement                       496\n",
       "cylinders                         5680\n",
       "weight                            6974\n",
       "drive_chain                       6858\n",
       "fuel                                 0\n",
       "consumption                       1906\n",
       "co2_emission                      1808\n",
       "emission_class                    3021\n",
       "comfort_convenience                920\n",
       "entertainment_media               1374\n",
       "extras                            2962\n",
       "safety_security                    982\n",
       "description                          0\n",
       "emission_label                   11934\n",
       "gears                             4712\n",
       "country_version                   8333\n",
       "electricity_consumption          15782\n",
       "last_service_date                15353\n",
       "other_fuel_types                 15039\n",
       "availability                     15284\n",
       "last_timing_belt_service_date    15903\n",
       "available_from                   15647\n",
       "dtype: int64"
      ]
     },
     "execution_count": 81,
     "metadata": {},
     "output_type": "execute_result"
    }
   ],
   "source": [
    "df.isnull().sum()\n",
    "# Looking at how many null values in which column"
   ]
  },
  {
   "cell_type": "code",
   "execution_count": 82,
   "metadata": {},
   "outputs": [
    {
     "data": {
      "text/plain": [
       "url                                0.000000\n",
       "make_model                         0.000000\n",
       "short_description                  0.288963\n",
       "body_type                          0.376908\n",
       "price                              0.000000\n",
       "vat                               28.349771\n",
       "km                                 0.000000\n",
       "registration                       0.000000\n",
       "prev_owner                        42.892141\n",
       "kW                               100.000000\n",
       "hp                                 0.000000\n",
       "Type                               0.012564\n",
       "previous_owners                   41.711163\n",
       "next_inspection                   77.793831\n",
       "inspection_new                    75.299956\n",
       "warranty                          34.047365\n",
       "full_service                      48.395000\n",
       "non_smoking_vehicle               54.915510\n",
       "null                               0.000000\n",
       "make                               0.000000\n",
       "model                              0.000000\n",
       "offer_number                      19.944720\n",
       "first_registration                10.032037\n",
       "body_color                         3.750236\n",
       "paint_type                        36.258559\n",
       "body_color_original               23.613292\n",
       "upholstery                        23.368302\n",
       "body                               0.376908\n",
       "num_of_doors                       1.331742\n",
       "num_of_seats                       6.137320\n",
       "model_code                        68.729192\n",
       "gearing_type                       0.000000\n",
       "displacement                       3.115774\n",
       "cylinders                         35.680633\n",
       "weight                            43.809285\n",
       "drive_chain                       43.080596\n",
       "fuel                               0.000000\n",
       "consumption                       11.973114\n",
       "co2_emission                      11.357497\n",
       "emission_class                    18.977323\n",
       "comfort_convenience                5.779257\n",
       "entertainment_media                8.631195\n",
       "extras                            18.606696\n",
       "safety_security                    6.168729\n",
       "description                        0.000000\n",
       "emission_label                    74.967021\n",
       "gears                             29.599849\n",
       "country_version                   52.346253\n",
       "electricity_consumption           99.139393\n",
       "last_service_date                 96.444500\n",
       "other_fuel_types                  94.472015\n",
       "availability                      96.011056\n",
       "last_timing_belt_service_date     99.899491\n",
       "available_from                    98.291350\n",
       "dtype: float64"
      ]
     },
     "execution_count": 82,
     "metadata": {},
     "output_type": "execute_result"
    }
   ],
   "source": [
    "df.isnull().sum()/df.shape[0]*100\n",
    "# the percentage of null values of each columns\n"
   ]
  },
  {
   "cell_type": "code",
   "execution_count": 83,
   "metadata": {},
   "outputs": [
    {
     "data": {
      "text/html": [
       "<div><div id=e93c950d-7f87-413e-b6b0-9e1f04774d73 style=\"display:none; background-color:#9D6CFF; color:white; width:200px; height:30px; padding-left:5px; border-radius:4px; flex-direction:row; justify-content:space-around; align-items:center;\" onmouseover=\"this.style.backgroundColor='#BA9BF8'\" onmouseout=\"this.style.backgroundColor='#9D6CFF'\" onclick=\"window.commands?.execute('create-mitosheet-from-dataframe-output');\">See Full Dataframe in Mito</div> <script> if (window.commands?.hasCommand('create-mitosheet-from-dataframe-output')) document.getElementById('e93c950d-7f87-413e-b6b0-9e1f04774d73').style.display = 'flex' </script> <table border=\"1\" class=\"dataframe\">\n",
       "  <thead>\n",
       "    <tr style=\"text-align: right;\">\n",
       "      <th></th>\n",
       "      <th>missing_count</th>\n",
       "      <th>missing_percentage</th>\n",
       "    </tr>\n",
       "  </thead>\n",
       "  <tbody>\n",
       "    <tr>\n",
       "      <th>kW</th>\n",
       "      <td>15919</td>\n",
       "      <td>100.000000</td>\n",
       "    </tr>\n",
       "    <tr>\n",
       "      <th>last_timing_belt_service_date</th>\n",
       "      <td>15903</td>\n",
       "      <td>99.899491</td>\n",
       "    </tr>\n",
       "    <tr>\n",
       "      <th>electricity_consumption</th>\n",
       "      <td>15782</td>\n",
       "      <td>99.139393</td>\n",
       "    </tr>\n",
       "    <tr>\n",
       "      <th>available_from</th>\n",
       "      <td>15647</td>\n",
       "      <td>98.291350</td>\n",
       "    </tr>\n",
       "    <tr>\n",
       "      <th>last_service_date</th>\n",
       "      <td>15353</td>\n",
       "      <td>96.444500</td>\n",
       "    </tr>\n",
       "    <tr>\n",
       "      <th>...</th>\n",
       "      <td>...</td>\n",
       "      <td>...</td>\n",
       "    </tr>\n",
       "    <tr>\n",
       "      <th>hp</th>\n",
       "      <td>0</td>\n",
       "      <td>0.000000</td>\n",
       "    </tr>\n",
       "    <tr>\n",
       "      <th>registration</th>\n",
       "      <td>0</td>\n",
       "      <td>0.000000</td>\n",
       "    </tr>\n",
       "    <tr>\n",
       "      <th>km</th>\n",
       "      <td>0</td>\n",
       "      <td>0.000000</td>\n",
       "    </tr>\n",
       "    <tr>\n",
       "      <th>price</th>\n",
       "      <td>0</td>\n",
       "      <td>0.000000</td>\n",
       "    </tr>\n",
       "    <tr>\n",
       "      <th>url</th>\n",
       "      <td>0</td>\n",
       "      <td>0.000000</td>\n",
       "    </tr>\n",
       "  </tbody>\n",
       "</table></div>"
      ],
      "text/plain": [
       "                               missing_count  missing_percentage\n",
       "kW                                     15919          100.000000\n",
       "last_timing_belt_service_date          15903           99.899491\n",
       "electricity_consumption                15782           99.139393\n",
       "available_from                         15647           98.291350\n",
       "last_service_date                      15353           96.444500\n",
       "availability                           15284           96.011056\n",
       "other_fuel_types                       15039           94.472015\n",
       "next_inspection                        12384           77.793831\n",
       "inspection_new                         11987           75.299956\n",
       "emission_label                         11934           74.967021\n",
       "model_code                             10941           68.729192\n",
       "non_smoking_vehicle                     8742           54.915510\n",
       "country_version                         8333           52.346253\n",
       "full_service                            7704           48.395000\n",
       "weight                                  6974           43.809285\n",
       "drive_chain                             6858           43.080596\n",
       "prev_owner                              6828           42.892141\n",
       "previous_owners                         6640           41.711163\n",
       "paint_type                              5772           36.258559\n",
       "cylinders                               5680           35.680633\n",
       "warranty                                5420           34.047365\n",
       "gears                                   4712           29.599849\n",
       "vat                                     4513           28.349771\n",
       "body_color_original                     3759           23.613292\n",
       "upholstery                              3720           23.368302\n",
       "offer_number                            3175           19.944720\n",
       "emission_class                          3021           18.977323\n",
       "extras                                  2962           18.606696\n",
       "consumption                             1906           11.973114\n",
       "co2_emission                            1808           11.357497\n",
       "first_registration                      1597           10.032037\n",
       "entertainment_media                     1374            8.631195\n",
       "safety_security                          982            6.168729\n",
       "num_of_seats                             977            6.137320\n",
       "comfort_convenience                      920            5.779257\n",
       "body_color                               597            3.750236\n",
       "displacement                             496            3.115774\n",
       "num_of_doors                             212            1.331742\n",
       "body                                      60            0.376908\n",
       "body_type                                 60            0.376908\n",
       "short_description                         46            0.288963\n",
       "Type                                       2            0.012564\n",
       "fuel                                       0            0.000000\n",
       "gearing_type                               0            0.000000\n",
       "make_model                                 0            0.000000\n",
       "model                                      0            0.000000\n",
       "make                                       0            0.000000\n",
       "description                                0            0.000000\n",
       "null                                       0            0.000000\n",
       "hp                                         0            0.000000\n",
       "registration                               0            0.000000\n",
       "km                                         0            0.000000\n",
       "price                                      0            0.000000\n",
       "url                                        0            0.000000"
      ]
     },
     "execution_count": 83,
     "metadata": {},
     "output_type": "execute_result"
    }
   ],
   "source": [
    "missing_count = df.isnull().sum().sort_values(ascending=False)\n",
    "missing_per = (df.isnull().sum()/df.shape[0]*100).sort_values(ascending=False)\n",
    "\n",
    "missing_df = pd.concat({\"missing_count\": missing_count,\n",
    "                       \"missing_percentage\": missing_per}, axis=1)\n",
    "missing_df\n"
   ]
  },
  {
   "cell_type": "markdown",
   "metadata": {},
   "source": [
    "Some columns have too many missing values, electricity_consumption, last_service_date, other_fuel_types, availability, last_timing_belt_service_date, available_from. Also kw column consists of only missing values."
   ]
  },
  {
   "cell_type": "code",
   "execution_count": 84,
   "metadata": {},
   "outputs": [
    {
     "data": {
      "text/html": [
       "<div><div id=beb9558c-f604-42d3-8c96-e0808236b008 style=\"display:none; background-color:#9D6CFF; color:white; width:200px; height:30px; padding-left:5px; border-radius:4px; flex-direction:row; justify-content:space-around; align-items:center;\" onmouseover=\"this.style.backgroundColor='#BA9BF8'\" onmouseout=\"this.style.backgroundColor='#9D6CFF'\" onclick=\"window.commands?.execute('create-mitosheet-from-dataframe-output');\">See Full Dataframe in Mito</div> <script> if (window.commands?.hasCommand('create-mitosheet-from-dataframe-output')) document.getElementById('beb9558c-f604-42d3-8c96-e0808236b008').style.display = 'flex' </script> <table border=\"1\" class=\"dataframe\">\n",
       "  <thead>\n",
       "    <tr style=\"text-align: right;\">\n",
       "      <th></th>\n",
       "      <th>price</th>\n",
       "      <th>kW</th>\n",
       "    </tr>\n",
       "  </thead>\n",
       "  <tbody>\n",
       "    <tr>\n",
       "      <th>count</th>\n",
       "      <td>15919.000000</td>\n",
       "      <td>0.0</td>\n",
       "    </tr>\n",
       "    <tr>\n",
       "      <th>mean</th>\n",
       "      <td>18019.896727</td>\n",
       "      <td>NaN</td>\n",
       "    </tr>\n",
       "    <tr>\n",
       "      <th>std</th>\n",
       "      <td>7386.169409</td>\n",
       "      <td>NaN</td>\n",
       "    </tr>\n",
       "    <tr>\n",
       "      <th>min</th>\n",
       "      <td>13.000000</td>\n",
       "      <td>NaN</td>\n",
       "    </tr>\n",
       "    <tr>\n",
       "      <th>25%</th>\n",
       "      <td>12850.000000</td>\n",
       "      <td>NaN</td>\n",
       "    </tr>\n",
       "    <tr>\n",
       "      <th>50%</th>\n",
       "      <td>16900.000000</td>\n",
       "      <td>NaN</td>\n",
       "    </tr>\n",
       "    <tr>\n",
       "      <th>75%</th>\n",
       "      <td>21900.000000</td>\n",
       "      <td>NaN</td>\n",
       "    </tr>\n",
       "    <tr>\n",
       "      <th>max</th>\n",
       "      <td>74600.000000</td>\n",
       "      <td>NaN</td>\n",
       "    </tr>\n",
       "  </tbody>\n",
       "</table></div>"
      ],
      "text/plain": [
       "              price   kW\n",
       "count  15919.000000  0.0\n",
       "mean   18019.896727  NaN\n",
       "std     7386.169409  NaN\n",
       "min       13.000000  NaN\n",
       "25%    12850.000000  NaN\n",
       "50%    16900.000000  NaN\n",
       "75%    21900.000000  NaN\n",
       "max    74600.000000  NaN"
      ]
     },
     "execution_count": 84,
     "metadata": {},
     "output_type": "execute_result"
    }
   ],
   "source": [
    "df.describe()"
   ]
  },
  {
   "cell_type": "markdown",
   "metadata": {},
   "source": [
    "Since only the price and kw column consists of integer and float data types, only two columns are correlated in statistical calculations."
   ]
  },
  {
   "cell_type": "markdown",
   "metadata": {},
   "source": [
    "Look at the value counts of columns that have object datatype and detect strange values apart from the NaN Values:"
   ]
  },
  {
   "cell_type": "code",
   "execution_count": 85,
   "metadata": {},
   "outputs": [
    {
     "data": {
      "text/html": [
       "<div><div id=e122a675-3529-40d5-b450-0a97d725af78 style=\"display:none; background-color:#9D6CFF; color:white; width:200px; height:30px; padding-left:5px; border-radius:4px; flex-direction:row; justify-content:space-around; align-items:center;\" onmouseover=\"this.style.backgroundColor='#BA9BF8'\" onmouseout=\"this.style.backgroundColor='#9D6CFF'\" onclick=\"window.commands?.execute('create-mitosheet-from-dataframe-output');\">See Full Dataframe in Mito</div> <script> if (window.commands?.hasCommand('create-mitosheet-from-dataframe-output')) document.getElementById('e122a675-3529-40d5-b450-0a97d725af78').style.display = 'flex' </script> <table border=\"1\" class=\"dataframe\">\n",
       "  <thead>\n",
       "    <tr style=\"text-align: right;\">\n",
       "      <th></th>\n",
       "      <th>count</th>\n",
       "      <th>unique</th>\n",
       "      <th>top</th>\n",
       "      <th>freq</th>\n",
       "    </tr>\n",
       "  </thead>\n",
       "  <tbody>\n",
       "    <tr>\n",
       "      <th>url</th>\n",
       "      <td>15919</td>\n",
       "      <td>15919</td>\n",
       "      <td>https://www.autoscout24.com//offers/audi-a1-sportback-1-4-tdi-s-tronic-xenon-navi-klima-diesel-black-bdab349a-caa5-41b0-98eb-c1345b84445e</td>\n",
       "      <td>1</td>\n",
       "    </tr>\n",
       "    <tr>\n",
       "      <th>make_model</th>\n",
       "      <td>15919</td>\n",
       "      <td>9</td>\n",
       "      <td>Audi A3</td>\n",
       "      <td>3097</td>\n",
       "    </tr>\n",
       "    <tr>\n",
       "      <th>short_description</th>\n",
       "      <td>15873</td>\n",
       "      <td>10001</td>\n",
       "      <td>SPB 1.6 TDI 116 CV S tronic Sport</td>\n",
       "      <td>64</td>\n",
       "    </tr>\n",
       "    <tr>\n",
       "      <th>body_type</th>\n",
       "      <td>15859</td>\n",
       "      <td>9</td>\n",
       "      <td>Sedans</td>\n",
       "      <td>7903</td>\n",
       "    </tr>\n",
       "    <tr>\n",
       "      <th>vat</th>\n",
       "      <td>11406</td>\n",
       "      <td>2</td>\n",
       "      <td>VAT deductible</td>\n",
       "      <td>10980</td>\n",
       "    </tr>\n",
       "    <tr>\n",
       "      <th>...</th>\n",
       "      <td>...</td>\n",
       "      <td>...</td>\n",
       "      <td>...</td>\n",
       "      <td>...</td>\n",
       "    </tr>\n",
       "    <tr>\n",
       "      <th>last_service_date</th>\n",
       "      <td>566</td>\n",
       "      <td>266</td>\n",
       "      <td>[\\n02/2019\\n, \\nEuro 6\\n]</td>\n",
       "      <td>23</td>\n",
       "    </tr>\n",
       "    <tr>\n",
       "      <th>other_fuel_types</th>\n",
       "      <td>880</td>\n",
       "      <td>1</td>\n",
       "      <td>[[], [], []]</td>\n",
       "      <td>880</td>\n",
       "    </tr>\n",
       "    <tr>\n",
       "      <th>availability</th>\n",
       "      <td>635</td>\n",
       "      <td>15</td>\n",
       "      <td>\\nin 90 days from ordering\\n</td>\n",
       "      <td>196</td>\n",
       "    </tr>\n",
       "    <tr>\n",
       "      <th>last_timing_belt_service_date</th>\n",
       "      <td>16</td>\n",
       "      <td>15</td>\n",
       "      <td>[\\n04/2016\\n]</td>\n",
       "      <td>2</td>\n",
       "    </tr>\n",
       "    <tr>\n",
       "      <th>available_from</th>\n",
       "      <td>272</td>\n",
       "      <td>46</td>\n",
       "      <td>\\n31/08/19\\n</td>\n",
       "      <td>98</td>\n",
       "    </tr>\n",
       "  </tbody>\n",
       "</table></div>"
      ],
      "text/plain": [
       "                               count unique  \\\n",
       "url                            15919  15919   \n",
       "make_model                     15919      9   \n",
       "short_description              15873  10001   \n",
       "body_type                      15859      9   \n",
       "vat                            11406      2   \n",
       "km                             15919   6690   \n",
       "registration                   15919     48   \n",
       "prev_owner                      9091      4   \n",
       "hp                             15919     81   \n",
       "Type                           15917    169   \n",
       "previous_owners                 9279    102   \n",
       "next_inspection                 3535   1399   \n",
       "inspection_new                  3932    202   \n",
       "warranty                       10499    515   \n",
       "full_service                    8215    122   \n",
       "non_smoking_vehicle             7177     94   \n",
       "null                           15919      1   \n",
       "make                           15919      3   \n",
       "model                          15919      9   \n",
       "offer_number                   12744  11440   \n",
       "first_registration             14322      4   \n",
       "body_color                     15322     14   \n",
       "paint_type                     10147      3   \n",
       "body_color_original            12160   1927   \n",
       "upholstery                     12199     46   \n",
       "body                           15859      9   \n",
       "num_of_doors                   15707      6   \n",
       "num_of_seats                   14942      6   \n",
       "model_code                      4978    232   \n",
       "gearing_type                   15919      3   \n",
       "displacement                   15423     77   \n",
       "cylinders                      10239      7   \n",
       "weight                          8945    434   \n",
       "drive_chain                     9061      3   \n",
       "fuel                           15919     77   \n",
       "consumption                    14013    881   \n",
       "co2_emission                   14111    123   \n",
       "emission_class                 12898      7   \n",
       "comfort_convenience            14999   6198   \n",
       "entertainment_media            14545    346   \n",
       "extras                         12957    659   \n",
       "safety_security                14937   4443   \n",
       "description                    15919  12874   \n",
       "emission_label                  3985      6   \n",
       "gears                          11207     10   \n",
       "country_version                 7586     23   \n",
       "electricity_consumption          137      1   \n",
       "last_service_date                566    266   \n",
       "other_fuel_types                 880      1   \n",
       "availability                     635     15   \n",
       "last_timing_belt_service_date     16     15   \n",
       "available_from                   272     46   \n",
       "\n",
       "                                                                             top  \\\n",
       "url                            https://www.autoscout24.com//offers/audi-a1-sp...   \n",
       "make_model                                                               Audi A3   \n",
       "short_description                              SPB 1.6 TDI 116 CV S tronic Sport   \n",
       "body_type                                                                 Sedans   \n",
       "vat                                                               VAT deductible   \n",
       "km                                                                         10 km   \n",
       "registration                                                                 -/-   \n",
       "prev_owner                                                      1 previous owner   \n",
       "hp                                                                         85 kW   \n",
       "Type                                     [, Used, , Diesel (Particulate Filter)]   \n",
       "previous_owners                                                            \\n1\\n   \n",
       "next_inspection                                                      \\n04/2022\\n   \n",
       "inspection_new                                             [\\nYes\\n, \\nEuro 6\\n]   \n",
       "warranty                                                    [\\n, \\n, \\nEuro 6\\n]   \n",
       "full_service                                             [\\n, \\n, \\n4 (Green)\\n]   \n",
       "non_smoking_vehicle                                                     [\\n, \\n]   \n",
       "null                                                                          []   \n",
       "make                                                                    \\nOpel\\n   \n",
       "model                                                               [\\n, A3, \\n]   \n",
       "offer_number                                                       [\\nLT67679\\n]   \n",
       "first_registration                                                [\\n, 2018, \\n]   \n",
       "body_color                                                       [\\n, Black, \\n]   \n",
       "paint_type                                                        [\\nMetallic\\n]   \n",
       "body_color_original                                           [\\nOnyx Schwarz\\n]   \n",
       "upholstery                                                    [\\nCloth, Black\\n]   \n",
       "body                                                            [\\n, Sedans, \\n]   \n",
       "num_of_doors                                                             [\\n5\\n]   \n",
       "num_of_seats                                                             [\\n5\\n]   \n",
       "model_code                                                        [\\n0035/BCB\\n]   \n",
       "gearing_type                                                    [\\n, Manual, \\n]   \n",
       "displacement                                                      [\\n1,598 cc\\n]   \n",
       "cylinders                                                                [\\n4\\n]   \n",
       "weight                                                            [\\n1,163 kg\\n]   \n",
       "drive_chain                                                          [\\nfront\\n]   \n",
       "fuel                                       [\\n, Diesel (Particulate Filter), \\n]   \n",
       "consumption                    [[3.9 l/100 km (comb)], [4.1 l/100 km (city)],...   \n",
       "co2_emission                                           [\\n120 g CO2/km (comb)\\n]   \n",
       "emission_class                                                      [\\nEuro 6\\n]   \n",
       "comfort_convenience            [Air conditioning, Electrical side mirrors, Hi...   \n",
       "entertainment_media            [Bluetooth, Hands-free equipment, On-board com...   \n",
       "extras                                                            [Alloy wheels]   \n",
       "safety_security                [ABS, Central door lock, Daytime running light...   \n",
       "description                                                                   []   \n",
       "emission_label                                                   [\\n4 (Green)\\n]   \n",
       "gears                                                                    [\\n6\\n]   \n",
       "country_version                                                    [\\nGermany\\n]   \n",
       "electricity_consumption                                [\\n0 kWh/100 km (comb)\\n]   \n",
       "last_service_date                                      [\\n02/2019\\n, \\nEuro 6\\n]   \n",
       "other_fuel_types                                                    [[], [], []]   \n",
       "availability                                        \\nin 90 days from ordering\\n   \n",
       "last_timing_belt_service_date                                      [\\n04/2016\\n]   \n",
       "available_from                                                      \\n31/08/19\\n   \n",
       "\n",
       "                                freq  \n",
       "url                                1  \n",
       "make_model                      3097  \n",
       "short_description                 64  \n",
       "body_type                       7903  \n",
       "vat                            10980  \n",
       "km                              1045  \n",
       "registration                    1597  \n",
       "prev_owner                      8294  \n",
       "hp                              2542  \n",
       "Type                            3475  \n",
       "previous_owners                 8101  \n",
       "next_inspection                   62  \n",
       "inspection_new                   523  \n",
       "warranty                        1868  \n",
       "full_service                    2235  \n",
       "non_smoking_vehicle             3647  \n",
       "null                           15919  \n",
       "make                            7343  \n",
       "model                           3097  \n",
       "offer_number                      27  \n",
       "first_registration              4522  \n",
       "body_color                      3745  \n",
       "paint_type                      9794  \n",
       "body_color_original              338  \n",
       "upholstery                      5821  \n",
       "body                            7903  \n",
       "num_of_doors                   11575  \n",
       "num_of_seats                   13336  \n",
       "model_code                       268  \n",
       "gearing_type                    8153  \n",
       "displacement                    4761  \n",
       "cylinders                       8105  \n",
       "weight                           574  \n",
       "drive_chain                     8886  \n",
       "fuel                            4315  \n",
       "consumption                      304  \n",
       "co2_emission                     740  \n",
       "emission_class                 10139  \n",
       "comfort_convenience              216  \n",
       "entertainment_media             1282  \n",
       "extras                          3245  \n",
       "safety_security                  538  \n",
       "description                      636  \n",
       "emission_label                  3553  \n",
       "gears                           5822  \n",
       "country_version                 4502  \n",
       "electricity_consumption          137  \n",
       "last_service_date                 23  \n",
       "other_fuel_types                 880  \n",
       "availability                     196  \n",
       "last_timing_belt_service_date      2  \n",
       "available_from                    98  "
      ]
     },
     "execution_count": 85,
     "metadata": {},
     "output_type": "execute_result"
    }
   ],
   "source": [
    "df.describe(include=[object]).T"
   ]
  },
  {
   "cell_type": "markdown",
   "metadata": {},
   "source": [
    "The number of uniques is important, especially during visualization with hue."
   ]
  },
  {
   "cell_type": "code",
   "execution_count": 86,
   "metadata": {},
   "outputs": [
    {
     "data": {
      "text/html": [
       "<div><div id=242e5d75-6f19-4700-9440-a339df4fb890 style=\"display:none; background-color:#9D6CFF; color:white; width:200px; height:30px; padding-left:5px; border-radius:4px; flex-direction:row; justify-content:space-around; align-items:center;\" onmouseover=\"this.style.backgroundColor='#BA9BF8'\" onmouseout=\"this.style.backgroundColor='#9D6CFF'\" onclick=\"window.commands?.execute('create-mitosheet-from-dataframe-output');\">See Full Dataframe in Mito</div> <script> if (window.commands?.hasCommand('create-mitosheet-from-dataframe-output')) document.getElementById('242e5d75-6f19-4700-9440-a339df4fb890').style.display = 'flex' </script> <table border=\"1\" class=\"dataframe\">\n",
       "  <thead>\n",
       "    <tr style=\"text-align: right;\">\n",
       "      <th></th>\n",
       "      <th>0</th>\n",
       "      <th>1</th>\n",
       "      <th>2</th>\n",
       "      <th>3</th>\n",
       "      <th>4</th>\n",
       "      <th>5</th>\n",
       "      <th>6</th>\n",
       "      <th>7</th>\n",
       "      <th>8</th>\n",
       "      <th>9</th>\n",
       "      <th>...</th>\n",
       "      <th>15909</th>\n",
       "      <th>15910</th>\n",
       "      <th>15911</th>\n",
       "      <th>15912</th>\n",
       "      <th>15913</th>\n",
       "      <th>15914</th>\n",
       "      <th>15915</th>\n",
       "      <th>15916</th>\n",
       "      <th>15917</th>\n",
       "      <th>15918</th>\n",
       "    </tr>\n",
       "  </thead>\n",
       "  <tbody>\n",
       "    <tr>\n",
       "      <th>url</th>\n",
       "      <td>https://www.autoscout24.com//offers/audi-a1-sportback-1-4-tdi-s-tronic-xenon-navi-klima-diesel-black-bdab349a-caa5-41b0-98eb-c1345b84445e</td>\n",
       "      <td>https://www.autoscout24.com//offers/audi-a1-1-8-tfsi-sport-gasoline-red-b2547f8a-e83f-6237-e053-e250040a56df</td>\n",
       "      <td>https://www.autoscout24.com//offers/audi-a1-sportback-1-6-tdi-s-tronic-einparkhilfe-plus-music-diesel-black-6183cb6a-8570-4b86-a132-9b54214bca88</td>\n",
       "      <td>https://www.autoscout24.com//offers/audi-a1-1-4-tdi-design-s-tronic-diesel-brown-35c86585-2727-d61e-e053-e250040ad640</td>\n",
       "      <td>https://www.autoscout24.com//offers/audi-a1-sportback-1-4-tdi-s-tronic-s-line-ext-admired-xe-diesel-black-b86b55d8-9c7c-4a58-b658-b97008a51efc</td>\n",
       "      <td>https://www.autoscout24.com//offers/audi-a1-1-6-tdi-sport-dsg-shz-xenon-navi-bose-pdc-diesel-white-9784453b-91e6-4777-b9c5-22efa9217931</td>\n",
       "      <td>https://www.autoscout24.com//offers/audi-a1-sportback-1-6-tdi-s-tronic-s-line-navi-xenon-diesel-white-7b75e258-dffd-4ce5-b8c5-0b2b34ae29ab</td>\n",
       "      <td>https://www.autoscout24.com//offers/audi-a1-sportback-1-4-tdi-admired-s-tronic-diesel-red-12065aff-8a0a-43f5-b077-f5168217956f</td>\n",
       "      <td>https://www.autoscout24.com//offers/audi-a1-spb-1-6-tdi-s-tronic-metal-plus-xeno-diesel-grey-14526900-b5e7-4e5c-8a96-8126f8221be1</td>\n",
       "      <td>https://www.autoscout24.com//offers/audi-a1-sportback-tfsi-ultra-95-s-tronic-amb-gasoline-white-e2c49a42-6aaa-4039-9af1-7546a20c110e</td>\n",
       "      <td>...</td>\n",
       "      <td>https://www.autoscout24.com//offers/renault-espace-limited-blue-dci-200-edc-diesel-black-44aa029d-936d-466b-a631-e6b8ae9faa2b</td>\n",
       "      <td>https://www.autoscout24.com//offers/renault-espace-tce-225-edc-initiale-pdc-shz-bose-klima-gasoline-blue-6cf5dd81-5c06-4871-a0fc-5fdb8c87efa6</td>\n",
       "      <td>https://www.autoscout24.com//offers/renault-espace-elysee-energy-dci-160-edc-diesel-white-d888d486-2a7c-4742-95b2-da3bf8129a67</td>\n",
       "      <td>https://www.autoscout24.com//offers/renault-espace-blue-dci-200cv-edc-executive-4control-diesel-black-eb0f5d79-03b3-4525-b7ee-c9b576142820</td>\n",
       "      <td>https://www.autoscout24.com//offers/renault-espace-initiale-paris-tce-225-edc-gpf-acc-eu6-gasoline-white-5269a852-4e8c-4ff6-a228-34ff1b0655bc</td>\n",
       "      <td>https://www.autoscout24.com//offers/renault-espace-blue-dci-200cv-edc-executive-4control-diesel-grey-8de8076f-140e-410c-88ee-ba0312bea2e9</td>\n",
       "      <td>https://www.autoscout24.com//offers/renault-espace-tce-225-edc-gpf-lim-deluxe-pano-rfk-gasoline-grey-1114d233-a176-41aa-b324-299ba89998b4</td>\n",
       "      <td>https://www.autoscout24.com//offers/renault-espace-blue-dci-200-edc-initiale-paris-leder-led-navi-key-diesel-white-6256d1a3-ea68-4193-91de-b5b5ffa4631c</td>\n",
       "      <td>https://www.autoscout24.com//offers/renault-espace-blue-dci-200cv-edc-business-nuova-da-immatricola-diesel-grey-5b0251a1-bd88-475c-a039-7e499da85d9d</td>\n",
       "      <td>https://www.autoscout24.com//offers/renault-espace-initiale-paris-tce-225-edc-gpf-navi-shz-aux-gasoline-grey-0bd690d9-7e93-4cab-bc5a-9d5b63402481</td>\n",
       "    </tr>\n",
       "    <tr>\n",
       "      <th>make_model</th>\n",
       "      <td>Audi A1</td>\n",
       "      <td>Audi A1</td>\n",
       "      <td>Audi A1</td>\n",
       "      <td>Audi A1</td>\n",
       "      <td>Audi A1</td>\n",
       "      <td>Audi A1</td>\n",
       "      <td>Audi A1</td>\n",
       "      <td>Audi A1</td>\n",
       "      <td>Audi A1</td>\n",
       "      <td>Audi A1</td>\n",
       "      <td>...</td>\n",
       "      <td>Renault Espace</td>\n",
       "      <td>Renault Espace</td>\n",
       "      <td>Renault Espace</td>\n",
       "      <td>Renault Espace</td>\n",
       "      <td>Renault Espace</td>\n",
       "      <td>Renault Espace</td>\n",
       "      <td>Renault Espace</td>\n",
       "      <td>Renault Espace</td>\n",
       "      <td>Renault Espace</td>\n",
       "      <td>Renault Espace</td>\n",
       "    </tr>\n",
       "    <tr>\n",
       "      <th>short_description</th>\n",
       "      <td>Sportback 1.4 TDI S-tronic Xenon Navi Klima</td>\n",
       "      <td>1.8 TFSI sport</td>\n",
       "      <td>Sportback 1.6 TDI S tronic Einparkhilfe plus+music</td>\n",
       "      <td>1.4 TDi Design S tronic</td>\n",
       "      <td>Sportback 1.4 TDI S-Tronic S-Line Ext. admired, Xe</td>\n",
       "      <td>1.6 TDI Sport DSG *SHZ*Xenon*Navi*Bose*PDC*</td>\n",
       "      <td>Sportback 1.6 TDI S-TRONIC S-LINE*NAVI|XENON*</td>\n",
       "      <td>Sportback 1.4 TDI admired S tronic</td>\n",
       "      <td>SPB 1.6 TDI S-tronic Metal plus + Xeno</td>\n",
       "      <td>SPORTBACK TFSI ULTRA 95 S-TRONIC AMB.</td>\n",
       "      <td>...</td>\n",
       "      <td>Limited Blue dCi 200 EDC</td>\n",
       "      <td>TCe 225 EDC INITIALE PDC SHZ BOSE KLIMA</td>\n",
       "      <td>ELYSEE ENERGY dCi 160 EDC</td>\n",
       "      <td>Blue dCi 200CV EDC Executive 4Control</td>\n",
       "      <td>INITIALE Paris TCe 225 EDC GPF ACC EU6</td>\n",
       "      <td>Blue dCi 200CV EDC Executive 4Control</td>\n",
       "      <td>TCe 225 EDC GPF LIM Deluxe Pano,RFK</td>\n",
       "      <td>Blue dCi 200 EDC Initiale Paris Leder LED Navi Key</td>\n",
       "      <td>Blue dCi 200CV EDC Business , NUOVA DA IMMATRICOLA</td>\n",
       "      <td>INITIALE PARIS TCe 225 EDC GPF NAVI SHZ AUX</td>\n",
       "    </tr>\n",
       "    <tr>\n",
       "      <th>body_type</th>\n",
       "      <td>Sedans</td>\n",
       "      <td>Sedans</td>\n",
       "      <td>Sedans</td>\n",
       "      <td>Sedans</td>\n",
       "      <td>Sedans</td>\n",
       "      <td>Sedans</td>\n",
       "      <td>Station wagon</td>\n",
       "      <td>Compact</td>\n",
       "      <td>Sedans</td>\n",
       "      <td>Sedans</td>\n",
       "      <td>...</td>\n",
       "      <td>Van</td>\n",
       "      <td>Van</td>\n",
       "      <td>Van</td>\n",
       "      <td>Van</td>\n",
       "      <td>Van</td>\n",
       "      <td>Van</td>\n",
       "      <td>Van</td>\n",
       "      <td>Van</td>\n",
       "      <td>Van</td>\n",
       "      <td>Van</td>\n",
       "    </tr>\n",
       "    <tr>\n",
       "      <th>vat</th>\n",
       "      <td>VAT deductible</td>\n",
       "      <td>Price negotiable</td>\n",
       "      <td>VAT deductible</td>\n",
       "      <td>None</td>\n",
       "      <td>None</td>\n",
       "      <td>None</td>\n",
       "      <td>VAT deductible</td>\n",
       "      <td>VAT deductible</td>\n",
       "      <td>None</td>\n",
       "      <td>None</td>\n",
       "      <td>...</td>\n",
       "      <td>VAT deductible</td>\n",
       "      <td>VAT deductible</td>\n",
       "      <td>VAT deductible</td>\n",
       "      <td>VAT deductible</td>\n",
       "      <td>VAT deductible</td>\n",
       "      <td>VAT deductible</td>\n",
       "      <td>VAT deductible</td>\n",
       "      <td>VAT deductible</td>\n",
       "      <td>VAT deductible</td>\n",
       "      <td>VAT deductible</td>\n",
       "    </tr>\n",
       "    <tr>\n",
       "      <th>...</th>\n",
       "      <td>...</td>\n",
       "      <td>...</td>\n",
       "      <td>...</td>\n",
       "      <td>...</td>\n",
       "      <td>...</td>\n",
       "      <td>...</td>\n",
       "      <td>...</td>\n",
       "      <td>...</td>\n",
       "      <td>...</td>\n",
       "      <td>...</td>\n",
       "      <td>...</td>\n",
       "      <td>...</td>\n",
       "      <td>...</td>\n",
       "      <td>...</td>\n",
       "      <td>...</td>\n",
       "      <td>...</td>\n",
       "      <td>...</td>\n",
       "      <td>...</td>\n",
       "      <td>...</td>\n",
       "      <td>...</td>\n",
       "      <td>...</td>\n",
       "    </tr>\n",
       "    <tr>\n",
       "      <th>last_service_date</th>\n",
       "      <td>NaN</td>\n",
       "      <td>NaN</td>\n",
       "      <td>NaN</td>\n",
       "      <td>NaN</td>\n",
       "      <td>NaN</td>\n",
       "      <td>NaN</td>\n",
       "      <td>NaN</td>\n",
       "      <td>NaN</td>\n",
       "      <td>NaN</td>\n",
       "      <td>NaN</td>\n",
       "      <td>...</td>\n",
       "      <td>NaN</td>\n",
       "      <td>NaN</td>\n",
       "      <td>NaN</td>\n",
       "      <td>NaN</td>\n",
       "      <td>NaN</td>\n",
       "      <td>NaN</td>\n",
       "      <td>NaN</td>\n",
       "      <td>NaN</td>\n",
       "      <td>NaN</td>\n",
       "      <td>NaN</td>\n",
       "    </tr>\n",
       "    <tr>\n",
       "      <th>other_fuel_types</th>\n",
       "      <td>NaN</td>\n",
       "      <td>NaN</td>\n",
       "      <td>NaN</td>\n",
       "      <td>NaN</td>\n",
       "      <td>NaN</td>\n",
       "      <td>NaN</td>\n",
       "      <td>NaN</td>\n",
       "      <td>NaN</td>\n",
       "      <td>NaN</td>\n",
       "      <td>NaN</td>\n",
       "      <td>...</td>\n",
       "      <td>NaN</td>\n",
       "      <td>NaN</td>\n",
       "      <td>NaN</td>\n",
       "      <td>NaN</td>\n",
       "      <td>NaN</td>\n",
       "      <td>NaN</td>\n",
       "      <td>[[], [], []]</td>\n",
       "      <td>NaN</td>\n",
       "      <td>NaN</td>\n",
       "      <td>NaN</td>\n",
       "    </tr>\n",
       "    <tr>\n",
       "      <th>availability</th>\n",
       "      <td>NaN</td>\n",
       "      <td>NaN</td>\n",
       "      <td>NaN</td>\n",
       "      <td>NaN</td>\n",
       "      <td>NaN</td>\n",
       "      <td>NaN</td>\n",
       "      <td>NaN</td>\n",
       "      <td>NaN</td>\n",
       "      <td>NaN</td>\n",
       "      <td>NaN</td>\n",
       "      <td>...</td>\n",
       "      <td>NaN</td>\n",
       "      <td>NaN</td>\n",
       "      <td>NaN</td>\n",
       "      <td>NaN</td>\n",
       "      <td>NaN</td>\n",
       "      <td>NaN</td>\n",
       "      <td>\\nin 5 days from ordering\\n</td>\n",
       "      <td>\\nin 120 days from ordering\\n</td>\n",
       "      <td>NaN</td>\n",
       "      <td>NaN</td>\n",
       "    </tr>\n",
       "    <tr>\n",
       "      <th>last_timing_belt_service_date</th>\n",
       "      <td>NaN</td>\n",
       "      <td>NaN</td>\n",
       "      <td>NaN</td>\n",
       "      <td>NaN</td>\n",
       "      <td>NaN</td>\n",
       "      <td>NaN</td>\n",
       "      <td>NaN</td>\n",
       "      <td>NaN</td>\n",
       "      <td>NaN</td>\n",
       "      <td>NaN</td>\n",
       "      <td>...</td>\n",
       "      <td>NaN</td>\n",
       "      <td>NaN</td>\n",
       "      <td>NaN</td>\n",
       "      <td>NaN</td>\n",
       "      <td>NaN</td>\n",
       "      <td>NaN</td>\n",
       "      <td>NaN</td>\n",
       "      <td>NaN</td>\n",
       "      <td>NaN</td>\n",
       "      <td>NaN</td>\n",
       "    </tr>\n",
       "    <tr>\n",
       "      <th>available_from</th>\n",
       "      <td>NaN</td>\n",
       "      <td>NaN</td>\n",
       "      <td>NaN</td>\n",
       "      <td>NaN</td>\n",
       "      <td>NaN</td>\n",
       "      <td>NaN</td>\n",
       "      <td>NaN</td>\n",
       "      <td>NaN</td>\n",
       "      <td>NaN</td>\n",
       "      <td>NaN</td>\n",
       "      <td>...</td>\n",
       "      <td>NaN</td>\n",
       "      <td>NaN</td>\n",
       "      <td>NaN</td>\n",
       "      <td>NaN</td>\n",
       "      <td>NaN</td>\n",
       "      <td>NaN</td>\n",
       "      <td>NaN</td>\n",
       "      <td>NaN</td>\n",
       "      <td>NaN</td>\n",
       "      <td>NaN</td>\n",
       "    </tr>\n",
       "  </tbody>\n",
       "</table></div>"
      ],
      "text/plain": [
       "                                                                           0      \\\n",
       "url                            https://www.autoscout24.com//offers/audi-a1-sp...   \n",
       "make_model                                                               Audi A1   \n",
       "short_description                    Sportback 1.4 TDI S-tronic Xenon Navi Klima   \n",
       "body_type                                                                 Sedans   \n",
       "vat                                                               VAT deductible   \n",
       "km                                                                     56,013 km   \n",
       "registration                                                             01/2016   \n",
       "prev_owner                                                     2 previous owners   \n",
       "hp                                                                         66 kW   \n",
       "Type                                     [, Used, , Diesel (Particulate Filter)]   \n",
       "previous_owners                                                            \\n2\\n   \n",
       "next_inspection                            [\\n06/2021\\n, \\n99 g CO2/km (comb)\\n]   \n",
       "inspection_new                                             [\\nYes\\n, \\nEuro 6\\n]   \n",
       "warranty                                                 [\\n, \\n, \\n4 (Green)\\n]   \n",
       "full_service                                                            [\\n, \\n]   \n",
       "non_smoking_vehicle                                                     [\\n, \\n]   \n",
       "null                                                                          []   \n",
       "make                                                                    \\nAudi\\n   \n",
       "model                                                               [\\n, A1, \\n]   \n",
       "offer_number                                                     [\\nLR-062483\\n]   \n",
       "first_registration                                                [\\n, 2016, \\n]   \n",
       "body_color                                                       [\\n, Black, \\n]   \n",
       "paint_type                                                        [\\nMetallic\\n]   \n",
       "body_color_original                                          [\\nMythosschwarz\\n]   \n",
       "upholstery                                                    [\\nCloth, Black\\n]   \n",
       "body                                                            [\\n, Sedans, \\n]   \n",
       "num_of_doors                                                             [\\n5\\n]   \n",
       "num_of_seats                                                             [\\n5\\n]   \n",
       "model_code                                                        [\\n0588/BDF\\n]   \n",
       "gearing_type                                                 [\\n, Automatic, \\n]   \n",
       "displacement                                                      [\\n1,422 cc\\n]   \n",
       "cylinders                                                                [\\n3\\n]   \n",
       "weight                                                            [\\n1,220 kg\\n]   \n",
       "drive_chain                                                          [\\nfront\\n]   \n",
       "fuel                                       [\\n, Diesel (Particulate Filter), \\n]   \n",
       "consumption                    [[3.8 l/100 km (comb)], [4.3 l/100 km (city)],...   \n",
       "co2_emission                                            [\\n99 g CO2/km (comb)\\n]   \n",
       "emission_class                                                      [\\nEuro 6\\n]   \n",
       "comfort_convenience            [Air conditioning, Armrest, Automatic climate ...   \n",
       "entertainment_media            [Bluetooth, Hands-free equipment, On-board com...   \n",
       "extras                         [Alloy wheels, Catalytic Converter, Voice Cont...   \n",
       "safety_security                [ABS, Central door lock, Daytime running light...   \n",
       "description                    [\\n, Sicherheit:,  , Deaktivierung für Beifahr...   \n",
       "emission_label                                                               NaN   \n",
       "gears                                                                        NaN   \n",
       "country_version                                                              NaN   \n",
       "electricity_consumption                                                      NaN   \n",
       "last_service_date                                                            NaN   \n",
       "other_fuel_types                                                             NaN   \n",
       "availability                                                                 NaN   \n",
       "last_timing_belt_service_date                                                NaN   \n",
       "available_from                                                               NaN   \n",
       "\n",
       "                                                                           1      \\\n",
       "url                            https://www.autoscout24.com//offers/audi-a1-1-...   \n",
       "make_model                                                               Audi A1   \n",
       "short_description                                                 1.8 TFSI sport   \n",
       "body_type                                                                 Sedans   \n",
       "vat                                                             Price negotiable   \n",
       "km                                                                     80,000 km   \n",
       "registration                                                             03/2017   \n",
       "prev_owner                                                                  None   \n",
       "hp                                                                        141 kW   \n",
       "Type                                                        [, Used, , Gasoline]   \n",
       "previous_owners                                                              NaN   \n",
       "next_inspection                                                              NaN   \n",
       "inspection_new                                                               NaN   \n",
       "warranty                                                                     NaN   \n",
       "full_service                                                                 NaN   \n",
       "non_smoking_vehicle                                                          NaN   \n",
       "null                                                                          []   \n",
       "make                                                                    \\nAudi\\n   \n",
       "model                                                               [\\n, A1, \\n]   \n",
       "offer_number                                                                 NaN   \n",
       "first_registration                                                [\\n, 2017, \\n]   \n",
       "body_color                                                         [\\n, Red, \\n]   \n",
       "paint_type                                                                   NaN   \n",
       "body_color_original                                                          NaN   \n",
       "upholstery                                                     [\\nCloth, Grey\\n]   \n",
       "body                                                            [\\n, Sedans, \\n]   \n",
       "num_of_doors                                                             [\\n3\\n]   \n",
       "num_of_seats                                                             [\\n4\\n]   \n",
       "model_code                                                        [\\n0588/BCY\\n]   \n",
       "gearing_type                                                 [\\n, Automatic, \\n]   \n",
       "displacement                                                      [\\n1,798 cc\\n]   \n",
       "cylinders                                                                [\\n4\\n]   \n",
       "weight                                                            [\\n1,255 kg\\n]   \n",
       "drive_chain                                                          [\\nfront\\n]   \n",
       "fuel                                                          [\\n, Gasoline, \\n]   \n",
       "consumption                    [[5.6 l/100 km (comb)], [7.1 l/100 km (city)],...   \n",
       "co2_emission                                           [\\n129 g CO2/km (comb)\\n]   \n",
       "emission_class                                                      [\\nEuro 6\\n]   \n",
       "comfort_convenience            [Air conditioning, Automatic climate control, ...   \n",
       "entertainment_media            [Bluetooth, Hands-free equipment, On-board com...   \n",
       "extras                         [Alloy wheels, Sport seats, Sport suspension, ...   \n",
       "safety_security                [ABS, Central door lock, Central door lock wit...   \n",
       "description                    [\\nLangstreckenfahrzeug daher die hohe Kilomet...   \n",
       "emission_label                                                   [\\n4 (Green)\\n]   \n",
       "gears                                                                    [\\n7\\n]   \n",
       "country_version                                                              NaN   \n",
       "electricity_consumption                                                      NaN   \n",
       "last_service_date                                                            NaN   \n",
       "other_fuel_types                                                             NaN   \n",
       "availability                                                                 NaN   \n",
       "last_timing_belt_service_date                                                NaN   \n",
       "available_from                                                               NaN   \n",
       "\n",
       "                                                                           2      \\\n",
       "url                            https://www.autoscout24.com//offers/audi-a1-sp...   \n",
       "make_model                                                               Audi A1   \n",
       "short_description              Sportback 1.6 TDI S tronic Einparkhilfe plus+m...   \n",
       "body_type                                                                 Sedans   \n",
       "vat                                                               VAT deductible   \n",
       "km                                                                     83,450 km   \n",
       "registration                                                             02/2016   \n",
       "prev_owner                                                      1 previous owner   \n",
       "hp                                                                         85 kW   \n",
       "Type                                     [, Used, , Diesel (Particulate Filter)]   \n",
       "previous_owners                                                            \\n1\\n   \n",
       "next_inspection                                                              NaN   \n",
       "inspection_new                                                               NaN   \n",
       "warranty                                        [\\n, \\n, \\n99 g CO2/km (comb)\\n]   \n",
       "full_service                                                                 NaN   \n",
       "non_smoking_vehicle                                                          NaN   \n",
       "null                                                                          []   \n",
       "make                                                                    \\nAudi\\n   \n",
       "model                                                               [\\n, A1, \\n]   \n",
       "offer_number                                                      [\\nAM-95365\\n]   \n",
       "first_registration                                                [\\n, 2016, \\n]   \n",
       "body_color                                                       [\\n, Black, \\n]   \n",
       "paint_type                                                        [\\nMetallic\\n]   \n",
       "body_color_original                                 [\\nmythosschwarz metallic\\n]   \n",
       "upholstery                                                    [\\nCloth, Black\\n]   \n",
       "body                                                            [\\n, Sedans, \\n]   \n",
       "num_of_doors                                                             [\\n4\\n]   \n",
       "num_of_seats                                                             [\\n4\\n]   \n",
       "model_code                                                                   NaN   \n",
       "gearing_type                                                 [\\n, Automatic, \\n]   \n",
       "displacement                                                      [\\n1,598 cc\\n]   \n",
       "cylinders                                                                    NaN   \n",
       "weight                                                                       NaN   \n",
       "drive_chain                                                          [\\nfront\\n]   \n",
       "fuel                                       [\\n, Diesel (Particulate Filter), \\n]   \n",
       "consumption                    [[3.8 l/100 km (comb)], [4.4 l/100 km (city)],...   \n",
       "co2_emission                                            [\\n99 g CO2/km (comb)\\n]   \n",
       "emission_class                                                      [\\nEuro 6\\n]   \n",
       "comfort_convenience            [Air conditioning, Cruise control, Electrical ...   \n",
       "entertainment_media                                     [MP3, On-board computer]   \n",
       "extras                                             [Alloy wheels, Voice Control]   \n",
       "safety_security                [ABS, Central door lock, Daytime running light...   \n",
       "description                    [\\n, Fahrzeug-Nummer: AM-95365,  , Ehem. UPE 2...   \n",
       "emission_label                                                   [\\n4 (Green)\\n]   \n",
       "gears                                                                        NaN   \n",
       "country_version                                                              NaN   \n",
       "electricity_consumption                                                      NaN   \n",
       "last_service_date                                                            NaN   \n",
       "other_fuel_types                                                             NaN   \n",
       "availability                                                                 NaN   \n",
       "last_timing_belt_service_date                                                NaN   \n",
       "available_from                                                               NaN   \n",
       "\n",
       "                                                                           3      \\\n",
       "url                            https://www.autoscout24.com//offers/audi-a1-1-...   \n",
       "make_model                                                               Audi A1   \n",
       "short_description                                        1.4 TDi Design S tronic   \n",
       "body_type                                                                 Sedans   \n",
       "vat                                                                         None   \n",
       "km                                                                     73,000 km   \n",
       "registration                                                             08/2016   \n",
       "prev_owner                                                      1 previous owner   \n",
       "hp                                                                         66 kW   \n",
       "Type                                     [, Used, , Diesel (Particulate Filter)]   \n",
       "previous_owners                                                            \\n1\\n   \n",
       "next_inspection                                                              NaN   \n",
       "inspection_new                                                               NaN   \n",
       "warranty                                                                     NaN   \n",
       "full_service                                    [\\n, \\n, \\n99 g CO2/km (comb)\\n]   \n",
       "non_smoking_vehicle                                         [\\n, \\n, \\nEuro 6\\n]   \n",
       "null                                                                          []   \n",
       "make                                                                    \\nAudi\\n   \n",
       "model                                                               [\\n, A1, \\n]   \n",
       "offer_number                                                                 NaN   \n",
       "first_registration                                                [\\n, 2016, \\n]   \n",
       "body_color                                                       [\\n, Brown, \\n]   \n",
       "paint_type                                                        [\\nMetallic\\n]   \n",
       "body_color_original                                                          NaN   \n",
       "upholstery                                                                   NaN   \n",
       "body                                                            [\\n, Sedans, \\n]   \n",
       "num_of_doors                                                             [\\n3\\n]   \n",
       "num_of_seats                                                             [\\n4\\n]   \n",
       "model_code                                                                   NaN   \n",
       "gearing_type                                                 [\\n, Automatic, \\n]   \n",
       "displacement                                                      [\\n1,422 cc\\n]   \n",
       "cylinders                                                                [\\n3\\n]   \n",
       "weight                                                            [\\n1,195 kg\\n]   \n",
       "drive_chain                                                                  NaN   \n",
       "fuel                                       [\\n, Diesel (Particulate Filter), \\n]   \n",
       "consumption                    [[3.8 l/100 km (comb)], [4.3 l/100 km (city)],...   \n",
       "co2_emission                                            [\\n99 g CO2/km (comb)\\n]   \n",
       "emission_class                                                      [\\nEuro 6\\n]   \n",
       "comfort_convenience            [Air suspension, Armrest, Auxiliary heating, E...   \n",
       "entertainment_media            [Bluetooth, CD player, Hands-free equipment, M...   \n",
       "extras                                [Alloy wheels, Sport seats, Voice Control]   \n",
       "safety_security                [ABS, Alarm system, Central door lock with rem...   \n",
       "description                    [\\nAudi A1: , - 1e eigenaar , - Perfecte staat...   \n",
       "emission_label                                                               NaN   \n",
       "gears                                                                    [\\n6\\n]   \n",
       "country_version                                                              NaN   \n",
       "electricity_consumption                                                      NaN   \n",
       "last_service_date                                                            NaN   \n",
       "other_fuel_types                                                             NaN   \n",
       "availability                                                                 NaN   \n",
       "last_timing_belt_service_date                                                NaN   \n",
       "available_from                                                               NaN   \n",
       "\n",
       "                                                                           4      \\\n",
       "url                            https://www.autoscout24.com//offers/audi-a1-sp...   \n",
       "make_model                                                               Audi A1   \n",
       "short_description              Sportback 1.4 TDI S-Tronic S-Line Ext. admired...   \n",
       "body_type                                                                 Sedans   \n",
       "vat                                                                         None   \n",
       "km                                                                     16,200 km   \n",
       "registration                                                             05/2016   \n",
       "prev_owner                                                      1 previous owner   \n",
       "hp                                                                         66 kW   \n",
       "Type                                     [, Used, , Diesel (Particulate Filter)]   \n",
       "previous_owners                                                            \\n1\\n   \n",
       "next_inspection                                                              NaN   \n",
       "inspection_new                                [\\nYes\\n, \\n109 g CO2/km (comb)\\n]   \n",
       "warranty                                                    [\\n, \\n, \\nEuro 6\\n]   \n",
       "full_service                                             [\\n, \\n, \\n4 (Green)\\n]   \n",
       "non_smoking_vehicle                                                     [\\n, \\n]   \n",
       "null                                                                          []   \n",
       "make                                                                    \\nAudi\\n   \n",
       "model                                                               [\\n, A1, \\n]   \n",
       "offer_number                                                         [\\nC1626\\n]   \n",
       "first_registration                                                [\\n, 2016, \\n]   \n",
       "body_color                                                       [\\n, Black, \\n]   \n",
       "paint_type                                                        [\\nMetallic\\n]   \n",
       "body_color_original                                 [\\nMythosschwarz Metallic\\n]   \n",
       "upholstery                                                    [\\nCloth, Black\\n]   \n",
       "body                                                            [\\n, Sedans, \\n]   \n",
       "num_of_doors                                                             [\\n5\\n]   \n",
       "num_of_seats                                                             [\\n5\\n]   \n",
       "model_code                                                        [\\n0588/BDF\\n]   \n",
       "gearing_type                                                 [\\n, Automatic, \\n]   \n",
       "displacement                                                      [\\n1,422 cc\\n]   \n",
       "cylinders                                                                [\\n3\\n]   \n",
       "weight                                                                       NaN   \n",
       "drive_chain                                                          [\\nfront\\n]   \n",
       "fuel                                       [\\n, Diesel (Particulate Filter), \\n]   \n",
       "consumption                    [[4.1 l/100 km (comb)], [4.6 l/100 km (city)],...   \n",
       "co2_emission                                           [\\n109 g CO2/km (comb)\\n]   \n",
       "emission_class                                                      [\\nEuro 6\\n]   \n",
       "comfort_convenience            [Air conditioning, Armrest, Automatic climate ...   \n",
       "entertainment_media            [Bluetooth, CD player, Hands-free equipment, M...   \n",
       "extras                         [Alloy wheels, Sport package, Sport suspension...   \n",
       "safety_security                [ABS, Central door lock, Driver-side airbag, E...   \n",
       "description                    [\\n, Technik & Sicherheit:, Xenon plus, Klimaa...   \n",
       "emission_label                                                               NaN   \n",
       "gears                                                                        NaN   \n",
       "country_version                                                    [\\nGermany\\n]   \n",
       "electricity_consumption                                                      NaN   \n",
       "last_service_date                                                            NaN   \n",
       "other_fuel_types                                                             NaN   \n",
       "availability                                                                 NaN   \n",
       "last_timing_belt_service_date                                                NaN   \n",
       "available_from                                                               NaN   \n",
       "\n",
       "                                                                           5      \\\n",
       "url                            https://www.autoscout24.com//offers/audi-a1-1-...   \n",
       "make_model                                                               Audi A1   \n",
       "short_description                    1.6 TDI Sport DSG *SHZ*Xenon*Navi*Bose*PDC*   \n",
       "body_type                                                                 Sedans   \n",
       "vat                                                                         None   \n",
       "km                                                                     63,668 km   \n",
       "registration                                                             02/2016   \n",
       "prev_owner                                                      1 previous owner   \n",
       "hp                                                                         85 kW   \n",
       "Type                                     [, Used, , Diesel (Particulate Filter)]   \n",
       "previous_owners                                                            \\n1\\n   \n",
       "next_inspection                                                              NaN   \n",
       "inspection_new                                                               NaN   \n",
       "warranty                                                                     NaN   \n",
       "full_service                                    [\\n, \\n, \\n92 g CO2/km (comb)\\n]   \n",
       "non_smoking_vehicle                                         [\\n, \\n, \\nEuro 6\\n]   \n",
       "null                                                                          []   \n",
       "make                                                                    \\nAudi\\n   \n",
       "model                                                               [\\n, A1, \\n]   \n",
       "offer_number                                                       [\\nJV03654\\n]   \n",
       "first_registration                                                [\\n, 2016, \\n]   \n",
       "body_color                                                       [\\n, White, \\n]   \n",
       "paint_type                                                        [\\nMetallic\\n]   \n",
       "body_color_original                                                          NaN   \n",
       "upholstery                                             [\\nPart leather, Black\\n]   \n",
       "body                                                            [\\n, Sedans, \\n]   \n",
       "num_of_doors                                                             [\\n4\\n]   \n",
       "num_of_seats                                                             [\\n5\\n]   \n",
       "model_code                                                                   NaN   \n",
       "gearing_type                                                 [\\n, Automatic, \\n]   \n",
       "displacement                                                      [\\n1,598 cc\\n]   \n",
       "cylinders                                                                    NaN   \n",
       "weight                                                                       NaN   \n",
       "drive_chain                                                                  NaN   \n",
       "fuel                                       [\\n, Diesel (Particulate Filter), \\n]   \n",
       "consumption                    [[3.5 l/100 km (comb)], [4.3 l/100 km (city)],...   \n",
       "co2_emission                                            [\\n92 g CO2/km (comb)\\n]   \n",
       "emission_class                                                      [\\nEuro 6\\n]   \n",
       "comfort_convenience            [Air conditioning, Armrest, Automatic climate ...   \n",
       "entertainment_media            [Bluetooth, Hands-free equipment, On-board com...   \n",
       "extras                         [Alloy wheels, Sport package, Sport seats, Spo...   \n",
       "safety_security                [ABS, Central door lock, Daytime running light...   \n",
       "description                    [\\nSichern Sie sich diesen Audi A1 1.6 TDI Spo...   \n",
       "emission_label                                                   [\\n4 (Green)\\n]   \n",
       "gears                                                                        NaN   \n",
       "country_version                                                    [\\nGermany\\n]   \n",
       "electricity_consumption                                                      NaN   \n",
       "last_service_date                                                            NaN   \n",
       "other_fuel_types                                                             NaN   \n",
       "availability                                                                 NaN   \n",
       "last_timing_belt_service_date                                                NaN   \n",
       "available_from                                                               NaN   \n",
       "\n",
       "                                                                           6      \\\n",
       "url                            https://www.autoscout24.com//offers/audi-a1-sp...   \n",
       "make_model                                                               Audi A1   \n",
       "short_description                  Sportback 1.6 TDI S-TRONIC S-LINE*NAVI|XENON*   \n",
       "body_type                                                          Station wagon   \n",
       "vat                                                               VAT deductible   \n",
       "km                                                                     62,111 km   \n",
       "registration                                                             03/2016   \n",
       "prev_owner                                                      1 previous owner   \n",
       "hp                                                                         85 kW   \n",
       "Type                                     [, Used, , Diesel (Particulate Filter)]   \n",
       "previous_owners                                                            \\n1\\n   \n",
       "next_inspection                                                              NaN   \n",
       "inspection_new                                 [\\nYes\\n, \\n98 g CO2/km (comb)\\n]   \n",
       "warranty                                                                     NaN   \n",
       "full_service                                                [\\n, \\n, \\nEuro 6\\n]   \n",
       "non_smoking_vehicle                                      [\\n, \\n, \\n4 (Green)\\n]   \n",
       "null                                                                          []   \n",
       "make                                                                    \\nAudi\\n   \n",
       "model                                                               [\\n, A1, \\n]   \n",
       "offer_number                                                        [\\n200-19\\n]   \n",
       "first_registration                                                [\\n, 2016, \\n]   \n",
       "body_color                                                       [\\n, White, \\n]   \n",
       "paint_type                                                        [\\nMetallic\\n]   \n",
       "body_color_original                                         [\\nGletscherweiss\\n]   \n",
       "upholstery                                             [\\nPart leather, Black\\n]   \n",
       "body                                                     [\\n, Station wagon, \\n]   \n",
       "num_of_doors                                                             [\\n4\\n]   \n",
       "num_of_seats                                                             [\\n5\\n]   \n",
       "model_code                                                                   NaN   \n",
       "gearing_type                                                 [\\n, Automatic, \\n]   \n",
       "displacement                                                      [\\n1,598 cc\\n]   \n",
       "cylinders                                                                [\\n4\\n]   \n",
       "weight                                                                       NaN   \n",
       "drive_chain                                                          [\\nfront\\n]   \n",
       "fuel                                       [\\n, Diesel (Particulate Filter), \\n]   \n",
       "consumption                    [[3.7 l/100 km (comb)], [4.3 l/100 km (city)],...   \n",
       "co2_emission                                            [\\n98 g CO2/km (comb)\\n]   \n",
       "emission_class                                                      [\\nEuro 6\\n]   \n",
       "comfort_convenience            [Air conditioning, Armrest, Automatic climate ...   \n",
       "entertainment_media            [Bluetooth, CD player, Hands-free equipment, O...   \n",
       "extras                         [Alloy wheels, Sport package, Sport seats, Spo...   \n",
       "safety_security                [ABS, Central door lock, Daytime running light...   \n",
       "description                    [\\nREDUZIERT !!!, MwSt. ausweisbar, Nettopreis...   \n",
       "emission_label                                                               NaN   \n",
       "gears                                                                        NaN   \n",
       "country_version                                                    [\\nGermany\\n]   \n",
       "electricity_consumption                                                      NaN   \n",
       "last_service_date                                                            NaN   \n",
       "other_fuel_types                                                             NaN   \n",
       "availability                                                                 NaN   \n",
       "last_timing_belt_service_date                                                NaN   \n",
       "available_from                                                               NaN   \n",
       "\n",
       "                                                                           7      \\\n",
       "url                            https://www.autoscout24.com//offers/audi-a1-sp...   \n",
       "make_model                                                               Audi A1   \n",
       "short_description                             Sportback 1.4 TDI admired S tronic   \n",
       "body_type                                                                Compact   \n",
       "vat                                                               VAT deductible   \n",
       "km                                                                     14,986 km   \n",
       "registration                                                             02/2016   \n",
       "prev_owner                                                      1 previous owner   \n",
       "hp                                                                         66 kW   \n",
       "Type                                     [, Used, , Diesel (Particulate Filter)]   \n",
       "previous_owners                                                            \\n1\\n   \n",
       "next_inspection                                                              NaN   \n",
       "inspection_new                                 [\\nYes\\n, \\n97 g CO2/km (comb)\\n]   \n",
       "warranty                                                    [\\n, \\n, \\nEuro 6\\n]   \n",
       "full_service                                             [\\n, \\n, \\n4 (Green)\\n]   \n",
       "non_smoking_vehicle                                                          NaN   \n",
       "null                                                                          []   \n",
       "make                                                                    \\nAudi\\n   \n",
       "model                                                               [\\n, A1, \\n]   \n",
       "offer_number                                                     [\\n18381A-Q2\\n]   \n",
       "first_registration                                                [\\n, 2016, \\n]   \n",
       "body_color                                                         [\\n, Red, \\n]   \n",
       "paint_type                                                        [\\nMetallic\\n]   \n",
       "body_color_original                                   [\\nMisanorot Perleffekt\\n]   \n",
       "upholstery                                                    [\\nCloth, Black\\n]   \n",
       "body                                                           [\\n, Compact, \\n]   \n",
       "num_of_doors                                                             [\\n5\\n]   \n",
       "num_of_seats                                                             [\\n5\\n]   \n",
       "model_code                                                        [\\n0588/BDF\\n]   \n",
       "gearing_type                                                 [\\n, Automatic, \\n]   \n",
       "displacement                                                      [\\n1,422 cc\\n]   \n",
       "cylinders                                                                    NaN   \n",
       "weight                                                                       NaN   \n",
       "drive_chain                                                          [\\nfront\\n]   \n",
       "fuel                                       [\\n, Diesel (Particulate Filter), \\n]   \n",
       "consumption                    [[3.7 l/100 km (comb)], [4.2 l/100 km (city)],...   \n",
       "co2_emission                                            [\\n97 g CO2/km (comb)\\n]   \n",
       "emission_class                                                      [\\nEuro 6\\n]   \n",
       "comfort_convenience            [Air conditioning, Armrest, Electrical side mi...   \n",
       "entertainment_media                                      [CD player, MP3, Radio]   \n",
       "extras                                                            [Alloy wheels]   \n",
       "safety_security                [ABS, Central door lock, Daytime running light...   \n",
       "description                    [\\n, Ausstattungspakete:,  Ausstattungspaket: ...   \n",
       "emission_label                                                               NaN   \n",
       "gears                                                                    [\\n7\\n]   \n",
       "country_version                                                              NaN   \n",
       "electricity_consumption                                                      NaN   \n",
       "last_service_date                                                            NaN   \n",
       "other_fuel_types                                                             NaN   \n",
       "availability                                                                 NaN   \n",
       "last_timing_belt_service_date                                                NaN   \n",
       "available_from                                                               NaN   \n",
       "\n",
       "                                                                           8      \\\n",
       "url                            https://www.autoscout24.com//offers/audi-a1-sp...   \n",
       "make_model                                                               Audi A1   \n",
       "short_description                         SPB 1.6 TDI S-tronic Metal plus + Xeno   \n",
       "body_type                                                                 Sedans   \n",
       "vat                                                                         None   \n",
       "km                                                                     57,000 km   \n",
       "registration                                                             02/2016   \n",
       "prev_owner                                                      1 previous owner   \n",
       "hp                                                                         85 kW   \n",
       "Type                                     [, Used, , Diesel (Particulate Filter)]   \n",
       "previous_owners                                                            \\n1\\n   \n",
       "next_inspection                            [\\n02/2020\\n, \\n97 g CO2/km (comb)\\n]   \n",
       "inspection_new                                                               NaN   \n",
       "warranty                                             [\\n12 months\\n, \\nEuro 6\\n]   \n",
       "full_service                                                                 NaN   \n",
       "non_smoking_vehicle                                                          NaN   \n",
       "null                                                                          []   \n",
       "make                                                                    \\nAudi\\n   \n",
       "model                                                               [\\n, A1, \\n]   \n",
       "offer_number                                                      [\\n11540324\\n]   \n",
       "first_registration                                                [\\n, 2016, \\n]   \n",
       "body_color                                                        [\\n, Grey, \\n]   \n",
       "paint_type                                                        [\\nMetallic\\n]   \n",
       "body_color_original                                                 [\\nGrigio\\n]   \n",
       "upholstery                                                     [\\nCloth, Grey\\n]   \n",
       "body                                                            [\\n, Sedans, \\n]   \n",
       "num_of_doors                                                             [\\n5\\n]   \n",
       "num_of_seats                                                             [\\n4\\n]   \n",
       "model_code                                                                   NaN   \n",
       "gearing_type                                                 [\\n, Automatic, \\n]   \n",
       "displacement                                                      [\\n1,598 cc\\n]   \n",
       "cylinders                                                                [\\n4\\n]   \n",
       "weight                                                            [\\n1,275 kg\\n]   \n",
       "drive_chain                                                          [\\nfront\\n]   \n",
       "fuel                                       [\\n, Diesel (Particulate Filter), \\n]   \n",
       "consumption                    [[3.7 l/100 km (comb)], [4.3 l/100 km (city)],...   \n",
       "co2_emission                                            [\\n97 g CO2/km (comb)\\n]   \n",
       "emission_class                                                      [\\nEuro 6\\n]   \n",
       "comfort_convenience                            [Air conditioning, Power windows]   \n",
       "entertainment_media                                                      [Radio]   \n",
       "extras                                                            [Alloy wheels]   \n",
       "safety_security                [ABS, Central door lock, Driver-side airbag, E...   \n",
       "description                    [\\nAuto in ottime condizioni. Unico proprietar...   \n",
       "emission_label                                                               NaN   \n",
       "gears                                                                    [\\n7\\n]   \n",
       "country_version                                                              NaN   \n",
       "electricity_consumption                                                      NaN   \n",
       "last_service_date                                                            NaN   \n",
       "other_fuel_types                                                             NaN   \n",
       "availability                                                                 NaN   \n",
       "last_timing_belt_service_date                                                NaN   \n",
       "available_from                                                               NaN   \n",
       "\n",
       "                                                                           9      \\\n",
       "url                            https://www.autoscout24.com//offers/audi-a1-sp...   \n",
       "make_model                                                               Audi A1   \n",
       "short_description                          SPORTBACK TFSI ULTRA 95 S-TRONIC AMB.   \n",
       "body_type                                                                 Sedans   \n",
       "vat                                                                         None   \n",
       "km                                                                     16,103 km   \n",
       "registration                                                             06/2017   \n",
       "prev_owner                                                                  None   \n",
       "hp                                                                         70 kW   \n",
       "Type                                                        [, Used, , Gasoline]   \n",
       "previous_owners                                                              NaN   \n",
       "next_inspection                                                              NaN   \n",
       "inspection_new                                                               NaN   \n",
       "warranty                                                            \\n3 months\\n   \n",
       "full_service                                                                 NaN   \n",
       "non_smoking_vehicle                                                          NaN   \n",
       "null                                                                          []   \n",
       "make                                                                    \\nAudi\\n   \n",
       "model                                                               [\\n, A1, \\n]   \n",
       "offer_number                                                                 NaN   \n",
       "first_registration                                                [\\n, 2017, \\n]   \n",
       "body_color                                                       [\\n, White, \\n]   \n",
       "paint_type                                                                   NaN   \n",
       "body_color_original                                                  [\\nBlanc\\n]   \n",
       "upholstery                                                                   NaN   \n",
       "body                                                            [\\n, Sedans, \\n]   \n",
       "num_of_doors                                                             [\\n5\\n]   \n",
       "num_of_seats                                                             [\\n4\\n]   \n",
       "model_code                                                                   NaN   \n",
       "gearing_type                                                 [\\n, Automatic, \\n]   \n",
       "displacement                                                        [\\n999 cc\\n]   \n",
       "cylinders                                                                    NaN   \n",
       "weight                                                                       NaN   \n",
       "drive_chain                                                                  NaN   \n",
       "fuel                                                          [\\n, Gasoline, \\n]   \n",
       "consumption                                                                  NaN   \n",
       "co2_emission                                                                 NaN   \n",
       "emission_class                                                               NaN   \n",
       "comfort_convenience                                                          NaN   \n",
       "entertainment_media                                                          NaN   \n",
       "extras                                                                       NaN   \n",
       "safety_security                                                              NaN   \n",
       "description                    [\\nClim automatique,Ecran multifonction couleu...   \n",
       "emission_label                                                               NaN   \n",
       "gears                                                                    [\\n7\\n]   \n",
       "country_version                                                              NaN   \n",
       "electricity_consumption                                                      NaN   \n",
       "last_service_date                                                            NaN   \n",
       "other_fuel_types                                                             NaN   \n",
       "availability                                                                 NaN   \n",
       "last_timing_belt_service_date                                                NaN   \n",
       "available_from                                                               NaN   \n",
       "\n",
       "                               ...  \\\n",
       "url                            ...   \n",
       "make_model                     ...   \n",
       "short_description              ...   \n",
       "body_type                      ...   \n",
       "vat                            ...   \n",
       "km                             ...   \n",
       "registration                   ...   \n",
       "prev_owner                     ...   \n",
       "hp                             ...   \n",
       "Type                           ...   \n",
       "previous_owners                ...   \n",
       "next_inspection                ...   \n",
       "inspection_new                 ...   \n",
       "warranty                       ...   \n",
       "full_service                   ...   \n",
       "non_smoking_vehicle            ...   \n",
       "null                           ...   \n",
       "make                           ...   \n",
       "model                          ...   \n",
       "offer_number                   ...   \n",
       "first_registration             ...   \n",
       "body_color                     ...   \n",
       "paint_type                     ...   \n",
       "body_color_original            ...   \n",
       "upholstery                     ...   \n",
       "body                           ...   \n",
       "num_of_doors                   ...   \n",
       "num_of_seats                   ...   \n",
       "model_code                     ...   \n",
       "gearing_type                   ...   \n",
       "displacement                   ...   \n",
       "cylinders                      ...   \n",
       "weight                         ...   \n",
       "drive_chain                    ...   \n",
       "fuel                           ...   \n",
       "consumption                    ...   \n",
       "co2_emission                   ...   \n",
       "emission_class                 ...   \n",
       "comfort_convenience            ...   \n",
       "entertainment_media            ...   \n",
       "extras                         ...   \n",
       "safety_security                ...   \n",
       "description                    ...   \n",
       "emission_label                 ...   \n",
       "gears                          ...   \n",
       "country_version                ...   \n",
       "electricity_consumption        ...   \n",
       "last_service_date              ...   \n",
       "other_fuel_types               ...   \n",
       "availability                   ...   \n",
       "last_timing_belt_service_date  ...   \n",
       "available_from                 ...   \n",
       "\n",
       "                                                                           15909  \\\n",
       "url                            https://www.autoscout24.com//offers/renault-es...   \n",
       "make_model                                                        Renault Espace   \n",
       "short_description                                       Limited Blue dCi 200 EDC   \n",
       "body_type                                                                    Van   \n",
       "vat                                                               VAT deductible   \n",
       "km                                                                      3,500 km   \n",
       "registration                                                             05/2019   \n",
       "prev_owner                                                                  None   \n",
       "hp                                                                        147 kW   \n",
       "Type                            [, Demonstration, , Diesel (Particulate Filter)]   \n",
       "previous_owners                                                              NaN   \n",
       "next_inspection                                                              NaN   \n",
       "inspection_new                                                               NaN   \n",
       "warranty                                                           \\n48 months\\n   \n",
       "full_service                                                                 NaN   \n",
       "non_smoking_vehicle                                                          NaN   \n",
       "null                                                                          []   \n",
       "make                                                                 \\nRenault\\n   \n",
       "model                                                           [\\n, Espace, \\n]   \n",
       "offer_number                                                       [\\n1-15447\\n]   \n",
       "first_registration                                                [\\n, 2019, \\n]   \n",
       "body_color                                                       [\\n, Black, \\n]   \n",
       "paint_type                                                        [\\nMetallic\\n]   \n",
       "body_color_original                                            [\\nBlack-Pearl\\n]   \n",
       "upholstery                                                                   NaN   \n",
       "body                                                               [\\n, Van, \\n]   \n",
       "num_of_doors                                                             [\\n5\\n]   \n",
       "num_of_seats                                                             [\\n5\\n]   \n",
       "model_code                                                                   NaN   \n",
       "gearing_type                                                 [\\n, Automatic, \\n]   \n",
       "displacement                                                      [\\n1,997 cc\\n]   \n",
       "cylinders                                                                    NaN   \n",
       "weight                                                            [\\n1,779 kg\\n]   \n",
       "drive_chain                                                                  NaN   \n",
       "fuel                                       [\\n, Diesel (Particulate Filter), \\n]   \n",
       "consumption                                                                  NaN   \n",
       "co2_emission                                                        [[], [], []]   \n",
       "emission_class                                                               NaN   \n",
       "comfort_convenience            [Air conditioning, Automatic climate control, ...   \n",
       "entertainment_media            [Bluetooth, Hands-free equipment, On-board com...   \n",
       "extras                                              [Alloy wheels, Touch screen]   \n",
       "safety_security                [ABS, Blind spot monitor, Central door lock, D...   \n",
       "description                    [\\nHallo!, Das Beratungsteam der Fa. Sonnleitn...   \n",
       "emission_label                                                               NaN   \n",
       "gears                                                                    [\\n7\\n]   \n",
       "country_version                                                    [\\nAustria\\n]   \n",
       "electricity_consumption                                                      NaN   \n",
       "last_service_date                                                            NaN   \n",
       "other_fuel_types                                                             NaN   \n",
       "availability                                                                 NaN   \n",
       "last_timing_belt_service_date                                                NaN   \n",
       "available_from                                                               NaN   \n",
       "\n",
       "                                                                           15910  \\\n",
       "url                            https://www.autoscout24.com//offers/renault-es...   \n",
       "make_model                                                        Renault Espace   \n",
       "short_description                        TCe 225 EDC INITIALE PDC SHZ BOSE KLIMA   \n",
       "body_type                                                                    Van   \n",
       "vat                                                               VAT deductible   \n",
       "km                                                                      8,500 km   \n",
       "registration                                                             02/2019   \n",
       "prev_owner                                                      1 previous owner   \n",
       "hp                                                                        165 kW   \n",
       "Type                                 [, Demonstration, , Regular/Benzine E10 91]   \n",
       "previous_owners                                                            \\n1\\n   \n",
       "next_inspection                                                              NaN   \n",
       "inspection_new                                                               NaN   \n",
       "warranty                                                                     NaN   \n",
       "full_service                                   [\\n, \\n, \\n153 g CO2/km (comb)\\n]   \n",
       "non_smoking_vehicle                                         [\\n, \\n, \\nEuro 6\\n]   \n",
       "null                                                                          []   \n",
       "make                                                                 \\nRenault\\n   \n",
       "model                                                           [\\n, Espace, \\n]   \n",
       "offer_number                                                       [\\n1720LR8\\n]   \n",
       "first_registration                                                [\\n, 2019, \\n]   \n",
       "body_color                                                        [\\n, Blue, \\n]   \n",
       "paint_type                                                        [\\nMetallic\\n]   \n",
       "body_color_original                                            [\\nKosmos-Blau\\n]   \n",
       "upholstery                                             [\\nFull leather, Other\\n]   \n",
       "body                                                               [\\n, Van, \\n]   \n",
       "num_of_doors                                                             [\\n5\\n]   \n",
       "num_of_seats                                                             [\\n5\\n]   \n",
       "model_code                                                        [\\n3333/BHJ\\n]   \n",
       "gearing_type                                                 [\\n, Automatic, \\n]   \n",
       "displacement                                                      [\\n1,798 cc\\n]   \n",
       "cylinders                                                                [\\n4\\n]   \n",
       "weight                                                                       NaN   \n",
       "drive_chain                                                          [\\nfront\\n]   \n",
       "fuel                                            [\\n, Regular/Benzine E10 91, \\n]   \n",
       "consumption                    [[6 l/100 km (comb)], [8 l/100 km (city)], [5 ...   \n",
       "co2_emission                                           [\\n153 g CO2/km (comb)\\n]   \n",
       "emission_class                                                      [\\nEuro 6\\n]   \n",
       "comfort_convenience            [Air conditioning, Automatic climate control, ...   \n",
       "entertainment_media            [Bluetooth, Hands-free equipment, On-board com...   \n",
       "extras                                                            [Alloy wheels]   \n",
       "safety_security                [ABS, Adaptive headlights, Central door lock, ...   \n",
       "description                    [\\n, Warum ist dieses Auto das Richtige für mi...   \n",
       "emission_label                                                   [\\n4 (Green)\\n]   \n",
       "gears                                                                    [\\n7\\n]   \n",
       "country_version                                                              NaN   \n",
       "electricity_consumption                                                      NaN   \n",
       "last_service_date                                                            NaN   \n",
       "other_fuel_types                                                             NaN   \n",
       "availability                                                                 NaN   \n",
       "last_timing_belt_service_date                                                NaN   \n",
       "available_from                                                               NaN   \n",
       "\n",
       "                                                                           15911  \\\n",
       "url                            https://www.autoscout24.com//offers/renault-es...   \n",
       "make_model                                                        Renault Espace   \n",
       "short_description                                      ELYSEE ENERGY dCi 160 EDC   \n",
       "body_type                                                                    Van   \n",
       "vat                                                               VAT deductible   \n",
       "km                                                                        100 km   \n",
       "registration                                                             02/2019   \n",
       "prev_owner                                                      1 previous owner   \n",
       "hp                                                                        118 kW   \n",
       "Type                           [, Pre-registered, , Diesel (Particulate Filter)]   \n",
       "previous_owners                                                            \\n1\\n   \n",
       "next_inspection                                                              NaN   \n",
       "inspection_new                                                               NaN   \n",
       "warranty                                                                     NaN   \n",
       "full_service                                                                 NaN   \n",
       "non_smoking_vehicle                            [\\n, \\n, \\n123 g CO2/km (comb)\\n]   \n",
       "null                                                                          []   \n",
       "make                                                                 \\nRenault\\n   \n",
       "model                                                           [\\n, Espace, \\n]   \n",
       "offer_number                                                     [\\nVB1_12468\\n]   \n",
       "first_registration                                                [\\n, 2019, \\n]   \n",
       "body_color                                                       [\\n, White, \\n]   \n",
       "paint_type                                                        [\\nMetallic\\n]   \n",
       "body_color_original                          [\\nPerlmutt-Weiß Metallic (Weiß)\\n]   \n",
       "upholstery                                              [\\nFull leather, Grey\\n]   \n",
       "body                                                               [\\n, Van, \\n]   \n",
       "num_of_doors                                                             [\\n5\\n]   \n",
       "num_of_seats                                                             [\\n7\\n]   \n",
       "model_code                                                        [\\n3333/BDQ\\n]   \n",
       "gearing_type                                                 [\\n, Automatic, \\n]   \n",
       "displacement                                                      [\\n1,598 cc\\n]   \n",
       "cylinders                                                                [\\n4\\n]   \n",
       "weight                                                            [\\n1,734 kg\\n]   \n",
       "drive_chain                                                                  NaN   \n",
       "fuel                                       [\\n, Diesel (Particulate Filter), \\n]   \n",
       "consumption                    [[4.7 l/100 km (comb)], [5.1 l/100 km (city)],...   \n",
       "co2_emission                                           [\\n123 g CO2/km (comb)\\n]   \n",
       "emission_class                                                      [\\nEuro 6\\n]   \n",
       "comfort_convenience            [Air conditioning, Armrest, Automatic climate ...   \n",
       "entertainment_media            [Bluetooth, Digital radio, Hands-free equipmen...   \n",
       "extras                               [Alloy wheels, Touch screen, Voice Control]   \n",
       "safety_security                [ABS, Adaptive Cruise Control, Central door lo...   \n",
       "description                    [\\n, Komfort:,  , abgedunkelte Scheiben im Fon...   \n",
       "emission_label                                                   [\\n4 (Green)\\n]   \n",
       "gears                                                                        NaN   \n",
       "country_version                                                    [\\nGermany\\n]   \n",
       "electricity_consumption                                                      NaN   \n",
       "last_service_date                                                            NaN   \n",
       "other_fuel_types                                                             NaN   \n",
       "availability                                                                 NaN   \n",
       "last_timing_belt_service_date                                                NaN   \n",
       "available_from                                                               NaN   \n",
       "\n",
       "                                                                           15912  \\\n",
       "url                            https://www.autoscout24.com//offers/renault-es...   \n",
       "make_model                                                        Renault Espace   \n",
       "short_description                          Blue dCi 200CV EDC Executive 4Control   \n",
       "body_type                                                                    Van   \n",
       "vat                                                               VAT deductible   \n",
       "km                                                                          - km   \n",
       "registration                                                                 -/-   \n",
       "prev_owner                                                                  None   \n",
       "hp                                                                        147 kW   \n",
       "Type                                      [, New, , Diesel (Particulate Filter)]   \n",
       "previous_owners                                                              NaN   \n",
       "next_inspection                                                              NaN   \n",
       "inspection_new                                                               NaN   \n",
       "warranty                                                           \\n24 months\\n   \n",
       "full_service                                                                 NaN   \n",
       "non_smoking_vehicle                                                          NaN   \n",
       "null                                                                          []   \n",
       "make                                                                 \\nRenault\\n   \n",
       "model                                                           [\\n, Espace, \\n]   \n",
       "offer_number                                                      [\\n10988276\\n]   \n",
       "first_registration                                                           NaN   \n",
       "body_color                                                       [\\n, Black, \\n]   \n",
       "paint_type                                                        [\\nMetallic\\n]   \n",
       "body_color_original                                                   [\\nNero\\n]   \n",
       "upholstery                                                                   NaN   \n",
       "body                                                               [\\n, Van, \\n]   \n",
       "num_of_doors                                                             [\\n5\\n]   \n",
       "num_of_seats                                                             [\\n5\\n]   \n",
       "model_code                                                                   NaN   \n",
       "gearing_type                                                 [\\n, Automatic, \\n]   \n",
       "displacement                                                      [\\n1,997 cc\\n]   \n",
       "cylinders                                                                [\\n4\\n]   \n",
       "weight                                                            [\\n1,758 kg\\n]   \n",
       "drive_chain                                                          [\\nfront\\n]   \n",
       "fuel                                       [\\n, Diesel (Particulate Filter), \\n]   \n",
       "consumption                    [[5.3 l/100 km (comb)], [6.2 l/100 km (city)],...   \n",
       "co2_emission                                           [\\n139 g CO2/km (comb)\\n]   \n",
       "emission_class                                                               NaN   \n",
       "comfort_convenience            [Air conditioning, Automatic climate control, ...   \n",
       "entertainment_media            [Bluetooth, Digital radio, Hands-free equipmen...   \n",
       "extras                                              [Alloy wheels, Touch screen]   \n",
       "safety_security                [ABS, Central door lock, Central door lock wit...   \n",
       "description                    [\\nVettura visionabile nella sede in Via Roma ...   \n",
       "emission_label                                                               NaN   \n",
       "gears                                                                    [\\n6\\n]   \n",
       "country_version                                                              NaN   \n",
       "electricity_consumption                                                      NaN   \n",
       "last_service_date                                                            NaN   \n",
       "other_fuel_types                                                             NaN   \n",
       "availability                                                                 NaN   \n",
       "last_timing_belt_service_date                                                NaN   \n",
       "available_from                                                               NaN   \n",
       "\n",
       "                                                                           15913  \\\n",
       "url                            https://www.autoscout24.com//offers/renault-es...   \n",
       "make_model                                                        Renault Espace   \n",
       "short_description                         INITIALE Paris TCe 225 EDC GPF ACC EU6   \n",
       "body_type                                                                    Van   \n",
       "vat                                                               VAT deductible   \n",
       "km                                                                      1,000 km   \n",
       "registration                                                             04/2019   \n",
       "prev_owner                                                                  None   \n",
       "hp                                                                        165 kW   \n",
       "Type                                               [, Demonstration, , Super 95]   \n",
       "previous_owners                                                              NaN   \n",
       "next_inspection                                                              NaN   \n",
       "inspection_new                                                               NaN   \n",
       "warranty                                                                     NaN   \n",
       "full_service                                                                 NaN   \n",
       "non_smoking_vehicle                                                          NaN   \n",
       "null                                                                          []   \n",
       "make                                                                 \\nRenault\\n   \n",
       "model                                                           [\\n, Espace, \\n]   \n",
       "offer_number                                                        [\\nNW9766\\n]   \n",
       "first_registration                                                [\\n, 2019, \\n]   \n",
       "body_color                                                       [\\n, White, \\n]   \n",
       "paint_type                                                        [\\nMetallic\\n]   \n",
       "body_color_original                                         [\\nperlmutt-weiss\\n]   \n",
       "upholstery                                             [\\nFull leather, Brown\\n]   \n",
       "body                                                               [\\n, Van, \\n]   \n",
       "num_of_doors                                                             [\\n5\\n]   \n",
       "num_of_seats                                                             [\\n7\\n]   \n",
       "model_code                                                                   NaN   \n",
       "gearing_type                                                 [\\n, Automatic, \\n]   \n",
       "displacement                                                      [\\n1,798 cc\\n]   \n",
       "cylinders                                                                [\\n4\\n]   \n",
       "weight                                                                       NaN   \n",
       "drive_chain                                                          [\\nfront\\n]   \n",
       "fuel                                                          [\\n, Super 95, \\n]   \n",
       "consumption                    [[6.8 l/100 km (comb)], [8.7 l/100 km (city)],...   \n",
       "co2_emission                                           [\\n153 g CO2/km (comb)\\n]   \n",
       "emission_class                                                      [\\nEuro 6\\n]   \n",
       "comfort_convenience            [Air conditioning, Armrest, Automatic climate ...   \n",
       "entertainment_media            [Bluetooth, Digital radio, Hands-free equipmen...   \n",
       "extras                         [Alloy wheels, Catalytic Converter, Sport susp...   \n",
       "safety_security                [ABS, Adaptive Cruise Control, Blind spot moni...   \n",
       "description                    [\\nFahrzeug-Nr.: NW9766., Ausstattungslinie/ -...   \n",
       "emission_label                                                   [\\n4 (Green)\\n]   \n",
       "gears                                                                        NaN   \n",
       "country_version                                                              NaN   \n",
       "electricity_consumption                                                      NaN   \n",
       "last_service_date                                                            NaN   \n",
       "other_fuel_types                                                             NaN   \n",
       "availability                                                                 NaN   \n",
       "last_timing_belt_service_date                                                NaN   \n",
       "available_from                                                               NaN   \n",
       "\n",
       "                                                                           15914  \\\n",
       "url                            https://www.autoscout24.com//offers/renault-es...   \n",
       "make_model                                                        Renault Espace   \n",
       "short_description                          Blue dCi 200CV EDC Executive 4Control   \n",
       "body_type                                                                    Van   \n",
       "vat                                                               VAT deductible   \n",
       "km                                                                          - km   \n",
       "registration                                                                 -/-   \n",
       "prev_owner                                                                  None   \n",
       "hp                                                                        147 kW   \n",
       "Type                                      [, New, , Diesel (Particulate Filter)]   \n",
       "previous_owners                                                              NaN   \n",
       "next_inspection                                                              NaN   \n",
       "inspection_new                                                               NaN   \n",
       "warranty                                                           \\n24 months\\n   \n",
       "full_service                                                                 NaN   \n",
       "non_smoking_vehicle                                                          NaN   \n",
       "null                                                                          []   \n",
       "make                                                                 \\nRenault\\n   \n",
       "model                                                           [\\n, Espace, \\n]   \n",
       "offer_number                                                      [\\n10988301\\n]   \n",
       "first_registration                                                           NaN   \n",
       "body_color                                                        [\\n, Grey, \\n]   \n",
       "paint_type                                                        [\\nMetallic\\n]   \n",
       "body_color_original                                           [\\nGrigio scuro\\n]   \n",
       "upholstery                                                                   NaN   \n",
       "body                                                               [\\n, Van, \\n]   \n",
       "num_of_doors                                                             [\\n5\\n]   \n",
       "num_of_seats                                                             [\\n5\\n]   \n",
       "model_code                                                                   NaN   \n",
       "gearing_type                                                 [\\n, Automatic, \\n]   \n",
       "displacement                                                      [\\n1,997 cc\\n]   \n",
       "cylinders                                                                [\\n4\\n]   \n",
       "weight                                                            [\\n1,758 kg\\n]   \n",
       "drive_chain                                                          [\\nfront\\n]   \n",
       "fuel                                       [\\n, Diesel (Particulate Filter), \\n]   \n",
       "consumption                    [[5.3 l/100 km (comb)], [6.2 l/100 km (city)],...   \n",
       "co2_emission                                           [\\n139 g CO2/km (comb)\\n]   \n",
       "emission_class                                                               NaN   \n",
       "comfort_convenience            [Air conditioning, Automatic climate control, ...   \n",
       "entertainment_media            [Bluetooth, Digital radio, Hands-free equipmen...   \n",
       "extras                                              [Alloy wheels, Touch screen]   \n",
       "safety_security                [ABS, Central door lock, Central door lock wit...   \n",
       "description                    [\\nVettura visionabile nella sede in Via Roma ...   \n",
       "emission_label                                                               NaN   \n",
       "gears                                                                    [\\n6\\n]   \n",
       "country_version                                                              NaN   \n",
       "electricity_consumption                                                      NaN   \n",
       "last_service_date                                                            NaN   \n",
       "other_fuel_types                                                             NaN   \n",
       "availability                                                                 NaN   \n",
       "last_timing_belt_service_date                                                NaN   \n",
       "available_from                                                               NaN   \n",
       "\n",
       "                                                                           15915  \\\n",
       "url                            https://www.autoscout24.com//offers/renault-es...   \n",
       "make_model                                                        Renault Espace   \n",
       "short_description                            TCe 225 EDC GPF LIM Deluxe Pano,RFK   \n",
       "body_type                                                                    Van   \n",
       "vat                                                               VAT deductible   \n",
       "km                                                                      9,900 km   \n",
       "registration                                                             01/2019   \n",
       "prev_owner                                                      1 previous owner   \n",
       "hp                                                                        165 kW   \n",
       "Type                           [, Used, , Super 95 / Super Plus 98 (Particula...   \n",
       "previous_owners                [\\n1\\n, \\n, 7.4 l/100 km (comb), \\n, 9.2 l/100...   \n",
       "next_inspection                           [\\n01/2022\\n, \\n168 g CO2/km (comb)\\n]   \n",
       "inspection_new                                                               NaN   \n",
       "warranty                                                    [\\n, \\n, \\nEuro 6\\n]   \n",
       "full_service                                                                 NaN   \n",
       "non_smoking_vehicle                                      [\\n, \\n, \\n4 (Green)\\n]   \n",
       "null                                                                          []   \n",
       "make                                                                 \\nRenault\\n   \n",
       "model                                                           [\\n, Espace, \\n]   \n",
       "offer_number                                                   [\\n507370_3223\\n]   \n",
       "first_registration                                                [\\n, 2019, \\n]   \n",
       "body_color                                                        [\\n, Grey, \\n]   \n",
       "paint_type                                                        [\\nMetallic\\n]   \n",
       "body_color_original                                    [\\nStahl-Grau Metallic\\n]   \n",
       "upholstery                                                           [\\nCloth\\n]   \n",
       "body                                                               [\\n, Van, \\n]   \n",
       "num_of_doors                                                             [\\n5\\n]   \n",
       "num_of_seats                                                             [\\n5\\n]   \n",
       "model_code                                                        [\\n0000/000\\n]   \n",
       "gearing_type                                                 [\\n, Automatic, \\n]   \n",
       "displacement                                                      [\\n1,798 cc\\n]   \n",
       "cylinders                                                                [\\n4\\n]   \n",
       "weight                                                            [\\n1,708 kg\\n]   \n",
       "drive_chain                                                          [\\nfront\\n]   \n",
       "fuel                           [\\n, Super 95 / Super Plus 98 (Particulate Fil...   \n",
       "consumption                    [\\n, 7.4 l/100 km (comb), \\n, 9.2 l/100 km (ci...   \n",
       "co2_emission                                           [\\n168 g CO2/km (comb)\\n]   \n",
       "emission_class                                                               NaN   \n",
       "comfort_convenience            [Air conditioning, Automatic climate control, ...   \n",
       "entertainment_media            [Bluetooth, Digital radio, Hands-free equipmen...   \n",
       "extras                               [Alloy wheels, Touch screen, Voice Control]   \n",
       "safety_security                [ABS, Adaptive Cruise Control, Blind spot moni...   \n",
       "description                    [\\nDach: Panorama-Glas-Schiebedach, Lackierung...   \n",
       "emission_label                                                               NaN   \n",
       "gears                                                                    [\\n7\\n]   \n",
       "country_version                                                    [\\nGermany\\n]   \n",
       "electricity_consumption                                                      NaN   \n",
       "last_service_date                                                            NaN   \n",
       "other_fuel_types                                                    [[], [], []]   \n",
       "availability                                         \\nin 5 days from ordering\\n   \n",
       "last_timing_belt_service_date                                                NaN   \n",
       "available_from                                                               NaN   \n",
       "\n",
       "                                                                           15916  \\\n",
       "url                            https://www.autoscout24.com//offers/renault-es...   \n",
       "make_model                                                        Renault Espace   \n",
       "short_description              Blue dCi 200 EDC Initiale Paris Leder LED Navi...   \n",
       "body_type                                                                    Van   \n",
       "vat                                                               VAT deductible   \n",
       "km                                                                         15 km   \n",
       "registration                                                             03/2019   \n",
       "prev_owner                                                      1 previous owner   \n",
       "hp                                                                        146 kW   \n",
       "Type                                                [, Pre-registered, , Diesel]   \n",
       "previous_owners                                 [\\n1\\n, \\n139 g CO2/km (comb)\\n]   \n",
       "next_inspection                                                              NaN   \n",
       "inspection_new                                       [\\nYes\\n, \\nEuro 6d-TEMP\\n]   \n",
       "warranty                                                 [\\n, \\n, \\n4 (Green)\\n]   \n",
       "full_service                                                            [\\n, \\n]   \n",
       "non_smoking_vehicle                                                     [\\n, \\n]   \n",
       "null                                                                          []   \n",
       "make                                                                 \\nRenault\\n   \n",
       "model                                                           [\\n, Espace, \\n]   \n",
       "offer_number                                                      [\\nEspace16\\n]   \n",
       "first_registration                                                [\\n, 2019, \\n]   \n",
       "body_color                                                       [\\n, White, \\n]   \n",
       "paint_type                                                                   NaN   \n",
       "body_color_original                                            [\\narktis-weiß\\n]   \n",
       "upholstery                                             [\\nFull leather, Black\\n]   \n",
       "body                                                               [\\n, Van, \\n]   \n",
       "num_of_doors                                                             [\\n5\\n]   \n",
       "num_of_seats                                                             [\\n7\\n]   \n",
       "model_code                                                                   NaN   \n",
       "gearing_type                                                 [\\n, Automatic, \\n]   \n",
       "displacement                                                      [\\n1,997 cc\\n]   \n",
       "cylinders                                                                [\\n4\\n]   \n",
       "weight                                                                       NaN   \n",
       "drive_chain                                                          [\\nfront\\n]   \n",
       "fuel                                                            [\\n, Diesel, \\n]   \n",
       "consumption                    [[5.3 l/100 km (comb)], [6.2 l/100 km (city)],...   \n",
       "co2_emission                                           [\\n139 g CO2/km (comb)\\n]   \n",
       "emission_class                                                [\\nEuro 6d-TEMP\\n]   \n",
       "comfort_convenience            [Air conditioning, Armrest, Automatic climate ...   \n",
       "entertainment_media            [Bluetooth, Hands-free equipment, On-board com...   \n",
       "extras                                                            [Alloy wheels]   \n",
       "safety_security                [ABS, Adaptive Cruise Control, Blind spot moni...   \n",
       "description                    [\\n, Getriebe:,  Automatik, Technik:,  Bordcom...   \n",
       "emission_label                                                               NaN   \n",
       "gears                                                                    [\\n6\\n]   \n",
       "country_version                                                    [\\nAustria\\n]   \n",
       "electricity_consumption                                                      NaN   \n",
       "last_service_date                                                            NaN   \n",
       "other_fuel_types                                                             NaN   \n",
       "availability                                       \\nin 120 days from ordering\\n   \n",
       "last_timing_belt_service_date                                                NaN   \n",
       "available_from                                                               NaN   \n",
       "\n",
       "                                                                           15917  \\\n",
       "url                            https://www.autoscout24.com//offers/renault-es...   \n",
       "make_model                                                        Renault Espace   \n",
       "short_description              Blue dCi 200CV EDC Business , NUOVA DA IMMATRI...   \n",
       "body_type                                                                    Van   \n",
       "vat                                                               VAT deductible   \n",
       "km                                                                         10 km   \n",
       "registration                                                             06/2019   \n",
       "prev_owner                                                                  None   \n",
       "hp                                                                        147 kW   \n",
       "Type                                                [, Pre-registered, , Diesel]   \n",
       "previous_owners                                                              NaN   \n",
       "next_inspection                                                              NaN   \n",
       "inspection_new                                                               NaN   \n",
       "warranty                                                                      \\n   \n",
       "full_service                                                                 NaN   \n",
       "non_smoking_vehicle                                                          NaN   \n",
       "null                                                                          []   \n",
       "make                                                                 \\nRenault\\n   \n",
       "model                                                           [\\n, Espace, \\n]   \n",
       "offer_number                                                       [\\n2691331\\n]   \n",
       "first_registration                                                [\\n, 2019, \\n]   \n",
       "body_color                                                        [\\n, Grey, \\n]   \n",
       "paint_type                                                                   NaN   \n",
       "body_color_original                                                 [\\nGrigio\\n]   \n",
       "upholstery                                                    [\\nPart leather\\n]   \n",
       "body                                                               [\\n, Van, \\n]   \n",
       "num_of_doors                                                             [\\n5\\n]   \n",
       "num_of_seats                                                             [\\n7\\n]   \n",
       "model_code                                                                   NaN   \n",
       "gearing_type                                                 [\\n, Automatic, \\n]   \n",
       "displacement                                                      [\\n1,997 cc\\n]   \n",
       "cylinders                                                                [\\n4\\n]   \n",
       "weight                                                            [\\n1,758 kg\\n]   \n",
       "drive_chain                                                          [\\nfront\\n]   \n",
       "fuel                                                            [\\n, Diesel, \\n]   \n",
       "consumption                    [[5.3 l/100 km (comb)], [6.2 l/100 km (city)],...   \n",
       "co2_emission                                           [\\n139 g CO2/km (comb)\\n]   \n",
       "emission_class                                                      [\\nEuro 6\\n]   \n",
       "comfort_convenience            [Air conditioning, Automatic climate control, ...   \n",
       "entertainment_media                       [Bluetooth, Digital radio, Radio, USB]   \n",
       "extras                                              [Alloy wheels, Touch screen]   \n",
       "safety_security                [ABS, Blind spot monitor, Driver-side airbag, ...   \n",
       "description                    [\\nDEK:[2691331], Renault Espace Blue dCi 200C...   \n",
       "emission_label                                                               NaN   \n",
       "gears                                                                    [\\n6\\n]   \n",
       "country_version                                                              NaN   \n",
       "electricity_consumption                                                      NaN   \n",
       "last_service_date                                                            NaN   \n",
       "other_fuel_types                                                             NaN   \n",
       "availability                                                                 NaN   \n",
       "last_timing_belt_service_date                                                NaN   \n",
       "available_from                                                               NaN   \n",
       "\n",
       "                                                                           15918  \n",
       "url                            https://www.autoscout24.com//offers/renault-es...  \n",
       "make_model                                                        Renault Espace  \n",
       "short_description                    INITIALE PARIS TCe 225 EDC GPF NAVI SHZ AUX  \n",
       "body_type                                                                    Van  \n",
       "vat                                                               VAT deductible  \n",
       "km                                                                          - km  \n",
       "registration                                                             01/2019  \n",
       "prev_owner                                                      1 previous owner  \n",
       "hp                                                                        165 kW  \n",
       "Type                                               [, Demonstration, , Super 95]  \n",
       "previous_owners                                                            \\n1\\n  \n",
       "next_inspection                                                              NaN  \n",
       "inspection_new                                [\\nYes\\n, \\n153 g CO2/km (comb)\\n]  \n",
       "warranty                                                                     NaN  \n",
       "full_service                                                                 NaN  \n",
       "non_smoking_vehicle                                                          NaN  \n",
       "null                                                                          []  \n",
       "make                                                                 \\nRenault\\n  \n",
       "model                                                           [\\n, Espace, \\n]  \n",
       "offer_number                                                [\\nRe_30000008029\\n]  \n",
       "first_registration                                                [\\n, 2019, \\n]  \n",
       "body_color                                                        [\\n, Grey, \\n]  \n",
       "paint_type                                                        [\\nMetallic\\n]  \n",
       "body_color_original                                 [\\nTitanium-Grau Metallic\\n]  \n",
       "upholstery                                             [\\nFull leather, Brown\\n]  \n",
       "body                                                               [\\n, Van, \\n]  \n",
       "num_of_doors                                                             [\\n5\\n]  \n",
       "num_of_seats                                                             [\\n5\\n]  \n",
       "model_code                                                        [\\n3333/BHJ\\n]  \n",
       "gearing_type                                                 [\\n, Automatic, \\n]  \n",
       "displacement                                                      [\\n1,798 cc\\n]  \n",
       "cylinders                                                                [\\n4\\n]  \n",
       "weight                                                            [\\n1,685 kg\\n]  \n",
       "drive_chain                                                            [\\n4WD\\n]  \n",
       "fuel                                                          [\\n, Super 95, \\n]  \n",
       "consumption                    [[6.8 l/100 km (comb)], [8.7 l/100 km (city)],...  \n",
       "co2_emission                                           [\\n153 g CO2/km (comb)\\n]  \n",
       "emission_class                                                      [\\nEuro 6\\n]  \n",
       "comfort_convenience            [Air conditioning, Automatic climate control, ...  \n",
       "entertainment_media                                                        [USB]  \n",
       "extras                                              [Alloy wheels, Touch screen]  \n",
       "safety_security                [ABS, Blind spot monitor, Daytime running ligh...  \n",
       "description                    [\\n, Sicherheit Airbags:,  , Seitenairbag,  , ...  \n",
       "emission_label                                                   [\\n4 (Green)\\n]  \n",
       "gears                                                                        NaN  \n",
       "country_version                                                    [\\nGermany\\n]  \n",
       "electricity_consumption                                                      NaN  \n",
       "last_service_date                                                            NaN  \n",
       "other_fuel_types                                                             NaN  \n",
       "availability                                                                 NaN  \n",
       "last_timing_belt_service_date                                                NaN  \n",
       "available_from                                                               NaN  \n",
       "\n",
       "[52 rows x 15919 columns]"
      ]
     },
     "execution_count": 86,
     "metadata": {},
     "output_type": "execute_result"
    }
   ],
   "source": [
    "object_col = df.select_dtypes(include='object')\n",
    "object_col.T\n",
    "# I have assigned the Features of object data type as \"object_col\""
   ]
  },
  {
   "cell_type": "code",
   "execution_count": 87,
   "metadata": {},
   "outputs": [
    {
     "name": "stdout",
     "output_type": "stream",
     "text": [
      "url\n",
      "----------------\n",
      "https://www.autoscout24.com//offers/audi-a1-sportback-1-4-tdi-s-tronic-xenon-navi-klima-diesel-black-bdab349a-caa5-41b0-98eb-c1345b84445e                  1\n",
      "https://www.autoscout24.com//offers/opel-insignia-bus-inno-2-0-cdti-aut-navi-bi-xe-led-e6-diesel-black-8710b253-dd98-4ed0-9d46-cbad2d79532b                1\n",
      "https://www.autoscout24.com//offers/opel-insignia-sport-tourer-opel-sport-tourer-1-6-cdti-136-ch-a-c-diesel-silver-10b7463b-9f56-4348-af35-df3432b2b585    1\n",
      "https://www.autoscout24.com//offers/opel-insignia-2-0cdti-st-business-innovation-navi-bt-diesel-black-ba5a3368-dedc-4e51-9127-3976b26e93c2                 1\n",
      "https://www.autoscout24.com//offers/opel-insignia-sport-tourer-opel-sport-tourer-1-6-cdti-136-ch-a-c-diesel-silver-7b52f054-78d3-4d5e-9370-8a7d081d7edd    1\n",
      "                                                                                                                                                          ..\n",
      "https://www.autoscout24.com//offers/audi-a3-sb-30-1-6-tdi-business-116cv-s-tronic-diesel-black-cf50f7b1-4d7b-466f-93a2-4e11ec0b4107                        1\n",
      "https://www.autoscout24.com//offers/audi-a3-sb-30-1-6-tdi-business-116cv-s-tronic-diesel-grey-3f47eb34-15c4-4763-860d-78fcbbd2c9ff                         1\n",
      "https://www.autoscout24.com//offers/audi-a3-sb-30-1-6-tdi-business-116cv-s-tronic-diesel-silver-f7a4bc95-b2ef-4bac-9497-6bcbcd05db0b                       1\n",
      "https://www.autoscout24.com//offers/audi-a3-sb-30-1-6-tdi-business-116cv-s-tronic-diesel-silver-1c94c7a2-67b5-49ca-ae42-42a6800fb3f5                       1\n",
      "https://www.autoscout24.com//offers/renault-espace-initiale-paris-tce-225-edc-gpf-navi-shz-aux-gasoline-grey-0bd690d9-7e93-4cab-bc5a-9d5b63402481          1\n",
      "Name: url, Length: 15919, dtype: int64\n",
      "----------------------------------------\n",
      "make_model\n",
      "----------------\n",
      "Audi A3           3097\n",
      "Audi A1           2614\n",
      "Opel Insignia     2598\n",
      "Opel Astra        2526\n",
      "Opel Corsa        2219\n",
      "Renault Clio      1839\n",
      "Renault Espace     991\n",
      "Renault Duster      34\n",
      "Audi A2              1\n",
      "Name: make_model, dtype: int64\n",
      "----------------------------------------\n",
      "short_description\n",
      "----------------\n",
      "SPB 1.6 TDI 116 CV S tronic Sport                 64\n",
      "None                                              46\n",
      "1.4 66kW (90CV) Selective                         40\n",
      "MOVE KLIMA CD USB ALLWETTER BLUETOOTH             38\n",
      "SPB 30 TDI S tronic Business                      35\n",
      "                                                  ..\n",
      "K Sports Tourer Business **Navi*Voll**             1\n",
      "1.0 Turbo ecoFLEX Automatic Elective Park Navi     1\n",
      "1.6 CDTI Business *Navi*Automatik*Spurh.*          1\n",
      "1.6 136 CV Automatica Navi E 6 Garanzia Full       1\n",
      "TCe 225 EDC GPF LIM Deluxe Pano,RFK                1\n",
      "Name: short_description, Length: 10002, dtype: int64\n",
      "----------------------------------------\n",
      "body_type\n",
      "----------------\n",
      "Sedans           7903\n",
      "Station wagon    3553\n",
      "Compact          3153\n",
      "Van               783\n",
      "Other             290\n",
      "Transporter        88\n",
      "None               60\n",
      "Off-Road           56\n",
      "Coupe              25\n",
      "Convertible         8\n",
      "Name: body_type, dtype: int64\n",
      "----------------------------------------\n",
      "vat\n",
      "----------------\n",
      "VAT deductible      10980\n",
      "None                 4513\n",
      "Price negotiable      426\n",
      "Name: vat, dtype: int64\n",
      "----------------------------------------\n",
      "km\n",
      "----------------\n",
      "10 km        1045\n",
      "- km         1024\n",
      "1 km          367\n",
      "5 km          170\n",
      "50 km         148\n",
      "             ... \n",
      "67,469 km       1\n",
      "43,197 km       1\n",
      "10,027 km       1\n",
      "35,882 km       1\n",
      "57 km           1\n",
      "Name: km, Length: 6690, dtype: int64\n",
      "----------------------------------------\n",
      "registration\n",
      "----------------\n",
      "-/-        1597\n",
      "03/2018     695\n",
      "02/2019     585\n",
      "05/2018     572\n",
      "03/2019     543\n",
      "01/2019     541\n",
      "04/2018     541\n",
      "02/2018     539\n",
      "03/2016     536\n",
      "04/2016     532\n",
      "06/2018     532\n",
      "01/2018     511\n",
      "04/2019     506\n",
      "02/2016     472\n",
      "03/2017     471\n",
      "05/2016     459\n",
      "06/2016     452\n",
      "05/2019     440\n",
      "06/2017     409\n",
      "05/2017     404\n",
      "07/2018     396\n",
      "04/2017     380\n",
      "01/2016     376\n",
      "02/2017     368\n",
      "01/2017     306\n",
      "08/2018     285\n",
      "06/2019     224\n",
      "07/2017     215\n",
      "11/2017     180\n",
      "07/2016     176\n",
      "10/2016     160\n",
      "10/2017     154\n",
      "09/2017     149\n",
      "11/2016     142\n",
      "09/2018     141\n",
      "09/2016     141\n",
      "12/2016     134\n",
      "12/2017     123\n",
      "08/2017     114\n",
      "11/2018     110\n",
      "12/2018     103\n",
      "10/2018      97\n",
      "08/2016      94\n",
      "07/2019       6\n",
      "09/2019       5\n",
      "08/2019       1\n",
      "11/2019       1\n",
      "12/2019       1\n",
      "Name: registration, dtype: int64\n",
      "----------------------------------------\n",
      "prev_owner\n",
      "----------------\n",
      "1 previous owner     8294\n",
      "None                 6828\n",
      "2 previous owners     778\n",
      "3 previous owners      17\n",
      "4 previous owners       2\n",
      "Name: prev_owner, dtype: int64\n",
      "----------------------------------------\n",
      "hp\n",
      "----------------\n",
      "85 kW     2542\n",
      "66 kW     2122\n",
      "81 kW     1402\n",
      "100 kW    1308\n",
      "110 kW    1112\n",
      "          ... \n",
      "84 kW        1\n",
      "195 kW       1\n",
      "44 kW        1\n",
      "239 kW       1\n",
      "9 kW         1\n",
      "Name: hp, Length: 81, dtype: int64\n",
      "----------------------------------------\n",
      "Type\n",
      "----------------\n",
      "[, Used, , Diesel (Particulate Filter)]                                                                                 3475\n",
      "[, Used, , Diesel]                                                                                                      2516\n",
      "[, Used, , Gasoline]                                                                                                    2367\n",
      "[, Used, , Super 95]                                                                                                    1818\n",
      "[, Pre-registered, , Super 95]                                                                                           500\n",
      "                                                                                                                        ... \n",
      "[, New, , Regular/Benzine 91 / Super 95 / Super Plus 98 / Regular/Benzine E10 91 / Super Plus E10 98 / Super E10 95]       1\n",
      "[, Used, , Super 95 / Super Plus 98 / Super E10 95 / Super Plus E10 98 (Particulate Filter)]                               1\n",
      "[, Demonstration, , Super Plus 98]                                                                                         1\n",
      "[, New, , Super Plus E10 98]                                                                                               1\n",
      "[, Demonstration, , Regular/Benzine E10 91]                                                                                1\n",
      "Name: Type, Length: 170, dtype: int64\n",
      "----------------------------------------\n",
      "previous_owners\n",
      "----------------\n",
      "\\n1\\n                                                                                        8101\n",
      "NaN                                                                                          6640\n",
      "\\n2\\n                                                                                         766\n",
      "\\n0\\n                                                                                         163\n",
      "\\n3\\n                                                                                          17\n",
      "                                                                                             ... \n",
      "[\\n1\\n, \\n111 g CO2/km (comb)\\n]                                                                1\n",
      "[\\n1\\n, \\nEuro 6\\n]                                                                             1\n",
      "[\\n2\\n, \\n119 g CO2/km (comb)\\n]                                                                1\n",
      "[\\n1\\n, \\n, 6.6 l/100 km (comb), \\n, 8.1 l/100 km (city), \\n, 5.7 l/100 km (country), \\n]       1\n",
      "[\\n2\\n, \\n137 g CO2/km (comb)\\n]                                                                1\n",
      "Name: previous_owners, Length: 103, dtype: int64\n",
      "----------------------------------------\n",
      "next_inspection\n",
      "----------------\n",
      "NaN                                       12384\n",
      "\\n04/2022\\n                                  62\n",
      "\\n03/2021\\n                                  38\n",
      "\\n03/2022\\n                                  36\n",
      "\\n06/2021\\n                                  34\n",
      "                                          ...  \n",
      "[\\n12/2018\\n, \\n97 g CO2/km (comb)\\n]         1\n",
      "[\\n03/2022\\n, \\n1 (No sticker)\\n]             1\n",
      "[\\n05/2021\\n, \\n93 g CO2/km (comb)\\n]         1\n",
      "[\\n06/2021\\n, \\n93 g CO2/km (comb)\\n]         1\n",
      "[\\n01/2022\\n, \\n168 g CO2/km (comb)\\n]        1\n",
      "Name: next_inspection, Length: 1400, dtype: int64\n",
      "----------------------------------------\n",
      "inspection_new\n",
      "----------------\n",
      "NaN                                                                                            11987\n",
      "[\\nYes\\n, \\nEuro 6\\n]                                                                            523\n",
      "\\nYes\\n                                                                                          362\n",
      "[\\nYes\\n, \\n102 g CO2/km (comb)\\n]                                                               174\n",
      "[\\nYes\\n, \\n4 (Green)\\n]                                                                         166\n",
      "                                                                                               ...  \n",
      "[\\nYes\\n, \\n, 6 l/100 km (comb), \\n, 8 l/100 km (city), \\n, 4.9 l/100 km (country), \\n]            1\n",
      "[\\nYes\\n, \\n, 6.8 l/100 km (comb), \\n, 8.5 l/100 km (city), \\n, 6.1 l/100 km (country), \\n]        1\n",
      "[\\nYes\\n, \\n, 4.1 l/100 km (comb), \\n, 7.5 l/100 km (city), \\n, 5.2 l/100 km (country), \\n]        1\n",
      "[\\nYes\\n, \\n, 5.2 l/100 km (comb), \\n, 6.8 l/100 km (city), \\n, 4.3 l/100 km (country), \\n]        1\n",
      "[\\nYes\\n, \\n172 g CO2/km (comb)\\n]                                                                 1\n",
      "Name: inspection_new, Length: 203, dtype: int64\n",
      "----------------------------------------\n",
      "warranty\n",
      "----------------\n",
      "NaN                                                                                                5420\n",
      "[\\n, \\n, \\nEuro 6\\n]                                                                               1868\n",
      "\\n12 months\\n                                                                                      1177\n",
      "\\n                                                                                                  979\n",
      "\\n24 months\\n                                                                                       566\n",
      "                                                                                                   ... \n",
      "[\\n72 months\\n, \\n125 g CO2/km (comb)\\n]                                                              1\n",
      "[\\n60 months\\n, \\n14 g CO2/km (comb)\\n]                                                               1\n",
      "[\\n24 months\\n, \\n121 g CO2/km (comb)\\n]                                                              1\n",
      "[\\n12 months\\n, \\nEuro 6d\\n]                                                                          1\n",
      "[\\n36 months\\n, \\n, 7.4 l/100 km (comb), \\n, 9.6 l/100 km (city), \\n, 6 l/100 km (country), \\n]       1\n",
      "Name: warranty, Length: 516, dtype: int64\n",
      "----------------------------------------\n",
      "full_service\n",
      "----------------\n",
      "NaN                                                                                           7704\n",
      "[\\n, \\n, \\n4 (Green)\\n]                                                                       2235\n",
      "[\\n, \\n, \\nEuro 6\\n]                                                                          2097\n",
      "[\\n, \\n]                                                                                      1702\n",
      "[\\n, \\n, \\nEuro 6d-TEMP\\n]                                                                     399\n",
      "                                                                                              ... \n",
      "[\\n, \\n, \\n80 g CO2/km (comb)\\n]                                                                 1\n",
      "[\\n, \\n, \\n84 g CO2/km (comb)\\n]                                                                 1\n",
      "[\\n, \\n, \\n, 6 l/100 km (comb), \\n, 8 l/100 km (city), \\n, 4.9 l/100 km (country), \\n]           1\n",
      "[\\n, \\n, \\n, 4.9 l/100 km (comb), \\n, 6.2 l/100 km (city), \\n, 4.1 l/100 km (country), \\n]       1\n",
      "[\\n, \\n, \\nEuro 4\\n]                                                                             1\n",
      "Name: full_service, Length: 123, dtype: int64\n",
      "----------------------------------------\n",
      "non_smoking_vehicle\n",
      "----------------\n",
      "NaN                                                                                           8742\n",
      "[\\n, \\n]                                                                                      3647\n",
      "[\\n, \\n, \\n4 (Green)\\n]                                                                       1240\n",
      "[\\n, \\n, \\nEuro 6\\n]                                                                          1127\n",
      "[\\n, \\n, \\nEuro 6d-TEMP\\n]                                                                     345\n",
      "                                                                                              ... \n",
      "[\\n, \\n, \\n, 5.6 l/100 km (comb), \\n, 7.3 l/100 km (city), \\n, 4.7 l/100 km (country), \\n]       1\n",
      "[\\n, \\n, \\n122 g CO2/km (comb)\\n]                                                                1\n",
      "[\\n, \\n, \\n158 g CO2/km (comb)\\n]                                                                1\n",
      "[\\n, \\n, \\n150 g CO2/km (comb)\\n]                                                                1\n",
      "[\\n, \\n, \\n175 g CO2/km (comb)\\n]                                                                1\n",
      "Name: non_smoking_vehicle, Length: 95, dtype: int64\n",
      "----------------------------------------\n",
      "null\n",
      "----------------\n",
      "[]    15919\n",
      "Name: null, dtype: int64\n",
      "----------------------------------------\n",
      "make\n",
      "----------------\n",
      "\\nOpel\\n       7343\n",
      "\\nAudi\\n       5712\n",
      "\\nRenault\\n    2864\n",
      "Name: make, dtype: int64\n",
      "----------------------------------------\n",
      "model\n",
      "----------------\n",
      "[\\n, A3, \\n]          3097\n",
      "[\\n, A1, \\n]          2614\n",
      "[\\n, Insignia, \\n]    2598\n",
      "[\\n, Astra, \\n]       2526\n",
      "[\\n, Corsa, \\n]       2219\n",
      "[\\n, Clio, \\n]        1839\n",
      "[\\n, Espace, \\n]       991\n",
      "[\\n, Duster, \\n]        34\n",
      "[\\n, A2, \\n]             1\n",
      "Name: model, dtype: int64\n",
      "----------------------------------------\n",
      "offer_number\n",
      "----------------\n",
      "NaN                                               3175\n",
      "[\\nLT67679\\n]                                       27\n",
      "[\\nUN89904\\n]                                       27\n",
      "[\\nXJ38068\\n]                                       27\n",
      "[\\nJV03654\\n]                                       27\n",
      "                                                  ... \n",
      "[\\n160_dcbb6c3e-a6da-43a3-8754-ccd994cec93b\\n]       1\n",
      "[\\n6701576\\n]                                        1\n",
      "[\\n6701569\\n]                                        1\n",
      "[\\n158121\\n]                                         1\n",
      "[\\nRe_30000008029\\n]                                 1\n",
      "Name: offer_number, Length: 11441, dtype: int64\n",
      "----------------------------------------\n",
      "first_registration\n",
      "----------------\n",
      "[\\n, 2018, \\n]    4522\n",
      "[\\n, 2016, \\n]    3674\n",
      "[\\n, 2017, \\n]    3273\n",
      "[\\n, 2019, \\n]    2853\n",
      "NaN               1597\n",
      "Name: first_registration, dtype: int64\n",
      "----------------------------------------\n",
      "body_color\n",
      "----------------\n",
      "[\\n, Black, \\n]     3745\n",
      "[\\n, Grey, \\n]      3505\n",
      "[\\n, White, \\n]     3406\n",
      "[\\n, Silver, \\n]    1647\n",
      "[\\n, Blue, \\n]      1431\n",
      "[\\n, Red, \\n]        957\n",
      "NaN                  597\n",
      "[\\n, Brown, \\n]      289\n",
      "[\\n, Green, \\n]      154\n",
      "[\\n, Beige, \\n]      108\n",
      "[\\n, Yellow, \\n]      51\n",
      "[\\n, Violet, \\n]      18\n",
      "[\\n, Bronze, \\n]       6\n",
      "[\\n, Orange, \\n]       3\n",
      "[\\n, Gold, \\n]         2\n",
      "Name: body_color, dtype: int64\n",
      "----------------------------------------\n",
      "paint_type\n",
      "----------------\n",
      "[\\nMetallic\\n]       9794\n",
      "NaN                  5772\n",
      "[\\nUni/basic\\n]       347\n",
      "[\\nPerl effect\\n]       6\n",
      "Name: paint_type, dtype: int64\n",
      "----------------------------------------\n",
      "body_color_original\n",
      "----------------\n",
      "NaN                                    3759\n",
      "[\\nOnyx Schwarz\\n]                      338\n",
      "[\\nBianco\\n]                            282\n",
      "[\\nMythosschwarz Metallic\\n]            238\n",
      "[\\nBrillantschwarz\\n]                   216\n",
      "                                       ... \n",
      "[\\nRouge-Braun (G0Y)\\n]                   1\n",
      "[\\nVARI COLRI DISPONIBILI\\n]              1\n",
      "[\\nKokosnussbraun Metallic\\n]             1\n",
      "[\\nFarbe frei wählbar\\n]                  1\n",
      "[\\nPerlmutt-Weiß Metallic (Weiß)\\n]       1\n",
      "Name: body_color_original, Length: 1928, dtype: int64\n",
      "----------------------------------------\n",
      "upholstery\n",
      "----------------\n",
      "[\\nCloth, Black\\n]           5821\n",
      "NaN                          3720\n",
      "[\\nPart leather, Black\\n]    1121\n",
      "[\\nCloth\\n]                  1005\n",
      "[\\nCloth, Grey\\n]             891\n",
      "[\\nCloth, Other\\n]            639\n",
      "[\\nFull leather, Black\\n]     575\n",
      "[\\nBlack\\n]                   491\n",
      "[\\nGrey\\n]                    273\n",
      "[\\nOther, Other\\n]            182\n",
      "[\\nPart leather\\n]            140\n",
      "[\\nFull leather\\n]            139\n",
      "[\\nFull leather, Brown\\n]     116\n",
      "[\\nPart leather, Grey\\n]      116\n",
      "[\\nOther, Black\\n]            110\n",
      "[\\nFull leather, Other\\n]      72\n",
      "[\\nFull leather, Grey\\n]       67\n",
      "[\\nPart leather, Other\\n]      65\n",
      "[\\nOther\\n]                    56\n",
      "[\\nPart leather, Brown\\n]      50\n",
      "[\\nalcantara, Black\\n]         47\n",
      "[\\nVelour, Black\\n]            36\n",
      "[\\nFull leather, Beige\\n]      36\n",
      "[\\nCloth, Brown\\n]             28\n",
      "[\\nVelour\\n]                   16\n",
      "[\\nOther, Grey\\n]              15\n",
      "[\\nCloth, Beige\\n]             13\n",
      "[\\nBrown\\n]                    12\n",
      "[\\nCloth, Blue\\n]              12\n",
      "[\\nVelour, Grey\\n]              8\n",
      "[\\nCloth, White\\n]              8\n",
      "[\\nalcantara, Grey\\n]           6\n",
      "[\\nCloth, Red\\n]                5\n",
      "[\\nOther, Yellow\\n]             4\n",
      "[\\nPart leather, Red\\n]         3\n",
      "[\\nBeige\\n]                     3\n",
      "[\\nPart leather, White\\n]       2\n",
      "[\\nFull leather, Blue\\n]        2\n",
      "[\\nalcantara, Other\\n]          2\n",
      "[\\nalcantara\\n]                 2\n",
      "[\\nWhite\\n]                     2\n",
      "[\\nPart leather, Beige\\n]       2\n",
      "[\\nBlue\\n]                      2\n",
      "[\\nCloth, Orange\\n]             1\n",
      "[\\nFull leather, Red\\n]         1\n",
      "[\\nOther, Brown\\n]              1\n",
      "[\\nFull leather, White\\n]       1\n",
      "Name: upholstery, dtype: int64\n",
      "----------------------------------------\n",
      "body\n",
      "----------------\n",
      "[\\n, Sedans, \\n]           7903\n",
      "[\\n, Station wagon, \\n]    3553\n",
      "[\\n, Compact, \\n]          3153\n",
      "[\\n, Van, \\n]               783\n",
      "[\\n, Other, \\n]             290\n",
      "[\\n, Transporter, \\n]        88\n",
      "NaN                          60\n",
      "[\\n, Off-Road, \\n]           56\n",
      "[\\n, Coupe, \\n]              25\n",
      "[\\n, Convertible, \\n]         8\n",
      "Name: body, dtype: int64\n",
      "----------------------------------------\n",
      "num_of_doors\n",
      "----------------\n",
      "[\\n5\\n]    11575\n",
      "[\\n4\\n]     3079\n",
      "[\\n3\\n]      832\n",
      "[\\n2\\n]      219\n",
      "NaN          212\n",
      "[\\n1\\n]        1\n",
      "[\\n7\\n]        1\n",
      "Name: num_of_doors, dtype: int64\n",
      "----------------------------------------\n",
      "num_of_seats\n",
      "----------------\n",
      "[\\n5\\n]    13336\n",
      "[\\n4\\n]     1125\n",
      "NaN          977\n",
      "[\\n7\\n]      362\n",
      "[\\n2\\n]      116\n",
      "[\\n6\\n]        2\n",
      "[\\n3\\n]        1\n",
      "Name: num_of_seats, dtype: int64\n",
      "----------------------------------------\n",
      "model_code\n",
      "----------------\n",
      "NaN               10941\n",
      "[\\n0035/BCB\\n]      268\n",
      "[\\n0588/BNO\\n]      245\n",
      "[\\n0588/BDB\\n]      206\n",
      "[\\n0588/BHX\\n]      188\n",
      "                  ...  \n",
      "[\\n0035/AVN\\n]        1\n",
      "[\\n0035/BEM\\n]        1\n",
      "[\\n0035/BAG\\n]        1\n",
      "[\\n0035/BAA\\n]        1\n",
      "[\\n3333/BKG\\n]        1\n",
      "Name: model_code, Length: 233, dtype: int64\n",
      "----------------------------------------\n",
      "gearing_type\n",
      "----------------\n",
      "[\\n, Manual, \\n]            8153\n",
      "[\\n, Automatic, \\n]         7297\n",
      "[\\n, Semi-automatic, \\n]     469\n",
      "Name: gearing_type, dtype: int64\n",
      "----------------------------------------\n",
      "displacement\n",
      "----------------\n",
      "[\\n1,598 cc\\n]    4761\n",
      "[\\n999 cc\\n]      2438\n",
      "[\\n1,398 cc\\n]    1314\n",
      "[\\n1,399 cc\\n]     749\n",
      "[\\n1,229 cc\\n]     677\n",
      "                  ... \n",
      "[\\n122 cc\\n]         1\n",
      "[\\n1,198 cc\\n]       1\n",
      "[\\n1,195 cc\\n]       1\n",
      "[\\n2,967 cc\\n]       1\n",
      "[\\n1,800 cc\\n]       1\n",
      "Name: displacement, Length: 78, dtype: int64\n",
      "----------------------------------------\n",
      "cylinders\n",
      "----------------\n",
      "[\\n4\\n]    8105\n",
      "NaN        5680\n",
      "[\\n3\\n]    2104\n",
      "[\\n5\\n]      22\n",
      "[\\n6\\n]       3\n",
      "[\\n8\\n]       2\n",
      "[\\n2\\n]       2\n",
      "[\\n1\\n]       1\n",
      "Name: cylinders, dtype: int64\n",
      "----------------------------------------\n",
      "weight\n",
      "----------------\n",
      "NaN               6974\n",
      "[\\n1,163 kg\\n]     574\n",
      "[\\n1,360 kg\\n]     356\n",
      "[\\n1,165 kg\\n]     301\n",
      "[\\n1,335 kg\\n]     242\n",
      "                  ... \n",
      "[\\n1,960 kg\\n]       1\n",
      "[\\n1,258 kg\\n]       1\n",
      "[\\n1,167 kg\\n]       1\n",
      "[\\n1,331 kg\\n]       1\n",
      "[\\n2,037 kg\\n]       1\n",
      "Name: weight, Length: 435, dtype: int64\n",
      "----------------------------------------\n",
      "drive_chain\n",
      "----------------\n",
      "[\\nfront\\n]    8886\n",
      "NaN            6858\n",
      "[\\n4WD\\n]       171\n",
      "[\\nrear\\n]        4\n",
      "Name: drive_chain, dtype: int64\n",
      "----------------------------------------\n",
      "fuel\n",
      "----------------\n",
      "[\\n, Diesel (Particulate Filter), \\n]                                                                                  4315\n",
      "[\\n, Super 95, \\n]                                                                                                     3338\n",
      "[\\n, Gasoline, \\n]                                                                                                     3175\n",
      "[\\n, Diesel, \\n]                                                                                                       2984\n",
      "[\\n, Super 95 / Regular/Benzine 91, \\n]                                                                                 424\n",
      "                                                                                                                       ... \n",
      "[\\n, Regular/Benzine 91 / Super 95 / Regular/Benzine E10 91, \\n]                                                          1\n",
      "[\\n, Super Plus 98 / Super E10 95, \\n]                                                                                    1\n",
      "[\\n, Regular/Benzine 91 / Super 95 / Regular/Benzine E10 91 / Super E10 95 / Super Plus 98 / Super Plus E10 98, \\n]       1\n",
      "[\\n, Regular/Benzine 91 / Super Plus 98 / Regular/Benzine E10 91 / Super 95 / Super E10 95 / Super Plus E10 98, \\n]       1\n",
      "[\\n, Super Plus 98 / Super 95 / Super Plus E10 98, \\n]                                                                    1\n",
      "Name: fuel, Length: 77, dtype: int64\n",
      "----------------------------------------\n",
      "consumption\n",
      "----------------\n",
      "NaN                                                                                   1906\n",
      "[[3.9 l/100 km (comb)], [4.1 l/100 km (city)], [3.7 l/100 km (country)]]               304\n",
      "[[4.2 l/100 km (comb)], [5 l/100 km (city)], [3.7 l/100 km (country)]]                 276\n",
      "[[5.4 l/100 km (comb)], [6.8 l/100 km (city)], [4.5 l/100 km (country)]]               257\n",
      "[[3.8 l/100 km (comb)], [4.3 l/100 km (city)], [3.5 l/100 km (country)]]               253\n",
      "                                                                                      ... \n",
      "[[4.2 l/100 km (comb)], [5.3 l/100 km (city)], [3.6 l/100 km (country)]]                 1\n",
      "[\\n, 5.1 l/100 km (comb), \\n, 6.4 l/100 km (city), \\n, 4.3 l/100 km (country), \\n]       1\n",
      "[[4.6 l/100 km (comb)], [5.4 l/100 km (city)], [6.7 l/100 km (country)]]                 1\n",
      "[\\n, 6.3 l/100 km (comb), \\n, \\n, \\n]                                                    1\n",
      "[\\n, 7.4 l/100 km (comb), \\n, 9.6 l/100 km (city), \\n, 6 l/100 km (country), \\n]         1\n",
      "Name: consumption, Length: 882, dtype: int64\n",
      "----------------------------------------\n",
      "co2_emission\n",
      "----------------\n",
      "NaN                            1808\n",
      "[\\n120 g CO2/km (comb)\\n]       740\n",
      "[[], [], []]                    628\n",
      "[\\n99 g CO2/km (comb)\\n]        545\n",
      "[\\n97 g CO2/km (comb)\\n]        537\n",
      "                               ... \n",
      "[\\n14 g CO2/km (comb)\\n]          1\n",
      "[\\n1,060 g CO2/km (comb)\\n]       1\n",
      "[\\n51 g CO2/km (comb)\\n]          1\n",
      "[\\n165 g CO2/km (comb)\\n]         1\n",
      "[\\n193 g CO2/km (comb)\\n]         1\n",
      "Name: co2_emission, Length: 124, dtype: int64\n",
      "----------------------------------------\n",
      "emission_class\n",
      "----------------\n",
      "[\\nEuro 6\\n]          10139\n",
      "NaN                    3021\n",
      "[\\nEuro 6d-TEMP\\n]     1845\n",
      "[[], [], []]            607\n",
      "[\\nEuro 6c\\n]           127\n",
      "[\\nEuro 5\\n]             78\n",
      "[\\nEuro 6d\\n]            62\n",
      "[\\nEuro 4\\n]             40\n",
      "Name: emission_class, dtype: int64\n",
      "----------------------------------------\n",
      "comfort_convenience\n",
      "----------------\n",
      "NaN                                                                                                                                                                                                                                                                                                                                                                                                                                                                                                                          920\n",
      "[Air conditioning, Electrical side mirrors, Hill Holder, Power windows]                                                                                                                                                                                                                                                                                                                                                                                                                                                      216\n",
      "[Air conditioning, Electrical side mirrors, Power windows]                                                                                                                                                                                                                                                                                                                                                                                                                                                                   134\n",
      "[Air conditioning, Power windows]                                                                                                                                                                                                                                                                                                                                                                                                                                                                                            130\n",
      "[Air conditioning, Armrest, Automatic climate control, Cruise control, Electrical side mirrors, Leather steering wheel, Light sensor, Lumbar support, Multi-function steering wheel, Navigation system, Park Distance Control, Parking assist system sensors front, Parking assist system sensors rear, Power windows, Rain sensor, Seat heating, Start-stop system]                                                                                                                                                         105\n",
      "                                                                                                                                                                                                                                                                                                                                                                                                                                                                                                                            ... \n",
      "[Air conditioning, Cruise control, Electrical side mirrors, Hill Holder, Leather steering wheel, Light sensor, Multi-function steering wheel, Navigation system, Park Distance Control, Parking assist system sensors rear, Power windows, Rain sensor, Split rear seats, Start-stop system, Tinted windows]                                                                                                                                                                                                                   1\n",
      "[Air conditioning, Armrest, Automatic climate control, Cruise control, Electrical side mirrors, Heated steering wheel, Hill Holder, Leather steering wheel, Light sensor, Lumbar support, Multi-function steering wheel, Navigation system, Park Distance Control, Parking assist system camera, Parking assist system sensors front, Parking assist system sensors rear, Power windows, Rain sensor, Seat heating, Sunroof]                                                                                                   1\n",
      "[Air conditioning, Armrest, Cruise control, Electrical side mirrors, Heated steering wheel, Hill Holder, Leather steering wheel, Light sensor, Multi-function steering wheel, Park Distance Control, Parking assist system camera, Parking assist system sensors front, Parking assist system sensors rear, Power windows, Rain sensor, Seat heating, Split rear seats, Start-stop system, Tinted windows]                                                                                                                     1\n",
      "[Air conditioning, Automatic climate control, Cruise control, Electrical side mirrors, Leather steering wheel, Light sensor, Multi-function steering wheel, Park Distance Control, Parking assist system sensors front, Parking assist system sensors rear, Power windows, Rain sensor, Seat heating]                                                                                                                                                                                                                          1\n",
      "[Air conditioning, Automatic climate control, Cruise control, Electrically heated windshield, Electrical side mirrors, Electric tailgate, Heads-up display, Heated steering wheel, Hill Holder, Keyless central door lock, Leather steering wheel, Light sensor, Lumbar support, Navigation system, Park Distance Control, Parking assist system camera, Parking assist system self-steering, Parking assist system sensors front, Parking assist system sensors rear, Power windows, Rain sensor, Seat heating, Sunroof]      1\n",
      "Name: comfort_convenience, Length: 6199, dtype: int64\n",
      "----------------------------------------\n",
      "entertainment_media\n",
      "----------------\n",
      "NaN                                                                                                           1374\n",
      "[Bluetooth, Hands-free equipment, On-board computer, Radio, USB]                                              1282\n",
      "[Bluetooth, Hands-free equipment, MP3, On-board computer, Radio, USB]                                          982\n",
      "[Bluetooth, CD player, Hands-free equipment, MP3, On-board computer, Radio, USB]                               783\n",
      "[On-board computer, Radio]                                                                                     487\n",
      "                                                                                                              ... \n",
      "[Bluetooth, CD player, Digital radio, Hands-free equipment, Radio]                                               1\n",
      "[CD player, Hands-free equipment, MP3, Radio, USB]                                                               1\n",
      "[MP3, Radio, Sound system, USB]                                                                                  1\n",
      "[Bluetooth, MP3, On-board computer, Radio, Television, USB]                                                      1\n",
      "[Bluetooth, CD player, Hands-free equipment, MP3, On-board computer, Radio, Sound system, Television, USB]       1\n",
      "Name: entertainment_media, Length: 347, dtype: int64\n",
      "----------------------------------------\n",
      "extras\n",
      "----------------\n",
      "[Alloy wheels]                                                                                                     3245\n",
      "NaN                                                                                                                2962\n",
      "[Alloy wheels, Touch screen]                                                                                        697\n",
      "[Alloy wheels, Voice Control]                                                                                       577\n",
      "[Alloy wheels, Touch screen, Voice Control]                                                                         541\n",
      "                                                                                                                   ... \n",
      "[Alloy wheels, Catalytic Converter, Shift paddles, Sport package, Sport seats, Sport suspension, Voice Control]       1\n",
      "[Alloy wheels, Catalytic Converter, Roof rack, Sport package, Sport seats, Trailer hitch]                             1\n",
      "[Alloy wheels, Catalytic Converter, Ski bag, Sport package, Voice Control]                                            1\n",
      "[Catalytic Converter, Roof rack, Sport seats, Sport suspension]                                                       1\n",
      "[Alloy wheels, Shift paddles, Ski bag, Sport seats, Sport suspension, Touch screen, Voice Control]                    1\n",
      "Name: extras, Length: 660, dtype: int64\n",
      "----------------------------------------\n",
      "safety_security\n",
      "----------------\n",
      "NaN                                                                                                                                                                                                                                                                                                                                                                                  982\n",
      "[ABS, Central door lock, Daytime running lights, Driver-side airbag, Electronic stability control, Fog lights, Immobilizer, Isofix, Passenger-side airbag, Power steering, Side airbag, Tire pressure monitoring system, Traction control]                                                                                                                                           538\n",
      "[ABS, Central door lock, Daytime running lights, Driver-side airbag, Electronic stability control, Immobilizer, Isofix, Passenger-side airbag, Power steering, Side airbag, Tire pressure monitoring system, Traction control]                                                                                                                                                       480\n",
      "[ABS, Central door lock, Daytime running lights, Driver-side airbag, Electronic stability control, Immobilizer, Isofix, Passenger-side airbag, Power steering, Side airbag, Tire pressure monitoring system, Traction control, Xenon headlights]                                                                                                                                     275\n",
      "[ABS, Central door lock, Daytime running lights, Driver-side airbag, Electronic stability control, Fog lights, Immobilizer, Isofix, LED Daytime Running Lights, Passenger-side airbag, Power steering, Side airbag, Tire pressure monitoring system, Traction control]                                                                                                               272\n",
      "                                                                                                                                                                                                                                                                                                                                                                                    ... \n",
      "[ABS, Central door lock, Electronic stability control, Immobilizer, Isofix, Passenger-side airbag, Power steering, Side airbag]                                                                                                                                                                                                                                                        1\n",
      "[ABS, Adaptive Cruise Control, Central door lock, Daytime running lights, Driver-side airbag, Electronic stability control, Emergency brake assistant, Immobilizer, Isofix, Passenger-side airbag, Power steering, Side airbag, Tire pressure monitoring system, Traction control]                                                                                                     1\n",
      "[ABS, Adaptive Cruise Control, Alarm system, Central door lock, Driver-side airbag, Electronic stability control, Fog lights, Immobilizer, Isofix, Lane departure warning system, LED Daytime Running Lights, Passenger-side airbag, Power steering, Side airbag, Tire pressure monitoring system, Traction control, Xenon headlights]                                                 1\n",
      "[ABS, Adaptive Cruise Control, Central door lock, Daytime running lights, Driver-side airbag, Electronic stability control, Fog lights, Immobilizer, Isofix, Power steering, Tire pressure monitoring system, Traction control]                                                                                                                                                        1\n",
      "[ABS, Adaptive Cruise Control, Central door lock, Daytime running lights, Driver-side airbag, Electronic stability control, Emergency brake assistant, Fog lights, Immobilizer, Isofix, Lane departure warning system, LED Daytime Running Lights, LED Headlights, Passenger-side airbag, Power steering, Side airbag, Tire pressure monitoring system, Traffic sign recognition]      1\n",
      "Name: safety_security, Length: 4444, dtype: int64\n",
      "----------------------------------------\n",
      "description\n",
      "----------------\n",
      "[]                                                                                                                                                                                                                                                                                                                                                                                                                                                                                                                                                                                                                                                                                                                                                                                                                                                                                                                                                                                                                                                                                                                                                                                                                                                                                                                                                                                                                                                                                                                                                                                                                                                                                                                                                                                                                                                                                                                                                                                                                                                                                                                                                                                                                                                                                                                                                                                                                                                                                                                                                                                                                                                                                        636\n",
      "[\\n, \\n]                                                                                                                                                                                                                                                                                                                                                                                                                                                                                                                                                                                                                                                                                                                                                                                                                                                                                                                                                                                                                                                                                                                                                                                                                                                                                                                                                                                                                                                                                                                                                                                                                                                                                                                                                                                                                                                                                                                                                                                                                                                                                                                                                                                                                                                                                                                                                                                                                                                                                                                                                                                                                                                                                   30\n",
      "[\\n, Fahrzeugbeschreibung,  Sichern Sie sich diesen Renault Clio 1.6 TCE Energy Sport Trophy zum Top-Preis inklusive dem , AUTOHERO-RUNDUM-SORGLOS-PAKET,  , Infos:,  1.Hand, deutsche Auslieferung, Unfallfrei, scheckheftgepflegt,  , Highlights,  , Audio-Navigationssystem R-Link Evolution mit Touchscreen und Carminat TomTom,  , Sportsitze ,  , Sportfahrwerk,  , Scheinwerfer Full-LED , Komfort,  , Geschwindigkeits-Regelanlage (Tempomat) ,  , Klimaanlage,  , Einparkhilfe hinten,  , Multifunktionslenkrad (Sport/Leder) mit Schaltwippen/-tasten ,  , Fensterheber elektr. mit Impulsgeber links/rechts vorn,  , Zentralverriegelung / Startanlage Handsfree Entry & Drive ,  , Berganfahr-Assistent (HSA) , Multimedia,  , Audiosystem: Radio R & GO (Bluetooth, DAB-Tuner),  , Bordcomputer,  , Freisprecheinrichtung Bluetooth ,  , USB-Anschluss inkl. AUX-IN-Anschluss (Plug & Music) , Licht und Sicht,  , Außenspiegel elektr. verstell- und heizbar ,  , Licht- und Regensensor ,  , Tagfahrlicht LED ,  , Nebelscheinwerfer LED ,  , Coming-Home-Lichtfunktion ,  , Heckleuchten LED , Sicherheit,  , Isofix-Aufnahmen für Kindersitz ,  , Seitenairbag vorn,  , Wegfahrsperre,  , Differentialsperre,  , Bremsassistent ,  , Elektron. Stabilitäts-Programm (ESP),  , Anti-Blockier-System (ABS),  , Anti-Submarining-Airbag im Fond,  , Airbag Fahrer-/Beifahrerseite ,  , Differentialsperre ,  , Reifendruck-Kontrollsystem ,  , Untersteuerungskontrolle (USC) ,  , Antischlupfregelung (ASR) , Weiteres,  , Start/Stop-Anlage ,  , Servolenkung geschwindigkeitsabhängig,  , R.S. Drive (Fahrmodusschalter) ,  , Gepäckraumabdeckung / Rollo ,  , Heckdiffusor ,  , LM-Felgen ,  , Heckspoiler (Renault Sport) ,  , Pedale Aluminium ,  , Energierückgewinnung (Energy Smart Management) , ...]                                                                                                                                                                                                                                                                                                                                                                                                                                                                                                                                                                                                                                                                                                                                                                                                                                                              27\n",
      "[\\nPosibilidad de prueba del vehículo hasta 5 días. Consultar condiciones. PVP para particulares. Varias unidades y colores disponibles. Precios publicados para vehículos industriales (furgonetas) válidos para compradores autónomos o empresas, consultar condiciones para particulares. Las imágenes y kilómetros pueden no corresponder con el modelo anunciado. Para confirmar póngase en contacto con nuestro departamento comercial. Consulta las excepcionales condiciones de financiación que tenemos disponibles. Precio de venta final IVA y gastos de transferencia incluidos. Horario de atención al cliente: Lunes a Viernes de 09:00 a 18:00.\\n]                                                                                                                                                                                                                                                                                                                                                                                                                                                                                                                                                                                                                                                                                                                                                                                                                                                                                                                                                                                                                                                                                                                                                                                                                                                                                                                                                                                                                                                                                                                                                                                                                                                                                                                                                                                                                                                                                                                                                                                                                          27\n",
      "[\\nSichern Sie sich diesen RENAULT CLIO 1.2 LIMITED zum Top-Preis inklusive dem, AUTOHERO-RUNDUM-SORGLOS-PAKET,  , Infos:,  2.Hand, mindestens 12 Monate gültige HU und AU, deutsche Ausführung, unfallfrei ,  , Highlights,  , Audio-Navigationssystem mit Touchscreen-Farbdisplay, Komfort,  , Klimaanlage ,  , Multifunktionslenkrad in Leder ,  , Berganfahr-Assistent (HSA),  , Fensterheber elektrisch vorn ,  , Geschwindigkeits-Regelanlage (Tempomat) ,  , Heckscheibe heizbar ,  , Sitz vorn links höhenverstellbar,  , Sitz vorn rechts umklappbar ,  , Stau-/Ablagefach im Laderaumboden ,  , Zentralverriegelung mit Fernbedienung , Multimedia,  , Radio R&GO,  , Bluetooth Freisprechanlage ,  , USB-/AUX-Schnittstelle ,  , Bordcomputer,  , Licht und Sicht,  , Tagfahrlicht LED ,  , Außenspiegel elektrisch verstell- und heizbar, Sicherheit,  , Airbag für Fahrer und Beifahrer,  , Beifahrerairbag deaktivierbar ,  , Seitenairbags vorn ,  , Kopfairbagsystem,  , Anti-Blockier-System (ABS),  , Elektronische Bremskraftverteilung ,  , Elektronische Stabilitäts-Programm (ESP) ,  , Reifen-Reparaturkit ,  , Reifendruck-Kontrollsystem ,  , Untersteuerungskontrolle (USC) ,  , ISOFIX Kindersitzverankerung , Weiteres,  , Dachreling silber ,  , Look-Paket Chrom (außen) ,  , Look-Paket Grau (innen) ,  , R&GO-Paket ,  , Style-Paket ,  Ihr , AUTOHERO-RUNDUM-SORGLOS-PAKET,  beinhaltet:, Kostenlose Lieferung in Ihre Nähe, Optische & technische Aufbereitung, Mindestens 12 Monate gültige HU und AU, 1-Jahr-Premium-Garantie, Zulassung inklusive , 14-Tage-Rückgaberecht, Markenunabhängige Inzahlungnahme , Individuelle Finanzierungen zu fairen Konditionen,  , HIER GEHT ES ZUR 360° - ANSICHT DES FAHRZEUGES:, :, https://www.autohero.com/de/renault-clio-1-2-limited/id/30f99516-8785-47e7-a4a3-6cdac4d8e633/,  , Haftungsausschluss, :, Für Angaben vom Verkäufer, des Herstellers oder von Datenbankabfragen übernimmt Autohero keine Haftung. Änderungen, Zwischenverkauf und Irrtümer sind vorbehalten.\\n]                                                                                                                                                                                                                                                                                                                                                                                                                                                                                                                                                                                                                                27\n",
      "                                                                                                                                                                                                                                                                                                                                                                                                                                                                                                                                                                                                                                                                                                                                                                                                                                                                                                                                                                                                                                                                                                                                                                                                                                                                                                                                                                                                                                                                                                                                                                                                                                                                                                                                                                                                                                                                                                                                                                                                                                                                                                                                                                                                                                                                                                                                                                                                                                                                                                                                                                                                                                                                                         ... \n",
      "[\\nPratica 67374, Airbag fullsize per conducente e passeggero, Alzacristalli elettrici ant. e post. con funzione attivaz. a pressione, Assetto dinamico, Audi drive select, Inserti in micrometallic argento, Kit riparazione pneumatici, Pacchetto di navigazione, Piano di copertura del vano bagagli estraibile, Presa AUX-IN, Proiettori allo Xenon Plus con reg. aut. prof. fari, Lavafari, Rivestimenti dei sedili in tessuto, Serbatoio AdBlue, Sistema controllo pressione pneumatici, Sistema di ancoraggio ISOFIX e 3° punto di ancoraggio Top Tether sui sedili post. laterali, Sistema di informazioni per il conducente con display monocromatico, Tappetini anteriori e posteriori, Versione Business, Volante sportivo multifunzionale in pelle 3 razze, ABS, EBV (Ripartitore elettronico della forza frenante), Airbag laterali anteriori integrati negli schienali dei sedili, Airbag per la testa, Airbag per le ginocchia (lato conducente), Appoggiatesta anteriori (2) e posteriori (3) regolabili, Radio MMI plus, Interfaccia Bluetooth, Appoggiabraccia centrale anteriore, Cambio manuale, Cerchi in lega 7 J x 16\" a 5 razze a stella, Chiusura centralizzata con telecomando, Regolatore di velocità, ESC - Sistema elettronico di controllo della stabilizzazione con bloccaggio trasversale elettronico, ASR - Dispositivo di controllo della trazione, EDS (Dispositivo antislittamento in partenza), Filtro anti particolato, Cinture di sicurezza con pretensionatore, Specchietti retrovisivi esterni riscaldabili e ripiegabili elettricamente, Schienale del sedile posteriore ribaltabile (divisibile in rapporto 40:60 o ribaltabile completam.), Sistema di ausilio al parcheggio posteriore, Servosterzo elettromeccanico, Tergilunotto\\n]                                                                                                                                                                                                                                                                                                                                                                                                                                                                                                                                                                                                                                                                                                                                                                                                                                                                                                          1\n",
      "[\\n, Getriebe:,  Schaltgetriebe, Technik:,  Bordcomputer, Start-Stop-Automatik, Assistenten:,  Regensensor, Lichtsensor, Berganfahrassistent, Komfort:,  Servolenkung, Zentralverriegelung, Elektrischer Fensterheber, Sitzheizung, Elektrische Aussenspiegel, Teilbare Ruecksitzlehne, Tempomat, Park Distance Control, Multifunktionslenkrad, Innenspiegel autom. abblendbar, Mittelarmlehne, Innenraumfilter, Lenksaeule einstellbar, Sportsitze, Klimaautomatik-2-Zonen, Sicht:,  Xenon Scheinwerfer, Colorverglasung, Scheinwerferreinigung, Aussenspiegel beheizbar, Privacyverglasung, Sicherheit:,  ABS, Airbag, Beifahrer-Airbag, Wegfahrsperre, Seitenairbags, ESP, Antriebsschlupfregelung, Reifendruckkontrolle, Traktionskontrolle, Kopfairbag, Knieairbag, Kindersitzbefestigung, Pannenkit, Entertainment:,  CD, Radio, AUX-In, USB-Anschluss, MP3, Bluetooth, Freisprecheinrichtung, Umwelt:,  Grüne Umweltplakette, , Energieeffizienzklasse B, Qualität:,  Garantie, Scheckheftgepflegt, HUAU neu, Nichtraucherfahrzeug, Sonstiges:,  Metallic, Alufelgen, Dachreling, Gepaeckraumabdeckung, Stossfaenger in Wagenfarbe, Sportfahrwerk, Weiteres:,  Connectivity-Paket inkl. Bluetooth-Schnittstelle, Klimaautomatik 2-Zonen, Optik-Paket schwarz Audi exclusive, Einparkhilfe (APS), Verglasung hinten abgedunkelt, Sitzheizung vorn, Dachreling (Aluminium), Soundsystem DSP / Audi Sound-System, Ablage- und Gepäckraum-Paket, Audi music interface, Scheibenwaschdüsen heizbar, Vorbereitung Navigationssystem, Adaptives Bremslicht, Anfahr-Assistent (hold assist), Antriebsart: Frontantrieb, Audi Drive Select, Außenspiegel Wagenfarbe, Blinkleuchten LED in Außenspiegel integriert, Bremsanlage mit Rekuperation - Bremsenergierückgewinnung, Bremsassistent, Dachspoiler, Dekoreinlagen Aluminium Mistral, Einstiegsleisten Aluminium, Elektron. Differentialsperre (EDS), Elektron. Stabilitätskontrolle (ESC), Elektron. Stabilitäts-Programm, Euro 6, Fahrer-Informations-System (FIS), Fensterheber elektrisch vorn und hinten, Frontscheibe Akustikglas, Fußmatten Velours, Getriebe 6-Gang, Heckscheibe heizbar, Interieur Aluminium-Optik, Isofix-Aufnahmen für Kindersitz, Kopfstützen hinten, Multi-Media-Interface MMI, Parkbremse elektro-mechanisch, Polster: Stoff Rallye, Servolenkung elektro-mechanisch, Sitze vorn mit ausziehbarer Oberschenkelauflage, Sitzhöhenverstellung, Sport/Lederlenkrad, Sport-Fahrwerk, Start/Stop-Anlage, Telefon-Vorbereitung mit Bluetooth-Schnittstelle, Wagenheber, Wärmeschutzverglasung, Xenon Plus, ZV mit Fernbedienung, ... Änderungen, Zwischenverkauf und Irrtümer vorbehalten.,  by CG360.de\\n]      1\n",
      "[\\n, Getriebe, 6-Gang, Licht und Sicht, Xenon-Scheinwerfer Plus (Abblend- und Fernlicht), Technik und Sicherheit, Fahrerairbag, Airbag Fahrer-/Beifahrerseite, Seitenairbag vorn, Kopfairbags, Anti-Blockier-System (ABS), Elektron. Stabilitätskontrolle (ESC), Elektron. Differentialsperre (EDS), Zentralverriegelung mit Fernbedienung, Schließ-/Startsystem Advanced Key (Komfortschlüssel), Servolenkung elektro-mechanisch, Geschwindigkeits-Regelanlage (Tempomat), Elektronische Wegfahrsperre, Bordcomputer, Reifendruck-Kontrollsystem, Assistenzsysteme, Fahrassistenz-System: Anfahr-Assistent (hold assist), Multimedia, Multi-Media-Interface MMI Basic Plus / MMI Radio Plus, Audi Smartphone Interface, Komfort, Komfort-Klimaautomatik 2-Zonen, Einparkhilfe hinten (APS), Fensterheber elektrisch, Licht- und Regensensor, Außenspiegel elektr. verstellbar beide, Scheibenwaschdüsen und Außenspiegel beheizt, Wärmeschutzverglasung grün getönt, Innenausstattung, Sitzheizung vorn, Lenkrad (Sport/Leder - 3-Speichen) mit Multifunktion, Mittelarmlehne vorn, Rücksitzlehne geteilt/klappbar, Aussenausstattung, LM-Felgen, Pakete, Komfort-Paket, Sonstiges, Rußpartikelfilter, Scheckheftgepflegt, Nichtraucherfahrzeug, Weitere Informationen, Schadstoffklasse: EURO 6D-TEMP, Connectivity-Paket, Glanz-Paket, LM-Felgen 7.5x17 (5-Speichen Y-Design), Progressivlenkung, Antriebs-Schlupfregelung (ASR), Elektron. Stabilitäts-Programm (ESP), Getriebe 6-Gang, Lenkrad (Sport - 3-Speichen), Parkbremse elektro-mechanisch, Sitze vorn höhenverstellbar, Vorrüstung Mobiltelefon/Handy mit Bluetooth-Schnittstelle, Audi music interface, Außenspiegel elektr. verstell- und heizbar beide, Vorbereitung Navigationssystem, Irrtümer und Änderungen vorbehalten., Die im Internet angebotene Ausstattung ist kein Vertragsbestandteil., Die Ausstattung muss vor Ort geprüft werden., Das angebotene Fahrzeug kann von einer Rückrufaktion betroffen sein. Co2 Angaben können abweichen., \\n]                                                                                                                                                                                                                                                                                                                                                                                                                                                                                                                                                                                                                                                                  1\n",
      "[\\n, Aluminium-Gussräder im 5-Speichen-Stern-Design Größe 7 J x 16 mit Reifen 205/55 R 16, Dachreling eloxiert, Einparkhilfe hinten, Fahrerinformationssystem mit Farbdisplay, Lederlenkrad im 3-Speichen-Design mit Multifunktion plus, Ablage-/Gepäckraumpaket mit erweitertem USB-Buchsen-Angebot, Lichtpaket, Reifen 16', Anlaufvariante RdW, Vorbereitung für Anhängevorrichtung, Audi sound system, Reifen 205/55 R16 91W, Xenon plus, Allwetterlicht, Kopfstützen hinten (3 Stück), MMI Radio plus, Zentralverriegelung mit Funkschlüssel, Bluetooth-Schnittstelle, Innenspiegel abblendbar, elektronische Stabilisierungskontrolle (ESC), Airbags, 6-Gang-Schaltgetriebe, Seitenairbags vorn und Kopfairbagsystem, elektromechanische Servolenkung, Leuchtweitenregulierung automatisch-statisch, Scheibenwaschdüsen beheizbar vorn, Reifendruck-Kontrollanzeige, Tagfahrlicht, Start-Stop-System, AUX-IN-Anschluss, Kindersitzverankerung ISOFIX und Top Tether für die äußeren Fondsitze, Sitzbezüge in Stoff Index, Wärmeschutzverglasung, Akustikfrontscheibe, Außenspiegel links asphärisch, Außen-Sound Standard, Außenspiegel rechts (großes Sichtfeld) konvex, elektromechanische Parkbremse, Dachhimmel in Stoff felsgrau, Kraftstoffsystem Otto-Einspritzer, Linkslenker, Reifenreparaturset, Heckleuchten, Scheibenwaschanlage, Entriegelung Hintersitz Standard, Waschwasserstandsanzeige, Abgaskonzept EU6 AG/H/I, Frontantrieb, A3, Außenspiegelgehäuse in Wagenfarbe, Ohne erweitertem Sicherheitssystem, Geschwindigkeitsbegrenzungsanlage, Dachkantenspoiler, Heckscheibenwischer, Sportback, Kindersicherung manuell, Ohne Kamerasysteme/Umfeldsensorik, 4-Zyl. Ottomotor 1 5 L/110KW TSI Grundmotor ist: TJ7/N09/T9F, Nebelschlussleuchten, Nichtraucherausführung, Radstand, Doppeltonfanfare, Serienfahrwerk, 4 Türen, Modellbezeichnung gemäß neuer Leistungskennzeichnung, Warnleuchten, Zierleisten schwarz, Nichtraucherfahrzeug, Irrtümer Änderungen und Zwischenverkauf vorbehalten, sehr guter Zustand, Komfortklima, Aussenspiegel heizbar, elektrische Aussenspiegel, geteilte Rückbank, Scheckheft gepflegt, Fahrersitz höhenverstellbar, Beifahrersitz höhenverstellbar, \\n]                                                                                                                                                                                                                                                                                                                                                                                                                                                                        1\n",
      "[\\nDEK:[2691331], Renault Espace Blue dCi 200CV EDC Business, Nuova da Immatricolare, COLORE: Grigio Titanio, INTERNO: Pelle+Tessuto, TRASMISSIONE: Cambio Automatico EDC, ---, ACCESSORI: , 7 Posti, , , Cerchi in Lega 17, Navigatore con Display 8.7, Clima Automatico, Sensori di Parcheggio Anteriori e Posteriori con Retrocamera, Fari Full LED Pure Vision, Cruise Control, Renault Multisense, ---, Listino Nuovo 44.300 Euro, Prezzo Gruppo Carmeli: 39.700 Euro (Esclusa IPT e Messa in Strada), IVA Esposta, In caso di Adesione alla PROMO GRUPPO CARMELI puoi Averla a 36.000 Euro, Contattaci per scoprire tutti i vantaggi della PROMO GRUPPO CARMELI, ____________________________________, Gruppo Carmeli S.p.A. è Concessionaria e Service ufficiale dei Marchi Renault, Dacia, Nissan, Mercedes e Smart per la provincia di Brescia e Bergamo ed opera nel mercato dell’auto da più di 40 anni., Nelle sedi di Brescia (Nissan e Renault-Dacia Autospazio), di Coccaglio (Renault-Dacia e Nissan) e di Bergamo (Nissan) oltre a tutta la gamma di veicoli dei Marchi rappresentati, propone anche 2.000 auto a Km Zero e Aziendali di tutte le marche., Offriamo Servizi:, -VALUTAZIONE e PERMUTA del tuo USATO, -ACQUISTO con pagamento immediato del tuo USATO, -FINANZIAMENTI e LEASING agevolati, -NOLEGGIO A LUNGO TERMINE di veicoli di tutte le marche, -PACCHETTI ASSICURATIVI su misura con possibilità di garanzia del valore a Nuovo, ____________________________________, Sebbene sia stato fatto ogni ragionevole sforzo per assicurare l'esattezza delle informazioni riportate, vi potrebbero essere involontarie incongruenze riguardanti le immagini e la descrizione degli accessori, che pertanto non rappresentano vincolo contrattuale. Per ulteriori informazioni sulle condizioni economiche ti invitiamo a contattarci., \\n]                                                                                                                                                                                                                                                                                                                                                                                                                                                                                                                                                                                                                                                                                                                                                                                                                   1\n",
      "Name: description, Length: 12874, dtype: int64\n",
      "----------------------------------------\n",
      "emission_label\n",
      "----------------\n",
      "NaN                     11934\n",
      "[\\n4 (Green)\\n]          3553\n",
      "[\\n1 (No sticker)\\n]      381\n",
      "[[], [], []]               40\n",
      "[\\n5 (Blue)\\n]              8\n",
      "[\\n3 (Yellow)\\n]            2\n",
      "[\\n2 (Red)\\n]               1\n",
      "Name: emission_label, dtype: int64\n",
      "----------------------------------------\n",
      "gears\n",
      "----------------\n",
      "[\\n6\\n]     5822\n",
      "NaN         4712\n",
      "[\\n5\\n]     3239\n",
      "[\\n7\\n]     1908\n",
      "[\\n8\\n]      224\n",
      "[\\n9\\n]        6\n",
      "[\\n1\\n]        2\n",
      "[\\n3\\n]        2\n",
      "[\\n4\\n]        2\n",
      "[\\n2\\n]        1\n",
      "[\\n50\\n]       1\n",
      "Name: gears, dtype: int64\n",
      "----------------------------------------\n",
      "country_version\n",
      "----------------\n",
      "NaN                     8333\n",
      "[\\nGermany\\n]           4502\n",
      "[\\nItaly\\n]             1038\n",
      "[\\nEuropean Union\\n]     507\n",
      "[\\nNetherlands\\n]        464\n",
      "[\\nSpain\\n]              325\n",
      "[\\nBelgium\\n]            314\n",
      "[\\nAustria\\n]            208\n",
      "[\\nCzech Republic\\n]      52\n",
      "[\\nPoland\\n]              49\n",
      "[\\nFrance\\n]              38\n",
      "[\\nDenmark\\n]             33\n",
      "[\\nHungary\\n]             28\n",
      "[\\nJapan\\n]                8\n",
      "[\\nSlovakia\\n]             4\n",
      "[\\nCroatia\\n]              4\n",
      "[\\nSweden\\n]               3\n",
      "[\\nRomania\\n]              2\n",
      "[\\nBulgaria\\n]             2\n",
      "[\\nLuxembourg\\n]           1\n",
      "[\\nSwitzerland\\n]          1\n",
      "[\\nSlovenia\\n]             1\n",
      "[\\nEgypt\\n]                1\n",
      "[\\nSerbia\\n]               1\n",
      "Name: country_version, dtype: int64\n",
      "----------------------------------------\n",
      "electricity_consumption\n",
      "----------------\n",
      "NaN                          15782\n",
      "[\\n0 kWh/100 km (comb)\\n]      137\n",
      "Name: electricity_consumption, dtype: int64\n",
      "----------------------------------------\n",
      "last_service_date\n",
      "----------------\n",
      "NaN                                       15353\n",
      "[\\n02/2019\\n, \\nEuro 6\\n]                    23\n",
      "[\\n05/2019\\n, \\nEuro 6\\n]                    16\n",
      "[\\n01/2018\\n, \\n118 g CO2/km (comb)\\n]       15\n",
      "[\\n03/2019\\n, \\nEuro 6\\n]                    15\n",
      "                                          ...  \n",
      "[\\n01/2017\\n, \\n95 g CO2/km (comb)\\n]         1\n",
      "[\\n06/2019\\n, \\n87 g CO2/km (comb)\\n]         1\n",
      "[\\n10/2018\\n, \\n100 g CO2/km (comb)\\n]        1\n",
      "[\\n02/2018\\n, \\n97 g CO2/km (comb)\\n]         1\n",
      "[\\n03/2019\\n, \\n120 g CO2/km (comb)\\n]        1\n",
      "Name: last_service_date, Length: 267, dtype: int64\n",
      "----------------------------------------\n",
      "other_fuel_types\n",
      "----------------\n",
      "NaN             15039\n",
      "[[], [], []]      880\n",
      "Name: other_fuel_types, dtype: int64\n",
      "----------------------------------------\n",
      "availability\n",
      "----------------\n",
      "NaN                              15284\n",
      "\\nin 90 days from ordering\\n       196\n",
      "\\nin 120 days from ordering\\n      182\n",
      "\\nin 1 day from ordering\\n          51\n",
      "\\nin 5 days from ordering\\n         35\n",
      "\\nin 3 days from ordering\\n         35\n",
      "\\nin 180 days from ordering\\n       24\n",
      "\\nin 14 days from ordering\\n        24\n",
      "\\nin 7 days from ordering\\n         20\n",
      "\\nin 150 days from ordering\\n       18\n",
      "\\nin 2 days from ordering\\n         16\n",
      "\\nin 60 days from ordering\\n        13\n",
      "\\nin 42 days from ordering\\n        10\n",
      "\\nin 21 days from ordering\\n         8\n",
      "\\nin 4 days from ordering\\n          2\n",
      "\\nin 6 days from ordering\\n          1\n",
      "Name: availability, dtype: int64\n",
      "----------------------------------------\n",
      "last_timing_belt_service_date\n",
      "----------------\n",
      "NaN                          15903\n",
      "[\\n04/2016\\n]                    2\n",
      "[\\n12/1900\\n]                    1\n",
      "[\\n07/2018\\n]                    1\n",
      "[\\n01/1900\\n]                    1\n",
      "[\\n05/2019\\n]                    1\n",
      "[\\n09/2018\\n]                    1\n",
      "[\\n05/2018\\n, \\nEuro 6\\n]        1\n",
      "[\\n06/2017\\n]                    1\n",
      "[\\n01/2019\\n]                    1\n",
      "[\\n02/2019\\n]                    1\n",
      "[\\n02/2018\\n]                    1\n",
      "[\\n06/2019\\n]                    1\n",
      "[\\n01/2018\\n]                    1\n",
      "[\\n04/2019\\n]                    1\n",
      "[\\n01/1970\\n]                    1\n",
      "Name: last_timing_belt_service_date, dtype: int64\n",
      "----------------------------------------\n",
      "available_from\n",
      "----------------\n",
      "NaN             15647\n",
      "\\n31/08/19\\n       98\n",
      "\\n30/07/19\\n       25\n",
      "\\n15/08/19\\n       24\n",
      "\\n16/09/19\\n       14\n",
      "\\n29/06/19\\n       12\n",
      "\\n01/07/19\\n       11\n",
      "\\n28/06/19\\n       10\n",
      "\\n19/08/19\\n        7\n",
      "\\n10/09/19\\n        6\n",
      "\\n26/06/19\\n        5\n",
      "\\n27/06/19\\n        5\n",
      "\\n10/11/19\\n        5\n",
      "\\n08/07/19\\n        4\n",
      "\\n15/07/19\\n        3\n",
      "\\n25/10/19\\n        3\n",
      "\\n01/08/19\\n        3\n",
      "\\n04/07/19\\n        2\n",
      "\\n05/08/19\\n        2\n",
      "\\n24/08/19\\n        2\n",
      "\\n16/07/19\\n        2\n",
      "\\n20/07/19\\n        2\n",
      "\\n05/07/19\\n        2\n",
      "\\n30/06/19\\n        2\n",
      "\\n30/09/19\\n        1\n",
      "\\n31/10/19\\n        1\n",
      "\\n27/07/19\\n        1\n",
      "\\n02/07/19\\n        1\n",
      "\\n10/07/19\\n        1\n",
      "\\n19/07/19\\n        1\n",
      "\\n24/07/19\\n        1\n",
      "\\n29/07/19\\n        1\n",
      "\\n29/09/19\\n        1\n",
      "\\n18/08/19\\n        1\n",
      "\\n14/09/19\\n        1\n",
      "\\n18/07/19\\n        1\n",
      "\\n16/08/19\\n        1\n",
      "\\n24/09/19\\n        1\n",
      "\\n17/08/19\\n        1\n",
      "\\n10/10/19\\n        1\n",
      "\\n06/12/19\\n        1\n",
      "\\n03/12/19\\n        1\n",
      "\\n05/12/19\\n        1\n",
      "\\n11/08/19\\n        1\n",
      "\\n10/12/19\\n        1\n",
      "\\n01/09/19\\n        1\n",
      "\\n03/08/19\\n        1\n",
      "Name: available_from, dtype: int64\n",
      "----------------------------------------\n"
     ]
    }
   ],
   "source": [
    "for col in object_col:\n",
    "    print(col)\n",
    "    print(\"--\"*8)\n",
    "    print(df[col].value_counts(dropna=False))\n",
    "    print(\"--\"*20)\n"
   ]
  },
  {
   "cell_type": "markdown",
   "metadata": {},
   "source": [
    "I used a 'for loop' to get the information of whether unacceptable values in the dataset "
   ]
  },
  {
   "cell_type": "markdown",
   "metadata": {},
   "source": [
    "Checking if the dataset has any Question Mark:"
   ]
  },
  {
   "cell_type": "code",
   "execution_count": 88,
   "metadata": {},
   "outputs": [
    {
     "data": {
      "text/plain": [
       "url                              False\n",
       "make_model                       False\n",
       "short_description                False\n",
       "body_type                        False\n",
       "price                            False\n",
       "vat                              False\n",
       "km                               False\n",
       "registration                     False\n",
       "prev_owner                       False\n",
       "kW                               False\n",
       "hp                               False\n",
       "Type                             False\n",
       "previous_owners                  False\n",
       "next_inspection                  False\n",
       "inspection_new                   False\n",
       "warranty                         False\n",
       "full_service                     False\n",
       "non_smoking_vehicle              False\n",
       "null                             False\n",
       "make                             False\n",
       "model                            False\n",
       "offer_number                     False\n",
       "first_registration               False\n",
       "body_color                       False\n",
       "paint_type                       False\n",
       "body_color_original              False\n",
       "upholstery                       False\n",
       "body                             False\n",
       "num_of_doors                     False\n",
       "num_of_seats                     False\n",
       "model_code                       False\n",
       "gearing_type                     False\n",
       "displacement                     False\n",
       "cylinders                        False\n",
       "weight                           False\n",
       "drive_chain                      False\n",
       "fuel                             False\n",
       "consumption                      False\n",
       "co2_emission                     False\n",
       "emission_class                   False\n",
       "comfort_convenience              False\n",
       "entertainment_media              False\n",
       "extras                           False\n",
       "safety_security                  False\n",
       "description                      False\n",
       "emission_label                   False\n",
       "gears                            False\n",
       "country_version                  False\n",
       "electricity_consumption          False\n",
       "last_service_date                False\n",
       "other_fuel_types                 False\n",
       "availability                     False\n",
       "last_timing_belt_service_date    False\n",
       "available_from                   False\n",
       "dtype: bool"
      ]
     },
     "execution_count": 88,
     "metadata": {},
     "output_type": "execute_result"
    }
   ],
   "source": [
    "df[df.isin(['?'])].any()\n"
   ]
  },
  {
   "cell_type": "code",
   "execution_count": 89,
   "metadata": {},
   "outputs": [
    {
     "data": {
      "text/plain": [
       "0"
      ]
     },
     "execution_count": 89,
     "metadata": {},
     "output_type": "execute_result"
    }
   ],
   "source": [
    "df[df.isin(['?'])].any().sum()"
   ]
  },
  {
   "cell_type": "markdown",
   "metadata": {},
   "source": [
    "# Univariate and Multivariate Analysis"
   ]
  },
  {
   "cell_type": "markdown",
   "metadata": {},
   "source": [
    "### Examining all features (first target feature(\"price\") then the others) separetly from different aspects according to target feature."
   ]
  },
  {
   "cell_type": "markdown",
   "metadata": {},
   "source": [
    "### price column: This column is our target feature."
   ]
  },
  {
   "cell_type": "code",
   "execution_count": 90,
   "metadata": {},
   "outputs": [
    {
     "data": {
      "text/plain": [
       "14990    154\n",
       "15990    151\n",
       "10990    139\n",
       "15900    106\n",
       "17990    102\n",
       "        ... \n",
       "17559      1\n",
       "17560      1\n",
       "17570      1\n",
       "17575      1\n",
       "39875      1\n",
       "Name: price, Length: 2956, dtype: int64"
      ]
     },
     "execution_count": 90,
     "metadata": {},
     "output_type": "execute_result"
    }
   ],
   "source": [
    "df.price.value_counts(dropna=False)"
   ]
  },
  {
   "cell_type": "code",
   "execution_count": 91,
   "metadata": {},
   "outputs": [
    {
     "data": {
      "text/plain": [
       "0"
      ]
     },
     "execution_count": 91,
     "metadata": {},
     "output_type": "execute_result"
    }
   ],
   "source": [
    "df.price.isnull().sum() # looking if there is null values in our target feature."
   ]
  },
  {
   "cell_type": "code",
   "execution_count": 92,
   "metadata": {},
   "outputs": [
    {
     "data": {
      "image/png": "[encoded data removed]",
      "text/plain": [
       "<Figure size 864x576 with 1 Axes>"
      ]
     },
     "metadata": {
      "needs_background": "light"
     },
     "output_type": "display_data"
    }
   ],
   "source": [
    "#checking the boxplot to see extreme values\n",
    "\n",
    "plt.figure(figsize=(12, 8))\n",
    "sns.boxplot(data=df, x='price')\n",
    "plt.show()"
   ]
  },
  {
   "cell_type": "code",
   "execution_count": 93,
   "metadata": {},
   "outputs": [
    {
     "data": {
      "text/plain": [
       "count    15919.000000\n",
       "mean     18019.896727\n",
       "std       7386.169409\n",
       "min         13.000000\n",
       "25%      12850.000000\n",
       "50%      16900.000000\n",
       "75%      21900.000000\n",
       "max      74600.000000\n",
       "Name: price, dtype: float64"
      ]
     },
     "execution_count": 93,
     "metadata": {},
     "output_type": "execute_result"
    }
   ],
   "source": [
    "df.price.describe()"
   ]
  },
  {
   "cell_type": "markdown",
   "metadata": {},
   "source": [
    "mean is a little bit bigger than median (50%), it means, it is a little bit right skewed. We can see that also with histplot."
   ]
  },
  {
   "cell_type": "code",
   "execution_count": 94,
   "metadata": {},
   "outputs": [
    {
     "data": {
      "image/png": "[encoded data removed]",
      "text/plain": [
       "<Figure size 936x576 with 1 Axes>"
      ]
     },
     "metadata": {
      "needs_background": "light"
     },
     "output_type": "display_data"
    }
   ],
   "source": [
    "# Checking the histplot/kdeplot to see distribution of feature\n",
    "\n",
    "plt.figure(figsize=(13, 8))\n",
    "sns.histplot(data=df, x='price', bins=20, kde=True)\n",
    "plt.show()"
   ]
  },
  {
   "cell_type": "code",
   "execution_count": null,
   "metadata": {},
   "outputs": [],
   "source": []
  },
  {
   "cell_type": "code",
   "execution_count": null,
   "metadata": {},
   "outputs": [],
   "source": []
  },
  {
   "cell_type": "markdown",
   "metadata": {},
   "source": [
    "### url column:"
   ]
  },
  {
   "cell_type": "code",
   "execution_count": 95,
   "metadata": {},
   "outputs": [
    {
     "data": {
      "text/plain": [
       "https://www.autoscout24.com//offers/audi-a1-sportback-1-4-tdi-s-tronic-xenon-navi-klima-diesel-black-bdab349a-caa5-41b0-98eb-c1345b84445e                  1\n",
       "https://www.autoscout24.com//offers/opel-insignia-bus-inno-2-0-cdti-aut-navi-bi-xe-led-e6-diesel-black-8710b253-dd98-4ed0-9d46-cbad2d79532b                1\n",
       "https://www.autoscout24.com//offers/opel-insignia-sport-tourer-opel-sport-tourer-1-6-cdti-136-ch-a-c-diesel-silver-10b7463b-9f56-4348-af35-df3432b2b585    1\n",
       "https://www.autoscout24.com//offers/opel-insignia-2-0cdti-st-business-innovation-navi-bt-diesel-black-ba5a3368-dedc-4e51-9127-3976b26e93c2                 1\n",
       "https://www.autoscout24.com//offers/opel-insignia-sport-tourer-opel-sport-tourer-1-6-cdti-136-ch-a-c-diesel-silver-7b52f054-78d3-4d5e-9370-8a7d081d7edd    1\n",
       "                                                                                                                                                          ..\n",
       "https://www.autoscout24.com//offers/audi-a3-sb-30-1-6-tdi-business-116cv-s-tronic-diesel-black-cf50f7b1-4d7b-466f-93a2-4e11ec0b4107                        1\n",
       "https://www.autoscout24.com//offers/audi-a3-sb-30-1-6-tdi-business-116cv-s-tronic-diesel-grey-3f47eb34-15c4-4763-860d-78fcbbd2c9ff                         1\n",
       "https://www.autoscout24.com//offers/audi-a3-sb-30-1-6-tdi-business-116cv-s-tronic-diesel-silver-f7a4bc95-b2ef-4bac-9497-6bcbcd05db0b                       1\n",
       "https://www.autoscout24.com//offers/audi-a3-sb-30-1-6-tdi-business-116cv-s-tronic-diesel-silver-1c94c7a2-67b5-49ca-ae42-42a6800fb3f5                       1\n",
       "https://www.autoscout24.com//offers/renault-espace-initiale-paris-tce-225-edc-gpf-navi-shz-aux-gasoline-grey-0bd690d9-7e93-4cab-bc5a-9d5b63402481          1\n",
       "Name: url, Length: 15919, dtype: int64"
      ]
     },
     "execution_count": 95,
     "metadata": {},
     "output_type": "execute_result"
    }
   ],
   "source": [
    "df.url.value_counts()"
   ]
  },
  {
   "cell_type": "markdown",
   "metadata": {},
   "source": [
    "Each line contains a different internet address. This column can be dropped because it has no significant relationship with the target feature, price."
   ]
  },
  {
   "cell_type": "code",
   "execution_count": 96,
   "metadata": {},
   "outputs": [],
   "source": [
    "df.drop(\"url\", axis=1, inplace=True)"
   ]
  },
  {
   "cell_type": "markdown",
   "metadata": {},
   "source": [
    "### make_model:"
   ]
  },
  {
   "cell_type": "code",
   "execution_count": 97,
   "metadata": {},
   "outputs": [
    {
     "data": {
      "text/plain": [
       "Audi A3           3097\n",
       "Audi A1           2614\n",
       "Opel Insignia     2598\n",
       "Opel Astra        2526\n",
       "Opel Corsa        2219\n",
       "Renault Clio      1839\n",
       "Renault Espace     991\n",
       "Renault Duster      34\n",
       "Audi A2              1\n",
       "Name: make_model, dtype: int64"
      ]
     },
     "execution_count": 97,
     "metadata": {},
     "output_type": "execute_result"
    }
   ],
   "source": [
    "df.make_model.value_counts(dropna=False)"
   ]
  },
  {
   "cell_type": "markdown",
   "metadata": {},
   "source": [
    "The most data belongs to the A3 model of the Audi brand."
   ]
  },
  {
   "cell_type": "code",
   "execution_count": 98,
   "metadata": {},
   "outputs": [
    {
     "data": {
      "text/plain": [
       "count       15919\n",
       "unique          9\n",
       "top       Audi A3\n",
       "freq         3097\n",
       "Name: make_model, dtype: object"
      ]
     },
     "execution_count": 98,
     "metadata": {},
     "output_type": "execute_result"
    }
   ],
   "source": [
    "df.make_model.describe()"
   ]
  },
  {
   "cell_type": "markdown",
   "metadata": {},
   "source": [
    "There is 9 unique values in this column."
   ]
  },
  {
   "cell_type": "code",
   "execution_count": 99,
   "metadata": {},
   "outputs": [
    {
     "data": {
      "text/plain": [
       "array(['Audi A1', 'Audi A2', 'Audi A3', 'Opel Astra', 'Opel Corsa',\n",
       "       'Opel Insignia', 'Renault Clio', 'Renault Duster',\n",
       "       'Renault Espace'], dtype=object)"
      ]
     },
     "execution_count": 99,
     "metadata": {},
     "output_type": "execute_result"
    }
   ],
   "source": [
    "df.make_model.unique()"
   ]
  },
  {
   "cell_type": "code",
   "execution_count": 100,
   "metadata": {},
   "outputs": [
    {
     "data": {
      "text/plain": [
       "9"
      ]
     },
     "execution_count": 100,
     "metadata": {},
     "output_type": "execute_result"
    }
   ],
   "source": [
    "df.make_model.nunique()"
   ]
  },
  {
   "cell_type": "code",
   "execution_count": 101,
   "metadata": {},
   "outputs": [
    {
     "data": {
      "text/plain": [
       "0"
      ]
     },
     "execution_count": 101,
     "metadata": {},
     "output_type": "execute_result"
    }
   ],
   "source": [
    "df.make_model.isnull().sum()"
   ]
  },
  {
   "cell_type": "markdown",
   "metadata": {},
   "source": [
    "### model column:"
   ]
  },
  {
   "cell_type": "code",
   "execution_count": 102,
   "metadata": {},
   "outputs": [
    {
     "data": {
      "text/plain": [
       "[\\n, A3, \\n]          3097\n",
       "[\\n, A1, \\n]          2614\n",
       "[\\n, Insignia, \\n]    2598\n",
       "[\\n, Astra, \\n]       2526\n",
       "[\\n, Corsa, \\n]       2219\n",
       "[\\n, Clio, \\n]        1839\n",
       "[\\n, Espace, \\n]       991\n",
       "[\\n, Duster, \\n]        34\n",
       "[\\n, A2, \\n]             1\n",
       "Name: model, dtype: int64"
      ]
     },
     "execution_count": 102,
     "metadata": {},
     "output_type": "execute_result"
    }
   ],
   "source": [
    "df.model.value_counts(dropna=False)"
   ]
  },
  {
   "cell_type": "markdown",
   "metadata": {},
   "source": [
    "Each line contains unwanted characters. We can get the information we want with the string function"
   ]
  },
  {
   "cell_type": "code",
   "execution_count": 103,
   "metadata": {},
   "outputs": [
    {
     "data": {
      "text/plain": [
       "A3          3097\n",
       "A1          2614\n",
       "Insignia    2598\n",
       "Astra       2526\n",
       "Corsa       2219\n",
       "Clio        1839\n",
       "Espace       991\n",
       "Duster        34\n",
       "A2             1\n",
       "Name: model, dtype: int64"
      ]
     },
     "execution_count": 103,
     "metadata": {},
     "output_type": "execute_result"
    }
   ],
   "source": [
    "df.model.str[1].value_counts()"
   ]
  },
  {
   "cell_type": "markdown",
   "metadata": {},
   "source": [
    "It can be seen that model feature is exactly same with make_model feature. This column can be dropped."
   ]
  },
  {
   "cell_type": "code",
   "execution_count": 104,
   "metadata": {},
   "outputs": [],
   "source": [
    "df.drop('model', axis=1, inplace=True)"
   ]
  },
  {
   "cell_type": "markdown",
   "metadata": {},
   "source": [
    "### make column:"
   ]
  },
  {
   "cell_type": "code",
   "execution_count": 105,
   "metadata": {},
   "outputs": [
    {
     "data": {
      "text/plain": [
       "\\nOpel\\n       7343\n",
       "\\nAudi\\n       5712\n",
       "\\nRenault\\n    2864\n",
       "Name: make, dtype: int64"
      ]
     },
     "execution_count": 105,
     "metadata": {},
     "output_type": "execute_result"
    }
   ],
   "source": [
    "df.make.value_counts(dropna=False)"
   ]
  },
  {
   "cell_type": "code",
   "execution_count": 106,
   "metadata": {},
   "outputs": [],
   "source": [
    "df['make'] = df.make.str.strip('\\n')\n",
    "# i fixed the name of values by using string function"
   ]
  },
  {
   "cell_type": "code",
   "execution_count": 107,
   "metadata": {},
   "outputs": [
    {
     "data": {
      "text/plain": [
       "Opel       7343\n",
       "Audi       5712\n",
       "Renault    2864\n",
       "Name: make, dtype: int64"
      ]
     },
     "execution_count": 107,
     "metadata": {},
     "output_type": "execute_result"
    }
   ],
   "source": [
    "df.make.value_counts()"
   ]
  },
  {
   "cell_type": "markdown",
   "metadata": {},
   "source": [
    "The make_model column gives more detailed information. This column can be dropped."
   ]
  },
  {
   "cell_type": "code",
   "execution_count": 108,
   "metadata": {},
   "outputs": [],
   "source": [
    "df.drop('make', axis=1, inplace=True)"
   ]
  },
  {
   "cell_type": "markdown",
   "metadata": {},
   "source": [
    "### short_description column:"
   ]
  },
  {
   "cell_type": "code",
   "execution_count": 109,
   "metadata": {},
   "outputs": [
    {
     "data": {
      "text/plain": [
       "SPB 1.6 TDI 116 CV S tronic Sport                 64\n",
       "None                                              46\n",
       "1.4 66kW (90CV) Selective                         40\n",
       "MOVE KLIMA CD USB ALLWETTER BLUETOOTH             38\n",
       "SPB 30 TDI S tronic Business                      35\n",
       "                                                  ..\n",
       "K Sports Tourer Business **Navi*Voll**             1\n",
       "1.0 Turbo ecoFLEX Automatic Elective Park Navi     1\n",
       "1.6 CDTI Business *Navi*Automatik*Spurh.*          1\n",
       "1.6 136 CV Automatica Navi E 6 Garanzia Full       1\n",
       "TCe 225 EDC GPF LIM Deluxe Pano,RFK                1\n",
       "Name: short_description, Length: 10002, dtype: int64"
      ]
     },
     "execution_count": 109,
     "metadata": {},
     "output_type": "execute_result"
    }
   ],
   "source": [
    "df.short_description.value_counts(dropna=False)"
   ]
  },
  {
   "cell_type": "markdown",
   "metadata": {},
   "source": [
    "A column with too many different values, it can be dropped."
   ]
  },
  {
   "cell_type": "code",
   "execution_count": 110,
   "metadata": {},
   "outputs": [
    {
     "data": {
      "text/plain": [
       "count                                 15873\n",
       "unique                                10001\n",
       "top       SPB 1.6 TDI 116 CV S tronic Sport\n",
       "freq                                     64\n",
       "Name: short_description, dtype: object"
      ]
     },
     "execution_count": 110,
     "metadata": {},
     "output_type": "execute_result"
    }
   ],
   "source": [
    "df.short_description.describe()"
   ]
  },
  {
   "cell_type": "code",
   "execution_count": 111,
   "metadata": {},
   "outputs": [],
   "source": [
    "df.drop('short_description', axis=1, inplace=True)\n"
   ]
  },
  {
   "cell_type": "markdown",
   "metadata": {},
   "source": [
    "### body_type column:"
   ]
  },
  {
   "cell_type": "code",
   "execution_count": 112,
   "metadata": {},
   "outputs": [
    {
     "data": {
      "text/plain": [
       "Sedans           7903\n",
       "Station wagon    3553\n",
       "Compact          3153\n",
       "Van               783\n",
       "Other             290\n",
       "Transporter        88\n",
       "None               60\n",
       "Off-Road           56\n",
       "Coupe              25\n",
       "Convertible         8\n",
       "Name: body_type, dtype: int64"
      ]
     },
     "execution_count": 112,
     "metadata": {},
     "output_type": "execute_result"
    }
   ],
   "source": [
    "df.body_type.value_counts(dropna=False)"
   ]
  },
  {
   "cell_type": "code",
   "execution_count": 113,
   "metadata": {},
   "outputs": [
    {
     "data": {
      "text/plain": [
       "count      15859\n",
       "unique         9\n",
       "top       Sedans\n",
       "freq        7903\n",
       "Name: body_type, dtype: object"
      ]
     },
     "execution_count": 113,
     "metadata": {},
     "output_type": "execute_result"
    }
   ],
   "source": [
    "df.body_type.describe()"
   ]
  },
  {
   "cell_type": "code",
   "execution_count": 114,
   "metadata": {},
   "outputs": [
    {
     "data": {
      "text/plain": [
       "60"
      ]
     },
     "execution_count": 114,
     "metadata": {},
     "output_type": "execute_result"
    }
   ],
   "source": [
    "df.body_type.isnull().sum()\n"
   ]
  },
  {
   "cell_type": "code",
   "execution_count": 115,
   "metadata": {},
   "outputs": [
    {
     "data": {
      "text/plain": [
       "0.37690809724228913"
      ]
     },
     "execution_count": 115,
     "metadata": {},
     "output_type": "execute_result"
    }
   ],
   "source": [
    "df.body_type.isnull().sum()/df.shape[0]*100"
   ]
  },
  {
   "cell_type": "markdown",
   "metadata": {},
   "source": [
    "### body column:"
   ]
  },
  {
   "cell_type": "code",
   "execution_count": 116,
   "metadata": {},
   "outputs": [
    {
     "data": {
      "text/plain": [
       "[\\n, Sedans, \\n]           7903\n",
       "[\\n, Station wagon, \\n]    3553\n",
       "[\\n, Compact, \\n]          3153\n",
       "[\\n, Van, \\n]               783\n",
       "[\\n, Other, \\n]             290\n",
       "[\\n, Transporter, \\n]        88\n",
       "NaN                          60\n",
       "[\\n, Off-Road, \\n]           56\n",
       "[\\n, Coupe, \\n]              25\n",
       "[\\n, Convertible, \\n]         8\n",
       "Name: body, dtype: int64"
      ]
     },
     "execution_count": 116,
     "metadata": {},
     "output_type": "execute_result"
    }
   ],
   "source": [
    "df.body.value_counts(dropna=False)\n"
   ]
  },
  {
   "cell_type": "code",
   "execution_count": 117,
   "metadata": {},
   "outputs": [
    {
     "data": {
      "text/plain": [
       "Sedans           7903\n",
       "Station wagon    3553\n",
       "Compact          3153\n",
       "Van               783\n",
       "Other             290\n",
       "Transporter        88\n",
       "Off-Road           56\n",
       "Coupe              25\n",
       "Convertible         8\n",
       "Name: body, dtype: int64"
      ]
     },
     "execution_count": 117,
     "metadata": {},
     "output_type": "execute_result"
    }
   ],
   "source": [
    "df.body.str[1].value_counts()\n"
   ]
  },
  {
   "cell_type": "markdown",
   "metadata": {},
   "source": [
    "This column is same with the body_type column. It can be dropped."
   ]
  },
  {
   "cell_type": "code",
   "execution_count": 118,
   "metadata": {},
   "outputs": [],
   "source": [
    "df.drop('body', axis=1, inplace=True)"
   ]
  },
  {
   "cell_type": "markdown",
   "metadata": {},
   "source": [
    "### vat column: vat means The Value Added Tax"
   ]
  },
  {
   "cell_type": "code",
   "execution_count": 119,
   "metadata": {},
   "outputs": [
    {
     "data": {
      "text/plain": [
       "VAT deductible      10980\n",
       "None                 4513\n",
       "Price negotiable      426\n",
       "Name: vat, dtype: int64"
      ]
     },
     "execution_count": 119,
     "metadata": {},
     "output_type": "execute_result"
    }
   ],
   "source": [
    "df.vat.value_counts(dropna=False)"
   ]
  },
  {
   "cell_type": "code",
   "execution_count": 120,
   "metadata": {},
   "outputs": [
    {
     "data": {
      "text/plain": [
       "28.349770714240847"
      ]
     },
     "execution_count": 120,
     "metadata": {},
     "output_type": "execute_result"
    }
   ],
   "source": [
    "df.vat.isnull().sum()/df.shape[0]*100\n"
   ]
  },
  {
   "cell_type": "markdown",
   "metadata": {},
   "source": [
    "### km column:"
   ]
  },
  {
   "cell_type": "code",
   "execution_count": 121,
   "metadata": {},
   "outputs": [
    {
     "data": {
      "text/plain": [
       "10 km        1045\n",
       "- km         1024\n",
       "1 km          367\n",
       "5 km          170\n",
       "50 km         148\n",
       "             ... \n",
       "67,469 km       1\n",
       "43,197 km       1\n",
       "10,027 km       1\n",
       "35,882 km       1\n",
       "57 km           1\n",
       "Name: km, Length: 6690, dtype: int64"
      ]
     },
     "execution_count": 121,
     "metadata": {},
     "output_type": "execute_result"
    }
   ],
   "source": [
    "df.km.value_counts(dropna=False)"
   ]
  },
  {
   "cell_type": "markdown",
   "metadata": {},
   "source": [
    "This column has string values"
   ]
  },
  {
   "cell_type": "code",
   "execution_count": 122,
   "metadata": {},
   "outputs": [
    {
     "data": {
      "text/plain": [
       "99,875 km     1\n",
       "99,900 km     1\n",
       "99,950 km    11\n",
       "99,980 km     1\n",
       "99,990 km     3\n",
       "99,999 km     1\n",
       "990 km        2\n",
       "991 km        1\n",
       "995 km        1\n",
       "999 km        3\n",
       "Name: km, dtype: int64"
      ]
     },
     "execution_count": 122,
     "metadata": {},
     "output_type": "execute_result"
    }
   ],
   "source": [
    "df.km.value_counts(dropna=False).sort_index().tail(10)\n"
   ]
  },
  {
   "cell_type": "code",
   "execution_count": 123,
   "metadata": {},
   "outputs": [],
   "source": [
    "df['km'] = df.km.str.replace(',','').str.extract('(\\d{1,8})')\n",
    "# to remove comma, i applied string.replace function"
   ]
  },
  {
   "cell_type": "code",
   "execution_count": 124,
   "metadata": {},
   "outputs": [
    {
     "data": {
      "text/plain": [
       "0        56013.0\n",
       "1        80000.0\n",
       "2        83450.0\n",
       "3        73000.0\n",
       "4        16200.0\n",
       "          ...   \n",
       "15914        NaN\n",
       "15915     9900.0\n",
       "15916       15.0\n",
       "15917       10.0\n",
       "15918        NaN\n",
       "Name: km, Length: 15919, dtype: float64"
      ]
     },
     "execution_count": 124,
     "metadata": {},
     "output_type": "execute_result"
    }
   ],
   "source": [
    "df.km.astype('float')"
   ]
  },
  {
   "cell_type": "code",
   "execution_count": 125,
   "metadata": {},
   "outputs": [],
   "source": [
    "df['km'] = df.km.astype('float')\n"
   ]
  },
  {
   "cell_type": "code",
   "execution_count": 126,
   "metadata": {},
   "outputs": [
    {
     "data": {
      "text/plain": [
       "10.0       1045\n",
       "NaN        1024\n",
       "1.0         367\n",
       "5.0         170\n",
       "50.0        148\n",
       "           ... \n",
       "67469.0       1\n",
       "43197.0       1\n",
       "10027.0       1\n",
       "35882.0       1\n",
       "57.0          1\n",
       "Name: km, Length: 6690, dtype: int64"
      ]
     },
     "execution_count": 126,
     "metadata": {},
     "output_type": "execute_result"
    }
   ],
   "source": [
    "df.km.value_counts(dropna=False)"
   ]
  },
  {
   "cell_type": "code",
   "execution_count": 127,
   "metadata": {},
   "outputs": [
    {
     "data": {
      "text/plain": [
       "6.432564859601733"
      ]
     },
     "execution_count": 127,
     "metadata": {},
     "output_type": "execute_result"
    }
   ],
   "source": [
    "df.km.isnull().sum()/df.shape[0]*100"
   ]
  },
  {
   "cell_type": "markdown",
   "metadata": {},
   "source": [
    "### registration column:"
   ]
  },
  {
   "cell_type": "code",
   "execution_count": 128,
   "metadata": {},
   "outputs": [
    {
     "data": {
      "text/plain": [
       "-/-        1597\n",
       "03/2018     695\n",
       "02/2019     585\n",
       "05/2018     572\n",
       "03/2019     543\n",
       "01/2019     541\n",
       "04/2018     541\n",
       "02/2018     539\n",
       "03/2016     536\n",
       "04/2016     532\n",
       "06/2018     532\n",
       "01/2018     511\n",
       "04/2019     506\n",
       "02/2016     472\n",
       "03/2017     471\n",
       "05/2016     459\n",
       "06/2016     452\n",
       "05/2019     440\n",
       "06/2017     409\n",
       "05/2017     404\n",
       "07/2018     396\n",
       "04/2017     380\n",
       "01/2016     376\n",
       "02/2017     368\n",
       "01/2017     306\n",
       "08/2018     285\n",
       "06/2019     224\n",
       "07/2017     215\n",
       "11/2017     180\n",
       "07/2016     176\n",
       "10/2016     160\n",
       "10/2017     154\n",
       "09/2017     149\n",
       "11/2016     142\n",
       "09/2018     141\n",
       "09/2016     141\n",
       "12/2016     134\n",
       "12/2017     123\n",
       "08/2017     114\n",
       "11/2018     110\n",
       "12/2018     103\n",
       "10/2018      97\n",
       "08/2016      94\n",
       "07/2019       6\n",
       "09/2019       5\n",
       "08/2019       1\n",
       "11/2019       1\n",
       "12/2019       1\n",
       "Name: registration, dtype: int64"
      ]
     },
     "execution_count": 128,
     "metadata": {},
     "output_type": "execute_result"
    }
   ],
   "source": [
    "df.registration.value_counts(dropna=False)"
   ]
  },
  {
   "cell_type": "markdown",
   "metadata": {},
   "source": [
    "### There is also a column that named first_registration. I am checking whether they are same or not:"
   ]
  },
  {
   "cell_type": "code",
   "execution_count": 129,
   "metadata": {},
   "outputs": [
    {
     "data": {
      "text/plain": [
       "[\\n, 2018, \\n]    4522\n",
       "[\\n, 2016, \\n]    3674\n",
       "[\\n, 2017, \\n]    3273\n",
       "[\\n, 2019, \\n]    2853\n",
       "NaN               1597\n",
       "Name: first_registration, dtype: int64"
      ]
     },
     "execution_count": 129,
     "metadata": {},
     "output_type": "execute_result"
    }
   ],
   "source": [
    "df.first_registration.value_counts(dropna=False)"
   ]
  },
  {
   "cell_type": "code",
   "execution_count": 130,
   "metadata": {},
   "outputs": [
    {
     "data": {
      "text/plain": [
       "2018    4522\n",
       "2016    3674\n",
       "2017    3273\n",
       "2019    2853\n",
       "NaN     1597\n",
       "Name: first_registration, dtype: int64"
      ]
     },
     "execution_count": 130,
     "metadata": {},
     "output_type": "execute_result"
    }
   ],
   "source": [
    "df.first_registration.str[1].value_counts(dropna=False)\n"
   ]
  },
  {
   "cell_type": "code",
   "execution_count": 131,
   "metadata": {},
   "outputs": [],
   "source": [
    "df['first_registration'] = df.first_registration.str[1]"
   ]
  },
  {
   "cell_type": "code",
   "execution_count": 132,
   "metadata": {},
   "outputs": [
    {
     "data": {
      "text/plain": [
       "2018    4522\n",
       "2016    3674\n",
       "2017    3273\n",
       "2019    2853\n",
       "NaN     1597\n",
       "Name: first_registration, dtype: int64"
      ]
     },
     "execution_count": 132,
     "metadata": {},
     "output_type": "execute_result"
    }
   ],
   "source": [
    "df.first_registration.value_counts(dropna=False)"
   ]
  },
  {
   "cell_type": "code",
   "execution_count": 133,
   "metadata": {},
   "outputs": [
    {
     "data": {
      "text/plain": [
       "registration  first_registration\n",
       "-/-           NaN                   1597\n",
       "03/2018       2018                   695\n",
       "02/2019       2019                   585\n",
       "05/2018       2018                   572\n",
       "03/2019       2019                   543\n",
       "01/2019       2019                   541\n",
       "04/2018       2018                   541\n",
       "02/2018       2018                   539\n",
       "03/2016       2016                   536\n",
       "06/2018       2018                   532\n",
       "04/2016       2016                   532\n",
       "01/2018       2018                   511\n",
       "04/2019       2019                   506\n",
       "02/2016       2016                   472\n",
       "03/2017       2017                   471\n",
       "05/2016       2016                   459\n",
       "06/2016       2016                   452\n",
       "05/2019       2019                   440\n",
       "06/2017       2017                   409\n",
       "05/2017       2017                   404\n",
       "07/2018       2018                   396\n",
       "04/2017       2017                   380\n",
       "01/2016       2016                   376\n",
       "02/2017       2017                   368\n",
       "01/2017       2017                   306\n",
       "08/2018       2018                   285\n",
       "06/2019       2019                   224\n",
       "07/2017       2017                   215\n",
       "11/2017       2017                   180\n",
       "07/2016       2016                   176\n",
       "10/2016       2016                   160\n",
       "10/2017       2017                   154\n",
       "09/2017       2017                   149\n",
       "11/2016       2016                   142\n",
       "09/2016       2016                   141\n",
       "09/2018       2018                   141\n",
       "12/2016       2016                   134\n",
       "12/2017       2017                   123\n",
       "08/2017       2017                   114\n",
       "11/2018       2018                   110\n",
       "12/2018       2018                   103\n",
       "10/2018       2018                    97\n",
       "08/2016       2016                    94\n",
       "07/2019       2019                     6\n",
       "09/2019       2019                     5\n",
       "11/2019       2019                     1\n",
       "08/2019       2019                     1\n",
       "12/2019       2019                     1\n",
       "dtype: int64"
      ]
     },
     "execution_count": 133,
     "metadata": {},
     "output_type": "execute_result"
    }
   ],
   "source": [
    "df[['registration', 'first_registration']].value_counts(dropna=False)"
   ]
  },
  {
   "cell_type": "markdown",
   "metadata": {},
   "source": [
    "There is no data after 2019, I have to calculate the age of the cars according to 2019. But first i should change the data type of column. It is originally 'object' data type."
   ]
  },
  {
   "cell_type": "code",
   "execution_count": 134,
   "metadata": {},
   "outputs": [
    {
     "data": {
      "text/plain": [
       "0        2016.0\n",
       "1        2017.0\n",
       "2        2016.0\n",
       "3        2016.0\n",
       "4        2016.0\n",
       "          ...  \n",
       "15914       NaN\n",
       "15915    2019.0\n",
       "15916    2019.0\n",
       "15917    2019.0\n",
       "15918    2019.0\n",
       "Name: first_registration, Length: 15919, dtype: float64"
      ]
     },
     "execution_count": 134,
     "metadata": {},
     "output_type": "execute_result"
    }
   ],
   "source": [
    "df['first_registration'] = df.first_registration.astype('float')\n",
    "df.first_registration"
   ]
  },
  {
   "cell_type": "code",
   "execution_count": 135,
   "metadata": {},
   "outputs": [],
   "source": [
    "df ['age'] = 2019 - df.first_registration"
   ]
  },
  {
   "cell_type": "code",
   "execution_count": 136,
   "metadata": {},
   "outputs": [
    {
     "data": {
      "text/plain": [
       "0        3.0\n",
       "1        2.0\n",
       "2        3.0\n",
       "3        3.0\n",
       "4        3.0\n",
       "        ... \n",
       "15914    NaN\n",
       "15915    0.0\n",
       "15916    0.0\n",
       "15917    0.0\n",
       "15918    0.0\n",
       "Name: age, Length: 15919, dtype: float64"
      ]
     },
     "execution_count": 136,
     "metadata": {},
     "output_type": "execute_result"
    }
   ],
   "source": [
    "df.age"
   ]
  },
  {
   "cell_type": "code",
   "execution_count": 137,
   "metadata": {},
   "outputs": [
    {
     "data": {
      "text/plain": [
       "1.0    4522\n",
       "3.0    3674\n",
       "2.0    3273\n",
       "0.0    2853\n",
       "NaN    1597\n",
       "Name: age, dtype: int64"
      ]
     },
     "execution_count": 137,
     "metadata": {},
     "output_type": "execute_result"
    }
   ],
   "source": [
    "df.age.value_counts(dropna=False)"
   ]
  },
  {
   "cell_type": "markdown",
   "metadata": {},
   "source": [
    "I do not need the registration and first_registration columns any more, they can be dropped."
   ]
  },
  {
   "cell_type": "code",
   "execution_count": 138,
   "metadata": {},
   "outputs": [],
   "source": [
    "df.drop(['registration', 'first_registration'], axis=1, inplace=True)"
   ]
  },
  {
   "cell_type": "markdown",
   "metadata": {},
   "source": [
    "### prev_owner column:"
   ]
  },
  {
   "cell_type": "code",
   "execution_count": 139,
   "metadata": {},
   "outputs": [
    {
     "data": {
      "text/plain": [
       "1 previous owner     8294\n",
       "None                 6828\n",
       "2 previous owners     778\n",
       "3 previous owners      17\n",
       "4 previous owners       2\n",
       "Name: prev_owner, dtype: int64"
      ]
     },
     "execution_count": 139,
     "metadata": {},
     "output_type": "execute_result"
    }
   ],
   "source": [
    "df.prev_owner.value_counts(dropna=False)"
   ]
  },
  {
   "cell_type": "code",
   "execution_count": 140,
   "metadata": {},
   "outputs": [
    {
     "data": {
      "text/plain": [
       "42.892141466172504"
      ]
     },
     "execution_count": 140,
     "metadata": {},
     "output_type": "execute_result"
    }
   ],
   "source": [
    "df.prev_owner.isnull().sum()/df.shape[0]*100"
   ]
  },
  {
   "cell_type": "markdown",
   "metadata": {},
   "source": [
    "### There is also a column that named previous_owners. I am checking whether they are same or not:"
   ]
  },
  {
   "cell_type": "code",
   "execution_count": 141,
   "metadata": {},
   "outputs": [
    {
     "data": {
      "text/plain": [
       "\\n1\\n                                                                                        8101\n",
       "NaN                                                                                          6640\n",
       "\\n2\\n                                                                                         766\n",
       "\\n0\\n                                                                                         163\n",
       "\\n3\\n                                                                                          17\n",
       "                                                                                             ... \n",
       "[\\n1\\n, \\n111 g CO2/km (comb)\\n]                                                                1\n",
       "[\\n1\\n, \\nEuro 6\\n]                                                                             1\n",
       "[\\n2\\n, \\n119 g CO2/km (comb)\\n]                                                                1\n",
       "[\\n1\\n, \\n, 6.6 l/100 km (comb), \\n, 8.1 l/100 km (city), \\n, 5.7 l/100 km (country), \\n]       1\n",
       "[\\n2\\n, \\n137 g CO2/km (comb)\\n]                                                                1\n",
       "Name: previous_owners, Length: 103, dtype: int64"
      ]
     },
     "execution_count": 141,
     "metadata": {},
     "output_type": "execute_result"
    }
   ],
   "source": [
    "df.previous_owners.value_counts(dropna=False)"
   ]
  },
  {
   "cell_type": "code",
   "execution_count": 142,
   "metadata": {},
   "outputs": [],
   "source": [
    "# i want the first values of lists, so:\n",
    "df['previous_owners'] = [item[0] if type(\n",
    "    item) == list else item for item in df[\"previous_owners\"]]\n"
   ]
  },
  {
   "cell_type": "code",
   "execution_count": 143,
   "metadata": {},
   "outputs": [
    {
     "data": {
      "text/plain": [
       "0        \\n2\\n\n",
       "1          NaN\n",
       "2        \\n1\\n\n",
       "3        \\n1\\n\n",
       "4        \\n1\\n\n",
       "         ...  \n",
       "15914      NaN\n",
       "15915    \\n1\\n\n",
       "15916    \\n1\\n\n",
       "15917      NaN\n",
       "15918    \\n1\\n\n",
       "Name: previous_owners, Length: 15919, dtype: object"
      ]
     },
     "execution_count": 143,
     "metadata": {},
     "output_type": "execute_result"
    }
   ],
   "source": [
    "df.previous_owners\n"
   ]
  },
  {
   "cell_type": "code",
   "execution_count": 144,
   "metadata": {},
   "outputs": [
    {
     "data": {
      "text/plain": [
       "0          2\n",
       "1        NaN\n",
       "2          1\n",
       "3          1\n",
       "4          1\n",
       "        ... \n",
       "15914    NaN\n",
       "15915      1\n",
       "15916      1\n",
       "15917    NaN\n",
       "15918      1\n",
       "Name: previous_owners, Length: 15919, dtype: object"
      ]
     },
     "execution_count": 144,
     "metadata": {},
     "output_type": "execute_result"
    }
   ],
   "source": [
    "# to remove \\n from the values, str.string function can be used:\n",
    "df.previous_owners.str.strip('\\n')"
   ]
  },
  {
   "cell_type": "code",
   "execution_count": 145,
   "metadata": {},
   "outputs": [],
   "source": [
    "df['previous_owners'] = df.previous_owners.str.strip('\\n').astype('float')\n",
    "# I'm converting the column's data type to float, this can help me in the analysis process"
   ]
  },
  {
   "cell_type": "code",
   "execution_count": 146,
   "metadata": {},
   "outputs": [
    {
     "data": {
      "text/plain": [
       "41.71116276147999"
      ]
     },
     "execution_count": 146,
     "metadata": {},
     "output_type": "execute_result"
    }
   ],
   "source": [
    "df.previous_owners.isnull().sum()/df.shape[0]*100"
   ]
  },
  {
   "cell_type": "code",
   "execution_count": 147,
   "metadata": {},
   "outputs": [
    {
     "data": {
      "text/plain": [
       "1.0    8294\n",
       "NaN    6640\n",
       "2.0     778\n",
       "0.0     188\n",
       "3.0      17\n",
       "4.0       2\n",
       "Name: previous_owners, dtype: int64"
      ]
     },
     "execution_count": 147,
     "metadata": {},
     "output_type": "execute_result"
    }
   ],
   "source": [
    "df.previous_owners.value_counts(dropna=False)\n"
   ]
  },
  {
   "cell_type": "code",
   "execution_count": 148,
   "metadata": {},
   "outputs": [
    {
     "data": {
      "text/plain": [
       "prev_owner         previous_owners\n",
       "1 previous owner   1.0                8294\n",
       "NaN                NaN                6640\n",
       "2 previous owners  2.0                 778\n",
       "NaN                0.0                 188\n",
       "3 previous owners  3.0                  17\n",
       "4 previous owners  4.0                   2\n",
       "dtype: int64"
      ]
     },
     "execution_count": 148,
     "metadata": {},
     "output_type": "execute_result"
    }
   ],
   "source": [
    "df[['prev_owner', 'previous_owners']].value_counts(dropna=False)\n"
   ]
  },
  {
   "cell_type": "code",
   "execution_count": 149,
   "metadata": {},
   "outputs": [
    {
     "data": {
      "text/plain": [
       "prev_owner         6828\n",
       "previous_owners    6640\n",
       "dtype: int64"
      ]
     },
     "execution_count": 149,
     "metadata": {},
     "output_type": "execute_result"
    }
   ],
   "source": [
    "df[['prev_owner', 'previous_owners']].isnull().sum()"
   ]
  },
  {
   "cell_type": "markdown",
   "metadata": {},
   "source": [
    "prev_owner and previous_owners columns look same but previous_owners has less NaN value. It is logical to use previous_owners column."
   ]
  },
  {
   "cell_type": "code",
   "execution_count": 150,
   "metadata": {},
   "outputs": [],
   "source": [
    "df.drop('prev_owner', axis=1, inplace=True)"
   ]
  },
  {
   "cell_type": "markdown",
   "metadata": {},
   "source": [
    "### kW column:"
   ]
  },
  {
   "cell_type": "code",
   "execution_count": 151,
   "metadata": {},
   "outputs": [
    {
     "data": {
      "text/plain": [
       "Series([], Name: kW, dtype: int64)"
      ]
     },
     "execution_count": 151,
     "metadata": {},
     "output_type": "execute_result"
    }
   ],
   "source": [
    "df.kW.value_counts()"
   ]
  },
  {
   "cell_type": "code",
   "execution_count": 152,
   "metadata": {},
   "outputs": [
    {
     "data": {
      "text/plain": [
       "15919"
      ]
     },
     "execution_count": 152,
     "metadata": {},
     "output_type": "execute_result"
    }
   ],
   "source": [
    "df.kW.isnull().sum()"
   ]
  },
  {
   "cell_type": "markdown",
   "metadata": {},
   "source": [
    "kW column consists of only null values, it can be dropped."
   ]
  },
  {
   "cell_type": "code",
   "execution_count": 153,
   "metadata": {},
   "outputs": [],
   "source": [
    "df.drop('kW', axis=1, inplace=True)"
   ]
  },
  {
   "cell_type": "markdown",
   "metadata": {},
   "source": [
    "### hp column:"
   ]
  },
  {
   "cell_type": "code",
   "execution_count": 154,
   "metadata": {},
   "outputs": [
    {
     "data": {
      "text/plain": [
       "85 kW     2542\n",
       "66 kW     2122\n",
       "81 kW     1402\n",
       "100 kW    1308\n",
       "110 kW    1112\n",
       "          ... \n",
       "84 kW        1\n",
       "195 kW       1\n",
       "44 kW        1\n",
       "239 kW       1\n",
       "9 kW         1\n",
       "Name: hp, Length: 81, dtype: int64"
      ]
     },
     "execution_count": 154,
     "metadata": {},
     "output_type": "execute_result"
    }
   ],
   "source": [
    "df.hp.value_counts(dropna=False)"
   ]
  },
  {
   "cell_type": "markdown",
   "metadata": {},
   "source": [
    "Let's move the 'kw' string value inside the column to the column name, leaving only numeric data in the column"
   ]
  },
  {
   "cell_type": "code",
   "execution_count": 155,
   "metadata": {},
   "outputs": [],
   "source": [
    "df['hp_kw'] = df.hp.str.extract('(\\d{1,4})')[0].astype('float')\n"
   ]
  },
  {
   "cell_type": "code",
   "execution_count": 156,
   "metadata": {},
   "outputs": [
    {
     "data": {
      "text/plain": [
       "85.0     2542\n",
       "66.0     2122\n",
       "81.0     1402\n",
       "100.0    1308\n",
       "110.0    1112\n",
       "         ... \n",
       "137.0       1\n",
       "9.0         1\n",
       "44.0        1\n",
       "133.0       1\n",
       "239.0       1\n",
       "Name: hp_kw, Length: 80, dtype: int64"
      ]
     },
     "execution_count": 156,
     "metadata": {},
     "output_type": "execute_result"
    }
   ],
   "source": [
    "df.hp_kw.value_counts(dropna=True)"
   ]
  },
  {
   "cell_type": "code",
   "execution_count": 157,
   "metadata": {},
   "outputs": [],
   "source": [
    "df.drop('hp', axis=1, inplace=True)"
   ]
  },
  {
   "cell_type": "markdown",
   "metadata": {},
   "source": [
    "### type column:"
   ]
  },
  {
   "cell_type": "code",
   "execution_count": 158,
   "metadata": {},
   "outputs": [
    {
     "data": {
      "text/plain": [
       "[, Used, , Diesel (Particulate Filter)]                                                                                 3475\n",
       "[, Used, , Diesel]                                                                                                      2516\n",
       "[, Used, , Gasoline]                                                                                                    2367\n",
       "[, Used, , Super 95]                                                                                                    1818\n",
       "[, Pre-registered, , Super 95]                                                                                           500\n",
       "                                                                                                                        ... \n",
       "[, New, , Regular/Benzine 91 / Super 95 / Super Plus 98 / Regular/Benzine E10 91 / Super Plus E10 98 / Super E10 95]       1\n",
       "[, Used, , Super 95 / Super Plus 98 / Super E10 95 / Super Plus E10 98 (Particulate Filter)]                               1\n",
       "[, Demonstration, , Super Plus 98]                                                                                         1\n",
       "[, New, , Super Plus E10 98]                                                                                               1\n",
       "[, Demonstration, , Regular/Benzine E10 91]                                                                                1\n",
       "Name: Type, Length: 170, dtype: int64"
      ]
     },
     "execution_count": 158,
     "metadata": {},
     "output_type": "execute_result"
    }
   ],
   "source": [
    "df.Type.value_counts(dropna=False)"
   ]
  },
  {
   "cell_type": "markdown",
   "metadata": {},
   "source": [
    "There are many information in this column but i use only second values: Used, New, etc."
   ]
  },
  {
   "cell_type": "code",
   "execution_count": 159,
   "metadata": {},
   "outputs": [
    {
     "data": {
      "text/plain": [
       "0                  Used\n",
       "1                  Used\n",
       "2                  Used\n",
       "3                  Used\n",
       "4                  Used\n",
       "              ...      \n",
       "15914               New\n",
       "15915              Used\n",
       "15916    Pre-registered\n",
       "15917    Pre-registered\n",
       "15918     Demonstration\n",
       "Name: Type, Length: 15919, dtype: object"
      ]
     },
     "execution_count": 159,
     "metadata": {},
     "output_type": "execute_result"
    }
   ],
   "source": [
    "df.Type.str[1]"
   ]
  },
  {
   "cell_type": "code",
   "execution_count": 160,
   "metadata": {},
   "outputs": [
    {
     "data": {
      "text/plain": [
       "Used              11096\n",
       "New                1650\n",
       "Pre-registered     1364\n",
       "Employee's car     1011\n",
       "Demonstration       796\n",
       "NaN                   2\n",
       "Name: type, dtype: int64"
      ]
     },
     "execution_count": 160,
     "metadata": {},
     "output_type": "execute_result"
    }
   ],
   "source": [
    "df['type'] = df.Type.str[1]\n",
    "df.type.value_counts(dropna=False)"
   ]
  },
  {
   "cell_type": "code",
   "execution_count": 161,
   "metadata": {},
   "outputs": [],
   "source": [
    "df.drop('Type', axis=1, inplace=True)"
   ]
  },
  {
   "cell_type": "code",
   "execution_count": 162,
   "metadata": {},
   "outputs": [
    {
     "data": {
      "text/plain": [
       "0.012563603241409635"
      ]
     },
     "execution_count": 162,
     "metadata": {},
     "output_type": "execute_result"
    }
   ],
   "source": [
    "df.type.isnull().sum()/df.shape[0]*100"
   ]
  },
  {
   "cell_type": "markdown",
   "metadata": {},
   "source": [
    "### next_inspection column:"
   ]
  },
  {
   "cell_type": "code",
   "execution_count": 163,
   "metadata": {},
   "outputs": [
    {
     "data": {
      "text/plain": [
       "NaN                                       12384\n",
       "\\n04/2022\\n                                  62\n",
       "\\n03/2021\\n                                  38\n",
       "\\n03/2022\\n                                  36\n",
       "\\n06/2021\\n                                  34\n",
       "                                          ...  \n",
       "[\\n12/2018\\n, \\n97 g CO2/km (comb)\\n]         1\n",
       "[\\n03/2022\\n, \\n1 (No sticker)\\n]             1\n",
       "[\\n05/2021\\n, \\n93 g CO2/km (comb)\\n]         1\n",
       "[\\n06/2021\\n, \\n93 g CO2/km (comb)\\n]         1\n",
       "[\\n01/2022\\n, \\n168 g CO2/km (comb)\\n]        1\n",
       "Name: next_inspection, Length: 1400, dtype: int64"
      ]
     },
     "execution_count": 163,
     "metadata": {},
     "output_type": "execute_result"
    }
   ],
   "source": [
    "df.next_inspection.value_counts(dropna=False)"
   ]
  },
  {
   "cell_type": "code",
   "execution_count": 164,
   "metadata": {},
   "outputs": [],
   "source": [
    "df['next_inspection'] = [item[0] if type(item) == list else item for item in df['next_inspection']]"
   ]
  },
  {
   "cell_type": "code",
   "execution_count": 165,
   "metadata": {},
   "outputs": [],
   "source": [
    "df['next_inspection'] = df.next_inspection.str.strip('\\n')\n"
   ]
  },
  {
   "cell_type": "code",
   "execution_count": 166,
   "metadata": {},
   "outputs": [
    {
     "data": {
      "text/plain": [
       "77.79383127080847"
      ]
     },
     "execution_count": 166,
     "metadata": {},
     "output_type": "execute_result"
    }
   ],
   "source": [
    "df.next_inspection.isnull().sum()/df.shape[0]*100"
   ]
  },
  {
   "cell_type": "code",
   "execution_count": 167,
   "metadata": {},
   "outputs": [
    {
     "data": {
      "text/plain": [
       "NaN        12384\n",
       "06/2021      471\n",
       "03/2021      210\n",
       "05/2021      180\n",
       "04/2021      171\n",
       "           ...  \n",
       "05/2014        1\n",
       "04/2016        1\n",
       "01/1955        1\n",
       "01/2018        1\n",
       "11/2022        1\n",
       "Name: next_inspection, Length: 78, dtype: int64"
      ]
     },
     "execution_count": 167,
     "metadata": {},
     "output_type": "execute_result"
    }
   ],
   "source": [
    "df.next_inspection.value_counts(dropna=False)"
   ]
  },
  {
   "cell_type": "markdown",
   "metadata": {},
   "source": [
    "This column's name is next_inspection but it contains outdated data. I am dropping it.\n",
    "\n",
    "or can use it to fill inpection_new column"
   ]
  },
  {
   "cell_type": "code",
   "execution_count": 168,
   "metadata": {},
   "outputs": [],
   "source": [
    "#df.drop('next_inspection', axis=1, inplace=True)\n"
   ]
  },
  {
   "cell_type": "markdown",
   "metadata": {},
   "source": [
    "### inspection_new column:"
   ]
  },
  {
   "cell_type": "code",
   "execution_count": 169,
   "metadata": {},
   "outputs": [
    {
     "data": {
      "text/plain": [
       "NaN                                                                                            11987\n",
       "[\\nYes\\n, \\nEuro 6\\n]                                                                            523\n",
       "\\nYes\\n                                                                                          362\n",
       "[\\nYes\\n, \\n102 g CO2/km (comb)\\n]                                                               174\n",
       "[\\nYes\\n, \\n4 (Green)\\n]                                                                         166\n",
       "                                                                                               ...  \n",
       "[\\nYes\\n, \\n, 6 l/100 km (comb), \\n, 8 l/100 km (city), \\n, 4.9 l/100 km (country), \\n]            1\n",
       "[\\nYes\\n, \\n, 6.8 l/100 km (comb), \\n, 8.5 l/100 km (city), \\n, 6.1 l/100 km (country), \\n]        1\n",
       "[\\nYes\\n, \\n, 4.1 l/100 km (comb), \\n, 7.5 l/100 km (city), \\n, 5.2 l/100 km (country), \\n]        1\n",
       "[\\nYes\\n, \\n, 5.2 l/100 km (comb), \\n, 6.8 l/100 km (city), \\n, 4.3 l/100 km (country), \\n]        1\n",
       "[\\nYes\\n, \\n172 g CO2/km (comb)\\n]                                                                 1\n",
       "Name: inspection_new, Length: 203, dtype: int64"
      ]
     },
     "execution_count": 169,
     "metadata": {},
     "output_type": "execute_result"
    }
   ],
   "source": [
    "df.inspection_new.value_counts(dropna=False)"
   ]
  },
  {
   "cell_type": "code",
   "execution_count": 170,
   "metadata": {},
   "outputs": [
    {
     "data": {
      "text/plain": [
       "75.29995602738866"
      ]
     },
     "execution_count": 170,
     "metadata": {},
     "output_type": "execute_result"
    }
   ],
   "source": [
    "df.inspection_new.isnull().sum()/df.shape[0]*100"
   ]
  },
  {
   "cell_type": "code",
   "execution_count": 171,
   "metadata": {},
   "outputs": [],
   "source": [
    "df['inspection_new'] = [item[0] if type(\n",
    "    item) == list else item for item in df['inspection_new']]\n"
   ]
  },
  {
   "cell_type": "code",
   "execution_count": 172,
   "metadata": {},
   "outputs": [
    {
     "data": {
      "text/plain": [
       "NaN    11987\n",
       "Yes     3932\n",
       "Name: inspection_new, dtype: int64"
      ]
     },
     "execution_count": 172,
     "metadata": {},
     "output_type": "execute_result"
    }
   ],
   "source": [
    "df['inspection_new'] = df.inspection_new.str.strip('\\n')\n",
    "df.inspection_new.value_counts(dropna=False)"
   ]
  },
  {
   "cell_type": "markdown",
   "metadata": {},
   "source": [
    "There is a high number of NaN values. Some people did not want to give this information."
   ]
  },
  {
   "cell_type": "markdown",
   "metadata": {},
   "source": [
    "### warranty column:"
   ]
  },
  {
   "cell_type": "code",
   "execution_count": 173,
   "metadata": {},
   "outputs": [
    {
     "data": {
      "text/plain": [
       "NaN                                                                                                5420\n",
       "[\\n, \\n, \\nEuro 6\\n]                                                                               1868\n",
       "\\n12 months\\n                                                                                      1177\n",
       "\\n                                                                                                  979\n",
       "\\n24 months\\n                                                                                       566\n",
       "                                                                                                   ... \n",
       "[\\n72 months\\n, \\n125 g CO2/km (comb)\\n]                                                              1\n",
       "[\\n60 months\\n, \\n14 g CO2/km (comb)\\n]                                                               1\n",
       "[\\n24 months\\n, \\n121 g CO2/km (comb)\\n]                                                              1\n",
       "[\\n12 months\\n, \\nEuro 6d\\n]                                                                          1\n",
       "[\\n36 months\\n, \\n, 7.4 l/100 km (comb), \\n, 9.6 l/100 km (city), \\n, 6 l/100 km (country), \\n]       1\n",
       "Name: warranty, Length: 516, dtype: int64"
      ]
     },
     "execution_count": 173,
     "metadata": {},
     "output_type": "execute_result"
    }
   ],
   "source": [
    "df.warranty.value_counts(dropna=False)"
   ]
  },
  {
   "cell_type": "code",
   "execution_count": 174,
   "metadata": {},
   "outputs": [],
   "source": [
    "df['warranty'] = [item[0] if type(item) == list else item for item in df.warranty]"
   ]
  },
  {
   "cell_type": "code",
   "execution_count": 175,
   "metadata": {},
   "outputs": [],
   "source": [
    "df['warranty_months']=df.warranty.str.strip('\\n').str.extract('(\\d{1,10})')\n"
   ]
  },
  {
   "cell_type": "code",
   "execution_count": 176,
   "metadata": {},
   "outputs": [],
   "source": [
    "df.drop('warranty', axis=1, inplace=True)"
   ]
  },
  {
   "cell_type": "code",
   "execution_count": 177,
   "metadata": {},
   "outputs": [
    {
     "data": {
      "text/plain": [
       "NaN    11066\n",
       "12      2594\n",
       "24      1118\n",
       "60       401\n",
       "36       279\n",
       "48       149\n",
       "6        125\n",
       "72        59\n",
       "3         33\n",
       "23        11\n",
       "18        10\n",
       "20         7\n",
       "25         6\n",
       "2          5\n",
       "50         4\n",
       "26         4\n",
       "16         4\n",
       "4          3\n",
       "1          3\n",
       "19         3\n",
       "34         3\n",
       "13         3\n",
       "28         2\n",
       "22         2\n",
       "14         2\n",
       "11         2\n",
       "46         2\n",
       "21         2\n",
       "9          2\n",
       "17         2\n",
       "45         2\n",
       "33         1\n",
       "40         1\n",
       "65         1\n",
       "10         1\n",
       "15         1\n",
       "7          1\n",
       "8          1\n",
       "56         1\n",
       "49         1\n",
       "47         1\n",
       "30         1\n",
       "Name: warranty_months, dtype: int64"
      ]
     },
     "execution_count": 177,
     "metadata": {},
     "output_type": "execute_result"
    }
   ],
   "source": [
    "\n",
    "df.warranty_months.value_counts(dropna=False)\n"
   ]
  },
  {
   "cell_type": "markdown",
   "metadata": {},
   "source": [
    "### full_service column:"
   ]
  },
  {
   "cell_type": "code",
   "execution_count": 178,
   "metadata": {},
   "outputs": [
    {
     "data": {
      "text/plain": [
       "NaN                                                                                           7704\n",
       "[\\n, \\n, \\n4 (Green)\\n]                                                                       2235\n",
       "[\\n, \\n, \\nEuro 6\\n]                                                                          2097\n",
       "[\\n, \\n]                                                                                      1702\n",
       "[\\n, \\n, \\nEuro 6d-TEMP\\n]                                                                     399\n",
       "                                                                                              ... \n",
       "[\\n, \\n, \\n80 g CO2/km (comb)\\n]                                                                 1\n",
       "[\\n, \\n, \\n84 g CO2/km (comb)\\n]                                                                 1\n",
       "[\\n, \\n, \\n, 6 l/100 km (comb), \\n, 8 l/100 km (city), \\n, 4.9 l/100 km (country), \\n]           1\n",
       "[\\n, \\n, \\n, 4.9 l/100 km (comb), \\n, 6.2 l/100 km (city), \\n, 4.1 l/100 km (country), \\n]       1\n",
       "[\\n, \\n, \\nEuro 4\\n]                                                                             1\n",
       "Name: full_service, Length: 123, dtype: int64"
      ]
     },
     "execution_count": 178,
     "metadata": {},
     "output_type": "execute_result"
    }
   ],
   "source": [
    "df.full_service.value_counts(dropna=False)"
   ]
  },
  {
   "cell_type": "markdown",
   "metadata": {},
   "source": [
    "I think, i do not need it."
   ]
  },
  {
   "cell_type": "code",
   "execution_count": 179,
   "metadata": {},
   "outputs": [],
   "source": [
    "df.drop('full_service', axis=1, inplace=True)\n"
   ]
  },
  {
   "cell_type": "markdown",
   "metadata": {},
   "source": [
    "### non_smoking_vehicle column:"
   ]
  },
  {
   "cell_type": "code",
   "execution_count": 180,
   "metadata": {},
   "outputs": [
    {
     "data": {
      "text/plain": [
       "NaN                                                                                           8742\n",
       "[\\n, \\n]                                                                                      3647\n",
       "[\\n, \\n, \\n4 (Green)\\n]                                                                       1240\n",
       "[\\n, \\n, \\nEuro 6\\n]                                                                          1127\n",
       "[\\n, \\n, \\nEuro 6d-TEMP\\n]                                                                     345\n",
       "                                                                                              ... \n",
       "[\\n, \\n, \\n, 5.6 l/100 km (comb), \\n, 7.3 l/100 km (city), \\n, 4.7 l/100 km (country), \\n]       1\n",
       "[\\n, \\n, \\n122 g CO2/km (comb)\\n]                                                                1\n",
       "[\\n, \\n, \\n158 g CO2/km (comb)\\n]                                                                1\n",
       "[\\n, \\n, \\n150 g CO2/km (comb)\\n]                                                                1\n",
       "[\\n, \\n, \\n175 g CO2/km (comb)\\n]                                                                1\n",
       "Name: non_smoking_vehicle, Length: 95, dtype: int64"
      ]
     },
     "execution_count": 180,
     "metadata": {},
     "output_type": "execute_result"
    }
   ],
   "source": [
    "df.non_smoking_vehicle.value_counts(dropna=False)"
   ]
  },
  {
   "cell_type": "markdown",
   "metadata": {},
   "source": [
    "This column also looks like the full_service column, although not exactly the same. I am dropping this column too."
   ]
  },
  {
   "cell_type": "code",
   "execution_count": 181,
   "metadata": {},
   "outputs": [],
   "source": [
    "df.drop('non_smoking_vehicle', axis=1, inplace=True)\n"
   ]
  },
  {
   "cell_type": "markdown",
   "metadata": {},
   "source": [
    "### null column!!!:"
   ]
  },
  {
   "cell_type": "code",
   "execution_count": 182,
   "metadata": {},
   "outputs": [
    {
     "data": {
      "text/plain": [
       "[]    15919\n",
       "Name: null, dtype: int64"
      ]
     },
     "execution_count": 182,
     "metadata": {},
     "output_type": "execute_result"
    }
   ],
   "source": [
    "df.null.value_counts(dropna=False)"
   ]
  },
  {
   "cell_type": "markdown",
   "metadata": {},
   "source": [
    "I consists of only null values, i am dropping it."
   ]
  },
  {
   "cell_type": "code",
   "execution_count": 183,
   "metadata": {},
   "outputs": [],
   "source": [
    "df.drop('null', axis=1, inplace=True)"
   ]
  },
  {
   "cell_type": "markdown",
   "metadata": {},
   "source": [
    "### offer_number column:"
   ]
  },
  {
   "cell_type": "code",
   "execution_count": 184,
   "metadata": {},
   "outputs": [
    {
     "data": {
      "text/plain": [
       "NaN                                               3175\n",
       "[\\nLT67679\\n]                                       27\n",
       "[\\nUN89904\\n]                                       27\n",
       "[\\nXJ38068\\n]                                       27\n",
       "[\\nJV03654\\n]                                       27\n",
       "                                                  ... \n",
       "[\\n160_dcbb6c3e-a6da-43a3-8754-ccd994cec93b\\n]       1\n",
       "[\\n6701576\\n]                                        1\n",
       "[\\n6701569\\n]                                        1\n",
       "[\\n158121\\n]                                         1\n",
       "[\\nRe_30000008029\\n]                                 1\n",
       "Name: offer_number, Length: 11441, dtype: int64"
      ]
     },
     "execution_count": 184,
     "metadata": {},
     "output_type": "execute_result"
    }
   ],
   "source": [
    "df.offer_number.value_counts(dropna=False)"
   ]
  },
  {
   "cell_type": "code",
   "execution_count": 185,
   "metadata": {},
   "outputs": [],
   "source": [
    "df['offer_number'] = [item[0] if type(item) == list else item for item in df.offer_number]"
   ]
  },
  {
   "cell_type": "code",
   "execution_count": 186,
   "metadata": {},
   "outputs": [],
   "source": [
    "df['offer_number'] = df.offer_number.str.strip('\\n')\n"
   ]
  },
  {
   "cell_type": "code",
   "execution_count": 187,
   "metadata": {},
   "outputs": [
    {
     "data": {
      "text/plain": [
       "NaN                                         3175\n",
       "LT67679                                       27\n",
       "UN89904                                       27\n",
       "XJ38068                                       27\n",
       "JV03654                                       27\n",
       "                                            ... \n",
       "160_dcbb6c3e-a6da-43a3-8754-ccd994cec93b       1\n",
       "6701576                                        1\n",
       "6701569                                        1\n",
       "158121                                         1\n",
       "Re_30000008029                                 1\n",
       "Name: offer_number, Length: 11441, dtype: int64"
      ]
     },
     "execution_count": 187,
     "metadata": {},
     "output_type": "execute_result"
    }
   ],
   "source": [
    "df.offer_number.value_counts(dropna=False)"
   ]
  },
  {
   "cell_type": "markdown",
   "metadata": {},
   "source": [
    "They are only offer number for each advert, it can not be so important to our target feature. I think i do not need this column."
   ]
  },
  {
   "cell_type": "code",
   "execution_count": 188,
   "metadata": {},
   "outputs": [],
   "source": [
    "df.drop('offer_number', axis=1, inplace=True)"
   ]
  },
  {
   "cell_type": "markdown",
   "metadata": {},
   "source": [
    "### body_color column:"
   ]
  },
  {
   "cell_type": "code",
   "execution_count": 189,
   "metadata": {},
   "outputs": [
    {
     "data": {
      "text/plain": [
       "[\\n, Black, \\n]     3745\n",
       "[\\n, Grey, \\n]      3505\n",
       "[\\n, White, \\n]     3406\n",
       "[\\n, Silver, \\n]    1647\n",
       "[\\n, Blue, \\n]      1431\n",
       "[\\n, Red, \\n]        957\n",
       "NaN                  597\n",
       "[\\n, Brown, \\n]      289\n",
       "[\\n, Green, \\n]      154\n",
       "[\\n, Beige, \\n]      108\n",
       "[\\n, Yellow, \\n]      51\n",
       "[\\n, Violet, \\n]      18\n",
       "[\\n, Bronze, \\n]       6\n",
       "[\\n, Orange, \\n]       3\n",
       "[\\n, Gold, \\n]         2\n",
       "Name: body_color, dtype: int64"
      ]
     },
     "execution_count": 189,
     "metadata": {},
     "output_type": "execute_result"
    }
   ],
   "source": [
    "df.body_color.value_counts(dropna=False)"
   ]
  },
  {
   "cell_type": "code",
   "execution_count": 190,
   "metadata": {},
   "outputs": [],
   "source": [
    "df['body_color'] = [item[1] if type(\n",
    "    item) == list else item for item in df['body_color']]\n"
   ]
  },
  {
   "cell_type": "code",
   "execution_count": 191,
   "metadata": {},
   "outputs": [
    {
     "data": {
      "text/plain": [
       "Black     3745\n",
       "Grey      3505\n",
       "White     3406\n",
       "Silver    1647\n",
       "Blue      1431\n",
       "Red        957\n",
       "NaN        597\n",
       "Brown      289\n",
       "Green      154\n",
       "Beige      108\n",
       "Yellow      51\n",
       "Violet      18\n",
       "Bronze       6\n",
       "Orange       3\n",
       "Gold         2\n",
       "Name: body_color, dtype: int64"
      ]
     },
     "execution_count": 191,
     "metadata": {},
     "output_type": "execute_result"
    }
   ],
   "source": [
    "df.body_color.value_counts(dropna=False)"
   ]
  },
  {
   "cell_type": "markdown",
   "metadata": {},
   "source": [
    "Does the color of the cars affect the selling price? it can be examined."
   ]
  },
  {
   "cell_type": "code",
   "execution_count": 192,
   "metadata": {},
   "outputs": [
    {
     "data": {
      "text/plain": [
       "3.7502355675607766"
      ]
     },
     "execution_count": 192,
     "metadata": {},
     "output_type": "execute_result"
    }
   ],
   "source": [
    "df.body_color.isnull().sum()/df.shape[0]*100"
   ]
  },
  {
   "cell_type": "markdown",
   "metadata": {},
   "source": [
    "there is also a column that named body_color_original"
   ]
  },
  {
   "cell_type": "code",
   "execution_count": 193,
   "metadata": {},
   "outputs": [
    {
     "data": {
      "text/plain": [
       "NaN                                    3759\n",
       "[\\nOnyx Schwarz\\n]                      338\n",
       "[\\nBianco\\n]                            282\n",
       "[\\nMythosschwarz Metallic\\n]            238\n",
       "[\\nBrillantschwarz\\n]                   216\n",
       "                                       ... \n",
       "[\\nRouge-Braun (G0Y)\\n]                   1\n",
       "[\\nVARI COLRI DISPONIBILI\\n]              1\n",
       "[\\nKokosnussbraun Metallic\\n]             1\n",
       "[\\nFarbe frei wählbar\\n]                  1\n",
       "[\\nPerlmutt-Weiß Metallic (Weiß)\\n]       1\n",
       "Name: body_color_original, Length: 1928, dtype: int64"
      ]
     },
     "execution_count": 193,
     "metadata": {},
     "output_type": "execute_result"
    }
   ],
   "source": [
    "df.body_color_original.value_counts(dropna=False)"
   ]
  },
  {
   "cell_type": "code",
   "execution_count": 194,
   "metadata": {},
   "outputs": [],
   "source": [
    "df['body_color_original'] = [item[0] if type(\n",
    "    item) == list else item for item in df['body_color_original']]\n"
   ]
  },
  {
   "cell_type": "code",
   "execution_count": 195,
   "metadata": {},
   "outputs": [],
   "source": [
    "df['body_color_original'] = df.body_color_original.str.strip('\\n')\n"
   ]
  },
  {
   "cell_type": "code",
   "execution_count": 196,
   "metadata": {},
   "outputs": [
    {
     "data": {
      "text/plain": [
       "NaN                              3759\n",
       "Onyx Schwarz                      338\n",
       "Bianco                            282\n",
       "Mythosschwarz Metallic            238\n",
       "Brillantschwarz                   216\n",
       "                                 ... \n",
       "Rouge-Braun (G0Y)                   1\n",
       "VARI COLRI DISPONIBILI              1\n",
       "Kokosnussbraun Metallic             1\n",
       "Farbe frei wählbar                  1\n",
       "Perlmutt-Weiß Metallic (Weiß)       1\n",
       "Name: body_color_original, Length: 1928, dtype: int64"
      ]
     },
     "execution_count": 196,
     "metadata": {},
     "output_type": "execute_result"
    }
   ],
   "source": [
    "df.body_color_original.value_counts(dropna=False)"
   ]
  },
  {
   "cell_type": "markdown",
   "metadata": {},
   "source": [
    "There are so many different variables in this column, it can be dropped"
   ]
  },
  {
   "cell_type": "code",
   "execution_count": 197,
   "metadata": {},
   "outputs": [],
   "source": [
    "df.drop('body_color_original', axis=1, inplace=True)\n"
   ]
  },
  {
   "cell_type": "code",
   "execution_count": 198,
   "metadata": {},
   "outputs": [
    {
     "data": {
      "text/plain": [
       "Index(['make_model', 'body_type', 'price', 'vat', 'km', 'previous_owners',\n",
       "       'next_inspection', 'inspection_new', 'body_color', 'paint_type',\n",
       "       'upholstery', 'num_of_doors', 'num_of_seats', 'model_code',\n",
       "       'gearing_type', 'displacement', 'cylinders', 'weight', 'drive_chain',\n",
       "       'fuel', 'consumption', 'co2_emission', 'emission_class',\n",
       "       'comfort_convenience', 'entertainment_media', 'extras',\n",
       "       'safety_security', 'description', 'emission_label', 'gears',\n",
       "       'country_version', 'electricity_consumption', 'last_service_date',\n",
       "       'other_fuel_types', 'availability', 'last_timing_belt_service_date',\n",
       "       'available_from', 'age', 'hp_kw', 'type', 'warranty_months'],\n",
       "      dtype='object')"
      ]
     },
     "execution_count": 198,
     "metadata": {},
     "output_type": "execute_result"
    }
   ],
   "source": [
    "df.columns"
   ]
  },
  {
   "cell_type": "markdown",
   "metadata": {},
   "source": [
    "### paint_type column:"
   ]
  },
  {
   "cell_type": "code",
   "execution_count": 199,
   "metadata": {},
   "outputs": [
    {
     "data": {
      "text/plain": [
       "[\\nMetallic\\n]       9794\n",
       "NaN                  5772\n",
       "[\\nUni/basic\\n]       347\n",
       "[\\nPerl effect\\n]       6\n",
       "Name: paint_type, dtype: int64"
      ]
     },
     "execution_count": 199,
     "metadata": {},
     "output_type": "execute_result"
    }
   ],
   "source": [
    "df.paint_type.value_counts(dropna=False)"
   ]
  },
  {
   "cell_type": "code",
   "execution_count": 200,
   "metadata": {},
   "outputs": [],
   "source": [
    "df['paint_type'] = [item[0] if type(item) == list else item for item in df.paint_type]"
   ]
  },
  {
   "cell_type": "code",
   "execution_count": 201,
   "metadata": {},
   "outputs": [],
   "source": [
    "df['paint_type'] = df.paint_type.str.strip('\\n')\n"
   ]
  },
  {
   "cell_type": "code",
   "execution_count": 202,
   "metadata": {},
   "outputs": [
    {
     "data": {
      "text/plain": [
       "Metallic       9794\n",
       "NaN            5772\n",
       "Uni/basic       347\n",
       "Perl effect       6\n",
       "Name: paint_type, dtype: int64"
      ]
     },
     "execution_count": 202,
     "metadata": {},
     "output_type": "execute_result"
    }
   ],
   "source": [
    "df.paint_type.value_counts(dropna=False)\n"
   ]
  },
  {
   "cell_type": "code",
   "execution_count": 203,
   "metadata": {},
   "outputs": [
    {
     "data": {
      "text/plain": [
       "36.25855895470821"
      ]
     },
     "execution_count": 203,
     "metadata": {},
     "output_type": "execute_result"
    }
   ],
   "source": [
    "df.paint_type.isnull().sum()/df.shape[0]*100"
   ]
  },
  {
   "cell_type": "markdown",
   "metadata": {},
   "source": [
    "### upholstery column:"
   ]
  },
  {
   "cell_type": "code",
   "execution_count": 204,
   "metadata": {},
   "outputs": [
    {
     "data": {
      "text/plain": [
       "[\\nCloth, Black\\n]           5821\n",
       "NaN                          3720\n",
       "[\\nPart leather, Black\\n]    1121\n",
       "[\\nCloth\\n]                  1005\n",
       "[\\nCloth, Grey\\n]             891\n",
       "[\\nCloth, Other\\n]            639\n",
       "[\\nFull leather, Black\\n]     575\n",
       "[\\nBlack\\n]                   491\n",
       "[\\nGrey\\n]                    273\n",
       "[\\nOther, Other\\n]            182\n",
       "[\\nPart leather\\n]            140\n",
       "[\\nFull leather\\n]            139\n",
       "[\\nFull leather, Brown\\n]     116\n",
       "[\\nPart leather, Grey\\n]      116\n",
       "[\\nOther, Black\\n]            110\n",
       "[\\nFull leather, Other\\n]      72\n",
       "[\\nFull leather, Grey\\n]       67\n",
       "[\\nPart leather, Other\\n]      65\n",
       "[\\nOther\\n]                    56\n",
       "[\\nPart leather, Brown\\n]      50\n",
       "[\\nalcantara, Black\\n]         47\n",
       "[\\nVelour, Black\\n]            36\n",
       "[\\nFull leather, Beige\\n]      36\n",
       "[\\nCloth, Brown\\n]             28\n",
       "[\\nVelour\\n]                   16\n",
       "[\\nOther, Grey\\n]              15\n",
       "[\\nCloth, Beige\\n]             13\n",
       "[\\nBrown\\n]                    12\n",
       "[\\nCloth, Blue\\n]              12\n",
       "[\\nVelour, Grey\\n]              8\n",
       "[\\nCloth, White\\n]              8\n",
       "[\\nalcantara, Grey\\n]           6\n",
       "[\\nCloth, Red\\n]                5\n",
       "[\\nOther, Yellow\\n]             4\n",
       "[\\nPart leather, Red\\n]         3\n",
       "[\\nBeige\\n]                     3\n",
       "[\\nPart leather, White\\n]       2\n",
       "[\\nFull leather, Blue\\n]        2\n",
       "[\\nalcantara, Other\\n]          2\n",
       "[\\nalcantara\\n]                 2\n",
       "[\\nWhite\\n]                     2\n",
       "[\\nPart leather, Beige\\n]       2\n",
       "[\\nBlue\\n]                      2\n",
       "[\\nCloth, Orange\\n]             1\n",
       "[\\nFull leather, Red\\n]         1\n",
       "[\\nOther, Brown\\n]              1\n",
       "[\\nFull leather, White\\n]       1\n",
       "Name: upholstery, dtype: int64"
      ]
     },
     "execution_count": 204,
     "metadata": {},
     "output_type": "execute_result"
    }
   ],
   "source": [
    "df.upholstery.value_counts(dropna=False)"
   ]
  },
  {
   "cell_type": "code",
   "execution_count": 205,
   "metadata": {},
   "outputs": [],
   "source": [
    "# I can see that some variables repeat. I can rearrange this column:"
   ]
  },
  {
   "cell_type": "code",
   "execution_count": 206,
   "metadata": {},
   "outputs": [],
   "source": [
    "df['upholstery'] = df[\"upholstery\"].apply(lambda x: x[0] if type(x) == list else x)"
   ]
  },
  {
   "cell_type": "code",
   "execution_count": 207,
   "metadata": {},
   "outputs": [],
   "source": [
    "df['upholstery'] = df.upholstery.str.strip(\"\\n\").str.split(\", \")"
   ]
  },
  {
   "cell_type": "code",
   "execution_count": 208,
   "metadata": {},
   "outputs": [
    {
     "data": {
      "text/plain": [
       "[Cloth, Black]           5821\n",
       "NaN                      3720\n",
       "[Part leather, Black]    1121\n",
       "[Cloth]                  1005\n",
       "[Cloth, Grey]             891\n",
       "[Cloth, Other]            639\n",
       "[Full leather, Black]     575\n",
       "[Black]                   491\n",
       "[Grey]                    273\n",
       "[Other, Other]            182\n",
       "[Part leather]            140\n",
       "[Full leather]            139\n",
       "[Full leather, Brown]     116\n",
       "[Part leather, Grey]      116\n",
       "[Other, Black]            110\n",
       "[Full leather, Other]      72\n",
       "[Full leather, Grey]       67\n",
       "[Part leather, Other]      65\n",
       "[Other]                    56\n",
       "[Part leather, Brown]      50\n",
       "[alcantara, Black]         47\n",
       "[Velour, Black]            36\n",
       "[Full leather, Beige]      36\n",
       "[Cloth, Brown]             28\n",
       "[Velour]                   16\n",
       "[Other, Grey]              15\n",
       "[Cloth, Beige]             13\n",
       "[Brown]                    12\n",
       "[Cloth, Blue]              12\n",
       "[Velour, Grey]              8\n",
       "[Cloth, White]              8\n",
       "[alcantara, Grey]           6\n",
       "[Cloth, Red]                5\n",
       "[Other, Yellow]             4\n",
       "[Part leather, Red]         3\n",
       "[Beige]                     3\n",
       "[Part leather, White]       2\n",
       "[Full leather, Blue]        2\n",
       "[alcantara, Other]          2\n",
       "[alcantara]                 2\n",
       "[White]                     2\n",
       "[Part leather, Beige]       2\n",
       "[Blue]                      2\n",
       "[Cloth, Orange]             1\n",
       "[Full leather, Red]         1\n",
       "[Other, Brown]              1\n",
       "[Full leather, White]       1\n",
       "Name: upholstery, dtype: int64"
      ]
     },
     "execution_count": 208,
     "metadata": {},
     "output_type": "execute_result"
    }
   ],
   "source": [
    "df['upholstery'].value_counts(dropna=False)"
   ]
  },
  {
   "cell_type": "code",
   "execution_count": 209,
   "metadata": {},
   "outputs": [],
   "source": [
    "uph_type = ['Cloth', 'Part leather', 'Full leather', 'alcantara', 'Velour']\n",
    "df[\"upholstery_type\"] = df[\"upholstery\"].apply(lambda x : x[0] if type(x) == list and x[0] in uph_type else np.nan)"
   ]
  },
  {
   "cell_type": "code",
   "execution_count": 210,
   "metadata": {},
   "outputs": [
    {
     "data": {
      "text/plain": [
       "Cloth           8423\n",
       "NaN             4871\n",
       "Part leather    1499\n",
       "Full leather    1009\n",
       "Velour            60\n",
       "alcantara         57\n",
       "Name: upholstery_type, dtype: int64"
      ]
     },
     "execution_count": 210,
     "metadata": {},
     "output_type": "execute_result"
    }
   ],
   "source": [
    "df['upholstery_type'].value_counts(dropna=False)"
   ]
  },
  {
   "cell_type": "code",
   "execution_count": 211,
   "metadata": {},
   "outputs": [],
   "source": [
    "color_list = ['Black', 'Grey', 'Brown', 'Beige', 'White', 'Blue', 'Red', 'Yellow', 'Orange']\n",
    "\n",
    "def uph_color(x):\n",
    "    if type(x) == list and len(x) == 2:\n",
    "        return x[1]\n",
    "    elif type(x) == list and  len(x) == 1 and x[0] in color_list:\n",
    "        return x[0]\n",
    "    else:\n",
    "        return np.nan\n",
    "    \n",
    "df['upholstery_color'] = df.upholstery.apply(uph_color)"
   ]
  },
  {
   "cell_type": "code",
   "execution_count": 212,
   "metadata": {},
   "outputs": [
    {
     "data": {
      "text/plain": [
       "Black     8201\n",
       "NaN       5078\n",
       "Grey      1376\n",
       "Other      960\n",
       "Brown      207\n",
       "Beige       54\n",
       "Blue        16\n",
       "White       13\n",
       "Red          9\n",
       "Yellow       4\n",
       "Orange       1\n",
       "Name: upholstery_color, dtype: int64"
      ]
     },
     "execution_count": 212,
     "metadata": {},
     "output_type": "execute_result"
    }
   ],
   "source": [
    "df.upholstery_color.value_counts(dropna=False)"
   ]
  },
  {
   "cell_type": "code",
   "execution_count": 213,
   "metadata": {},
   "outputs": [],
   "source": [
    "df.drop('upholstery', axis=1, inplace=True)"
   ]
  },
  {
   "cell_type": "markdown",
   "metadata": {},
   "source": [
    "### num_of_doors column:"
   ]
  },
  {
   "cell_type": "code",
   "execution_count": 214,
   "metadata": {},
   "outputs": [
    {
     "data": {
      "text/plain": [
       "Index(['make_model', 'body_type', 'price', 'vat', 'km', 'previous_owners',\n",
       "       'next_inspection', 'inspection_new', 'body_color', 'paint_type',\n",
       "       'num_of_doors', 'num_of_seats', 'model_code', 'gearing_type',\n",
       "       'displacement', 'cylinders', 'weight', 'drive_chain', 'fuel',\n",
       "       'consumption', 'co2_emission', 'emission_class', 'comfort_convenience',\n",
       "       'entertainment_media', 'extras', 'safety_security', 'description',\n",
       "       'emission_label', 'gears', 'country_version', 'electricity_consumption',\n",
       "       'last_service_date', 'other_fuel_types', 'availability',\n",
       "       'last_timing_belt_service_date', 'available_from', 'age', 'hp_kw',\n",
       "       'type', 'warranty_months', 'upholstery_type', 'upholstery_color'],\n",
       "      dtype='object')"
      ]
     },
     "execution_count": 214,
     "metadata": {},
     "output_type": "execute_result"
    }
   ],
   "source": [
    "df.columns"
   ]
  },
  {
   "cell_type": "code",
   "execution_count": 215,
   "metadata": {},
   "outputs": [
    {
     "data": {
      "text/plain": [
       "[\\n5\\n]    11575\n",
       "[\\n4\\n]     3079\n",
       "[\\n3\\n]      832\n",
       "[\\n2\\n]      219\n",
       "NaN          212\n",
       "[\\n1\\n]        1\n",
       "[\\n7\\n]        1\n",
       "Name: num_of_doors, dtype: int64"
      ]
     },
     "execution_count": 215,
     "metadata": {},
     "output_type": "execute_result"
    }
   ],
   "source": [
    "df.num_of_doors.value_counts(dropna=False)"
   ]
  },
  {
   "cell_type": "code",
   "execution_count": 216,
   "metadata": {},
   "outputs": [],
   "source": [
    "df['num_of_doors'] = [item[0] if type(item) == list else item for item in df.num_of_doors]"
   ]
  },
  {
   "cell_type": "code",
   "execution_count": 217,
   "metadata": {},
   "outputs": [],
   "source": [
    "df['num_of_doors'] = df.num_of_doors.str.strip('\\n').astype('float')\n"
   ]
  },
  {
   "cell_type": "code",
   "execution_count": 218,
   "metadata": {},
   "outputs": [
    {
     "data": {
      "text/plain": [
       "5.0    11575\n",
       "4.0     3079\n",
       "3.0      832\n",
       "2.0      219\n",
       "NaN      212\n",
       "1.0        1\n",
       "7.0        1\n",
       "Name: num_of_doors, dtype: int64"
      ]
     },
     "execution_count": 218,
     "metadata": {},
     "output_type": "execute_result"
    }
   ],
   "source": [
    "df.num_of_doors.value_counts(dropna=False)\n"
   ]
  },
  {
   "cell_type": "markdown",
   "metadata": {},
   "source": [
    "### num_of_seats column:"
   ]
  },
  {
   "cell_type": "code",
   "execution_count": 219,
   "metadata": {},
   "outputs": [
    {
     "data": {
      "text/plain": [
       "[\\n5\\n]    13336\n",
       "[\\n4\\n]     1125\n",
       "NaN          977\n",
       "[\\n7\\n]      362\n",
       "[\\n2\\n]      116\n",
       "[\\n6\\n]        2\n",
       "[\\n3\\n]        1\n",
       "Name: num_of_seats, dtype: int64"
      ]
     },
     "execution_count": 219,
     "metadata": {},
     "output_type": "execute_result"
    }
   ],
   "source": [
    "df.num_of_seats.value_counts(dropna=False)\n"
   ]
  },
  {
   "cell_type": "code",
   "execution_count": 220,
   "metadata": {},
   "outputs": [],
   "source": [
    "df['num_of_seats'] = df.num_of_seats.str[0].str.strip('\\n').astype('float')"
   ]
  },
  {
   "cell_type": "code",
   "execution_count": 221,
   "metadata": {},
   "outputs": [
    {
     "data": {
      "text/plain": [
       "5.0    13336\n",
       "4.0     1125\n",
       "NaN      977\n",
       "7.0      362\n",
       "2.0      116\n",
       "6.0        2\n",
       "3.0        1\n",
       "Name: num_of_seats, dtype: int64"
      ]
     },
     "execution_count": 221,
     "metadata": {},
     "output_type": "execute_result"
    }
   ],
   "source": [
    "df.num_of_seats.value_counts(dropna=False)\n"
   ]
  },
  {
   "cell_type": "markdown",
   "metadata": {},
   "source": [
    "### model_code column:"
   ]
  },
  {
   "cell_type": "code",
   "execution_count": 222,
   "metadata": {},
   "outputs": [
    {
     "data": {
      "text/plain": [
       "NaN               10941\n",
       "[\\n0035/BCB\\n]      268\n",
       "[\\n0588/BNO\\n]      245\n",
       "[\\n0588/BDB\\n]      206\n",
       "[\\n0588/BHX\\n]      188\n",
       "                  ...  \n",
       "[\\n0035/AVN\\n]        1\n",
       "[\\n0035/BEM\\n]        1\n",
       "[\\n0035/BAG\\n]        1\n",
       "[\\n0035/BAA\\n]        1\n",
       "[\\n3333/BKG\\n]        1\n",
       "Name: model_code, Length: 233, dtype: int64"
      ]
     },
     "execution_count": 222,
     "metadata": {},
     "output_type": "execute_result"
    }
   ],
   "source": [
    "df.model_code.value_counts(dropna=False)"
   ]
  },
  {
   "cell_type": "code",
   "execution_count": 223,
   "metadata": {},
   "outputs": [],
   "source": [
    "df['model_code'] = df.model_code.str[0].str.strip('\\n')"
   ]
  },
  {
   "cell_type": "code",
   "execution_count": 224,
   "metadata": {},
   "outputs": [
    {
     "data": {
      "text/plain": [
       "NaN         10941\n",
       "0035/BCB      268\n",
       "0588/BNO      245\n",
       "0588/BDB      206\n",
       "0588/BHX      188\n",
       "            ...  \n",
       "0035/AVN        1\n",
       "0035/BEM        1\n",
       "0035/BAG        1\n",
       "0035/BAA        1\n",
       "3333/BKG        1\n",
       "Name: model_code, Length: 233, dtype: int64"
      ]
     },
     "execution_count": 224,
     "metadata": {},
     "output_type": "execute_result"
    }
   ],
   "source": [
    "df.model_code.value_counts(dropna=False)"
   ]
  },
  {
   "cell_type": "markdown",
   "metadata": {},
   "source": [
    "Can this column be useful? I couldn't make a relation with the price, i can drop it."
   ]
  },
  {
   "cell_type": "code",
   "execution_count": 225,
   "metadata": {},
   "outputs": [],
   "source": [
    "df.drop('model_code', axis=1, inplace=True)"
   ]
  },
  {
   "cell_type": "markdown",
   "metadata": {},
   "source": [
    "### gearing_type column:"
   ]
  },
  {
   "cell_type": "code",
   "execution_count": 226,
   "metadata": {},
   "outputs": [
    {
     "data": {
      "text/plain": [
       "[\\n, Manual, \\n]            8153\n",
       "[\\n, Automatic, \\n]         7297\n",
       "[\\n, Semi-automatic, \\n]     469\n",
       "Name: gearing_type, dtype: int64"
      ]
     },
     "execution_count": 226,
     "metadata": {},
     "output_type": "execute_result"
    }
   ],
   "source": [
    "df.gearing_type.value_counts(dropna=False)"
   ]
  },
  {
   "cell_type": "code",
   "execution_count": 227,
   "metadata": {},
   "outputs": [],
   "source": [
    "df['gearing_type'] = [item[1] if type(item) == list else item for item in df.gearing_type]"
   ]
  },
  {
   "cell_type": "code",
   "execution_count": 228,
   "metadata": {},
   "outputs": [
    {
     "data": {
      "text/plain": [
       "Manual            8153\n",
       "Automatic         7297\n",
       "Semi-automatic     469\n",
       "Name: gearing_type, dtype: int64"
      ]
     },
     "execution_count": 228,
     "metadata": {},
     "output_type": "execute_result"
    }
   ],
   "source": [
    "df.gearing_type.value_counts(dropna=False)"
   ]
  },
  {
   "cell_type": "markdown",
   "metadata": {},
   "source": [
    "### There is also gears column, can they be same?"
   ]
  },
  {
   "cell_type": "code",
   "execution_count": 229,
   "metadata": {},
   "outputs": [
    {
     "data": {
      "text/plain": [
       "[\\n6\\n]     5822\n",
       "NaN         4712\n",
       "[\\n5\\n]     3239\n",
       "[\\n7\\n]     1908\n",
       "[\\n8\\n]      224\n",
       "[\\n9\\n]        6\n",
       "[\\n1\\n]        2\n",
       "[\\n3\\n]        2\n",
       "[\\n4\\n]        2\n",
       "[\\n2\\n]        1\n",
       "[\\n50\\n]       1\n",
       "Name: gears, dtype: int64"
      ]
     },
     "execution_count": 229,
     "metadata": {},
     "output_type": "execute_result"
    }
   ],
   "source": [
    "df.gears.value_counts(dropna=False)"
   ]
  },
  {
   "cell_type": "code",
   "execution_count": 230,
   "metadata": {},
   "outputs": [
    {
     "data": {
      "text/plain": [
       "0            NaN\n",
       "1        [\\n7\\n]\n",
       "2            NaN\n",
       "3        [\\n6\\n]\n",
       "4            NaN\n",
       "          ...   \n",
       "15914    [\\n6\\n]\n",
       "15915    [\\n7\\n]\n",
       "15916    [\\n6\\n]\n",
       "15917    [\\n6\\n]\n",
       "15918        NaN\n",
       "Name: gears, Length: 15919, dtype: object"
      ]
     },
     "execution_count": 230,
     "metadata": {},
     "output_type": "execute_result"
    }
   ],
   "source": [
    "df.gears"
   ]
  },
  {
   "cell_type": "code",
   "execution_count": 231,
   "metadata": {},
   "outputs": [],
   "source": [
    "df['gears'] = df.gears.str[0].str.strip('\\n')"
   ]
  },
  {
   "cell_type": "code",
   "execution_count": 232,
   "metadata": {},
   "outputs": [
    {
     "data": {
      "text/plain": [
       "6      5822\n",
       "NaN    4712\n",
       "5      3239\n",
       "7      1908\n",
       "8       224\n",
       "9         6\n",
       "1         2\n",
       "3         2\n",
       "4         2\n",
       "2         1\n",
       "50        1\n",
       "Name: gears, dtype: int64"
      ]
     },
     "execution_count": 232,
     "metadata": {},
     "output_type": "execute_result"
    }
   ],
   "source": [
    "df.gears.value_counts(dropna=False)\n"
   ]
  },
  {
   "cell_type": "markdown",
   "metadata": {},
   "source": [
    "df.gears and df.gearing_type are two different columns."
   ]
  },
  {
   "cell_type": "markdown",
   "metadata": {},
   "source": [
    "### displacement column:"
   ]
  },
  {
   "cell_type": "markdown",
   "metadata": {},
   "source": [
    "Engine displacement is a determining factor in the horsepower and torque that an engine produces, as well as how much fuel that engine consumes. Generally speaking, the higher an engine’s displacement the more power it can create, while the lower the displacement the less fuel it can consume. This is because displacement has a direct impact on how much fuel must be drawn into a cylinder to create power and maintain engine operation. A high-displacement engine draws in more of the air/fuel mixture per revolution; therefore more fuel is consumed. \n",
    "\n",
    "In some countries vehicles are taxed based on engine displacement. This is not the case in the United States, however generally speaking higher-displacement engines are more costly, as they are more resource and labor intensive to design and manufacture.\n",
    "\n",
    "https://www.yourmechanic.com/article/what-is-engine-displacement#:~:text=Engine%20displacement%20is%20the%20combined,)%2C%20and%20number%20of%20cylinders."
   ]
  },
  {
   "cell_type": "code",
   "execution_count": 233,
   "metadata": {},
   "outputs": [
    {
     "data": {
      "text/plain": [
       "[\\n1,598 cc\\n]    4761\n",
       "[\\n999 cc\\n]      2438\n",
       "[\\n1,398 cc\\n]    1314\n",
       "[\\n1,399 cc\\n]     749\n",
       "[\\n1,229 cc\\n]     677\n",
       "                  ... \n",
       "[\\n122 cc\\n]         1\n",
       "[\\n1,198 cc\\n]       1\n",
       "[\\n1,195 cc\\n]       1\n",
       "[\\n2,967 cc\\n]       1\n",
       "[\\n1,800 cc\\n]       1\n",
       "Name: displacement, Length: 78, dtype: int64"
      ]
     },
     "execution_count": 233,
     "metadata": {},
     "output_type": "execute_result"
    }
   ],
   "source": [
    "df.displacement.value_counts(dropna=False)"
   ]
  },
  {
   "cell_type": "code",
   "execution_count": 234,
   "metadata": {},
   "outputs": [
    {
     "data": {
      "text/plain": [
       "0        1,422 cc\n",
       "1        1,798 cc\n",
       "2        1,598 cc\n",
       "3        1,422 cc\n",
       "4        1,422 cc\n",
       "           ...   \n",
       "15914    1,997 cc\n",
       "15915    1,798 cc\n",
       "15916    1,997 cc\n",
       "15917    1,997 cc\n",
       "15918    1,798 cc\n",
       "Name: displacement, Length: 15919, dtype: object"
      ]
     },
     "execution_count": 234,
     "metadata": {},
     "output_type": "execute_result"
    }
   ],
   "source": [
    "df.displacement.str[0].str.strip('\\n')\n"
   ]
  },
  {
   "cell_type": "code",
   "execution_count": 235,
   "metadata": {},
   "outputs": [],
   "source": [
    "df['displacement_cc'] = df.displacement.str[0].str.replace(',', '').str.strip('\\n').str.strip('cc')\n"
   ]
  },
  {
   "cell_type": "code",
   "execution_count": 236,
   "metadata": {},
   "outputs": [
    {
     "data": {
      "text/plain": [
       "1598     4761\n",
       "999      2438\n",
       "1398     1314\n",
       "1399      749\n",
       "1229      677\n",
       "         ... \n",
       "122         1\n",
       "1198        1\n",
       "1195        1\n",
       "2967        1\n",
       "1800        1\n",
       "Name: displacement_cc, Length: 78, dtype: int64"
      ]
     },
     "execution_count": 236,
     "metadata": {},
     "output_type": "execute_result"
    }
   ],
   "source": [
    "df.displacement_cc.value_counts(dropna=False)\n"
   ]
  },
  {
   "cell_type": "code",
   "execution_count": 237,
   "metadata": {},
   "outputs": [
    {
     "data": {
      "text/plain": [
       "0        1422 \n",
       "1        1798 \n",
       "2        1598 \n",
       "3        1422 \n",
       "4        1422 \n",
       "         ...  \n",
       "15914    1997 \n",
       "15915    1798 \n",
       "15916    1997 \n",
       "15917    1997 \n",
       "15918    1798 \n",
       "Name: displacement_cc, Length: 15919, dtype: object"
      ]
     },
     "execution_count": 237,
     "metadata": {},
     "output_type": "execute_result"
    }
   ],
   "source": [
    "df.displacement_cc"
   ]
  },
  {
   "cell_type": "code",
   "execution_count": 238,
   "metadata": {},
   "outputs": [],
   "source": [
    "df.drop('displacement', axis=1, inplace=True)"
   ]
  },
  {
   "cell_type": "code",
   "execution_count": 239,
   "metadata": {},
   "outputs": [
    {
     "data": {
      "text/plain": [
       "Index(['make_model', 'body_type', 'price', 'vat', 'km', 'previous_owners',\n",
       "       'next_inspection', 'inspection_new', 'body_color', 'paint_type',\n",
       "       'num_of_doors', 'num_of_seats', 'gearing_type', 'cylinders', 'weight',\n",
       "       'drive_chain', 'fuel', 'consumption', 'co2_emission', 'emission_class',\n",
       "       'comfort_convenience', 'entertainment_media', 'extras',\n",
       "       'safety_security', 'description', 'emission_label', 'gears',\n",
       "       'country_version', 'electricity_consumption', 'last_service_date',\n",
       "       'other_fuel_types', 'availability', 'last_timing_belt_service_date',\n",
       "       'available_from', 'age', 'hp_kw', 'type', 'warranty_months',\n",
       "       'upholstery_type', 'upholstery_color', 'displacement_cc'],\n",
       "      dtype='object')"
      ]
     },
     "execution_count": 239,
     "metadata": {},
     "output_type": "execute_result"
    }
   ],
   "source": [
    "df.columns\n"
   ]
  },
  {
   "cell_type": "markdown",
   "metadata": {},
   "source": [
    "### cylinders column:"
   ]
  },
  {
   "cell_type": "code",
   "execution_count": 240,
   "metadata": {},
   "outputs": [
    {
     "data": {
      "text/plain": [
       "[\\n4\\n]    8105\n",
       "NaN        5680\n",
       "[\\n3\\n]    2104\n",
       "[\\n5\\n]      22\n",
       "[\\n6\\n]       3\n",
       "[\\n8\\n]       2\n",
       "[\\n2\\n]       2\n",
       "[\\n1\\n]       1\n",
       "Name: cylinders, dtype: int64"
      ]
     },
     "execution_count": 240,
     "metadata": {},
     "output_type": "execute_result"
    }
   ],
   "source": [
    "df.cylinders.value_counts(dropna=False)"
   ]
  },
  {
   "cell_type": "code",
   "execution_count": 241,
   "metadata": {},
   "outputs": [],
   "source": [
    "df['cylinders'] = df.cylinders.str[0].str.strip('\\n')"
   ]
  },
  {
   "cell_type": "code",
   "execution_count": 242,
   "metadata": {},
   "outputs": [
    {
     "data": {
      "text/plain": [
       "4      8105\n",
       "NaN    5680\n",
       "3      2104\n",
       "5        22\n",
       "6         3\n",
       "8         2\n",
       "2         2\n",
       "1         1\n",
       "Name: cylinders, dtype: int64"
      ]
     },
     "execution_count": 242,
     "metadata": {},
     "output_type": "execute_result"
    }
   ],
   "source": [
    "df.cylinders.value_counts(dropna=False)"
   ]
  },
  {
   "cell_type": "code",
   "execution_count": 243,
   "metadata": {},
   "outputs": [
    {
     "data": {
      "text/plain": [
       "Index(['make_model', 'body_type', 'price', 'vat', 'km', 'previous_owners',\n",
       "       'next_inspection', 'inspection_new', 'body_color', 'paint_type',\n",
       "       'num_of_doors', 'num_of_seats', 'gearing_type', 'cylinders', 'weight',\n",
       "       'drive_chain', 'fuel', 'consumption', 'co2_emission', 'emission_class',\n",
       "       'comfort_convenience', 'entertainment_media', 'extras',\n",
       "       'safety_security', 'description', 'emission_label', 'gears',\n",
       "       'country_version', 'electricity_consumption', 'last_service_date',\n",
       "       'other_fuel_types', 'availability', 'last_timing_belt_service_date',\n",
       "       'available_from', 'age', 'hp_kw', 'type', 'warranty_months',\n",
       "       'upholstery_type', 'upholstery_color', 'displacement_cc'],\n",
       "      dtype='object')"
      ]
     },
     "execution_count": 243,
     "metadata": {},
     "output_type": "execute_result"
    }
   ],
   "source": [
    "df.columns"
   ]
  },
  {
   "cell_type": "code",
   "execution_count": null,
   "metadata": {},
   "outputs": [],
   "source": []
  },
  {
   "cell_type": "markdown",
   "metadata": {},
   "source": [
    "### weight column:"
   ]
  },
  {
   "cell_type": "code",
   "execution_count": 244,
   "metadata": {},
   "outputs": [
    {
     "data": {
      "text/plain": [
       "[\\n1,163 kg\\n]    574\n",
       "[\\n1,360 kg\\n]    356\n",
       "[\\n1,165 kg\\n]    301\n",
       "[\\n1,335 kg\\n]    242\n",
       "[\\n1,135 kg\\n]    213\n",
       "                 ... \n",
       "[\\n1,331 kg\\n]      1\n",
       "[\\n1,132 kg\\n]      1\n",
       "[\\n1,252 kg\\n]      1\n",
       "[\\n1,792 kg\\n]      1\n",
       "[\\n2,037 kg\\n]      1\n",
       "Name: weight, Length: 434, dtype: int64"
      ]
     },
     "execution_count": 244,
     "metadata": {},
     "output_type": "execute_result"
    }
   ],
   "source": [
    "df.weight.value_counts(dropna=True)"
   ]
  },
  {
   "cell_type": "code",
   "execution_count": 245,
   "metadata": {},
   "outputs": [
    {
     "data": {
      "text/plain": [
       "0        \\n1,220 kg\\n\n",
       "1        \\n1,255 kg\\n\n",
       "2                 NaN\n",
       "3        \\n1,195 kg\\n\n",
       "4                 NaN\n",
       "             ...     \n",
       "15914    \\n1,758 kg\\n\n",
       "15915    \\n1,708 kg\\n\n",
       "15916             NaN\n",
       "15917    \\n1,758 kg\\n\n",
       "15918    \\n1,685 kg\\n\n",
       "Name: weight, Length: 15919, dtype: object"
      ]
     },
     "execution_count": 245,
     "metadata": {},
     "output_type": "execute_result"
    }
   ],
   "source": [
    "df.weight.str[0]\n"
   ]
  },
  {
   "cell_type": "code",
   "execution_count": 246,
   "metadata": {},
   "outputs": [],
   "source": [
    "df['weight_kg'] = df.weight.str[0].str.replace(',', '').str.strip('\\n').str.strip('kg')\n"
   ]
  },
  {
   "cell_type": "code",
   "execution_count": 247,
   "metadata": {},
   "outputs": [
    {
     "data": {
      "text/plain": [
       "1163     574\n",
       "1360     356\n",
       "1165     301\n",
       "1335     242\n",
       "1135     213\n",
       "        ... \n",
       "1331       1\n",
       "1132       1\n",
       "1252       1\n",
       "1792       1\n",
       "2037       1\n",
       "Name: weight_kg, Length: 434, dtype: int64"
      ]
     },
     "execution_count": 247,
     "metadata": {},
     "output_type": "execute_result"
    }
   ],
   "source": [
    "df.weight_kg.value_counts(dropna=True)\n"
   ]
  },
  {
   "cell_type": "markdown",
   "metadata": {},
   "source": [
    "weight and price, are they related? Does weight have an effect on price?\n",
    "\n",
    "A vehicle’s weight is an important factor in how much fuel it will consume. The heavier the vehicle, the more energy it needs to get moving. Extra weight also increases a vehicle’s rolling resistance, which is a force that resists forward motion produced as the wheels roll over the road.\n",
    "\n",
    "This means that reducing weight is a very effective way to lower a vehicle’s fuel consumption.\n",
    "https://www.nrcan.gc.ca/energy-efficiency/transportation-alternative-fuels/personal-vehicles/choosing-right-vehicle/tips-buying-fuel-efficient-vehicle/factors-affect-fuel-efficiency/vehicle-weight/21024"
   ]
  },
  {
   "cell_type": "code",
   "execution_count": 248,
   "metadata": {},
   "outputs": [],
   "source": [
    "df.drop('weight', axis=1, inplace=True)"
   ]
  },
  {
   "cell_type": "code",
   "execution_count": 249,
   "metadata": {},
   "outputs": [
    {
     "data": {
      "text/plain": [
       "Index(['make_model', 'body_type', 'price', 'vat', 'km', 'previous_owners',\n",
       "       'next_inspection', 'inspection_new', 'body_color', 'paint_type',\n",
       "       'num_of_doors', 'num_of_seats', 'gearing_type', 'cylinders',\n",
       "       'drive_chain', 'fuel', 'consumption', 'co2_emission', 'emission_class',\n",
       "       'comfort_convenience', 'entertainment_media', 'extras',\n",
       "       'safety_security', 'description', 'emission_label', 'gears',\n",
       "       'country_version', 'electricity_consumption', 'last_service_date',\n",
       "       'other_fuel_types', 'availability', 'last_timing_belt_service_date',\n",
       "       'available_from', 'age', 'hp_kw', 'type', 'warranty_months',\n",
       "       'upholstery_type', 'upholstery_color', 'displacement_cc', 'weight_kg'],\n",
       "      dtype='object')"
      ]
     },
     "execution_count": 249,
     "metadata": {},
     "output_type": "execute_result"
    }
   ],
   "source": [
    "df.columns"
   ]
  },
  {
   "cell_type": "markdown",
   "metadata": {},
   "source": [
    "### drive_chain column:"
   ]
  },
  {
   "cell_type": "code",
   "execution_count": 250,
   "metadata": {},
   "outputs": [
    {
     "data": {
      "text/plain": [
       "[\\nfront\\n]    8886\n",
       "NaN            6858\n",
       "[\\n4WD\\n]       171\n",
       "[\\nrear\\n]        4\n",
       "Name: drive_chain, dtype: int64"
      ]
     },
     "execution_count": 250,
     "metadata": {},
     "output_type": "execute_result"
    }
   ],
   "source": [
    "df.drive_chain.value_counts(dropna=False)"
   ]
  },
  {
   "cell_type": "code",
   "execution_count": 251,
   "metadata": {},
   "outputs": [],
   "source": [
    "df['drive_chain'] = df.drive_chain.str[0].str.strip('\\n')\n"
   ]
  },
  {
   "cell_type": "code",
   "execution_count": 252,
   "metadata": {},
   "outputs": [
    {
     "data": {
      "text/plain": [
       "front    8886\n",
       "NaN      6858\n",
       "4WD       171\n",
       "rear        4\n",
       "Name: drive_chain, dtype: int64"
      ]
     },
     "execution_count": 252,
     "metadata": {},
     "output_type": "execute_result"
    }
   ],
   "source": [
    "df.drive_chain.value_counts(dropna=False)\n"
   ]
  },
  {
   "cell_type": "markdown",
   "metadata": {},
   "source": [
    "### fuel column:"
   ]
  },
  {
   "cell_type": "code",
   "execution_count": 253,
   "metadata": {},
   "outputs": [
    {
     "data": {
      "text/plain": [
       "[\\n, Diesel (Particulate Filter), \\n]                                                                                  4315\n",
       "[\\n, Super 95, \\n]                                                                                                     3338\n",
       "[\\n, Gasoline, \\n]                                                                                                     3175\n",
       "[\\n, Diesel, \\n]                                                                                                       2984\n",
       "[\\n, Super 95 / Regular/Benzine 91, \\n]                                                                                 424\n",
       "                                                                                                                       ... \n",
       "[\\n, Regular/Benzine 91 / Super 95 / Regular/Benzine E10 91, \\n]                                                          1\n",
       "[\\n, Super Plus 98 / Super E10 95, \\n]                                                                                    1\n",
       "[\\n, Regular/Benzine 91 / Super 95 / Regular/Benzine E10 91 / Super E10 95 / Super Plus 98 / Super Plus E10 98, \\n]       1\n",
       "[\\n, Regular/Benzine 91 / Super Plus 98 / Regular/Benzine E10 91 / Super 95 / Super E10 95 / Super Plus E10 98, \\n]       1\n",
       "[\\n, Super Plus 98 / Super 95 / Super Plus E10 98, \\n]                                                                    1\n",
       "Name: fuel, Length: 77, dtype: int64"
      ]
     },
     "execution_count": 253,
     "metadata": {},
     "output_type": "execute_result"
    }
   ],
   "source": [
    "df.fuel.value_counts(dropna=False)"
   ]
  },
  {
   "cell_type": "markdown",
   "metadata": {},
   "source": [
    "i need the first value of each row"
   ]
  },
  {
   "cell_type": "code",
   "execution_count": 254,
   "metadata": {},
   "outputs": [],
   "source": [
    "df['fuel'] = df.fuel.str[1]"
   ]
  },
  {
   "cell_type": "code",
   "execution_count": 255,
   "metadata": {},
   "outputs": [
    {
     "data": {
      "text/plain": [
       "0                          Diesel (Particulate Filter)\n",
       "1                                             Gasoline\n",
       "2                          Diesel (Particulate Filter)\n",
       "3                          Diesel (Particulate Filter)\n",
       "4                          Diesel (Particulate Filter)\n",
       "                             ...                      \n",
       "15914                      Diesel (Particulate Filter)\n",
       "15915    Super 95 / Super Plus 98 (Particulate Filter)\n",
       "15916                                           Diesel\n",
       "15917                                           Diesel\n",
       "15918                                         Super 95\n",
       "Name: fuel, Length: 15919, dtype: object"
      ]
     },
     "execution_count": 255,
     "metadata": {},
     "output_type": "execute_result"
    }
   ],
   "source": [
    "df.fuel"
   ]
  },
  {
   "cell_type": "code",
   "execution_count": 256,
   "metadata": {},
   "outputs": [],
   "source": [
    "df['fuel'] = df.fuel.str.split('/').str[0].str.strip()\n"
   ]
  },
  {
   "cell_type": "code",
   "execution_count": 257,
   "metadata": {},
   "outputs": [
    {
     "data": {
      "text/plain": [
       "Diesel (Particulate Filter)          4315\n",
       "Super 95                             4100\n",
       "Gasoline                             3175\n",
       "Diesel                               2984\n",
       "Regular                               503\n",
       "Super E10 95                          402\n",
       "Super 95 (Particulate Filter)         268\n",
       "Gasoline (Particulate Filter)          77\n",
       "CNG                                    33\n",
       "LPG                                    16\n",
       "Super Plus 98                          11\n",
       "Liquid petroleum gas (LPG)             10\n",
       "Super E10 95 (Particulate Filter)       7\n",
       "Electric                                5\n",
       "Others                                  5\n",
       "CNG (Particulate Filter)                3\n",
       "Super Plus E10 98                       2\n",
       "Others (Particulate Filter)             1\n",
       "Biogas                                  1\n",
       "Domestic gas H                          1\n",
       "Name: fuel, dtype: int64"
      ]
     },
     "execution_count": 257,
     "metadata": {},
     "output_type": "execute_result"
    }
   ],
   "source": [
    "df.fuel.value_counts(dropna=False)\n"
   ]
  },
  {
   "cell_type": "markdown",
   "metadata": {},
   "source": [
    "I don't want the data in parentheses"
   ]
  },
  {
   "cell_type": "code",
   "execution_count": 258,
   "metadata": {},
   "outputs": [],
   "source": [
    "df['fuel'] = df.fuel.str.split('(').str[0].str.strip()\n"
   ]
  },
  {
   "cell_type": "code",
   "execution_count": 259,
   "metadata": {},
   "outputs": [
    {
     "data": {
      "text/plain": [
       "Diesel                  7299\n",
       "Super 95                4368\n",
       "Gasoline                3252\n",
       "Regular                  503\n",
       "Super E10 95             409\n",
       "CNG                       36\n",
       "LPG                       16\n",
       "Super Plus 98             11\n",
       "Liquid petroleum gas      10\n",
       "Others                     6\n",
       "Electric                   5\n",
       "Super Plus E10 98          2\n",
       "Biogas                     1\n",
       "Domestic gas H             1\n",
       "Name: fuel, dtype: int64"
      ]
     },
     "execution_count": 259,
     "metadata": {},
     "output_type": "execute_result"
    }
   ],
   "source": [
    "df.fuel.value_counts(dropna=False)\n"
   ]
  },
  {
   "cell_type": "markdown",
   "metadata": {},
   "source": [
    "it will be better if i group the data"
   ]
  },
  {
   "cell_type": "code",
   "execution_count": 260,
   "metadata": {},
   "outputs": [],
   "source": [
    "benzine = ['Gasoline', 'Super 95', 'Regular', 'Super E10 95', 'Super E10 95 (Particulate Filter)', 'Super Plus 98', 'Super Plus E10 98', 'Others']\n",
    "lpg = ['LPG', 'Liquid petroleum gas', 'CNG', 'Biogas', 'Domestic gas H']\n",
    "def fueltype(x):\n",
    "    if x in benzine:\n",
    "        return 'Benzine'\n",
    "    elif x in lpg:\n",
    "        return 'LPG/CNG'\n",
    "    else:\n",
    "        return x"
   ]
  },
  {
   "cell_type": "code",
   "execution_count": 261,
   "metadata": {},
   "outputs": [],
   "source": [
    "df['fuel'] = df.fuel.apply(fueltype)\n"
   ]
  },
  {
   "cell_type": "code",
   "execution_count": 262,
   "metadata": {},
   "outputs": [
    {
     "data": {
      "text/plain": [
       "Benzine     8551\n",
       "Diesel      7299\n",
       "LPG/CNG       64\n",
       "Electric       5\n",
       "Name: fuel, dtype: int64"
      ]
     },
     "execution_count": 262,
     "metadata": {},
     "output_type": "execute_result"
    }
   ],
   "source": [
    "df.fuel.value_counts(dropna=False)\n"
   ]
  },
  {
   "cell_type": "code",
   "execution_count": 263,
   "metadata": {},
   "outputs": [
    {
     "data": {
      "text/plain": [
       "Index(['make_model', 'body_type', 'price', 'vat', 'km', 'previous_owners',\n",
       "       'next_inspection', 'inspection_new', 'body_color', 'paint_type',\n",
       "       'num_of_doors', 'num_of_seats', 'gearing_type', 'cylinders',\n",
       "       'drive_chain', 'fuel', 'consumption', 'co2_emission', 'emission_class',\n",
       "       'comfort_convenience', 'entertainment_media', 'extras',\n",
       "       'safety_security', 'description', 'emission_label', 'gears',\n",
       "       'country_version', 'electricity_consumption', 'last_service_date',\n",
       "       'other_fuel_types', 'availability', 'last_timing_belt_service_date',\n",
       "       'available_from', 'age', 'hp_kw', 'type', 'warranty_months',\n",
       "       'upholstery_type', 'upholstery_color', 'displacement_cc', 'weight_kg'],\n",
       "      dtype='object')"
      ]
     },
     "execution_count": 263,
     "metadata": {},
     "output_type": "execute_result"
    }
   ],
   "source": [
    "df.columns"
   ]
  },
  {
   "cell_type": "markdown",
   "metadata": {},
   "source": [
    "### consumption column:"
   ]
  },
  {
   "cell_type": "code",
   "execution_count": 264,
   "metadata": {},
   "outputs": [
    {
     "data": {
      "text/plain": [
       "NaN                                                                                   1906\n",
       "[[3.9 l/100 km (comb)], [4.1 l/100 km (city)], [3.7 l/100 km (country)]]               304\n",
       "[[4.2 l/100 km (comb)], [5 l/100 km (city)], [3.7 l/100 km (country)]]                 276\n",
       "[[5.4 l/100 km (comb)], [6.8 l/100 km (city)], [4.5 l/100 km (country)]]               257\n",
       "[[3.8 l/100 km (comb)], [4.3 l/100 km (city)], [3.5 l/100 km (country)]]               253\n",
       "                                                                                      ... \n",
       "[[4.2 l/100 km (comb)], [5.3 l/100 km (city)], [3.6 l/100 km (country)]]                 1\n",
       "[\\n, 5.1 l/100 km (comb), \\n, 6.4 l/100 km (city), \\n, 4.3 l/100 km (country), \\n]       1\n",
       "[[4.6 l/100 km (comb)], [5.4 l/100 km (city)], [6.7 l/100 km (country)]]                 1\n",
       "[\\n, 6.3 l/100 km (comb), \\n, \\n, \\n]                                                    1\n",
       "[\\n, 7.4 l/100 km (comb), \\n, 9.6 l/100 km (city), \\n, 6 l/100 km (country), \\n]         1\n",
       "Name: consumption, Length: 882, dtype: int64"
      ]
     },
     "execution_count": 264,
     "metadata": {},
     "output_type": "execute_result"
    }
   ],
   "source": [
    "df.consumption.value_counts(dropna=False)"
   ]
  },
  {
   "cell_type": "markdown",
   "metadata": {},
   "source": [
    "There are three different pieces of information in each row of this column. \n",
    "---> combination consumption\n",
    "---> city consumption\n",
    "---> country consumption"
   ]
  },
  {
   "cell_type": "markdown",
   "metadata": {},
   "source": [
    "This column has in some rows nested lists."
   ]
  },
  {
   "cell_type": "code",
   "execution_count": 265,
   "metadata": {},
   "outputs": [
    {
     "data": {
      "text/html": [
       "<div><div id=940a4e89-054d-4744-a670-8a8534bd80e1 style=\"display:none; background-color:#9D6CFF; color:white; width:200px; height:30px; padding-left:5px; border-radius:4px; flex-direction:row; justify-content:space-around; align-items:center;\" onmouseover=\"this.style.backgroundColor='#BA9BF8'\" onmouseout=\"this.style.backgroundColor='#9D6CFF'\" onclick=\"window.commands?.execute('create-mitosheet-from-dataframe-output');\">See Full Dataframe in Mito</div> <script> if (window.commands?.hasCommand('create-mitosheet-from-dataframe-output')) document.getElementById('940a4e89-054d-4744-a670-8a8534bd80e1').style.display = 'flex' </script> <table border=\"1\" class=\"dataframe\">\n",
       "  <thead>\n",
       "    <tr style=\"text-align: right;\">\n",
       "      <th></th>\n",
       "      <th>consumption</th>\n",
       "    </tr>\n",
       "  </thead>\n",
       "  <tbody>\n",
       "    <tr>\n",
       "      <th>0</th>\n",
       "      <td>[[3.8 l/100 km (comb)], [4.3 l/100 km (city)], [3.5 l/100 km (country)]]</td>\n",
       "    </tr>\n",
       "    <tr>\n",
       "      <th>1</th>\n",
       "      <td>[[5.6 l/100 km (comb)], [7.1 l/100 km (city)], [4.7 l/100 km (country)]]</td>\n",
       "    </tr>\n",
       "    <tr>\n",
       "      <th>2</th>\n",
       "      <td>[[3.8 l/100 km (comb)], [4.4 l/100 km (city)], [3.4 l/100 km (country)]]</td>\n",
       "    </tr>\n",
       "    <tr>\n",
       "      <th>3</th>\n",
       "      <td>[[3.8 l/100 km (comb)], [4.3 l/100 km (city)], [3.5 l/100 km (country)]]</td>\n",
       "    </tr>\n",
       "    <tr>\n",
       "      <th>4</th>\n",
       "      <td>[[4.1 l/100 km (comb)], [4.6 l/100 km (city)], [3.8 l/100 km (country)]]</td>\n",
       "    </tr>\n",
       "    <tr>\n",
       "      <th>...</th>\n",
       "      <td>...</td>\n",
       "    </tr>\n",
       "    <tr>\n",
       "      <th>15914</th>\n",
       "      <td>[[5.3 l/100 km (comb)], [6.2 l/100 km (city)], [4.7 l/100 km (country)]]</td>\n",
       "    </tr>\n",
       "    <tr>\n",
       "      <th>15915</th>\n",
       "      <td>[\\n, 7.4 l/100 km (comb), \\n, 9.2 l/100 km (city), \\n, 6.3 l/100 km (country), \\n]</td>\n",
       "    </tr>\n",
       "    <tr>\n",
       "      <th>15916</th>\n",
       "      <td>[[5.3 l/100 km (comb)], [6.2 l/100 km (city)], [4.7 l/100 km (country)]]</td>\n",
       "    </tr>\n",
       "    <tr>\n",
       "      <th>15917</th>\n",
       "      <td>[[5.3 l/100 km (comb)], [6.2 l/100 km (city)], [4.7 l/100 km (country)]]</td>\n",
       "    </tr>\n",
       "    <tr>\n",
       "      <th>15918</th>\n",
       "      <td>[[6.8 l/100 km (comb)], [8.7 l/100 km (city)], [5.7 l/100 km (country)]]</td>\n",
       "    </tr>\n",
       "  </tbody>\n",
       "</table></div>"
      ],
      "text/plain": [
       "                                             consumption\n",
       "0      [[3.8 l/100 km (comb)], [4.3 l/100 km (city)],...\n",
       "1      [[5.6 l/100 km (comb)], [7.1 l/100 km (city)],...\n",
       "2      [[3.8 l/100 km (comb)], [4.4 l/100 km (city)],...\n",
       "3      [[3.8 l/100 km (comb)], [4.3 l/100 km (city)],...\n",
       "4      [[4.1 l/100 km (comb)], [4.6 l/100 km (city)],...\n",
       "...                                                  ...\n",
       "15914  [[5.3 l/100 km (comb)], [6.2 l/100 km (city)],...\n",
       "15915  [\\n, 7.4 l/100 km (comb), \\n, 9.2 l/100 km (ci...\n",
       "15916  [[5.3 l/100 km (comb)], [6.2 l/100 km (city)],...\n",
       "15917  [[5.3 l/100 km (comb)], [6.2 l/100 km (city)],...\n",
       "15918  [[6.8 l/100 km (comb)], [8.7 l/100 km (city)],...\n",
       "\n",
       "[15919 rows x 1 columns]"
      ]
     },
     "execution_count": 265,
     "metadata": {},
     "output_type": "execute_result"
    }
   ],
   "source": [
    "pd.DataFrame(df.consumption)"
   ]
  },
  {
   "cell_type": "code",
   "execution_count": 266,
   "metadata": {},
   "outputs": [
    {
     "data": {
      "text/plain": [
       "8009     [[4.6 l/100 km (comb)], [5.5 l/100 km (city)],...\n",
       "11366    [[5.1 l/100 km (comb)], [6.1 l/100 km (city)],...\n",
       "8944                                                   NaN\n",
       "9427     [\\n, 5.2 l/100 km (comb), \\n, 6.6 l/100 km (ci...\n",
       "9424     [\\n, 5.2 l/100 km (comb), \\n, 6.6 l/100 km (ci...\n",
       "5593                                                   NaN\n",
       "5141     [[3.9 l/100 km (comb)], [4.1 l/100 km (city)],...\n",
       "7775     [[5.6 l/100 km (comb)], [7.3 l/100 km (city)],...\n",
       "5997     [[7.1 l/100 km (comb)], [9.9 l/100 km (city)],...\n",
       "10742    [[5 l/100 km (comb)], [6.5 l/100 km (city)], [...\n",
       "Name: consumption, dtype: object"
      ]
     },
     "execution_count": 266,
     "metadata": {},
     "output_type": "execute_result"
    }
   ],
   "source": [
    "df.consumption.sample(10)"
   ]
  },
  {
   "cell_type": "code",
   "execution_count": 267,
   "metadata": {},
   "outputs": [],
   "source": [
    "def parser1(x):\n",
    "    if type(x) == float:\n",
    "        return np.nan\n",
    "    elif type(x[0]) == list:\n",
    "        if x[0] != []:\n",
    "            return x[0][0]\n",
    "        else:\n",
    "            return np.nan\n",
    "    else:\n",
    "        return x[1]\n",
    "\n",
    "\n",
    "def parser2(x):\n",
    "    if type(x) == float:\n",
    "        return np.nan\n",
    "    elif type(x[0]) == list:\n",
    "        if x[1] != []:\n",
    "            return x[1][0]\n",
    "        else:\n",
    "            return np.nan\n",
    "    elif x[3].endswith(')'):\n",
    "        return x[3]\n",
    "    else:\n",
    "        return np.nan\n",
    "\n",
    "\n",
    "def parser3(x):\n",
    "    if type(x) == float:\n",
    "        return np.nan\n",
    "    elif type(x[0]) == list:\n",
    "        if x[2] != []:\n",
    "            return x[2][0]\n",
    "        else:\n",
    "            return np.nan\n",
    "    elif type(x[0]) != list and x[3].endswith(')'):\n",
    "        return x[5]\n",
    "    else:\n",
    "        return np.nan\n"
   ]
  },
  {
   "cell_type": "code",
   "execution_count": 268,
   "metadata": {},
   "outputs": [],
   "source": [
    "df['cons_comb'] = df.consumption.apply(parser1).str.extract(\n",
    "    '(\\d{1,2}.\\d|\\d{1,3})')[0].astype(\"float\")\n",
    "df['cons_city'] = df.consumption.apply(parser2).str.extract(\n",
    "    '(\\d{1,2}.\\d|\\d{1,3})')[0].astype(\"float\")\n",
    "df['cons_country'] = df.consumption.apply(parser3).str.extract(\n",
    "    '(\\d{1,2}.\\d|\\d{1,3})')[0].astype(\"float\")\n"
   ]
  },
  {
   "cell_type": "code",
   "execution_count": 269,
   "metadata": {},
   "outputs": [
    {
     "data": {
      "text/plain": [
       "NaN     2033\n",
       "5.4      770\n",
       "3.9      733\n",
       "4.0      713\n",
       "5.1      657\n",
       "        ... \n",
       "33.0       1\n",
       "50.0       1\n",
       "1.0        1\n",
       "46.0       1\n",
       "11.0       1\n",
       "Name: cons_comb, Length: 73, dtype: int64"
      ]
     },
     "execution_count": 269,
     "metadata": {},
     "output_type": "execute_result"
    }
   ],
   "source": [
    "df.cons_comb.value_counts(dropna=False)\n"
   ]
  },
  {
   "cell_type": "code",
   "execution_count": 270,
   "metadata": {},
   "outputs": [
    {
     "data": {
      "text/plain": [
       "NaN     2436\n",
       "5.0      669\n",
       "5.8      633\n",
       "4.5      580\n",
       "4.3      533\n",
       "        ... \n",
       "9.0        1\n",
       "10.5       1\n",
       "16.1       1\n",
       "10.4       1\n",
       "9.7        1\n",
       "Name: cons_city, Length: 87, dtype: int64"
      ]
     },
     "execution_count": 270,
     "metadata": {},
     "output_type": "execute_result"
    }
   ],
   "source": [
    "df.cons_city.value_counts(dropna=False)"
   ]
  },
  {
   "cell_type": "code",
   "execution_count": 271,
   "metadata": {},
   "outputs": [
    {
     "data": {
      "text/plain": [
       "NaN     2376\n",
       "4.2     1178\n",
       "3.7     1089\n",
       "4.4      898\n",
       "4.5      848\n",
       "3.8      802\n",
       "3.9      777\n",
       "4.7      615\n",
       "4.1      592\n",
       "4.0      589\n",
       "3.5      525\n",
       "4.3      520\n",
       "4.6      516\n",
       "3.6      486\n",
       "4.9      481\n",
       "3.1      481\n",
       "3.3      457\n",
       "3.4      353\n",
       "4.8      341\n",
       "5.3      278\n",
       "5.4      239\n",
       "5.1      232\n",
       "5.7      204\n",
       "3.2      180\n",
       "5.6      154\n",
       "3.0      142\n",
       "5.0      130\n",
       "5.2      117\n",
       "6.3       52\n",
       "6.0       42\n",
       "5.5       36\n",
       "10.0      32\n",
       "5.8       30\n",
       "7.7       20\n",
       "6.6       19\n",
       "2.9       16\n",
       "6.4       15\n",
       "2.8        9\n",
       "0.0        9\n",
       "7.3        4\n",
       "44.0       4\n",
       "6.5        4\n",
       "7.0        3\n",
       "7.1        3\n",
       "6.9        2\n",
       "35.0       2\n",
       "37.0       2\n",
       "6.1        2\n",
       "5.9        2\n",
       "6.7        2\n",
       "7.8        2\n",
       "7.6        1\n",
       "42.0       1\n",
       "8.0        1\n",
       "8.6        1\n",
       "10.3       1\n",
       "2.0        1\n",
       "1.0        1\n",
       "Name: cons_country, dtype: int64"
      ]
     },
     "execution_count": 271,
     "metadata": {},
     "output_type": "execute_result"
    }
   ],
   "source": [
    "df.cons_country.value_counts(dropna=False)"
   ]
  },
  {
   "cell_type": "code",
   "execution_count": 272,
   "metadata": {},
   "outputs": [
    {
     "data": {
      "text/plain": [
       "Index(['make_model', 'body_type', 'price', 'vat', 'km', 'previous_owners',\n",
       "       'next_inspection', 'inspection_new', 'body_color', 'paint_type',\n",
       "       'num_of_doors', 'num_of_seats', 'gearing_type', 'cylinders',\n",
       "       'drive_chain', 'fuel', 'consumption', 'co2_emission', 'emission_class',\n",
       "       'comfort_convenience', 'entertainment_media', 'extras',\n",
       "       'safety_security', 'description', 'emission_label', 'gears',\n",
       "       'country_version', 'electricity_consumption', 'last_service_date',\n",
       "       'other_fuel_types', 'availability', 'last_timing_belt_service_date',\n",
       "       'available_from', 'age', 'hp_kw', 'type', 'warranty_months',\n",
       "       'upholstery_type', 'upholstery_color', 'displacement_cc', 'weight_kg',\n",
       "       'cons_comb', 'cons_city', 'cons_country'],\n",
       "      dtype='object')"
      ]
     },
     "execution_count": 272,
     "metadata": {},
     "output_type": "execute_result"
    }
   ],
   "source": [
    "df.columns\n"
   ]
  },
  {
   "cell_type": "markdown",
   "metadata": {},
   "source": [
    "### co2_emission column:"
   ]
  },
  {
   "cell_type": "code",
   "execution_count": 273,
   "metadata": {},
   "outputs": [
    {
     "data": {
      "text/plain": [
       "NaN                            1808\n",
       "[\\n120 g CO2/km (comb)\\n]       740\n",
       "[[], [], []]                    628\n",
       "[\\n99 g CO2/km (comb)\\n]        545\n",
       "[\\n97 g CO2/km (comb)\\n]        537\n",
       "                               ... \n",
       "[\\n14 g CO2/km (comb)\\n]          1\n",
       "[\\n1,060 g CO2/km (comb)\\n]       1\n",
       "[\\n51 g CO2/km (comb)\\n]          1\n",
       "[\\n165 g CO2/km (comb)\\n]         1\n",
       "[\\n193 g CO2/km (comb)\\n]         1\n",
       "Name: co2_emission, Length: 124, dtype: int64"
      ]
     },
     "execution_count": 273,
     "metadata": {},
     "output_type": "execute_result"
    }
   ],
   "source": [
    "df.co2_emission.value_counts(dropna=False)"
   ]
  },
  {
   "cell_type": "code",
   "execution_count": 274,
   "metadata": {
    "scrolled": true,
    "tags": []
   },
   "outputs": [
    {
     "data": {
      "text/plain": [
       "['\\n99 g CO2/km (comb)\\n',\n",
       " '\\n129 g CO2/km (comb)\\n',\n",
       " '\\n99 g CO2/km (comb)\\n',\n",
       " '\\n99 g CO2/km (comb)\\n',\n",
       " '\\n109 g CO2/km (comb)\\n',\n",
       " '\\n92 g CO2/km (comb)\\n',\n",
       " '\\n98 g CO2/km (comb)\\n',\n",
       " '\\n97 g CO2/km (comb)\\n',\n",
       " '\\n97 g CO2/km (comb)\\n',\n",
       " nan,\n",
       " '\\n105 g CO2/km (comb)\\n',\n",
       " '\\n112 g CO2/km (comb)\\n',\n",
       " '\\n112 g CO2/km (comb)\\n',\n",
       " nan,\n",
       " '\\n99 g CO2/km (comb)\\n',\n",
       " '\\n97 g CO2/km (comb)\\n',\n",
       " '\\n92 g CO2/km (comb)\\n',\n",
       " '\\n99 g CO2/km (comb)\\n',\n",
       " '\\n103 g CO2/km (comb)\\n',\n",
       " '\\n99 g CO2/km (comb)\\n',\n",
       " '\\n105 g CO2/km (comb)\\n',\n",
       " '\\n112 g CO2/km (comb)\\n',\n",
       " '\\n112 g CO2/km (comb)\\n',\n",
       " '\\n97 g CO2/km (comb)\\n',\n",
       " '\\n102 g CO2/km (comb)\\n',\n",
       " '\\n97 g CO2/km (comb)\\n',\n",
       " '\\n97 g CO2/km (comb)\\n',\n",
       " '\\n97 g CO2/km (comb)\\n',\n",
       " '\\n99 g CO2/km (comb)\\n',\n",
       " '\\n102 g CO2/km (comb)\\n',\n",
       " nan,\n",
       " '\\n95 g CO2/km (comb)\\n',\n",
       " '\\n104 g CO2/km (comb)\\n',\n",
       " '\\n97 g CO2/km (comb)\\n',\n",
       " '\\n97 g CO2/km (comb)\\n',\n",
       " '\\n104 g CO2/km (comb)\\n',\n",
       " '\\n104 g CO2/km (comb)\\n',\n",
       " '\\n97 g CO2/km (comb)\\n',\n",
       " '\\n97 g CO2/km (comb)\\n',\n",
       " [],\n",
       " '\\n102 g CO2/km (comb)\\n',\n",
       " '\\n91 g CO2/km (comb)\\n',\n",
       " '\\n91 g CO2/km (comb)\\n',\n",
       " [],\n",
       " '\\n94 g CO2/km (comb)\\n',\n",
       " '\\n99 g CO2/km (comb)\\n',\n",
       " '\\n97 g CO2/km (comb)\\n',\n",
       " '\\n97 g CO2/km (comb)\\n',\n",
       " '\\n102 g CO2/km (comb)\\n',\n",
       " '\\n104 g CO2/km (comb)\\n',\n",
       " [],\n",
       " '\\n97 g CO2/km (comb)\\n',\n",
       " '\\n97 g CO2/km (comb)\\n',\n",
       " nan,\n",
       " '\\n99 g CO2/km (comb)\\n',\n",
       " '\\n102 g CO2/km (comb)\\n',\n",
       " '\\n97 g CO2/km (comb)\\n',\n",
       " '\\n102 g CO2/km (comb)\\n',\n",
       " '\\n99 g CO2/km (comb)\\n',\n",
       " '\\n97 g CO2/km (comb)\\n',\n",
       " '\\n97 g CO2/km (comb)\\n',\n",
       " '\\n102 g CO2/km (comb)\\n',\n",
       " '\\n97 g CO2/km (comb)\\n',\n",
       " '\\n102 g CO2/km (comb)\\n',\n",
       " '\\n102 g CO2/km (comb)\\n',\n",
       " '\\n103 g CO2/km (comb)\\n',\n",
       " nan,\n",
       " nan,\n",
       " '\\n102 g CO2/km (comb)\\n',\n",
       " '\\n104 g CO2/km (comb)\\n',\n",
       " nan,\n",
       " '\\n117 g CO2/km (comb)\\n',\n",
       " '\\n102 g CO2/km (comb)\\n',\n",
       " '\\n102 g CO2/km (comb)\\n',\n",
       " '\\n104 g CO2/km (comb)\\n',\n",
       " '\\n99 g CO2/km (comb)\\n',\n",
       " '\\n102 g CO2/km (comb)\\n',\n",
       " '\\n123 g CO2/km (comb)\\n',\n",
       " nan,\n",
       " '\\n99 g CO2/km (comb)\\n',\n",
       " '\\n97 g CO2/km (comb)\\n',\n",
       " '\\n99 g CO2/km (comb)\\n',\n",
       " '\\n102 g CO2/km (comb)\\n',\n",
       " '\\n106 g CO2/km (comb)\\n',\n",
       " '\\n108 g CO2/km (comb)\\n',\n",
       " '\\n104 g CO2/km (comb)\\n',\n",
       " '\\n103 g CO2/km (comb)\\n',\n",
       " '\\n99 g CO2/km (comb)\\n',\n",
       " '\\n117 g CO2/km (comb)\\n',\n",
       " '\\n121 g CO2/km (comb)\\n',\n",
       " '\\n112 g CO2/km (comb)\\n',\n",
       " '\\n104 g CO2/km (comb)\\n',\n",
       " '\\n107 g CO2/km (comb)\\n',\n",
       " '\\n112 g CO2/km (comb)\\n',\n",
       " '\\n103 g CO2/km (comb)\\n',\n",
       " '\\n99 g CO2/km (comb)\\n',\n",
       " '\\n105 g CO2/km (comb)\\n',\n",
       " '\\n105 g CO2/km (comb)\\n',\n",
       " '\\n105 g CO2/km (comb)\\n',\n",
       " '\\n112 g CO2/km (comb)\\n',\n",
       " '\\n105 g CO2/km (comb)\\n',\n",
       " '\\n105 g CO2/km (comb)\\n',\n",
       " '\\n105 g CO2/km (comb)\\n',\n",
       " '\\n105 g CO2/km (comb)\\n',\n",
       " '\\n92 g CO2/km (comb)\\n',\n",
       " '\\n92 g CO2/km (comb)\\n',\n",
       " '\\n92 g CO2/km (comb)\\n',\n",
       " '\\n105 g CO2/km (comb)\\n',\n",
       " '\\n92 g CO2/km (comb)\\n',\n",
       " '\\n103 g CO2/km (comb)\\n',\n",
       " '\\n92 g CO2/km (comb)\\n',\n",
       " '\\n97 g CO2/km (comb)\\n',\n",
       " '\\n103 g CO2/km (comb)\\n',\n",
       " '\\n92 g CO2/km (comb)\\n',\n",
       " '\\n107 g CO2/km (comb)\\n',\n",
       " '\\n112 g CO2/km (comb)\\n',\n",
       " '\\n102 g CO2/km (comb)\\n',\n",
       " '\\n112 g CO2/km (comb)\\n',\n",
       " '\\n101 g CO2/km (comb)\\n',\n",
       " '\\n104 g CO2/km (comb)\\n',\n",
       " '\\n92 g CO2/km (comb)\\n',\n",
       " '\\n102 g CO2/km (comb)\\n',\n",
       " '\\n108 g CO2/km (comb)\\n',\n",
       " '\\n97 g CO2/km (comb)\\n',\n",
       " nan,\n",
       " '\\n102 g CO2/km (comb)\\n',\n",
       " '\\n105 g CO2/km (comb)\\n',\n",
       " '\\n102 g CO2/km (comb)\\n',\n",
       " '\\n113 g CO2/km (comb)\\n',\n",
       " '\\n102 g CO2/km (comb)\\n',\n",
       " '\\n99 g CO2/km (comb)\\n',\n",
       " '\\n105 g CO2/km (comb)\\n',\n",
       " '\\n112 g CO2/km (comb)\\n',\n",
       " '\\n102 g CO2/km (comb)\\n',\n",
       " '\\n103 g CO2/km (comb)\\n',\n",
       " '\\n104 g CO2/km (comb)\\n',\n",
       " '\\n102 g CO2/km (comb)\\n',\n",
       " '\\n102 g CO2/km (comb)\\n',\n",
       " '\\n104 g CO2/km (comb)\\n',\n",
       " '\\n112 g CO2/km (comb)\\n',\n",
       " nan,\n",
       " '\\n105 g CO2/km (comb)\\n',\n",
       " nan,\n",
       " '\\n99 g CO2/km (comb)\\n',\n",
       " '\\n102 g CO2/km (comb)\\n',\n",
       " '\\n99 g CO2/km (comb)\\n',\n",
       " '\\n123 g CO2/km (comb)\\n',\n",
       " '\\n123 g CO2/km (comb)\\n',\n",
       " '\\n103 g CO2/km (comb)\\n',\n",
       " '\\n123 g CO2/km (comb)\\n',\n",
       " nan,\n",
       " '\\n102 g CO2/km (comb)\\n',\n",
       " '\\n109 g CO2/km (comb)\\n',\n",
       " '\\n102 g CO2/km (comb)\\n',\n",
       " '\\n99 g CO2/km (comb)\\n',\n",
       " '\\n112 g CO2/km (comb)\\n',\n",
       " '\\n112 g CO2/km (comb)\\n',\n",
       " '\\n106 g CO2/km (comb)\\n',\n",
       " '\\n97 g CO2/km (comb)\\n',\n",
       " '\\n102 g CO2/km (comb)\\n',\n",
       " '\\n112 g CO2/km (comb)\\n',\n",
       " '\\n102 g CO2/km (comb)\\n',\n",
       " [],\n",
       " '\\n102 g CO2/km (comb)\\n',\n",
       " '\\n112 g CO2/km (comb)\\n',\n",
       " '\\n102 g CO2/km (comb)\\n',\n",
       " nan,\n",
       " '\\n99 g CO2/km (comb)\\n',\n",
       " '\\n102 g CO2/km (comb)\\n',\n",
       " '\\n112 g CO2/km (comb)\\n',\n",
       " nan,\n",
       " '\\n99 g CO2/km (comb)\\n',\n",
       " '\\n106 g CO2/km (comb)\\n',\n",
       " '\\n102 g CO2/km (comb)\\n',\n",
       " '\\n102 g CO2/km (comb)\\n',\n",
       " '\\n99 g CO2/km (comb)\\n',\n",
       " nan,\n",
       " '\\n137 g CO2/km (comb)\\n',\n",
       " '\\n107 g CO2/km (comb)\\n',\n",
       " '\\n112 g CO2/km (comb)\\n',\n",
       " '\\n102 g CO2/km (comb)\\n',\n",
       " '\\n112 g CO2/km (comb)\\n',\n",
       " '\\n102 g CO2/km (comb)\\n',\n",
       " '\\n104 g CO2/km (comb)\\n',\n",
       " '\\n109 g CO2/km (comb)\\n',\n",
       " '\\n104 g CO2/km (comb)\\n',\n",
       " '\\n102 g CO2/km (comb)\\n',\n",
       " '\\n99 g CO2/km (comb)\\n',\n",
       " '\\n99 g CO2/km (comb)\\n',\n",
       " '\\n99 g CO2/km (comb)\\n',\n",
       " '\\n103 g CO2/km (comb)\\n',\n",
       " nan,\n",
       " '\\n102 g CO2/km (comb)\\n',\n",
       " '\\n105 g CO2/km (comb)\\n',\n",
       " '\\n100 g CO2/km (comb)\\n',\n",
       " nan,\n",
       " '\\n102 g CO2/km (comb)\\n',\n",
       " '\\n102 g CO2/km (comb)\\n',\n",
       " [],\n",
       " '\\n102 g CO2/km (comb)\\n',\n",
       " '\\n116 g CO2/km (comb)\\n',\n",
       " '\\n102 g CO2/km (comb)\\n',\n",
       " '\\n112 g CO2/km (comb)\\n',\n",
       " '\\n102 g CO2/km (comb)\\n',\n",
       " '\\n102 g CO2/km (comb)\\n',\n",
       " '\\n104 g CO2/km (comb)\\n',\n",
       " '\\n104 g CO2/km (comb)\\n',\n",
       " '\\n99 g CO2/km (comb)\\n',\n",
       " nan,\n",
       " '\\n101 g CO2/km (comb)\\n',\n",
       " nan,\n",
       " '\\n123 g CO2/km (comb)\\n',\n",
       " '\\n102 g CO2/km (comb)\\n',\n",
       " '\\n102 g CO2/km (comb)\\n',\n",
       " '\\n102 g CO2/km (comb)\\n',\n",
       " '\\n104 g CO2/km (comb)\\n',\n",
       " '\\n121 g CO2/km (comb)\\n',\n",
       " '\\n123 g CO2/km (comb)\\n',\n",
       " '\\n109 g CO2/km (comb)\\n',\n",
       " '\\n104 g CO2/km (comb)\\n',\n",
       " '\\n112 g CO2/km (comb)\\n',\n",
       " '\\n112 g CO2/km (comb)\\n',\n",
       " '\\n112 g CO2/km (comb)\\n',\n",
       " '\\n104 g CO2/km (comb)\\n',\n",
       " '\\n114 g CO2/km (comb)\\n',\n",
       " '\\n123 g CO2/km (comb)\\n',\n",
       " '\\n97 g CO2/km (comb)\\n',\n",
       " '\\n106 g CO2/km (comb)\\n',\n",
       " '\\n112 g CO2/km (comb)\\n',\n",
       " '\\n105 g CO2/km (comb)\\n',\n",
       " '\\n97 g CO2/km (comb)\\n',\n",
       " '\\n112 g CO2/km (comb)\\n',\n",
       " '\\n97 g CO2/km (comb)\\n',\n",
       " nan,\n",
       " '\\n104 g CO2/km (comb)\\n',\n",
       " '\\n104 g CO2/km (comb)\\n',\n",
       " [],\n",
       " '\\n104 g CO2/km (comb)\\n',\n",
       " '\\n102 g CO2/km (comb)\\n',\n",
       " '\\n113 g CO2/km (comb)\\n',\n",
       " '\\n109 g CO2/km (comb)\\n',\n",
       " '\\n102 g CO2/km (comb)\\n',\n",
       " '\\n121 g CO2/km (comb)\\n',\n",
       " '\\n112 g CO2/km (comb)\\n',\n",
       " '\\n99 g CO2/km (comb)\\n',\n",
       " '\\n112 g CO2/km (comb)\\n',\n",
       " '\\n102 g CO2/km (comb)\\n',\n",
       " '\\n97 g CO2/km (comb)\\n',\n",
       " '\\n106 g CO2/km (comb)\\n',\n",
       " '\\n109 g CO2/km (comb)\\n',\n",
       " nan,\n",
       " '\\n105 g CO2/km (comb)\\n',\n",
       " nan,\n",
       " '\\n117 g CO2/km (comb)\\n',\n",
       " '\\n107 g CO2/km (comb)\\n',\n",
       " '\\n102 g CO2/km (comb)\\n',\n",
       " '\\n104 g CO2/km (comb)\\n',\n",
       " '\\n102 g CO2/km (comb)\\n',\n",
       " '\\n104 g CO2/km (comb)\\n',\n",
       " '\\n104 g CO2/km (comb)\\n',\n",
       " '\\n99 g CO2/km (comb)\\n',\n",
       " '\\n97 g CO2/km (comb)\\n',\n",
       " '\\n97 g CO2/km (comb)\\n',\n",
       " '\\n103 g CO2/km (comb)\\n',\n",
       " '\\n99 g CO2/km (comb)\\n',\n",
       " '\\n104 g CO2/km (comb)\\n',\n",
       " '\\n102 g CO2/km (comb)\\n',\n",
       " '\\n112 g CO2/km (comb)\\n',\n",
       " '\\n106 g CO2/km (comb)\\n',\n",
       " '\\n112 g CO2/km (comb)\\n',\n",
       " nan,\n",
       " '\\n99 g CO2/km (comb)\\n',\n",
       " '\\n113 g CO2/km (comb)\\n',\n",
       " '\\n102 g CO2/km (comb)\\n',\n",
       " '\\n102 g CO2/km (comb)\\n',\n",
       " '\\n94 g CO2/km (comb)\\n',\n",
       " nan,\n",
       " '\\n102 g CO2/km (comb)\\n',\n",
       " '\\n102 g CO2/km (comb)\\n',\n",
       " '\\n112 g CO2/km (comb)\\n',\n",
       " '\\n101 g CO2/km (comb)\\n',\n",
       " '\\n112 g CO2/km (comb)\\n',\n",
       " '\\n97 g CO2/km (comb)\\n',\n",
       " '\\n99 g CO2/km (comb)\\n',\n",
       " '\\n102 g CO2/km (comb)\\n',\n",
       " '\\n99 g CO2/km (comb)\\n',\n",
       " [],\n",
       " '\\n92 g CO2/km (comb)\\n',\n",
       " '\\n102 g CO2/km (comb)\\n',\n",
       " '\\n106 g CO2/km (comb)\\n',\n",
       " '\\n106 g CO2/km (comb)\\n',\n",
       " '\\n92 g CO2/km (comb)\\n',\n",
       " '\\n92 g CO2/km (comb)\\n',\n",
       " '\\n92 g CO2/km (comb)\\n',\n",
       " '\\n92 g CO2/km (comb)\\n',\n",
       " '\\n92 g CO2/km (comb)\\n',\n",
       " '\\n92 g CO2/km (comb)\\n',\n",
       " '\\n92 g CO2/km (comb)\\n',\n",
       " '\\n92 g CO2/km (comb)\\n',\n",
       " '\\n102 g CO2/km (comb)\\n',\n",
       " '\\n92 g CO2/km (comb)\\n',\n",
       " '\\n109 g CO2/km (comb)\\n',\n",
       " '\\n92 g CO2/km (comb)\\n',\n",
       " '\\n107 g CO2/km (comb)\\n',\n",
       " '\\n99 g CO2/km (comb)\\n',\n",
       " nan,\n",
       " '\\n94 g CO2/km (comb)\\n',\n",
       " '\\n99 g CO2/km (comb)\\n',\n",
       " '\\n99 g CO2/km (comb)\\n',\n",
       " '\\n102 g CO2/km (comb)\\n',\n",
       " '\\n99 g CO2/km (comb)\\n',\n",
       " '\\n92 g CO2/km (comb)\\n',\n",
       " '\\n92 g CO2/km (comb)\\n',\n",
       " '\\n92 g CO2/km (comb)\\n',\n",
       " '\\n92 g CO2/km (comb)\\n',\n",
       " '\\n92 g CO2/km (comb)\\n',\n",
       " '\\n92 g CO2/km (comb)\\n',\n",
       " '\\n92 g CO2/km (comb)\\n',\n",
       " '\\n92 g CO2/km (comb)\\n',\n",
       " '\\n92 g CO2/km (comb)\\n',\n",
       " '\\n92 g CO2/km (comb)\\n',\n",
       " '\\n92 g CO2/km (comb)\\n',\n",
       " '\\n92 g CO2/km (comb)\\n',\n",
       " '\\n102 g CO2/km (comb)\\n',\n",
       " '\\n92 g CO2/km (comb)\\n',\n",
       " '\\n92 g CO2/km (comb)\\n',\n",
       " '\\n92 g CO2/km (comb)\\n',\n",
       " '\\n107 g CO2/km (comb)\\n',\n",
       " '\\n106 g CO2/km (comb)\\n',\n",
       " '\\n99 g CO2/km (comb)\\n',\n",
       " '\\n107 g CO2/km (comb)\\n',\n",
       " '\\n99 g CO2/km (comb)\\n',\n",
       " '\\n91 g CO2/km (comb)\\n',\n",
       " '\\n99 g CO2/km (comb)\\n',\n",
       " '\\n102 g CO2/km (comb)\\n',\n",
       " '\\n102 g CO2/km (comb)\\n',\n",
       " '\\n104 g CO2/km (comb)\\n',\n",
       " '\\n104 g CO2/km (comb)\\n',\n",
       " '\\n99 g CO2/km (comb)\\n',\n",
       " '\\n104 g CO2/km (comb)\\n',\n",
       " '\\n104 g CO2/km (comb)\\n',\n",
       " '\\n104 g CO2/km (comb)\\n',\n",
       " '\\n104 g CO2/km (comb)\\n',\n",
       " '\\n104 g CO2/km (comb)\\n',\n",
       " '\\n104 g CO2/km (comb)\\n',\n",
       " '\\n104 g CO2/km (comb)\\n',\n",
       " '\\n104 g CO2/km (comb)\\n',\n",
       " nan,\n",
       " [],\n",
       " '\\n104 g CO2/km (comb)\\n',\n",
       " '\\n99 g CO2/km (comb)\\n',\n",
       " '\\n104 g CO2/km (comb)\\n',\n",
       " '\\n104 g CO2/km (comb)\\n',\n",
       " '\\n104 g CO2/km (comb)\\n',\n",
       " '\\n99 g CO2/km (comb)\\n',\n",
       " '\\n107 g CO2/km (comb)\\n',\n",
       " '\\n104 g CO2/km (comb)\\n',\n",
       " '\\n104 g CO2/km (comb)\\n',\n",
       " '\\n104 g CO2/km (comb)\\n',\n",
       " '\\n104 g CO2/km (comb)\\n',\n",
       " '\\n104 g CO2/km (comb)\\n',\n",
       " '\\n94 g CO2/km (comb)\\n',\n",
       " '\\n104 g CO2/km (comb)\\n',\n",
       " nan,\n",
       " '\\n102 g CO2/km (comb)\\n',\n",
       " '\\n112 g CO2/km (comb)\\n',\n",
       " '\\n102 g CO2/km (comb)\\n',\n",
       " '\\n99 g CO2/km (comb)\\n',\n",
       " '\\n112 g CO2/km (comb)\\n',\n",
       " '\\n99 g CO2/km (comb)\\n',\n",
       " '\\n107 g CO2/km (comb)\\n',\n",
       " '\\n106 g CO2/km (comb)\\n',\n",
       " '\\n117 g CO2/km (comb)\\n',\n",
       " '\\n99 g CO2/km (comb)\\n',\n",
       " '\\n99 g CO2/km (comb)\\n',\n",
       " '\\n104 g CO2/km (comb)\\n',\n",
       " '\\n104 g CO2/km (comb)\\n',\n",
       " '\\n104 g CO2/km (comb)\\n',\n",
       " '\\n104 g CO2/km (comb)\\n',\n",
       " '\\n104 g CO2/km (comb)\\n',\n",
       " '\\n102 g CO2/km (comb)\\n',\n",
       " '\\n102 g CO2/km (comb)\\n',\n",
       " '\\n112 g CO2/km (comb)\\n',\n",
       " '\\n104 g CO2/km (comb)\\n',\n",
       " '\\n106 g CO2/km (comb)\\n',\n",
       " '\\n104 g CO2/km (comb)\\n',\n",
       " '\\n102 g CO2/km (comb)\\n',\n",
       " nan,\n",
       " '\\n97 g CO2/km (comb)\\n',\n",
       " '\\n104 g CO2/km (comb)\\n',\n",
       " '\\n102 g CO2/km (comb)\\n',\n",
       " '\\n97 g CO2/km (comb)\\n',\n",
       " '\\n123 g CO2/km (comb)\\n',\n",
       " '\\n105 g CO2/km (comb)\\n',\n",
       " '\\n99 g CO2/km (comb)\\n',\n",
       " '\\n97 g CO2/km (comb)\\n',\n",
       " '\\n100 g CO2/km (comb)\\n',\n",
       " '\\n97 g CO2/km (comb)\\n',\n",
       " '\\n99 g CO2/km (comb)\\n',\n",
       " '\\n102 g CO2/km (comb)\\n',\n",
       " '\\n106 g CO2/km (comb)\\n',\n",
       " '\\n117 g CO2/km (comb)\\n',\n",
       " '\\n99 g CO2/km (comb)\\n',\n",
       " '\\n104 g CO2/km (comb)\\n',\n",
       " nan,\n",
       " '\\n99 g CO2/km (comb)\\n',\n",
       " '\\n102 g CO2/km (comb)\\n',\n",
       " '\\n105 g CO2/km (comb)\\n',\n",
       " '\\n109 g CO2/km (comb)\\n',\n",
       " '\\n121 g CO2/km (comb)\\n',\n",
       " '\\n104 g CO2/km (comb)\\n',\n",
       " '\\n102 g CO2/km (comb)\\n',\n",
       " '\\n97 g CO2/km (comb)\\n',\n",
       " '\\n104 g CO2/km (comb)\\n',\n",
       " '\\n102 g CO2/km (comb)\\n',\n",
       " '\\n102 g CO2/km (comb)\\n',\n",
       " '\\n102 g CO2/km (comb)\\n',\n",
       " '\\n106 g CO2/km (comb)\\n',\n",
       " '\\n99 g CO2/km (comb)\\n',\n",
       " '\\n99 g CO2/km (comb)\\n',\n",
       " '\\n102 g CO2/km (comb)\\n',\n",
       " '\\n104 g CO2/km (comb)\\n',\n",
       " '\\n104 g CO2/km (comb)\\n',\n",
       " '\\n104 g CO2/km (comb)\\n',\n",
       " '\\n102 g CO2/km (comb)\\n',\n",
       " '\\n106 g CO2/km (comb)\\n',\n",
       " '\\n99 g CO2/km (comb)\\n',\n",
       " '\\n102 g CO2/km (comb)\\n',\n",
       " '\\n104 g CO2/km (comb)\\n',\n",
       " '\\n102 g CO2/km (comb)\\n',\n",
       " '\\n104 g CO2/km (comb)\\n',\n",
       " '\\n102 g CO2/km (comb)\\n',\n",
       " '\\n107 g CO2/km (comb)\\n',\n",
       " '\\n102 g CO2/km (comb)\\n',\n",
       " '\\n99 g CO2/km (comb)\\n',\n",
       " nan,\n",
       " '\\n104 g CO2/km (comb)\\n',\n",
       " '\\n102 g CO2/km (comb)\\n',\n",
       " '\\n102 g CO2/km (comb)\\n',\n",
       " '\\n97 g CO2/km (comb)\\n',\n",
       " '\\n97 g CO2/km (comb)\\n',\n",
       " '\\n97 g CO2/km (comb)\\n',\n",
       " '\\n97 g CO2/km (comb)\\n',\n",
       " '\\n97 g CO2/km (comb)\\n',\n",
       " '\\n97 g CO2/km (comb)\\n',\n",
       " '\\n104 g CO2/km (comb)\\n',\n",
       " nan,\n",
       " '\\n97 g CO2/km (comb)\\n',\n",
       " '\\n97 g CO2/km (comb)\\n',\n",
       " '\\n97 g CO2/km (comb)\\n',\n",
       " '\\n97 g CO2/km (comb)\\n',\n",
       " '\\n97 g CO2/km (comb)\\n',\n",
       " '\\n97 g CO2/km (comb)\\n',\n",
       " '\\n102 g CO2/km (comb)\\n',\n",
       " '\\n99 g CO2/km (comb)\\n',\n",
       " '\\n118 g CO2/km (comb)\\n',\n",
       " '\\n97 g CO2/km (comb)\\n',\n",
       " '\\n97 g CO2/km (comb)\\n',\n",
       " '\\n102 g CO2/km (comb)\\n',\n",
       " '\\n91 g CO2/km (comb)\\n',\n",
       " '\\n123 g CO2/km (comb)\\n',\n",
       " nan,\n",
       " '\\n102 g CO2/km (comb)\\n',\n",
       " '\\n104 g CO2/km (comb)\\n',\n",
       " '\\n106 g CO2/km (comb)\\n',\n",
       " '\\n102 g CO2/km (comb)\\n',\n",
       " '\\n97 g CO2/km (comb)\\n',\n",
       " '\\n92 g CO2/km (comb)\\n',\n",
       " '\\n103 g CO2/km (comb)\\n',\n",
       " '\\n103 g CO2/km (comb)\\n',\n",
       " '\\n103 g CO2/km (comb)\\n',\n",
       " '\\n97 g CO2/km (comb)\\n',\n",
       " '\\n97 g CO2/km (comb)\\n',\n",
       " '\\n91 g CO2/km (comb)\\n',\n",
       " '\\n97 g CO2/km (comb)\\n',\n",
       " '\\n98 g CO2/km (comb)\\n',\n",
       " '\\n102 g CO2/km (comb)\\n',\n",
       " '\\n97 g CO2/km (comb)\\n',\n",
       " '\\n97 g CO2/km (comb)\\n',\n",
       " '\\n97 g CO2/km (comb)\\n',\n",
       " '\\n99 g CO2/km (comb)\\n',\n",
       " '\\n97 g CO2/km (comb)\\n',\n",
       " '\\n104 g CO2/km (comb)\\n',\n",
       " '\\n94 g CO2/km (comb)\\n',\n",
       " '\\n97 g CO2/km (comb)\\n',\n",
       " nan,\n",
       " nan,\n",
       " '\\n97 g CO2/km (comb)\\n',\n",
       " nan,\n",
       " '\\n98 g CO2/km (comb)\\n',\n",
       " '\\n109 g CO2/km (comb)\\n',\n",
       " '\\n104 g CO2/km (comb)\\n',\n",
       " '\\n97 g CO2/km (comb)\\n',\n",
       " '\\n104 g CO2/km (comb)\\n',\n",
       " '\\n97 g CO2/km (comb)\\n',\n",
       " '\\n102 g CO2/km (comb)\\n',\n",
       " '\\n97 g CO2/km (comb)\\n',\n",
       " '\\n97 g CO2/km (comb)\\n',\n",
       " '\\n102 g CO2/km (comb)\\n',\n",
       " '\\n97 g CO2/km (comb)\\n',\n",
       " '\\n98 g CO2/km (comb)\\n',\n",
       " '\\n97 g CO2/km (comb)\\n',\n",
       " nan,\n",
       " nan,\n",
       " '\\n102 g CO2/km (comb)\\n',\n",
       " nan,\n",
       " '\\n102 g CO2/km (comb)\\n',\n",
       " '\\n97 g CO2/km (comb)\\n',\n",
       " '\\n114 g CO2/km (comb)\\n',\n",
       " '\\n102 g CO2/km (comb)\\n',\n",
       " '\\n98 g CO2/km (comb)\\n',\n",
       " '\\n102 g CO2/km (comb)\\n',\n",
       " '\\n106 g CO2/km (comb)\\n',\n",
       " '\\n97 g CO2/km (comb)\\n',\n",
       " [],\n",
       " '\\n118 g CO2/km (comb)\\n',\n",
       " '\\n97 g CO2/km (comb)\\n',\n",
       " '\\n97 g CO2/km (comb)\\n',\n",
       " '\\n97 g CO2/km (comb)\\n',\n",
       " '\\n97 g CO2/km (comb)\\n',\n",
       " '\\n97 g CO2/km (comb)\\n',\n",
       " '\\n97 g CO2/km (comb)\\n',\n",
       " '\\n97 g CO2/km (comb)\\n',\n",
       " '\\n102 g CO2/km (comb)\\n',\n",
       " '\\n99 g CO2/km (comb)\\n',\n",
       " '\\n97 g CO2/km (comb)\\n',\n",
       " '\\n97 g CO2/km (comb)\\n',\n",
       " '\\n97 g CO2/km (comb)\\n',\n",
       " [],\n",
       " [],\n",
       " '\\n109 g CO2/km (comb)\\n',\n",
       " '\\n92 g CO2/km (comb)\\n',\n",
       " nan,\n",
       " '\\n99 g CO2/km (comb)\\n',\n",
       " '\\n104 g CO2/km (comb)\\n',\n",
       " '\\n331 g CO2/km (comb)\\n',\n",
       " '\\n106 g CO2/km (comb)\\n',\n",
       " '\\n97 g CO2/km (comb)\\n',\n",
       " '\\n97 g CO2/km (comb)\\n',\n",
       " '\\n97 g CO2/km (comb)\\n',\n",
       " '\\n97 g CO2/km (comb)\\n',\n",
       " '\\n97 g CO2/km (comb)\\n',\n",
       " '\\n97 g CO2/km (comb)\\n',\n",
       " '\\n97 g CO2/km (comb)\\n',\n",
       " '\\n97 g CO2/km (comb)\\n',\n",
       " '\\n97 g CO2/km (comb)\\n',\n",
       " '\\n91 g CO2/km (comb)\\n',\n",
       " '\\n91 g CO2/km (comb)\\n',\n",
       " '\\n106 g CO2/km (comb)\\n',\n",
       " '\\n118 g CO2/km (comb)\\n',\n",
       " '\\n102 g CO2/km (comb)\\n',\n",
       " '\\n91 g CO2/km (comb)\\n',\n",
       " nan,\n",
       " '\\n91 g CO2/km (comb)\\n',\n",
       " '\\n97 g CO2/km (comb)\\n',\n",
       " nan,\n",
       " '\\n97 g CO2/km (comb)\\n',\n",
       " '\\n97 g CO2/km (comb)\\n',\n",
       " '\\n97 g CO2/km (comb)\\n',\n",
       " '\\n97 g CO2/km (comb)\\n',\n",
       " '\\n102 g CO2/km (comb)\\n',\n",
       " '\\n97 g CO2/km (comb)\\n',\n",
       " '\\n97 g CO2/km (comb)\\n',\n",
       " '\\n97 g CO2/km (comb)\\n',\n",
       " '\\n97 g CO2/km (comb)\\n',\n",
       " '\\n97 g CO2/km (comb)\\n',\n",
       " '\\n97 g CO2/km (comb)\\n',\n",
       " '\\n97 g CO2/km (comb)\\n',\n",
       " '\\n102 g CO2/km (comb)\\n',\n",
       " '\\n97 g CO2/km (comb)\\n',\n",
       " nan,\n",
       " '\\n104 g CO2/km (comb)\\n',\n",
       " '\\n97 g CO2/km (comb)\\n',\n",
       " '\\n97 g CO2/km (comb)\\n',\n",
       " '\\n98 g CO2/km (comb)\\n',\n",
       " '\\n97 g CO2/km (comb)\\n',\n",
       " '\\n104 g CO2/km (comb)\\n',\n",
       " '\\n97 g CO2/km (comb)\\n',\n",
       " '\\n97 g CO2/km (comb)\\n',\n",
       " '\\n118 g CO2/km (comb)\\n',\n",
       " '\\n99 g CO2/km (comb)\\n',\n",
       " '\\n97 g CO2/km (comb)\\n',\n",
       " [],\n",
       " '\\n97 g CO2/km (comb)\\n',\n",
       " '\\n97 g CO2/km (comb)\\n',\n",
       " '\\n102 g CO2/km (comb)\\n',\n",
       " '\\n114 g CO2/km (comb)\\n',\n",
       " '\\n97 g CO2/km (comb)\\n',\n",
       " '\\n99 g CO2/km (comb)\\n',\n",
       " '\\n97 g CO2/km (comb)\\n',\n",
       " '\\n99 g CO2/km (comb)\\n',\n",
       " '\\n97 g CO2/km (comb)\\n',\n",
       " '\\n104 g CO2/km (comb)\\n',\n",
       " '\\n97 g CO2/km (comb)\\n',\n",
       " '\\n104 g CO2/km (comb)\\n',\n",
       " nan,\n",
       " '\\n99 g CO2/km (comb)\\n',\n",
       " '\\n97 g CO2/km (comb)\\n',\n",
       " '\\n99 g CO2/km (comb)\\n',\n",
       " '\\n97 g CO2/km (comb)\\n',\n",
       " '\\n102 g CO2/km (comb)\\n',\n",
       " '\\n91 g CO2/km (comb)\\n',\n",
       " '\\n102 g CO2/km (comb)\\n',\n",
       " '\\n97 g CO2/km (comb)\\n',\n",
       " '\\n97 g CO2/km (comb)\\n',\n",
       " nan,\n",
       " '\\n97 g CO2/km (comb)\\n',\n",
       " '\\n97 g CO2/km (comb)\\n',\n",
       " '\\n102 g CO2/km (comb)\\n',\n",
       " '\\n106 g CO2/km (comb)\\n',\n",
       " '\\n115 g CO2/km (comb)\\n',\n",
       " '\\n115 g CO2/km (comb)\\n',\n",
       " '\\n97 g CO2/km (comb)\\n',\n",
       " [],\n",
       " '\\n123 g CO2/km (comb)\\n',\n",
       " '\\n97 g CO2/km (comb)\\n',\n",
       " [],\n",
       " nan,\n",
       " '\\n97 g CO2/km (comb)\\n',\n",
       " '\\n99 g CO2/km (comb)\\n',\n",
       " '\\n97 g CO2/km (comb)\\n',\n",
       " '\\n97 g CO2/km (comb)\\n',\n",
       " '\\n97 g CO2/km (comb)\\n',\n",
       " nan,\n",
       " '\\n102 g CO2/km (comb)\\n',\n",
       " nan,\n",
       " '\\n91 g CO2/km (comb)\\n',\n",
       " '\\n104 g CO2/km (comb)\\n',\n",
       " '\\n97 g CO2/km (comb)\\n',\n",
       " '\\n109 g CO2/km (comb)\\n',\n",
       " '\\n102 g CO2/km (comb)\\n',\n",
       " '\\n104 g CO2/km (comb)\\n',\n",
       " '\\n97 g CO2/km (comb)\\n',\n",
       " '\\n99 g CO2/km (comb)\\n',\n",
       " '\\n97 g CO2/km (comb)\\n',\n",
       " '\\n97 g CO2/km (comb)\\n',\n",
       " [],\n",
       " '\\n97 g CO2/km (comb)\\n',\n",
       " '\\n91 g CO2/km (comb)\\n',\n",
       " '\\n119 g CO2/km (comb)\\n',\n",
       " '\\n97 g CO2/km (comb)\\n',\n",
       " '\\n94 g CO2/km (comb)\\n',\n",
       " '\\n102 g CO2/km (comb)\\n',\n",
       " '\\n97 g CO2/km (comb)\\n',\n",
       " '\\n97 g CO2/km (comb)\\n',\n",
       " '\\n97 g CO2/km (comb)\\n',\n",
       " '\\n91 g CO2/km (comb)\\n',\n",
       " '\\n94 g CO2/km (comb)\\n',\n",
       " '\\n102 g CO2/km (comb)\\n',\n",
       " '\\n97 g CO2/km (comb)\\n',\n",
       " '\\n97 g CO2/km (comb)\\n',\n",
       " '\\n97 g CO2/km (comb)\\n',\n",
       " '\\n97 g CO2/km (comb)\\n',\n",
       " '\\n97 g CO2/km (comb)\\n',\n",
       " '\\n102 g CO2/km (comb)\\n',\n",
       " '\\n90 g CO2/km (comb)\\n',\n",
       " '\\n97 g CO2/km (comb)\\n',\n",
       " '\\n97 g CO2/km (comb)\\n',\n",
       " '\\n97 g CO2/km (comb)\\n',\n",
       " '\\n97 g CO2/km (comb)\\n',\n",
       " '\\n97 g CO2/km (comb)\\n',\n",
       " '\\n97 g CO2/km (comb)\\n',\n",
       " '\\n97 g CO2/km (comb)\\n',\n",
       " '\\n97 g CO2/km (comb)\\n',\n",
       " '\\n97 g CO2/km (comb)\\n',\n",
       " nan,\n",
       " '\\n99 g CO2/km (comb)\\n',\n",
       " '\\n99 g CO2/km (comb)\\n',\n",
       " '\\n97 g CO2/km (comb)\\n',\n",
       " '\\n97 g CO2/km (comb)\\n',\n",
       " [],\n",
       " nan,\n",
       " '\\n94 g CO2/km (comb)\\n',\n",
       " '\\n104 g CO2/km (comb)\\n',\n",
       " nan,\n",
       " '\\n102 g CO2/km (comb)\\n',\n",
       " '\\n97 g CO2/km (comb)\\n',\n",
       " '\\n97 g CO2/km (comb)\\n',\n",
       " '\\n97 g CO2/km (comb)\\n',\n",
       " '\\n102 g CO2/km (comb)\\n',\n",
       " '\\n97 g CO2/km (comb)\\n',\n",
       " '\\n92 g CO2/km (comb)\\n',\n",
       " '\\n97 g CO2/km (comb)\\n',\n",
       " '\\n97 g CO2/km (comb)\\n',\n",
       " '\\n102 g CO2/km (comb)\\n',\n",
       " '\\n104 g CO2/km (comb)\\n',\n",
       " '\\n104 g CO2/km (comb)\\n',\n",
       " '\\n98 g CO2/km (comb)\\n',\n",
       " '\\n102 g CO2/km (comb)\\n',\n",
       " nan,\n",
       " '\\n104 g CO2/km (comb)\\n',\n",
       " '\\n97 g CO2/km (comb)\\n',\n",
       " '\\n99 g CO2/km (comb)\\n',\n",
       " '\\n97 g CO2/km (comb)\\n',\n",
       " '\\n97 g CO2/km (comb)\\n',\n",
       " '\\n97 g CO2/km (comb)\\n',\n",
       " '\\n118 g CO2/km (comb)\\n',\n",
       " '\\n104 g CO2/km (comb)\\n',\n",
       " [],\n",
       " [],\n",
       " '\\n97 g CO2/km (comb)\\n',\n",
       " '\\n97 g CO2/km (comb)\\n',\n",
       " '\\n97 g CO2/km (comb)\\n',\n",
       " [],\n",
       " '\\n97 g CO2/km (comb)\\n',\n",
       " '\\n99 g CO2/km (comb)\\n',\n",
       " '\\n102 g CO2/km (comb)\\n',\n",
       " '\\n108 g CO2/km (comb)\\n',\n",
       " '\\n97 g CO2/km (comb)\\n',\n",
       " '\\n108 g CO2/km (comb)\\n',\n",
       " [],\n",
       " '\\n90 g CO2/km (comb)\\n',\n",
       " '\\n97 g CO2/km (comb)\\n',\n",
       " '\\n136 g CO2/km (comb)\\n',\n",
       " '\\n97 g CO2/km (comb)\\n',\n",
       " '\\n97 g CO2/km (comb)\\n',\n",
       " '\\n102 g CO2/km (comb)\\n',\n",
       " '\\n97 g CO2/km (comb)\\n',\n",
       " '\\n104 g CO2/km (comb)\\n',\n",
       " '\\n97 g CO2/km (comb)\\n',\n",
       " [],\n",
       " '\\n104 g CO2/km (comb)\\n',\n",
       " '\\n97 g CO2/km (comb)\\n',\n",
       " '\\n104 g CO2/km (comb)\\n',\n",
       " '\\n97 g CO2/km (comb)\\n',\n",
       " '\\n97 g CO2/km (comb)\\n',\n",
       " '\\n97 g CO2/km (comb)\\n',\n",
       " '\\n100 g CO2/km (comb)\\n',\n",
       " '\\n97 g CO2/km (comb)\\n',\n",
       " '\\n90 g CO2/km (comb)\\n',\n",
       " '\\n97 g CO2/km (comb)\\n',\n",
       " '\\n102 g CO2/km (comb)\\n',\n",
       " '\\n108 g CO2/km (comb)\\n',\n",
       " '\\n108 g CO2/km (comb)\\n',\n",
       " '\\n108 g CO2/km (comb)\\n',\n",
       " '\\n98 g CO2/km (comb)\\n',\n",
       " '\\n108 g CO2/km (comb)\\n',\n",
       " '\\n108 g CO2/km (comb)\\n',\n",
       " '\\n108 g CO2/km (comb)\\n',\n",
       " '\\n108 g CO2/km (comb)\\n',\n",
       " '\\n108 g CO2/km (comb)\\n',\n",
       " [],\n",
       " '\\n108 g CO2/km (comb)\\n',\n",
       " '\\n108 g CO2/km (comb)\\n',\n",
       " '\\n134 g CO2/km (comb)\\n',\n",
       " '\\n104 g CO2/km (comb)\\n',\n",
       " '\\n97 g CO2/km (comb)\\n',\n",
       " '\\n99 g CO2/km (comb)\\n',\n",
       " '\\n92 g CO2/km (comb)\\n',\n",
       " '\\n105 g CO2/km (comb)\\n',\n",
       " [],\n",
       " '\\n94 g CO2/km (comb)\\n',\n",
       " '\\n97 g CO2/km (comb)\\n',\n",
       " '\\n97 g CO2/km (comb)\\n',\n",
       " '\\n97 g CO2/km (comb)\\n',\n",
       " '\\n97 g CO2/km (comb)\\n',\n",
       " '\\n97 g CO2/km (comb)\\n',\n",
       " '\\n98 g CO2/km (comb)\\n',\n",
       " '\\n97 g CO2/km (comb)\\n',\n",
       " '\\n102 g CO2/km (comb)\\n',\n",
       " '\\n97 g CO2/km (comb)\\n',\n",
       " '\\n98 g CO2/km (comb)\\n',\n",
       " '\\n91 g CO2/km (comb)\\n',\n",
       " '\\n97 g CO2/km (comb)\\n',\n",
       " '\\n97 g CO2/km (comb)\\n',\n",
       " '\\n118 g CO2/km (comb)\\n',\n",
       " '\\n99 g CO2/km (comb)\\n',\n",
       " [],\n",
       " '\\n97 g CO2/km (comb)\\n',\n",
       " '\\n129 g CO2/km (comb)\\n',\n",
       " '\\n94 g CO2/km (comb)\\n',\n",
       " '\\n102 g CO2/km (comb)\\n',\n",
       " '\\n97 g CO2/km (comb)\\n',\n",
       " '\\n99 g CO2/km (comb)\\n',\n",
       " '\\n104 g CO2/km (comb)\\n',\n",
       " '\\n94 g CO2/km (comb)\\n',\n",
       " '\\n104 g CO2/km (comb)\\n',\n",
       " '\\n97 g CO2/km (comb)\\n',\n",
       " '\\n102 g CO2/km (comb)\\n',\n",
       " '\\n97 g CO2/km (comb)\\n',\n",
       " '\\n99 g CO2/km (comb)\\n',\n",
       " '\\n99 g CO2/km (comb)\\n',\n",
       " '\\n99 g CO2/km (comb)\\n',\n",
       " '\\n102 g CO2/km (comb)\\n',\n",
       " '\\n94 g CO2/km (comb)\\n',\n",
       " '\\n102 g CO2/km (comb)\\n',\n",
       " '\\n99 g CO2/km (comb)\\n',\n",
       " '\\n105 g CO2/km (comb)\\n',\n",
       " '\\n99 g CO2/km (comb)\\n',\n",
       " '\\n105 g CO2/km (comb)\\n',\n",
       " '\\n94 g CO2/km (comb)\\n',\n",
       " '\\n97 g CO2/km (comb)\\n',\n",
       " [],\n",
       " '\\n104 g CO2/km (comb)\\n',\n",
       " '\\n97 g CO2/km (comb)\\n',\n",
       " '\\n97 g CO2/km (comb)\\n',\n",
       " '\\n105 g CO2/km (comb)\\n',\n",
       " '\\n97 g CO2/km (comb)\\n',\n",
       " '\\n102 g CO2/km (comb)\\n',\n",
       " '\\n97 g CO2/km (comb)\\n',\n",
       " '\\n97 g CO2/km (comb)\\n',\n",
       " '\\n105 g CO2/km (comb)\\n',\n",
       " '\\n94 g CO2/km (comb)\\n',\n",
       " '\\n115 g CO2/km (comb)\\n',\n",
       " '\\n97 g CO2/km (comb)\\n',\n",
       " '\\n110 g CO2/km (comb)\\n',\n",
       " '\\n104 g CO2/km (comb)\\n',\n",
       " '\\n97 g CO2/km (comb)\\n',\n",
       " '\\n97 g CO2/km (comb)\\n',\n",
       " '\\n97 g CO2/km (comb)\\n',\n",
       " nan,\n",
       " nan,\n",
       " '\\n97 g CO2/km (comb)\\n',\n",
       " '\\n98 g CO2/km (comb)\\n',\n",
       " '\\n97 g CO2/km (comb)\\n',\n",
       " '\\n97 g CO2/km (comb)\\n',\n",
       " nan,\n",
       " '\\n97 g CO2/km (comb)\\n',\n",
       " '\\n97 g CO2/km (comb)\\n',\n",
       " nan,\n",
       " '\\n104 g CO2/km (comb)\\n',\n",
       " '\\n94 g CO2/km (comb)\\n',\n",
       " '\\n97 g CO2/km (comb)\\n',\n",
       " '\\n115 g CO2/km (comb)\\n',\n",
       " '\\n91 g CO2/km (comb)\\n',\n",
       " nan,\n",
       " nan,\n",
       " '\\n97 g CO2/km (comb)\\n',\n",
       " nan,\n",
       " '\\n97 g CO2/km (comb)\\n',\n",
       " '\\n104 g CO2/km (comb)\\n',\n",
       " '\\n102 g CO2/km (comb)\\n',\n",
       " '\\n109 g CO2/km (comb)\\n',\n",
       " '\\n109 g CO2/km (comb)\\n',\n",
       " '\\n97 g CO2/km (comb)\\n',\n",
       " '\\n97 g CO2/km (comb)\\n',\n",
       " '\\n104 g CO2/km (comb)\\n',\n",
       " '\\n97 g CO2/km (comb)\\n',\n",
       " '\\n97 g CO2/km (comb)\\n',\n",
       " '\\n97 g CO2/km (comb)\\n',\n",
       " '\\n97 g CO2/km (comb)\\n',\n",
       " '\\n97 g CO2/km (comb)\\n',\n",
       " '\\n97 g CO2/km (comb)\\n',\n",
       " nan,\n",
       " '\\n99 g CO2/km (comb)\\n',\n",
       " '\\n97 g CO2/km (comb)\\n',\n",
       " '\\n97 g CO2/km (comb)\\n',\n",
       " '\\n97 g CO2/km (comb)\\n',\n",
       " '\\n98 g CO2/km (comb)\\n',\n",
       " '\\n97 g CO2/km (comb)\\n',\n",
       " '\\n91 g CO2/km (comb)\\n',\n",
       " '\\n97 g CO2/km (comb)\\n',\n",
       " '\\n102 g CO2/km (comb)\\n',\n",
       " '\\n102 g CO2/km (comb)\\n',\n",
       " '\\n97 g CO2/km (comb)\\n',\n",
       " '\\n103 g CO2/km (comb)\\n',\n",
       " '\\n112 g CO2/km (comb)\\n',\n",
       " '\\n102 g CO2/km (comb)\\n',\n",
       " '\\n102 g CO2/km (comb)\\n',\n",
       " '\\n104 g CO2/km (comb)\\n',\n",
       " '\\n104 g CO2/km (comb)\\n',\n",
       " '\\n104 g CO2/km (comb)\\n',\n",
       " '\\n102 g CO2/km (comb)\\n',\n",
       " nan,\n",
       " '\\n117 g CO2/km (comb)\\n',\n",
       " nan,\n",
       " '\\n107 g CO2/km (comb)\\n',\n",
       " '\\n103 g CO2/km (comb)\\n',\n",
       " '\\n105 g CO2/km (comb)\\n',\n",
       " '\\n102 g CO2/km (comb)\\n',\n",
       " '\\n102 g CO2/km (comb)\\n',\n",
       " '\\n104 g CO2/km (comb)\\n',\n",
       " '\\n112 g CO2/km (comb)\\n',\n",
       " nan,\n",
       " '\\n97 g CO2/km (comb)\\n',\n",
       " nan,\n",
       " nan,\n",
       " nan,\n",
       " '\\n99 g CO2/km (comb)\\n',\n",
       " nan,\n",
       " '\\n97 g CO2/km (comb)\\n',\n",
       " nan,\n",
       " '\\n97 g CO2/km (comb)\\n',\n",
       " '\\n97 g CO2/km (comb)\\n',\n",
       " '\\n104 g CO2/km (comb)\\n',\n",
       " '\\n99 g CO2/km (comb)\\n',\n",
       " '\\n98 g CO2/km (comb)\\n',\n",
       " '\\n97 g CO2/km (comb)\\n',\n",
       " '\\n98 g CO2/km (comb)\\n',\n",
       " '\\n98 g CO2/km (comb)\\n',\n",
       " '\\n97 g CO2/km (comb)\\n',\n",
       " nan,\n",
       " '\\n97 g CO2/km (comb)\\n',\n",
       " '\\n102 g CO2/km (comb)\\n',\n",
       " '\\n97 g CO2/km (comb)\\n',\n",
       " '\\n97 g CO2/km (comb)\\n',\n",
       " '\\n97 g CO2/km (comb)\\n',\n",
       " '\\n104 g CO2/km (comb)\\n',\n",
       " '\\n97 g CO2/km (comb)\\n',\n",
       " '\\n97 g CO2/km (comb)\\n',\n",
       " '\\n109 g CO2/km (comb)\\n',\n",
       " nan,\n",
       " '\\n117 g CO2/km (comb)\\n',\n",
       " '\\n97 g CO2/km (comb)\\n',\n",
       " '\\n99 g CO2/km (comb)\\n',\n",
       " '\\n97 g CO2/km (comb)\\n',\n",
       " '\\n97 g CO2/km (comb)\\n',\n",
       " '\\n97 g CO2/km (comb)\\n',\n",
       " nan,\n",
       " '\\n97 g CO2/km (comb)\\n',\n",
       " '\\n102 g CO2/km (comb)\\n',\n",
       " '\\n112 g CO2/km (comb)\\n',\n",
       " '\\n109 g CO2/km (comb)\\n',\n",
       " '\\n113 g CO2/km (comb)\\n',\n",
       " '\\n112 g CO2/km (comb)\\n',\n",
       " '\\n112 g CO2/km (comb)\\n',\n",
       " '\\n102 g CO2/km (comb)\\n',\n",
       " '\\n97 g CO2/km (comb)\\n',\n",
       " '\\n97 g CO2/km (comb)\\n',\n",
       " '\\n112 g CO2/km (comb)\\n',\n",
       " '\\n98 g CO2/km (comb)\\n',\n",
       " '\\n97 g CO2/km (comb)\\n',\n",
       " '\\n97 g CO2/km (comb)\\n',\n",
       " nan,\n",
       " '\\n97 g CO2/km (comb)\\n',\n",
       " '\\n95 g CO2/km (comb)\\n',\n",
       " '\\n97 g CO2/km (comb)\\n',\n",
       " nan,\n",
       " '\\n97 g CO2/km (comb)\\n',\n",
       " '\\n97 g CO2/km (comb)\\n',\n",
       " '\\n97 g CO2/km (comb)\\n',\n",
       " '\\n92 g CO2/km (comb)\\n',\n",
       " '\\n97 g CO2/km (comb)\\n',\n",
       " '\\n98 g CO2/km (comb)\\n',\n",
       " '\\n97 g CO2/km (comb)\\n',\n",
       " '\\n97 g CO2/km (comb)\\n',\n",
       " '\\n100 g CO2/km (comb)\\n',\n",
       " '\\n100 g CO2/km (comb)\\n',\n",
       " '\\n100 g CO2/km (comb)\\n',\n",
       " '\\n98 g CO2/km (comb)\\n',\n",
       " '\\n98 g CO2/km (comb)\\n',\n",
       " '\\n102 g CO2/km (comb)\\n',\n",
       " '\\n109 g CO2/km (comb)\\n',\n",
       " '\\n112 g CO2/km (comb)\\n',\n",
       " '\\n102 g CO2/km (comb)\\n',\n",
       " '\\n129 g CO2/km (comb)\\n',\n",
       " nan,\n",
       " '\\n136 g CO2/km (comb)\\n',\n",
       " '\\n102 g CO2/km (comb)\\n',\n",
       " '\\n123 g CO2/km (comb)\\n',\n",
       " nan,\n",
       " '\\n97 g CO2/km (comb)\\n',\n",
       " nan,\n",
       " '\\n104 g CO2/km (comb)\\n',\n",
       " nan,\n",
       " '\\n121 g CO2/km (comb)\\n',\n",
       " [],\n",
       " '\\n121 g CO2/km (comb)\\n',\n",
       " '\\n112 g CO2/km (comb)\\n',\n",
       " '\\n102 g CO2/km (comb)\\n',\n",
       " '\\n116 g CO2/km (comb)\\n',\n",
       " nan,\n",
       " '\\n107 g CO2/km (comb)\\n',\n",
       " '\\n102 g CO2/km (comb)\\n',\n",
       " '\\n102 g CO2/km (comb)\\n',\n",
       " '\\n102 g CO2/km (comb)\\n',\n",
       " '\\n103 g CO2/km (comb)\\n',\n",
       " '\\n102 g CO2/km (comb)\\n',\n",
       " '\\n103 g CO2/km (comb)\\n',\n",
       " '\\n103 g CO2/km (comb)\\n',\n",
       " '\\n104 g CO2/km (comb)\\n',\n",
       " '\\n112 g CO2/km (comb)\\n',\n",
       " '\\n112 g CO2/km (comb)\\n',\n",
       " '\\n102 g CO2/km (comb)\\n',\n",
       " '\\n110 g CO2/km (comb)\\n',\n",
       " '\\n102 g CO2/km (comb)\\n',\n",
       " '\\n112 g CO2/km (comb)\\n',\n",
       " '\\n110 g CO2/km (comb)\\n',\n",
       " '\\n112 g CO2/km (comb)\\n',\n",
       " nan,\n",
       " nan,\n",
       " [],\n",
       " nan,\n",
       " [],\n",
       " nan,\n",
       " '\\n102 g CO2/km (comb)\\n',\n",
       " [],\n",
       " nan,\n",
       " '\\n102 g CO2/km (comb)\\n',\n",
       " nan,\n",
       " nan,\n",
       " '\\n112 g CO2/km (comb)\\n',\n",
       " nan,\n",
       " '\\n105 g CO2/km (comb)\\n',\n",
       " '\\n102 g CO2/km (comb)\\n',\n",
       " '\\n102 g CO2/km (comb)\\n',\n",
       " '\\n129 g CO2/km (comb)\\n',\n",
       " '\\n104 g CO2/km (comb)\\n',\n",
       " '\\n105 g CO2/km (comb)\\n',\n",
       " '\\n109 g CO2/km (comb)\\n',\n",
       " ...]"
      ]
     },
     "execution_count": 274,
     "metadata": {},
     "output_type": "execute_result"
    }
   ],
   "source": [
    "[item[0] if type(item) == list else item for item in df[\"co2_emission\"]]"
   ]
  },
  {
   "cell_type": "code",
   "execution_count": 275,
   "metadata": {},
   "outputs": [],
   "source": [
    "df[\"co2_emission\"] = [item[0] if type(item) == list else item for item in df[\"co2_emission\"]]\n",
    "df[\"co2_emission\"] = df[\"co2_emission\"].str.strip(\"\\n\").str.rstrip(\" g CO2/km (comb)\").str.replace(\",\", \".\").astype(\"float\")"
   ]
  },
  {
   "cell_type": "code",
   "execution_count": 276,
   "metadata": {},
   "outputs": [
    {
     "data": {
      "text/plain": [
       "NaN        2436\n",
       "120.000     740\n",
       "99.000      545\n",
       "97.000      537\n",
       "104.000     501\n",
       "           ... \n",
       "990.000       1\n",
       "12.324        1\n",
       "1.060         1\n",
       "51.000        1\n",
       "193.000       1\n",
       "Name: co2_emission, Length: 121, dtype: int64"
      ]
     },
     "execution_count": 276,
     "metadata": {},
     "output_type": "execute_result"
    }
   ],
   "source": [
    "df[\"co2_emission\"].value_counts(dropna=False)"
   ]
  },
  {
   "cell_type": "code",
   "execution_count": null,
   "metadata": {},
   "outputs": [],
   "source": []
  },
  {
   "cell_type": "markdown",
   "metadata": {},
   "source": [
    "### emission_class column:"
   ]
  },
  {
   "cell_type": "code",
   "execution_count": 277,
   "metadata": {},
   "outputs": [
    {
     "data": {
      "text/plain": [
       "[\\nEuro 6\\n]          10139\n",
       "NaN                    3021\n",
       "[\\nEuro 6d-TEMP\\n]     1845\n",
       "[[], [], []]            607\n",
       "[\\nEuro 6c\\n]           127\n",
       "[\\nEuro 5\\n]             78\n",
       "[\\nEuro 6d\\n]            62\n",
       "[\\nEuro 4\\n]             40\n",
       "Name: emission_class, dtype: int64"
      ]
     },
     "execution_count": 277,
     "metadata": {},
     "output_type": "execute_result"
    }
   ],
   "source": [
    "df.emission_class.value_counts(dropna=False)"
   ]
  },
  {
   "cell_type": "code",
   "execution_count": 278,
   "metadata": {},
   "outputs": [],
   "source": [
    "df['emission_class'] = [item[0] if type(item) == list else item for item in df.emission_class]"
   ]
  },
  {
   "cell_type": "code",
   "execution_count": 279,
   "metadata": {},
   "outputs": [],
   "source": [
    "df['emission_class'] = df.emission_class.replace('[]', np.nan)\n"
   ]
  },
  {
   "cell_type": "code",
   "execution_count": 280,
   "metadata": {},
   "outputs": [],
   "source": [
    "df['emission_class'] = df.emission_class.str.strip('\\n')\n"
   ]
  },
  {
   "cell_type": "code",
   "execution_count": 281,
   "metadata": {},
   "outputs": [],
   "source": [
    "euro_6 = ['Euro 6', 'Euro 6d-TEMP', 'Euro 6c', 'Euro 6d']\n",
    "\n",
    "def emission(x):\n",
    "    if x in euro_6:\n",
    "        return 'Euro 6'\n",
    "    else:\n",
    "        return x\n"
   ]
  },
  {
   "cell_type": "code",
   "execution_count": 282,
   "metadata": {},
   "outputs": [],
   "source": [
    "df['emission_class'] = df.emission_class.apply(emission)\n"
   ]
  },
  {
   "cell_type": "code",
   "execution_count": 283,
   "metadata": {},
   "outputs": [
    {
     "data": {
      "text/plain": [
       "Euro 6    12173\n",
       "NaN        3628\n",
       "Euro 5       78\n",
       "Euro 4       40\n",
       "Name: emission_class, dtype: int64"
      ]
     },
     "execution_count": 283,
     "metadata": {},
     "output_type": "execute_result"
    }
   ],
   "source": [
    "df.emission_class.value_counts(dropna=False)\n"
   ]
  },
  {
   "cell_type": "markdown",
   "metadata": {},
   "source": [
    "### comfort_convenience column:"
   ]
  },
  {
   "cell_type": "code",
   "execution_count": 284,
   "metadata": {},
   "outputs": [
    {
     "data": {
      "text/plain": [
       "NaN                                                                                                                                                                                                                                                                                                                                                                                                                                                                                                                          920\n",
       "[Air conditioning, Electrical side mirrors, Hill Holder, Power windows]                                                                                                                                                                                                                                                                                                                                                                                                                                                      216\n",
       "[Air conditioning, Electrical side mirrors, Power windows]                                                                                                                                                                                                                                                                                                                                                                                                                                                                   134\n",
       "[Air conditioning, Power windows]                                                                                                                                                                                                                                                                                                                                                                                                                                                                                            130\n",
       "[Air conditioning, Armrest, Automatic climate control, Cruise control, Electrical side mirrors, Leather steering wheel, Light sensor, Lumbar support, Multi-function steering wheel, Navigation system, Park Distance Control, Parking assist system sensors front, Parking assist system sensors rear, Power windows, Rain sensor, Seat heating, Start-stop system]                                                                                                                                                         105\n",
       "                                                                                                                                                                                                                                                                                                                                                                                                                                                                                                                            ... \n",
       "[Air conditioning, Cruise control, Electrical side mirrors, Hill Holder, Leather steering wheel, Light sensor, Multi-function steering wheel, Navigation system, Park Distance Control, Parking assist system sensors rear, Power windows, Rain sensor, Split rear seats, Start-stop system, Tinted windows]                                                                                                                                                                                                                   1\n",
       "[Air conditioning, Armrest, Automatic climate control, Cruise control, Electrical side mirrors, Heated steering wheel, Hill Holder, Leather steering wheel, Light sensor, Lumbar support, Multi-function steering wheel, Navigation system, Park Distance Control, Parking assist system camera, Parking assist system sensors front, Parking assist system sensors rear, Power windows, Rain sensor, Seat heating, Sunroof]                                                                                                   1\n",
       "[Air conditioning, Armrest, Cruise control, Electrical side mirrors, Heated steering wheel, Hill Holder, Leather steering wheel, Light sensor, Multi-function steering wheel, Park Distance Control, Parking assist system camera, Parking assist system sensors front, Parking assist system sensors rear, Power windows, Rain sensor, Seat heating, Split rear seats, Start-stop system, Tinted windows]                                                                                                                     1\n",
       "[Air conditioning, Automatic climate control, Cruise control, Electrical side mirrors, Leather steering wheel, Light sensor, Multi-function steering wheel, Park Distance Control, Parking assist system sensors front, Parking assist system sensors rear, Power windows, Rain sensor, Seat heating]                                                                                                                                                                                                                          1\n",
       "[Air conditioning, Automatic climate control, Cruise control, Electrically heated windshield, Electrical side mirrors, Electric tailgate, Heads-up display, Heated steering wheel, Hill Holder, Keyless central door lock, Leather steering wheel, Light sensor, Lumbar support, Navigation system, Park Distance Control, Parking assist system camera, Parking assist system self-steering, Parking assist system sensors front, Parking assist system sensors rear, Power windows, Rain sensor, Seat heating, Sunroof]      1\n",
       "Name: comfort_convenience, Length: 6199, dtype: int64"
      ]
     },
     "execution_count": 284,
     "metadata": {},
     "output_type": "execute_result"
    }
   ],
   "source": [
    "df.comfort_convenience.value_counts(dropna=False)"
   ]
  },
  {
   "cell_type": "code",
   "execution_count": 285,
   "metadata": {},
   "outputs": [
    {
     "data": {
      "text/plain": [
       "920"
      ]
     },
     "execution_count": 285,
     "metadata": {},
     "output_type": "execute_result"
    }
   ],
   "source": [
    "df.comfort_convenience.isnull().sum()"
   ]
  },
  {
   "cell_type": "code",
   "execution_count": 286,
   "metadata": {},
   "outputs": [],
   "source": [
    "df['comfort_convenience'] = [', '.join(item) if type(item) == list else item for item in df.comfort_convenience]"
   ]
  },
  {
   "cell_type": "code",
   "execution_count": 287,
   "metadata": {},
   "outputs": [
    {
     "data": {
      "text/plain": [
       "NaN                                                                                                                                                                                                                                                                                                                                                                                                                                                                                                                        920\n",
       "Air conditioning, Electrical side mirrors, Hill Holder, Power windows                                                                                                                                                                                                                                                                                                                                                                                                                                                      216\n",
       "Air conditioning, Electrical side mirrors, Power windows                                                                                                                                                                                                                                                                                                                                                                                                                                                                   134\n",
       "Air conditioning, Power windows                                                                                                                                                                                                                                                                                                                                                                                                                                                                                            130\n",
       "Air conditioning, Armrest, Automatic climate control, Cruise control, Electrical side mirrors, Leather steering wheel, Light sensor, Lumbar support, Multi-function steering wheel, Navigation system, Park Distance Control, Parking assist system sensors front, Parking assist system sensors rear, Power windows, Rain sensor, Seat heating, Start-stop system                                                                                                                                                         105\n",
       "                                                                                                                                                                                                                                                                                                                                                                                                                                                                                                                          ... \n",
       "Air conditioning, Cruise control, Electrical side mirrors, Hill Holder, Leather steering wheel, Light sensor, Multi-function steering wheel, Navigation system, Park Distance Control, Parking assist system sensors rear, Power windows, Rain sensor, Split rear seats, Start-stop system, Tinted windows                                                                                                                                                                                                                   1\n",
       "Air conditioning, Armrest, Automatic climate control, Cruise control, Electrical side mirrors, Heated steering wheel, Hill Holder, Leather steering wheel, Light sensor, Lumbar support, Multi-function steering wheel, Navigation system, Park Distance Control, Parking assist system camera, Parking assist system sensors front, Parking assist system sensors rear, Power windows, Rain sensor, Seat heating, Sunroof                                                                                                   1\n",
       "Air conditioning, Armrest, Cruise control, Electrical side mirrors, Heated steering wheel, Hill Holder, Leather steering wheel, Light sensor, Multi-function steering wheel, Park Distance Control, Parking assist system camera, Parking assist system sensors front, Parking assist system sensors rear, Power windows, Rain sensor, Seat heating, Split rear seats, Start-stop system, Tinted windows                                                                                                                     1\n",
       "Air conditioning, Automatic climate control, Cruise control, Electrical side mirrors, Leather steering wheel, Light sensor, Multi-function steering wheel, Park Distance Control, Parking assist system sensors front, Parking assist system sensors rear, Power windows, Rain sensor, Seat heating                                                                                                                                                                                                                          1\n",
       "Air conditioning, Automatic climate control, Cruise control, Electrically heated windshield, Electrical side mirrors, Electric tailgate, Heads-up display, Heated steering wheel, Hill Holder, Keyless central door lock, Leather steering wheel, Light sensor, Lumbar support, Navigation system, Park Distance Control, Parking assist system camera, Parking assist system self-steering, Parking assist system sensors front, Parking assist system sensors rear, Power windows, Rain sensor, Seat heating, Sunroof      1\n",
       "Name: comfort_convenience, Length: 6199, dtype: int64"
      ]
     },
     "execution_count": 287,
     "metadata": {},
     "output_type": "execute_result"
    }
   ],
   "source": [
    "df.comfort_convenience.value_counts(dropna=False)"
   ]
  },
  {
   "cell_type": "code",
   "execution_count": null,
   "metadata": {},
   "outputs": [],
   "source": []
  },
  {
   "cell_type": "markdown",
   "metadata": {},
   "source": [
    "### entertainment_media column:"
   ]
  },
  {
   "cell_type": "code",
   "execution_count": 288,
   "metadata": {},
   "outputs": [
    {
     "data": {
      "text/plain": [
       "NaN                                                                                                           1374\n",
       "[Bluetooth, Hands-free equipment, On-board computer, Radio, USB]                                              1282\n",
       "[Bluetooth, Hands-free equipment, MP3, On-board computer, Radio, USB]                                          982\n",
       "[Bluetooth, CD player, Hands-free equipment, MP3, On-board computer, Radio, USB]                               783\n",
       "[On-board computer, Radio]                                                                                     487\n",
       "                                                                                                              ... \n",
       "[Bluetooth, CD player, Digital radio, Hands-free equipment, Radio]                                               1\n",
       "[CD player, Hands-free equipment, MP3, Radio, USB]                                                               1\n",
       "[MP3, Radio, Sound system, USB]                                                                                  1\n",
       "[Bluetooth, MP3, On-board computer, Radio, Television, USB]                                                      1\n",
       "[Bluetooth, CD player, Hands-free equipment, MP3, On-board computer, Radio, Sound system, Television, USB]       1\n",
       "Name: entertainment_media, Length: 347, dtype: int64"
      ]
     },
     "execution_count": 288,
     "metadata": {},
     "output_type": "execute_result"
    }
   ],
   "source": [
    "df.entertainment_media.value_counts(dropna=False)"
   ]
  },
  {
   "cell_type": "code",
   "execution_count": 289,
   "metadata": {},
   "outputs": [
    {
     "data": {
      "text/plain": [
       "1374"
      ]
     },
     "execution_count": 289,
     "metadata": {},
     "output_type": "execute_result"
    }
   ],
   "source": [
    "df.entertainment_media.isnull().sum()"
   ]
  },
  {
   "cell_type": "code",
   "execution_count": 290,
   "metadata": {},
   "outputs": [],
   "source": [
    "df['entertainment_media'] = [', '.join(item) if type(item) == list else item for item in df.entertainment_media]"
   ]
  },
  {
   "cell_type": "code",
   "execution_count": 291,
   "metadata": {},
   "outputs": [
    {
     "data": {
      "text/plain": [
       "NaN                                                                                                         1374\n",
       "Bluetooth, Hands-free equipment, On-board computer, Radio, USB                                              1282\n",
       "Bluetooth, Hands-free equipment, MP3, On-board computer, Radio, USB                                          982\n",
       "Bluetooth, CD player, Hands-free equipment, MP3, On-board computer, Radio, USB                               783\n",
       "On-board computer, Radio                                                                                     487\n",
       "                                                                                                            ... \n",
       "Bluetooth, CD player, Digital radio, Hands-free equipment, Radio                                               1\n",
       "CD player, Hands-free equipment, MP3, Radio, USB                                                               1\n",
       "MP3, Radio, Sound system, USB                                                                                  1\n",
       "Bluetooth, MP3, On-board computer, Radio, Television, USB                                                      1\n",
       "Bluetooth, CD player, Hands-free equipment, MP3, On-board computer, Radio, Sound system, Television, USB       1\n",
       "Name: entertainment_media, Length: 347, dtype: int64"
      ]
     },
     "execution_count": 291,
     "metadata": {},
     "output_type": "execute_result"
    }
   ],
   "source": [
    "df.entertainment_media.value_counts(dropna=False)"
   ]
  },
  {
   "cell_type": "markdown",
   "metadata": {},
   "source": [
    "### extras column:"
   ]
  },
  {
   "cell_type": "code",
   "execution_count": 292,
   "metadata": {},
   "outputs": [
    {
     "data": {
      "text/plain": [
       "[Alloy wheels]                                                                                                     3245\n",
       "NaN                                                                                                                2962\n",
       "[Alloy wheels, Touch screen]                                                                                        697\n",
       "[Alloy wheels, Voice Control]                                                                                       577\n",
       "[Alloy wheels, Touch screen, Voice Control]                                                                         541\n",
       "                                                                                                                   ... \n",
       "[Alloy wheels, Catalytic Converter, Shift paddles, Sport package, Sport seats, Sport suspension, Voice Control]       1\n",
       "[Alloy wheels, Catalytic Converter, Roof rack, Sport package, Sport seats, Trailer hitch]                             1\n",
       "[Alloy wheels, Catalytic Converter, Ski bag, Sport package, Voice Control]                                            1\n",
       "[Catalytic Converter, Roof rack, Sport seats, Sport suspension]                                                       1\n",
       "[Alloy wheels, Shift paddles, Ski bag, Sport seats, Sport suspension, Touch screen, Voice Control]                    1\n",
       "Name: extras, Length: 660, dtype: int64"
      ]
     },
     "execution_count": 292,
     "metadata": {},
     "output_type": "execute_result"
    }
   ],
   "source": [
    "df.extras.value_counts(dropna=False)"
   ]
  },
  {
   "cell_type": "code",
   "execution_count": 293,
   "metadata": {},
   "outputs": [
    {
     "data": {
      "text/plain": [
       "2962"
      ]
     },
     "execution_count": 293,
     "metadata": {},
     "output_type": "execute_result"
    }
   ],
   "source": [
    "df.extras.isnull().sum()"
   ]
  },
  {
   "cell_type": "code",
   "execution_count": 294,
   "metadata": {},
   "outputs": [],
   "source": [
    "df['extras'] = [', '.join(item) if type(item) == list else item for item in df.extras]"
   ]
  },
  {
   "cell_type": "code",
   "execution_count": 295,
   "metadata": {},
   "outputs": [
    {
     "data": {
      "text/plain": [
       "Alloy wheels                                                                                                     3245\n",
       "NaN                                                                                                              2962\n",
       "Alloy wheels, Touch screen                                                                                        697\n",
       "Alloy wheels, Voice Control                                                                                       577\n",
       "Alloy wheels, Touch screen, Voice Control                                                                         541\n",
       "                                                                                                                 ... \n",
       "Alloy wheels, Catalytic Converter, Shift paddles, Sport package, Sport seats, Sport suspension, Voice Control       1\n",
       "Alloy wheels, Catalytic Converter, Roof rack, Sport package, Sport seats, Trailer hitch                             1\n",
       "Alloy wheels, Catalytic Converter, Ski bag, Sport package, Voice Control                                            1\n",
       "Catalytic Converter, Roof rack, Sport seats, Sport suspension                                                       1\n",
       "Alloy wheels, Shift paddles, Ski bag, Sport seats, Sport suspension, Touch screen, Voice Control                    1\n",
       "Name: extras, Length: 660, dtype: int64"
      ]
     },
     "execution_count": 295,
     "metadata": {},
     "output_type": "execute_result"
    }
   ],
   "source": [
    "df.extras.value_counts(dropna=False)"
   ]
  },
  {
   "cell_type": "code",
   "execution_count": null,
   "metadata": {},
   "outputs": [],
   "source": []
  },
  {
   "cell_type": "markdown",
   "metadata": {},
   "source": [
    "### safety_security column:"
   ]
  },
  {
   "cell_type": "code",
   "execution_count": 296,
   "metadata": {},
   "outputs": [
    {
     "data": {
      "text/plain": [
       "NaN                                                                                                                                                                                                                                                                                                                                                                                  982\n",
       "[ABS, Central door lock, Daytime running lights, Driver-side airbag, Electronic stability control, Fog lights, Immobilizer, Isofix, Passenger-side airbag, Power steering, Side airbag, Tire pressure monitoring system, Traction control]                                                                                                                                           538\n",
       "[ABS, Central door lock, Daytime running lights, Driver-side airbag, Electronic stability control, Immobilizer, Isofix, Passenger-side airbag, Power steering, Side airbag, Tire pressure monitoring system, Traction control]                                                                                                                                                       480\n",
       "[ABS, Central door lock, Daytime running lights, Driver-side airbag, Electronic stability control, Immobilizer, Isofix, Passenger-side airbag, Power steering, Side airbag, Tire pressure monitoring system, Traction control, Xenon headlights]                                                                                                                                     275\n",
       "[ABS, Central door lock, Daytime running lights, Driver-side airbag, Electronic stability control, Fog lights, Immobilizer, Isofix, LED Daytime Running Lights, Passenger-side airbag, Power steering, Side airbag, Tire pressure monitoring system, Traction control]                                                                                                               272\n",
       "                                                                                                                                                                                                                                                                                                                                                                                    ... \n",
       "[ABS, Central door lock, Electronic stability control, Immobilizer, Isofix, Passenger-side airbag, Power steering, Side airbag]                                                                                                                                                                                                                                                        1\n",
       "[ABS, Adaptive Cruise Control, Central door lock, Daytime running lights, Driver-side airbag, Electronic stability control, Emergency brake assistant, Immobilizer, Isofix, Passenger-side airbag, Power steering, Side airbag, Tire pressure monitoring system, Traction control]                                                                                                     1\n",
       "[ABS, Adaptive Cruise Control, Alarm system, Central door lock, Driver-side airbag, Electronic stability control, Fog lights, Immobilizer, Isofix, Lane departure warning system, LED Daytime Running Lights, Passenger-side airbag, Power steering, Side airbag, Tire pressure monitoring system, Traction control, Xenon headlights]                                                 1\n",
       "[ABS, Adaptive Cruise Control, Central door lock, Daytime running lights, Driver-side airbag, Electronic stability control, Fog lights, Immobilizer, Isofix, Power steering, Tire pressure monitoring system, Traction control]                                                                                                                                                        1\n",
       "[ABS, Adaptive Cruise Control, Central door lock, Daytime running lights, Driver-side airbag, Electronic stability control, Emergency brake assistant, Fog lights, Immobilizer, Isofix, Lane departure warning system, LED Daytime Running Lights, LED Headlights, Passenger-side airbag, Power steering, Side airbag, Tire pressure monitoring system, Traffic sign recognition]      1\n",
       "Name: safety_security, Length: 4444, dtype: int64"
      ]
     },
     "execution_count": 296,
     "metadata": {},
     "output_type": "execute_result"
    }
   ],
   "source": [
    "df.safety_security.value_counts(dropna=False)"
   ]
  },
  {
   "cell_type": "code",
   "execution_count": 297,
   "metadata": {},
   "outputs": [
    {
     "data": {
      "text/plain": [
       "982"
      ]
     },
     "execution_count": 297,
     "metadata": {},
     "output_type": "execute_result"
    }
   ],
   "source": [
    "df.safety_security.isnull().sum()"
   ]
  },
  {
   "cell_type": "code",
   "execution_count": 298,
   "metadata": {},
   "outputs": [],
   "source": [
    "df['safety_security'] = [', '.join(item) if type(item) == list else item for item in df.safety_security]"
   ]
  },
  {
   "cell_type": "code",
   "execution_count": 299,
   "metadata": {},
   "outputs": [
    {
     "data": {
      "text/plain": [
       "NaN                                                                                                                                                                                                                                                                                                                                                                                982\n",
       "ABS, Central door lock, Daytime running lights, Driver-side airbag, Electronic stability control, Fog lights, Immobilizer, Isofix, Passenger-side airbag, Power steering, Side airbag, Tire pressure monitoring system, Traction control                                                                                                                                           538\n",
       "ABS, Central door lock, Daytime running lights, Driver-side airbag, Electronic stability control, Immobilizer, Isofix, Passenger-side airbag, Power steering, Side airbag, Tire pressure monitoring system, Traction control                                                                                                                                                       480\n",
       "ABS, Central door lock, Daytime running lights, Driver-side airbag, Electronic stability control, Immobilizer, Isofix, Passenger-side airbag, Power steering, Side airbag, Tire pressure monitoring system, Traction control, Xenon headlights                                                                                                                                     275\n",
       "ABS, Central door lock, Daytime running lights, Driver-side airbag, Electronic stability control, Fog lights, Immobilizer, Isofix, LED Daytime Running Lights, Passenger-side airbag, Power steering, Side airbag, Tire pressure monitoring system, Traction control                                                                                                               272\n",
       "                                                                                                                                                                                                                                                                                                                                                                                  ... \n",
       "ABS, Central door lock, Electronic stability control, Immobilizer, Isofix, Passenger-side airbag, Power steering, Side airbag                                                                                                                                                                                                                                                        1\n",
       "ABS, Adaptive Cruise Control, Central door lock, Daytime running lights, Driver-side airbag, Electronic stability control, Emergency brake assistant, Immobilizer, Isofix, Passenger-side airbag, Power steering, Side airbag, Tire pressure monitoring system, Traction control                                                                                                     1\n",
       "ABS, Adaptive Cruise Control, Alarm system, Central door lock, Driver-side airbag, Electronic stability control, Fog lights, Immobilizer, Isofix, Lane departure warning system, LED Daytime Running Lights, Passenger-side airbag, Power steering, Side airbag, Tire pressure monitoring system, Traction control, Xenon headlights                                                 1\n",
       "ABS, Adaptive Cruise Control, Central door lock, Daytime running lights, Driver-side airbag, Electronic stability control, Fog lights, Immobilizer, Isofix, Power steering, Tire pressure monitoring system, Traction control                                                                                                                                                        1\n",
       "ABS, Adaptive Cruise Control, Central door lock, Daytime running lights, Driver-side airbag, Electronic stability control, Emergency brake assistant, Fog lights, Immobilizer, Isofix, Lane departure warning system, LED Daytime Running Lights, LED Headlights, Passenger-side airbag, Power steering, Side airbag, Tire pressure monitoring system, Traffic sign recognition      1\n",
       "Name: safety_security, Length: 4444, dtype: int64"
      ]
     },
     "execution_count": 299,
     "metadata": {},
     "output_type": "execute_result"
    }
   ],
   "source": [
    "df.safety_security.value_counts(dropna=False)"
   ]
  },
  {
   "cell_type": "markdown",
   "metadata": {},
   "source": [
    "### description column:"
   ]
  },
  {
   "cell_type": "code",
   "execution_count": 300,
   "metadata": {},
   "outputs": [
    {
     "data": {
      "text/plain": [
       "[]                                                                                                                                                                                                                                                                                                                                                                                                                                                                                                                                                                                                                                                                                                                                                                                                                                                                                                                                                                                                                                                                                                                                                                                                                                                                                                                                                                                                                                                                                                                                                                                                                                                                                                                                                                                                                                                                                                                                                                                                                                                                                                                                                                                                                                                                                                                                                                                                                                                                                                                                                                                                                                                                                        636\n",
       "[\\n, \\n]                                                                                                                                                                                                                                                                                                                                                                                                                                                                                                                                                                                                                                                                                                                                                                                                                                                                                                                                                                                                                                                                                                                                                                                                                                                                                                                                                                                                                                                                                                                                                                                                                                                                                                                                                                                                                                                                                                                                                                                                                                                                                                                                                                                                                                                                                                                                                                                                                                                                                                                                                                                                                                                                                   30\n",
       "[\\n, Fahrzeugbeschreibung,  Sichern Sie sich diesen Renault Clio 1.6 TCE Energy Sport Trophy zum Top-Preis inklusive dem , AUTOHERO-RUNDUM-SORGLOS-PAKET,  , Infos:,  1.Hand, deutsche Auslieferung, Unfallfrei, scheckheftgepflegt,  , Highlights,  , Audio-Navigationssystem R-Link Evolution mit Touchscreen und Carminat TomTom,  , Sportsitze ,  , Sportfahrwerk,  , Scheinwerfer Full-LED , Komfort,  , Geschwindigkeits-Regelanlage (Tempomat) ,  , Klimaanlage,  , Einparkhilfe hinten,  , Multifunktionslenkrad (Sport/Leder) mit Schaltwippen/-tasten ,  , Fensterheber elektr. mit Impulsgeber links/rechts vorn,  , Zentralverriegelung / Startanlage Handsfree Entry & Drive ,  , Berganfahr-Assistent (HSA) , Multimedia,  , Audiosystem: Radio R & GO (Bluetooth, DAB-Tuner),  , Bordcomputer,  , Freisprecheinrichtung Bluetooth ,  , USB-Anschluss inkl. AUX-IN-Anschluss (Plug & Music) , Licht und Sicht,  , Außenspiegel elektr. verstell- und heizbar ,  , Licht- und Regensensor ,  , Tagfahrlicht LED ,  , Nebelscheinwerfer LED ,  , Coming-Home-Lichtfunktion ,  , Heckleuchten LED , Sicherheit,  , Isofix-Aufnahmen für Kindersitz ,  , Seitenairbag vorn,  , Wegfahrsperre,  , Differentialsperre,  , Bremsassistent ,  , Elektron. Stabilitäts-Programm (ESP),  , Anti-Blockier-System (ABS),  , Anti-Submarining-Airbag im Fond,  , Airbag Fahrer-/Beifahrerseite ,  , Differentialsperre ,  , Reifendruck-Kontrollsystem ,  , Untersteuerungskontrolle (USC) ,  , Antischlupfregelung (ASR) , Weiteres,  , Start/Stop-Anlage ,  , Servolenkung geschwindigkeitsabhängig,  , R.S. Drive (Fahrmodusschalter) ,  , Gepäckraumabdeckung / Rollo ,  , Heckdiffusor ,  , LM-Felgen ,  , Heckspoiler (Renault Sport) ,  , Pedale Aluminium ,  , Energierückgewinnung (Energy Smart Management) , ...]                                                                                                                                                                                                                                                                                                                                                                                                                                                                                                                                                                                                                                                                                                                                                                                                                                                              27\n",
       "[\\nPosibilidad de prueba del vehículo hasta 5 días. Consultar condiciones. PVP para particulares. Varias unidades y colores disponibles. Precios publicados para vehículos industriales (furgonetas) válidos para compradores autónomos o empresas, consultar condiciones para particulares. Las imágenes y kilómetros pueden no corresponder con el modelo anunciado. Para confirmar póngase en contacto con nuestro departamento comercial. Consulta las excepcionales condiciones de financiación que tenemos disponibles. Precio de venta final IVA y gastos de transferencia incluidos. Horario de atención al cliente: Lunes a Viernes de 09:00 a 18:00.\\n]                                                                                                                                                                                                                                                                                                                                                                                                                                                                                                                                                                                                                                                                                                                                                                                                                                                                                                                                                                                                                                                                                                                                                                                                                                                                                                                                                                                                                                                                                                                                                                                                                                                                                                                                                                                                                                                                                                                                                                                                                          27\n",
       "[\\nSichern Sie sich diesen RENAULT CLIO 1.2 LIMITED zum Top-Preis inklusive dem, AUTOHERO-RUNDUM-SORGLOS-PAKET,  , Infos:,  2.Hand, mindestens 12 Monate gültige HU und AU, deutsche Ausführung, unfallfrei ,  , Highlights,  , Audio-Navigationssystem mit Touchscreen-Farbdisplay, Komfort,  , Klimaanlage ,  , Multifunktionslenkrad in Leder ,  , Berganfahr-Assistent (HSA),  , Fensterheber elektrisch vorn ,  , Geschwindigkeits-Regelanlage (Tempomat) ,  , Heckscheibe heizbar ,  , Sitz vorn links höhenverstellbar,  , Sitz vorn rechts umklappbar ,  , Stau-/Ablagefach im Laderaumboden ,  , Zentralverriegelung mit Fernbedienung , Multimedia,  , Radio R&GO,  , Bluetooth Freisprechanlage ,  , USB-/AUX-Schnittstelle ,  , Bordcomputer,  , Licht und Sicht,  , Tagfahrlicht LED ,  , Außenspiegel elektrisch verstell- und heizbar, Sicherheit,  , Airbag für Fahrer und Beifahrer,  , Beifahrerairbag deaktivierbar ,  , Seitenairbags vorn ,  , Kopfairbagsystem,  , Anti-Blockier-System (ABS),  , Elektronische Bremskraftverteilung ,  , Elektronische Stabilitäts-Programm (ESP) ,  , Reifen-Reparaturkit ,  , Reifendruck-Kontrollsystem ,  , Untersteuerungskontrolle (USC) ,  , ISOFIX Kindersitzverankerung , Weiteres,  , Dachreling silber ,  , Look-Paket Chrom (außen) ,  , Look-Paket Grau (innen) ,  , R&GO-Paket ,  , Style-Paket ,  Ihr , AUTOHERO-RUNDUM-SORGLOS-PAKET,  beinhaltet:, Kostenlose Lieferung in Ihre Nähe, Optische & technische Aufbereitung, Mindestens 12 Monate gültige HU und AU, 1-Jahr-Premium-Garantie, Zulassung inklusive , 14-Tage-Rückgaberecht, Markenunabhängige Inzahlungnahme , Individuelle Finanzierungen zu fairen Konditionen,  , HIER GEHT ES ZUR 360° - ANSICHT DES FAHRZEUGES:, :, https://www.autohero.com/de/renault-clio-1-2-limited/id/30f99516-8785-47e7-a4a3-6cdac4d8e633/,  , Haftungsausschluss, :, Für Angaben vom Verkäufer, des Herstellers oder von Datenbankabfragen übernimmt Autohero keine Haftung. Änderungen, Zwischenverkauf und Irrtümer sind vorbehalten.\\n]                                                                                                                                                                                                                                                                                                                                                                                                                                                                                                                                                                                                                                27\n",
       "                                                                                                                                                                                                                                                                                                                                                                                                                                                                                                                                                                                                                                                                                                                                                                                                                                                                                                                                                                                                                                                                                                                                                                                                                                                                                                                                                                                                                                                                                                                                                                                                                                                                                                                                                                                                                                                                                                                                                                                                                                                                                                                                                                                                                                                                                                                                                                                                                                                                                                                                                                                                                                                                                         ... \n",
       "[\\nPratica 67374, Airbag fullsize per conducente e passeggero, Alzacristalli elettrici ant. e post. con funzione attivaz. a pressione, Assetto dinamico, Audi drive select, Inserti in micrometallic argento, Kit riparazione pneumatici, Pacchetto di navigazione, Piano di copertura del vano bagagli estraibile, Presa AUX-IN, Proiettori allo Xenon Plus con reg. aut. prof. fari, Lavafari, Rivestimenti dei sedili in tessuto, Serbatoio AdBlue, Sistema controllo pressione pneumatici, Sistema di ancoraggio ISOFIX e 3° punto di ancoraggio Top Tether sui sedili post. laterali, Sistema di informazioni per il conducente con display monocromatico, Tappetini anteriori e posteriori, Versione Business, Volante sportivo multifunzionale in pelle 3 razze, ABS, EBV (Ripartitore elettronico della forza frenante), Airbag laterali anteriori integrati negli schienali dei sedili, Airbag per la testa, Airbag per le ginocchia (lato conducente), Appoggiatesta anteriori (2) e posteriori (3) regolabili, Radio MMI plus, Interfaccia Bluetooth, Appoggiabraccia centrale anteriore, Cambio manuale, Cerchi in lega 7 J x 16\" a 5 razze a stella, Chiusura centralizzata con telecomando, Regolatore di velocità, ESC - Sistema elettronico di controllo della stabilizzazione con bloccaggio trasversale elettronico, ASR - Dispositivo di controllo della trazione, EDS (Dispositivo antislittamento in partenza), Filtro anti particolato, Cinture di sicurezza con pretensionatore, Specchietti retrovisivi esterni riscaldabili e ripiegabili elettricamente, Schienale del sedile posteriore ribaltabile (divisibile in rapporto 40:60 o ribaltabile completam.), Sistema di ausilio al parcheggio posteriore, Servosterzo elettromeccanico, Tergilunotto\\n]                                                                                                                                                                                                                                                                                                                                                                                                                                                                                                                                                                                                                                                                                                                                                                                                                                                                                                          1\n",
       "[\\n, Getriebe:,  Schaltgetriebe, Technik:,  Bordcomputer, Start-Stop-Automatik, Assistenten:,  Regensensor, Lichtsensor, Berganfahrassistent, Komfort:,  Servolenkung, Zentralverriegelung, Elektrischer Fensterheber, Sitzheizung, Elektrische Aussenspiegel, Teilbare Ruecksitzlehne, Tempomat, Park Distance Control, Multifunktionslenkrad, Innenspiegel autom. abblendbar, Mittelarmlehne, Innenraumfilter, Lenksaeule einstellbar, Sportsitze, Klimaautomatik-2-Zonen, Sicht:,  Xenon Scheinwerfer, Colorverglasung, Scheinwerferreinigung, Aussenspiegel beheizbar, Privacyverglasung, Sicherheit:,  ABS, Airbag, Beifahrer-Airbag, Wegfahrsperre, Seitenairbags, ESP, Antriebsschlupfregelung, Reifendruckkontrolle, Traktionskontrolle, Kopfairbag, Knieairbag, Kindersitzbefestigung, Pannenkit, Entertainment:,  CD, Radio, AUX-In, USB-Anschluss, MP3, Bluetooth, Freisprecheinrichtung, Umwelt:,  Grüne Umweltplakette, , Energieeffizienzklasse B, Qualität:,  Garantie, Scheckheftgepflegt, HUAU neu, Nichtraucherfahrzeug, Sonstiges:,  Metallic, Alufelgen, Dachreling, Gepaeckraumabdeckung, Stossfaenger in Wagenfarbe, Sportfahrwerk, Weiteres:,  Connectivity-Paket inkl. Bluetooth-Schnittstelle, Klimaautomatik 2-Zonen, Optik-Paket schwarz Audi exclusive, Einparkhilfe (APS), Verglasung hinten abgedunkelt, Sitzheizung vorn, Dachreling (Aluminium), Soundsystem DSP / Audi Sound-System, Ablage- und Gepäckraum-Paket, Audi music interface, Scheibenwaschdüsen heizbar, Vorbereitung Navigationssystem, Adaptives Bremslicht, Anfahr-Assistent (hold assist), Antriebsart: Frontantrieb, Audi Drive Select, Außenspiegel Wagenfarbe, Blinkleuchten LED in Außenspiegel integriert, Bremsanlage mit Rekuperation - Bremsenergierückgewinnung, Bremsassistent, Dachspoiler, Dekoreinlagen Aluminium Mistral, Einstiegsleisten Aluminium, Elektron. Differentialsperre (EDS), Elektron. Stabilitätskontrolle (ESC), Elektron. Stabilitäts-Programm, Euro 6, Fahrer-Informations-System (FIS), Fensterheber elektrisch vorn und hinten, Frontscheibe Akustikglas, Fußmatten Velours, Getriebe 6-Gang, Heckscheibe heizbar, Interieur Aluminium-Optik, Isofix-Aufnahmen für Kindersitz, Kopfstützen hinten, Multi-Media-Interface MMI, Parkbremse elektro-mechanisch, Polster: Stoff Rallye, Servolenkung elektro-mechanisch, Sitze vorn mit ausziehbarer Oberschenkelauflage, Sitzhöhenverstellung, Sport/Lederlenkrad, Sport-Fahrwerk, Start/Stop-Anlage, Telefon-Vorbereitung mit Bluetooth-Schnittstelle, Wagenheber, Wärmeschutzverglasung, Xenon Plus, ZV mit Fernbedienung, ... Änderungen, Zwischenverkauf und Irrtümer vorbehalten.,  by CG360.de\\n]      1\n",
       "[\\n, Getriebe, 6-Gang, Licht und Sicht, Xenon-Scheinwerfer Plus (Abblend- und Fernlicht), Technik und Sicherheit, Fahrerairbag, Airbag Fahrer-/Beifahrerseite, Seitenairbag vorn, Kopfairbags, Anti-Blockier-System (ABS), Elektron. Stabilitätskontrolle (ESC), Elektron. Differentialsperre (EDS), Zentralverriegelung mit Fernbedienung, Schließ-/Startsystem Advanced Key (Komfortschlüssel), Servolenkung elektro-mechanisch, Geschwindigkeits-Regelanlage (Tempomat), Elektronische Wegfahrsperre, Bordcomputer, Reifendruck-Kontrollsystem, Assistenzsysteme, Fahrassistenz-System: Anfahr-Assistent (hold assist), Multimedia, Multi-Media-Interface MMI Basic Plus / MMI Radio Plus, Audi Smartphone Interface, Komfort, Komfort-Klimaautomatik 2-Zonen, Einparkhilfe hinten (APS), Fensterheber elektrisch, Licht- und Regensensor, Außenspiegel elektr. verstellbar beide, Scheibenwaschdüsen und Außenspiegel beheizt, Wärmeschutzverglasung grün getönt, Innenausstattung, Sitzheizung vorn, Lenkrad (Sport/Leder - 3-Speichen) mit Multifunktion, Mittelarmlehne vorn, Rücksitzlehne geteilt/klappbar, Aussenausstattung, LM-Felgen, Pakete, Komfort-Paket, Sonstiges, Rußpartikelfilter, Scheckheftgepflegt, Nichtraucherfahrzeug, Weitere Informationen, Schadstoffklasse: EURO 6D-TEMP, Connectivity-Paket, Glanz-Paket, LM-Felgen 7.5x17 (5-Speichen Y-Design), Progressivlenkung, Antriebs-Schlupfregelung (ASR), Elektron. Stabilitäts-Programm (ESP), Getriebe 6-Gang, Lenkrad (Sport - 3-Speichen), Parkbremse elektro-mechanisch, Sitze vorn höhenverstellbar, Vorrüstung Mobiltelefon/Handy mit Bluetooth-Schnittstelle, Audi music interface, Außenspiegel elektr. verstell- und heizbar beide, Vorbereitung Navigationssystem, Irrtümer und Änderungen vorbehalten., Die im Internet angebotene Ausstattung ist kein Vertragsbestandteil., Die Ausstattung muss vor Ort geprüft werden., Das angebotene Fahrzeug kann von einer Rückrufaktion betroffen sein. Co2 Angaben können abweichen., \\n]                                                                                                                                                                                                                                                                                                                                                                                                                                                                                                                                                                                                                                                                  1\n",
       "[\\n, Aluminium-Gussräder im 5-Speichen-Stern-Design Größe 7 J x 16 mit Reifen 205/55 R 16, Dachreling eloxiert, Einparkhilfe hinten, Fahrerinformationssystem mit Farbdisplay, Lederlenkrad im 3-Speichen-Design mit Multifunktion plus, Ablage-/Gepäckraumpaket mit erweitertem USB-Buchsen-Angebot, Lichtpaket, Reifen 16', Anlaufvariante RdW, Vorbereitung für Anhängevorrichtung, Audi sound system, Reifen 205/55 R16 91W, Xenon plus, Allwetterlicht, Kopfstützen hinten (3 Stück), MMI Radio plus, Zentralverriegelung mit Funkschlüssel, Bluetooth-Schnittstelle, Innenspiegel abblendbar, elektronische Stabilisierungskontrolle (ESC), Airbags, 6-Gang-Schaltgetriebe, Seitenairbags vorn und Kopfairbagsystem, elektromechanische Servolenkung, Leuchtweitenregulierung automatisch-statisch, Scheibenwaschdüsen beheizbar vorn, Reifendruck-Kontrollanzeige, Tagfahrlicht, Start-Stop-System, AUX-IN-Anschluss, Kindersitzverankerung ISOFIX und Top Tether für die äußeren Fondsitze, Sitzbezüge in Stoff Index, Wärmeschutzverglasung, Akustikfrontscheibe, Außenspiegel links asphärisch, Außen-Sound Standard, Außenspiegel rechts (großes Sichtfeld) konvex, elektromechanische Parkbremse, Dachhimmel in Stoff felsgrau, Kraftstoffsystem Otto-Einspritzer, Linkslenker, Reifenreparaturset, Heckleuchten, Scheibenwaschanlage, Entriegelung Hintersitz Standard, Waschwasserstandsanzeige, Abgaskonzept EU6 AG/H/I, Frontantrieb, A3, Außenspiegelgehäuse in Wagenfarbe, Ohne erweitertem Sicherheitssystem, Geschwindigkeitsbegrenzungsanlage, Dachkantenspoiler, Heckscheibenwischer, Sportback, Kindersicherung manuell, Ohne Kamerasysteme/Umfeldsensorik, 4-Zyl. Ottomotor 1 5 L/110KW TSI Grundmotor ist: TJ7/N09/T9F, Nebelschlussleuchten, Nichtraucherausführung, Radstand, Doppeltonfanfare, Serienfahrwerk, 4 Türen, Modellbezeichnung gemäß neuer Leistungskennzeichnung, Warnleuchten, Zierleisten schwarz, Nichtraucherfahrzeug, Irrtümer Änderungen und Zwischenverkauf vorbehalten, sehr guter Zustand, Komfortklima, Aussenspiegel heizbar, elektrische Aussenspiegel, geteilte Rückbank, Scheckheft gepflegt, Fahrersitz höhenverstellbar, Beifahrersitz höhenverstellbar, \\n]                                                                                                                                                                                                                                                                                                                                                                                                                                                                        1\n",
       "[\\nDEK:[2691331], Renault Espace Blue dCi 200CV EDC Business, Nuova da Immatricolare, COLORE: Grigio Titanio, INTERNO: Pelle+Tessuto, TRASMISSIONE: Cambio Automatico EDC, ---, ACCESSORI: , 7 Posti, , , Cerchi in Lega 17, Navigatore con Display 8.7, Clima Automatico, Sensori di Parcheggio Anteriori e Posteriori con Retrocamera, Fari Full LED Pure Vision, Cruise Control, Renault Multisense, ---, Listino Nuovo 44.300 Euro, Prezzo Gruppo Carmeli: 39.700 Euro (Esclusa IPT e Messa in Strada), IVA Esposta, In caso di Adesione alla PROMO GRUPPO CARMELI puoi Averla a 36.000 Euro, Contattaci per scoprire tutti i vantaggi della PROMO GRUPPO CARMELI, ____________________________________, Gruppo Carmeli S.p.A. è Concessionaria e Service ufficiale dei Marchi Renault, Dacia, Nissan, Mercedes e Smart per la provincia di Brescia e Bergamo ed opera nel mercato dell’auto da più di 40 anni., Nelle sedi di Brescia (Nissan e Renault-Dacia Autospazio), di Coccaglio (Renault-Dacia e Nissan) e di Bergamo (Nissan) oltre a tutta la gamma di veicoli dei Marchi rappresentati, propone anche 2.000 auto a Km Zero e Aziendali di tutte le marche., Offriamo Servizi:, -VALUTAZIONE e PERMUTA del tuo USATO, -ACQUISTO con pagamento immediato del tuo USATO, -FINANZIAMENTI e LEASING agevolati, -NOLEGGIO A LUNGO TERMINE di veicoli di tutte le marche, -PACCHETTI ASSICURATIVI su misura con possibilità di garanzia del valore a Nuovo, ____________________________________, Sebbene sia stato fatto ogni ragionevole sforzo per assicurare l'esattezza delle informazioni riportate, vi potrebbero essere involontarie incongruenze riguardanti le immagini e la descrizione degli accessori, che pertanto non rappresentano vincolo contrattuale. Per ulteriori informazioni sulle condizioni economiche ti invitiamo a contattarci., \\n]                                                                                                                                                                                                                                                                                                                                                                                                                                                                                                                                                                                                                                                                                                                                                                                                                   1\n",
       "Name: description, Length: 12874, dtype: int64"
      ]
     },
     "execution_count": 300,
     "metadata": {},
     "output_type": "execute_result"
    }
   ],
   "source": [
    "df.description.value_counts(dropna=False)"
   ]
  },
  {
   "cell_type": "markdown",
   "metadata": {},
   "source": [
    "I do not need this descriptions, so i am dropping it"
   ]
  },
  {
   "cell_type": "code",
   "execution_count": 301,
   "metadata": {},
   "outputs": [],
   "source": [
    "df.drop('description', axis=1, inplace=True)\n"
   ]
  },
  {
   "cell_type": "markdown",
   "metadata": {},
   "source": [
    "### emission_label column:"
   ]
  },
  {
   "cell_type": "code",
   "execution_count": 302,
   "metadata": {},
   "outputs": [
    {
     "data": {
      "text/plain": [
       "NaN                     11934\n",
       "[\\n4 (Green)\\n]          3553\n",
       "[\\n1 (No sticker)\\n]      381\n",
       "[[], [], []]               40\n",
       "[\\n5 (Blue)\\n]              8\n",
       "[\\n3 (Yellow)\\n]            2\n",
       "[\\n2 (Red)\\n]               1\n",
       "Name: emission_label, dtype: int64"
      ]
     },
     "execution_count": 302,
     "metadata": {},
     "output_type": "execute_result"
    }
   ],
   "source": [
    "df.emission_label.value_counts(dropna=False)\n"
   ]
  },
  {
   "cell_type": "code",
   "execution_count": 303,
   "metadata": {},
   "outputs": [],
   "source": [
    "df['emission_label'] = [item[0] if type(item) == list else item for item in df.emission_label]\n"
   ]
  },
  {
   "cell_type": "code",
   "execution_count": 304,
   "metadata": {},
   "outputs": [
    {
     "name": "stderr",
     "output_type": "stream",
     "text": [
      "C:\\Users\\Pakize\\AppData\\Local\\Temp\\ipykernel_139212\\653408487.py:2: FutureWarning: The default value of regex will change from True to False in a future version. In addition, single character regular expressions will *not* be treated as literal strings when regex=True.\n",
      "  '\\n').str.replace('(', '').str.replace(')', '')\n"
     ]
    }
   ],
   "source": [
    "df['emission_label'] = df.emission_label.str.strip(\n",
    "    '\\n').str.replace('(', '').str.replace(')', '')\n"
   ]
  },
  {
   "cell_type": "code",
   "execution_count": 305,
   "metadata": {},
   "outputs": [
    {
     "data": {
      "text/plain": [
       "NaN             11974\n",
       "4 Green          3553\n",
       "1 No sticker      381\n",
       "5 Blue              8\n",
       "3 Yellow            2\n",
       "2 Red               1\n",
       "Name: emission_label, dtype: int64"
      ]
     },
     "execution_count": 305,
     "metadata": {},
     "output_type": "execute_result"
    }
   ],
   "source": [
    "df.emission_label.value_counts(dropna=False)\n"
   ]
  },
  {
   "cell_type": "markdown",
   "metadata": {},
   "source": [
    "I have another column: emission_class, it has more information than emission_label column. "
   ]
  },
  {
   "cell_type": "code",
   "execution_count": 306,
   "metadata": {},
   "outputs": [],
   "source": [
    "df.drop('emission_label', axis=1, inplace=True)\n"
   ]
  },
  {
   "cell_type": "markdown",
   "metadata": {},
   "source": [
    "### country_version column:"
   ]
  },
  {
   "cell_type": "code",
   "execution_count": 307,
   "metadata": {},
   "outputs": [
    {
     "data": {
      "text/plain": [
       "NaN                     8333\n",
       "[\\nGermany\\n]           4502\n",
       "[\\nItaly\\n]             1038\n",
       "[\\nEuropean Union\\n]     507\n",
       "[\\nNetherlands\\n]        464\n",
       "[\\nSpain\\n]              325\n",
       "[\\nBelgium\\n]            314\n",
       "[\\nAustria\\n]            208\n",
       "[\\nCzech Republic\\n]      52\n",
       "[\\nPoland\\n]              49\n",
       "[\\nFrance\\n]              38\n",
       "[\\nDenmark\\n]             33\n",
       "[\\nHungary\\n]             28\n",
       "[\\nJapan\\n]                8\n",
       "[\\nSlovakia\\n]             4\n",
       "[\\nCroatia\\n]              4\n",
       "[\\nSweden\\n]               3\n",
       "[\\nRomania\\n]              2\n",
       "[\\nBulgaria\\n]             2\n",
       "[\\nLuxembourg\\n]           1\n",
       "[\\nSwitzerland\\n]          1\n",
       "[\\nSlovenia\\n]             1\n",
       "[\\nEgypt\\n]                1\n",
       "[\\nSerbia\\n]               1\n",
       "Name: country_version, dtype: int64"
      ]
     },
     "execution_count": 307,
     "metadata": {},
     "output_type": "execute_result"
    }
   ],
   "source": [
    "df.country_version.value_counts(dropna=False)\n"
   ]
  },
  {
   "cell_type": "code",
   "execution_count": 308,
   "metadata": {},
   "outputs": [],
   "source": [
    "df['country_version'] = [item[0] if type(item) == list else item for item in df.country_version]\n"
   ]
  },
  {
   "cell_type": "code",
   "execution_count": 309,
   "metadata": {},
   "outputs": [],
   "source": [
    "df['country_version'] = df.country_version.str.strip('\\n')\n"
   ]
  },
  {
   "cell_type": "code",
   "execution_count": 310,
   "metadata": {},
   "outputs": [
    {
     "data": {
      "text/plain": [
       "NaN               8333\n",
       "Germany           4502\n",
       "Italy             1038\n",
       "European Union     507\n",
       "Netherlands        464\n",
       "Spain              325\n",
       "Belgium            314\n",
       "Austria            208\n",
       "Czech Republic      52\n",
       "Poland              49\n",
       "France              38\n",
       "Denmark             33\n",
       "Hungary             28\n",
       "Japan                8\n",
       "Slovakia             4\n",
       "Croatia              4\n",
       "Sweden               3\n",
       "Romania              2\n",
       "Bulgaria             2\n",
       "Luxembourg           1\n",
       "Switzerland          1\n",
       "Slovenia             1\n",
       "Egypt                1\n",
       "Serbia               1\n",
       "Name: country_version, dtype: int64"
      ]
     },
     "execution_count": 310,
     "metadata": {},
     "output_type": "execute_result"
    }
   ],
   "source": [
    "df.country_version.value_counts(dropna=False)\n"
   ]
  },
  {
   "cell_type": "markdown",
   "metadata": {},
   "source": [
    "Does this column has an effect on price? I do not think so."
   ]
  },
  {
   "cell_type": "code",
   "execution_count": 311,
   "metadata": {},
   "outputs": [],
   "source": [
    "df.drop('country_version', axis=1, inplace=True)\n"
   ]
  },
  {
   "cell_type": "markdown",
   "metadata": {},
   "source": [
    "### electricity_consumption column:"
   ]
  },
  {
   "cell_type": "code",
   "execution_count": 312,
   "metadata": {},
   "outputs": [
    {
     "data": {
      "text/plain": [
       "NaN                          15782\n",
       "[\\n0 kWh/100 km (comb)\\n]      137\n",
       "Name: electricity_consumption, dtype: int64"
      ]
     },
     "execution_count": 312,
     "metadata": {},
     "output_type": "execute_result"
    }
   ],
   "source": [
    "df.electricity_consumption.value_counts(dropna=False)\n"
   ]
  },
  {
   "cell_type": "markdown",
   "metadata": {},
   "source": [
    "This column can be dropped."
   ]
  },
  {
   "cell_type": "code",
   "execution_count": 313,
   "metadata": {},
   "outputs": [],
   "source": [
    "df.drop('electricity_consumption', axis=1, inplace=True)\n"
   ]
  },
  {
   "cell_type": "code",
   "execution_count": null,
   "metadata": {},
   "outputs": [],
   "source": []
  },
  {
   "cell_type": "markdown",
   "metadata": {},
   "source": [
    "### last_service_date column:"
   ]
  },
  {
   "cell_type": "code",
   "execution_count": 314,
   "metadata": {},
   "outputs": [
    {
     "data": {
      "text/plain": [
       "NaN                                       15353\n",
       "[\\n02/2019\\n, \\nEuro 6\\n]                    23\n",
       "[\\n05/2019\\n, \\nEuro 6\\n]                    16\n",
       "[\\n01/2018\\n, \\n118 g CO2/km (comb)\\n]       15\n",
       "[\\n03/2019\\n, \\nEuro 6\\n]                    15\n",
       "                                          ...  \n",
       "[\\n01/2017\\n, \\n95 g CO2/km (comb)\\n]         1\n",
       "[\\n06/2019\\n, \\n87 g CO2/km (comb)\\n]         1\n",
       "[\\n10/2018\\n, \\n100 g CO2/km (comb)\\n]        1\n",
       "[\\n02/2018\\n, \\n97 g CO2/km (comb)\\n]         1\n",
       "[\\n03/2019\\n, \\n120 g CO2/km (comb)\\n]        1\n",
       "Name: last_service_date, Length: 267, dtype: int64"
      ]
     },
     "execution_count": 314,
     "metadata": {},
     "output_type": "execute_result"
    }
   ],
   "source": [
    "df.last_service_date.value_counts(dropna=False)\n"
   ]
  },
  {
   "cell_type": "code",
   "execution_count": 315,
   "metadata": {},
   "outputs": [],
   "source": [
    "df['last_service_date'] = [item[0] if type(item) == list else item for item in df.last_service_date]"
   ]
  },
  {
   "cell_type": "code",
   "execution_count": 316,
   "metadata": {},
   "outputs": [
    {
     "data": {
      "text/plain": [
       "NaN        15353\n",
       "05/2019       61\n",
       "02/2019       55\n",
       "01/2019       51\n",
       "06/2019       49\n",
       "04/2019       48\n",
       "03/2019       47\n",
       "12/2018       32\n",
       "10/2018       24\n",
       "06/2018       21\n",
       "05/2018       21\n",
       "07/2018       21\n",
       "01/2018       20\n",
       "09/2018       17\n",
       "11/2018       17\n",
       "04/2018       16\n",
       "08/2018       13\n",
       "03/2018        9\n",
       "06/2017        7\n",
       "02/2018        5\n",
       "05/2017        3\n",
       "12/2017        3\n",
       "02/2017        3\n",
       "10/2017        3\n",
       "01/2017        3\n",
       "11/2017        2\n",
       "06/2016        2\n",
       "04/2016        2\n",
       "07/2017        2\n",
       "11/2019        1\n",
       "10/2019        1\n",
       "07/2019        1\n",
       "03/2016        1\n",
       "09/2019        1\n",
       "08/2019        1\n",
       "09/2017        1\n",
       "05/2016        1\n",
       "04/2017        1\n",
       "Name: last_service_date, dtype: int64"
      ]
     },
     "execution_count": 316,
     "metadata": {},
     "output_type": "execute_result"
    }
   ],
   "source": [
    "df.last_service_date.str.strip('\\n').value_counts(dropna=False)\n"
   ]
  },
  {
   "cell_type": "code",
   "execution_count": 317,
   "metadata": {},
   "outputs": [
    {
     "data": {
      "text/plain": [
       "96.44450028268108"
      ]
     },
     "execution_count": 317,
     "metadata": {},
     "output_type": "execute_result"
    }
   ],
   "source": [
    "df.last_service_date.str.strip('\\n').isnull().sum()/df.shape[0]*100"
   ]
  },
  {
   "cell_type": "markdown",
   "metadata": {},
   "source": [
    "If there weren't so many NaN values, maybe this column would have an effect on the price column. I am dropping this column"
   ]
  },
  {
   "cell_type": "code",
   "execution_count": 318,
   "metadata": {},
   "outputs": [],
   "source": [
    "df.drop('last_service_date', axis=1, inplace=True)\n"
   ]
  },
  {
   "cell_type": "code",
   "execution_count": 319,
   "metadata": {},
   "outputs": [
    {
     "data": {
      "text/html": [
       "<div><div id=d378b801-1770-4472-8112-d10d7b3ec8a0 style=\"display:none; background-color:#9D6CFF; color:white; width:200px; height:30px; padding-left:5px; border-radius:4px; flex-direction:row; justify-content:space-around; align-items:center;\" onmouseover=\"this.style.backgroundColor='#BA9BF8'\" onmouseout=\"this.style.backgroundColor='#9D6CFF'\" onclick=\"window.commands?.execute('create-mitosheet-from-dataframe-output');\">See Full Dataframe in Mito</div> <script> if (window.commands?.hasCommand('create-mitosheet-from-dataframe-output')) document.getElementById('d378b801-1770-4472-8112-d10d7b3ec8a0').style.display = 'flex' </script> <table border=\"1\" class=\"dataframe\">\n",
       "  <thead>\n",
       "    <tr style=\"text-align: right;\">\n",
       "      <th></th>\n",
       "      <th>missing_count</th>\n",
       "      <th>missing_percentage</th>\n",
       "    </tr>\n",
       "  </thead>\n",
       "  <tbody>\n",
       "    <tr>\n",
       "      <th>kW</th>\n",
       "      <td>15919</td>\n",
       "      <td>100.000000</td>\n",
       "    </tr>\n",
       "    <tr>\n",
       "      <th>last_timing_belt_service_date</th>\n",
       "      <td>15903</td>\n",
       "      <td>99.899491</td>\n",
       "    </tr>\n",
       "    <tr>\n",
       "      <th>electricity_consumption</th>\n",
       "      <td>15782</td>\n",
       "      <td>99.139393</td>\n",
       "    </tr>\n",
       "    <tr>\n",
       "      <th>available_from</th>\n",
       "      <td>15647</td>\n",
       "      <td>98.291350</td>\n",
       "    </tr>\n",
       "    <tr>\n",
       "      <th>last_service_date</th>\n",
       "      <td>15353</td>\n",
       "      <td>96.444500</td>\n",
       "    </tr>\n",
       "    <tr>\n",
       "      <th>...</th>\n",
       "      <td>...</td>\n",
       "      <td>...</td>\n",
       "    </tr>\n",
       "    <tr>\n",
       "      <th>hp</th>\n",
       "      <td>0</td>\n",
       "      <td>0.000000</td>\n",
       "    </tr>\n",
       "    <tr>\n",
       "      <th>registration</th>\n",
       "      <td>0</td>\n",
       "      <td>0.000000</td>\n",
       "    </tr>\n",
       "    <tr>\n",
       "      <th>km</th>\n",
       "      <td>0</td>\n",
       "      <td>0.000000</td>\n",
       "    </tr>\n",
       "    <tr>\n",
       "      <th>price</th>\n",
       "      <td>0</td>\n",
       "      <td>0.000000</td>\n",
       "    </tr>\n",
       "    <tr>\n",
       "      <th>url</th>\n",
       "      <td>0</td>\n",
       "      <td>0.000000</td>\n",
       "    </tr>\n",
       "  </tbody>\n",
       "</table></div>"
      ],
      "text/plain": [
       "                               missing_count  missing_percentage\n",
       "kW                                     15919          100.000000\n",
       "last_timing_belt_service_date          15903           99.899491\n",
       "electricity_consumption                15782           99.139393\n",
       "available_from                         15647           98.291350\n",
       "last_service_date                      15353           96.444500\n",
       "availability                           15284           96.011056\n",
       "other_fuel_types                       15039           94.472015\n",
       "next_inspection                        12384           77.793831\n",
       "inspection_new                         11987           75.299956\n",
       "emission_label                         11934           74.967021\n",
       "model_code                             10941           68.729192\n",
       "non_smoking_vehicle                     8742           54.915510\n",
       "country_version                         8333           52.346253\n",
       "full_service                            7704           48.395000\n",
       "weight                                  6974           43.809285\n",
       "drive_chain                             6858           43.080596\n",
       "prev_owner                              6828           42.892141\n",
       "previous_owners                         6640           41.711163\n",
       "paint_type                              5772           36.258559\n",
       "cylinders                               5680           35.680633\n",
       "warranty                                5420           34.047365\n",
       "gears                                   4712           29.599849\n",
       "vat                                     4513           28.349771\n",
       "body_color_original                     3759           23.613292\n",
       "upholstery                              3720           23.368302\n",
       "offer_number                            3175           19.944720\n",
       "emission_class                          3021           18.977323\n",
       "extras                                  2962           18.606696\n",
       "consumption                             1906           11.973114\n",
       "co2_emission                            1808           11.357497\n",
       "first_registration                      1597           10.032037\n",
       "entertainment_media                     1374            8.631195\n",
       "safety_security                          982            6.168729\n",
       "num_of_seats                             977            6.137320\n",
       "comfort_convenience                      920            5.779257\n",
       "body_color                               597            3.750236\n",
       "displacement                             496            3.115774\n",
       "num_of_doors                             212            1.331742\n",
       "body                                      60            0.376908\n",
       "body_type                                 60            0.376908\n",
       "short_description                         46            0.288963\n",
       "Type                                       2            0.012564\n",
       "fuel                                       0            0.000000\n",
       "gearing_type                               0            0.000000\n",
       "make_model                                 0            0.000000\n",
       "model                                      0            0.000000\n",
       "make                                       0            0.000000\n",
       "description                                0            0.000000\n",
       "null                                       0            0.000000\n",
       "hp                                         0            0.000000\n",
       "registration                               0            0.000000\n",
       "km                                         0            0.000000\n",
       "price                                      0            0.000000\n",
       "url                                        0            0.000000"
      ]
     },
     "execution_count": 319,
     "metadata": {},
     "output_type": "execute_result"
    }
   ],
   "source": [
    "missing_df\n"
   ]
  },
  {
   "cell_type": "markdown",
   "metadata": {},
   "source": [
    "I am also dropping 'other_fuel_types', 'availability', 'last_timing_belt_service_date', 'available_from' columns \n",
    "because the percentage of null values of these columns are higher than 90%"
   ]
  },
  {
   "cell_type": "code",
   "execution_count": 320,
   "metadata": {},
   "outputs": [],
   "source": [
    "df.drop(['other_fuel_types', 'availability',\n",
    "        'last_timing_belt_service_date', 'available_from'], axis=1, inplace=True)\n"
   ]
  },
  {
   "cell_type": "code",
   "execution_count": 321,
   "metadata": {},
   "outputs": [
    {
     "data": {
      "text/plain": [
       "Index(['make_model', 'body_type', 'price', 'vat', 'km', 'previous_owners',\n",
       "       'next_inspection', 'inspection_new', 'body_color', 'paint_type',\n",
       "       'num_of_doors', 'num_of_seats', 'gearing_type', 'cylinders',\n",
       "       'drive_chain', 'fuel', 'consumption', 'co2_emission', 'emission_class',\n",
       "       'comfort_convenience', 'entertainment_media', 'extras',\n",
       "       'safety_security', 'gears', 'age', 'hp_kw', 'type', 'warranty_months',\n",
       "       'upholstery_type', 'upholstery_color', 'displacement_cc', 'weight_kg',\n",
       "       'cons_comb', 'cons_city', 'cons_country'],\n",
       "      dtype='object')"
      ]
     },
     "execution_count": 321,
     "metadata": {},
     "output_type": "execute_result"
    }
   ],
   "source": [
    "df.columns"
   ]
  },
  {
   "cell_type": "code",
   "execution_count": 322,
   "metadata": {},
   "outputs": [
    {
     "data": {
      "text/html": [
       "<div><div id=e47aacb5-6730-42a4-b752-e57924c323ea style=\"display:none; background-color:#9D6CFF; color:white; width:200px; height:30px; padding-left:5px; border-radius:4px; flex-direction:row; justify-content:space-around; align-items:center;\" onmouseover=\"this.style.backgroundColor='#BA9BF8'\" onmouseout=\"this.style.backgroundColor='#9D6CFF'\" onclick=\"window.commands?.execute('create-mitosheet-from-dataframe-output');\">See Full Dataframe in Mito</div> <script> if (window.commands?.hasCommand('create-mitosheet-from-dataframe-output')) document.getElementById('e47aacb5-6730-42a4-b752-e57924c323ea').style.display = 'flex' </script> <table border=\"1\" class=\"dataframe\">\n",
       "  <thead>\n",
       "    <tr style=\"text-align: right;\">\n",
       "      <th></th>\n",
       "      <th>0</th>\n",
       "      <th>1</th>\n",
       "      <th>2</th>\n",
       "      <th>3</th>\n",
       "      <th>4</th>\n",
       "    </tr>\n",
       "  </thead>\n",
       "  <tbody>\n",
       "    <tr>\n",
       "      <th>make_model</th>\n",
       "      <td>Audi A1</td>\n",
       "      <td>Audi A1</td>\n",
       "      <td>Audi A1</td>\n",
       "      <td>Audi A1</td>\n",
       "      <td>Audi A1</td>\n",
       "    </tr>\n",
       "    <tr>\n",
       "      <th>body_type</th>\n",
       "      <td>Sedans</td>\n",
       "      <td>Sedans</td>\n",
       "      <td>Sedans</td>\n",
       "      <td>Sedans</td>\n",
       "      <td>Sedans</td>\n",
       "    </tr>\n",
       "    <tr>\n",
       "      <th>price</th>\n",
       "      <td>15770</td>\n",
       "      <td>14500</td>\n",
       "      <td>14640</td>\n",
       "      <td>14500</td>\n",
       "      <td>16790</td>\n",
       "    </tr>\n",
       "    <tr>\n",
       "      <th>vat</th>\n",
       "      <td>VAT deductible</td>\n",
       "      <td>Price negotiable</td>\n",
       "      <td>VAT deductible</td>\n",
       "      <td>None</td>\n",
       "      <td>None</td>\n",
       "    </tr>\n",
       "    <tr>\n",
       "      <th>km</th>\n",
       "      <td>56013.0</td>\n",
       "      <td>80000.0</td>\n",
       "      <td>83450.0</td>\n",
       "      <td>73000.0</td>\n",
       "      <td>16200.0</td>\n",
       "    </tr>\n",
       "    <tr>\n",
       "      <th>...</th>\n",
       "      <td>...</td>\n",
       "      <td>...</td>\n",
       "      <td>...</td>\n",
       "      <td>...</td>\n",
       "      <td>...</td>\n",
       "    </tr>\n",
       "    <tr>\n",
       "      <th>displacement_cc</th>\n",
       "      <td>1422</td>\n",
       "      <td>1798</td>\n",
       "      <td>1598</td>\n",
       "      <td>1422</td>\n",
       "      <td>1422</td>\n",
       "    </tr>\n",
       "    <tr>\n",
       "      <th>weight_kg</th>\n",
       "      <td>1220</td>\n",
       "      <td>1255</td>\n",
       "      <td>NaN</td>\n",
       "      <td>1195</td>\n",
       "      <td>NaN</td>\n",
       "    </tr>\n",
       "    <tr>\n",
       "      <th>cons_comb</th>\n",
       "      <td>3.8</td>\n",
       "      <td>5.6</td>\n",
       "      <td>3.8</td>\n",
       "      <td>3.8</td>\n",
       "      <td>4.1</td>\n",
       "    </tr>\n",
       "    <tr>\n",
       "      <th>cons_city</th>\n",
       "      <td>4.3</td>\n",
       "      <td>7.1</td>\n",
       "      <td>4.4</td>\n",
       "      <td>4.3</td>\n",
       "      <td>4.6</td>\n",
       "    </tr>\n",
       "    <tr>\n",
       "      <th>cons_country</th>\n",
       "      <td>3.5</td>\n",
       "      <td>4.7</td>\n",
       "      <td>3.4</td>\n",
       "      <td>3.5</td>\n",
       "      <td>3.8</td>\n",
       "    </tr>\n",
       "  </tbody>\n",
       "</table></div>"
      ],
      "text/plain": [
       "                                                                     0  \\\n",
       "make_model                                                     Audi A1   \n",
       "body_type                                                       Sedans   \n",
       "price                                                            15770   \n",
       "vat                                                     VAT deductible   \n",
       "km                                                             56013.0   \n",
       "previous_owners                                                    2.0   \n",
       "next_inspection                                                06/2021   \n",
       "inspection_new                                                     Yes   \n",
       "body_color                                                       Black   \n",
       "paint_type                                                    Metallic   \n",
       "num_of_doors                                                       5.0   \n",
       "num_of_seats                                                       5.0   \n",
       "gearing_type                                                 Automatic   \n",
       "cylinders                                                            3   \n",
       "drive_chain                                                      front   \n",
       "fuel                                                            Diesel   \n",
       "consumption          [[3.8 l/100 km (comb)], [4.3 l/100 km (city)],...   \n",
       "co2_emission                                                      99.0   \n",
       "emission_class                                                  Euro 6   \n",
       "comfort_convenience  Air conditioning, Armrest, Automatic climate c...   \n",
       "entertainment_media  Bluetooth, Hands-free equipment, On-board comp...   \n",
       "extras                Alloy wheels, Catalytic Converter, Voice Control   \n",
       "safety_security      ABS, Central door lock, Daytime running lights...   \n",
       "gears                                                              NaN   \n",
       "age                                                                3.0   \n",
       "hp_kw                                                             66.0   \n",
       "type                                                              Used   \n",
       "warranty_months                                                    NaN   \n",
       "upholstery_type                                                  Cloth   \n",
       "upholstery_color                                                 Black   \n",
       "displacement_cc                                                  1422    \n",
       "weight_kg                                                        1220    \n",
       "cons_comb                                                          3.8   \n",
       "cons_city                                                          4.3   \n",
       "cons_country                                                       3.5   \n",
       "\n",
       "                                                                     1  \\\n",
       "make_model                                                     Audi A1   \n",
       "body_type                                                       Sedans   \n",
       "price                                                            14500   \n",
       "vat                                                   Price negotiable   \n",
       "km                                                             80000.0   \n",
       "previous_owners                                                    NaN   \n",
       "next_inspection                                                    NaN   \n",
       "inspection_new                                                     NaN   \n",
       "body_color                                                         Red   \n",
       "paint_type                                                         NaN   \n",
       "num_of_doors                                                       3.0   \n",
       "num_of_seats                                                       4.0   \n",
       "gearing_type                                                 Automatic   \n",
       "cylinders                                                            4   \n",
       "drive_chain                                                      front   \n",
       "fuel                                                           Benzine   \n",
       "consumption          [[5.6 l/100 km (comb)], [7.1 l/100 km (city)],...   \n",
       "co2_emission                                                     129.0   \n",
       "emission_class                                                  Euro 6   \n",
       "comfort_convenience  Air conditioning, Automatic climate control, H...   \n",
       "entertainment_media  Bluetooth, Hands-free equipment, On-board comp...   \n",
       "extras               Alloy wheels, Sport seats, Sport suspension, V...   \n",
       "safety_security      ABS, Central door lock, Central door lock with...   \n",
       "gears                                                                7   \n",
       "age                                                                2.0   \n",
       "hp_kw                                                            141.0   \n",
       "type                                                              Used   \n",
       "warranty_months                                                    NaN   \n",
       "upholstery_type                                                  Cloth   \n",
       "upholstery_color                                                  Grey   \n",
       "displacement_cc                                                  1798    \n",
       "weight_kg                                                        1255    \n",
       "cons_comb                                                          5.6   \n",
       "cons_city                                                          7.1   \n",
       "cons_country                                                       4.7   \n",
       "\n",
       "                                                                     2  \\\n",
       "make_model                                                     Audi A1   \n",
       "body_type                                                       Sedans   \n",
       "price                                                            14640   \n",
       "vat                                                     VAT deductible   \n",
       "km                                                             83450.0   \n",
       "previous_owners                                                    1.0   \n",
       "next_inspection                                                    NaN   \n",
       "inspection_new                                                     NaN   \n",
       "body_color                                                       Black   \n",
       "paint_type                                                    Metallic   \n",
       "num_of_doors                                                       4.0   \n",
       "num_of_seats                                                       4.0   \n",
       "gearing_type                                                 Automatic   \n",
       "cylinders                                                          NaN   \n",
       "drive_chain                                                      front   \n",
       "fuel                                                            Diesel   \n",
       "consumption          [[3.8 l/100 km (comb)], [4.4 l/100 km (city)],...   \n",
       "co2_emission                                                      99.0   \n",
       "emission_class                                                  Euro 6   \n",
       "comfort_convenience  Air conditioning, Cruise control, Electrical s...   \n",
       "entertainment_media                             MP3, On-board computer   \n",
       "extras                                     Alloy wheels, Voice Control   \n",
       "safety_security      ABS, Central door lock, Daytime running lights...   \n",
       "gears                                                              NaN   \n",
       "age                                                                3.0   \n",
       "hp_kw                                                             85.0   \n",
       "type                                                              Used   \n",
       "warranty_months                                                    NaN   \n",
       "upholstery_type                                                  Cloth   \n",
       "upholstery_color                                                 Black   \n",
       "displacement_cc                                                  1598    \n",
       "weight_kg                                                          NaN   \n",
       "cons_comb                                                          3.8   \n",
       "cons_city                                                          4.4   \n",
       "cons_country                                                       3.4   \n",
       "\n",
       "                                                                     3  \\\n",
       "make_model                                                     Audi A1   \n",
       "body_type                                                       Sedans   \n",
       "price                                                            14500   \n",
       "vat                                                               None   \n",
       "km                                                             73000.0   \n",
       "previous_owners                                                    1.0   \n",
       "next_inspection                                                    NaN   \n",
       "inspection_new                                                     NaN   \n",
       "body_color                                                       Brown   \n",
       "paint_type                                                    Metallic   \n",
       "num_of_doors                                                       3.0   \n",
       "num_of_seats                                                       4.0   \n",
       "gearing_type                                                 Automatic   \n",
       "cylinders                                                            3   \n",
       "drive_chain                                                        NaN   \n",
       "fuel                                                            Diesel   \n",
       "consumption          [[3.8 l/100 km (comb)], [4.3 l/100 km (city)],...   \n",
       "co2_emission                                                      99.0   \n",
       "emission_class                                                  Euro 6   \n",
       "comfort_convenience  Air suspension, Armrest, Auxiliary heating, El...   \n",
       "entertainment_media  Bluetooth, CD player, Hands-free equipment, MP...   \n",
       "extras                        Alloy wheels, Sport seats, Voice Control   \n",
       "safety_security      ABS, Alarm system, Central door lock with remo...   \n",
       "gears                                                                6   \n",
       "age                                                                3.0   \n",
       "hp_kw                                                             66.0   \n",
       "type                                                              Used   \n",
       "warranty_months                                                    NaN   \n",
       "upholstery_type                                                    NaN   \n",
       "upholstery_color                                                   NaN   \n",
       "displacement_cc                                                  1422    \n",
       "weight_kg                                                        1195    \n",
       "cons_comb                                                          3.8   \n",
       "cons_city                                                          4.3   \n",
       "cons_country                                                       3.5   \n",
       "\n",
       "                                                                     4  \n",
       "make_model                                                     Audi A1  \n",
       "body_type                                                       Sedans  \n",
       "price                                                            16790  \n",
       "vat                                                               None  \n",
       "km                                                             16200.0  \n",
       "previous_owners                                                    1.0  \n",
       "next_inspection                                                    NaN  \n",
       "inspection_new                                                     Yes  \n",
       "body_color                                                       Black  \n",
       "paint_type                                                    Metallic  \n",
       "num_of_doors                                                       5.0  \n",
       "num_of_seats                                                       5.0  \n",
       "gearing_type                                                 Automatic  \n",
       "cylinders                                                            3  \n",
       "drive_chain                                                      front  \n",
       "fuel                                                            Diesel  \n",
       "consumption          [[4.1 l/100 km (comb)], [4.6 l/100 km (city)],...  \n",
       "co2_emission                                                     109.0  \n",
       "emission_class                                                  Euro 6  \n",
       "comfort_convenience  Air conditioning, Armrest, Automatic climate c...  \n",
       "entertainment_media  Bluetooth, CD player, Hands-free equipment, MP...  \n",
       "extras               Alloy wheels, Sport package, Sport suspension,...  \n",
       "safety_security      ABS, Central door lock, Driver-side airbag, El...  \n",
       "gears                                                              NaN  \n",
       "age                                                                3.0  \n",
       "hp_kw                                                             66.0  \n",
       "type                                                              Used  \n",
       "warranty_months                                                    NaN  \n",
       "upholstery_type                                                  Cloth  \n",
       "upholstery_color                                                 Black  \n",
       "displacement_cc                                                  1422   \n",
       "weight_kg                                                          NaN  \n",
       "cons_comb                                                          4.1  \n",
       "cons_city                                                          4.6  \n",
       "cons_country                                                       3.8  "
      ]
     },
     "execution_count": 322,
     "metadata": {},
     "output_type": "execute_result"
    }
   ],
   "source": [
    "df.head().T"
   ]
  },
  {
   "cell_type": "code",
   "execution_count": 323,
   "metadata": {},
   "outputs": [
    {
     "name": "stdout",
     "output_type": "stream",
     "text": [
      "<class 'pandas.core.frame.DataFrame'>\n",
      "RangeIndex: 15919 entries, 0 to 15918\n",
      "Data columns (total 35 columns):\n",
      " #   Column               Non-Null Count  Dtype  \n",
      "---  ------               --------------  -----  \n",
      " 0   make_model           15919 non-null  object \n",
      " 1   body_type            15859 non-null  object \n",
      " 2   price                15919 non-null  int64  \n",
      " 3   vat                  11406 non-null  object \n",
      " 4   km                   14895 non-null  float64\n",
      " 5   previous_owners      9279 non-null   float64\n",
      " 6   next_inspection      3535 non-null   object \n",
      " 7   inspection_new       3932 non-null   object \n",
      " 8   body_color           15322 non-null  object \n",
      " 9   paint_type           10147 non-null  object \n",
      " 10  num_of_doors         15707 non-null  float64\n",
      " 11  num_of_seats         14942 non-null  float64\n",
      " 12  gearing_type         15919 non-null  object \n",
      " 13  cylinders            10239 non-null  object \n",
      " 14  drive_chain          9061 non-null   object \n",
      " 15  fuel                 15919 non-null  object \n",
      " 16  consumption          14013 non-null  object \n",
      " 17  co2_emission         13483 non-null  float64\n",
      " 18  emission_class       12291 non-null  object \n",
      " 19  comfort_convenience  14999 non-null  object \n",
      " 20  entertainment_media  14545 non-null  object \n",
      " 21  extras               12957 non-null  object \n",
      " 22  safety_security      14937 non-null  object \n",
      " 23  gears                11207 non-null  object \n",
      " 24  age                  14322 non-null  float64\n",
      " 25  hp_kw                15831 non-null  float64\n",
      " 26  type                 15917 non-null  object \n",
      " 27  warranty_months      4853 non-null   object \n",
      " 28  upholstery_type      11048 non-null  object \n",
      " 29  upholstery_color     10841 non-null  object \n",
      " 30  displacement_cc      15423 non-null  object \n",
      " 31  weight_kg            8945 non-null   object \n",
      " 32  cons_comb            13886 non-null  float64\n",
      " 33  cons_city            13483 non-null  float64\n",
      " 34  cons_country         13543 non-null  float64\n",
      "dtypes: float64(10), int64(1), object(24)\n",
      "memory usage: 4.3+ MB\n"
     ]
    }
   ],
   "source": [
    "df.info()"
   ]
  },
  {
   "cell_type": "code",
   "execution_count": null,
   "metadata": {},
   "outputs": [],
   "source": [
    "# next_inspection, inspection_new column can be dropped. And i do not need consumption, because i made 3 new columns from it."
   ]
  },
  {
   "cell_type": "code",
   "execution_count": 324,
   "metadata": {},
   "outputs": [],
   "source": [
    "df.to_csv('autoscout_cleaned.csv', index=False)"
   ]
  },
  {
   "cell_type": "code",
   "execution_count": 325,
   "metadata": {},
   "outputs": [],
   "source": [
    "df2=pd.read_csv('autoscout_cleaned.csv')"
   ]
  },
  {
   "cell_type": "code",
   "execution_count": 326,
   "metadata": {},
   "outputs": [
    {
     "data": {
      "text/html": [
       "<div><div id=2200dc79-33a9-495c-a032-bf3daa4c1a72 style=\"display:none; background-color:#9D6CFF; color:white; width:200px; height:30px; padding-left:5px; border-radius:4px; flex-direction:row; justify-content:space-around; align-items:center;\" onmouseover=\"this.style.backgroundColor='#BA9BF8'\" onmouseout=\"this.style.backgroundColor='#9D6CFF'\" onclick=\"window.commands?.execute('create-mitosheet-from-dataframe-output');\">See Full Dataframe in Mito</div> <script> if (window.commands?.hasCommand('create-mitosheet-from-dataframe-output')) document.getElementById('2200dc79-33a9-495c-a032-bf3daa4c1a72').style.display = 'flex' </script> <table border=\"1\" class=\"dataframe\">\n",
       "  <thead>\n",
       "    <tr style=\"text-align: right;\">\n",
       "      <th></th>\n",
       "      <th>make_model</th>\n",
       "      <th>body_type</th>\n",
       "      <th>price</th>\n",
       "      <th>vat</th>\n",
       "      <th>km</th>\n",
       "      <th>previous_owners</th>\n",
       "      <th>next_inspection</th>\n",
       "      <th>inspection_new</th>\n",
       "      <th>body_color</th>\n",
       "      <th>paint_type</th>\n",
       "      <th>...</th>\n",
       "      <th>hp_kw</th>\n",
       "      <th>type</th>\n",
       "      <th>warranty_months</th>\n",
       "      <th>upholstery_type</th>\n",
       "      <th>upholstery_color</th>\n",
       "      <th>displacement_cc</th>\n",
       "      <th>weight_kg</th>\n",
       "      <th>cons_comb</th>\n",
       "      <th>cons_city</th>\n",
       "      <th>cons_country</th>\n",
       "    </tr>\n",
       "  </thead>\n",
       "  <tbody>\n",
       "    <tr>\n",
       "      <th>2980</th>\n",
       "      <td>Audi A3</td>\n",
       "      <td>Station wagon</td>\n",
       "      <td>13500</td>\n",
       "      <td>VAT deductible</td>\n",
       "      <td>145000.0</td>\n",
       "      <td>1.0</td>\n",
       "      <td>NaN</td>\n",
       "      <td>Yes</td>\n",
       "      <td>Blue</td>\n",
       "      <td>Metallic</td>\n",
       "      <td>...</td>\n",
       "      <td>110.0</td>\n",
       "      <td>Used</td>\n",
       "      <td>NaN</td>\n",
       "      <td>Cloth</td>\n",
       "      <td>Black</td>\n",
       "      <td>1968.0</td>\n",
       "      <td>NaN</td>\n",
       "      <td>4.4</td>\n",
       "      <td>5.2</td>\n",
       "      <td>4.0</td>\n",
       "    </tr>\n",
       "    <tr>\n",
       "      <th>885</th>\n",
       "      <td>Audi A1</td>\n",
       "      <td>Sedans</td>\n",
       "      <td>14900</td>\n",
       "      <td>VAT deductible</td>\n",
       "      <td>58000.0</td>\n",
       "      <td>NaN</td>\n",
       "      <td>NaN</td>\n",
       "      <td>NaN</td>\n",
       "      <td>Red</td>\n",
       "      <td>NaN</td>\n",
       "      <td>...</td>\n",
       "      <td>85.0</td>\n",
       "      <td>Used</td>\n",
       "      <td>12.0</td>\n",
       "      <td>Cloth</td>\n",
       "      <td>Grey</td>\n",
       "      <td>1598.0</td>\n",
       "      <td>1250.0</td>\n",
       "      <td>3.8</td>\n",
       "      <td>4.6</td>\n",
       "      <td>3.3</td>\n",
       "    </tr>\n",
       "    <tr>\n",
       "      <th>4767</th>\n",
       "      <td>Audi A3</td>\n",
       "      <td>Sedans</td>\n",
       "      <td>21500</td>\n",
       "      <td>NaN</td>\n",
       "      <td>11777.0</td>\n",
       "      <td>NaN</td>\n",
       "      <td>NaN</td>\n",
       "      <td>NaN</td>\n",
       "      <td>White</td>\n",
       "      <td>Metallic</td>\n",
       "      <td>...</td>\n",
       "      <td>85.0</td>\n",
       "      <td>Used</td>\n",
       "      <td>NaN</td>\n",
       "      <td>NaN</td>\n",
       "      <td>NaN</td>\n",
       "      <td>1598.0</td>\n",
       "      <td>1260.0</td>\n",
       "      <td>4.1</td>\n",
       "      <td>NaN</td>\n",
       "      <td>NaN</td>\n",
       "    </tr>\n",
       "    <tr>\n",
       "      <th>4115</th>\n",
       "      <td>Audi A3</td>\n",
       "      <td>Sedans</td>\n",
       "      <td>19000</td>\n",
       "      <td>NaN</td>\n",
       "      <td>48000.0</td>\n",
       "      <td>NaN</td>\n",
       "      <td>NaN</td>\n",
       "      <td>NaN</td>\n",
       "      <td>Grey</td>\n",
       "      <td>NaN</td>\n",
       "      <td>...</td>\n",
       "      <td>81.0</td>\n",
       "      <td>Used</td>\n",
       "      <td>NaN</td>\n",
       "      <td>NaN</td>\n",
       "      <td>NaN</td>\n",
       "      <td>1598.0</td>\n",
       "      <td>1335.0</td>\n",
       "      <td>4.0</td>\n",
       "      <td>4.7</td>\n",
       "      <td>3.6</td>\n",
       "    </tr>\n",
       "    <tr>\n",
       "      <th>11509</th>\n",
       "      <td>Opel Insignia</td>\n",
       "      <td>Station wagon</td>\n",
       "      <td>18950</td>\n",
       "      <td>NaN</td>\n",
       "      <td>35000.0</td>\n",
       "      <td>1.0</td>\n",
       "      <td>NaN</td>\n",
       "      <td>NaN</td>\n",
       "      <td>Grey</td>\n",
       "      <td>Metallic</td>\n",
       "      <td>...</td>\n",
       "      <td>125.0</td>\n",
       "      <td>Used</td>\n",
       "      <td>12.0</td>\n",
       "      <td>Part leather</td>\n",
       "      <td>Grey</td>\n",
       "      <td>NaN</td>\n",
       "      <td>NaN</td>\n",
       "      <td>5.0</td>\n",
       "      <td>6.0</td>\n",
       "      <td>4.0</td>\n",
       "    </tr>\n",
       "    <tr>\n",
       "      <th>89</th>\n",
       "      <td>Audi A1</td>\n",
       "      <td>Sedans</td>\n",
       "      <td>18490</td>\n",
       "      <td>VAT deductible</td>\n",
       "      <td>41900.0</td>\n",
       "      <td>1.0</td>\n",
       "      <td>04/2021</td>\n",
       "      <td>NaN</td>\n",
       "      <td>White</td>\n",
       "      <td>Metallic</td>\n",
       "      <td>...</td>\n",
       "      <td>92.0</td>\n",
       "      <td>Used</td>\n",
       "      <td>NaN</td>\n",
       "      <td>Part leather</td>\n",
       "      <td>Black</td>\n",
       "      <td>1395.0</td>\n",
       "      <td>NaN</td>\n",
       "      <td>5.1</td>\n",
       "      <td>6.6</td>\n",
       "      <td>4.3</td>\n",
       "    </tr>\n",
       "    <tr>\n",
       "      <th>15850</th>\n",
       "      <td>Renault Espace</td>\n",
       "      <td>Van</td>\n",
       "      <td>45890</td>\n",
       "      <td>NaN</td>\n",
       "      <td>500.0</td>\n",
       "      <td>NaN</td>\n",
       "      <td>NaN</td>\n",
       "      <td>NaN</td>\n",
       "      <td>Blue</td>\n",
       "      <td>NaN</td>\n",
       "      <td>...</td>\n",
       "      <td>147.0</td>\n",
       "      <td>Demonstration</td>\n",
       "      <td>60.0</td>\n",
       "      <td>NaN</td>\n",
       "      <td>NaN</td>\n",
       "      <td>1997.0</td>\n",
       "      <td>1765.0</td>\n",
       "      <td>5.4</td>\n",
       "      <td>NaN</td>\n",
       "      <td>NaN</td>\n",
       "    </tr>\n",
       "    <tr>\n",
       "      <th>15402</th>\n",
       "      <td>Renault Espace</td>\n",
       "      <td>Transporter</td>\n",
       "      <td>27990</td>\n",
       "      <td>VAT deductible</td>\n",
       "      <td>6700.0</td>\n",
       "      <td>NaN</td>\n",
       "      <td>NaN</td>\n",
       "      <td>NaN</td>\n",
       "      <td>Grey</td>\n",
       "      <td>Metallic</td>\n",
       "      <td>...</td>\n",
       "      <td>118.0</td>\n",
       "      <td>Used</td>\n",
       "      <td>NaN</td>\n",
       "      <td>NaN</td>\n",
       "      <td>NaN</td>\n",
       "      <td>1598.0</td>\n",
       "      <td>1734.0</td>\n",
       "      <td>4.7</td>\n",
       "      <td>5.1</td>\n",
       "      <td>4.4</td>\n",
       "    </tr>\n",
       "    <tr>\n",
       "      <th>15162</th>\n",
       "      <td>Renault Espace</td>\n",
       "      <td>Van</td>\n",
       "      <td>21990</td>\n",
       "      <td>VAT deductible</td>\n",
       "      <td>97506.0</td>\n",
       "      <td>NaN</td>\n",
       "      <td>NaN</td>\n",
       "      <td>NaN</td>\n",
       "      <td>Black</td>\n",
       "      <td>NaN</td>\n",
       "      <td>...</td>\n",
       "      <td>118.0</td>\n",
       "      <td>Used</td>\n",
       "      <td>6.0</td>\n",
       "      <td>NaN</td>\n",
       "      <td>NaN</td>\n",
       "      <td>NaN</td>\n",
       "      <td>NaN</td>\n",
       "      <td>4.6</td>\n",
       "      <td>NaN</td>\n",
       "      <td>NaN</td>\n",
       "    </tr>\n",
       "    <tr>\n",
       "      <th>14951</th>\n",
       "      <td>Renault Espace</td>\n",
       "      <td>Van</td>\n",
       "      <td>26900</td>\n",
       "      <td>NaN</td>\n",
       "      <td>NaN</td>\n",
       "      <td>NaN</td>\n",
       "      <td>NaN</td>\n",
       "      <td>NaN</td>\n",
       "      <td>Black</td>\n",
       "      <td>Uni/basic</td>\n",
       "      <td>...</td>\n",
       "      <td>118.0</td>\n",
       "      <td>Pre-registered</td>\n",
       "      <td>NaN</td>\n",
       "      <td>NaN</td>\n",
       "      <td>NaN</td>\n",
       "      <td>1598.0</td>\n",
       "      <td>1734.0</td>\n",
       "      <td>4.7</td>\n",
       "      <td>5.1</td>\n",
       "      <td>4.4</td>\n",
       "    </tr>\n",
       "  </tbody>\n",
       "</table></div>"
      ],
      "text/plain": [
       "           make_model      body_type  price             vat        km  \\\n",
       "2980          Audi A3  Station wagon  13500  VAT deductible  145000.0   \n",
       "885           Audi A1         Sedans  14900  VAT deductible   58000.0   \n",
       "4767          Audi A3         Sedans  21500             NaN   11777.0   \n",
       "4115          Audi A3         Sedans  19000             NaN   48000.0   \n",
       "11509   Opel Insignia  Station wagon  18950             NaN   35000.0   \n",
       "89            Audi A1         Sedans  18490  VAT deductible   41900.0   \n",
       "15850  Renault Espace            Van  45890             NaN     500.0   \n",
       "15402  Renault Espace    Transporter  27990  VAT deductible    6700.0   \n",
       "15162  Renault Espace            Van  21990  VAT deductible   97506.0   \n",
       "14951  Renault Espace            Van  26900             NaN       NaN   \n",
       "\n",
       "       previous_owners next_inspection inspection_new body_color paint_type  \\\n",
       "2980               1.0             NaN            Yes       Blue   Metallic   \n",
       "885                NaN             NaN            NaN        Red        NaN   \n",
       "4767               NaN             NaN            NaN      White   Metallic   \n",
       "4115               NaN             NaN            NaN       Grey        NaN   \n",
       "11509              1.0             NaN            NaN       Grey   Metallic   \n",
       "89                 1.0         04/2021            NaN      White   Metallic   \n",
       "15850              NaN             NaN            NaN       Blue        NaN   \n",
       "15402              NaN             NaN            NaN       Grey   Metallic   \n",
       "15162              NaN             NaN            NaN      Black        NaN   \n",
       "14951              NaN             NaN            NaN      Black  Uni/basic   \n",
       "\n",
       "       ...  hp_kw            type warranty_months  upholstery_type  \\\n",
       "2980   ...  110.0            Used             NaN            Cloth   \n",
       "885    ...   85.0            Used            12.0            Cloth   \n",
       "4767   ...   85.0            Used             NaN              NaN   \n",
       "4115   ...   81.0            Used             NaN              NaN   \n",
       "11509  ...  125.0            Used            12.0     Part leather   \n",
       "89     ...   92.0            Used             NaN     Part leather   \n",
       "15850  ...  147.0   Demonstration            60.0              NaN   \n",
       "15402  ...  118.0            Used             NaN              NaN   \n",
       "15162  ...  118.0            Used             6.0              NaN   \n",
       "14951  ...  118.0  Pre-registered             NaN              NaN   \n",
       "\n",
       "      upholstery_color displacement_cc weight_kg  cons_comb cons_city  \\\n",
       "2980             Black          1968.0       NaN        4.4       5.2   \n",
       "885               Grey          1598.0    1250.0        3.8       4.6   \n",
       "4767               NaN          1598.0    1260.0        4.1       NaN   \n",
       "4115               NaN          1598.0    1335.0        4.0       4.7   \n",
       "11509             Grey             NaN       NaN        5.0       6.0   \n",
       "89               Black          1395.0       NaN        5.1       6.6   \n",
       "15850              NaN          1997.0    1765.0        5.4       NaN   \n",
       "15402              NaN          1598.0    1734.0        4.7       5.1   \n",
       "15162              NaN             NaN       NaN        4.6       NaN   \n",
       "14951              NaN          1598.0    1734.0        4.7       5.1   \n",
       "\n",
       "      cons_country  \n",
       "2980           4.0  \n",
       "885            3.3  \n",
       "4767           NaN  \n",
       "4115           3.6  \n",
       "11509          4.0  \n",
       "89             4.3  \n",
       "15850          NaN  \n",
       "15402          4.4  \n",
       "15162          NaN  \n",
       "14951          4.4  \n",
       "\n",
       "[10 rows x 35 columns]"
      ]
     },
     "execution_count": 326,
     "metadata": {},
     "output_type": "execute_result"
    }
   ],
   "source": [
    "df2.sample(10)"
   ]
  },
  {
   "cell_type": "code",
   "execution_count": null,
   "metadata": {},
   "outputs": [],
   "source": []
  },
  {
   "cell_type": "code",
   "execution_count": null,
   "metadata": {},
   "outputs": [],
   "source": []
  },
  {
   "cell_type": "code",
   "execution_count": null,
   "metadata": {},
   "outputs": [],
   "source": []
  },
  {
   "cell_type": "code",
   "execution_count": null,
   "metadata": {},
   "outputs": [],
   "source": []
  },
  {
   "cell_type": "markdown",
   "metadata": {
    "id": "uGeKSdYds1MD"
   },
   "source": [
    "# PART- 2 `( Handling With Missing Vales )`"
   ]
  },
  {
   "cell_type": "code",
   "execution_count": null,
   "metadata": {
    "id": "WDZnqBhbs1ME"
   },
   "outputs": [],
   "source": []
  },
  {
   "cell_type": "markdown",
   "metadata": {
    "id": "gPPdPAu5s1ME"
   },
   "source": [
    "# PART- 3 `( Handling With Outliers )`"
   ]
  },
  {
   "cell_type": "code",
   "execution_count": null,
   "metadata": {
    "id": "Is4HLjHWs1MF"
   },
   "outputs": [],
   "source": []
  },
  {
   "cell_type": "markdown",
   "metadata": {
    "id": "EKxmsgfts1MG"
   },
   "source": [
    "# Final Step (Checking final situation of data via graphs)"
   ]
  },
  {
   "cell_type": "code",
   "execution_count": null,
   "metadata": {
    "id": "8mgL_Bd0s1MG"
   },
   "outputs": [],
   "source": []
  },
  {
   "cell_type": "markdown",
   "metadata": {
    "id": "2PgUVPoes1MH"
   },
   "source": [
    "## Export dataframe to csv file (without dummy)"
   ]
  },
  {
   "cell_type": "code",
   "execution_count": null,
   "metadata": {
    "id": "Byg_o2ZMs1MI"
   },
   "outputs": [],
   "source": [
    "df.to_csv(\"final_scout_not_dummy.csv\", index=False)"
   ]
  },
  {
   "cell_type": "markdown",
   "metadata": {
    "id": "hrw9hr-3s1MJ"
   },
   "source": [
    "# Dummy Operation"
   ]
  },
  {
   "cell_type": "code",
   "execution_count": null,
   "metadata": {
    "id": "faDyWTC9s1MJ"
   },
   "outputs": [],
   "source": []
  },
  {
   "cell_type": "markdown",
   "metadata": {
    "id": "DUOdihlqs1MJ"
   },
   "source": [
    "## Export dataframe to csv file (dummy)"
   ]
  },
  {
   "cell_type": "code",
   "execution_count": null,
   "metadata": {
    "id": "IJT7Yl1Us1MK"
   },
   "outputs": [],
   "source": [
    "df_dummied.to_csv(\"final_scout_dummy.csv\", index=False)"
   ]
  }
 ],
 "metadata": {
  "colab": {
   "name": "DAwPy-Capstone_Project_(AutoScout)_Student.ipynb",
   "provenance": []
  },
  "kernelspec": {
   "display_name": "Python 3 (ipykernel)",
   "language": "python",
   "name": "python3"
  },
  "language_info": {
   "codemirror_mode": {
    "name": "ipython",
    "version": 3
   },
   "file_extension": ".py",
   "mimetype": "text/x-python",
   "name": "python",
   "nbconvert_exporter": "python",
   "pygments_lexer": "ipython3",
   "version": "3.10.2"
  },
  "toc": {
   "base_numbering": 1,
   "nav_menu": {},
   "number_sections": false,
   "sideBar": true,
   "skip_h1_title": false,
   "title_cell": "Table of Contents",
   "title_sidebar": "Contents",
   "toc_cell": false,
   "toc_position": {},
   "toc_section_display": true,
   "toc_window_display": false
  },
  "vscode": {
   "interpreter": {
    "hash": "98584c38ed116f8b73e30908de65f58faa33dc16850ade785a44bbf161aefee9"
   }
  }
 },
 "nbformat": 4,
 "nbformat_minor": 4
}
